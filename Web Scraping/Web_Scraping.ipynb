{
  "nbformat": 4,
  "nbformat_minor": 0,
  "metadata": {
    "colab": {
      "name": "Web_Scraping.ipynb",
      "provenance": [],
      "collapsed_sections": [],
      "toc_visible": true,
      "include_colab_link": true
    },
    "kernelspec": {
      "name": "python3",
      "display_name": "Python 3"
    }
  },
  "cells": [
    {
      "cell_type": "markdown",
      "metadata": {
        "id": "view-in-github",
        "colab_type": "text"
      },
      "source": [
        "<a href=\"https://colab.research.google.com/github/JuniorGunner/DataScience/blob/master/Web%20Scraping/Web_Scraping.ipynb\" target=\"_parent\"><img src=\"https://colab.research.google.com/assets/colab-badge.svg\" alt=\"Open In Colab\"/></a>"
      ]
    },
    {
      "cell_type": "markdown",
      "metadata": {
        "id": "AZnbyFkSwi8y",
        "colab_type": "text"
      },
      "source": [
        "# Web Scraping - Beautiful Soup"
      ]
    },
    {
      "cell_type": "code",
      "metadata": {
        "id": "76MANR6-wtnL",
        "colab_type": "code",
        "outputId": "57522bf1-c00b-4adb-ff1b-4b73c69d5efd",
        "colab": {
          "base_uri": "https://localhost:8080/",
          "height": 72
        }
      },
      "source": [
        "import bs4\n",
        "import urllib.request as urllib_request\n",
        "import pandas as pd\n",
        "\n",
        "print(\"Beautiful Soup -> \", bs4.__version__)\n",
        "print(\"urllib -> \", urllib_request.__version__)\n",
        "print(\"Pandas -> \", pd.__version__)"
      ],
      "execution_count": 1,
      "outputs": [
        {
          "output_type": "stream",
          "text": [
            "Beautiful Soup ->  4.6.3\n",
            "urllib ->  3.6\n",
            "Pandas ->  0.25.3\n"
          ],
          "name": "stdout"
        }
      ]
    },
    {
      "cell_type": "markdown",
      "metadata": {
        "id": "d3sFWivyx1nZ",
        "colab_type": "text"
      },
      "source": [
        "## 01. Primeiro Scraping"
      ]
    },
    {
      "cell_type": "code",
      "metadata": {
        "id": "S3pDS1Nyx88m",
        "colab_type": "code",
        "outputId": "c90ae53f-fefc-44c3-964a-9037e390a82f",
        "colab": {
          "base_uri": "https://localhost:8080/",
          "height": 0
        }
      },
      "source": [
        "from urllib.request import urlopen\n",
        "from bs4 import BeautifulSoup as bs\n",
        "\n",
        "url = 'https://alura-site-scraping.herokuapp.com/hello-world.php'\n",
        "\n",
        "response = urlopen(url) # Acessa URL\n",
        "html = response.read() # Lê HTML\n",
        "\n",
        "html"
      ],
      "execution_count": 2,
      "outputs": [
        {
          "output_type": "execute_result",
          "data": {
            "text/plain": [
              "b'<!DOCTYPE html>\\r\\n<html lang=\"pt-br\">\\r\\n<head>\\r\\n    <meta charset=\"utf-8\">\\r\\n    <meta name=\"viewport\" content=\"width=device-width, initial-scale=1, shrink-to-fit=no\">\\r\\n\\r\\n    <title>Alura Motors</title>\\r\\n\\t<link rel=\"stylesheet\" href=\"https://maxcdn.bootstrapcdn.com/bootstrap/3.3.7/css/bootstrap.min.css\" integrity=\"sha384-BVYiiSIFeK1dGmJRAkycuHAHRg32OmUcww7on3RYdg4Va+PmSTsz/K68vbdEjh4u\" crossorigin=\"anonymous\">\\r\\n\\t<link rel=\"stylesheet\" href=\"css/styles.css\" media=\"all\">\\r\\n\\r\\n\\t<script src=\"https://code.jquery.com/jquery-1.12.4.js\"></script>\\r\\n\\t<script src=\"https://maxcdn.bootstrapcdn.com/bootstrap/3.3.7/js/bootstrap.min.js\" integrity=\"sha384-Tc5IQib027qvyjSMfHjOMaLkfuWVxZxUPnCJA7l2mCWNIpG9mGCD8wGNIcPD7Txa\" crossorigin=\"anonymous\"></script>\\r\\n\\t<script type=\"text/javascript\" src=\"js/index.js\"></script>\\r\\n\\r\\n</head>\\r\\n<body cz-shortcut-listen=\"true\">\\r\\n    <noscript>You need to enable JavaScript to run this app.</noscript>\\r\\n\\r\\n    <div id=\"root\">\\r\\n        <header>\\r\\n            <nav class=\"navbar navbar-inverse\" style=\"margin-bottom: 0;\">\\r\\n                <div class=\"container\" style=\"margin-bottom: -20px;\">\\r\\n                    <div class=\"navbar\">\\r\\n                        <a href=\"./index.php\" class=\"navbar-brand\" title=\"Alura Motors\">\\r\\n                            <img src=\"img/alura-logo.svg\" class=\"d-inline-block align-top\" alt=\"Alura\">Motors\\r\\n                        </a>\\r\\n                        <ul class=\"nav navbar-nav\" style=\"margin-top: 35px;\">\\r\\n                            <li><a href=\"./hello-world.php\">Hello World</a></li>\\r\\n                            <li><a href=\"./index.php\">An\\xc3\\xbancios</a></li>\\r\\n                        </ul>\\r\\n                    </div>\\r\\n                </div>\\r\\n            </nav>\\r\\n        </header>\\r\\n\\r\\n\\t\\t<div class=\"container\">\\r\\n\\t\\t\\t<h1 class=\"sub-header\">Curso de Web Scraping</h1>\\r\\n\\t\\t\\t<div class=\"row\">\\r\\n\\t\\t\\t\\t<div class=\"col-md-12\">\\r\\n\\t\\t\\t\\t\\t<div class=\"container\" style=\"width: 100%;\">\\r\\n                <h1 id=\"hello-world\">Hello World!!!</h1>\\r\\n                <p class=\"definition\"><b>Web Scraping</b> \\xc3\\xa9 o termo utilizado para definir a pr\\xc3\\xa1tica de coletar automaticamente informa\\xc3\\xa7\\xc3\\xb5es na Internet. Isto \\xc3\\xa9 feito, geralmente, por meio de programas que simulam a navega\\xc3\\xa7\\xc3\\xa3o humana na Web.</p>\\r\\n\\t\\t\\t\\t\\t</div>\\r\\n\\t\\t\\t\\t</div>\\r\\n\\t\\t\\t</div>\\r\\n\\t\\t</div>\\r\\n\\r\\n\\t\\t<footer id=\"footer\">\\r\\n\\t\\t\\t<nav class=\"navbar navbar-inverse\">\\r\\n\\t\\t\\t\\t<div class=\"container\" style=\"margin-bottom: 10px;\">\\r\\n\\t\\t\\t\\t\\t<div class=\"navbar\">\\r\\n\\t\\t\\t\\t\\t\\t<a href=\"./index.php\" class=\"navbar-brand\" title=\"Alura Motors\">\\r\\n\\t\\t\\t\\t\\t\\t\\t<img src=\"img/alura-logo.svg\" class=\"d-inline-block align-top\" alt=\"Alura\">Motors\\r\\n\\t\\t\\t\\t\\t\\t</a>\\r\\n\\t\\t\\t\\t\\t\\t<p style=\"color: #fff; text-align: center; margin-top: 40px;\">Aplica\\xc3\\xa7\\xc3\\xa3o para treinamento de web scraping</p>\\r\\n\\t\\t\\t\\t\\t</div>\\r\\n\\t\\t\\t\\t</div>\\r\\n\\t\\t\\t</nav>\\r\\n   </footer>\\r\\n\\r\\n\\t</div>\\r\\n\\r\\n</body>\\r\\n</html>\\r\\n'"
            ]
          },
          "metadata": {
            "tags": []
          },
          "execution_count": 2
        }
      ]
    },
    {
      "cell_type": "code",
      "metadata": {
        "id": "ta-iC0i9yl3d",
        "colab_type": "code",
        "outputId": "67043ace-2edf-4bdf-d4fc-c33dcd4682f9",
        "colab": {
          "base_uri": "https://localhost:8080/",
          "height": 0
        }
      },
      "source": [
        "soup = bs(html, 'html.parser')\n",
        "\n",
        "soup.find('h1', id='hello-world')"
      ],
      "execution_count": 3,
      "outputs": [
        {
          "output_type": "execute_result",
          "data": {
            "text/plain": [
              "<h1 id=\"hello-world\">Hello World!!!</h1>"
            ]
          },
          "metadata": {
            "tags": []
          },
          "execution_count": 3
        }
      ]
    },
    {
      "cell_type": "code",
      "metadata": {
        "id": "km3HGmxjy4zS",
        "colab_type": "code",
        "outputId": "3e54aef9-b590-48b4-82f6-ff2f695edbbe",
        "colab": {
          "base_uri": "https://localhost:8080/",
          "height": 0
        }
      },
      "source": [
        "soup.find('h1', id='hello-world').get_text()"
      ],
      "execution_count": 4,
      "outputs": [
        {
          "output_type": "execute_result",
          "data": {
            "text/plain": [
              "'Hello World!!!'"
            ]
          },
          "metadata": {
            "tags": []
          },
          "execution_count": 4
        }
      ]
    },
    {
      "cell_type": "markdown",
      "metadata": {
        "id": "0O7Xcw3gzM7I",
        "colab_type": "text"
      },
      "source": [
        "## 02. Obtendo o conteúdo HTML"
      ]
    },
    {
      "cell_type": "code",
      "metadata": {
        "id": "_mi1VXNazX93",
        "colab_type": "code",
        "outputId": "b3774759-7283-4dd3-802c-07d0793b163d",
        "colab": {
          "base_uri": "https://localhost:8080/",
          "height": 0
        }
      },
      "source": [
        "from urllib.request import Request\n",
        "from urllib.error import URLError, HTTPError\n",
        "\n",
        "url = 'https://alura-site-scraping.herokuapp.com/index.php'\n",
        "\n",
        "response = urlopen(url)\n",
        "html = response.read()\n",
        "\n",
        "html"
      ],
      "execution_count": 5,
      "outputs": [
        {
          "output_type": "execute_result",
          "data": {
            "text/plain": [
              "b'<!DOCTYPE html>\\r\\n<html lang=\"pt-br\">\\r\\n<head>\\r\\n    <meta charset=\"utf-8\">\\r\\n    <meta name=\"viewport\" content=\"width=device-width, initial-scale=1, shrink-to-fit=no\">\\r\\n\\r\\n    <title>Alura Motors</title>\\r\\n\\r\\n\\t<style>\\r\\n\\t\\t/*Regra para a animacao*/\\r\\n\\t\\t@keyframes spin {\\r\\n\\t\\t\\t0% { transform: rotate(0deg); }\\r\\n\\t\\t\\t100% { transform: rotate(360deg); }\\r\\n\\t\\t}\\r\\n\\t\\t/*Mudando o tamanho do icone de resposta*/\\r\\n\\t\\tdiv.glyphicon {\\r\\n\\t\\t\\tcolor:#6B8E23;\\r\\n\\t\\t\\tfont-size: 38px;\\r\\n\\t\\t}\\r\\n\\t\\t/*Classe que mostra a animacao \\'spin\\'*/\\r\\n\\t\\t.loader {\\r\\n\\t\\t\\tborder: 16px solid #f3f3f3;\\r\\n\\t\\t\\tborder-radius: 50%;\\r\\n\\t\\t\\tborder-top: 16px solid #3498db;\\r\\n\\t\\t\\twidth: 80px;\\r\\n\\t\\t\\theight: 80px;\\r\\n\\t\\t\\t-webkit-animation: spin 2s linear infinite;\\r\\n\\t\\t\\tanimation: spin 2s linear infinite;\\r\\n\\t\\t}\\r\\n\\t</style>\\r\\n\\t<link rel=\"stylesheet\" href=\"https://maxcdn.bootstrapcdn.com/bootstrap/3.3.7/css/bootstrap.min.css\" integrity=\"sha384-BVYiiSIFeK1dGmJRAkycuHAHRg32OmUcww7on3RYdg4Va+PmSTsz/K68vbdEjh4u\" crossorigin=\"anonymous\">\\r\\n\\t<link rel=\"stylesheet\" href=\"css/styles.css\" media=\"all\">\\r\\n\\r\\n\\t<script src=\"https://code.jquery.com/jquery-1.12.4.js\"></script>\\r\\n\\t<script src=\"https://maxcdn.bootstrapcdn.com/bootstrap/3.3.7/js/bootstrap.min.js\" integrity=\"sha384-Tc5IQib027qvyjSMfHjOMaLkfuWVxZxUPnCJA7l2mCWNIpG9mGCD8wGNIcPD7Txa\" crossorigin=\"anonymous\"></script>\\r\\n\\t<script type=\"text/javascript\" src=\"js/index.js\"></script>\\r\\n\\t<script>\\r\\n\\t\\trequisitar(\"https://alura-scraping.herokuapp.com/produtos?_page=\"+1+\"&_limit=10\")\\r\\n\\t</script>\\r\\n\\r\\n</head>\\r\\n<body cz-shortcut-listen=\"true\">\\r\\n    <noscript>You need to enable JavaScript to run this app.</noscript>\\r\\n\\r\\n\\t<div class=\"modal fade\" data-backdrop=\"static\" id=\"loadingModal\" tabindex=\"-1\" role=\"dialog\" aria-labelledby=\"loadingModal_label\">\\r\\n\\t\\t<div class=\"modal-dialog\" role=\"document\">\\r\\n\\t\\t\\t<div class=\"modal-content\">\\r\\n\\t\\t\\t\\t<div class=\"modal-header\">\\r\\n\\t\\t\\t\\t\\t<h5 class=\"modal-title\" id=\"loadingModal_label\">\\r\\n\\t\\t\\t\\t\\t\\t<span class=\"glyphicon glyphicon-refresh\"></span>Aguarde...\\r\\n\\t\\t\\t\\t\\t</h5>\\r\\n\\t\\t\\t\\t</div>\\r\\n\\t\\t\\t\\t<div class=\"modal-body\">\\r\\n\\t\\t\\t\\t\\t<div class=\\'alert\\' role=\\'alert\\'>\\r\\n\\t\\t\\t\\t\\t\\t<center>\\r\\n\\t\\t\\t\\t\\t\\t\\t<div class=\"loader\" id=\"loader\"></div><br>\\r\\n\\t\\t\\t\\t\\t\\t\\t<h4><b id=\"loadingModal_content\"></b></h4>\\r\\n\\t\\t\\t\\t\\t\\t</center>\\r\\n\\t\\t\\t\\t\\t</div>\\r\\n\\t\\t\\t\\t</div>\\r\\n\\t\\t\\t</div>\\r\\n\\t\\t</div>\\r\\n\\t</div>\\r\\n\\r\\n    <div id=\"root\">\\r\\n\\t\\t<header>\\r\\n\\t\\t\\t<nav class=\"navbar navbar-inverse\" style=\"margin-bottom: 0;\">\\r\\n\\t\\t\\t\\t<div class=\"container\" style=\"margin-bottom: -20px;\">\\r\\n\\t\\t\\t\\t\\t<div class=\"navbar\">\\r\\n\\t\\t\\t\\t\\t\\t<a href=\"./index.php\" class=\"navbar-brand\" title=\"Alura Motors\">\\r\\n\\t\\t\\t\\t\\t\\t\\t<img src=\"img/alura-logo.svg\" class=\"d-inline-block align-top\" alt=\"Alura\">Motors\\r\\n\\t\\t\\t\\t\\t\\t</a>\\r\\n\\t\\t\\t\\t\\t\\t<ul class=\"nav navbar-nav\" style=\"margin-top: 35px;\">\\r\\n\\t\\t\\t\\t\\t\\t\\t<li><a href=\"./hello-world.php\">Hello World</a></li>\\r\\n\\t\\t\\t\\t\\t\\t\\t<li><a href=\"./index.php\">An\\xc3\\xbancios</a></li>\\r\\n\\t\\t\\t\\t\\t\\t</ul>\\r\\n\\t\\t\\t\\t\\t</div>\\r\\n\\t\\t\\t\\t</div>\\r\\n\\t\\t\\t</nav>\\r\\n\\t\\t</header>\\r\\n\\r\\n\\t\\t<div class=\"container\">\\r\\n\\t\\t\\t<h1 class=\"sub-header\">Ve\\xc3\\xadculos de Luxo Novos e Usados - Todas as Marcas</h1>\\r\\n\\t\\t\\t<div class=\"row\">\\r\\n\\t\\t\\t\\t<div class=\"col-md-12\">\\r\\n\\t\\t\\t\\t\\t<div class=\"container\" style=\"width: 100%\">\\r\\n\\t\\t\\t\\t\\t\\t<div class=\"type-select\">246 ve\\xc3\\xadculos encontrados</div>\\r\\n\\t\\t\\t\\t\\t\\t\\t<div class=\"container-pagination\" style=\"float: right\">\\r\\n\\t\\t\\t\\t\\t\\t\\t\\t<span class=\"info-pages\">P\\xc3\\xa1gina 1 de 25</span>\\r\\n\\t\\t\\t\\t\\t\\t\\t</div>\\r\\n\\t\\t\\t\\t\\t\\t</div>\\r\\n\\t\\t\\t\\t\\t\\t<div id=\"container-cards\" style=\"height: 100%\">\\r\\n\\t\\t\\t\\t\\t\\t\\t\\r\\n                <div class=\"well card\">\\r\\n                    <div class=\"col-md-3 image-card\">\\r\\n                        <img width=\"220\" height=\"155\" alt=\"Foto\" src=\"https://caelum-online-public.s3.amazonaws.com/1381-scraping/01/img-cars/lamborghini-aventador/lamborghini-aventador-2932196__340.jpg\">\\r\\n                    </div>\\r\\n                    <div class=\"col-md-6 body-card\">\\r\\n                        <p class=\"txt-name inline\">LAMBORGHINI AVENTADOR</p>\\r\\n                            <p class=\"txt-category badge badge-secondary inline\">USADO</p>\\r\\n                            \\r\\n                        <p class=\"txt-motor\">Motor 1.8 16v</p>\\r\\n                        <p class=\"txt-description\">Ano 1993 - 55.286 km</p>\\r\\n                        <ul class=\"lst-items\">\\r\\n                            <li class=\"txt-items\">\\xe2\\x96\\xba 4 X 4</li>\\r\\n                            <li class=\"txt-items\">\\xe2\\x96\\xba C\\xc3\\xa2mera de estacionamento</li>\\r\\n                            <li class=\"txt-items\">\\xe2\\x96\\xba Controle de tra\\xc3\\xa7\\xc3\\xa3o</li>\\r\\n                            <li class=\"txt-items\">\\xe2\\x96\\xba Sensor de estacionamento</li>\\r\\n                            <li class=\"txt-items\">...</li>\\r\\n                        </ul>\\r\\n                        <p class=\"txt-location\">Belo Horizonte - MG</p>\\r\\n                    </div>\\r\\n                    <div class=\"col-md-3 value-card\">\\r\\n                        <div class=\"value\">\\r\\n                            <p class=\"txt-value\">R$ 338.000</p>\\r\\n                        </div>\\r\\n                    </div>\\r\\n                </div>\\r\\n                <div class=\"well card\">\\r\\n                    <div class=\"col-md-3 image-card\">\\r\\n                        <img width=\"220\" height=\"155\" alt=\"Foto\" src=\"https://caelum-online-public.s3.amazonaws.com/1381-scraping/01/img-cars/bmw-m2/bmw-m2-2970882__340.jpg\">\\r\\n                    </div>\\r\\n                    <div class=\"col-md-6 body-card\">\\r\\n                        <p class=\"txt-name inline\">BMW M2</p>\\r\\n                            <p class=\"txt-category badge badge-secondary inline\">USADO</p>\\r\\n                            \\r\\n                        <p class=\"txt-motor\">Motor 3.0 32v</p>\\r\\n                        <p class=\"txt-description\">Ano 2018 - 83.447 km</p>\\r\\n                        <ul class=\"lst-items\">\\r\\n                            <li class=\"txt-items\">\\xe2\\x96\\xba C\\xc3\\xa2mera de estacionamento</li>\\r\\n                            <li class=\"txt-items\">\\xe2\\x96\\xba Controle de estabilidade</li>\\r\\n                            <li class=\"txt-items\">\\xe2\\x96\\xba Travas el\\xc3\\xa9tricas</li>\\r\\n                            <li class=\"txt-items\">\\xe2\\x96\\xba Freios ABS</li>\\r\\n                            <li class=\"txt-items\">...</li>\\r\\n                        </ul>\\r\\n                        <p class=\"txt-location\">Belo Horizonte - MG</p>\\r\\n                    </div>\\r\\n                    <div class=\"col-md-3 value-card\">\\r\\n                        <div class=\"value\">\\r\\n                            <p class=\"txt-value\">R$ 346.000</p>\\r\\n                        </div>\\r\\n                    </div>\\r\\n                </div>\\r\\n                <div class=\"well card\">\\r\\n                    <div class=\"col-md-3 image-card\">\\r\\n                        <img width=\"220\" height=\"155\" alt=\"Foto\" src=\"https://caelum-online-public.s3.amazonaws.com/1381-scraping/01/img-cars/alfa/alfa-1823056__340.jpg\">\\r\\n                    </div>\\r\\n                    <div class=\"col-md-6 body-card\">\\r\\n                        <p class=\"txt-name inline\">ALFA</p>\\r\\n                            <p class=\"txt-category badge badge-secondary inline\">USADO</p>\\r\\n                            \\r\\n                        <p class=\"txt-motor\">Motor 1.8 16v</p>\\r\\n                        <p class=\"txt-description\">Ano 2004 - 19.722 km</p>\\r\\n                        <ul class=\"lst-items\">\\r\\n                            <li class=\"txt-items\">\\xe2\\x96\\xba Central multim\\xc3\\xaddia</li>\\r\\n                            <li class=\"txt-items\">\\xe2\\x96\\xba Bancos de couro</li>\\r\\n                            <li class=\"txt-items\">\\xe2\\x96\\xba Rodas de liga</li>\\r\\n                            <li class=\"txt-items\">\\xe2\\x96\\xba C\\xc3\\xa2mera de estacionamento</li>\\r\\n                            <li class=\"txt-items\">...</li>\\r\\n                        </ul>\\r\\n                        <p class=\"txt-location\">Rio de Janeiro - RJ</p>\\r\\n                    </div>\\r\\n                    <div class=\"col-md-3 value-card\">\\r\\n                        <div class=\"value\">\\r\\n                            <p class=\"txt-value\">R$ 480.000</p>\\r\\n                        </div>\\r\\n                    </div>\\r\\n                </div>\\r\\n                <div class=\"well card\">\\r\\n                    <div class=\"col-md-3 image-card\">\\r\\n                        <img width=\"220\" height=\"155\" alt=\"Foto\" src=\"https://caelum-online-public.s3.amazonaws.com/1381-scraping/01/img-cars/puech/puech-4055386__340.jpg\">\\r\\n                    </div>\\r\\n                    <div class=\"col-md-6 body-card\">\\r\\n                        <p class=\"txt-name inline\">PUECH</p>\\r\\n                            <p class=\"txt-category badge badge-secondary inline\">USADO</p>\\r\\n                            \\r\\n                        <p class=\"txt-motor\">Motor Diesel V8</p>\\r\\n                        <p class=\"txt-description\">Ano 1992 - 34.335 km</p>\\r\\n                        <ul class=\"lst-items\">\\r\\n                            <li class=\"txt-items\">\\xe2\\x96\\xba Bancos de couro</li>\\r\\n                            <li class=\"txt-items\">\\xe2\\x96\\xba Freios ABS</li>\\r\\n                            <li class=\"txt-items\">\\xe2\\x96\\xba Rodas de liga</li>\\r\\n                            <li class=\"txt-items\">\\xe2\\x96\\xba C\\xc3\\xa2mbio autom\\xc3\\xa1tico</li>\\r\\n                            <li class=\"txt-items\">...</li>\\r\\n                        </ul>\\r\\n                        <p class=\"txt-location\">S\\xc3\\xa3o Paulo - SP</p>\\r\\n                    </div>\\r\\n                    <div class=\"col-md-3 value-card\">\\r\\n                        <div class=\"value\">\\r\\n                            <p class=\"txt-value\">R$ 133.000</p>\\r\\n                        </div>\\r\\n                    </div>\\r\\n                </div>\\r\\n                <div class=\"well card\">\\r\\n                    <div class=\"col-md-3 image-card\">\\r\\n                        <img width=\"220\" height=\"155\" alt=\"Foto\" src=\"https://caelum-online-public.s3.amazonaws.com/1381-scraping/01/img-cars/lamborghini-murcielago/lamborghini-murcielago-2872974__340.jpg\">\\r\\n                    </div>\\r\\n                    <div class=\"col-md-6 body-card\">\\r\\n                        <p class=\"txt-name inline\">LAMBORGHINI MURCIELAGO</p>\\r\\n                            <p class=\"txt-category badge badge-secondary inline\">USADO</p>\\r\\n                            \\r\\n                        <p class=\"txt-motor\">Motor 1.0 8v</p>\\r\\n                        <p class=\"txt-description\">Ano 1991 - 464 km</p>\\r\\n                        <ul class=\"lst-items\">\\r\\n                            <li class=\"txt-items\">\\xe2\\x96\\xba Central multim\\xc3\\xaddia</li>\\r\\n                            <li class=\"txt-items\">\\xe2\\x96\\xba Teto panor\\xc3\\xa2mico</li>\\r\\n                            <li class=\"txt-items\">\\xe2\\x96\\xba Sensor crepuscular</li>\\r\\n                            <li class=\"txt-items\">\\xe2\\x96\\xba Piloto autom\\xc3\\xa1tico</li>\\r\\n                            <li class=\"txt-items\">...</li>\\r\\n                        </ul>\\r\\n                        <p class=\"txt-location\">Belo Horizonte - MG</p>\\r\\n                    </div>\\r\\n                    <div class=\"col-md-3 value-card\">\\r\\n                        <div class=\"value\">\\r\\n                            <p class=\"txt-value\">R$ 175.000</p>\\r\\n                        </div>\\r\\n                    </div>\\r\\n                </div>\\r\\n                <div class=\"well card\">\\r\\n                    <div class=\"col-md-3 image-card\">\\r\\n                        <img width=\"220\" height=\"155\" alt=\"Foto\" src=\"https://caelum-online-public.s3.amazonaws.com/1381-scraping/01/img-cars/aston-martin/aston-martin-2977916__340.jpg\">\\r\\n                    </div>\\r\\n                    <div class=\"col-md-6 body-card\">\\r\\n                        <p class=\"txt-name inline\">ASTON MARTIN</p>\\r\\n                            <p class=\"txt-category badge badge-secondary inline\">USADO</p>\\r\\n                            <p class=\"txt-opportunity badge badge-danger inline\">OPORTUNIDADE</p>\\r\\n                        <p class=\"txt-motor\">Motor Diesel V6</p>\\r\\n                        <p class=\"txt-description\">Ano 2004 - 50.189 km</p>\\r\\n                        <ul class=\"lst-items\">\\r\\n                            <li class=\"txt-items\">\\xe2\\x96\\xba Painel digital</li>\\r\\n                            <li class=\"txt-items\">\\xe2\\x96\\xba Controle de tra\\xc3\\xa7\\xc3\\xa3o</li>\\r\\n                            <li class=\"txt-items\">\\xe2\\x96\\xba Teto panor\\xc3\\xa2mico</li>\\r\\n                            <li class=\"txt-items\">\\xe2\\x96\\xba Central multim\\xc3\\xaddia</li>\\r\\n                            <li class=\"txt-items\">...</li>\\r\\n                        </ul>\\r\\n                        <p class=\"txt-location\">Belo Horizonte - MG</p>\\r\\n                    </div>\\r\\n                    <div class=\"col-md-3 value-card\">\\r\\n                        <div class=\"value\">\\r\\n                            <p class=\"txt-value\">R$ 239.000</p>\\r\\n                        </div>\\r\\n                    </div>\\r\\n                </div>\\r\\n                <div class=\"well card\">\\r\\n                    <div class=\"col-md-3 image-card\">\\r\\n                        <img width=\"220\" height=\"155\" alt=\"Foto\" src=\"https://caelum-online-public.s3.amazonaws.com/1381-scraping/01/img-cars/tvr/tvr-2943925__340.jpg\">\\r\\n                    </div>\\r\\n                    <div class=\"col-md-6 body-card\">\\r\\n                        <p class=\"txt-name inline\">TVR</p>\\r\\n                            <p class=\"txt-category badge badge-secondary inline\">USADO</p>\\r\\n                            \\r\\n                        <p class=\"txt-motor\">Motor 4.0 Turbo</p>\\r\\n                        <p class=\"txt-description\">Ano 2014 - 17.778 km</p>\\r\\n                        <ul class=\"lst-items\">\\r\\n                            <li class=\"txt-items\">\\xe2\\x96\\xba 4 X 4</li>\\r\\n                            <li class=\"txt-items\">\\xe2\\x96\\xba Teto panor\\xc3\\xa2mico</li>\\r\\n                            <li class=\"txt-items\">\\xe2\\x96\\xba Central multim\\xc3\\xaddia</li>\\r\\n                            <li class=\"txt-items\">\\xe2\\x96\\xba Controle de estabilidade</li>\\r\\n                            <li class=\"txt-items\">...</li>\\r\\n                        </ul>\\r\\n                        <p class=\"txt-location\">Belo Horizonte - MG</p>\\r\\n                    </div>\\r\\n                    <div class=\"col-md-3 value-card\">\\r\\n                        <div class=\"value\">\\r\\n                            <p class=\"txt-value\">R$ 115.000</p>\\r\\n                        </div>\\r\\n                    </div>\\r\\n                </div>\\r\\n                <div class=\"well card\">\\r\\n                    <div class=\"col-md-3 image-card\">\\r\\n                        <img width=\"220\" height=\"155\" alt=\"Foto\" src=\"https://caelum-online-public.s3.amazonaws.com/1381-scraping/01/img-cars/excalibur/excalibur-2916730__340.jpg\">\\r\\n                    </div>\\r\\n                    <div class=\"col-md-6 body-card\">\\r\\n                        <p class=\"txt-name inline\">EXCALIBUR</p>\\r\\n                            <p class=\"txt-category badge badge-secondary inline\">USADO</p>\\r\\n                            \\r\\n                        <p class=\"txt-motor\">Motor 3.0 32v</p>\\r\\n                        <p class=\"txt-description\">Ano 2009 - 81.251 km</p>\\r\\n                        <ul class=\"lst-items\">\\r\\n                            <li class=\"txt-items\">\\xe2\\x96\\xba Painel digital</li>\\r\\n                            <li class=\"txt-items\">\\xe2\\x96\\xba C\\xc3\\xa2mbio autom\\xc3\\xa1tico</li>\\r\\n                            <li class=\"txt-items\">\\xe2\\x96\\xba Sensor de chuva</li>\\r\\n                            <li class=\"txt-items\">\\xe2\\x96\\xba Travas el\\xc3\\xa9tricas</li>\\r\\n                            <li class=\"txt-items\">...</li>\\r\\n                        </ul>\\r\\n                        <p class=\"txt-location\">Rio de Janeiro - RJ</p>\\r\\n                    </div>\\r\\n                    <div class=\"col-md-3 value-card\">\\r\\n                        <div class=\"value\">\\r\\n                            <p class=\"txt-value\">R$ 114.000</p>\\r\\n                        </div>\\r\\n                    </div>\\r\\n                </div>\\r\\n                <div class=\"well card\">\\r\\n                    <div class=\"col-md-3 image-card\">\\r\\n                        <img width=\"220\" height=\"155\" alt=\"Foto\" src=\"https://caelum-online-public.s3.amazonaws.com/1381-scraping/01/img-cars/mclaren/mclaren-2855240__340.jpg\">\\r\\n                    </div>\\r\\n                    <div class=\"col-md-6 body-card\">\\r\\n                        <p class=\"txt-name inline\">MCLAREN</p>\\r\\n                            <p class=\"txt-category badge badge-secondary inline\">NOVO</p>\\r\\n                            \\r\\n                        <p class=\"txt-motor\">Motor Diesel</p>\\r\\n                        <p class=\"txt-description\">Ano 2019 - 0 km</p>\\r\\n                        <ul class=\"lst-items\">\\r\\n                            <li class=\"txt-items\">\\xe2\\x96\\xba Central multim\\xc3\\xaddia</li>\\r\\n                            <li class=\"txt-items\">\\xe2\\x96\\xba C\\xc3\\xa2mera de estacionamento</li>\\r\\n                            <li class=\"txt-items\">\\xe2\\x96\\xba C\\xc3\\xa2mbio autom\\xc3\\xa1tico</li>\\r\\n                            <li class=\"txt-items\">\\xe2\\x96\\xba Ar condicionado</li>\\r\\n                            <li class=\"txt-items\">...</li>\\r\\n                        </ul>\\r\\n                        <p class=\"txt-location\">S\\xc3\\xa3o Paulo - SP</p>\\r\\n                    </div>\\r\\n                    <div class=\"col-md-3 value-card\">\\r\\n                        <div class=\"value\">\\r\\n                            <p class=\"txt-value\">R$ 75.000</p>\\r\\n                        </div>\\r\\n                    </div>\\r\\n                </div>\\r\\n                <div class=\"well card\">\\r\\n                    <div class=\"col-md-3 image-card\">\\r\\n                        <img width=\"220\" height=\"155\" alt=\"Foto\" src=\"https://caelum-online-public.s3.amazonaws.com/1381-scraping/01/img-cars/toyota/toyota-3245397__340.jpg\">\\r\\n                    </div>\\r\\n                    <div class=\"col-md-6 body-card\">\\r\\n                        <p class=\"txt-name inline\">TOYOTA</p>\\r\\n                            <p class=\"txt-category badge badge-secondary inline\">USADO</p>\\r\\n                            <p class=\"txt-opportunity badge badge-danger inline\">OPORTUNIDADE</p>\\r\\n                        <p class=\"txt-motor\">Motor 4.0 Turbo</p>\\r\\n                        <p class=\"txt-description\">Ano 1999 - 12.536 km</p>\\r\\n                        <ul class=\"lst-items\">\\r\\n                            <li class=\"txt-items\">\\xe2\\x96\\xba Bancos de couro</li>\\r\\n                            <li class=\"txt-items\">\\xe2\\x96\\xba Freios ABS</li>\\r\\n                            <li class=\"txt-items\">\\xe2\\x96\\xba Piloto autom\\xc3\\xa1tico</li>\\r\\n                            <li class=\"txt-items\">\\xe2\\x96\\xba Controle de estabilidade</li>\\r\\n                            <li class=\"txt-items\">...</li>\\r\\n                        </ul>\\r\\n                        <p class=\"txt-location\">S\\xc3\\xa3o Paulo - SP</p>\\r\\n                    </div>\\r\\n                    <div class=\"col-md-3 value-card\">\\r\\n                        <div class=\"value\">\\r\\n                            <p class=\"txt-value\">R$ 117.000</p>\\r\\n                        </div>\\r\\n                    </div>\\r\\n                </div>\\t\\t\\t\\t\\t\\t</div>\\r\\n\\t\\t\\t\\t\\t\\t<div class=\"type-select\">246 ve\\xc3\\xadculos encontrados</div>\\r\\n\\t\\t\\t\\t\\t\\t\\t<div class=\"container-pagination\" style=\"float: right\">\\r\\n\\t\\t\\t\\t\\t\\t\\t\\t<span class=\"info-pages\">P\\xc3\\xa1gina 1 de 25</span>\\r\\n\\t\\t\\t\\t\\t\\t\\t</div>\\r\\n\\t\\t\\t\\t\\t\\t</div>\\r\\n\\t\\t\\t\\t\\t</div>\\r\\n\\t\\t\\t\\t</div>\\r\\n\\t\\t\\t</div>\\r\\n\\t\\t</div>\\r\\n\\r\\n\\t\\t<footer>\\r\\n\\t\\t\\t<nav class=\"navbar navbar-inverse\">\\r\\n\\t\\t\\t\\t<div class=\"container\" style=\"margin-bottom: 10px;\">\\r\\n\\t\\t\\t\\t\\t<div class=\"navbar\">\\r\\n\\t\\t\\t\\t\\t\\t<a href=\"./index.php\" class=\"navbar-brand\" title=\"Alura Motors\">\\r\\n\\t\\t\\t\\t\\t\\t\\t<img src=\"img/alura-logo.svg\" class=\"d-inline-block align-top\" alt=\"Alura\">Motors\\r\\n\\t\\t\\t\\t\\t\\t</a>\\r\\n\\t\\t\\t\\t\\t\\t<p style=\"color: #fff; text-align: center; margin-top: 40px;\">Aplica\\xc3\\xa7\\xc3\\xa3o para treinamento de web scraping</p>\\r\\n\\t\\t\\t\\t\\t</div>\\r\\n\\t\\t\\t\\t</div>\\r\\n\\t\\t\\t</nav>\\r\\n\\t\\t</footer>\\r\\n\\r\\n\\t</div>\\r\\n\\r\\n</body>\\r\\n</html>\\r\\n'"
            ]
          },
          "metadata": {
            "tags": []
          },
          "execution_count": 5
        }
      ]
    },
    {
      "cell_type": "code",
      "metadata": {
        "id": "VKrDTT5x0baf",
        "colab_type": "code",
        "colab": {}
      },
      "source": [
        "from urllib.request import Request\n",
        "from urllib.error import URLError, HTTPError\n",
        "\n",
        "url = 'https://www.alura.com.br' # Alterar url para simular URLError\n",
        "\n",
        "# Error 403: Forbidden\n",
        "# response = urlopen(url)\n",
        "# html = response.read()\n",
        "\n",
        "# html\n",
        "\n",
        "headers = {\n",
        "    'User-Agent': 'Mozilla/5.0 (Windows NT 10.0; Win64; x64; rv:68.0) Gecko/20100101 Firefox/68.0'\n",
        "}\n",
        "\n",
        "try:\n",
        "  req = Request(url, headers = headers) # Retira headers para simular HTTPError\n",
        "  response = urlopen(req)\n",
        "  html = response.read()\n",
        "#   print(response.read())\n",
        "  \n",
        "except HTTPError as e:\n",
        "  print(e.status, e.reason)\n",
        "  \n",
        "except URLError as e:\n",
        "  print(e.reason)"
      ],
      "execution_count": 0,
      "outputs": []
    },
    {
      "cell_type": "code",
      "metadata": {
        "id": "M0OjpJd92468",
        "colab_type": "code",
        "outputId": "16826613-b85a-46e8-8fdf-0a54cc03e321",
        "colab": {
          "base_uri": "https://localhost:8080/",
          "height": 0
        }
      },
      "source": [
        "type(html)"
      ],
      "execution_count": 7,
      "outputs": [
        {
          "output_type": "execute_result",
          "data": {
            "text/plain": [
              "bytes"
            ]
          },
          "metadata": {
            "tags": []
          },
          "execution_count": 7
        }
      ]
    },
    {
      "cell_type": "code",
      "metadata": {
        "id": "UHluIgTO3GOm",
        "colab_type": "code",
        "outputId": "af132128-cf1b-413e-e6ad-99f9ccc8ae73",
        "colab": {
          "base_uri": "https://localhost:8080/",
          "height": 0
        }
      },
      "source": [
        "print(html)"
      ],
      "execution_count": 8,
      "outputs": [
        {
          "output_type": "stream",
          "text": [
            "b'<!DOCTYPE html><html\\nlang=\"pt-BR\"><head><meta\\ncharset=\"UTF-8\"><meta\\nname=\"viewport\" content=\"width=device-width,initial-scale=1,minimum-scale=1.0\"><title>Alura | Cursos online de tecnologia</title><meta\\nname=\"description\" content=\"Aprenda Programa\\xc3\\xa7\\xc3\\xa3o, Mobile, Front-end, Design, UX, Infraestrutura, Marketing Digital, Data Science, Inova\\xc3\\xa7\\xc3\\xa3o e Gest\\xc3\\xa3o com did\\xc3\\xa1tica inovadora focada no mercado real de trabalho\"><link\\nrel=\"canonical\" href=\"https://www.alura.com.br\"><link\\nhref=\"https://fonts.googleapis.com/css?display=swap&family=Open+Sans:300,400,400i,600,700,800\" rel=\"stylesheet\" crossorigin><link\\nrel=\"preconnect\" href=\"https://fonts.gstatic.com/\" crossorigin><link\\nrel=\"stylesheet\" href=\"/bundle,base/_reset,base/base,base/buttons,base/colors,base/titulos.1572363839.css\"><link\\nrel=\"stylesheet\" href=\"/bundle,home/homeNova/career-colors,home/homeNova/careers,home/homeNova/companies,home/homeNova/features,home/homeNova/home,home/homeNova/mobile,home/homeNova/testimonies.1572363839.css\"><link\\nrel=\"stylesheet\" href=\"/assets/css/block/elasticMedia.1570550707.css\"><meta\\nproperty=\"og:locale\" content=\"pt_BR\"><meta\\nproperty=\"og:description\" content=\"Aprenda Programa\\xc3\\xa7\\xc3\\xa3o, Mobile, Front-end, Design, UX, Infraestrutura, Marketing Digital, Data Science, Inova\\xc3\\xa7\\xc3\\xa3o e Gest\\xc3\\xa3o com did\\xc3\\xa1tica inovadora focada no mercado real de trabalho\"><meta\\nproperty=\"og:title\" content=\"Alura | Cursos online de tecnologia\"><meta\\nproperty=\"og:site_name\" content=\"Alura\"><meta\\nproperty=\"og:url\" content=\"https://www.alura.com.br/\"><meta\\nproperty=\"og:image\" content=\"https://www.alura.com.br/assets/img/alura-share.1571848411.png\"><meta\\nproperty=\"og:image:alt\" content=\"Alura logo\"><meta\\nproperty=\"fb:app_id\" content=\"140078819399376\"><meta\\nproperty=\"og:type\" content=\"website\"><meta\\nname=\"twitter:card\" content=\"summary_large_image\"><meta\\nname=\"theme-color\" content=\"#2A7AE4\"></head><body\\nclass=\"\"> <script>(function(w,d,s,l,i){w[l]=w[l]||[];w[l].push({\\'gtm.start\\':\\n\\t\\t\\t\\tnew Date().getTime(),event:\\'gtm.js\\'});var f=d.getElementsByTagName(s)[0],\\n\\t\\t\\t\\tj=d.createElement(s),dl=l!=\\'dataLayer\\'?\\'&l=\\'+l:\\'\\';j.async=true;j.src=\\n\\t\\t\\t\\t\\'https://www.googletagmanager.com/gtm.js?id=\\'+i+dl;f.parentNode.insertBefore(j,f);\\n            })(window,document,\\'script\\',\\'dataLayer\\',\\'GTM-TN542JN\\');</script> <noscript>\\n<iframe\\nsrc=\"https://www.googletagmanager.com/ns.html?id=GTM-TN542JN\"\\nheight=\"0\" width=\"0\" style=\"display:none;visibility:hidden\"></iframe>\\n</noscript> <script>setTimeout(function() {\\n\\t\\t\\tnew Image().src = \"https://www.facebook.com/tr?id=1067810189950610&ev=PageView&noscript=1\";\\n\\t\\t}, 300);</script>  <script type=\"application/ld+json\">{\\n      \"@context\": \"http://schema.org\",\\n      \"@type\": \"BreadcrumbList\",\\n\\n      \"itemListElement\": [{\\n        \"@type\": \"ListItem\",\\n        \"position\": 1,\\n        \"item\": {\\n          \"@id\": \"https://www.alura.com.br\",\\n          \"name\": \"Alura\"\\n        }\\n      }   \\n            ]\\n    }</script> <div\\nclass=\"home\"><div\\nclass=\"home__header\"><link\\nrel=\"stylesheet\" href=\"/assets/css/block/header.1570550707.css\"><link\\nrel=\"stylesheet\" href=\"/assets/css/block/headerHome.1570550707.css\"><style>@media (min-width: 1100px) {\\n\\t\\t\\t\\t.header-navegacao-cursos-lista {\\n\\t\\t\\t\\t\\tdisplay: none;\\n\\t\\t\\t\\t}\\n\\t\\t\\t\\t.header__nav {\\n\\t\\t\\t\\t\\tborder: none;\\n\\t\\t\\t\\t\\tmargin-top:10px;\\n\\t\\t\\t\\t}\\n\\t\\t\\t\\t.header {\\n\\t\\t\\t\\t\\tpadding-bottom: 0;\\n\\t\\t\\t\\t}\\n\\t\\t\\t}</style><header\\nclass=\"header--home\"><div\\nclass=\"container\"><nav\\nclass=\"header__nav--home\">\\n<a\\nhref=\"/\" class=\"header__nav__link--home header__nav__link--logo\">\\n<img\\nclass=\"header__nav__link__logo\" alt=\"Alura\"\\nsrc=\"/assets/img/home/alura-logo.1570550707.svg\">\\n</a><div\\nclass=\"header__nav__wrapper--home header__nav__wrapper--ctas--home\"><div\\nhref=\"/busca\" class=\"header-utilitario-busca header-utilitario-busca--home\" aria-label=\"Busca\">\\n<svg\\nclass=\"header-utilitario-busca-icone--home\" xmlns:xlink=\"http://www.w3.org/1999/xlink\">\\n<use\\nxlink:href=\"/svg,1570550707/header#icon-header-busca-home\"/>\\n</svg></div>\\n<a\\nhref=\"https://cursos.alura.com.br/loginForm?urlAfterLogin=https://cursos.alura.com.br/dashboard\" class=\"header__nav__link--home header__nav__link--entrar--home\">Entrar</a>\\n<a\\nhref=\"/planos-cursos-online\" class=\"header__nav__link--home header__nav__link--cta--home\">Matricule-se</a></div><div\\nclass=\"header__nav__wrapper--home header__nav__wrapper--menu header__nav__wrapper--menu--home\"><div\\nclass=\"header-barraBusca header-barraBusca--home\"><div\\nclass=\"container\"><form\\naction=\"/busca\" class=\"header-barraBusca-form\">\\n<label\\nfor=\"header-barraBusca-form-campoBusca\">Qual curso procura?</label>\\n<input\\ntype=\"search\" id=\"header-barraBusca-form-campoBusca\" name=\"query\"\\nclass=\"header-barraBusca-form-serch-input header-barra-busca--home\" placeholder=\"O que voc\\xc3\\xaa quer aprender?\">\\n<button\\nclass=\"header-barraBusca-form-submit\" type=\"submit\">Buscar</button></form></div></div><div\\nhref=\"/cursos-online-tecnologia\" class=\"nav__courses__link--home header-navegacao-cursos header-navegacao-cursos--home header__menu-options--home header__menu-allcourses--home\">\\n<svg\\nclass=\"header-navegacao-cursos-icone\" xmlns:xlink=\"http://www.w3.org/1999/xlink\">\\n<use\\nxlink:href=\"/svg,1570550707/header#icon-header-icon-arrow-home\"/>\\n</svg>\\n<span>Todos os</span>\\n<span>Cursos</span></div>\\n<a\\nhref=\"/formacoes\" class=\"nav__courses__link--home header__menu-options--home\">\\n<span>Forma\\xc3\\xa7\\xc3\\xb5es</span></a>\\n<a\\nhref=\"/empresas\" class=\"nav__courses__link--home header__menu-options--home\">\\n<span>Para</span>\\n<span>Empresas</span>\\n</a>\\n<a\\nhref=\"/como-funciona\" class=\"nav__courses__link--home header__menu-options--home\">\\n<span>Como</span>\\n<span>Funciona</span>\\n</a></div><ul\\nclass=\"header-navegacao-cursos-lista container header__menu-allcourses--home\"><li\\nclass=\"header-cursos-lista-categoria \">\\n<a\\nhref=\"/cursos-online-mobile\" class=\"unlinkify\">\\n<svg\\nclass=\"header-cursos-lista-categoria--icon\" xmlns:xlink=\"http://www.w3.org/1999/xlink\">\\n<use\\nxlink:href=\"/svg,1570550707/categorias#icon-categorias-mobile\"/>\\n</svg><div\\nclass=\"header-lista-categoria-nome--home\">\\n<span>Mobile</span></div>\\n</a></li><li\\nclass=\"header-cursos-lista-categoria \">\\n<a\\nhref=\"/cursos-online-programacao\" class=\"unlinkify\">\\n<svg\\nclass=\"header-cursos-lista-categoria--icon\" xmlns:xlink=\"http://www.w3.org/1999/xlink\">\\n<use\\nxlink:href=\"/svg,1570550707/categorias#icon-categorias-programacao\"/>\\n</svg><div\\nclass=\"header-lista-categoria-nome--home\">\\n<span>Programa\\xc3\\xa7\\xc3\\xa3o</span></div>\\n</a></li><li\\nclass=\"header-cursos-lista-categoria \">\\n<a\\nhref=\"/cursos-online-front-end\" class=\"unlinkify\">\\n<svg\\nclass=\"header-cursos-lista-categoria--icon\" xmlns:xlink=\"http://www.w3.org/1999/xlink\">\\n<use\\nxlink:href=\"/svg,1570550707/categorias#icon-categorias-front-end\"/>\\n</svg><div\\nclass=\"header-lista-categoria-nome--home\">\\n<span>Front-end</span></div>\\n</a></li><li\\nclass=\"header-cursos-lista-categoria \">\\n<a\\nhref=\"/cursos-online-infraestrutura\" class=\"unlinkify\">\\n<svg\\nclass=\"header-cursos-lista-categoria--icon\" xmlns:xlink=\"http://www.w3.org/1999/xlink\">\\n<use\\nxlink:href=\"/svg,1570550707/categorias#icon-categorias-infraestrutura\"/>\\n</svg><div\\nclass=\"header-lista-categoria-nome--home\">\\n<span>Infraestrutura</span></div>\\n</a></li><li\\nclass=\"header-cursos-lista-categoria \">\\n<a\\nhref=\"/cursos-online-design-ux\" class=\"unlinkify\">\\n<svg\\nclass=\"header-cursos-lista-categoria--icon\" xmlns:xlink=\"http://www.w3.org/1999/xlink\">\\n<use\\nxlink:href=\"/svg,1570550707/categorias#icon-categorias-design-ux\"/>\\n</svg><div\\nclass=\"header-lista-categoria-nome--home\">\\n<span>Design & UX</span></div>\\n</a></li><li\\nclass=\"header-cursos-lista-categoria \">\\n<a\\nhref=\"/cursos-online-marketing-digital\" class=\"unlinkify\">\\n<svg\\nclass=\"header-cursos-lista-categoria--icon\" xmlns:xlink=\"http://www.w3.org/1999/xlink\">\\n<use\\nxlink:href=\"/svg,1570550707/categorias#icon-categorias-marketing-digital\"/>\\n</svg><div\\nclass=\"header-lista-categoria-nome--home\">\\n<span>Marketing Digital</span></div>\\n</a></li><li\\nclass=\"header-cursos-lista-categoria \">\\n<a\\nhref=\"/cursos-online-data-science\" class=\"unlinkify\">\\n<svg\\nclass=\"header-cursos-lista-categoria--icon\" xmlns:xlink=\"http://www.w3.org/1999/xlink\">\\n<use\\nxlink:href=\"/svg,1570550707/categorias#icon-categorias-data-science\"/>\\n</svg><div\\nclass=\"header-lista-categoria-nome--home\">\\n<span>Data Science</span></div>\\n</a></li><li\\nclass=\"header-cursos-lista-categoria \">\\n<a\\nhref=\"/cursos-online-inovacao-gestao\" class=\"unlinkify\">\\n<svg\\nclass=\"header-cursos-lista-categoria--icon\" xmlns:xlink=\"http://www.w3.org/1999/xlink\">\\n<use\\nxlink:href=\"/svg,1570550707/categorias#icon-categorias-inovacao-gestao\"/>\\n</svg><div\\nclass=\"header-lista-categoria-nome--home\">\\n<span>Inova\\xc3\\xa7\\xc3\\xa3o & Gest\\xc3\\xa3o</span></div>\\n</a></li></ul></nav></div></header><div\\nclass=\"container\"><div\\nclass=\"home--background\"><div\\nclass=\"home__titles\"><h1 class=\"home__titles__main-title\">Cursos de Tecnologia e Neg\\xc3\\xb3cios Digitais</h1><p\\nclass=\"home__titles__sub-title\">Voc\\xc3\\xaa vai estudar, praticar, discutir e aprender em uma comunidade de inquietos e inovadores</p></div></div><link\\nrel=\"stylesheet\" href=\"/assets/css/block/categories.1570550707.css\"><link\\nrel=\"stylesheet\" href=\"/assets/css/block/navCategoriasHome.1572363839.css\"><link\\nrel=\"stylesheet\" href=\"/assets/css/block/navCategoriasHome.1572363839.css\"><nav\\nclass=\"categories--home\"><div\\nclass=\"categories__elements--home\"><div\\nclass=\"categories__wrapper__links--home\">\\n<a\\nclass=\"categories__link--home\" href=\"/cursos-online-mobile\"><div\\nclass=\"categories__link-wrapper--home\"><div\\nclass=\"categories__svg-wrapper--home\" style=\"background:#ffba05;\">\\n<svg\\nclass=\"pagina-categoria__svg--home categories__svg--home\" xmlns:xlink=\"http://www.w3.org/1999/xlink\">\\n<use\\nxlink:href=\"/svg,1570550707/categorias#icon-categorias-mobile\"/>\\n</svg></div><div\\nstyle=\"color:#ffba05;\">\\n<span\\nclass=\"categories__link__text\">Cursos de</span><h4 class=\"categories__link__category-name\">Mobile</h4></div></div>\\n</a><nav\\nclass=\"categories__calls--home\">\\n<a\\nhref=\"/cursos-online-mobile/ios\"\\nclass=\"categories__calls__description--home\">iOS e Swift</a><span\\nclass=\"categories__calls__description-separator\">, </span>\\n<a\\nhref=\"/cursos-online-mobile/android\"\\nclass=\"categories__calls__description--home\">Android e Kotlin</a><span\\nclass=\"categories__calls__description-separator\">, </span>\\n<a\\nhref=\"/cursos-online-mobile/multiplataforma\"\\nclass=\"categories__calls__description--home\">Ionic, React Native</a><span\\nclass=\"categories__calls__description-separator\">, </span>\\n<a\\nhref=\"/cursos-online-mobile/jogos\"\\nclass=\"categories__calls__description--home\">Jogos</a><span\\nclass=\"categories__calls__description-separator\">, </span>\\n<a\\nhref=\"/cursos-online-mobile\"\\nclass=\"categories__calls__link-see-more--home\">e mais...</a></nav></div><div\\nclass=\"categories__wrapper__links--home\">\\n<a\\nclass=\"categories__link--home\" href=\"/cursos-online-programacao\"><div\\nclass=\"categories__link-wrapper--home\"><div\\nclass=\"categories__svg-wrapper--home\" style=\"background:#00c86f;\">\\n<svg\\nclass=\"pagina-categoria__svg--home categories__svg--home\" xmlns:xlink=\"http://www.w3.org/1999/xlink\">\\n<use\\nxlink:href=\"/svg,1570550707/categorias#icon-categorias-programacao\"/>\\n</svg></div><div\\nstyle=\"color:#00c86f;\">\\n<span\\nclass=\"categories__link__text\">Cursos de</span><h4 class=\"categories__link__category-name\">Programa\\xc3\\xa7\\xc3\\xa3o</h4></div></div>\\n</a><nav\\nclass=\"categories__calls--home\">\\n<a\\nhref=\"/cursos-online-programacao/logica\"\\nclass=\"categories__calls__description--home\">L\\xc3\\xb3gica</a><span\\nclass=\"categories__calls__description-separator\">, </span>\\n<a\\nhref=\"/cursos-online-programacao/python\"\\nclass=\"categories__calls__description--home\">Python</a><span\\nclass=\"categories__calls__description-separator\">, </span>\\n<a\\nhref=\"/cursos-online-programacao/php\"\\nclass=\"categories__calls__description--home\">PHP</a><span\\nclass=\"categories__calls__description-separator\">, </span>\\n<a\\nhref=\"/cursos-online-programacao/java\"\\nclass=\"categories__calls__description--home\">Java</a><span\\nclass=\"categories__calls__description-separator\">, </span>\\n<a\\nhref=\"/cursos-online-programacao/dotnet\"\\nclass=\"categories__calls__description--home\">.NET</a><span\\nclass=\"categories__calls__description-separator\">, </span>\\n<a\\nhref=\"/cursos-online-programacao/node-js\"\\nclass=\"categories__calls__description--home\">Node JS</a><span\\nclass=\"categories__calls__description-separator\">, </span>\\n<a\\nhref=\"/cursos-online-programacao/ruby\"\\nclass=\"categories__calls__description--home\">Ruby & Rails</a><span\\nclass=\"categories__calls__description-separator\">, </span>\\n<a\\nhref=\"/cursos-online-programacao/linguagem-c\"\\nclass=\"categories__calls__description--home\">C</a><span\\nclass=\"categories__calls__description-separator\">, </span>\\n<a\\nhref=\"/cursos-online-programacao/computacao\"\\nclass=\"categories__calls__description--home\">Computa\\xc3\\xa7\\xc3\\xa3o</a><span\\nclass=\"categories__calls__description-separator\">, </span>\\n<a\\nhref=\"/cursos-online-programacao/jogos\"\\nclass=\"categories__calls__description--home\">Jogos</a><span\\nclass=\"categories__calls__description-separator\">, </span>\\n<a\\nhref=\"/cursos-online-programacao\"\\nclass=\"categories__calls__link-see-more--home\">e mais...</a></nav></div><div\\nclass=\"categories__wrapper__links--home\">\\n<a\\nclass=\"categories__link--home\" href=\"/cursos-online-front-end\"><div\\nclass=\"categories__link-wrapper--home\"><div\\nclass=\"categories__svg-wrapper--home\" style=\"background:#6bd1ff;\">\\n<svg\\nclass=\"pagina-categoria__svg--home categories__svg--home\" xmlns:xlink=\"http://www.w3.org/1999/xlink\">\\n<use\\nxlink:href=\"/svg,1570550707/categorias#icon-categorias-front-end\"/>\\n</svg></div><div\\nstyle=\"color:#6bd1ff;\">\\n<span\\nclass=\"categories__link__text\">Cursos de</span><h4 class=\"categories__link__category-name\">Front-end</h4></div></div>\\n</a><nav\\nclass=\"categories__calls--home\">\\n<a\\nhref=\"/cursos-online-front-end/front-end\"\\nclass=\"categories__calls__description--home\">HTML, CSS</a><span\\nclass=\"categories__calls__description-separator\">, </span>\\n<a\\nhref=\"/cursos-online-front-end/javascript\"\\nclass=\"categories__calls__description--home\">JavaScript</a><span\\nclass=\"categories__calls__description-separator\">, </span>\\n<a\\nhref=\"/cursos-online-front-end/frameworks-mvc-em-javascript\"\\nclass=\"categories__calls__description--home\">Angular, React</a><span\\nclass=\"categories__calls__description-separator\">, </span>\\n<a\\nhref=\"/cursos-online-front-end/jquery\"\\nclass=\"categories__calls__description--home\">jQuery</a><span\\nclass=\"categories__calls__description-separator\">, </span>\\n<a\\nhref=\"/cursos-online-front-end\"\\nclass=\"categories__calls__link-see-more--home\">e mais...</a></nav></div><div\\nclass=\"categories__wrapper__links--home\">\\n<a\\nclass=\"categories__link--home\" href=\"/cursos-online-infraestrutura\"><div\\nclass=\"categories__link-wrapper--home\"><div\\nclass=\"categories__svg-wrapper--home\" style=\"background:#f16165;\">\\n<svg\\nclass=\"pagina-categoria__svg--home categories__svg--home\" xmlns:xlink=\"http://www.w3.org/1999/xlink\">\\n<use\\nxlink:href=\"/svg,1570550707/categorias#icon-categorias-infraestrutura\"/>\\n</svg></div><div\\nstyle=\"color:#f16165;\">\\n<span\\nclass=\"categories__link__text\">Cursos de</span><h4 class=\"categories__link__category-name\">Infraestrutura</h4></div></div>\\n</a><nav\\nclass=\"categories__calls--home\">\\n<a\\nhref=\"/cursos-online-infraestrutura/devops\"\\nclass=\"categories__calls__description--home\">DevOps e Git</a><span\\nclass=\"categories__calls__description-separator\">, </span>\\n<a\\nhref=\"/cursos-online-infraestrutura/cloud-computing\"\\nclass=\"categories__calls__description--home\">Cloud</a><span\\nclass=\"categories__calls__description-separator\">, </span>\\n<a\\nhref=\"/cursos-online-infraestrutura/linux-comandos-e-processos\"\\nclass=\"categories__calls__description--home\">Linux</a><span\\nclass=\"categories__calls__description-separator\">, </span>\\n<a\\nhref=\"/cursos-online-infraestrutura/internet-das-coisas\"\\nclass=\"categories__calls__description--home\">IoT</a><span\\nclass=\"categories__calls__description-separator\">, </span>\\n<a\\nhref=\"/cursos-online-infraestrutura/redes\"\\nclass=\"categories__calls__description--home\">Redes</a><span\\nclass=\"categories__calls__description-separator\">, </span>\\n<a\\nhref=\"/cursos-online-infraestrutura\"\\nclass=\"categories__calls__link-see-more--home\">e mais...</a></nav></div><div\\nclass=\"categories__wrapper__links--home\">\\n<a\\nclass=\"categories__link--home\" href=\"/cursos-online-design-ux\"><div\\nclass=\"categories__link-wrapper--home\"><div\\nclass=\"categories__svg-wrapper--home\" style=\"background:#dc6ebe;\">\\n<svg\\nclass=\"pagina-categoria__svg--home categories__svg--home\" xmlns:xlink=\"http://www.w3.org/1999/xlink\">\\n<use\\nxlink:href=\"/svg,1570550707/categorias#icon-categorias-design-ux\"/>\\n</svg></div><div\\nstyle=\"color:#dc6ebe;\">\\n<span\\nclass=\"categories__link__text\">Cursos de</span><h4 class=\"categories__link__category-name\">Design & UX</h4></div></div>\\n</a><nav\\nclass=\"categories__calls--home\">\\n<a\\nhref=\"/cursos-online-design-ux/wwww\"\\nclass=\"categories__calls__description--home\">Photoshop e Illustrator</a><span\\nclass=\"categories__calls__description-separator\">, </span>\\n<a\\nhref=\"/cursos-online-design-ux/ux\"\\nclass=\"categories__calls__description--home\">Usabilidade e UX</a><span\\nclass=\"categories__calls__description-separator\">, </span>\\n<a\\nhref=\"/cursos-online-design-ux/video\"\\nclass=\"categories__calls__description--home\">V\\xc3\\xaddeo e Motion</a><span\\nclass=\"categories__calls__description-separator\">, </span>\\n<a\\nhref=\"/cursos-online-design-ux/3d\"\\nclass=\"categories__calls__description--home\">3D</a><span\\nclass=\"categories__calls__description-separator\">, </span>\\n<a\\nhref=\"/cursos-online-design-ux\"\\nclass=\"categories__calls__link-see-more--home\">e mais...</a></nav></div><div\\nclass=\"categories__wrapper__links--home\">\\n<a\\nclass=\"categories__link--home\" href=\"/cursos-online-marketing-digital\"><div\\nclass=\"categories__link-wrapper--home\"><div\\nclass=\"categories__svg-wrapper--home\" style=\"background:#6b5be2;\">\\n<svg\\nclass=\"pagina-categoria__svg--home categories__svg--home\" xmlns:xlink=\"http://www.w3.org/1999/xlink\">\\n<use\\nxlink:href=\"/svg,1570550707/categorias#icon-categorias-marketing-digital\"/>\\n</svg></div><div\\nstyle=\"color:#6b5be2;\">\\n<span\\nclass=\"categories__link__text\">Cursos de</span><h4 class=\"categories__link__category-name\">Marketing Digital</h4></div></div>\\n</a><nav\\nclass=\"categories__calls--home\">\\n<a\\nhref=\"/cursos-online-marketing-digital/ads\"\\nclass=\"categories__calls__description--home\">Ads</a><span\\nclass=\"categories__calls__description-separator\">, </span>\\n<a\\nhref=\"/cursos-online-marketing-digital/marketing-digital\"\\nclass=\"categories__calls__description--home\">Marketing</a><span\\nclass=\"categories__calls__description-separator\">, </span>\\n<a\\nhref=\"/cursos-online-marketing-digital/seo\"\\nclass=\"categories__calls__description--home\">SEO</a><span\\nclass=\"categories__calls__description-separator\">, </span>\\n<a\\nhref=\"/cursos-online-marketing-digital/e-commerce\"\\nclass=\"categories__calls__description--home\">E-commerce</a><span\\nclass=\"categories__calls__description-separator\">, </span>\\n<a\\nhref=\"/cursos-online-marketing-digital/social-media\"\\nclass=\"categories__calls__description--home\">Social Media</a><span\\nclass=\"categories__calls__description-separator\">, </span>\\n<a\\nhref=\"/cursos-online-marketing-digital/youtube\"\\nclass=\"categories__calls__description--home\">YouTube</a><span\\nclass=\"categories__calls__description-separator\">, </span>\\n<a\\nhref=\"/cursos-online-marketing-digital\"\\nclass=\"categories__calls__link-see-more--home\">e mais...</a></nav></div><div\\nclass=\"categories__wrapper__links--home\">\\n<a\\nclass=\"categories__link--home\" href=\"/cursos-online-data-science\"><div\\nclass=\"categories__link-wrapper--home\"><div\\nclass=\"categories__svg-wrapper--home\" style=\"background:#9cd33b;\">\\n<svg\\nclass=\"pagina-categoria__svg--home categories__svg--home\" xmlns:xlink=\"http://www.w3.org/1999/xlink\">\\n<use\\nxlink:href=\"/svg,1570550707/categorias#icon-categorias-data-science\"/>\\n</svg></div><div\\nstyle=\"color:#9cd33b;\">\\n<span\\nclass=\"categories__link__text\">Cursos de</span><h4 class=\"categories__link__category-name\">Data Science</h4></div></div>\\n</a><nav\\nclass=\"categories__calls--home\">\\n<a\\nhref=\"/cursos-online-data-science/sql\"\\nclass=\"categories__calls__description--home\">SQL e Banco de Dados</a><span\\nclass=\"categories__calls__description-separator\">, </span>\\n<a\\nhref=\"/cursos-online-data-science/nosql\"\\nclass=\"categories__calls__description--home\">NoSQL</a><span\\nclass=\"categories__calls__description-separator\">, </span>\\n<a\\nhref=\"/cursos-online-data-science/data-science\"\\nclass=\"categories__calls__description--home\">Data Science</a><span\\nclass=\"categories__calls__description-separator\">, </span>\\n<a\\nhref=\"/cursos-online-data-science/machine-learning\"\\nclass=\"categories__calls__description--home\">Machine Learning</a><span\\nclass=\"categories__calls__description-separator\">, </span>\\n<a\\nhref=\"/cursos-online-data-science/business-intelligence\"\\nclass=\"categories__calls__description--home\">BI</a><span\\nclass=\"categories__calls__description-separator\">, </span>\\n<a\\nhref=\"/cursos-online-data-science/estatistica\"\\nclass=\"categories__calls__description--home\">Estat\\xc3\\xadstica</a><span\\nclass=\"categories__calls__description-separator\">, </span>\\n<a\\nhref=\"/cursos-online-data-science/excel\"\\nclass=\"categories__calls__description--home\">Excel</a><span\\nclass=\"categories__calls__description-separator\">, </span>\\n<a\\nhref=\"/cursos-online-data-science\"\\nclass=\"categories__calls__link-see-more--home\">e mais...</a></nav></div><div\\nclass=\"categories__wrapper__links--home\">\\n<a\\nclass=\"categories__link--home\" href=\"/cursos-online-inovacao-gestao\"><div\\nclass=\"categories__link-wrapper--home\"><div\\nclass=\"categories__svg-wrapper--home\" style=\"background:#ff8c2a;\">\\n<svg\\nclass=\"pagina-categoria__svg--home categories__svg--home\" xmlns:xlink=\"http://www.w3.org/1999/xlink\">\\n<use\\nxlink:href=\"/svg,1570550707/categorias#icon-categorias-inovacao-gestao\"/>\\n</svg></div><div\\nstyle=\"color:#ff8c2a;\">\\n<span\\nclass=\"categories__link__text\">Cursos de</span><h4 class=\"categories__link__category-name\">Inova\\xc3\\xa7\\xc3\\xa3o & Gest\\xc3\\xa3o</h4></div></div>\\n</a><nav\\nclass=\"categories__calls--home\">\\n<a\\nhref=\"/cursos-online-inovacao-gestao/agilidade\"\\nclass=\"categories__calls__description--home\">M\\xc3\\xa9todos \\xc3\\x81geis</a><span\\nclass=\"categories__calls__description-separator\">, </span>\\n<a\\nhref=\"/cursos-online-inovacao-gestao/habilidades-interpessoais\"\\nclass=\"categories__calls__description--home\">Softskills</a><span\\nclass=\"categories__calls__description-separator\">, </span>\\n<a\\nhref=\"/cursos-online-inovacao-gestao/lideranca-gestao-estrategica\"\\nclass=\"categories__calls__description--home\">Lideran\\xc3\\xa7a e Gest\\xc3\\xa3o</a><span\\nclass=\"categories__calls__description-separator\">, </span>\\n<a\\nhref=\"/cursos-online-inovacao-gestao/startup-empreendedorismo\"\\nclass=\"categories__calls__description--home\">Empreendedorismo</a><span\\nclass=\"categories__calls__description-separator\">, </span>\\n<a\\nhref=\"/cursos-online-inovacao-gestao\"\\nclass=\"categories__calls__link-see-more--home\">e mais...</a></nav></div></div></nav></div></div><main\\nclass=\"home__main-content\"><section\\nclass=\"features container\"><aside\\nclass=\"features__info\"><h2 class=\"features__info__title\">\\n<strong>Somos a maior plataforma brasileira</strong>\\n<span>Cursos de tecnologia com conte\\xc3\\xbado 100% em portugu\\xc3\\xaas</span></h2><ul\\nclass=\"features__info__list\"><li\\nclass=\"features__info__list__item features__info__list__item--content\"><div\\nclass=\"features__info__list__item__wrapper\"><h4 class=\"features__info__list__item__title\">O conte\\xc3\\xbado que voc\\xc3\\xaa precisa</h4><p\\nclass=\"features__info__list__item__description\">S\\xc3\\xa3o 971 cursos e novos lan\\xc3\\xa7amentos toda\\nsemana, al\\xc3\\xa9m de atualiza\\xc3\\xa7\\xc3\\xb5es e melhorias constantes.</p></div></li><li\\nclass=\"features__info__list__item features__info__list__item--practice\"><div\\nclass=\"features__info__list__item__wrapper\"><h4 class=\"features__info__list__item__title\">Conhecimento real</h4><p\\nclass=\"features__info__list__item__description\">Garantimos conhecimento com profundidade e diversidade. Aprenda com os melhores!</p></div></li><li\\nclass=\"features__info__list__item features__info__list__item--messages\"><div\\nclass=\"features__info__list__item__wrapper\"><h4 class=\"features__info__list__item__title\">Aprenda compartilhando</h4><p\\nclass=\"features__info__list__item__description\">\\nFa\\xc3\\xa7a parte de uma grande rede de apaixonados por tudo que \\xc3\\xa9 digital.</p></div></li></ul></aside><section\\nclass=\"features__video\"><div\\nclass=\"features__video-wrapper\"><div\\nclass=\"home-diferenciais-video\"><div\\nclass=\"home-diferenciais-video-wrapper\"><div\\nclass=\"elasticMedia-container\" data-src=\"//player.vimeo.com/video/227939524\">\\n<noscript>\\n<iframe\\nclass=\"elasticMedia\" src=\"//player.vimeo.com/video/227939524\" frameborder=\"0\" webkitallowfullscreen\\nmozallowfullscreen allowfullscreen></iframe>\\n</noscript></div></div></div></div>\\n<a\\nclass=\"features__video__link\" href=\"/como-funciona\">Veja como funciona</a></section></section><section\\nclass=\"careers\"><div\\nclass=\"container\"><h2 class=\"careers__title\"><div\\nclass=\"careers__title__wrapper\">\\nN\\xc3\\xa3o sabe por onde come\\xc3\\xa7ar?\\n<span>Sequ\\xc3\\xaancias de cursos organizados em <strong>Forma\\xc3\\xa7\\xc3\\xb5es</strong></span></div></h2><ul\\nclass=\"careers__list\"><style type=\"text/css\">.career-mobile-title:after {\\n\\t\\t                            \\tbackground-color:#ffba05;\\n\\t\\t                            }</style><li\\nclass=\"careers__list__item\" style=\"color:#ffba05;\"><div\\nclass=\"careers__list__item__title-wrapper\"><div\\nclass=\"categories__svg-wrapper\" style=\"background-color:#ffba05;\">\\n<svg\\nclass=\"pagina-categoria__svg svgFill-mobile categories__svg\" xmlns:xlink=\"http://www.w3.org/1999/xlink\">\\n<use\\nxlink:href=\"/svg,1570550707/categorias#icon-categorias-mobile\"/>\\n</svg></div><h3 class=\"careers__list__item__title\">Mobile</h3></div><h4 class=\"careers__list__item__sub-title career-mobile-title\">Forma\\xc3\\xa7\\xc3\\xb5es</h4><ul\\nclass=\"careers__list__item__list careers__list__item__list--formacoes\"><li\\nclass=\"careers__list__item__list__item\">\\n<a\\nclass=\"careers__list__item__list__item__link\" href=\"/formacao-android\">\\nAndroid                                            </a></li><li\\nclass=\"careers__list__item__list__item\">\\n<a\\nclass=\"careers__list__item__list__item__link\" href=\"/formacao-arquiteto-android\">\\nArquitetura Android                                            </a></li><li\\nclass=\"careers__list__item__list__item\">\\n<a\\nclass=\"careers__list__item__list__item__link\" href=\"/formacao-ios\">\\niOS                                            </a></li><li\\nclass=\"careers__list__item__list__item\">\\n<a\\nclass=\"careers__list__item__list__item__link\" href=\"/formacao-xamarin\">\\nMultiplataforma mobile Xamarin                                            </a></li><li\\nclass=\"careers__list__item__list__item\">\\n<a\\nclass=\"careers__list__item__list__item__link\" href=\"/formacao-testes-automatizados-android\">\\nTestes automatizados no Android                                            </a></li></ul></li><style type=\"text/css\">.career-programacao-title:after {\\n\\t\\t                            \\tbackground-color:#00c86f;\\n\\t\\t                            }</style><li\\nclass=\"careers__list__item\" style=\"color:#00c86f;\"><div\\nclass=\"careers__list__item__title-wrapper\"><div\\nclass=\"categories__svg-wrapper\" style=\"background-color:#00c86f;\">\\n<svg\\nclass=\"pagina-categoria__svg svgFill-programacao categories__svg\" xmlns:xlink=\"http://www.w3.org/1999/xlink\">\\n<use\\nxlink:href=\"/svg,1570550707/categorias#icon-categorias-programacao\"/>\\n</svg></div><h3 class=\"careers__list__item__title\">Programa\\xc3\\xa7\\xc3\\xa3o</h3></div><h4 class=\"careers__list__item__sub-title career-programacao-title\">Forma\\xc3\\xa7\\xc3\\xb5es</h4><ul\\nclass=\"careers__list__item__list careers__list__item__list--formacoes\"><li\\nclass=\"careers__list__item__list__item\">\\n<a\\nclass=\"careers__list__item__list__item__link\" href=\"/formacao-dotnet\">\\n.NET                                            </a></li><li\\nclass=\"careers__list__item__list__item\">\\n<a\\nclass=\"careers__list__item__list__item__link\" href=\"/formacao-certificacao-csharp\">\\nCertifica\\xc3\\xa7\\xc3\\xa3o C# Programming                                            </a></li><li\\nclass=\"careers__list__item__list__item\">\\n<a\\nclass=\"careers__list__item__list__item__link\" href=\"/formacao-certificacao-java\">\\nCertifica\\xc3\\xa7\\xc3\\xa3o Java                                            </a></li><li\\nclass=\"careers__list__item__list__item\">\\n<a\\nclass=\"careers__list__item__list__item__link\" href=\"/formacao-clojure\">\\nClojure                                            </a></li><li\\nclass=\"careers__list__item__list__item\">\\n<a\\nclass=\"careers__list__item__list__item__link\" href=\"/formacao-desenvolvedor-php\">\\nDesenvolvedor PHP                                            </a></li><li\\nclass=\"careers__list__item__list__item\">\\n<a\\nclass=\"careers__list__item__list__item__link\" href=\"/formacao-vb-net\">\\nDesenvolvedor VB.NET                                            </a></li><li\\nclass=\"careers__list__item__list__item\">\\n<a\\nclass=\"careers__list__item__list__item__link\" href=\"/formacao-expert-em-orientacao-a-objetos\">\\nExpert em Orienta\\xc3\\xa7\\xc3\\xa3o a Objetos                                            </a></li><li\\nclass=\"careers__list__item__list__item\">\\n<a\\nclass=\"careers__list__item__list__item__link\" href=\"/formacao-programacao\">\\nIniciante em Programa\\xc3\\xa7\\xc3\\xa3o                                            </a></li><li\\nclass=\"careers__list__item__list__item\">\\n<a\\nclass=\"careers__list__item__list__item__link\" href=\"/formacao-integracao-aplicacoes-java\">\\nIntegra\\xc3\\xa7\\xc3\\xa3o de Aplica\\xc3\\xa7\\xc3\\xb5es Java                                            </a></li><li\\nclass=\"careers__list__item__list__item\">\\n<a\\nclass=\"careers__list__item__list__item__link\" href=\"/formacao-java\">\\nJava                                            </a></li><li\\nclass=\"careers__list__item__list__item\">\\n<a\\nclass=\"careers__list__item__list__item__link\" href=\"/formacao-java-ee\">\\nJava EE                                            </a></li><li\\nclass=\"careers__list__item__list__item\">\\n<a\\nclass=\"careers__list__item__list__item__link\" href=\"/formacao-jogos-unity\">\\nJogos com Unity                                            </a></li><li\\nclass=\"careers__list__item__list__item\">\\n<a\\nclass=\"careers__list__item__list__item__link\" href=\"/formacao-node-js-12\">\\nNodeJS                                            </a></li><li\\nclass=\"careers__list__item__list__item\">\\n<a\\nclass=\"careers__list__item__list__item__link\" href=\"/formacao-Python-linguagem\">\\nPython                                            </a></li><li\\nclass=\"careers__list__item__list__item\">\\n<a\\nclass=\"careers__list__item__list__item__link\" href=\"/formacao-python-web\">\\nPython Web                                            </a></li><li\\nclass=\"careers__list__item__list__item\">\\n<a\\nclass=\"careers__list__item__list__item__link\" href=\"/formacao-ruby-on-rails\">\\nRuby On Rails                                            </a></li><li\\nclass=\"careers__list__item__list__item\">\\n<a\\nclass=\"careers__list__item__list__item__link\" href=\"/formacao-wordpress\">\\nWordpress                                            </a></li></ul></li><style type=\"text/css\">.career-front-end-title:after {\\n\\t\\t                            \\tbackground-color:#6bd1ff;\\n\\t\\t                            }</style><li\\nclass=\"careers__list__item\" style=\"color:#6bd1ff;\"><div\\nclass=\"careers__list__item__title-wrapper\"><div\\nclass=\"categories__svg-wrapper\" style=\"background-color:#6bd1ff;\">\\n<svg\\nclass=\"pagina-categoria__svg svgFill-front-end categories__svg\" xmlns:xlink=\"http://www.w3.org/1999/xlink\">\\n<use\\nxlink:href=\"/svg,1570550707/categorias#icon-categorias-front-end\"/>\\n</svg></div><h3 class=\"careers__list__item__title\">Front-end</h3></div><h4 class=\"careers__list__item__sub-title career-front-end-title\">Forma\\xc3\\xa7\\xc3\\xb5es</h4><ul\\nclass=\"careers__list__item__list careers__list__item__list--formacoes\"><li\\nclass=\"careers__list__item__list__item\">\\n<a\\nclass=\"careers__list__item__list__item__link\" href=\"/formacao-acessibilidade-web\">\\nAcessibilidade Web                                            </a></li><li\\nclass=\"careers__list__item__list__item\">\\n<a\\nclass=\"careers__list__item__list__item__link\" href=\"/formacao-angular\">\\nAngular                                            </a></li><li\\nclass=\"careers__list__item__list__item\">\\n<a\\nclass=\"careers__list__item__list__item__link\" href=\"/formacao-front-end\">\\nFront-end                                            </a></li><li\\nclass=\"careers__list__item__list__item\">\\n<a\\nclass=\"careers__list__item__list__item__link\" href=\"/formacao-html-e-css\">\\nHTML e CSS                                            </a></li><li\\nclass=\"careers__list__item__list__item\">\\n<a\\nclass=\"careers__list__item__list__item__link\" href=\"/formacao-node-js\">\\nNode.js                                            </a></li><li\\nclass=\"careers__list__item__list__item\">\\n<a\\nclass=\"careers__list__item__list__item__link\" href=\"/formacao-react\">\\nReact                                            </a></li><li\\nclass=\"careers__list__item__list__item\">\\n<a\\nclass=\"careers__list__item__list__item__link\" href=\"/formacao-vuejs\">\\nVue.js                                            </a></li></ul></li><style type=\"text/css\">.career-infraestrutura-title:after {\\n\\t\\t                            \\tbackground-color:#f16165;\\n\\t\\t                            }</style><li\\nclass=\"careers__list__item\" style=\"color:#f16165;\"><div\\nclass=\"careers__list__item__title-wrapper\"><div\\nclass=\"categories__svg-wrapper\" style=\"background-color:#f16165;\">\\n<svg\\nclass=\"pagina-categoria__svg svgFill-infraestrutura categories__svg\" xmlns:xlink=\"http://www.w3.org/1999/xlink\">\\n<use\\nxlink:href=\"/svg,1570550707/categorias#icon-categorias-infraestrutura\"/>\\n</svg></div><h3 class=\"careers__list__item__title\">Infraestrutura</h3></div><h4 class=\"careers__list__item__sub-title career-infraestrutura-title\">Forma\\xc3\\xa7\\xc3\\xb5es</h4><ul\\nclass=\"careers__list__item__list careers__list__item__list--formacoes\"><li\\nclass=\"careers__list__item__list__item\">\\n<a\\nclass=\"careers__list__item__list__item__link\" href=\"/formacao-redes\">\\nAdministrador de Redes                                            </a></li><li\\nclass=\"careers__list__item__list__item\">\\n<a\\nclass=\"careers__list__item__list__item__link\" href=\"/formacao-amazon-web-services\">\\nAmazon Web Services                                            </a></li><li\\nclass=\"careers__list__item__list__item\">\\n<a\\nclass=\"careers__list__item__list__item__link\" href=\"/formacao-certificacao-cisco-ccna\">\\nCertifica\\xc3\\xa7\\xc3\\xa3o Cisco CCNA                                            </a></li><li\\nclass=\"careers__list__item__list__item\">\\n<a\\nclass=\"careers__list__item__list__item__link\" href=\"/formacao-certificacao-lpi-linux-essentials\">\\nCertifica\\xc3\\xa7\\xc3\\xa3o LPI Linux Essentials                                            </a></li><li\\nclass=\"careers__list__item__list__item\">\\n<a\\nclass=\"careers__list__item__list__item__link\" href=\"/formacao-devops\">\\nDevOps                                            </a></li><li\\nclass=\"careers__list__item__list__item\">\\n<a\\nclass=\"careers__list__item__list__item__link\" href=\"/formacao-internet-das-coisas-iot\">\\nInternet das Coisas                                            </a></li><li\\nclass=\"careers__list__item__list__item\">\\n<a\\nclass=\"careers__list__item__list__item__link\" href=\"/formacao-microcontroladores-eletronica-aplicada\">\\nMicrocontroladores e Eletr\\xc3\\xb4nica Aplicada                                            </a></li><li\\nclass=\"careers__list__item__list__item\">\\n<a\\nclass=\"careers__list__item__list__item__link\" href=\"/formacao-raspberry-pi\">\\nRaspberry Pi                                            </a></li><li\\nclass=\"careers__list__item__list__item\">\\n<a\\nclass=\"careers__list__item__list__item__link\" href=\"/formacao-seguranca-de-aplicacoes\">\\nSeguran\\xc3\\xa7a de aplica\\xc3\\xa7\\xc3\\xb5es                                            </a></li></ul></li><style type=\"text/css\">.career-design-ux-title:after {\\n\\t\\t                            \\tbackground-color:#dc6ebe;\\n\\t\\t                            }</style><li\\nclass=\"careers__list__item\" style=\"color:#dc6ebe;\"><div\\nclass=\"careers__list__item__title-wrapper\"><div\\nclass=\"categories__svg-wrapper\" style=\"background-color:#dc6ebe;\">\\n<svg\\nclass=\"pagina-categoria__svg svgFill-design-ux categories__svg\" xmlns:xlink=\"http://www.w3.org/1999/xlink\">\\n<use\\nxlink:href=\"/svg,1570550707/categorias#icon-categorias-design-ux\"/>\\n</svg></div><h3 class=\"careers__list__item__title\">Design & UX</h3></div><h4 class=\"careers__list__item__sub-title career-design-ux-title\">Forma\\xc3\\xa7\\xc3\\xb5es</h4><ul\\nclass=\"careers__list__item__list careers__list__item__list--formacoes\"><li\\nclass=\"careers__list__item__list__item\">\\n<a\\nclass=\"careers__list__item__list__item__link\" href=\"/formacao-ui-adobe-xd\">\\nAdobe XD                                            </a></li><li\\nclass=\"careers__list__item__list__item\">\\n<a\\nclass=\"careers__list__item__list__item__link\" href=\"/formacao-desenhohumano-photoshop\">\\nDesenho humano no Photoshop                                            </a></li><li\\nclass=\"careers__list__item__list__item\">\\n<a\\nclass=\"careers__list__item__list__item__link\" href=\"/formacao-design-grafico\">\\nDesign Gr\\xc3\\xa1fico                                            </a></li><li\\nclass=\"careers__list__item__list__item\">\\n<a\\nclass=\"careers__list__item__list__item__link\" href=\"/formacao-editor-video\">\\nEditor de v\\xc3\\xaddeo                                            </a></li><li\\nclass=\"careers__list__item__list__item\">\\n<a\\nclass=\"careers__list__item__list__item__link\" href=\"/formacao-ilustra-publicitaria\">\\nIlustra\\xc3\\xa7\\xc3\\xa3o Publicit\\xc3\\xa1ria no Photoshop                                            </a></li><li\\nclass=\"careers__list__item__list__item\">\\n<a\\nclass=\"careers__list__item__list__item__link\" href=\"/formacao-producao-indesign\">\\nInDesign                                            </a></li><li\\nclass=\"careers__list__item__list__item\">\\n<a\\nclass=\"careers__list__item__list__item__link\" href=\"/formacao-motion-design\">\\nMotion Design                                            </a></li><li\\nclass=\"careers__list__item__list__item\">\\n<a\\nclass=\"careers__list__item__list__item__link\" href=\"/formacao-pinturadigital-photoshop\">\\nPintura Digital no Photoshop                                            </a></li><li\\nclass=\"careers__list__item__list__item\">\\n<a\\nclass=\"careers__list__item__list__item__link\" href=\"/formacao-producao-com-photoshop\">\\nProdu\\xc3\\xa7\\xc3\\xa3o com Photoshop                                            </a></li><li\\nclass=\"careers__list__item__list__item\">\\n<a\\nclass=\"careers__list__item__list__item__link\" href=\"/formacao-procucao-premiere\">\\nProdu\\xc3\\xa7\\xc3\\xa3o de v\\xc3\\xaddeo no Premiere                                            </a></li><li\\nclass=\"careers__list__item__list__item\">\\n<a\\nclass=\"careers__list__item__list__item__link\" href=\"/formacao-grafica-illustrator\">\\nProdu\\xc3\\xa7\\xc3\\xa3o Gr\\xc3\\xa1fica com Illustrator                                            </a></li><li\\nclass=\"careers__list__item__list__item\">\\n<a\\nclass=\"careers__list__item__list__item__link\" href=\"/formacao-ui-sketch\">\\nSketch                                            </a></li><li\\nclass=\"careers__list__item__list__item\">\\n<a\\nclass=\"careers__list__item__list__item__link\" href=\"/formacao-unreal-engine\">\\nUnreal Engine                                            </a></li><li\\nclass=\"careers__list__item__list__item\">\\n<a\\nclass=\"careers__list__item__list__item__link\" href=\"/formacao-ux\">\\nUX Design                                            </a></li></ul></li><style type=\"text/css\">.career-data-science-title:after {\\n\\t\\t                            \\tbackground-color:#9cd33b;\\n\\t\\t                            }</style><li\\nclass=\"careers__list__item\" style=\"color:#9cd33b;\"><div\\nclass=\"careers__list__item__title-wrapper\"><div\\nclass=\"categories__svg-wrapper\" style=\"background-color:#9cd33b;\">\\n<svg\\nclass=\"pagina-categoria__svg svgFill-data-science categories__svg\" xmlns:xlink=\"http://www.w3.org/1999/xlink\">\\n<use\\nxlink:href=\"/svg,1570550707/categorias#icon-categorias-data-science\"/>\\n</svg></div><h3 class=\"careers__list__item__title\">Data Science</h3></div><h4 class=\"careers__list__item__sub-title career-data-science-title\">Forma\\xc3\\xa7\\xc3\\xb5es</h4><ul\\nclass=\"careers__list__item__list careers__list__item__list--formacoes\"><li\\nclass=\"careers__list__item__list__item\">\\n<a\\nclass=\"careers__list__item__list__item__link\" href=\"/formacao-business-intelligence-data-warehouse-pentaho\">\\nBI e Data Warehouse com Pentaho                                            </a></li><li\\nclass=\"careers__list__item__list__item\">\\n<a\\nclass=\"careers__list__item__list__item__link\" href=\"/formacao-business-intelligence-data-warehouse\">\\nBI e Data Warehouse com SQL Server e Power BI                                            </a></li><li\\nclass=\"careers__list__item__list__item\">\\n<a\\nclass=\"careers__list__item__list__item__link\" href=\"/formacao-certificacao-oracle-12c\">\\nCertifica\\xc3\\xa7\\xc3\\xa3o Oracle 12c                                            </a></li><li\\nclass=\"careers__list__item__list__item\">\\n<a\\nclass=\"careers__list__item__list__item__link\" href=\"/formacao-data-science\">\\nData Science                                            </a></li><li\\nclass=\"careers__list__item__list__item\">\\n<a\\nclass=\"careers__list__item__list__item__link\" href=\"/formacao-excel-vba\">\\nExcel VBA                                            </a></li><li\\nclass=\"careers__list__item__list__item\">\\n<a\\nclass=\"careers__list__item__list__item__link\" href=\"/formacao-machine-learning\">\\nMachine Learning                                            </a></li><li\\nclass=\"careers__list__item__list__item\">\\n<a\\nclass=\"careers__list__item__list__item__link\" href=\"/formacao-oracle-sql-plsql\">\\nOracle SQL e PL/SQL                                            </a></li><li\\nclass=\"careers__list__item__list__item\">\\n<a\\nclass=\"careers__list__item__list__item__link\" href=\"/formacao-microsoft-sql-server-2017\">\\nSQL com Microsoft SQL Server 2017                                            </a></li><li\\nclass=\"careers__list__item__list__item\">\\n<a\\nclass=\"careers__list__item__list__item__link\" href=\"/formacao-oracle-mysql\">\\nSQL com MySQL Server da Oracle                                            </a></li></ul></li><style type=\"text/css\">.career-marketing-digital-title:after {\\n\\t\\t                            \\tbackground-color:#6b5be2;\\n\\t\\t                            }</style><li\\nclass=\"careers__list__item\" style=\"color:#6b5be2;\"><div\\nclass=\"careers__list__item__title-wrapper\"><div\\nclass=\"categories__svg-wrapper\" style=\"background-color:#6b5be2;\">\\n<svg\\nclass=\"pagina-categoria__svg svgFill-marketing-digital categories__svg\" xmlns:xlink=\"http://www.w3.org/1999/xlink\">\\n<use\\nxlink:href=\"/svg,1570550707/categorias#icon-categorias-marketing-digital\"/>\\n</svg></div><h3 class=\"careers__list__item__title\">Marketing Digital</h3></div><h4 class=\"careers__list__item__sub-title career-marketing-digital-title\">Forma\\xc3\\xa7\\xc3\\xb5es</h4><ul\\nclass=\"careers__list__item__list careers__list__item__list--formacoes\"><li\\nclass=\"careers__list__item__list__item\">\\n<a\\nclass=\"careers__list__item__list__item__link\" href=\"/formacao-marketing-digital\">\\nMarketing Digital                                            </a></li><li\\nclass=\"careers__list__item__list__item\">\\n<a\\nclass=\"careers__list__item__list__item__link\" href=\"/formacao-seo\">\\nSEO                                            </a></li><li\\nclass=\"careers__list__item__list__item\">\\n<a\\nclass=\"careers__list__item__list__item__link\" href=\"/formacao-social-media\">\\nSocial Media                                            </a></li></ul></li><style type=\"text/css\">.career-inovacao-gestao-title:after {\\n\\t\\t                            \\tbackground-color:#ff8c2a;\\n\\t\\t                            }</style><li\\nclass=\"careers__list__item\" style=\"color:#ff8c2a;\"><div\\nclass=\"careers__list__item__title-wrapper\"><div\\nclass=\"categories__svg-wrapper\" style=\"background-color:#ff8c2a;\">\\n<svg\\nclass=\"pagina-categoria__svg svgFill-inovacao-gestao categories__svg\" xmlns:xlink=\"http://www.w3.org/1999/xlink\">\\n<use\\nxlink:href=\"/svg,1570550707/categorias#icon-categorias-inovacao-gestao\"/>\\n</svg></div><h3 class=\"careers__list__item__title\">Inova\\xc3\\xa7\\xc3\\xa3o & Gest\\xc3\\xa3o</h3></div><h4 class=\"careers__list__item__sub-title career-inovacao-gestao-title\">Forma\\xc3\\xa7\\xc3\\xb5es</h4><ul\\nclass=\"careers__list__item__list careers__list__item__list--formacoes\"><li\\nclass=\"careers__list__item__list__item\">\\n<a\\nclass=\"careers__list__item__list__item__link\" href=\"/formacao-business-agility\">\\nBusiness Agility                                            </a></li><li\\nclass=\"careers__list__item__list__item\">\\n<a\\nclass=\"careers__list__item__list__item__link\" href=\"/formacao-certificacao-cobit-5\">\\nCertifica\\xc3\\xa7\\xc3\\xa3o Cobit 5                                            </a></li><li\\nclass=\"careers__list__item__list__item\">\\n<a\\nclass=\"careers__list__item__list__item__link\" href=\"/formacao-certificacao-itil-foundation\">\\nCertifica\\xc3\\xa7\\xc3\\xa3o ITIL Foundation                                            </a></li><li\\nclass=\"careers__list__item__list__item\">\\n<a\\nclass=\"careers__list__item__list__item__link\" href=\"/formacao-certificacao-pmp-capm-pmi\">\\nCertifica\\xc3\\xa7\\xc3\\xa3o PMP e CAPM do PMI                                            </a></li><li\\nclass=\"careers__list__item__list__item\">\\n<a\\nclass=\"careers__list__item__list__item__link\" href=\"/formacao-curriculos\">\\nCurr\\xc3\\xadculos                                            </a></li><li\\nclass=\"careers__list__item__list__item\">\\n<a\\nclass=\"careers__list__item__list__item__link\" href=\"/formacao-desenvolvimento-pessoal\">\\nDesenvolvimento Pessoal                                            </a></li><li\\nclass=\"careers__list__item__list__item\">\\n<a\\nclass=\"careers__list__item__list__item__link\" href=\"/formacao-e-commerce\">\\nE-commerce                                            </a></li><li\\nclass=\"careers__list__item__list__item\">\\n<a\\nclass=\"careers__list__item__list__item__link\" href=\"/formacao-empreendedorismo-digital\">\\nEmpreendedorismo Digital                                            </a></li><li\\nclass=\"careers__list__item__list__item\">\\n<a\\nclass=\"careers__list__item__list__item__link\" href=\"/formacao-gerente-agil\">\\nGerente \\xc3\\x81gil                                            </a></li></ul></li></ul></div></section><link\\nrel=\"stylesheet\" href=\"/assets/css/block/destaqueAlunos.1570550707.css\"><section\\nclass=\"testimonies\"><div\\nclass=\"container\"><div\\nclass=\"testimonies__wrapper\"><h2 class=\"testimonies__title\">\\nExperi\\xc3\\xaancias de quem\\n<strong\\nclass=\"testimonies__title__featured\">j\\xc3\\xa1 estudou com a gente</strong></h2></div><nav\\nclass=\"testimonies__list\"><div\\nclass=\"testimonies__list__item\"><div\\nclass=\"testimony\">\\n<img\\nclass=\"testimonies__list__item__photo\" alt=\"\"\\nsrc=\"/assets/img/aluno-destaque/genilton-souza.1570550707.jpg\"><div\\nclass=\"testimonies__list__item__wrapper\"><h3 class=\"testimonies__list__item__title\">Genilton Souza</h3>\\n<span\\nclass=\"testimonies__list__item__description\">\\nSe voc\\xc3\\xaa n\\xc3\\xa3o sabe a ordem do que deve aprender e praticar para\\ndominar uma tecnologia, <strong>a forma como os cursos est\\xc3\\xa3o organizados\\ne estruturados na Alura ajuda muito</strong>.\\nAprendi C# aqui e pago minhas contas com isso hoje em dia.</span></div></div></div><div\\nclass=\"testimonies__list__item\"><div\\nclass=\"testimony\">\\n<img\\nclass=\"testimonies__list__item__photo\" alt=\"\"\\nsrc=\"/assets/img/aluno-destaque/leandro-silva.1570550707.jpg\"><div\\nclass=\"testimonies__list__item__wrapper\"><h3 class=\"testimonies__list__item__title\">Leandro da Silva</h3>\\n<span\\nclass=\"testimonies__list__item__description\">\\nPassei dois anos e meio desempregado e foi onde conheci os cursos\\nda Alura. <strong>Consegui fazer uma mudan\\xc3\\xa7a de carreira em uma \\xc3\\xa1rea muito\\ndisputada e estou muito feliz</strong>: passei em um processo seletivo\\ncomo Agente de Inova\\xc3\\xa7\\xc3\\xa3o, e muito do que aprendi tanto para a prova\\nquanto para a etapa presencial foi gra\\xc3\\xa7as a Alura.\\n</span></div></div></div><div\\nclass=\"testimonies__list__item\"><div\\nclass=\"testimony\">\\n<img\\nclass=\"testimonies__list__item__photo\" alt=\"\"\\nsrc=\"/assets/img/aluno-destaque/nadia-oliveira.1570550707.jpg\"><div\\nclass=\"testimonies__list__item__wrapper\"><h3 class=\"testimonies__list__item__title\">N\\xc3\\xa1dia Oliveira</h3>\\n<span\\nclass=\"testimonies__list__item__description\">\\nA plataforma \\xc3\\xa9 incr\\xc3\\xadvel. Al\\xc3\\xa9m das metodologias do curso serem de alcance\\npara quem est\\xc3\\xa1 come\\xc3\\xa7ando ou quem j\\xc3\\xa1 est\\xc3\\xa1 avan\\xc3\\xa7ado em alguma tecnologia,\\nno f\\xc3\\xb3rum de d\\xc3\\xbavidas sempre algum instrutor ou aluno te responde em um\\ncurto espa\\xc3\\xa7o de tempo.\\n<strong>Na Alura, seu conhecimento \\xc3\\xa9 prioridade</strong>.\\n</span></div></div></div></nav></div></section><section\\nclass=\"companies\"><div\\nclass=\"container\"><div\\nclass=\"companies-wrapper\"><div\\nclass=\"companies__description-wrapper\">\\n<img\\nclass=\"companies__image\" src=\"/assets/img/home/homeNova/companies/foto-empresas.1570550707.jpg\" alt=\"Pessoas trabalhando na\\nAlura\"><div\\nclass=\"companies__description\"><div\\nclass=\"companies__description__title-wrapper\"><h2 class=\"companies__description__title\">Para a sua <strong>empresa</strong></h2></div><p\\nclass=\"companies__description__text\">\\nCapacite suas equipes com forma\\xc3\\xa7\\xc3\\xb5es continuadas, lan\\xc3\\xa7amentos semanais, dashboards e relat\\xc3\\xb3rios\\nde engajamento al\\xc3\\xa9m de guias de estudos customizados de acordo com sua necessidade.</p>\\n<a\\nclass=\"companies__description__link\" href=\"/empresas\">Conhe\\xc3\\xa7a os recursos</a></div></div><section\\nclass=\"companies__testimony\"><div\\nclass=\"companies__testimony__wrapper\"><p\\nclass=\"companies__testimony__text\">\\n<em>\\nO time conseguiu aprender muito e um dos diferenciais para n\\xc3\\xb3s foi a l\\xc3\\xadngua,\\ncom  conte\\xc3\\xbado de qualidade em portugu\\xc3\\xaas. Na Alura, a equipe conseguiu estudar pela plataforma\\nonline e aplicar tudo de maneira estruturada.</em></p>\\n<span\\nclass=\"companies__testimony__author\">\\n<strong\\nclass=\"companies__testimony__author__name\">Lucas Souza</strong> CTO da GetNinjas\\n</span></div></section></div><section\\nclass=\"companies__using-alura\"><div\\nclass=\"companies__using-alura__title__wrapper\"><h2 class=\"companies__using-alura__title\">\\n<strong>Empresas que j\\xc3\\xa1 contam com a gente:</strong></h2></div><ul\\nclass=\"companies__using-alura__list\"><li\\nclass=\"companies__using-alura__list__item\">\\n<img\\nclass=\"companies__using-alura__list__item__image\"\\nsrc=\"/assets/img/home/homeNova/logo-empresas/logo-empresa-amil.1570550707.svg\" alt=\"Amil\"></li><li\\nclass=\"companies__using-alura__list__item\">\\n<img\\nclass=\"companies__using-alura__list__item__image\"\\nsrc=\"/assets/img/home/homeNova/logo-empresas/logo-empresa-samsung.1570550707.svg\" alt=\"Samsung\"></li><li\\nclass=\"companies__using-alura__list__item\">\\n<img\\nclass=\"companies__using-alura__list__item__image\"\\nsrc=\"/assets/img/home/homeNova/logo-empresas/logo-empresa-santander.1570550707.svg\" alt=\"Santander\"></li><li\\nclass=\"companies__using-alura__list__item\">\\n<img\\nclass=\"companies__using-alura__list__item__image\"\\nsrc=\"/assets/img/home/homeNova/logo-empresas/logo-empresa-cielo.1570550707.svg\" alt=\"Cielo\"></li><li\\nclass=\"companies__using-alura__list__item\">\\n<img\\nclass=\"companies__using-alura__list__item__image\"\\nsrc=\"/assets/img/home/homeNova/logo-empresas/logo-empresa-algar.1570550707.svg\" alt=\"Algar\"></li><li\\nclass=\"companies__using-alura__list__item\">\\n<img\\nclass=\"companies__using-alura__list__item__image\"\\nsrc=\"/assets/img/home/homeNova/logo-empresas/logo-empresa-caixa.1570550707.svg\" alt=\"Caixa\"></li><li\\nclass=\"companies__using-alura__list__item\">\\n<img\\nclass=\"companies__using-alura__list__item__image\"\\nsrc=\"/assets/img/home/homeNova/logo-empresas/logo-empresa-globo.1570550707.svg\" alt=\"Globo.com\"></li></ul></section></div></section><section\\nclass=\"mobile\"><div\\nclass=\"container\"><div\\nclass=\"mobile__wrapper-info\"><div\\nclass=\"mobile__info mobile__info--forum\">\\nJ\\xc3\\xa1 s\\xc3\\xa3o\\n<strong>971 cursos</strong>\\ncom lan\\xc3\\xa7amentos toda semana.</div><div\\nclass=\"mobile__info mobile__info--app\">\\nAplicativos para\\n<strong>Android e iOS</strong>\\nBaixe e estude offline em qualquer lugar.</div></div><nav\\nclass=\"mobile__apps-download\">\\n<a\\nhref=\"https://play.google.com/store/apps/details?id=br.com.alura.mobi&hl=pt_BR\"\\nclass=\"mobile__apps-download__item mobile__apps-download__item--google-play\">Google\\nPlay</a>\\n<a\\nhref=\"https://itunes.apple.com/br/app/alura-cursos-online/id1225776635\"\\nclass=\"mobile__apps-download__item mobile__apps-download__item--app-store\">App\\nStore</a></nav></div></section><link\\nrel=\"stylesheet\" href=\"/assets/css/block/planosPagamentoOld.1572538101.css\"><section\\nclass=\"planos-pagamento\" id=\"planos-cursos-online\"><h2 class=\"planos-pagamento__titulo\">\\nSabe quando voc\\xc3\\xaa pode come\\xc3\\xa7ar? <span\\nclass=\"planos-pagamento__titulo--bold\">Agora!</span></h2><div\\nclass=\"container\"><div\\nclass=\"planos-pagamento__planos \"><ul\\nclass=\"planos-pagamento__vantagens-mobile\"><li\\nclass=\"planos-pagamento__vantagem\"><div\\nclass=\"planos-pagamento__wrapper planos-pagamento__wrapper--com-descricao\">\\n<span\\nclass=\"planos-pagamento__label\">971 cursos</span><div\\nclass=\"planos-pagamento__legenda-tooltip\"><p\\nclass=\"planos-pagamento__legenda-descricao\">Cursos de programa\\xc3\\xa7\\xc3\\xa3o, UX, agilidade, data science, transforma\\xc3\\xa7\\xc3\\xa3o digital, mobile, front-end, marketing e infra.</p></div></div></li><li\\nclass=\"planos-pagamento__vantagem\"><div\\nclass=\"planos-pagamento__wrapper planos-pagamento__wrapper--com-descricao\">\\n<span\\nclass=\"planos-pagamento__label\">Certificado de participa\\xc3\\xa7\\xc3\\xa3o</span><div\\nclass=\"planos-pagamento__legenda-tooltip\"><p\\nclass=\"planos-pagamento__legenda-descricao\">Certificado de que assistiu o curso e finalizou as atividades</p></div></div></li><li\\nclass=\"planos-pagamento__vantagem\"><div\\nclass=\"planos-pagamento__wrapper planos-pagamento__wrapper--com-descricao\">\\n<span\\nclass=\"planos-pagamento__label\">App para Android e iPhone/iPad</span><div\\nclass=\"planos-pagamento__legenda-tooltip\"><p\\nclass=\"planos-pagamento__legenda-descricao\">Estude at\\xc3\\xa9 mesmo offline atrav\\xc3\\xa9s das nossas apps Android e iOS em smartphones e tablets</p></div></div></li><li\\nclass=\"planos-pagamento__vantagem\"><div\\nclass=\"planos-pagamento__wrapper planos-pagamento__wrapper--com-descricao\">\\n<span\\nclass=\"planos-pagamento__label\">Projeto avaliado pelos instrutores</span><div\\nclass=\"planos-pagamento__legenda-tooltip\"><p\\nclass=\"planos-pagamento__legenda-descricao\">Projeto pr\\xc3\\xa1ticos para entrega e avalia\\xc3\\xa7\\xc3\\xa3o dos professores da Alura com certificado de aprova\\xc3\\xa7\\xc3\\xa3o diferenciado</p></div></div></li><li\\nclass=\"planos-pagamento__vantagem\"><div\\nclass=\"planos-pagamento__wrapper planos-pagamento__wrapper--com-descricao\">\\n<span\\nclass=\"planos-pagamento__label\">Acesso \\xc3\\xa0 Alura Start</span><div\\nclass=\"planos-pagamento__legenda-tooltip\"><p\\nclass=\"planos-pagamento__legenda-descricao\">Cursos de introdu\\xc3\\xa7\\xc3\\xa3o a tecnologia atrav\\xc3\\xa9s de games, apps e ci\\xc3\\xaancia</p></div></div></li><li\\nclass=\"planos-pagamento__vantagem\"><div\\nclass=\"planos-pagamento__wrapper planos-pagamento__wrapper--com-descricao\">\\n<span\\nclass=\"planos-pagamento__label\">Acesso \\xc3\\xa0 Alura L\\xc3\\xadngua</span><div\\nclass=\"planos-pagamento__legenda-tooltip\"><p\\nclass=\"planos-pagamento__legenda-descricao\">Refor\\xc3\\xa7o online de ingl\\xc3\\xaas e espanhol para aprimorar seu conhecimento</p></div></div></li></ul><div\\nclass=\"planos-pagamento__plano planos-pagamento__plano--premium\"\\ndata-payment-plan  data-payment-plan-price=\"900\"><div\\nclass=\"planos-pagamento__header\"><h4 class=\"planos-pagamento__nome\">Premium</h4></div><ul\\nclass=\"planos-pagamento__vantagens\"><li\\nclass=\"planos-pagamento__vantagem\"><div\\nclass=\"planos-pagamento__wrapper planos-pagamento__wrapper--com-descricao\">\\n<span\\nclass=\"planos-pagamento__label\">971 cursos</span><div\\nclass=\"planos-pagamento__legenda-tooltip\"><p\\nclass=\"planos-pagamento__legenda-descricao\">Cursos de programa\\xc3\\xa7\\xc3\\xa3o, UX, agilidade, data science, transforma\\xc3\\xa7\\xc3\\xa3o digital, mobile, front-end, marketing e infra.</p></div></div><div\\nclass=\"planos-pagamento__checkmark planos-pagamento__checkmark--ativo\">\\n<svg><use\\nxlink:href=\"/svg,1570550707/planosPagamento#icon-planosPagamento-checked\" /></svg></div></li><li\\nclass=\"planos-pagamento__vantagem\"><div\\nclass=\"planos-pagamento__wrapper planos-pagamento__wrapper--com-descricao\">\\n<span\\nclass=\"planos-pagamento__label\">Certificado de participa\\xc3\\xa7\\xc3\\xa3o</span><div\\nclass=\"planos-pagamento__legenda-tooltip\"><p\\nclass=\"planos-pagamento__legenda-descricao\">Certificado de que assistiu o curso e finalizou as atividades</p></div></div><div\\nclass=\"planos-pagamento__checkmark planos-pagamento__checkmark--ativo\">\\n<svg><use\\nxlink:href=\"/svg,1570550707/planosPagamento#icon-planosPagamento-checked\" /></svg></div></li><li\\nclass=\"planos-pagamento__vantagem\"><div\\nclass=\"planos-pagamento__wrapper planos-pagamento__wrapper--com-descricao\">\\n<span\\nclass=\"planos-pagamento__label\">App para Android e iPhone/iPad</span><div\\nclass=\"planos-pagamento__legenda-tooltip\"><p\\nclass=\"planos-pagamento__legenda-descricao\">Estude at\\xc3\\xa9 mesmo offline atrav\\xc3\\xa9s das nossas apps Android e iOS em smartphones e tablets</p></div></div><div\\nclass=\"planos-pagamento__checkmark planos-pagamento__checkmark--ativo\">\\n<svg><use\\nxlink:href=\"/svg,1570550707/planosPagamento#icon-planosPagamento-checked\" /></svg></div></li><li\\nclass=\"planos-pagamento__vantagem\"><div\\nclass=\"planos-pagamento__wrapper planos-pagamento__wrapper--com-descricao\">\\n<span\\nclass=\"planos-pagamento__label\">Projeto avaliado pelos instrutores</span><div\\nclass=\"planos-pagamento__legenda-tooltip\"><p\\nclass=\"planos-pagamento__legenda-descricao\">Projeto pr\\xc3\\xa1ticos para entrega e avalia\\xc3\\xa7\\xc3\\xa3o dos professores da Alura com certificado de aprova\\xc3\\xa7\\xc3\\xa3o diferenciado</p></div></div><div\\nclass=\"planos-pagamento__checkmark \">\\n<svg><use\\nxlink:href=\"/svg,1570550707/planosPagamento#icon-planosPagamento-checked\" /></svg></div></li><li\\nclass=\"planos-pagamento__vantagem\"><div\\nclass=\"planos-pagamento__wrapper planos-pagamento__wrapper--com-descricao\">\\n<span\\nclass=\"planos-pagamento__label\">Acesso \\xc3\\xa0 Alura Start</span><div\\nclass=\"planos-pagamento__legenda-tooltip\"><p\\nclass=\"planos-pagamento__legenda-descricao\">Cursos de introdu\\xc3\\xa7\\xc3\\xa3o a tecnologia atrav\\xc3\\xa9s de games, apps e ci\\xc3\\xaancia</p></div></div><div\\nclass=\"planos-pagamento__checkmark \">\\n<svg><use\\nxlink:href=\"/svg,1570550707/planosPagamento#icon-planosPagamento-checked\" /></svg></div></li><li\\nclass=\"planos-pagamento__vantagem\"><div\\nclass=\"planos-pagamento__wrapper planos-pagamento__wrapper--com-descricao\">\\n<span\\nclass=\"planos-pagamento__label\">Acesso \\xc3\\xa0 Alura L\\xc3\\xadngua</span><div\\nclass=\"planos-pagamento__legenda-tooltip\"><p\\nclass=\"planos-pagamento__legenda-descricao\">Refor\\xc3\\xa7o online de ingl\\xc3\\xaas e espanhol para aprimorar seu conhecimento</p></div></div><div\\nclass=\"planos-pagamento__checkmark \">\\n<svg><use\\nxlink:href=\"/svg,1570550707/planosPagamento#icon-planosPagamento-checked\" /></svg></div></li></ul><div\\nclass=\"planos-pagamento__precos \">\\n<span\\nclass=\"planos-pagamento__numero-parcelas\">\\n12X\\n</span><div\\nclass=\"planos-pagamento__preco-parcela\\n\">\\n<span\\nclass=\"planos-pagamento__valor-parcela\">R$75</div><div\\nclass=\"planos-pagamento__preco-vista\">\\n<span\\nclass=\"planos-pagamento__label-vista\">\\xc3\\xa0 vista</span>\\n<span\\nclass=\"planos-pagamento__valor-vista\">R$900</span></div></div><a\\nclass=\"planos-pagamento__cta\" href=\"/compra/premium/\">\\nMatricule-se\\n</a></div><div\\nclass=\"planos-pagamento__plano planos-pagamento__plano--premiumplus\"\\ndata-payment-plan  data-payment-plan-price=\"1.200\"><div\\nclass=\"planos-pagamento__header\"><h4 class=\"planos-pagamento__nome\">Premium Plus</h4></div><ul\\nclass=\"planos-pagamento__vantagens\"><li\\nclass=\"planos-pagamento__vantagem\"><div\\nclass=\"planos-pagamento__wrapper planos-pagamento__wrapper--com-descricao\">\\n<span\\nclass=\"planos-pagamento__label\">971 cursos</span><div\\nclass=\"planos-pagamento__legenda-tooltip\"><p\\nclass=\"planos-pagamento__legenda-descricao\">Cursos de programa\\xc3\\xa7\\xc3\\xa3o, UX, agilidade, data science, transforma\\xc3\\xa7\\xc3\\xa3o digital, mobile, front-end, marketing e infra.</p></div></div><div\\nclass=\"planos-pagamento__checkmark planos-pagamento__checkmark--ativo\">\\n<svg><use\\nxlink:href=\"/svg,1570550707/planosPagamento#icon-planosPagamento-checked\" /></svg></div></li><li\\nclass=\"planos-pagamento__vantagem\"><div\\nclass=\"planos-pagamento__wrapper planos-pagamento__wrapper--com-descricao\">\\n<span\\nclass=\"planos-pagamento__label\">Certificado de participa\\xc3\\xa7\\xc3\\xa3o</span><div\\nclass=\"planos-pagamento__legenda-tooltip\"><p\\nclass=\"planos-pagamento__legenda-descricao\">Certificado de que assistiu o curso e finalizou as atividades</p></div></div><div\\nclass=\"planos-pagamento__checkmark planos-pagamento__checkmark--ativo\">\\n<svg><use\\nxlink:href=\"/svg,1570550707/planosPagamento#icon-planosPagamento-checked\" /></svg></div></li><li\\nclass=\"planos-pagamento__vantagem\"><div\\nclass=\"planos-pagamento__wrapper planos-pagamento__wrapper--com-descricao\">\\n<span\\nclass=\"planos-pagamento__label\">App para Android e iPhone/iPad</span><div\\nclass=\"planos-pagamento__legenda-tooltip\"><p\\nclass=\"planos-pagamento__legenda-descricao\">Estude at\\xc3\\xa9 mesmo offline atrav\\xc3\\xa9s das nossas apps Android e iOS em smartphones e tablets</p></div></div><div\\nclass=\"planos-pagamento__checkmark planos-pagamento__checkmark--ativo\">\\n<svg><use\\nxlink:href=\"/svg,1570550707/planosPagamento#icon-planosPagamento-checked\" /></svg></div></li><li\\nclass=\"planos-pagamento__vantagem\"><div\\nclass=\"planos-pagamento__wrapper planos-pagamento__wrapper--com-descricao\">\\n<span\\nclass=\"planos-pagamento__label\">Projeto avaliado pelos instrutores</span><div\\nclass=\"planos-pagamento__legenda-tooltip\"><p\\nclass=\"planos-pagamento__legenda-descricao\">Projeto pr\\xc3\\xa1ticos para entrega e avalia\\xc3\\xa7\\xc3\\xa3o dos professores da Alura com certificado de aprova\\xc3\\xa7\\xc3\\xa3o diferenciado</p></div></div><div\\nclass=\"planos-pagamento__checkmark planos-pagamento__checkmark--ativo\">\\n<svg><use\\nxlink:href=\"/svg,1570550707/planosPagamento#icon-planosPagamento-checked\" /></svg></div></li><li\\nclass=\"planos-pagamento__vantagem\"><div\\nclass=\"planos-pagamento__wrapper planos-pagamento__wrapper--com-descricao\">\\n<span\\nclass=\"planos-pagamento__label\">Acesso \\xc3\\xa0 Alura Start</span><div\\nclass=\"planos-pagamento__legenda-tooltip\"><p\\nclass=\"planos-pagamento__legenda-descricao\">Cursos de introdu\\xc3\\xa7\\xc3\\xa3o a tecnologia atrav\\xc3\\xa9s de games, apps e ci\\xc3\\xaancia</p></div></div><div\\nclass=\"planos-pagamento__checkmark planos-pagamento__checkmark--ativo\">\\n<svg><use\\nxlink:href=\"/svg,1570550707/planosPagamento#icon-planosPagamento-checked\" /></svg></div></li><li\\nclass=\"planos-pagamento__vantagem\"><div\\nclass=\"planos-pagamento__wrapper planos-pagamento__wrapper--com-descricao\">\\n<span\\nclass=\"planos-pagamento__label\">Acesso \\xc3\\xa0 Alura L\\xc3\\xadngua</span><div\\nclass=\"planos-pagamento__legenda-tooltip\"><p\\nclass=\"planos-pagamento__legenda-descricao\">Refor\\xc3\\xa7o online de ingl\\xc3\\xaas e espanhol para aprimorar seu conhecimento</p></div></div><div\\nclass=\"planos-pagamento__checkmark \">\\n<svg><use\\nxlink:href=\"/svg,1570550707/planosPagamento#icon-planosPagamento-checked\" /></svg></div></li></ul><div\\nclass=\"planos-pagamento__precos \">\\n<span\\nclass=\"planos-pagamento__numero-parcelas\">\\n12X\\n</span><div\\nclass=\"planos-pagamento__preco-parcela\\n\">\\n<span\\nclass=\"planos-pagamento__valor-parcela\">R$100</div><div\\nclass=\"planos-pagamento__preco-vista\">\\n<span\\nclass=\"planos-pagamento__label-vista\">\\xc3\\xa0 vista</span>\\n<span\\nclass=\"planos-pagamento__valor-vista\">R$1.200</span></div></div><a\\nclass=\"planos-pagamento__cta\" href=\"/compra/premiumplus/\">\\nMatricule-se\\n</a></div><div\\nclass=\"planos-pagamento__plano planos-pagamento__plano--max\"\\ndata-payment-plan  data-payment-plan-price=\"1.440\"><div\\nclass=\"planos-pagamento__header\"><h4 class=\"planos-pagamento__nome\">Max</h4></div><ul\\nclass=\"planos-pagamento__vantagens\"><li\\nclass=\"planos-pagamento__vantagem\"><div\\nclass=\"planos-pagamento__wrapper planos-pagamento__wrapper--com-descricao\">\\n<span\\nclass=\"planos-pagamento__label\">971 cursos</span><div\\nclass=\"planos-pagamento__legenda-tooltip\"><p\\nclass=\"planos-pagamento__legenda-descricao\">Cursos de programa\\xc3\\xa7\\xc3\\xa3o, UX, agilidade, data science, transforma\\xc3\\xa7\\xc3\\xa3o digital, mobile, front-end, marketing e infra.</p></div></div><div\\nclass=\"planos-pagamento__checkmark planos-pagamento__checkmark--ativo\">\\n<svg><use\\nxlink:href=\"/svg,1570550707/planosPagamento#icon-planosPagamento-checked\" /></svg></div></li><li\\nclass=\"planos-pagamento__vantagem\"><div\\nclass=\"planos-pagamento__wrapper planos-pagamento__wrapper--com-descricao\">\\n<span\\nclass=\"planos-pagamento__label\">Certificado de participa\\xc3\\xa7\\xc3\\xa3o</span><div\\nclass=\"planos-pagamento__legenda-tooltip\"><p\\nclass=\"planos-pagamento__legenda-descricao\">Certificado de que assistiu o curso e finalizou as atividades</p></div></div><div\\nclass=\"planos-pagamento__checkmark planos-pagamento__checkmark--ativo\">\\n<svg><use\\nxlink:href=\"/svg,1570550707/planosPagamento#icon-planosPagamento-checked\" /></svg></div></li><li\\nclass=\"planos-pagamento__vantagem\"><div\\nclass=\"planos-pagamento__wrapper planos-pagamento__wrapper--com-descricao\">\\n<span\\nclass=\"planos-pagamento__label\">App para Android e iPhone/iPad</span><div\\nclass=\"planos-pagamento__legenda-tooltip\"><p\\nclass=\"planos-pagamento__legenda-descricao\">Estude at\\xc3\\xa9 mesmo offline atrav\\xc3\\xa9s das nossas apps Android e iOS em smartphones e tablets</p></div></div><div\\nclass=\"planos-pagamento__checkmark planos-pagamento__checkmark--ativo\">\\n<svg><use\\nxlink:href=\"/svg,1570550707/planosPagamento#icon-planosPagamento-checked\" /></svg></div></li><li\\nclass=\"planos-pagamento__vantagem\"><div\\nclass=\"planos-pagamento__wrapper planos-pagamento__wrapper--com-descricao\">\\n<span\\nclass=\"planos-pagamento__label\">Projeto avaliado pelos instrutores</span><div\\nclass=\"planos-pagamento__legenda-tooltip\"><p\\nclass=\"planos-pagamento__legenda-descricao\">Projeto pr\\xc3\\xa1ticos para entrega e avalia\\xc3\\xa7\\xc3\\xa3o dos professores da Alura com certificado de aprova\\xc3\\xa7\\xc3\\xa3o diferenciado</p></div></div><div\\nclass=\"planos-pagamento__checkmark planos-pagamento__checkmark--ativo\">\\n<svg><use\\nxlink:href=\"/svg,1570550707/planosPagamento#icon-planosPagamento-checked\" /></svg></div></li><li\\nclass=\"planos-pagamento__vantagem\"><div\\nclass=\"planos-pagamento__wrapper planos-pagamento__wrapper--com-descricao\">\\n<span\\nclass=\"planos-pagamento__label\">Acesso \\xc3\\xa0 Alura Start</span><div\\nclass=\"planos-pagamento__legenda-tooltip\"><p\\nclass=\"planos-pagamento__legenda-descricao\">Cursos de introdu\\xc3\\xa7\\xc3\\xa3o a tecnologia atrav\\xc3\\xa9s de games, apps e ci\\xc3\\xaancia</p></div></div><div\\nclass=\"planos-pagamento__checkmark planos-pagamento__checkmark--ativo\">\\n<svg><use\\nxlink:href=\"/svg,1570550707/planosPagamento#icon-planosPagamento-checked\" /></svg></div></li><li\\nclass=\"planos-pagamento__vantagem\"><div\\nclass=\"planos-pagamento__wrapper planos-pagamento__wrapper--com-descricao\">\\n<span\\nclass=\"planos-pagamento__label\">Acesso \\xc3\\xa0 Alura L\\xc3\\xadngua</span><div\\nclass=\"planos-pagamento__legenda-tooltip\"><p\\nclass=\"planos-pagamento__legenda-descricao\">Refor\\xc3\\xa7o online de ingl\\xc3\\xaas e espanhol para aprimorar seu conhecimento</p></div></div><div\\nclass=\"planos-pagamento__checkmark planos-pagamento__checkmark--ativo\">\\n<svg><use\\nxlink:href=\"/svg,1570550707/planosPagamento#icon-planosPagamento-checked\" /></svg></div></li></ul><div\\nclass=\"planos-pagamento__precos \">\\n<span\\nclass=\"planos-pagamento__numero-parcelas\">\\n12X\\n</span><div\\nclass=\"planos-pagamento__preco-parcela\\n\">\\n<span\\nclass=\"planos-pagamento__valor-parcela\">R$120</div><div\\nclass=\"planos-pagamento__preco-vista\">\\n<span\\nclass=\"planos-pagamento__label-vista\">\\xc3\\xa0 vista</span>\\n<span\\nclass=\"planos-pagamento__valor-vista\">R$1.440</span></div></div><a\\nclass=\"planos-pagamento__cta\" href=\"/compra/max/\">\\nMatricule-se\\n</a></div></div></div><a\\nclass=\"planos-pagamento__b2b\" href=\"/empresas\">\\n<span>Procurando planos para empresas?</span> \\xe2\\x86\\x92\\n</a><div\\nclass=\"planosPagamento-vantagens\"><div\\nclass=\"container\"><div\\nclass=\"planosPagamento-vantagens-vantagem acesso\">\\n<svg><use\\nxlink:href=\"/svg,1570550707/planosPagamento#icon-planosPagamento-acesso\"/></svg>\\n<span>Acesso por 1 ano<span></div><div\\nclass=\"planosPagamento-vantagens-vantagem horas\">\\n<svg><use\\nxlink:href=\"/svg,1570550707/planosPagamento#icon-planosPagamento-24h\"/></svg>\\n<span>Estude 24h/dia onde e quando quiser</span></div><div\\nclass=\"planosPagamento-vantagens-vantagem novos\">\\n<svg><use\\nxlink:href=\"/svg,1570550707/planosPagamento#icon-planosPagamento-cursos\"/></svg>\\n<span>Novos cursos toda semana</span></div></div></div></section> <script src=\"/assets/js/planosPagamentoOld.1570550707.js\"></script> </main></div>\\n <script>if (navigator.userAgent.indexOf(\\'Safari\\') > 1 && navigator.userAgent.indexOf(\\'Edge\\') < 0)\\n\\t\\t\\tdocument.documentElement.className += \\' home-fundo-animado\\'</script> <script src=\"/assets/js/home/categoriaCard.1570550707.js\"></script> <link\\nrel=\"stylesheet\" href=\"/assets/css/block/footer.1570550707.css\"><footer\\nclass=\"footer\"><div\\nclass=\"container\"><div\\nclass=\"footer-navegue\"><ul\\nclass=\"footer-navegue-lista\"><li\\nclass=\"footer-navegue-lista-link\"><a\\nhref=\"/planos-cursos-online\" gtm-data=\\'footer_primeira_secao_053\\'>Planos</a></li><li\\nclass=\"footer-navegue-lista-link\"><a\\nhref=\"/cursos-online-tecnologia\" gtm-data=\\'footer_primeira_secao_054\\'>Todos os cursos</a></li><li\\nclass=\"footer-navegue-lista-link\"><a\\nhref=\"/guias\">Guias de empresas</a></li><li\\nclass=\"footer-navegue-lista-link\"><a\\nhref=\"/instrutores\" gtm-data=\\'footer_primeira_secao_056\\'>Instrutores</a></li><li\\nclass=\"footer-navegue-lista-link\"><a\\nhref=\"/quero-ser-instrutor\" gtm-data=\\'footer_primeira_secao_057\\'>Como virar instrutor</a></li><li\\nclass=\"footer-navegue-lista-link\"><a\\nhref=\"/artigos\" gtm-data=\\'footer_primeira_secao_059\\'>Artigos</a></li><li\\nclass=\"footer-navegue-lista-link\"><a\\nhref=\"/politica-de-privacidade\" gtm-data=\\'footer_primeira_secao_061\\'>Pol\\xc3\\xadtica de Privacidade</a></li><li\\nclass=\"footer-navegue-lista-link\"><a\\nhref=\"/termos-de-uso\" gtm-data=\\'footer_primeira_secao_062\\'>Termos de Uso</a></li><li\\nclass=\"footer-navegue-lista-link\"><a\\nhref=\"/sobre\" gtm-data=\\'footer_primeira_secao_063\\'>Sobre n\\xc3\\xb3s</a></li><li\\nclass=\"footer-navegue-lista-link\"><a\\nhref=\"https://suporte.alura.com.br/\" gtm-data=\\'footer_primeira_secao_064\\'>Perguntas frequentes</a></li></ul></div><div\\nclass=\"footer-column footer-column-cards\"><div\\nclass=\"footer-newsletter\"><h2 class=\"footer-newsletter-titulo\">Receba Novidades e Lan\\xc3\\xa7amentos</h2><form\\nclass=\"footer-newsletter-form\" action=\"https://cursos.alura.com.br/api/cadastra-newsletter\" method=\"POST\">\\n<input\\ntype=\"hidden\" name=\"retorno\" value=\"https://www.alura.com.br/newsletter-cadastrado\"><label\\nfor=\"email-newsletter\">Email</label>\\n<input\\ntype=\"email\" name=\"email\" class=\"footer-newsletter-input\" placeholder=\"seu email\" id=\"email-newsletter\"><button\\ntype=\"submit\" class=\"footer-newsletter-button buttonForm\">OK</button></form></div><div\\nclass=\"footer-card-hotLinks\"><h2 class=\"footer-card-hotLinks-titulo\">Nossas redes e apps</h2><div\\nclass=\"footer-card-hotLinks-info footer-card-redes\">\\n<a\\nhref=\"https://www.youtube.com/alura\" gtm-data=\\'footer_primeira_secao_065\\' class=\"footer-card-hotLinks-link\" target=\"_blank\" title=\"YouTube da Alura\">\\n<svg\\nclass=\"footer-card-hotLinks-icon footer-card-hotLinks-youtube\"><use\\nxlink:href=\"/svg,1570550707/footer#icon-footer-youtube\"/></svg>\\n<span>YouTube</span>\\n</a>\\n<a\\nhref=\"https://www.facebook.com/AluraCursosOnline/\" gtm-data=\\'footer_primeira_secao_066\\' class=\"footer-card-hotLinks-link\" target=\"_blank\" title=\"Facebook da Alura\">\\n<svg\\nclass=\"footer-card-hotLinks-icon footer-card-hotLinks-facebook\"><use\\nxlink:href=\"/svg,1570550707/footer#icon-footer-facebook\"/></svg>\\n<span>Facebook</span>\\n</a>\\n<a\\nhref=\"https://twitter.com/aluraonline\" gtm-data=\\'footer_primeira_secao_067\\' class=\"footer-card-hotLinks-link\" target=\"_blank\" title=\"Twitter da Alura\">\\n<svg\\nclass=\"footer-card-hotLinks-icon footer-card-hotLinks-twitter\"><use\\nxlink:href=\"/svg,1570550707/footer#icon-footer-twitter\"/></svg>\\n<span>Twitter</span>\\n</a>\\n<a\\nhref=\"https://hipsters.tech/\" class=\"footer-card-hotLinks-link\" gtm-data=\\'footer_primeira_secao_068\\' target=\"_blank\" title=\"Podcast Hipsters Ponto Tech\">\\n<svg\\nclass=\"footer-card-hotLinks-icon footer-card-hotLinks-hipsters\"><use\\nxlink:href=\"/svg,1570550707/footer#icon-footer-hipsters\"/></svg>\\n<span>Podcast Hipsters.tech</span>\\n</a>\\n<a\\nhref=\"https://instagram.com/aluraonline\" class=\"footer-card-hotLinks-link\" gtm-data=\\'footer_primeira_secao_073\\' target=\"_blank\" title=\"Instagram da Alura\">\\n<svg\\nclass=\"footer-card-hotLinks-icon footer-card-hotLinks-instagram\"><use\\nxlink:href=\"/svg,1570550707/footer#icon-footer-instagram\"/></svg>\\n<span>Instagram</span>\\n</a></div><div\\nclass=\"footer-card-hotLinks-info footer-card-mobile\">\\n<a\\nhref=\"https://play.google.com/store/apps/details?id=br.com.alura.mobi&hl=pt_BR\" gtm-data=\\'footer_primeira_secao_069\\' class=\"footer-card-hotLinks-link\" target=\"_blank\" title=\"Baixar na Google Play Store\">\\n<svg\\nclass=\"footer-card-hotLinks-icon footer-card-hotLinks-mobile\"><use\\nxlink:href=\"/svg,1570550707/footer#icon-footer-googleplay\"/></svg>\\n<span>Google Play Store</span>\\n</a>\\n<a\\nhref=\"https://itunes.apple.com/br/app/alura-cursos-online/id1225776635\" gtm-data=\\'footer_primeira_secao_070\\' class=\"footer-card-hotLinks-link\" target=\"_blank\" title=\"Baixar na AppStore\">\\n<svg\\nclass=\"footer-card-hotLinks-icon footer-card-hotLinks-mobile\"><use\\nxlink:href=\"/svg,1570550707/footer#icon-footer-appstore\"/></svg>\\n<span>AppStore</span>\\n</a></div></div></div><div\\nclass=\"footer-column\">\\n<a\\nclass=\"footer-card footer-card-contato\" gtm-data=\\'footer_primeira_secao_071\\' href=\"/contato\"><div\\nclass=\"footer-card-info\"><h2 class=\"footer-card-titulo\">Fale Conosco</h2><p\\nclass=\"footer-card-texto\">D\\xc3\\xbavida, cr\\xc3\\xadtica, sugest\\xc3\\xa3o ou elogio?</p><p\\nclass=\"footer-card-fakeLink\">Entre em contato!</p></div>\\n</a><a\\nclass=\"footer-card footer-card-empresa\" gtm-data=\\'footer_primeira_secao_072\\' href=\"/empresas\"><div\\nclass=\"footer-card-info\"><h2 class=\"footer-card-titulo\">Empresa? Governo?</h2><p\\nclass=\"footer-card-texto\">Planos corporativos para o seu time.</p><p\\nclass=\"footer-card-fakeLink\">Saiba mais</p></div>\\n</a></div><div\\nclass=\"footer-info\"><div\\nclass=\"footer-logos\">\\n<a\\nclass=\"footer-logos-home\" gtm-data=\\'footer_primeira_secao_050\\' href=\"/\">\\n<img\\nsrc=\"/assets/img/alura-logo.1570550707.svg\" alt=\"Alura\" class=\"footer-logo\">\\n</a>\\n<a\\nhref=\"https://www.caelum.com.br/\" gtm-data=\\'footer_primeira_secao_051\\' class=\"footer-link-caelum\"><h3 class=\"footer-powered-by\">Powered by</h3>\\n<img\\nsrc=\"/assets/img/footer/caelum-logo.1570550707.svg\" alt=\"Caelum\" class=\"footer-logo footer-caelumLogo\">\\n</a></div><div\\nclass=\"footer-cnpj\"><p>\\n<span\\nclass=\"footer-empresa-item\">AOVS Sistemas de Inform\\xc3\\xa1tica S.A</span>\\n<span\\nclass=\"footer-empresa-item\">CNPJ 05.555.382/0001-33</span></p></div></div></div></footer><section\\nclass=\"footer_categorias-formacoes\"><div\\nclass=\"container\"><div\\nclass=\"footer_categorias_wrapper\"><h2 class=\"footer_categorias_title\">Cursos</h2><div\\nclass=\"footer_categorias_categorias footer-navegue-lista-link\"><div\\nclass=\"footer_categorias_categoria\">\\n<a\\nhref=\"/cursos-online-mobile\">Cursos de Mobile</a><div\\nclass=\"footer_categorias_subcategorias\">\\n<a\\nhref=\"/cursos-online-mobile/ios\">\\niOS e Swift</a>\\n<a\\nhref=\"/cursos-online-mobile/android\">\\nAndroid e Kotlin</a>\\n<a\\nhref=\"/cursos-online-mobile/multiplataforma\">\\nIonic, React Native</a>\\n<a\\nhref=\"/cursos-online-mobile/jogos\">\\nJogos</a></div></div><div\\nclass=\"footer_categorias_categoria\">\\n<a\\nhref=\"/cursos-online-programacao\">Cursos de Programa\\xc3\\xa7\\xc3\\xa3o</a><div\\nclass=\"footer_categorias_subcategorias\">\\n<a\\nhref=\"/cursos-online-programacao/logica\">\\nL\\xc3\\xb3gica</a>\\n<a\\nhref=\"/cursos-online-programacao/python\">\\nPython</a>\\n<a\\nhref=\"/cursos-online-programacao/php\">\\nPHP</a>\\n<a\\nhref=\"/cursos-online-programacao/java\">\\nJava</a>\\n<a\\nhref=\"/cursos-online-programacao/dotnet\">\\n.NET</a>\\n<a\\nhref=\"/cursos-online-programacao/node-js\">\\nNode JS</a>\\n<a\\nhref=\"/cursos-online-programacao/ruby\">\\nRuby & Rails</a>\\n<a\\nhref=\"/cursos-online-programacao/linguagem-c\">\\nC</a>\\n<a\\nhref=\"/cursos-online-programacao/computacao\">\\nComputa\\xc3\\xa7\\xc3\\xa3o</a>\\n<a\\nhref=\"/cursos-online-programacao/jogos\">\\nJogos</a></div></div><div\\nclass=\"footer_categorias_categoria\">\\n<a\\nhref=\"/cursos-online-front-end\">Cursos de Front-end</a><div\\nclass=\"footer_categorias_subcategorias\">\\n<a\\nhref=\"/cursos-online-front-end/front-end\">\\nHTML, CSS</a>\\n<a\\nhref=\"/cursos-online-front-end/javascript\">\\nJavaScript</a>\\n<a\\nhref=\"/cursos-online-front-end/frameworks-mvc-em-javascript\">\\nAngular, React</a>\\n<a\\nhref=\"/cursos-online-front-end/jquery\">\\njQuery</a></div></div><div\\nclass=\"footer_categorias_categoria\">\\n<a\\nhref=\"/cursos-online-infraestrutura\">Cursos de Infraestrutura</a><div\\nclass=\"footer_categorias_subcategorias\">\\n<a\\nhref=\"/cursos-online-infraestrutura/devops\">\\nDevOps e Git</a>\\n<a\\nhref=\"/cursos-online-infraestrutura/cloud-computing\">\\nCloud</a>\\n<a\\nhref=\"/cursos-online-infraestrutura/linux-comandos-e-processos\">\\nLinux</a>\\n<a\\nhref=\"/cursos-online-infraestrutura/internet-das-coisas\">\\nIoT</a>\\n<a\\nhref=\"/cursos-online-infraestrutura/redes\">\\nRedes</a></div></div><div\\nclass=\"footer_categorias_categoria\">\\n<a\\nhref=\"/cursos-online-design-ux\">Cursos de Design & UX</a><div\\nclass=\"footer_categorias_subcategorias\">\\n<a\\nhref=\"/cursos-online-design-ux/wwww\">\\nPhotoshop e Illustrator</a>\\n<a\\nhref=\"/cursos-online-design-ux/ux\">\\nUsabilidade e UX</a>\\n<a\\nhref=\"/cursos-online-design-ux/video\">\\nV\\xc3\\xaddeo e Motion</a>\\n<a\\nhref=\"/cursos-online-design-ux/3d\">\\n3D</a></div></div><div\\nclass=\"footer_categorias_categoria\">\\n<a\\nhref=\"/cursos-online-marketing-digital\">Cursos de Marketing Digital</a><div\\nclass=\"footer_categorias_subcategorias\">\\n<a\\nhref=\"/cursos-online-marketing-digital/ads\">\\nAds</a>\\n<a\\nhref=\"/cursos-online-marketing-digital/marketing-digital\">\\nMarketing</a>\\n<a\\nhref=\"/cursos-online-marketing-digital/seo\">\\nSEO</a>\\n<a\\nhref=\"/cursos-online-marketing-digital/e-commerce\">\\nE-commerce</a>\\n<a\\nhref=\"/cursos-online-marketing-digital/social-media\">\\nSocial Media</a>\\n<a\\nhref=\"/cursos-online-marketing-digital/youtube\">\\nYouTube</a></div></div><div\\nclass=\"footer_categorias_categoria\">\\n<a\\nhref=\"/cursos-online-data-science\">Cursos de Data Science</a><div\\nclass=\"footer_categorias_subcategorias\">\\n<a\\nhref=\"/cursos-online-data-science/sql\">\\nSQL e Banco de Dados</a>\\n<a\\nhref=\"/cursos-online-data-science/nosql\">\\nNoSQL</a>\\n<a\\nhref=\"/cursos-online-data-science/data-science\">\\nData Science</a>\\n<a\\nhref=\"/cursos-online-data-science/machine-learning\">\\nMachine Learning</a>\\n<a\\nhref=\"/cursos-online-data-science/business-intelligence\">\\nBI</a>\\n<a\\nhref=\"/cursos-online-data-science/estatistica\">\\nEstat\\xc3\\xadstica</a>\\n<a\\nhref=\"/cursos-online-data-science/excel\">\\nExcel</a></div></div><div\\nclass=\"footer_categorias_categoria\">\\n<a\\nhref=\"/cursos-online-inovacao-gestao\">Cursos de Inova\\xc3\\xa7\\xc3\\xa3o & Gest\\xc3\\xa3o</a><div\\nclass=\"footer_categorias_subcategorias\">\\n<a\\nhref=\"/cursos-online-inovacao-gestao/agilidade\">\\nM\\xc3\\xa9todos \\xc3\\x81geis</a>\\n<a\\nhref=\"/cursos-online-inovacao-gestao/habilidades-interpessoais\">\\nSoftskills</a>\\n<a\\nhref=\"/cursos-online-inovacao-gestao/lideranca-gestao-estrategica\">\\nLideran\\xc3\\xa7a e Gest\\xc3\\xa3o</a>\\n<a\\nhref=\"/cursos-online-inovacao-gestao/startup-empreendedorismo\">\\nEmpreendedorismo</a></div></div></div></div></div></section><style>@media not all and (min-width: 1000px){\\n\\t\\t.grupoCaelum{\\n\\t\\t\\tdisplay: none;\\n\\t\\t}\\n\\t}\\n\\n\\t.grupoCaelum{\\n\\t\\tbackground: #fff;\\n\\t\\theight: 240px;\\n\\t\\tborder-top: 1px solid #EBEBEE;\\n\\t}\\n\\n\\t.grupoCaelum .container{\\n\\t\\tdisplay: flex;\\n\\t\\tjustify-content: space-between;\\n\\t\\talign-items: flex-start;\\n\\t\\tpadding-top: 0;\\n\\t\\tpadding-bottom: 0;\\n\\t\\theight: 100%;\\n\\t}\\n\\n\\t\\t.grupoCaelum-list{\\n\\t\\t\\tdisplay: flex;\\n\\t\\t\\tlist-style: none;\\n\\t\\t\\twidth: 60%;\\n\\t\\t\\tjustify-content: space-between;\\n\\t\\t\\talign-items: flex-start;\\n\\t\\t\\tmargin-top: 20px;\\n\\t\\t}\\n\\n\\t\\t.grupoCaelum-title{\\n\\t\\t\\twidth: 20%;\\n\\t\\t}\\n\\n\\t\\t.grupoCaelum-column {\\n\\t\\t\\tdisplay: inline-block;\\n\\t\\t\\tpadding-left: 19px;\\n\\t\\t\\twidth: 240px;\\n\\t\\t\\theight: 210px;\\n\\t\\t\\tmin-width: 160px;\\n\\t\\t}\\n\\t\\t\\t.grupoCaelum-column-title {\\n\\t\\t\\t\\tfont-size: 10px;\\n\\t\\t\\t\\tcolor: #d7e0e5;\\n\\t\\t\\t\\ttext-transform: uppercase;\\n\\t\\t\\t\\tfont-weight: 600;\\n\\t\\t\\t\\tmargin-bottom: 19px;\\n\\t\\t\\t}\\n\\n\\t\\t\\t.grupoCaelum-column-list {\\n\\t\\t\\t\\tlist-style: none;\\n\\t\\t\\t}\\n\\n\\t\\t\\t.column-item-title {\\n\\t\\t\\t\\tfont-size: 11px;\\n\\t\\t\\t\\ttext-align: center;\\n\\t\\t\\t\\tvertical-align: middle;\\n\\t\\t\\t\\tdisplay: inline-block;\\n\\t\\t\\t\\tmargin-left: 6.5px;\\n\\t\\t\\t}\\n\\n\\t\\t.grupoCaelum-column:not(:first-child) {\\n\\t\\t\\tborder-left: solid 1px #e3e9ed;\\n\\t\\t}\\n\\n\\t\\t.grupoCaelum-title {\\n\\t\\t\\tdisplay: inline-block;\\n\\t\\t\\ttext-decoration: none;\\n\\t\\t\\tcolor: #657176;\\n\\t\\t\\tletter-spacing: normal;\\n\\t\\t\\tfont-size: 18px;\\n\\t\\t\\tmargin-top: 54px;\\n\\t\\t}\\n\\n\\t.column-item-logo {\\n\\t\\twidth: 30px;\\n\\t\\theight: 30px;\\n\\t\\tvertical-align: middle;\\n\\t\\tdisplay: inline-block;\\n\\t}\\n\\n\\t.column-item {\\n\\t\\tmargin-bottom: 17px;\\n\\t}\\n\\n\\t.column-item a{\\n\\t\\ttext-decoration: none;\\n\\t\\tcolor: #657176;\\n\\t}</style><footer\\nclass=\"caelum-footer\"><div\\nclass=\"grupoCaelum\"><div\\nclass=\"container\"><p\\nclass=\"grupoCaelum-title\">Grupo Caelum Alura</p><ul\\nclass=\"grupoCaelum-list\"><li\\nclass=\"grupoCaelum-column\"><p\\nclass=\"grupoCaelum-column-title\">Educa\\xc3\\xa7\\xc3\\xa3o</p><ul\\nclass=\"grupoCaelum-column-list\"><li\\nclass=\"column-item\">\\n<a\\ntarget=\"_blank\" href=\"https://www.caelum.com.br\">\\n<svg\\nclass=\"column-item-logo\"><use\\nxlink:href=\"/svg,1570550707/caelumFooter#icon-caelumFooter-caelum\"><span\\nclass=\"column-item-title\">Caelum</span></svg>\\n</a></li><li\\nclass=\"column-item\">\\n<a\\ntarget=\"_blank\" href=\"https://www.casadocodigo.com.br\">\\n<svg\\nclass=\"column-item-logo\"><use\\nxlink:href=\"/svg,1570550707/caelumFooter#icon-caelumFooter-cdc\"><span\\nclass=\"column-item-title\">Casa do C\\xc3\\xb3digo</span></svg>\\n</a></li></ul></li><li\\nclass=\"grupoCaelum-column\"><p\\nclass=\"grupoCaelum-column-title\">Educa\\xc3\\xa7\\xc3\\xa3o Online</p><ul\\nclass=\"grupoCaelum-column-list\"><li\\nclass=\"column-item\">\\n<a\\ntarget=\"_blank\" href=\"https://www.alura.com.br\">\\n<svg\\nclass=\"column-item-logo\"><use\\nxlink:href=\"/svg,1570550707/caelumFooter#icon-caelumFooter-alura\"><span\\nclass=\"column-item-title\">Alura</span></svg>\\n</a></li><li\\nclass=\"column-item\">\\n<a\\ntarget=\"_blank\" href=\"https://www.alurastart.com.br\">\\n<svg\\nclass=\"column-item-logo\"><use\\nxlink:href=\"/svg,1570550707/caelumFooter#icon-caelumFooter-alurastart\"><span\\nclass=\"column-item-title\">Alura Start</span></svg>\\n</a></li><li\\nclass=\"column-item\">\\n<a\\ntarget=\"_blank\" href=\"https://www.musicdot.com.br\">\\n<svg\\nclass=\"column-item-logo\"><use\\nxlink:href=\"/svg,1570550707/caelumFooter#icon-caelumFooter-musicdot\"><span\\nclass=\"column-item-title\">MusicDot</span></svg>\\n</a></li><li\\nclass=\"column-item\">\\n<a\\ntarget=\"_blank\" href=\"https://www.aluralingua.com.br\">\\n<svg\\nclass=\"column-item-logo\"><use\\nxlink:href=\"/svg,1570550707/caelumFooter#icon-caelumFooter-aluralingua\"><span\\nclass=\"column-item-title\">Alura L\\xc3\\xadngua</span></svg>\\n</a></li></ul></li><li\\nclass=\"grupoCaelum-column\"><p\\nclass=\"grupoCaelum-column-title\">Comunidade</p><ul\\nclass=\"grupoCaelum-column-list\"><li\\nclass=\"column-item\">\\n<a\\ntarget=\"_blank\" href=\"https://hipsters.tech\">\\n<svg\\nclass=\"column-item-logo\"><use\\nxlink:href=\"/svg,1570550707/caelumFooter#icon-caelumFooter-hipsterstech\"><span\\nclass=\"column-item-title\">Hipsters ponto Tech</span></svg>\\n</a></li><li\\nclass=\"column-item\">\\n<a\\ntarget=\"_blank\" href=\"https://hipsters.jobs\">\\n<svg\\nclass=\"column-item-logo\"><use\\nxlink:href=\"/svg,1570550707/caelumFooter#icon-caelumFooter-hipstersjobs\"><span\\nclass=\"column-item-title\">Hipsters ponto Jobs</span></svg>\\n</a></li><li\\nclass=\"column-item\">\\n<a\\ntarget=\"_blank\" href=\"https://www.guj.com.br\">\\n<svg\\nclass=\"column-item-logo\"><use\\nxlink:href=\"/svg,1570550707/caelumFooter#icon-caelumFooter-guj\"><span\\nclass=\"column-item-title\">GUJ</span></svg>\\n</a></li></ul></li></ul></div></div></footer> <script>(function(){\\n    var match = location.pathname.match(/\\\\/(bf-|blackfriday\\\\/)([^\\\\/]+)/);\\n    if (match != null) {\\n        var links = document.querySelectorAll(\\'a[href]\\');\\n        for (var i = 0; i < links.length; i++) {\\n            var href = links[i].getAttribute(\\'href\\');\\n            if (href[0] === \\'/\\') {\\n                links[i].setAttribute(\\'href\\', \\'/bf-\\' + match[2] + href);\\n            }\\n        }\\n    }\\n})();</script> <script src=\"/assets/js/lib/svg4everybody.min.1570550707.js\" async></script> <script src=\"/assets/js/header/menu.1570550707.js\" async></script> <script src=\"/assets/js/header/busca.1570550707.js\" async></script> <script src=\"/assets/js/header/cursos.1570550707.js\" async></script> <script src=\"/assets/js/detect.1570550707.js\" async></script> <script src=\"/assets/js/video.1571773177.js\" async></script> <script src=\"/assets/js/Countdown.1571149146.js\" async></script> <script>var userId = (document.cookie.match(\\'alura.userId=([^;]+)\\')||[null,null])[1];\\n  window.ga=window.ga||function(){(ga.q=ga.q||[]).push(arguments)};ga.l=+new Date;\\n\\n  \\tga(\\'create\\', \\'UA-42101548-1\\', \\'alura.com.br\\', \\'tracker0\\', {\\'siteSpeedSampleRate\\': 50});\\n\\n\\tif (userId) ga(\\'tracker0.set\\', \\'userId\\', userId);\\n\\n\\tga(\\'tracker0.require\\', \\'displayfeatures\\');\\n\\tga(\\'tracker0.send\\', \\'pageview\\');\\n  \\tga(\\'create\\', \\'UA-42101548-9\\', \\'alura.com.br\\', \\'tracker1\\', {\\'siteSpeedSampleRate\\': 50});\\n\\n\\tif (userId) ga(\\'tracker1.set\\', \\'userId\\', userId);\\n\\n\\tga(\\'tracker1.require\\', \\'displayfeatures\\');\\n\\tga(\\'tracker1.send\\', \\'pageview\\');</script> <script async src=\\'//www.google-analytics.com/analytics.js\\'></script> <script src=\"/assets/js/footer/footer.1570550707.js\" async></script> <script src=\"https://static.criteo.net/js/ld/ld.js\" async></script> <script>function criteoPush(event, data){\\n\\t\\tvar isAluno = document.cookie.match(\\'alura.userId=([^;]+)\\') != null;\\n\\t\\tif(isAluno) return;\\n\\n\\t\\twindow.criteo_q = window.criteo_q || [];\\n\\t\\t\\twindow.criteo_q.push(\\n\\t\\t\\t\\t{ event: \"setAccount\", account: 28037 },\\n\\t\\t\\t\\t{ event: \"setEmail\", email: \"\" },\\n\\t\\t\\t\\t{ event: \"setSiteType\", type: (/iPad/.test(navigator.userAgent) ? \"t\" : (/Mobile|iP(hone|od)|Android|BlackBerry|IEMobile/.test(navigator.userAgent) ? \"m\" : \"d\")) },\\n\\t\\t\\t\\t{ event: event, item: data}\\n\\t\\t\\t);\\t\\n\\t};\\n\\n\\t\\t\\tcriteoPush(\"viewHome\", \"\");\\n\\t\\t\\n\\t\\tvar criteoIdEl = document.querySelector(\\'[data-criteo-id]\\');\\n\\tif (criteoIdEl) {\\n        var products = JSON.parse(criteoIdEl.dataset.criteoId);\\n        var planos = document.querySelectorAll(\\'[data-payment-plan]\\');\\n\\n        planos.forEach(function (plano) {\\n            plano.addEventListener(\\'click\\', function (event) {\\n\\t\\t\\t\\tvar price = plano.dataset.paymentPlanPrice;\\n                var totalProducts = products.length;\\n\\t\\t\\t\\tvar productIds = \\'\\';\\n\\n                for(var i = 0; i < totalProducts; i++){\\n                    products[i][\\'price\\'] = price;\\n                    products[i][\\'quantity\\'] = 1;\\n\\t\\t\\t\\t\\tproductIds += \\',\\' + products[i][\\'id\\'];\\n                }\\n\\n\\t\\t\\t\\tproductIds = productIds.substr(1);\\n\\n\\t\\t\\t\\t// monta cookie pro Cart indicando quais cursos foram clicados\\n        \\t\\tdocument.cookie = \"criteo.productIds=\" + productIds + \"; path=/; domain=.alura.com.br\";\\n\\n\\t\\t\\t\\t// manda pro criteo\\n                criteoPush(\"viewBasket\", products);\\n            });\\n        });\\n\\n\\n\\t}</script> <script type=\"text/javascript\">_linkedin_partner_id = \"465017\";\\n\\t\\t\\twindow._linkedin_data_partner_ids = window._linkedin_data_partner_ids || [];\\n\\t\\t\\twindow._linkedin_data_partner_ids.push(_linkedin_partner_id);</script> <script type=\"text/javascript\">(function(){var s = document.getElementsByTagName(\"script\")[0];\\n\\t\\t\\tvar b = document.createElement(\"script\");\\n\\t\\t\\tb.type = \"text/javascript\";b.async = true;\\n\\t\\t\\tb.src = \"https://snap.licdn.com/li.lms-analytics/insight.min.js\";\\n\\t\\t\\ts.parentNode.insertBefore(b, s);})();</script> <noscript>\\n<img\\nheight=\"1\" width=\"1\" style=\"display:none;\" alt=\"\"\\nsrc=\"https://dc.ads.linkedin.com/collect/?pid=465017&fmt=gif\" />\\n</noscript></body></html>'\n"
          ],
          "name": "stdout"
        }
      ]
    },
    {
      "cell_type": "code",
      "metadata": {
        "id": "9Os4Gf553Z7G",
        "colab_type": "code",
        "outputId": "d8e96025-6f11-41b5-bf11-d6a847904925",
        "colab": {
          "base_uri": "https://localhost:8080/",
          "height": 0
        }
      },
      "source": [
        "html = html.decode('utf-8')\n",
        "type(html)"
      ],
      "execution_count": 9,
      "outputs": [
        {
          "output_type": "execute_result",
          "data": {
            "text/plain": [
              "str"
            ]
          },
          "metadata": {
            "tags": []
          },
          "execution_count": 9
        }
      ]
    },
    {
      "cell_type": "code",
      "metadata": {
        "id": "NE17opDA3o_Q",
        "colab_type": "code",
        "outputId": "c4fb2725-e988-4c81-9442-f54b152ad2d9",
        "colab": {
          "base_uri": "https://localhost:8080/",
          "height": 0
        }
      },
      "source": [
        "print(html)"
      ],
      "execution_count": 10,
      "outputs": [
        {
          "output_type": "stream",
          "text": [
            "<!DOCTYPE html><html\n",
            "lang=\"pt-BR\"><head><meta\n",
            "charset=\"UTF-8\"><meta\n",
            "name=\"viewport\" content=\"width=device-width,initial-scale=1,minimum-scale=1.0\"><title>Alura | Cursos online de tecnologia</title><meta\n",
            "name=\"description\" content=\"Aprenda Programação, Mobile, Front-end, Design, UX, Infraestrutura, Marketing Digital, Data Science, Inovação e Gestão com didática inovadora focada no mercado real de trabalho\"><link\n",
            "rel=\"canonical\" href=\"https://www.alura.com.br\"><link\n",
            "href=\"https://fonts.googleapis.com/css?display=swap&family=Open+Sans:300,400,400i,600,700,800\" rel=\"stylesheet\" crossorigin><link\n",
            "rel=\"preconnect\" href=\"https://fonts.gstatic.com/\" crossorigin><link\n",
            "rel=\"stylesheet\" href=\"/bundle,base/_reset,base/base,base/buttons,base/colors,base/titulos.1572363839.css\"><link\n",
            "rel=\"stylesheet\" href=\"/bundle,home/homeNova/career-colors,home/homeNova/careers,home/homeNova/companies,home/homeNova/features,home/homeNova/home,home/homeNova/mobile,home/homeNova/testimonies.1572363839.css\"><link\n",
            "rel=\"stylesheet\" href=\"/assets/css/block/elasticMedia.1570550707.css\"><meta\n",
            "property=\"og:locale\" content=\"pt_BR\"><meta\n",
            "property=\"og:description\" content=\"Aprenda Programação, Mobile, Front-end, Design, UX, Infraestrutura, Marketing Digital, Data Science, Inovação e Gestão com didática inovadora focada no mercado real de trabalho\"><meta\n",
            "property=\"og:title\" content=\"Alura | Cursos online de tecnologia\"><meta\n",
            "property=\"og:site_name\" content=\"Alura\"><meta\n",
            "property=\"og:url\" content=\"https://www.alura.com.br/\"><meta\n",
            "property=\"og:image\" content=\"https://www.alura.com.br/assets/img/alura-share.1571848411.png\"><meta\n",
            "property=\"og:image:alt\" content=\"Alura logo\"><meta\n",
            "property=\"fb:app_id\" content=\"140078819399376\"><meta\n",
            "property=\"og:type\" content=\"website\"><meta\n",
            "name=\"twitter:card\" content=\"summary_large_image\"><meta\n",
            "name=\"theme-color\" content=\"#2A7AE4\"></head><body\n",
            "class=\"\"> <script>(function(w,d,s,l,i){w[l]=w[l]||[];w[l].push({'gtm.start':\n",
            "\t\t\t\tnew Date().getTime(),event:'gtm.js'});var f=d.getElementsByTagName(s)[0],\n",
            "\t\t\t\tj=d.createElement(s),dl=l!='dataLayer'?'&l='+l:'';j.async=true;j.src=\n",
            "\t\t\t\t'https://www.googletagmanager.com/gtm.js?id='+i+dl;f.parentNode.insertBefore(j,f);\n",
            "            })(window,document,'script','dataLayer','GTM-TN542JN');</script> <noscript>\n",
            "<iframe\n",
            "src=\"https://www.googletagmanager.com/ns.html?id=GTM-TN542JN\"\n",
            "height=\"0\" width=\"0\" style=\"display:none;visibility:hidden\"></iframe>\n",
            "</noscript> <script>setTimeout(function() {\n",
            "\t\t\tnew Image().src = \"https://www.facebook.com/tr?id=1067810189950610&ev=PageView&noscript=1\";\n",
            "\t\t}, 300);</script>  <script type=\"application/ld+json\">{\n",
            "      \"@context\": \"http://schema.org\",\n",
            "      \"@type\": \"BreadcrumbList\",\n",
            "\n",
            "      \"itemListElement\": [{\n",
            "        \"@type\": \"ListItem\",\n",
            "        \"position\": 1,\n",
            "        \"item\": {\n",
            "          \"@id\": \"https://www.alura.com.br\",\n",
            "          \"name\": \"Alura\"\n",
            "        }\n",
            "      }   \n",
            "            ]\n",
            "    }</script> <div\n",
            "class=\"home\"><div\n",
            "class=\"home__header\"><link\n",
            "rel=\"stylesheet\" href=\"/assets/css/block/header.1570550707.css\"><link\n",
            "rel=\"stylesheet\" href=\"/assets/css/block/headerHome.1570550707.css\"><style>@media (min-width: 1100px) {\n",
            "\t\t\t\t.header-navegacao-cursos-lista {\n",
            "\t\t\t\t\tdisplay: none;\n",
            "\t\t\t\t}\n",
            "\t\t\t\t.header__nav {\n",
            "\t\t\t\t\tborder: none;\n",
            "\t\t\t\t\tmargin-top:10px;\n",
            "\t\t\t\t}\n",
            "\t\t\t\t.header {\n",
            "\t\t\t\t\tpadding-bottom: 0;\n",
            "\t\t\t\t}\n",
            "\t\t\t}</style><header\n",
            "class=\"header--home\"><div\n",
            "class=\"container\"><nav\n",
            "class=\"header__nav--home\">\n",
            "<a\n",
            "href=\"/\" class=\"header__nav__link--home header__nav__link--logo\">\n",
            "<img\n",
            "class=\"header__nav__link__logo\" alt=\"Alura\"\n",
            "src=\"/assets/img/home/alura-logo.1570550707.svg\">\n",
            "</a><div\n",
            "class=\"header__nav__wrapper--home header__nav__wrapper--ctas--home\"><div\n",
            "href=\"/busca\" class=\"header-utilitario-busca header-utilitario-busca--home\" aria-label=\"Busca\">\n",
            "<svg\n",
            "class=\"header-utilitario-busca-icone--home\" xmlns:xlink=\"http://www.w3.org/1999/xlink\">\n",
            "<use\n",
            "xlink:href=\"/svg,1570550707/header#icon-header-busca-home\"/>\n",
            "</svg></div>\n",
            "<a\n",
            "href=\"https://cursos.alura.com.br/loginForm?urlAfterLogin=https://cursos.alura.com.br/dashboard\" class=\"header__nav__link--home header__nav__link--entrar--home\">Entrar</a>\n",
            "<a\n",
            "href=\"/planos-cursos-online\" class=\"header__nav__link--home header__nav__link--cta--home\">Matricule-se</a></div><div\n",
            "class=\"header__nav__wrapper--home header__nav__wrapper--menu header__nav__wrapper--menu--home\"><div\n",
            "class=\"header-barraBusca header-barraBusca--home\"><div\n",
            "class=\"container\"><form\n",
            "action=\"/busca\" class=\"header-barraBusca-form\">\n",
            "<label\n",
            "for=\"header-barraBusca-form-campoBusca\">Qual curso procura?</label>\n",
            "<input\n",
            "type=\"search\" id=\"header-barraBusca-form-campoBusca\" name=\"query\"\n",
            "class=\"header-barraBusca-form-serch-input header-barra-busca--home\" placeholder=\"O que você quer aprender?\">\n",
            "<button\n",
            "class=\"header-barraBusca-form-submit\" type=\"submit\">Buscar</button></form></div></div><div\n",
            "href=\"/cursos-online-tecnologia\" class=\"nav__courses__link--home header-navegacao-cursos header-navegacao-cursos--home header__menu-options--home header__menu-allcourses--home\">\n",
            "<svg\n",
            "class=\"header-navegacao-cursos-icone\" xmlns:xlink=\"http://www.w3.org/1999/xlink\">\n",
            "<use\n",
            "xlink:href=\"/svg,1570550707/header#icon-header-icon-arrow-home\"/>\n",
            "</svg>\n",
            "<span>Todos os</span>\n",
            "<span>Cursos</span></div>\n",
            "<a\n",
            "href=\"/formacoes\" class=\"nav__courses__link--home header__menu-options--home\">\n",
            "<span>Formações</span></a>\n",
            "<a\n",
            "href=\"/empresas\" class=\"nav__courses__link--home header__menu-options--home\">\n",
            "<span>Para</span>\n",
            "<span>Empresas</span>\n",
            "</a>\n",
            "<a\n",
            "href=\"/como-funciona\" class=\"nav__courses__link--home header__menu-options--home\">\n",
            "<span>Como</span>\n",
            "<span>Funciona</span>\n",
            "</a></div><ul\n",
            "class=\"header-navegacao-cursos-lista container header__menu-allcourses--home\"><li\n",
            "class=\"header-cursos-lista-categoria \">\n",
            "<a\n",
            "href=\"/cursos-online-mobile\" class=\"unlinkify\">\n",
            "<svg\n",
            "class=\"header-cursos-lista-categoria--icon\" xmlns:xlink=\"http://www.w3.org/1999/xlink\">\n",
            "<use\n",
            "xlink:href=\"/svg,1570550707/categorias#icon-categorias-mobile\"/>\n",
            "</svg><div\n",
            "class=\"header-lista-categoria-nome--home\">\n",
            "<span>Mobile</span></div>\n",
            "</a></li><li\n",
            "class=\"header-cursos-lista-categoria \">\n",
            "<a\n",
            "href=\"/cursos-online-programacao\" class=\"unlinkify\">\n",
            "<svg\n",
            "class=\"header-cursos-lista-categoria--icon\" xmlns:xlink=\"http://www.w3.org/1999/xlink\">\n",
            "<use\n",
            "xlink:href=\"/svg,1570550707/categorias#icon-categorias-programacao\"/>\n",
            "</svg><div\n",
            "class=\"header-lista-categoria-nome--home\">\n",
            "<span>Programação</span></div>\n",
            "</a></li><li\n",
            "class=\"header-cursos-lista-categoria \">\n",
            "<a\n",
            "href=\"/cursos-online-front-end\" class=\"unlinkify\">\n",
            "<svg\n",
            "class=\"header-cursos-lista-categoria--icon\" xmlns:xlink=\"http://www.w3.org/1999/xlink\">\n",
            "<use\n",
            "xlink:href=\"/svg,1570550707/categorias#icon-categorias-front-end\"/>\n",
            "</svg><div\n",
            "class=\"header-lista-categoria-nome--home\">\n",
            "<span>Front-end</span></div>\n",
            "</a></li><li\n",
            "class=\"header-cursos-lista-categoria \">\n",
            "<a\n",
            "href=\"/cursos-online-infraestrutura\" class=\"unlinkify\">\n",
            "<svg\n",
            "class=\"header-cursos-lista-categoria--icon\" xmlns:xlink=\"http://www.w3.org/1999/xlink\">\n",
            "<use\n",
            "xlink:href=\"/svg,1570550707/categorias#icon-categorias-infraestrutura\"/>\n",
            "</svg><div\n",
            "class=\"header-lista-categoria-nome--home\">\n",
            "<span>Infraestrutura</span></div>\n",
            "</a></li><li\n",
            "class=\"header-cursos-lista-categoria \">\n",
            "<a\n",
            "href=\"/cursos-online-design-ux\" class=\"unlinkify\">\n",
            "<svg\n",
            "class=\"header-cursos-lista-categoria--icon\" xmlns:xlink=\"http://www.w3.org/1999/xlink\">\n",
            "<use\n",
            "xlink:href=\"/svg,1570550707/categorias#icon-categorias-design-ux\"/>\n",
            "</svg><div\n",
            "class=\"header-lista-categoria-nome--home\">\n",
            "<span>Design & UX</span></div>\n",
            "</a></li><li\n",
            "class=\"header-cursos-lista-categoria \">\n",
            "<a\n",
            "href=\"/cursos-online-marketing-digital\" class=\"unlinkify\">\n",
            "<svg\n",
            "class=\"header-cursos-lista-categoria--icon\" xmlns:xlink=\"http://www.w3.org/1999/xlink\">\n",
            "<use\n",
            "xlink:href=\"/svg,1570550707/categorias#icon-categorias-marketing-digital\"/>\n",
            "</svg><div\n",
            "class=\"header-lista-categoria-nome--home\">\n",
            "<span>Marketing Digital</span></div>\n",
            "</a></li><li\n",
            "class=\"header-cursos-lista-categoria \">\n",
            "<a\n",
            "href=\"/cursos-online-data-science\" class=\"unlinkify\">\n",
            "<svg\n",
            "class=\"header-cursos-lista-categoria--icon\" xmlns:xlink=\"http://www.w3.org/1999/xlink\">\n",
            "<use\n",
            "xlink:href=\"/svg,1570550707/categorias#icon-categorias-data-science\"/>\n",
            "</svg><div\n",
            "class=\"header-lista-categoria-nome--home\">\n",
            "<span>Data Science</span></div>\n",
            "</a></li><li\n",
            "class=\"header-cursos-lista-categoria \">\n",
            "<a\n",
            "href=\"/cursos-online-inovacao-gestao\" class=\"unlinkify\">\n",
            "<svg\n",
            "class=\"header-cursos-lista-categoria--icon\" xmlns:xlink=\"http://www.w3.org/1999/xlink\">\n",
            "<use\n",
            "xlink:href=\"/svg,1570550707/categorias#icon-categorias-inovacao-gestao\"/>\n",
            "</svg><div\n",
            "class=\"header-lista-categoria-nome--home\">\n",
            "<span>Inovação & Gestão</span></div>\n",
            "</a></li></ul></nav></div></header><div\n",
            "class=\"container\"><div\n",
            "class=\"home--background\"><div\n",
            "class=\"home__titles\"><h1 class=\"home__titles__main-title\">Cursos de Tecnologia e Negócios Digitais</h1><p\n",
            "class=\"home__titles__sub-title\">Você vai estudar, praticar, discutir e aprender em uma comunidade de inquietos e inovadores</p></div></div><link\n",
            "rel=\"stylesheet\" href=\"/assets/css/block/categories.1570550707.css\"><link\n",
            "rel=\"stylesheet\" href=\"/assets/css/block/navCategoriasHome.1572363839.css\"><link\n",
            "rel=\"stylesheet\" href=\"/assets/css/block/navCategoriasHome.1572363839.css\"><nav\n",
            "class=\"categories--home\"><div\n",
            "class=\"categories__elements--home\"><div\n",
            "class=\"categories__wrapper__links--home\">\n",
            "<a\n",
            "class=\"categories__link--home\" href=\"/cursos-online-mobile\"><div\n",
            "class=\"categories__link-wrapper--home\"><div\n",
            "class=\"categories__svg-wrapper--home\" style=\"background:#ffba05;\">\n",
            "<svg\n",
            "class=\"pagina-categoria__svg--home categories__svg--home\" xmlns:xlink=\"http://www.w3.org/1999/xlink\">\n",
            "<use\n",
            "xlink:href=\"/svg,1570550707/categorias#icon-categorias-mobile\"/>\n",
            "</svg></div><div\n",
            "style=\"color:#ffba05;\">\n",
            "<span\n",
            "class=\"categories__link__text\">Cursos de</span><h4 class=\"categories__link__category-name\">Mobile</h4></div></div>\n",
            "</a><nav\n",
            "class=\"categories__calls--home\">\n",
            "<a\n",
            "href=\"/cursos-online-mobile/ios\"\n",
            "class=\"categories__calls__description--home\">iOS e Swift</a><span\n",
            "class=\"categories__calls__description-separator\">, </span>\n",
            "<a\n",
            "href=\"/cursos-online-mobile/android\"\n",
            "class=\"categories__calls__description--home\">Android e Kotlin</a><span\n",
            "class=\"categories__calls__description-separator\">, </span>\n",
            "<a\n",
            "href=\"/cursos-online-mobile/multiplataforma\"\n",
            "class=\"categories__calls__description--home\">Ionic, React Native</a><span\n",
            "class=\"categories__calls__description-separator\">, </span>\n",
            "<a\n",
            "href=\"/cursos-online-mobile/jogos\"\n",
            "class=\"categories__calls__description--home\">Jogos</a><span\n",
            "class=\"categories__calls__description-separator\">, </span>\n",
            "<a\n",
            "href=\"/cursos-online-mobile\"\n",
            "class=\"categories__calls__link-see-more--home\">e mais...</a></nav></div><div\n",
            "class=\"categories__wrapper__links--home\">\n",
            "<a\n",
            "class=\"categories__link--home\" href=\"/cursos-online-programacao\"><div\n",
            "class=\"categories__link-wrapper--home\"><div\n",
            "class=\"categories__svg-wrapper--home\" style=\"background:#00c86f;\">\n",
            "<svg\n",
            "class=\"pagina-categoria__svg--home categories__svg--home\" xmlns:xlink=\"http://www.w3.org/1999/xlink\">\n",
            "<use\n",
            "xlink:href=\"/svg,1570550707/categorias#icon-categorias-programacao\"/>\n",
            "</svg></div><div\n",
            "style=\"color:#00c86f;\">\n",
            "<span\n",
            "class=\"categories__link__text\">Cursos de</span><h4 class=\"categories__link__category-name\">Programação</h4></div></div>\n",
            "</a><nav\n",
            "class=\"categories__calls--home\">\n",
            "<a\n",
            "href=\"/cursos-online-programacao/logica\"\n",
            "class=\"categories__calls__description--home\">Lógica</a><span\n",
            "class=\"categories__calls__description-separator\">, </span>\n",
            "<a\n",
            "href=\"/cursos-online-programacao/python\"\n",
            "class=\"categories__calls__description--home\">Python</a><span\n",
            "class=\"categories__calls__description-separator\">, </span>\n",
            "<a\n",
            "href=\"/cursos-online-programacao/php\"\n",
            "class=\"categories__calls__description--home\">PHP</a><span\n",
            "class=\"categories__calls__description-separator\">, </span>\n",
            "<a\n",
            "href=\"/cursos-online-programacao/java\"\n",
            "class=\"categories__calls__description--home\">Java</a><span\n",
            "class=\"categories__calls__description-separator\">, </span>\n",
            "<a\n",
            "href=\"/cursos-online-programacao/dotnet\"\n",
            "class=\"categories__calls__description--home\">.NET</a><span\n",
            "class=\"categories__calls__description-separator\">, </span>\n",
            "<a\n",
            "href=\"/cursos-online-programacao/node-js\"\n",
            "class=\"categories__calls__description--home\">Node JS</a><span\n",
            "class=\"categories__calls__description-separator\">, </span>\n",
            "<a\n",
            "href=\"/cursos-online-programacao/ruby\"\n",
            "class=\"categories__calls__description--home\">Ruby & Rails</a><span\n",
            "class=\"categories__calls__description-separator\">, </span>\n",
            "<a\n",
            "href=\"/cursos-online-programacao/linguagem-c\"\n",
            "class=\"categories__calls__description--home\">C</a><span\n",
            "class=\"categories__calls__description-separator\">, </span>\n",
            "<a\n",
            "href=\"/cursos-online-programacao/computacao\"\n",
            "class=\"categories__calls__description--home\">Computação</a><span\n",
            "class=\"categories__calls__description-separator\">, </span>\n",
            "<a\n",
            "href=\"/cursos-online-programacao/jogos\"\n",
            "class=\"categories__calls__description--home\">Jogos</a><span\n",
            "class=\"categories__calls__description-separator\">, </span>\n",
            "<a\n",
            "href=\"/cursos-online-programacao\"\n",
            "class=\"categories__calls__link-see-more--home\">e mais...</a></nav></div><div\n",
            "class=\"categories__wrapper__links--home\">\n",
            "<a\n",
            "class=\"categories__link--home\" href=\"/cursos-online-front-end\"><div\n",
            "class=\"categories__link-wrapper--home\"><div\n",
            "class=\"categories__svg-wrapper--home\" style=\"background:#6bd1ff;\">\n",
            "<svg\n",
            "class=\"pagina-categoria__svg--home categories__svg--home\" xmlns:xlink=\"http://www.w3.org/1999/xlink\">\n",
            "<use\n",
            "xlink:href=\"/svg,1570550707/categorias#icon-categorias-front-end\"/>\n",
            "</svg></div><div\n",
            "style=\"color:#6bd1ff;\">\n",
            "<span\n",
            "class=\"categories__link__text\">Cursos de</span><h4 class=\"categories__link__category-name\">Front-end</h4></div></div>\n",
            "</a><nav\n",
            "class=\"categories__calls--home\">\n",
            "<a\n",
            "href=\"/cursos-online-front-end/front-end\"\n",
            "class=\"categories__calls__description--home\">HTML, CSS</a><span\n",
            "class=\"categories__calls__description-separator\">, </span>\n",
            "<a\n",
            "href=\"/cursos-online-front-end/javascript\"\n",
            "class=\"categories__calls__description--home\">JavaScript</a><span\n",
            "class=\"categories__calls__description-separator\">, </span>\n",
            "<a\n",
            "href=\"/cursos-online-front-end/frameworks-mvc-em-javascript\"\n",
            "class=\"categories__calls__description--home\">Angular, React</a><span\n",
            "class=\"categories__calls__description-separator\">, </span>\n",
            "<a\n",
            "href=\"/cursos-online-front-end/jquery\"\n",
            "class=\"categories__calls__description--home\">jQuery</a><span\n",
            "class=\"categories__calls__description-separator\">, </span>\n",
            "<a\n",
            "href=\"/cursos-online-front-end\"\n",
            "class=\"categories__calls__link-see-more--home\">e mais...</a></nav></div><div\n",
            "class=\"categories__wrapper__links--home\">\n",
            "<a\n",
            "class=\"categories__link--home\" href=\"/cursos-online-infraestrutura\"><div\n",
            "class=\"categories__link-wrapper--home\"><div\n",
            "class=\"categories__svg-wrapper--home\" style=\"background:#f16165;\">\n",
            "<svg\n",
            "class=\"pagina-categoria__svg--home categories__svg--home\" xmlns:xlink=\"http://www.w3.org/1999/xlink\">\n",
            "<use\n",
            "xlink:href=\"/svg,1570550707/categorias#icon-categorias-infraestrutura\"/>\n",
            "</svg></div><div\n",
            "style=\"color:#f16165;\">\n",
            "<span\n",
            "class=\"categories__link__text\">Cursos de</span><h4 class=\"categories__link__category-name\">Infraestrutura</h4></div></div>\n",
            "</a><nav\n",
            "class=\"categories__calls--home\">\n",
            "<a\n",
            "href=\"/cursos-online-infraestrutura/devops\"\n",
            "class=\"categories__calls__description--home\">DevOps e Git</a><span\n",
            "class=\"categories__calls__description-separator\">, </span>\n",
            "<a\n",
            "href=\"/cursos-online-infraestrutura/cloud-computing\"\n",
            "class=\"categories__calls__description--home\">Cloud</a><span\n",
            "class=\"categories__calls__description-separator\">, </span>\n",
            "<a\n",
            "href=\"/cursos-online-infraestrutura/linux-comandos-e-processos\"\n",
            "class=\"categories__calls__description--home\">Linux</a><span\n",
            "class=\"categories__calls__description-separator\">, </span>\n",
            "<a\n",
            "href=\"/cursos-online-infraestrutura/internet-das-coisas\"\n",
            "class=\"categories__calls__description--home\">IoT</a><span\n",
            "class=\"categories__calls__description-separator\">, </span>\n",
            "<a\n",
            "href=\"/cursos-online-infraestrutura/redes\"\n",
            "class=\"categories__calls__description--home\">Redes</a><span\n",
            "class=\"categories__calls__description-separator\">, </span>\n",
            "<a\n",
            "href=\"/cursos-online-infraestrutura\"\n",
            "class=\"categories__calls__link-see-more--home\">e mais...</a></nav></div><div\n",
            "class=\"categories__wrapper__links--home\">\n",
            "<a\n",
            "class=\"categories__link--home\" href=\"/cursos-online-design-ux\"><div\n",
            "class=\"categories__link-wrapper--home\"><div\n",
            "class=\"categories__svg-wrapper--home\" style=\"background:#dc6ebe;\">\n",
            "<svg\n",
            "class=\"pagina-categoria__svg--home categories__svg--home\" xmlns:xlink=\"http://www.w3.org/1999/xlink\">\n",
            "<use\n",
            "xlink:href=\"/svg,1570550707/categorias#icon-categorias-design-ux\"/>\n",
            "</svg></div><div\n",
            "style=\"color:#dc6ebe;\">\n",
            "<span\n",
            "class=\"categories__link__text\">Cursos de</span><h4 class=\"categories__link__category-name\">Design & UX</h4></div></div>\n",
            "</a><nav\n",
            "class=\"categories__calls--home\">\n",
            "<a\n",
            "href=\"/cursos-online-design-ux/wwww\"\n",
            "class=\"categories__calls__description--home\">Photoshop e Illustrator</a><span\n",
            "class=\"categories__calls__description-separator\">, </span>\n",
            "<a\n",
            "href=\"/cursos-online-design-ux/ux\"\n",
            "class=\"categories__calls__description--home\">Usabilidade e UX</a><span\n",
            "class=\"categories__calls__description-separator\">, </span>\n",
            "<a\n",
            "href=\"/cursos-online-design-ux/video\"\n",
            "class=\"categories__calls__description--home\">Vídeo e Motion</a><span\n",
            "class=\"categories__calls__description-separator\">, </span>\n",
            "<a\n",
            "href=\"/cursos-online-design-ux/3d\"\n",
            "class=\"categories__calls__description--home\">3D</a><span\n",
            "class=\"categories__calls__description-separator\">, </span>\n",
            "<a\n",
            "href=\"/cursos-online-design-ux\"\n",
            "class=\"categories__calls__link-see-more--home\">e mais...</a></nav></div><div\n",
            "class=\"categories__wrapper__links--home\">\n",
            "<a\n",
            "class=\"categories__link--home\" href=\"/cursos-online-marketing-digital\"><div\n",
            "class=\"categories__link-wrapper--home\"><div\n",
            "class=\"categories__svg-wrapper--home\" style=\"background:#6b5be2;\">\n",
            "<svg\n",
            "class=\"pagina-categoria__svg--home categories__svg--home\" xmlns:xlink=\"http://www.w3.org/1999/xlink\">\n",
            "<use\n",
            "xlink:href=\"/svg,1570550707/categorias#icon-categorias-marketing-digital\"/>\n",
            "</svg></div><div\n",
            "style=\"color:#6b5be2;\">\n",
            "<span\n",
            "class=\"categories__link__text\">Cursos de</span><h4 class=\"categories__link__category-name\">Marketing Digital</h4></div></div>\n",
            "</a><nav\n",
            "class=\"categories__calls--home\">\n",
            "<a\n",
            "href=\"/cursos-online-marketing-digital/ads\"\n",
            "class=\"categories__calls__description--home\">Ads</a><span\n",
            "class=\"categories__calls__description-separator\">, </span>\n",
            "<a\n",
            "href=\"/cursos-online-marketing-digital/marketing-digital\"\n",
            "class=\"categories__calls__description--home\">Marketing</a><span\n",
            "class=\"categories__calls__description-separator\">, </span>\n",
            "<a\n",
            "href=\"/cursos-online-marketing-digital/seo\"\n",
            "class=\"categories__calls__description--home\">SEO</a><span\n",
            "class=\"categories__calls__description-separator\">, </span>\n",
            "<a\n",
            "href=\"/cursos-online-marketing-digital/e-commerce\"\n",
            "class=\"categories__calls__description--home\">E-commerce</a><span\n",
            "class=\"categories__calls__description-separator\">, </span>\n",
            "<a\n",
            "href=\"/cursos-online-marketing-digital/social-media\"\n",
            "class=\"categories__calls__description--home\">Social Media</a><span\n",
            "class=\"categories__calls__description-separator\">, </span>\n",
            "<a\n",
            "href=\"/cursos-online-marketing-digital/youtube\"\n",
            "class=\"categories__calls__description--home\">YouTube</a><span\n",
            "class=\"categories__calls__description-separator\">, </span>\n",
            "<a\n",
            "href=\"/cursos-online-marketing-digital\"\n",
            "class=\"categories__calls__link-see-more--home\">e mais...</a></nav></div><div\n",
            "class=\"categories__wrapper__links--home\">\n",
            "<a\n",
            "class=\"categories__link--home\" href=\"/cursos-online-data-science\"><div\n",
            "class=\"categories__link-wrapper--home\"><div\n",
            "class=\"categories__svg-wrapper--home\" style=\"background:#9cd33b;\">\n",
            "<svg\n",
            "class=\"pagina-categoria__svg--home categories__svg--home\" xmlns:xlink=\"http://www.w3.org/1999/xlink\">\n",
            "<use\n",
            "xlink:href=\"/svg,1570550707/categorias#icon-categorias-data-science\"/>\n",
            "</svg></div><div\n",
            "style=\"color:#9cd33b;\">\n",
            "<span\n",
            "class=\"categories__link__text\">Cursos de</span><h4 class=\"categories__link__category-name\">Data Science</h4></div></div>\n",
            "</a><nav\n",
            "class=\"categories__calls--home\">\n",
            "<a\n",
            "href=\"/cursos-online-data-science/sql\"\n",
            "class=\"categories__calls__description--home\">SQL e Banco de Dados</a><span\n",
            "class=\"categories__calls__description-separator\">, </span>\n",
            "<a\n",
            "href=\"/cursos-online-data-science/nosql\"\n",
            "class=\"categories__calls__description--home\">NoSQL</a><span\n",
            "class=\"categories__calls__description-separator\">, </span>\n",
            "<a\n",
            "href=\"/cursos-online-data-science/data-science\"\n",
            "class=\"categories__calls__description--home\">Data Science</a><span\n",
            "class=\"categories__calls__description-separator\">, </span>\n",
            "<a\n",
            "href=\"/cursos-online-data-science/machine-learning\"\n",
            "class=\"categories__calls__description--home\">Machine Learning</a><span\n",
            "class=\"categories__calls__description-separator\">, </span>\n",
            "<a\n",
            "href=\"/cursos-online-data-science/business-intelligence\"\n",
            "class=\"categories__calls__description--home\">BI</a><span\n",
            "class=\"categories__calls__description-separator\">, </span>\n",
            "<a\n",
            "href=\"/cursos-online-data-science/estatistica\"\n",
            "class=\"categories__calls__description--home\">Estatística</a><span\n",
            "class=\"categories__calls__description-separator\">, </span>\n",
            "<a\n",
            "href=\"/cursos-online-data-science/excel\"\n",
            "class=\"categories__calls__description--home\">Excel</a><span\n",
            "class=\"categories__calls__description-separator\">, </span>\n",
            "<a\n",
            "href=\"/cursos-online-data-science\"\n",
            "class=\"categories__calls__link-see-more--home\">e mais...</a></nav></div><div\n",
            "class=\"categories__wrapper__links--home\">\n",
            "<a\n",
            "class=\"categories__link--home\" href=\"/cursos-online-inovacao-gestao\"><div\n",
            "class=\"categories__link-wrapper--home\"><div\n",
            "class=\"categories__svg-wrapper--home\" style=\"background:#ff8c2a;\">\n",
            "<svg\n",
            "class=\"pagina-categoria__svg--home categories__svg--home\" xmlns:xlink=\"http://www.w3.org/1999/xlink\">\n",
            "<use\n",
            "xlink:href=\"/svg,1570550707/categorias#icon-categorias-inovacao-gestao\"/>\n",
            "</svg></div><div\n",
            "style=\"color:#ff8c2a;\">\n",
            "<span\n",
            "class=\"categories__link__text\">Cursos de</span><h4 class=\"categories__link__category-name\">Inovação & Gestão</h4></div></div>\n",
            "</a><nav\n",
            "class=\"categories__calls--home\">\n",
            "<a\n",
            "href=\"/cursos-online-inovacao-gestao/agilidade\"\n",
            "class=\"categories__calls__description--home\">Métodos Ágeis</a><span\n",
            "class=\"categories__calls__description-separator\">, </span>\n",
            "<a\n",
            "href=\"/cursos-online-inovacao-gestao/habilidades-interpessoais\"\n",
            "class=\"categories__calls__description--home\">Softskills</a><span\n",
            "class=\"categories__calls__description-separator\">, </span>\n",
            "<a\n",
            "href=\"/cursos-online-inovacao-gestao/lideranca-gestao-estrategica\"\n",
            "class=\"categories__calls__description--home\">Liderança e Gestão</a><span\n",
            "class=\"categories__calls__description-separator\">, </span>\n",
            "<a\n",
            "href=\"/cursos-online-inovacao-gestao/startup-empreendedorismo\"\n",
            "class=\"categories__calls__description--home\">Empreendedorismo</a><span\n",
            "class=\"categories__calls__description-separator\">, </span>\n",
            "<a\n",
            "href=\"/cursos-online-inovacao-gestao\"\n",
            "class=\"categories__calls__link-see-more--home\">e mais...</a></nav></div></div></nav></div></div><main\n",
            "class=\"home__main-content\"><section\n",
            "class=\"features container\"><aside\n",
            "class=\"features__info\"><h2 class=\"features__info__title\">\n",
            "<strong>Somos a maior plataforma brasileira</strong>\n",
            "<span>Cursos de tecnologia com conteúdo 100% em português</span></h2><ul\n",
            "class=\"features__info__list\"><li\n",
            "class=\"features__info__list__item features__info__list__item--content\"><div\n",
            "class=\"features__info__list__item__wrapper\"><h4 class=\"features__info__list__item__title\">O conteúdo que você precisa</h4><p\n",
            "class=\"features__info__list__item__description\">São 971 cursos e novos lançamentos toda\n",
            "semana, além de atualizações e melhorias constantes.</p></div></li><li\n",
            "class=\"features__info__list__item features__info__list__item--practice\"><div\n",
            "class=\"features__info__list__item__wrapper\"><h4 class=\"features__info__list__item__title\">Conhecimento real</h4><p\n",
            "class=\"features__info__list__item__description\">Garantimos conhecimento com profundidade e diversidade. Aprenda com os melhores!</p></div></li><li\n",
            "class=\"features__info__list__item features__info__list__item--messages\"><div\n",
            "class=\"features__info__list__item__wrapper\"><h4 class=\"features__info__list__item__title\">Aprenda compartilhando</h4><p\n",
            "class=\"features__info__list__item__description\">\n",
            "Faça parte de uma grande rede de apaixonados por tudo que é digital.</p></div></li></ul></aside><section\n",
            "class=\"features__video\"><div\n",
            "class=\"features__video-wrapper\"><div\n",
            "class=\"home-diferenciais-video\"><div\n",
            "class=\"home-diferenciais-video-wrapper\"><div\n",
            "class=\"elasticMedia-container\" data-src=\"//player.vimeo.com/video/227939524\">\n",
            "<noscript>\n",
            "<iframe\n",
            "class=\"elasticMedia\" src=\"//player.vimeo.com/video/227939524\" frameborder=\"0\" webkitallowfullscreen\n",
            "mozallowfullscreen allowfullscreen></iframe>\n",
            "</noscript></div></div></div></div>\n",
            "<a\n",
            "class=\"features__video__link\" href=\"/como-funciona\">Veja como funciona</a></section></section><section\n",
            "class=\"careers\"><div\n",
            "class=\"container\"><h2 class=\"careers__title\"><div\n",
            "class=\"careers__title__wrapper\">\n",
            "Não sabe por onde começar?\n",
            "<span>Sequências de cursos organizados em <strong>Formações</strong></span></div></h2><ul\n",
            "class=\"careers__list\"><style type=\"text/css\">.career-mobile-title:after {\n",
            "\t\t                            \tbackground-color:#ffba05;\n",
            "\t\t                            }</style><li\n",
            "class=\"careers__list__item\" style=\"color:#ffba05;\"><div\n",
            "class=\"careers__list__item__title-wrapper\"><div\n",
            "class=\"categories__svg-wrapper\" style=\"background-color:#ffba05;\">\n",
            "<svg\n",
            "class=\"pagina-categoria__svg svgFill-mobile categories__svg\" xmlns:xlink=\"http://www.w3.org/1999/xlink\">\n",
            "<use\n",
            "xlink:href=\"/svg,1570550707/categorias#icon-categorias-mobile\"/>\n",
            "</svg></div><h3 class=\"careers__list__item__title\">Mobile</h3></div><h4 class=\"careers__list__item__sub-title career-mobile-title\">Formações</h4><ul\n",
            "class=\"careers__list__item__list careers__list__item__list--formacoes\"><li\n",
            "class=\"careers__list__item__list__item\">\n",
            "<a\n",
            "class=\"careers__list__item__list__item__link\" href=\"/formacao-android\">\n",
            "Android                                            </a></li><li\n",
            "class=\"careers__list__item__list__item\">\n",
            "<a\n",
            "class=\"careers__list__item__list__item__link\" href=\"/formacao-arquiteto-android\">\n",
            "Arquitetura Android                                            </a></li><li\n",
            "class=\"careers__list__item__list__item\">\n",
            "<a\n",
            "class=\"careers__list__item__list__item__link\" href=\"/formacao-ios\">\n",
            "iOS                                            </a></li><li\n",
            "class=\"careers__list__item__list__item\">\n",
            "<a\n",
            "class=\"careers__list__item__list__item__link\" href=\"/formacao-xamarin\">\n",
            "Multiplataforma mobile Xamarin                                            </a></li><li\n",
            "class=\"careers__list__item__list__item\">\n",
            "<a\n",
            "class=\"careers__list__item__list__item__link\" href=\"/formacao-testes-automatizados-android\">\n",
            "Testes automatizados no Android                                            </a></li></ul></li><style type=\"text/css\">.career-programacao-title:after {\n",
            "\t\t                            \tbackground-color:#00c86f;\n",
            "\t\t                            }</style><li\n",
            "class=\"careers__list__item\" style=\"color:#00c86f;\"><div\n",
            "class=\"careers__list__item__title-wrapper\"><div\n",
            "class=\"categories__svg-wrapper\" style=\"background-color:#00c86f;\">\n",
            "<svg\n",
            "class=\"pagina-categoria__svg svgFill-programacao categories__svg\" xmlns:xlink=\"http://www.w3.org/1999/xlink\">\n",
            "<use\n",
            "xlink:href=\"/svg,1570550707/categorias#icon-categorias-programacao\"/>\n",
            "</svg></div><h3 class=\"careers__list__item__title\">Programação</h3></div><h4 class=\"careers__list__item__sub-title career-programacao-title\">Formações</h4><ul\n",
            "class=\"careers__list__item__list careers__list__item__list--formacoes\"><li\n",
            "class=\"careers__list__item__list__item\">\n",
            "<a\n",
            "class=\"careers__list__item__list__item__link\" href=\"/formacao-dotnet\">\n",
            ".NET                                            </a></li><li\n",
            "class=\"careers__list__item__list__item\">\n",
            "<a\n",
            "class=\"careers__list__item__list__item__link\" href=\"/formacao-certificacao-csharp\">\n",
            "Certificação C# Programming                                            </a></li><li\n",
            "class=\"careers__list__item__list__item\">\n",
            "<a\n",
            "class=\"careers__list__item__list__item__link\" href=\"/formacao-certificacao-java\">\n",
            "Certificação Java                                            </a></li><li\n",
            "class=\"careers__list__item__list__item\">\n",
            "<a\n",
            "class=\"careers__list__item__list__item__link\" href=\"/formacao-clojure\">\n",
            "Clojure                                            </a></li><li\n",
            "class=\"careers__list__item__list__item\">\n",
            "<a\n",
            "class=\"careers__list__item__list__item__link\" href=\"/formacao-desenvolvedor-php\">\n",
            "Desenvolvedor PHP                                            </a></li><li\n",
            "class=\"careers__list__item__list__item\">\n",
            "<a\n",
            "class=\"careers__list__item__list__item__link\" href=\"/formacao-vb-net\">\n",
            "Desenvolvedor VB.NET                                            </a></li><li\n",
            "class=\"careers__list__item__list__item\">\n",
            "<a\n",
            "class=\"careers__list__item__list__item__link\" href=\"/formacao-expert-em-orientacao-a-objetos\">\n",
            "Expert em Orientação a Objetos                                            </a></li><li\n",
            "class=\"careers__list__item__list__item\">\n",
            "<a\n",
            "class=\"careers__list__item__list__item__link\" href=\"/formacao-programacao\">\n",
            "Iniciante em Programação                                            </a></li><li\n",
            "class=\"careers__list__item__list__item\">\n",
            "<a\n",
            "class=\"careers__list__item__list__item__link\" href=\"/formacao-integracao-aplicacoes-java\">\n",
            "Integração de Aplicações Java                                            </a></li><li\n",
            "class=\"careers__list__item__list__item\">\n",
            "<a\n",
            "class=\"careers__list__item__list__item__link\" href=\"/formacao-java\">\n",
            "Java                                            </a></li><li\n",
            "class=\"careers__list__item__list__item\">\n",
            "<a\n",
            "class=\"careers__list__item__list__item__link\" href=\"/formacao-java-ee\">\n",
            "Java EE                                            </a></li><li\n",
            "class=\"careers__list__item__list__item\">\n",
            "<a\n",
            "class=\"careers__list__item__list__item__link\" href=\"/formacao-jogos-unity\">\n",
            "Jogos com Unity                                            </a></li><li\n",
            "class=\"careers__list__item__list__item\">\n",
            "<a\n",
            "class=\"careers__list__item__list__item__link\" href=\"/formacao-node-js-12\">\n",
            "NodeJS                                            </a></li><li\n",
            "class=\"careers__list__item__list__item\">\n",
            "<a\n",
            "class=\"careers__list__item__list__item__link\" href=\"/formacao-Python-linguagem\">\n",
            "Python                                            </a></li><li\n",
            "class=\"careers__list__item__list__item\">\n",
            "<a\n",
            "class=\"careers__list__item__list__item__link\" href=\"/formacao-python-web\">\n",
            "Python Web                                            </a></li><li\n",
            "class=\"careers__list__item__list__item\">\n",
            "<a\n",
            "class=\"careers__list__item__list__item__link\" href=\"/formacao-ruby-on-rails\">\n",
            "Ruby On Rails                                            </a></li><li\n",
            "class=\"careers__list__item__list__item\">\n",
            "<a\n",
            "class=\"careers__list__item__list__item__link\" href=\"/formacao-wordpress\">\n",
            "Wordpress                                            </a></li></ul></li><style type=\"text/css\">.career-front-end-title:after {\n",
            "\t\t                            \tbackground-color:#6bd1ff;\n",
            "\t\t                            }</style><li\n",
            "class=\"careers__list__item\" style=\"color:#6bd1ff;\"><div\n",
            "class=\"careers__list__item__title-wrapper\"><div\n",
            "class=\"categories__svg-wrapper\" style=\"background-color:#6bd1ff;\">\n",
            "<svg\n",
            "class=\"pagina-categoria__svg svgFill-front-end categories__svg\" xmlns:xlink=\"http://www.w3.org/1999/xlink\">\n",
            "<use\n",
            "xlink:href=\"/svg,1570550707/categorias#icon-categorias-front-end\"/>\n",
            "</svg></div><h3 class=\"careers__list__item__title\">Front-end</h3></div><h4 class=\"careers__list__item__sub-title career-front-end-title\">Formações</h4><ul\n",
            "class=\"careers__list__item__list careers__list__item__list--formacoes\"><li\n",
            "class=\"careers__list__item__list__item\">\n",
            "<a\n",
            "class=\"careers__list__item__list__item__link\" href=\"/formacao-acessibilidade-web\">\n",
            "Acessibilidade Web                                            </a></li><li\n",
            "class=\"careers__list__item__list__item\">\n",
            "<a\n",
            "class=\"careers__list__item__list__item__link\" href=\"/formacao-angular\">\n",
            "Angular                                            </a></li><li\n",
            "class=\"careers__list__item__list__item\">\n",
            "<a\n",
            "class=\"careers__list__item__list__item__link\" href=\"/formacao-front-end\">\n",
            "Front-end                                            </a></li><li\n",
            "class=\"careers__list__item__list__item\">\n",
            "<a\n",
            "class=\"careers__list__item__list__item__link\" href=\"/formacao-html-e-css\">\n",
            "HTML e CSS                                            </a></li><li\n",
            "class=\"careers__list__item__list__item\">\n",
            "<a\n",
            "class=\"careers__list__item__list__item__link\" href=\"/formacao-node-js\">\n",
            "Node.js                                            </a></li><li\n",
            "class=\"careers__list__item__list__item\">\n",
            "<a\n",
            "class=\"careers__list__item__list__item__link\" href=\"/formacao-react\">\n",
            "React                                            </a></li><li\n",
            "class=\"careers__list__item__list__item\">\n",
            "<a\n",
            "class=\"careers__list__item__list__item__link\" href=\"/formacao-vuejs\">\n",
            "Vue.js                                            </a></li></ul></li><style type=\"text/css\">.career-infraestrutura-title:after {\n",
            "\t\t                            \tbackground-color:#f16165;\n",
            "\t\t                            }</style><li\n",
            "class=\"careers__list__item\" style=\"color:#f16165;\"><div\n",
            "class=\"careers__list__item__title-wrapper\"><div\n",
            "class=\"categories__svg-wrapper\" style=\"background-color:#f16165;\">\n",
            "<svg\n",
            "class=\"pagina-categoria__svg svgFill-infraestrutura categories__svg\" xmlns:xlink=\"http://www.w3.org/1999/xlink\">\n",
            "<use\n",
            "xlink:href=\"/svg,1570550707/categorias#icon-categorias-infraestrutura\"/>\n",
            "</svg></div><h3 class=\"careers__list__item__title\">Infraestrutura</h3></div><h4 class=\"careers__list__item__sub-title career-infraestrutura-title\">Formações</h4><ul\n",
            "class=\"careers__list__item__list careers__list__item__list--formacoes\"><li\n",
            "class=\"careers__list__item__list__item\">\n",
            "<a\n",
            "class=\"careers__list__item__list__item__link\" href=\"/formacao-redes\">\n",
            "Administrador de Redes                                            </a></li><li\n",
            "class=\"careers__list__item__list__item\">\n",
            "<a\n",
            "class=\"careers__list__item__list__item__link\" href=\"/formacao-amazon-web-services\">\n",
            "Amazon Web Services                                            </a></li><li\n",
            "class=\"careers__list__item__list__item\">\n",
            "<a\n",
            "class=\"careers__list__item__list__item__link\" href=\"/formacao-certificacao-cisco-ccna\">\n",
            "Certificação Cisco CCNA                                            </a></li><li\n",
            "class=\"careers__list__item__list__item\">\n",
            "<a\n",
            "class=\"careers__list__item__list__item__link\" href=\"/formacao-certificacao-lpi-linux-essentials\">\n",
            "Certificação LPI Linux Essentials                                            </a></li><li\n",
            "class=\"careers__list__item__list__item\">\n",
            "<a\n",
            "class=\"careers__list__item__list__item__link\" href=\"/formacao-devops\">\n",
            "DevOps                                            </a></li><li\n",
            "class=\"careers__list__item__list__item\">\n",
            "<a\n",
            "class=\"careers__list__item__list__item__link\" href=\"/formacao-internet-das-coisas-iot\">\n",
            "Internet das Coisas                                            </a></li><li\n",
            "class=\"careers__list__item__list__item\">\n",
            "<a\n",
            "class=\"careers__list__item__list__item__link\" href=\"/formacao-microcontroladores-eletronica-aplicada\">\n",
            "Microcontroladores e Eletrônica Aplicada                                            </a></li><li\n",
            "class=\"careers__list__item__list__item\">\n",
            "<a\n",
            "class=\"careers__list__item__list__item__link\" href=\"/formacao-raspberry-pi\">\n",
            "Raspberry Pi                                            </a></li><li\n",
            "class=\"careers__list__item__list__item\">\n",
            "<a\n",
            "class=\"careers__list__item__list__item__link\" href=\"/formacao-seguranca-de-aplicacoes\">\n",
            "Segurança de aplicações                                            </a></li></ul></li><style type=\"text/css\">.career-design-ux-title:after {\n",
            "\t\t                            \tbackground-color:#dc6ebe;\n",
            "\t\t                            }</style><li\n",
            "class=\"careers__list__item\" style=\"color:#dc6ebe;\"><div\n",
            "class=\"careers__list__item__title-wrapper\"><div\n",
            "class=\"categories__svg-wrapper\" style=\"background-color:#dc6ebe;\">\n",
            "<svg\n",
            "class=\"pagina-categoria__svg svgFill-design-ux categories__svg\" xmlns:xlink=\"http://www.w3.org/1999/xlink\">\n",
            "<use\n",
            "xlink:href=\"/svg,1570550707/categorias#icon-categorias-design-ux\"/>\n",
            "</svg></div><h3 class=\"careers__list__item__title\">Design & UX</h3></div><h4 class=\"careers__list__item__sub-title career-design-ux-title\">Formações</h4><ul\n",
            "class=\"careers__list__item__list careers__list__item__list--formacoes\"><li\n",
            "class=\"careers__list__item__list__item\">\n",
            "<a\n",
            "class=\"careers__list__item__list__item__link\" href=\"/formacao-ui-adobe-xd\">\n",
            "Adobe XD                                            </a></li><li\n",
            "class=\"careers__list__item__list__item\">\n",
            "<a\n",
            "class=\"careers__list__item__list__item__link\" href=\"/formacao-desenhohumano-photoshop\">\n",
            "Desenho humano no Photoshop                                            </a></li><li\n",
            "class=\"careers__list__item__list__item\">\n",
            "<a\n",
            "class=\"careers__list__item__list__item__link\" href=\"/formacao-design-grafico\">\n",
            "Design Gráfico                                            </a></li><li\n",
            "class=\"careers__list__item__list__item\">\n",
            "<a\n",
            "class=\"careers__list__item__list__item__link\" href=\"/formacao-editor-video\">\n",
            "Editor de vídeo                                            </a></li><li\n",
            "class=\"careers__list__item__list__item\">\n",
            "<a\n",
            "class=\"careers__list__item__list__item__link\" href=\"/formacao-ilustra-publicitaria\">\n",
            "Ilustração Publicitária no Photoshop                                            </a></li><li\n",
            "class=\"careers__list__item__list__item\">\n",
            "<a\n",
            "class=\"careers__list__item__list__item__link\" href=\"/formacao-producao-indesign\">\n",
            "InDesign                                            </a></li><li\n",
            "class=\"careers__list__item__list__item\">\n",
            "<a\n",
            "class=\"careers__list__item__list__item__link\" href=\"/formacao-motion-design\">\n",
            "Motion Design                                            </a></li><li\n",
            "class=\"careers__list__item__list__item\">\n",
            "<a\n",
            "class=\"careers__list__item__list__item__link\" href=\"/formacao-pinturadigital-photoshop\">\n",
            "Pintura Digital no Photoshop                                            </a></li><li\n",
            "class=\"careers__list__item__list__item\">\n",
            "<a\n",
            "class=\"careers__list__item__list__item__link\" href=\"/formacao-producao-com-photoshop\">\n",
            "Produção com Photoshop                                            </a></li><li\n",
            "class=\"careers__list__item__list__item\">\n",
            "<a\n",
            "class=\"careers__list__item__list__item__link\" href=\"/formacao-procucao-premiere\">\n",
            "Produção de vídeo no Premiere                                            </a></li><li\n",
            "class=\"careers__list__item__list__item\">\n",
            "<a\n",
            "class=\"careers__list__item__list__item__link\" href=\"/formacao-grafica-illustrator\">\n",
            "Produção Gráfica com Illustrator                                            </a></li><li\n",
            "class=\"careers__list__item__list__item\">\n",
            "<a\n",
            "class=\"careers__list__item__list__item__link\" href=\"/formacao-ui-sketch\">\n",
            "Sketch                                            </a></li><li\n",
            "class=\"careers__list__item__list__item\">\n",
            "<a\n",
            "class=\"careers__list__item__list__item__link\" href=\"/formacao-unreal-engine\">\n",
            "Unreal Engine                                            </a></li><li\n",
            "class=\"careers__list__item__list__item\">\n",
            "<a\n",
            "class=\"careers__list__item__list__item__link\" href=\"/formacao-ux\">\n",
            "UX Design                                            </a></li></ul></li><style type=\"text/css\">.career-data-science-title:after {\n",
            "\t\t                            \tbackground-color:#9cd33b;\n",
            "\t\t                            }</style><li\n",
            "class=\"careers__list__item\" style=\"color:#9cd33b;\"><div\n",
            "class=\"careers__list__item__title-wrapper\"><div\n",
            "class=\"categories__svg-wrapper\" style=\"background-color:#9cd33b;\">\n",
            "<svg\n",
            "class=\"pagina-categoria__svg svgFill-data-science categories__svg\" xmlns:xlink=\"http://www.w3.org/1999/xlink\">\n",
            "<use\n",
            "xlink:href=\"/svg,1570550707/categorias#icon-categorias-data-science\"/>\n",
            "</svg></div><h3 class=\"careers__list__item__title\">Data Science</h3></div><h4 class=\"careers__list__item__sub-title career-data-science-title\">Formações</h4><ul\n",
            "class=\"careers__list__item__list careers__list__item__list--formacoes\"><li\n",
            "class=\"careers__list__item__list__item\">\n",
            "<a\n",
            "class=\"careers__list__item__list__item__link\" href=\"/formacao-business-intelligence-data-warehouse-pentaho\">\n",
            "BI e Data Warehouse com Pentaho                                            </a></li><li\n",
            "class=\"careers__list__item__list__item\">\n",
            "<a\n",
            "class=\"careers__list__item__list__item__link\" href=\"/formacao-business-intelligence-data-warehouse\">\n",
            "BI e Data Warehouse com SQL Server e Power BI                                            </a></li><li\n",
            "class=\"careers__list__item__list__item\">\n",
            "<a\n",
            "class=\"careers__list__item__list__item__link\" href=\"/formacao-certificacao-oracle-12c\">\n",
            "Certificação Oracle 12c                                            </a></li><li\n",
            "class=\"careers__list__item__list__item\">\n",
            "<a\n",
            "class=\"careers__list__item__list__item__link\" href=\"/formacao-data-science\">\n",
            "Data Science                                            </a></li><li\n",
            "class=\"careers__list__item__list__item\">\n",
            "<a\n",
            "class=\"careers__list__item__list__item__link\" href=\"/formacao-excel-vba\">\n",
            "Excel VBA                                            </a></li><li\n",
            "class=\"careers__list__item__list__item\">\n",
            "<a\n",
            "class=\"careers__list__item__list__item__link\" href=\"/formacao-machine-learning\">\n",
            "Machine Learning                                            </a></li><li\n",
            "class=\"careers__list__item__list__item\">\n",
            "<a\n",
            "class=\"careers__list__item__list__item__link\" href=\"/formacao-oracle-sql-plsql\">\n",
            "Oracle SQL e PL/SQL                                            </a></li><li\n",
            "class=\"careers__list__item__list__item\">\n",
            "<a\n",
            "class=\"careers__list__item__list__item__link\" href=\"/formacao-microsoft-sql-server-2017\">\n",
            "SQL com Microsoft SQL Server 2017                                            </a></li><li\n",
            "class=\"careers__list__item__list__item\">\n",
            "<a\n",
            "class=\"careers__list__item__list__item__link\" href=\"/formacao-oracle-mysql\">\n",
            "SQL com MySQL Server da Oracle                                            </a></li></ul></li><style type=\"text/css\">.career-marketing-digital-title:after {\n",
            "\t\t                            \tbackground-color:#6b5be2;\n",
            "\t\t                            }</style><li\n",
            "class=\"careers__list__item\" style=\"color:#6b5be2;\"><div\n",
            "class=\"careers__list__item__title-wrapper\"><div\n",
            "class=\"categories__svg-wrapper\" style=\"background-color:#6b5be2;\">\n",
            "<svg\n",
            "class=\"pagina-categoria__svg svgFill-marketing-digital categories__svg\" xmlns:xlink=\"http://www.w3.org/1999/xlink\">\n",
            "<use\n",
            "xlink:href=\"/svg,1570550707/categorias#icon-categorias-marketing-digital\"/>\n",
            "</svg></div><h3 class=\"careers__list__item__title\">Marketing Digital</h3></div><h4 class=\"careers__list__item__sub-title career-marketing-digital-title\">Formações</h4><ul\n",
            "class=\"careers__list__item__list careers__list__item__list--formacoes\"><li\n",
            "class=\"careers__list__item__list__item\">\n",
            "<a\n",
            "class=\"careers__list__item__list__item__link\" href=\"/formacao-marketing-digital\">\n",
            "Marketing Digital                                            </a></li><li\n",
            "class=\"careers__list__item__list__item\">\n",
            "<a\n",
            "class=\"careers__list__item__list__item__link\" href=\"/formacao-seo\">\n",
            "SEO                                            </a></li><li\n",
            "class=\"careers__list__item__list__item\">\n",
            "<a\n",
            "class=\"careers__list__item__list__item__link\" href=\"/formacao-social-media\">\n",
            "Social Media                                            </a></li></ul></li><style type=\"text/css\">.career-inovacao-gestao-title:after {\n",
            "\t\t                            \tbackground-color:#ff8c2a;\n",
            "\t\t                            }</style><li\n",
            "class=\"careers__list__item\" style=\"color:#ff8c2a;\"><div\n",
            "class=\"careers__list__item__title-wrapper\"><div\n",
            "class=\"categories__svg-wrapper\" style=\"background-color:#ff8c2a;\">\n",
            "<svg\n",
            "class=\"pagina-categoria__svg svgFill-inovacao-gestao categories__svg\" xmlns:xlink=\"http://www.w3.org/1999/xlink\">\n",
            "<use\n",
            "xlink:href=\"/svg,1570550707/categorias#icon-categorias-inovacao-gestao\"/>\n",
            "</svg></div><h3 class=\"careers__list__item__title\">Inovação & Gestão</h3></div><h4 class=\"careers__list__item__sub-title career-inovacao-gestao-title\">Formações</h4><ul\n",
            "class=\"careers__list__item__list careers__list__item__list--formacoes\"><li\n",
            "class=\"careers__list__item__list__item\">\n",
            "<a\n",
            "class=\"careers__list__item__list__item__link\" href=\"/formacao-business-agility\">\n",
            "Business Agility                                            </a></li><li\n",
            "class=\"careers__list__item__list__item\">\n",
            "<a\n",
            "class=\"careers__list__item__list__item__link\" href=\"/formacao-certificacao-cobit-5\">\n",
            "Certificação Cobit 5                                            </a></li><li\n",
            "class=\"careers__list__item__list__item\">\n",
            "<a\n",
            "class=\"careers__list__item__list__item__link\" href=\"/formacao-certificacao-itil-foundation\">\n",
            "Certificação ITIL Foundation                                            </a></li><li\n",
            "class=\"careers__list__item__list__item\">\n",
            "<a\n",
            "class=\"careers__list__item__list__item__link\" href=\"/formacao-certificacao-pmp-capm-pmi\">\n",
            "Certificação PMP e CAPM do PMI                                            </a></li><li\n",
            "class=\"careers__list__item__list__item\">\n",
            "<a\n",
            "class=\"careers__list__item__list__item__link\" href=\"/formacao-curriculos\">\n",
            "Currículos                                            </a></li><li\n",
            "class=\"careers__list__item__list__item\">\n",
            "<a\n",
            "class=\"careers__list__item__list__item__link\" href=\"/formacao-desenvolvimento-pessoal\">\n",
            "Desenvolvimento Pessoal                                            </a></li><li\n",
            "class=\"careers__list__item__list__item\">\n",
            "<a\n",
            "class=\"careers__list__item__list__item__link\" href=\"/formacao-e-commerce\">\n",
            "E-commerce                                            </a></li><li\n",
            "class=\"careers__list__item__list__item\">\n",
            "<a\n",
            "class=\"careers__list__item__list__item__link\" href=\"/formacao-empreendedorismo-digital\">\n",
            "Empreendedorismo Digital                                            </a></li><li\n",
            "class=\"careers__list__item__list__item\">\n",
            "<a\n",
            "class=\"careers__list__item__list__item__link\" href=\"/formacao-gerente-agil\">\n",
            "Gerente Ágil                                            </a></li></ul></li></ul></div></section><link\n",
            "rel=\"stylesheet\" href=\"/assets/css/block/destaqueAlunos.1570550707.css\"><section\n",
            "class=\"testimonies\"><div\n",
            "class=\"container\"><div\n",
            "class=\"testimonies__wrapper\"><h2 class=\"testimonies__title\">\n",
            "Experiências de quem\n",
            "<strong\n",
            "class=\"testimonies__title__featured\">já estudou com a gente</strong></h2></div><nav\n",
            "class=\"testimonies__list\"><div\n",
            "class=\"testimonies__list__item\"><div\n",
            "class=\"testimony\">\n",
            "<img\n",
            "class=\"testimonies__list__item__photo\" alt=\"\"\n",
            "src=\"/assets/img/aluno-destaque/genilton-souza.1570550707.jpg\"><div\n",
            "class=\"testimonies__list__item__wrapper\"><h3 class=\"testimonies__list__item__title\">Genilton Souza</h3>\n",
            "<span\n",
            "class=\"testimonies__list__item__description\">\n",
            "Se você não sabe a ordem do que deve aprender e praticar para\n",
            "dominar uma tecnologia, <strong>a forma como os cursos estão organizados\n",
            "e estruturados na Alura ajuda muito</strong>.\n",
            "Aprendi C# aqui e pago minhas contas com isso hoje em dia.</span></div></div></div><div\n",
            "class=\"testimonies__list__item\"><div\n",
            "class=\"testimony\">\n",
            "<img\n",
            "class=\"testimonies__list__item__photo\" alt=\"\"\n",
            "src=\"/assets/img/aluno-destaque/leandro-silva.1570550707.jpg\"><div\n",
            "class=\"testimonies__list__item__wrapper\"><h3 class=\"testimonies__list__item__title\">Leandro da Silva</h3>\n",
            "<span\n",
            "class=\"testimonies__list__item__description\">\n",
            "Passei dois anos e meio desempregado e foi onde conheci os cursos\n",
            "da Alura. <strong>Consegui fazer uma mudança de carreira em uma área muito\n",
            "disputada e estou muito feliz</strong>: passei em um processo seletivo\n",
            "como Agente de Inovação, e muito do que aprendi tanto para a prova\n",
            "quanto para a etapa presencial foi graças a Alura.\n",
            "</span></div></div></div><div\n",
            "class=\"testimonies__list__item\"><div\n",
            "class=\"testimony\">\n",
            "<img\n",
            "class=\"testimonies__list__item__photo\" alt=\"\"\n",
            "src=\"/assets/img/aluno-destaque/nadia-oliveira.1570550707.jpg\"><div\n",
            "class=\"testimonies__list__item__wrapper\"><h3 class=\"testimonies__list__item__title\">Nádia Oliveira</h3>\n",
            "<span\n",
            "class=\"testimonies__list__item__description\">\n",
            "A plataforma é incrível. Além das metodologias do curso serem de alcance\n",
            "para quem está começando ou quem já está avançado em alguma tecnologia,\n",
            "no fórum de dúvidas sempre algum instrutor ou aluno te responde em um\n",
            "curto espaço de tempo.\n",
            "<strong>Na Alura, seu conhecimento é prioridade</strong>.\n",
            "</span></div></div></div></nav></div></section><section\n",
            "class=\"companies\"><div\n",
            "class=\"container\"><div\n",
            "class=\"companies-wrapper\"><div\n",
            "class=\"companies__description-wrapper\">\n",
            "<img\n",
            "class=\"companies__image\" src=\"/assets/img/home/homeNova/companies/foto-empresas.1570550707.jpg\" alt=\"Pessoas trabalhando na\n",
            "Alura\"><div\n",
            "class=\"companies__description\"><div\n",
            "class=\"companies__description__title-wrapper\"><h2 class=\"companies__description__title\">Para a sua <strong>empresa</strong></h2></div><p\n",
            "class=\"companies__description__text\">\n",
            "Capacite suas equipes com formações continuadas, lançamentos semanais, dashboards e relatórios\n",
            "de engajamento além de guias de estudos customizados de acordo com sua necessidade.</p>\n",
            "<a\n",
            "class=\"companies__description__link\" href=\"/empresas\">Conheça os recursos</a></div></div><section\n",
            "class=\"companies__testimony\"><div\n",
            "class=\"companies__testimony__wrapper\"><p\n",
            "class=\"companies__testimony__text\">\n",
            "<em>\n",
            "O time conseguiu aprender muito e um dos diferenciais para nós foi a língua,\n",
            "com  conteúdo de qualidade em português. Na Alura, a equipe conseguiu estudar pela plataforma\n",
            "online e aplicar tudo de maneira estruturada.</em></p>\n",
            "<span\n",
            "class=\"companies__testimony__author\">\n",
            "<strong\n",
            "class=\"companies__testimony__author__name\">Lucas Souza</strong> CTO da GetNinjas\n",
            "</span></div></section></div><section\n",
            "class=\"companies__using-alura\"><div\n",
            "class=\"companies__using-alura__title__wrapper\"><h2 class=\"companies__using-alura__title\">\n",
            "<strong>Empresas que já contam com a gente:</strong></h2></div><ul\n",
            "class=\"companies__using-alura__list\"><li\n",
            "class=\"companies__using-alura__list__item\">\n",
            "<img\n",
            "class=\"companies__using-alura__list__item__image\"\n",
            "src=\"/assets/img/home/homeNova/logo-empresas/logo-empresa-amil.1570550707.svg\" alt=\"Amil\"></li><li\n",
            "class=\"companies__using-alura__list__item\">\n",
            "<img\n",
            "class=\"companies__using-alura__list__item__image\"\n",
            "src=\"/assets/img/home/homeNova/logo-empresas/logo-empresa-samsung.1570550707.svg\" alt=\"Samsung\"></li><li\n",
            "class=\"companies__using-alura__list__item\">\n",
            "<img\n",
            "class=\"companies__using-alura__list__item__image\"\n",
            "src=\"/assets/img/home/homeNova/logo-empresas/logo-empresa-santander.1570550707.svg\" alt=\"Santander\"></li><li\n",
            "class=\"companies__using-alura__list__item\">\n",
            "<img\n",
            "class=\"companies__using-alura__list__item__image\"\n",
            "src=\"/assets/img/home/homeNova/logo-empresas/logo-empresa-cielo.1570550707.svg\" alt=\"Cielo\"></li><li\n",
            "class=\"companies__using-alura__list__item\">\n",
            "<img\n",
            "class=\"companies__using-alura__list__item__image\"\n",
            "src=\"/assets/img/home/homeNova/logo-empresas/logo-empresa-algar.1570550707.svg\" alt=\"Algar\"></li><li\n",
            "class=\"companies__using-alura__list__item\">\n",
            "<img\n",
            "class=\"companies__using-alura__list__item__image\"\n",
            "src=\"/assets/img/home/homeNova/logo-empresas/logo-empresa-caixa.1570550707.svg\" alt=\"Caixa\"></li><li\n",
            "class=\"companies__using-alura__list__item\">\n",
            "<img\n",
            "class=\"companies__using-alura__list__item__image\"\n",
            "src=\"/assets/img/home/homeNova/logo-empresas/logo-empresa-globo.1570550707.svg\" alt=\"Globo.com\"></li></ul></section></div></section><section\n",
            "class=\"mobile\"><div\n",
            "class=\"container\"><div\n",
            "class=\"mobile__wrapper-info\"><div\n",
            "class=\"mobile__info mobile__info--forum\">\n",
            "Já são\n",
            "<strong>971 cursos</strong>\n",
            "com lançamentos toda semana.</div><div\n",
            "class=\"mobile__info mobile__info--app\">\n",
            "Aplicativos para\n",
            "<strong>Android e iOS</strong>\n",
            "Baixe e estude offline em qualquer lugar.</div></div><nav\n",
            "class=\"mobile__apps-download\">\n",
            "<a\n",
            "href=\"https://play.google.com/store/apps/details?id=br.com.alura.mobi&hl=pt_BR\"\n",
            "class=\"mobile__apps-download__item mobile__apps-download__item--google-play\">Google\n",
            "Play</a>\n",
            "<a\n",
            "href=\"https://itunes.apple.com/br/app/alura-cursos-online/id1225776635\"\n",
            "class=\"mobile__apps-download__item mobile__apps-download__item--app-store\">App\n",
            "Store</a></nav></div></section><link\n",
            "rel=\"stylesheet\" href=\"/assets/css/block/planosPagamentoOld.1572538101.css\"><section\n",
            "class=\"planos-pagamento\" id=\"planos-cursos-online\"><h2 class=\"planos-pagamento__titulo\">\n",
            "Sabe quando você pode começar? <span\n",
            "class=\"planos-pagamento__titulo--bold\">Agora!</span></h2><div\n",
            "class=\"container\"><div\n",
            "class=\"planos-pagamento__planos \"><ul\n",
            "class=\"planos-pagamento__vantagens-mobile\"><li\n",
            "class=\"planos-pagamento__vantagem\"><div\n",
            "class=\"planos-pagamento__wrapper planos-pagamento__wrapper--com-descricao\">\n",
            "<span\n",
            "class=\"planos-pagamento__label\">971 cursos</span><div\n",
            "class=\"planos-pagamento__legenda-tooltip\"><p\n",
            "class=\"planos-pagamento__legenda-descricao\">Cursos de programação, UX, agilidade, data science, transformação digital, mobile, front-end, marketing e infra.</p></div></div></li><li\n",
            "class=\"planos-pagamento__vantagem\"><div\n",
            "class=\"planos-pagamento__wrapper planos-pagamento__wrapper--com-descricao\">\n",
            "<span\n",
            "class=\"planos-pagamento__label\">Certificado de participação</span><div\n",
            "class=\"planos-pagamento__legenda-tooltip\"><p\n",
            "class=\"planos-pagamento__legenda-descricao\">Certificado de que assistiu o curso e finalizou as atividades</p></div></div></li><li\n",
            "class=\"planos-pagamento__vantagem\"><div\n",
            "class=\"planos-pagamento__wrapper planos-pagamento__wrapper--com-descricao\">\n",
            "<span\n",
            "class=\"planos-pagamento__label\">App para Android e iPhone/iPad</span><div\n",
            "class=\"planos-pagamento__legenda-tooltip\"><p\n",
            "class=\"planos-pagamento__legenda-descricao\">Estude até mesmo offline através das nossas apps Android e iOS em smartphones e tablets</p></div></div></li><li\n",
            "class=\"planos-pagamento__vantagem\"><div\n",
            "class=\"planos-pagamento__wrapper planos-pagamento__wrapper--com-descricao\">\n",
            "<span\n",
            "class=\"planos-pagamento__label\">Projeto avaliado pelos instrutores</span><div\n",
            "class=\"planos-pagamento__legenda-tooltip\"><p\n",
            "class=\"planos-pagamento__legenda-descricao\">Projeto práticos para entrega e avaliação dos professores da Alura com certificado de aprovação diferenciado</p></div></div></li><li\n",
            "class=\"planos-pagamento__vantagem\"><div\n",
            "class=\"planos-pagamento__wrapper planos-pagamento__wrapper--com-descricao\">\n",
            "<span\n",
            "class=\"planos-pagamento__label\">Acesso à Alura Start</span><div\n",
            "class=\"planos-pagamento__legenda-tooltip\"><p\n",
            "class=\"planos-pagamento__legenda-descricao\">Cursos de introdução a tecnologia através de games, apps e ciência</p></div></div></li><li\n",
            "class=\"planos-pagamento__vantagem\"><div\n",
            "class=\"planos-pagamento__wrapper planos-pagamento__wrapper--com-descricao\">\n",
            "<span\n",
            "class=\"planos-pagamento__label\">Acesso à Alura Língua</span><div\n",
            "class=\"planos-pagamento__legenda-tooltip\"><p\n",
            "class=\"planos-pagamento__legenda-descricao\">Reforço online de inglês e espanhol para aprimorar seu conhecimento</p></div></div></li></ul><div\n",
            "class=\"planos-pagamento__plano planos-pagamento__plano--premium\"\n",
            "data-payment-plan  data-payment-plan-price=\"900\"><div\n",
            "class=\"planos-pagamento__header\"><h4 class=\"planos-pagamento__nome\">Premium</h4></div><ul\n",
            "class=\"planos-pagamento__vantagens\"><li\n",
            "class=\"planos-pagamento__vantagem\"><div\n",
            "class=\"planos-pagamento__wrapper planos-pagamento__wrapper--com-descricao\">\n",
            "<span\n",
            "class=\"planos-pagamento__label\">971 cursos</span><div\n",
            "class=\"planos-pagamento__legenda-tooltip\"><p\n",
            "class=\"planos-pagamento__legenda-descricao\">Cursos de programação, UX, agilidade, data science, transformação digital, mobile, front-end, marketing e infra.</p></div></div><div\n",
            "class=\"planos-pagamento__checkmark planos-pagamento__checkmark--ativo\">\n",
            "<svg><use\n",
            "xlink:href=\"/svg,1570550707/planosPagamento#icon-planosPagamento-checked\" /></svg></div></li><li\n",
            "class=\"planos-pagamento__vantagem\"><div\n",
            "class=\"planos-pagamento__wrapper planos-pagamento__wrapper--com-descricao\">\n",
            "<span\n",
            "class=\"planos-pagamento__label\">Certificado de participação</span><div\n",
            "class=\"planos-pagamento__legenda-tooltip\"><p\n",
            "class=\"planos-pagamento__legenda-descricao\">Certificado de que assistiu o curso e finalizou as atividades</p></div></div><div\n",
            "class=\"planos-pagamento__checkmark planos-pagamento__checkmark--ativo\">\n",
            "<svg><use\n",
            "xlink:href=\"/svg,1570550707/planosPagamento#icon-planosPagamento-checked\" /></svg></div></li><li\n",
            "class=\"planos-pagamento__vantagem\"><div\n",
            "class=\"planos-pagamento__wrapper planos-pagamento__wrapper--com-descricao\">\n",
            "<span\n",
            "class=\"planos-pagamento__label\">App para Android e iPhone/iPad</span><div\n",
            "class=\"planos-pagamento__legenda-tooltip\"><p\n",
            "class=\"planos-pagamento__legenda-descricao\">Estude até mesmo offline através das nossas apps Android e iOS em smartphones e tablets</p></div></div><div\n",
            "class=\"planos-pagamento__checkmark planos-pagamento__checkmark--ativo\">\n",
            "<svg><use\n",
            "xlink:href=\"/svg,1570550707/planosPagamento#icon-planosPagamento-checked\" /></svg></div></li><li\n",
            "class=\"planos-pagamento__vantagem\"><div\n",
            "class=\"planos-pagamento__wrapper planos-pagamento__wrapper--com-descricao\">\n",
            "<span\n",
            "class=\"planos-pagamento__label\">Projeto avaliado pelos instrutores</span><div\n",
            "class=\"planos-pagamento__legenda-tooltip\"><p\n",
            "class=\"planos-pagamento__legenda-descricao\">Projeto práticos para entrega e avaliação dos professores da Alura com certificado de aprovação diferenciado</p></div></div><div\n",
            "class=\"planos-pagamento__checkmark \">\n",
            "<svg><use\n",
            "xlink:href=\"/svg,1570550707/planosPagamento#icon-planosPagamento-checked\" /></svg></div></li><li\n",
            "class=\"planos-pagamento__vantagem\"><div\n",
            "class=\"planos-pagamento__wrapper planos-pagamento__wrapper--com-descricao\">\n",
            "<span\n",
            "class=\"planos-pagamento__label\">Acesso à Alura Start</span><div\n",
            "class=\"planos-pagamento__legenda-tooltip\"><p\n",
            "class=\"planos-pagamento__legenda-descricao\">Cursos de introdução a tecnologia através de games, apps e ciência</p></div></div><div\n",
            "class=\"planos-pagamento__checkmark \">\n",
            "<svg><use\n",
            "xlink:href=\"/svg,1570550707/planosPagamento#icon-planosPagamento-checked\" /></svg></div></li><li\n",
            "class=\"planos-pagamento__vantagem\"><div\n",
            "class=\"planos-pagamento__wrapper planos-pagamento__wrapper--com-descricao\">\n",
            "<span\n",
            "class=\"planos-pagamento__label\">Acesso à Alura Língua</span><div\n",
            "class=\"planos-pagamento__legenda-tooltip\"><p\n",
            "class=\"planos-pagamento__legenda-descricao\">Reforço online de inglês e espanhol para aprimorar seu conhecimento</p></div></div><div\n",
            "class=\"planos-pagamento__checkmark \">\n",
            "<svg><use\n",
            "xlink:href=\"/svg,1570550707/planosPagamento#icon-planosPagamento-checked\" /></svg></div></li></ul><div\n",
            "class=\"planos-pagamento__precos \">\n",
            "<span\n",
            "class=\"planos-pagamento__numero-parcelas\">\n",
            "12X\n",
            "</span><div\n",
            "class=\"planos-pagamento__preco-parcela\n",
            "\">\n",
            "<span\n",
            "class=\"planos-pagamento__valor-parcela\">R$75</div><div\n",
            "class=\"planos-pagamento__preco-vista\">\n",
            "<span\n",
            "class=\"planos-pagamento__label-vista\">à vista</span>\n",
            "<span\n",
            "class=\"planos-pagamento__valor-vista\">R$900</span></div></div><a\n",
            "class=\"planos-pagamento__cta\" href=\"/compra/premium/\">\n",
            "Matricule-se\n",
            "</a></div><div\n",
            "class=\"planos-pagamento__plano planos-pagamento__plano--premiumplus\"\n",
            "data-payment-plan  data-payment-plan-price=\"1.200\"><div\n",
            "class=\"planos-pagamento__header\"><h4 class=\"planos-pagamento__nome\">Premium Plus</h4></div><ul\n",
            "class=\"planos-pagamento__vantagens\"><li\n",
            "class=\"planos-pagamento__vantagem\"><div\n",
            "class=\"planos-pagamento__wrapper planos-pagamento__wrapper--com-descricao\">\n",
            "<span\n",
            "class=\"planos-pagamento__label\">971 cursos</span><div\n",
            "class=\"planos-pagamento__legenda-tooltip\"><p\n",
            "class=\"planos-pagamento__legenda-descricao\">Cursos de programação, UX, agilidade, data science, transformação digital, mobile, front-end, marketing e infra.</p></div></div><div\n",
            "class=\"planos-pagamento__checkmark planos-pagamento__checkmark--ativo\">\n",
            "<svg><use\n",
            "xlink:href=\"/svg,1570550707/planosPagamento#icon-planosPagamento-checked\" /></svg></div></li><li\n",
            "class=\"planos-pagamento__vantagem\"><div\n",
            "class=\"planos-pagamento__wrapper planos-pagamento__wrapper--com-descricao\">\n",
            "<span\n",
            "class=\"planos-pagamento__label\">Certificado de participação</span><div\n",
            "class=\"planos-pagamento__legenda-tooltip\"><p\n",
            "class=\"planos-pagamento__legenda-descricao\">Certificado de que assistiu o curso e finalizou as atividades</p></div></div><div\n",
            "class=\"planos-pagamento__checkmark planos-pagamento__checkmark--ativo\">\n",
            "<svg><use\n",
            "xlink:href=\"/svg,1570550707/planosPagamento#icon-planosPagamento-checked\" /></svg></div></li><li\n",
            "class=\"planos-pagamento__vantagem\"><div\n",
            "class=\"planos-pagamento__wrapper planos-pagamento__wrapper--com-descricao\">\n",
            "<span\n",
            "class=\"planos-pagamento__label\">App para Android e iPhone/iPad</span><div\n",
            "class=\"planos-pagamento__legenda-tooltip\"><p\n",
            "class=\"planos-pagamento__legenda-descricao\">Estude até mesmo offline através das nossas apps Android e iOS em smartphones e tablets</p></div></div><div\n",
            "class=\"planos-pagamento__checkmark planos-pagamento__checkmark--ativo\">\n",
            "<svg><use\n",
            "xlink:href=\"/svg,1570550707/planosPagamento#icon-planosPagamento-checked\" /></svg></div></li><li\n",
            "class=\"planos-pagamento__vantagem\"><div\n",
            "class=\"planos-pagamento__wrapper planos-pagamento__wrapper--com-descricao\">\n",
            "<span\n",
            "class=\"planos-pagamento__label\">Projeto avaliado pelos instrutores</span><div\n",
            "class=\"planos-pagamento__legenda-tooltip\"><p\n",
            "class=\"planos-pagamento__legenda-descricao\">Projeto práticos para entrega e avaliação dos professores da Alura com certificado de aprovação diferenciado</p></div></div><div\n",
            "class=\"planos-pagamento__checkmark planos-pagamento__checkmark--ativo\">\n",
            "<svg><use\n",
            "xlink:href=\"/svg,1570550707/planosPagamento#icon-planosPagamento-checked\" /></svg></div></li><li\n",
            "class=\"planos-pagamento__vantagem\"><div\n",
            "class=\"planos-pagamento__wrapper planos-pagamento__wrapper--com-descricao\">\n",
            "<span\n",
            "class=\"planos-pagamento__label\">Acesso à Alura Start</span><div\n",
            "class=\"planos-pagamento__legenda-tooltip\"><p\n",
            "class=\"planos-pagamento__legenda-descricao\">Cursos de introdução a tecnologia através de games, apps e ciência</p></div></div><div\n",
            "class=\"planos-pagamento__checkmark planos-pagamento__checkmark--ativo\">\n",
            "<svg><use\n",
            "xlink:href=\"/svg,1570550707/planosPagamento#icon-planosPagamento-checked\" /></svg></div></li><li\n",
            "class=\"planos-pagamento__vantagem\"><div\n",
            "class=\"planos-pagamento__wrapper planos-pagamento__wrapper--com-descricao\">\n",
            "<span\n",
            "class=\"planos-pagamento__label\">Acesso à Alura Língua</span><div\n",
            "class=\"planos-pagamento__legenda-tooltip\"><p\n",
            "class=\"planos-pagamento__legenda-descricao\">Reforço online de inglês e espanhol para aprimorar seu conhecimento</p></div></div><div\n",
            "class=\"planos-pagamento__checkmark \">\n",
            "<svg><use\n",
            "xlink:href=\"/svg,1570550707/planosPagamento#icon-planosPagamento-checked\" /></svg></div></li></ul><div\n",
            "class=\"planos-pagamento__precos \">\n",
            "<span\n",
            "class=\"planos-pagamento__numero-parcelas\">\n",
            "12X\n",
            "</span><div\n",
            "class=\"planos-pagamento__preco-parcela\n",
            "\">\n",
            "<span\n",
            "class=\"planos-pagamento__valor-parcela\">R$100</div><div\n",
            "class=\"planos-pagamento__preco-vista\">\n",
            "<span\n",
            "class=\"planos-pagamento__label-vista\">à vista</span>\n",
            "<span\n",
            "class=\"planos-pagamento__valor-vista\">R$1.200</span></div></div><a\n",
            "class=\"planos-pagamento__cta\" href=\"/compra/premiumplus/\">\n",
            "Matricule-se\n",
            "</a></div><div\n",
            "class=\"planos-pagamento__plano planos-pagamento__plano--max\"\n",
            "data-payment-plan  data-payment-plan-price=\"1.440\"><div\n",
            "class=\"planos-pagamento__header\"><h4 class=\"planos-pagamento__nome\">Max</h4></div><ul\n",
            "class=\"planos-pagamento__vantagens\"><li\n",
            "class=\"planos-pagamento__vantagem\"><div\n",
            "class=\"planos-pagamento__wrapper planos-pagamento__wrapper--com-descricao\">\n",
            "<span\n",
            "class=\"planos-pagamento__label\">971 cursos</span><div\n",
            "class=\"planos-pagamento__legenda-tooltip\"><p\n",
            "class=\"planos-pagamento__legenda-descricao\">Cursos de programação, UX, agilidade, data science, transformação digital, mobile, front-end, marketing e infra.</p></div></div><div\n",
            "class=\"planos-pagamento__checkmark planos-pagamento__checkmark--ativo\">\n",
            "<svg><use\n",
            "xlink:href=\"/svg,1570550707/planosPagamento#icon-planosPagamento-checked\" /></svg></div></li><li\n",
            "class=\"planos-pagamento__vantagem\"><div\n",
            "class=\"planos-pagamento__wrapper planos-pagamento__wrapper--com-descricao\">\n",
            "<span\n",
            "class=\"planos-pagamento__label\">Certificado de participação</span><div\n",
            "class=\"planos-pagamento__legenda-tooltip\"><p\n",
            "class=\"planos-pagamento__legenda-descricao\">Certificado de que assistiu o curso e finalizou as atividades</p></div></div><div\n",
            "class=\"planos-pagamento__checkmark planos-pagamento__checkmark--ativo\">\n",
            "<svg><use\n",
            "xlink:href=\"/svg,1570550707/planosPagamento#icon-planosPagamento-checked\" /></svg></div></li><li\n",
            "class=\"planos-pagamento__vantagem\"><div\n",
            "class=\"planos-pagamento__wrapper planos-pagamento__wrapper--com-descricao\">\n",
            "<span\n",
            "class=\"planos-pagamento__label\">App para Android e iPhone/iPad</span><div\n",
            "class=\"planos-pagamento__legenda-tooltip\"><p\n",
            "class=\"planos-pagamento__legenda-descricao\">Estude até mesmo offline através das nossas apps Android e iOS em smartphones e tablets</p></div></div><div\n",
            "class=\"planos-pagamento__checkmark planos-pagamento__checkmark--ativo\">\n",
            "<svg><use\n",
            "xlink:href=\"/svg,1570550707/planosPagamento#icon-planosPagamento-checked\" /></svg></div></li><li\n",
            "class=\"planos-pagamento__vantagem\"><div\n",
            "class=\"planos-pagamento__wrapper planos-pagamento__wrapper--com-descricao\">\n",
            "<span\n",
            "class=\"planos-pagamento__label\">Projeto avaliado pelos instrutores</span><div\n",
            "class=\"planos-pagamento__legenda-tooltip\"><p\n",
            "class=\"planos-pagamento__legenda-descricao\">Projeto práticos para entrega e avaliação dos professores da Alura com certificado de aprovação diferenciado</p></div></div><div\n",
            "class=\"planos-pagamento__checkmark planos-pagamento__checkmark--ativo\">\n",
            "<svg><use\n",
            "xlink:href=\"/svg,1570550707/planosPagamento#icon-planosPagamento-checked\" /></svg></div></li><li\n",
            "class=\"planos-pagamento__vantagem\"><div\n",
            "class=\"planos-pagamento__wrapper planos-pagamento__wrapper--com-descricao\">\n",
            "<span\n",
            "class=\"planos-pagamento__label\">Acesso à Alura Start</span><div\n",
            "class=\"planos-pagamento__legenda-tooltip\"><p\n",
            "class=\"planos-pagamento__legenda-descricao\">Cursos de introdução a tecnologia através de games, apps e ciência</p></div></div><div\n",
            "class=\"planos-pagamento__checkmark planos-pagamento__checkmark--ativo\">\n",
            "<svg><use\n",
            "xlink:href=\"/svg,1570550707/planosPagamento#icon-planosPagamento-checked\" /></svg></div></li><li\n",
            "class=\"planos-pagamento__vantagem\"><div\n",
            "class=\"planos-pagamento__wrapper planos-pagamento__wrapper--com-descricao\">\n",
            "<span\n",
            "class=\"planos-pagamento__label\">Acesso à Alura Língua</span><div\n",
            "class=\"planos-pagamento__legenda-tooltip\"><p\n",
            "class=\"planos-pagamento__legenda-descricao\">Reforço online de inglês e espanhol para aprimorar seu conhecimento</p></div></div><div\n",
            "class=\"planos-pagamento__checkmark planos-pagamento__checkmark--ativo\">\n",
            "<svg><use\n",
            "xlink:href=\"/svg,1570550707/planosPagamento#icon-planosPagamento-checked\" /></svg></div></li></ul><div\n",
            "class=\"planos-pagamento__precos \">\n",
            "<span\n",
            "class=\"planos-pagamento__numero-parcelas\">\n",
            "12X\n",
            "</span><div\n",
            "class=\"planos-pagamento__preco-parcela\n",
            "\">\n",
            "<span\n",
            "class=\"planos-pagamento__valor-parcela\">R$120</div><div\n",
            "class=\"planos-pagamento__preco-vista\">\n",
            "<span\n",
            "class=\"planos-pagamento__label-vista\">à vista</span>\n",
            "<span\n",
            "class=\"planos-pagamento__valor-vista\">R$1.440</span></div></div><a\n",
            "class=\"planos-pagamento__cta\" href=\"/compra/max/\">\n",
            "Matricule-se\n",
            "</a></div></div></div><a\n",
            "class=\"planos-pagamento__b2b\" href=\"/empresas\">\n",
            "<span>Procurando planos para empresas?</span> →\n",
            "</a><div\n",
            "class=\"planosPagamento-vantagens\"><div\n",
            "class=\"container\"><div\n",
            "class=\"planosPagamento-vantagens-vantagem acesso\">\n",
            "<svg><use\n",
            "xlink:href=\"/svg,1570550707/planosPagamento#icon-planosPagamento-acesso\"/></svg>\n",
            "<span>Acesso por 1 ano<span></div><div\n",
            "class=\"planosPagamento-vantagens-vantagem horas\">\n",
            "<svg><use\n",
            "xlink:href=\"/svg,1570550707/planosPagamento#icon-planosPagamento-24h\"/></svg>\n",
            "<span>Estude 24h/dia onde e quando quiser</span></div><div\n",
            "class=\"planosPagamento-vantagens-vantagem novos\">\n",
            "<svg><use\n",
            "xlink:href=\"/svg,1570550707/planosPagamento#icon-planosPagamento-cursos\"/></svg>\n",
            "<span>Novos cursos toda semana</span></div></div></div></section> <script src=\"/assets/js/planosPagamentoOld.1570550707.js\"></script> </main></div>\n",
            " <script>if (navigator.userAgent.indexOf('Safari') > 1 && navigator.userAgent.indexOf('Edge') < 0)\n",
            "\t\t\tdocument.documentElement.className += ' home-fundo-animado'</script> <script src=\"/assets/js/home/categoriaCard.1570550707.js\"></script> <link\n",
            "rel=\"stylesheet\" href=\"/assets/css/block/footer.1570550707.css\"><footer\n",
            "class=\"footer\"><div\n",
            "class=\"container\"><div\n",
            "class=\"footer-navegue\"><ul\n",
            "class=\"footer-navegue-lista\"><li\n",
            "class=\"footer-navegue-lista-link\"><a\n",
            "href=\"/planos-cursos-online\" gtm-data='footer_primeira_secao_053'>Planos</a></li><li\n",
            "class=\"footer-navegue-lista-link\"><a\n",
            "href=\"/cursos-online-tecnologia\" gtm-data='footer_primeira_secao_054'>Todos os cursos</a></li><li\n",
            "class=\"footer-navegue-lista-link\"><a\n",
            "href=\"/guias\">Guias de empresas</a></li><li\n",
            "class=\"footer-navegue-lista-link\"><a\n",
            "href=\"/instrutores\" gtm-data='footer_primeira_secao_056'>Instrutores</a></li><li\n",
            "class=\"footer-navegue-lista-link\"><a\n",
            "href=\"/quero-ser-instrutor\" gtm-data='footer_primeira_secao_057'>Como virar instrutor</a></li><li\n",
            "class=\"footer-navegue-lista-link\"><a\n",
            "href=\"/artigos\" gtm-data='footer_primeira_secao_059'>Artigos</a></li><li\n",
            "class=\"footer-navegue-lista-link\"><a\n",
            "href=\"/politica-de-privacidade\" gtm-data='footer_primeira_secao_061'>Política de Privacidade</a></li><li\n",
            "class=\"footer-navegue-lista-link\"><a\n",
            "href=\"/termos-de-uso\" gtm-data='footer_primeira_secao_062'>Termos de Uso</a></li><li\n",
            "class=\"footer-navegue-lista-link\"><a\n",
            "href=\"/sobre\" gtm-data='footer_primeira_secao_063'>Sobre nós</a></li><li\n",
            "class=\"footer-navegue-lista-link\"><a\n",
            "href=\"https://suporte.alura.com.br/\" gtm-data='footer_primeira_secao_064'>Perguntas frequentes</a></li></ul></div><div\n",
            "class=\"footer-column footer-column-cards\"><div\n",
            "class=\"footer-newsletter\"><h2 class=\"footer-newsletter-titulo\">Receba Novidades e Lançamentos</h2><form\n",
            "class=\"footer-newsletter-form\" action=\"https://cursos.alura.com.br/api/cadastra-newsletter\" method=\"POST\">\n",
            "<input\n",
            "type=\"hidden\" name=\"retorno\" value=\"https://www.alura.com.br/newsletter-cadastrado\"><label\n",
            "for=\"email-newsletter\">Email</label>\n",
            "<input\n",
            "type=\"email\" name=\"email\" class=\"footer-newsletter-input\" placeholder=\"seu email\" id=\"email-newsletter\"><button\n",
            "type=\"submit\" class=\"footer-newsletter-button buttonForm\">OK</button></form></div><div\n",
            "class=\"footer-card-hotLinks\"><h2 class=\"footer-card-hotLinks-titulo\">Nossas redes e apps</h2><div\n",
            "class=\"footer-card-hotLinks-info footer-card-redes\">\n",
            "<a\n",
            "href=\"https://www.youtube.com/alura\" gtm-data='footer_primeira_secao_065' class=\"footer-card-hotLinks-link\" target=\"_blank\" title=\"YouTube da Alura\">\n",
            "<svg\n",
            "class=\"footer-card-hotLinks-icon footer-card-hotLinks-youtube\"><use\n",
            "xlink:href=\"/svg,1570550707/footer#icon-footer-youtube\"/></svg>\n",
            "<span>YouTube</span>\n",
            "</a>\n",
            "<a\n",
            "href=\"https://www.facebook.com/AluraCursosOnline/\" gtm-data='footer_primeira_secao_066' class=\"footer-card-hotLinks-link\" target=\"_blank\" title=\"Facebook da Alura\">\n",
            "<svg\n",
            "class=\"footer-card-hotLinks-icon footer-card-hotLinks-facebook\"><use\n",
            "xlink:href=\"/svg,1570550707/footer#icon-footer-facebook\"/></svg>\n",
            "<span>Facebook</span>\n",
            "</a>\n",
            "<a\n",
            "href=\"https://twitter.com/aluraonline\" gtm-data='footer_primeira_secao_067' class=\"footer-card-hotLinks-link\" target=\"_blank\" title=\"Twitter da Alura\">\n",
            "<svg\n",
            "class=\"footer-card-hotLinks-icon footer-card-hotLinks-twitter\"><use\n",
            "xlink:href=\"/svg,1570550707/footer#icon-footer-twitter\"/></svg>\n",
            "<span>Twitter</span>\n",
            "</a>\n",
            "<a\n",
            "href=\"https://hipsters.tech/\" class=\"footer-card-hotLinks-link\" gtm-data='footer_primeira_secao_068' target=\"_blank\" title=\"Podcast Hipsters Ponto Tech\">\n",
            "<svg\n",
            "class=\"footer-card-hotLinks-icon footer-card-hotLinks-hipsters\"><use\n",
            "xlink:href=\"/svg,1570550707/footer#icon-footer-hipsters\"/></svg>\n",
            "<span>Podcast Hipsters.tech</span>\n",
            "</a>\n",
            "<a\n",
            "href=\"https://instagram.com/aluraonline\" class=\"footer-card-hotLinks-link\" gtm-data='footer_primeira_secao_073' target=\"_blank\" title=\"Instagram da Alura\">\n",
            "<svg\n",
            "class=\"footer-card-hotLinks-icon footer-card-hotLinks-instagram\"><use\n",
            "xlink:href=\"/svg,1570550707/footer#icon-footer-instagram\"/></svg>\n",
            "<span>Instagram</span>\n",
            "</a></div><div\n",
            "class=\"footer-card-hotLinks-info footer-card-mobile\">\n",
            "<a\n",
            "href=\"https://play.google.com/store/apps/details?id=br.com.alura.mobi&hl=pt_BR\" gtm-data='footer_primeira_secao_069' class=\"footer-card-hotLinks-link\" target=\"_blank\" title=\"Baixar na Google Play Store\">\n",
            "<svg\n",
            "class=\"footer-card-hotLinks-icon footer-card-hotLinks-mobile\"><use\n",
            "xlink:href=\"/svg,1570550707/footer#icon-footer-googleplay\"/></svg>\n",
            "<span>Google Play Store</span>\n",
            "</a>\n",
            "<a\n",
            "href=\"https://itunes.apple.com/br/app/alura-cursos-online/id1225776635\" gtm-data='footer_primeira_secao_070' class=\"footer-card-hotLinks-link\" target=\"_blank\" title=\"Baixar na AppStore\">\n",
            "<svg\n",
            "class=\"footer-card-hotLinks-icon footer-card-hotLinks-mobile\"><use\n",
            "xlink:href=\"/svg,1570550707/footer#icon-footer-appstore\"/></svg>\n",
            "<span>AppStore</span>\n",
            "</a></div></div></div><div\n",
            "class=\"footer-column\">\n",
            "<a\n",
            "class=\"footer-card footer-card-contato\" gtm-data='footer_primeira_secao_071' href=\"/contato\"><div\n",
            "class=\"footer-card-info\"><h2 class=\"footer-card-titulo\">Fale Conosco</h2><p\n",
            "class=\"footer-card-texto\">Dúvida, crítica, sugestão ou elogio?</p><p\n",
            "class=\"footer-card-fakeLink\">Entre em contato!</p></div>\n",
            "</a><a\n",
            "class=\"footer-card footer-card-empresa\" gtm-data='footer_primeira_secao_072' href=\"/empresas\"><div\n",
            "class=\"footer-card-info\"><h2 class=\"footer-card-titulo\">Empresa? Governo?</h2><p\n",
            "class=\"footer-card-texto\">Planos corporativos para o seu time.</p><p\n",
            "class=\"footer-card-fakeLink\">Saiba mais</p></div>\n",
            "</a></div><div\n",
            "class=\"footer-info\"><div\n",
            "class=\"footer-logos\">\n",
            "<a\n",
            "class=\"footer-logos-home\" gtm-data='footer_primeira_secao_050' href=\"/\">\n",
            "<img\n",
            "src=\"/assets/img/alura-logo.1570550707.svg\" alt=\"Alura\" class=\"footer-logo\">\n",
            "</a>\n",
            "<a\n",
            "href=\"https://www.caelum.com.br/\" gtm-data='footer_primeira_secao_051' class=\"footer-link-caelum\"><h3 class=\"footer-powered-by\">Powered by</h3>\n",
            "<img\n",
            "src=\"/assets/img/footer/caelum-logo.1570550707.svg\" alt=\"Caelum\" class=\"footer-logo footer-caelumLogo\">\n",
            "</a></div><div\n",
            "class=\"footer-cnpj\"><p>\n",
            "<span\n",
            "class=\"footer-empresa-item\">AOVS Sistemas de Informática S.A</span>\n",
            "<span\n",
            "class=\"footer-empresa-item\">CNPJ 05.555.382/0001-33</span></p></div></div></div></footer><section\n",
            "class=\"footer_categorias-formacoes\"><div\n",
            "class=\"container\"><div\n",
            "class=\"footer_categorias_wrapper\"><h2 class=\"footer_categorias_title\">Cursos</h2><div\n",
            "class=\"footer_categorias_categorias footer-navegue-lista-link\"><div\n",
            "class=\"footer_categorias_categoria\">\n",
            "<a\n",
            "href=\"/cursos-online-mobile\">Cursos de Mobile</a><div\n",
            "class=\"footer_categorias_subcategorias\">\n",
            "<a\n",
            "href=\"/cursos-online-mobile/ios\">\n",
            "iOS e Swift</a>\n",
            "<a\n",
            "href=\"/cursos-online-mobile/android\">\n",
            "Android e Kotlin</a>\n",
            "<a\n",
            "href=\"/cursos-online-mobile/multiplataforma\">\n",
            "Ionic, React Native</a>\n",
            "<a\n",
            "href=\"/cursos-online-mobile/jogos\">\n",
            "Jogos</a></div></div><div\n",
            "class=\"footer_categorias_categoria\">\n",
            "<a\n",
            "href=\"/cursos-online-programacao\">Cursos de Programação</a><div\n",
            "class=\"footer_categorias_subcategorias\">\n",
            "<a\n",
            "href=\"/cursos-online-programacao/logica\">\n",
            "Lógica</a>\n",
            "<a\n",
            "href=\"/cursos-online-programacao/python\">\n",
            "Python</a>\n",
            "<a\n",
            "href=\"/cursos-online-programacao/php\">\n",
            "PHP</a>\n",
            "<a\n",
            "href=\"/cursos-online-programacao/java\">\n",
            "Java</a>\n",
            "<a\n",
            "href=\"/cursos-online-programacao/dotnet\">\n",
            ".NET</a>\n",
            "<a\n",
            "href=\"/cursos-online-programacao/node-js\">\n",
            "Node JS</a>\n",
            "<a\n",
            "href=\"/cursos-online-programacao/ruby\">\n",
            "Ruby & Rails</a>\n",
            "<a\n",
            "href=\"/cursos-online-programacao/linguagem-c\">\n",
            "C</a>\n",
            "<a\n",
            "href=\"/cursos-online-programacao/computacao\">\n",
            "Computação</a>\n",
            "<a\n",
            "href=\"/cursos-online-programacao/jogos\">\n",
            "Jogos</a></div></div><div\n",
            "class=\"footer_categorias_categoria\">\n",
            "<a\n",
            "href=\"/cursos-online-front-end\">Cursos de Front-end</a><div\n",
            "class=\"footer_categorias_subcategorias\">\n",
            "<a\n",
            "href=\"/cursos-online-front-end/front-end\">\n",
            "HTML, CSS</a>\n",
            "<a\n",
            "href=\"/cursos-online-front-end/javascript\">\n",
            "JavaScript</a>\n",
            "<a\n",
            "href=\"/cursos-online-front-end/frameworks-mvc-em-javascript\">\n",
            "Angular, React</a>\n",
            "<a\n",
            "href=\"/cursos-online-front-end/jquery\">\n",
            "jQuery</a></div></div><div\n",
            "class=\"footer_categorias_categoria\">\n",
            "<a\n",
            "href=\"/cursos-online-infraestrutura\">Cursos de Infraestrutura</a><div\n",
            "class=\"footer_categorias_subcategorias\">\n",
            "<a\n",
            "href=\"/cursos-online-infraestrutura/devops\">\n",
            "DevOps e Git</a>\n",
            "<a\n",
            "href=\"/cursos-online-infraestrutura/cloud-computing\">\n",
            "Cloud</a>\n",
            "<a\n",
            "href=\"/cursos-online-infraestrutura/linux-comandos-e-processos\">\n",
            "Linux</a>\n",
            "<a\n",
            "href=\"/cursos-online-infraestrutura/internet-das-coisas\">\n",
            "IoT</a>\n",
            "<a\n",
            "href=\"/cursos-online-infraestrutura/redes\">\n",
            "Redes</a></div></div><div\n",
            "class=\"footer_categorias_categoria\">\n",
            "<a\n",
            "href=\"/cursos-online-design-ux\">Cursos de Design & UX</a><div\n",
            "class=\"footer_categorias_subcategorias\">\n",
            "<a\n",
            "href=\"/cursos-online-design-ux/wwww\">\n",
            "Photoshop e Illustrator</a>\n",
            "<a\n",
            "href=\"/cursos-online-design-ux/ux\">\n",
            "Usabilidade e UX</a>\n",
            "<a\n",
            "href=\"/cursos-online-design-ux/video\">\n",
            "Vídeo e Motion</a>\n",
            "<a\n",
            "href=\"/cursos-online-design-ux/3d\">\n",
            "3D</a></div></div><div\n",
            "class=\"footer_categorias_categoria\">\n",
            "<a\n",
            "href=\"/cursos-online-marketing-digital\">Cursos de Marketing Digital</a><div\n",
            "class=\"footer_categorias_subcategorias\">\n",
            "<a\n",
            "href=\"/cursos-online-marketing-digital/ads\">\n",
            "Ads</a>\n",
            "<a\n",
            "href=\"/cursos-online-marketing-digital/marketing-digital\">\n",
            "Marketing</a>\n",
            "<a\n",
            "href=\"/cursos-online-marketing-digital/seo\">\n",
            "SEO</a>\n",
            "<a\n",
            "href=\"/cursos-online-marketing-digital/e-commerce\">\n",
            "E-commerce</a>\n",
            "<a\n",
            "href=\"/cursos-online-marketing-digital/social-media\">\n",
            "Social Media</a>\n",
            "<a\n",
            "href=\"/cursos-online-marketing-digital/youtube\">\n",
            "YouTube</a></div></div><div\n",
            "class=\"footer_categorias_categoria\">\n",
            "<a\n",
            "href=\"/cursos-online-data-science\">Cursos de Data Science</a><div\n",
            "class=\"footer_categorias_subcategorias\">\n",
            "<a\n",
            "href=\"/cursos-online-data-science/sql\">\n",
            "SQL e Banco de Dados</a>\n",
            "<a\n",
            "href=\"/cursos-online-data-science/nosql\">\n",
            "NoSQL</a>\n",
            "<a\n",
            "href=\"/cursos-online-data-science/data-science\">\n",
            "Data Science</a>\n",
            "<a\n",
            "href=\"/cursos-online-data-science/machine-learning\">\n",
            "Machine Learning</a>\n",
            "<a\n",
            "href=\"/cursos-online-data-science/business-intelligence\">\n",
            "BI</a>\n",
            "<a\n",
            "href=\"/cursos-online-data-science/estatistica\">\n",
            "Estatística</a>\n",
            "<a\n",
            "href=\"/cursos-online-data-science/excel\">\n",
            "Excel</a></div></div><div\n",
            "class=\"footer_categorias_categoria\">\n",
            "<a\n",
            "href=\"/cursos-online-inovacao-gestao\">Cursos de Inovação & Gestão</a><div\n",
            "class=\"footer_categorias_subcategorias\">\n",
            "<a\n",
            "href=\"/cursos-online-inovacao-gestao/agilidade\">\n",
            "Métodos Ágeis</a>\n",
            "<a\n",
            "href=\"/cursos-online-inovacao-gestao/habilidades-interpessoais\">\n",
            "Softskills</a>\n",
            "<a\n",
            "href=\"/cursos-online-inovacao-gestao/lideranca-gestao-estrategica\">\n",
            "Liderança e Gestão</a>\n",
            "<a\n",
            "href=\"/cursos-online-inovacao-gestao/startup-empreendedorismo\">\n",
            "Empreendedorismo</a></div></div></div></div></div></section><style>@media not all and (min-width: 1000px){\n",
            "\t\t.grupoCaelum{\n",
            "\t\t\tdisplay: none;\n",
            "\t\t}\n",
            "\t}\n",
            "\n",
            "\t.grupoCaelum{\n",
            "\t\tbackground: #fff;\n",
            "\t\theight: 240px;\n",
            "\t\tborder-top: 1px solid #EBEBEE;\n",
            "\t}\n",
            "\n",
            "\t.grupoCaelum .container{\n",
            "\t\tdisplay: flex;\n",
            "\t\tjustify-content: space-between;\n",
            "\t\talign-items: flex-start;\n",
            "\t\tpadding-top: 0;\n",
            "\t\tpadding-bottom: 0;\n",
            "\t\theight: 100%;\n",
            "\t}\n",
            "\n",
            "\t\t.grupoCaelum-list{\n",
            "\t\t\tdisplay: flex;\n",
            "\t\t\tlist-style: none;\n",
            "\t\t\twidth: 60%;\n",
            "\t\t\tjustify-content: space-between;\n",
            "\t\t\talign-items: flex-start;\n",
            "\t\t\tmargin-top: 20px;\n",
            "\t\t}\n",
            "\n",
            "\t\t.grupoCaelum-title{\n",
            "\t\t\twidth: 20%;\n",
            "\t\t}\n",
            "\n",
            "\t\t.grupoCaelum-column {\n",
            "\t\t\tdisplay: inline-block;\n",
            "\t\t\tpadding-left: 19px;\n",
            "\t\t\twidth: 240px;\n",
            "\t\t\theight: 210px;\n",
            "\t\t\tmin-width: 160px;\n",
            "\t\t}\n",
            "\t\t\t.grupoCaelum-column-title {\n",
            "\t\t\t\tfont-size: 10px;\n",
            "\t\t\t\tcolor: #d7e0e5;\n",
            "\t\t\t\ttext-transform: uppercase;\n",
            "\t\t\t\tfont-weight: 600;\n",
            "\t\t\t\tmargin-bottom: 19px;\n",
            "\t\t\t}\n",
            "\n",
            "\t\t\t.grupoCaelum-column-list {\n",
            "\t\t\t\tlist-style: none;\n",
            "\t\t\t}\n",
            "\n",
            "\t\t\t.column-item-title {\n",
            "\t\t\t\tfont-size: 11px;\n",
            "\t\t\t\ttext-align: center;\n",
            "\t\t\t\tvertical-align: middle;\n",
            "\t\t\t\tdisplay: inline-block;\n",
            "\t\t\t\tmargin-left: 6.5px;\n",
            "\t\t\t}\n",
            "\n",
            "\t\t.grupoCaelum-column:not(:first-child) {\n",
            "\t\t\tborder-left: solid 1px #e3e9ed;\n",
            "\t\t}\n",
            "\n",
            "\t\t.grupoCaelum-title {\n",
            "\t\t\tdisplay: inline-block;\n",
            "\t\t\ttext-decoration: none;\n",
            "\t\t\tcolor: #657176;\n",
            "\t\t\tletter-spacing: normal;\n",
            "\t\t\tfont-size: 18px;\n",
            "\t\t\tmargin-top: 54px;\n",
            "\t\t}\n",
            "\n",
            "\t.column-item-logo {\n",
            "\t\twidth: 30px;\n",
            "\t\theight: 30px;\n",
            "\t\tvertical-align: middle;\n",
            "\t\tdisplay: inline-block;\n",
            "\t}\n",
            "\n",
            "\t.column-item {\n",
            "\t\tmargin-bottom: 17px;\n",
            "\t}\n",
            "\n",
            "\t.column-item a{\n",
            "\t\ttext-decoration: none;\n",
            "\t\tcolor: #657176;\n",
            "\t}</style><footer\n",
            "class=\"caelum-footer\"><div\n",
            "class=\"grupoCaelum\"><div\n",
            "class=\"container\"><p\n",
            "class=\"grupoCaelum-title\">Grupo Caelum Alura</p><ul\n",
            "class=\"grupoCaelum-list\"><li\n",
            "class=\"grupoCaelum-column\"><p\n",
            "class=\"grupoCaelum-column-title\">Educação</p><ul\n",
            "class=\"grupoCaelum-column-list\"><li\n",
            "class=\"column-item\">\n",
            "<a\n",
            "target=\"_blank\" href=\"https://www.caelum.com.br\">\n",
            "<svg\n",
            "class=\"column-item-logo\"><use\n",
            "xlink:href=\"/svg,1570550707/caelumFooter#icon-caelumFooter-caelum\"><span\n",
            "class=\"column-item-title\">Caelum</span></svg>\n",
            "</a></li><li\n",
            "class=\"column-item\">\n",
            "<a\n",
            "target=\"_blank\" href=\"https://www.casadocodigo.com.br\">\n",
            "<svg\n",
            "class=\"column-item-logo\"><use\n",
            "xlink:href=\"/svg,1570550707/caelumFooter#icon-caelumFooter-cdc\"><span\n",
            "class=\"column-item-title\">Casa do Código</span></svg>\n",
            "</a></li></ul></li><li\n",
            "class=\"grupoCaelum-column\"><p\n",
            "class=\"grupoCaelum-column-title\">Educação Online</p><ul\n",
            "class=\"grupoCaelum-column-list\"><li\n",
            "class=\"column-item\">\n",
            "<a\n",
            "target=\"_blank\" href=\"https://www.alura.com.br\">\n",
            "<svg\n",
            "class=\"column-item-logo\"><use\n",
            "xlink:href=\"/svg,1570550707/caelumFooter#icon-caelumFooter-alura\"><span\n",
            "class=\"column-item-title\">Alura</span></svg>\n",
            "</a></li><li\n",
            "class=\"column-item\">\n",
            "<a\n",
            "target=\"_blank\" href=\"https://www.alurastart.com.br\">\n",
            "<svg\n",
            "class=\"column-item-logo\"><use\n",
            "xlink:href=\"/svg,1570550707/caelumFooter#icon-caelumFooter-alurastart\"><span\n",
            "class=\"column-item-title\">Alura Start</span></svg>\n",
            "</a></li><li\n",
            "class=\"column-item\">\n",
            "<a\n",
            "target=\"_blank\" href=\"https://www.musicdot.com.br\">\n",
            "<svg\n",
            "class=\"column-item-logo\"><use\n",
            "xlink:href=\"/svg,1570550707/caelumFooter#icon-caelumFooter-musicdot\"><span\n",
            "class=\"column-item-title\">MusicDot</span></svg>\n",
            "</a></li><li\n",
            "class=\"column-item\">\n",
            "<a\n",
            "target=\"_blank\" href=\"https://www.aluralingua.com.br\">\n",
            "<svg\n",
            "class=\"column-item-logo\"><use\n",
            "xlink:href=\"/svg,1570550707/caelumFooter#icon-caelumFooter-aluralingua\"><span\n",
            "class=\"column-item-title\">Alura Língua</span></svg>\n",
            "</a></li></ul></li><li\n",
            "class=\"grupoCaelum-column\"><p\n",
            "class=\"grupoCaelum-column-title\">Comunidade</p><ul\n",
            "class=\"grupoCaelum-column-list\"><li\n",
            "class=\"column-item\">\n",
            "<a\n",
            "target=\"_blank\" href=\"https://hipsters.tech\">\n",
            "<svg\n",
            "class=\"column-item-logo\"><use\n",
            "xlink:href=\"/svg,1570550707/caelumFooter#icon-caelumFooter-hipsterstech\"><span\n",
            "class=\"column-item-title\">Hipsters ponto Tech</span></svg>\n",
            "</a></li><li\n",
            "class=\"column-item\">\n",
            "<a\n",
            "target=\"_blank\" href=\"https://hipsters.jobs\">\n",
            "<svg\n",
            "class=\"column-item-logo\"><use\n",
            "xlink:href=\"/svg,1570550707/caelumFooter#icon-caelumFooter-hipstersjobs\"><span\n",
            "class=\"column-item-title\">Hipsters ponto Jobs</span></svg>\n",
            "</a></li><li\n",
            "class=\"column-item\">\n",
            "<a\n",
            "target=\"_blank\" href=\"https://www.guj.com.br\">\n",
            "<svg\n",
            "class=\"column-item-logo\"><use\n",
            "xlink:href=\"/svg,1570550707/caelumFooter#icon-caelumFooter-guj\"><span\n",
            "class=\"column-item-title\">GUJ</span></svg>\n",
            "</a></li></ul></li></ul></div></div></footer> <script>(function(){\n",
            "    var match = location.pathname.match(/\\/(bf-|blackfriday\\/)([^\\/]+)/);\n",
            "    if (match != null) {\n",
            "        var links = document.querySelectorAll('a[href]');\n",
            "        for (var i = 0; i < links.length; i++) {\n",
            "            var href = links[i].getAttribute('href');\n",
            "            if (href[0] === '/') {\n",
            "                links[i].setAttribute('href', '/bf-' + match[2] + href);\n",
            "            }\n",
            "        }\n",
            "    }\n",
            "})();</script> <script src=\"/assets/js/lib/svg4everybody.min.1570550707.js\" async></script> <script src=\"/assets/js/header/menu.1570550707.js\" async></script> <script src=\"/assets/js/header/busca.1570550707.js\" async></script> <script src=\"/assets/js/header/cursos.1570550707.js\" async></script> <script src=\"/assets/js/detect.1570550707.js\" async></script> <script src=\"/assets/js/video.1571773177.js\" async></script> <script src=\"/assets/js/Countdown.1571149146.js\" async></script> <script>var userId = (document.cookie.match('alura.userId=([^;]+)')||[null,null])[1];\n",
            "  window.ga=window.ga||function(){(ga.q=ga.q||[]).push(arguments)};ga.l=+new Date;\n",
            "\n",
            "  \tga('create', 'UA-42101548-1', 'alura.com.br', 'tracker0', {'siteSpeedSampleRate': 50});\n",
            "\n",
            "\tif (userId) ga('tracker0.set', 'userId', userId);\n",
            "\n",
            "\tga('tracker0.require', 'displayfeatures');\n",
            "\tga('tracker0.send', 'pageview');\n",
            "  \tga('create', 'UA-42101548-9', 'alura.com.br', 'tracker1', {'siteSpeedSampleRate': 50});\n",
            "\n",
            "\tif (userId) ga('tracker1.set', 'userId', userId);\n",
            "\n",
            "\tga('tracker1.require', 'displayfeatures');\n",
            "\tga('tracker1.send', 'pageview');</script> <script async src='//www.google-analytics.com/analytics.js'></script> <script src=\"/assets/js/footer/footer.1570550707.js\" async></script> <script src=\"https://static.criteo.net/js/ld/ld.js\" async></script> <script>function criteoPush(event, data){\n",
            "\t\tvar isAluno = document.cookie.match('alura.userId=([^;]+)') != null;\n",
            "\t\tif(isAluno) return;\n",
            "\n",
            "\t\twindow.criteo_q = window.criteo_q || [];\n",
            "\t\t\twindow.criteo_q.push(\n",
            "\t\t\t\t{ event: \"setAccount\", account: 28037 },\n",
            "\t\t\t\t{ event: \"setEmail\", email: \"\" },\n",
            "\t\t\t\t{ event: \"setSiteType\", type: (/iPad/.test(navigator.userAgent) ? \"t\" : (/Mobile|iP(hone|od)|Android|BlackBerry|IEMobile/.test(navigator.userAgent) ? \"m\" : \"d\")) },\n",
            "\t\t\t\t{ event: event, item: data}\n",
            "\t\t\t);\t\n",
            "\t};\n",
            "\n",
            "\t\t\tcriteoPush(\"viewHome\", \"\");\n",
            "\t\t\n",
            "\t\tvar criteoIdEl = document.querySelector('[data-criteo-id]');\n",
            "\tif (criteoIdEl) {\n",
            "        var products = JSON.parse(criteoIdEl.dataset.criteoId);\n",
            "        var planos = document.querySelectorAll('[data-payment-plan]');\n",
            "\n",
            "        planos.forEach(function (plano) {\n",
            "            plano.addEventListener('click', function (event) {\n",
            "\t\t\t\tvar price = plano.dataset.paymentPlanPrice;\n",
            "                var totalProducts = products.length;\n",
            "\t\t\t\tvar productIds = '';\n",
            "\n",
            "                for(var i = 0; i < totalProducts; i++){\n",
            "                    products[i]['price'] = price;\n",
            "                    products[i]['quantity'] = 1;\n",
            "\t\t\t\t\tproductIds += ',' + products[i]['id'];\n",
            "                }\n",
            "\n",
            "\t\t\t\tproductIds = productIds.substr(1);\n",
            "\n",
            "\t\t\t\t// monta cookie pro Cart indicando quais cursos foram clicados\n",
            "        \t\tdocument.cookie = \"criteo.productIds=\" + productIds + \"; path=/; domain=.alura.com.br\";\n",
            "\n",
            "\t\t\t\t// manda pro criteo\n",
            "                criteoPush(\"viewBasket\", products);\n",
            "            });\n",
            "        });\n",
            "\n",
            "\n",
            "\t}</script> <script type=\"text/javascript\">_linkedin_partner_id = \"465017\";\n",
            "\t\t\twindow._linkedin_data_partner_ids = window._linkedin_data_partner_ids || [];\n",
            "\t\t\twindow._linkedin_data_partner_ids.push(_linkedin_partner_id);</script> <script type=\"text/javascript\">(function(){var s = document.getElementsByTagName(\"script\")[0];\n",
            "\t\t\tvar b = document.createElement(\"script\");\n",
            "\t\t\tb.type = \"text/javascript\";b.async = true;\n",
            "\t\t\tb.src = \"https://snap.licdn.com/li.lms-analytics/insight.min.js\";\n",
            "\t\t\ts.parentNode.insertBefore(b, s);})();</script> <noscript>\n",
            "<img\n",
            "height=\"1\" width=\"1\" style=\"display:none;\" alt=\"\"\n",
            "src=\"https://dc.ads.linkedin.com/collect/?pid=465017&fmt=gif\" />\n",
            "</noscript></body></html>\n"
          ],
          "name": "stdout"
        }
      ]
    },
    {
      "cell_type": "code",
      "metadata": {
        "id": "ckDyEcaJ4LKZ",
        "colab_type": "code",
        "outputId": "6427b79a-e7bb-40a6-a6ac-bf7c138cc891",
        "colab": {
          "base_uri": "https://localhost:8080/",
          "height": 0
        }
      },
      "source": [
        "html.split()"
      ],
      "execution_count": 11,
      "outputs": [
        {
          "output_type": "execute_result",
          "data": {
            "text/plain": [
              "['<!DOCTYPE',\n",
              " 'html><html',\n",
              " 'lang=\"pt-BR\"><head><meta',\n",
              " 'charset=\"UTF-8\"><meta',\n",
              " 'name=\"viewport\"',\n",
              " 'content=\"width=device-width,initial-scale=1,minimum-scale=1.0\"><title>Alura',\n",
              " '|',\n",
              " 'Cursos',\n",
              " 'online',\n",
              " 'de',\n",
              " 'tecnologia</title><meta',\n",
              " 'name=\"description\"',\n",
              " 'content=\"Aprenda',\n",
              " 'Programação,',\n",
              " 'Mobile,',\n",
              " 'Front-end,',\n",
              " 'Design,',\n",
              " 'UX,',\n",
              " 'Infraestrutura,',\n",
              " 'Marketing',\n",
              " 'Digital,',\n",
              " 'Data',\n",
              " 'Science,',\n",
              " 'Inovação',\n",
              " 'e',\n",
              " 'Gestão',\n",
              " 'com',\n",
              " 'didática',\n",
              " 'inovadora',\n",
              " 'focada',\n",
              " 'no',\n",
              " 'mercado',\n",
              " 'real',\n",
              " 'de',\n",
              " 'trabalho\"><link',\n",
              " 'rel=\"canonical\"',\n",
              " 'href=\"https://www.alura.com.br\"><link',\n",
              " 'href=\"https://fonts.googleapis.com/css?display=swap&family=Open+Sans:300,400,400i,600,700,800\"',\n",
              " 'rel=\"stylesheet\"',\n",
              " 'crossorigin><link',\n",
              " 'rel=\"preconnect\"',\n",
              " 'href=\"https://fonts.gstatic.com/\"',\n",
              " 'crossorigin><link',\n",
              " 'rel=\"stylesheet\"',\n",
              " 'href=\"/bundle,base/_reset,base/base,base/buttons,base/colors,base/titulos.1572363839.css\"><link',\n",
              " 'rel=\"stylesheet\"',\n",
              " 'href=\"/bundle,home/homeNova/career-colors,home/homeNova/careers,home/homeNova/companies,home/homeNova/features,home/homeNova/home,home/homeNova/mobile,home/homeNova/testimonies.1572363839.css\"><link',\n",
              " 'rel=\"stylesheet\"',\n",
              " 'href=\"/assets/css/block/elasticMedia.1570550707.css\"><meta',\n",
              " 'property=\"og:locale\"',\n",
              " 'content=\"pt_BR\"><meta',\n",
              " 'property=\"og:description\"',\n",
              " 'content=\"Aprenda',\n",
              " 'Programação,',\n",
              " 'Mobile,',\n",
              " 'Front-end,',\n",
              " 'Design,',\n",
              " 'UX,',\n",
              " 'Infraestrutura,',\n",
              " 'Marketing',\n",
              " 'Digital,',\n",
              " 'Data',\n",
              " 'Science,',\n",
              " 'Inovação',\n",
              " 'e',\n",
              " 'Gestão',\n",
              " 'com',\n",
              " 'didática',\n",
              " 'inovadora',\n",
              " 'focada',\n",
              " 'no',\n",
              " 'mercado',\n",
              " 'real',\n",
              " 'de',\n",
              " 'trabalho\"><meta',\n",
              " 'property=\"og:title\"',\n",
              " 'content=\"Alura',\n",
              " '|',\n",
              " 'Cursos',\n",
              " 'online',\n",
              " 'de',\n",
              " 'tecnologia\"><meta',\n",
              " 'property=\"og:site_name\"',\n",
              " 'content=\"Alura\"><meta',\n",
              " 'property=\"og:url\"',\n",
              " 'content=\"https://www.alura.com.br/\"><meta',\n",
              " 'property=\"og:image\"',\n",
              " 'content=\"https://www.alura.com.br/assets/img/alura-share.1571848411.png\"><meta',\n",
              " 'property=\"og:image:alt\"',\n",
              " 'content=\"Alura',\n",
              " 'logo\"><meta',\n",
              " 'property=\"fb:app_id\"',\n",
              " 'content=\"140078819399376\"><meta',\n",
              " 'property=\"og:type\"',\n",
              " 'content=\"website\"><meta',\n",
              " 'name=\"twitter:card\"',\n",
              " 'content=\"summary_large_image\"><meta',\n",
              " 'name=\"theme-color\"',\n",
              " 'content=\"#2A7AE4\"></head><body',\n",
              " 'class=\"\">',\n",
              " \"<script>(function(w,d,s,l,i){w[l]=w[l]||[];w[l].push({'gtm.start':\",\n",
              " 'new',\n",
              " \"Date().getTime(),event:'gtm.js'});var\",\n",
              " 'f=d.getElementsByTagName(s)[0],',\n",
              " \"j=d.createElement(s),dl=l!='dataLayer'?'&l='+l:'';j.async=true;j.src=\",\n",
              " \"'https://www.googletagmanager.com/gtm.js?id='+i+dl;f.parentNode.insertBefore(j,f);\",\n",
              " \"})(window,document,'script','dataLayer','GTM-TN542JN');</script>\",\n",
              " '<noscript>',\n",
              " '<iframe',\n",
              " 'src=\"https://www.googletagmanager.com/ns.html?id=GTM-TN542JN\"',\n",
              " 'height=\"0\"',\n",
              " 'width=\"0\"',\n",
              " 'style=\"display:none;visibility:hidden\"></iframe>',\n",
              " '</noscript>',\n",
              " '<script>setTimeout(function()',\n",
              " '{',\n",
              " 'new',\n",
              " 'Image().src',\n",
              " '=',\n",
              " '\"https://www.facebook.com/tr?id=1067810189950610&ev=PageView&noscript=1\";',\n",
              " '},',\n",
              " '300);</script>',\n",
              " '<script',\n",
              " 'type=\"application/ld+json\">{',\n",
              " '\"@context\":',\n",
              " '\"http://schema.org\",',\n",
              " '\"@type\":',\n",
              " '\"BreadcrumbList\",',\n",
              " '\"itemListElement\":',\n",
              " '[{',\n",
              " '\"@type\":',\n",
              " '\"ListItem\",',\n",
              " '\"position\":',\n",
              " '1,',\n",
              " '\"item\":',\n",
              " '{',\n",
              " '\"@id\":',\n",
              " '\"https://www.alura.com.br\",',\n",
              " '\"name\":',\n",
              " '\"Alura\"',\n",
              " '}',\n",
              " '}',\n",
              " ']',\n",
              " '}</script>',\n",
              " '<div',\n",
              " 'class=\"home\"><div',\n",
              " 'class=\"home__header\"><link',\n",
              " 'rel=\"stylesheet\"',\n",
              " 'href=\"/assets/css/block/header.1570550707.css\"><link',\n",
              " 'rel=\"stylesheet\"',\n",
              " 'href=\"/assets/css/block/headerHome.1570550707.css\"><style>@media',\n",
              " '(min-width:',\n",
              " '1100px)',\n",
              " '{',\n",
              " '.header-navegacao-cursos-lista',\n",
              " '{',\n",
              " 'display:',\n",
              " 'none;',\n",
              " '}',\n",
              " '.header__nav',\n",
              " '{',\n",
              " 'border:',\n",
              " 'none;',\n",
              " 'margin-top:10px;',\n",
              " '}',\n",
              " '.header',\n",
              " '{',\n",
              " 'padding-bottom:',\n",
              " '0;',\n",
              " '}',\n",
              " '}</style><header',\n",
              " 'class=\"header--home\"><div',\n",
              " 'class=\"container\"><nav',\n",
              " 'class=\"header__nav--home\">',\n",
              " '<a',\n",
              " 'href=\"/\"',\n",
              " 'class=\"header__nav__link--home',\n",
              " 'header__nav__link--logo\">',\n",
              " '<img',\n",
              " 'class=\"header__nav__link__logo\"',\n",
              " 'alt=\"Alura\"',\n",
              " 'src=\"/assets/img/home/alura-logo.1570550707.svg\">',\n",
              " '</a><div',\n",
              " 'class=\"header__nav__wrapper--home',\n",
              " 'header__nav__wrapper--ctas--home\"><div',\n",
              " 'href=\"/busca\"',\n",
              " 'class=\"header-utilitario-busca',\n",
              " 'header-utilitario-busca--home\"',\n",
              " 'aria-label=\"Busca\">',\n",
              " '<svg',\n",
              " 'class=\"header-utilitario-busca-icone--home\"',\n",
              " 'xmlns:xlink=\"http://www.w3.org/1999/xlink\">',\n",
              " '<use',\n",
              " 'xlink:href=\"/svg,1570550707/header#icon-header-busca-home\"/>',\n",
              " '</svg></div>',\n",
              " '<a',\n",
              " 'href=\"https://cursos.alura.com.br/loginForm?urlAfterLogin=https://cursos.alura.com.br/dashboard\"',\n",
              " 'class=\"header__nav__link--home',\n",
              " 'header__nav__link--entrar--home\">Entrar</a>',\n",
              " '<a',\n",
              " 'href=\"/planos-cursos-online\"',\n",
              " 'class=\"header__nav__link--home',\n",
              " 'header__nav__link--cta--home\">Matricule-se</a></div><div',\n",
              " 'class=\"header__nav__wrapper--home',\n",
              " 'header__nav__wrapper--menu',\n",
              " 'header__nav__wrapper--menu--home\"><div',\n",
              " 'class=\"header-barraBusca',\n",
              " 'header-barraBusca--home\"><div',\n",
              " 'class=\"container\"><form',\n",
              " 'action=\"/busca\"',\n",
              " 'class=\"header-barraBusca-form\">',\n",
              " '<label',\n",
              " 'for=\"header-barraBusca-form-campoBusca\">Qual',\n",
              " 'curso',\n",
              " 'procura?</label>',\n",
              " '<input',\n",
              " 'type=\"search\"',\n",
              " 'id=\"header-barraBusca-form-campoBusca\"',\n",
              " 'name=\"query\"',\n",
              " 'class=\"header-barraBusca-form-serch-input',\n",
              " 'header-barra-busca--home\"',\n",
              " 'placeholder=\"O',\n",
              " 'que',\n",
              " 'você',\n",
              " 'quer',\n",
              " 'aprender?\">',\n",
              " '<button',\n",
              " 'class=\"header-barraBusca-form-submit\"',\n",
              " 'type=\"submit\">Buscar</button></form></div></div><div',\n",
              " 'href=\"/cursos-online-tecnologia\"',\n",
              " 'class=\"nav__courses__link--home',\n",
              " 'header-navegacao-cursos',\n",
              " 'header-navegacao-cursos--home',\n",
              " 'header__menu-options--home',\n",
              " 'header__menu-allcourses--home\">',\n",
              " '<svg',\n",
              " 'class=\"header-navegacao-cursos-icone\"',\n",
              " 'xmlns:xlink=\"http://www.w3.org/1999/xlink\">',\n",
              " '<use',\n",
              " 'xlink:href=\"/svg,1570550707/header#icon-header-icon-arrow-home\"/>',\n",
              " '</svg>',\n",
              " '<span>Todos',\n",
              " 'os</span>',\n",
              " '<span>Cursos</span></div>',\n",
              " '<a',\n",
              " 'href=\"/formacoes\"',\n",
              " 'class=\"nav__courses__link--home',\n",
              " 'header__menu-options--home\">',\n",
              " '<span>Formações</span></a>',\n",
              " '<a',\n",
              " 'href=\"/empresas\"',\n",
              " 'class=\"nav__courses__link--home',\n",
              " 'header__menu-options--home\">',\n",
              " '<span>Para</span>',\n",
              " '<span>Empresas</span>',\n",
              " '</a>',\n",
              " '<a',\n",
              " 'href=\"/como-funciona\"',\n",
              " 'class=\"nav__courses__link--home',\n",
              " 'header__menu-options--home\">',\n",
              " '<span>Como</span>',\n",
              " '<span>Funciona</span>',\n",
              " '</a></div><ul',\n",
              " 'class=\"header-navegacao-cursos-lista',\n",
              " 'container',\n",
              " 'header__menu-allcourses--home\"><li',\n",
              " 'class=\"header-cursos-lista-categoria',\n",
              " '\">',\n",
              " '<a',\n",
              " 'href=\"/cursos-online-mobile\"',\n",
              " 'class=\"unlinkify\">',\n",
              " '<svg',\n",
              " 'class=\"header-cursos-lista-categoria--icon\"',\n",
              " 'xmlns:xlink=\"http://www.w3.org/1999/xlink\">',\n",
              " '<use',\n",
              " 'xlink:href=\"/svg,1570550707/categorias#icon-categorias-mobile\"/>',\n",
              " '</svg><div',\n",
              " 'class=\"header-lista-categoria-nome--home\">',\n",
              " '<span>Mobile</span></div>',\n",
              " '</a></li><li',\n",
              " 'class=\"header-cursos-lista-categoria',\n",
              " '\">',\n",
              " '<a',\n",
              " 'href=\"/cursos-online-programacao\"',\n",
              " 'class=\"unlinkify\">',\n",
              " '<svg',\n",
              " 'class=\"header-cursos-lista-categoria--icon\"',\n",
              " 'xmlns:xlink=\"http://www.w3.org/1999/xlink\">',\n",
              " '<use',\n",
              " 'xlink:href=\"/svg,1570550707/categorias#icon-categorias-programacao\"/>',\n",
              " '</svg><div',\n",
              " 'class=\"header-lista-categoria-nome--home\">',\n",
              " '<span>Programação</span></div>',\n",
              " '</a></li><li',\n",
              " 'class=\"header-cursos-lista-categoria',\n",
              " '\">',\n",
              " '<a',\n",
              " 'href=\"/cursos-online-front-end\"',\n",
              " 'class=\"unlinkify\">',\n",
              " '<svg',\n",
              " 'class=\"header-cursos-lista-categoria--icon\"',\n",
              " 'xmlns:xlink=\"http://www.w3.org/1999/xlink\">',\n",
              " '<use',\n",
              " 'xlink:href=\"/svg,1570550707/categorias#icon-categorias-front-end\"/>',\n",
              " '</svg><div',\n",
              " 'class=\"header-lista-categoria-nome--home\">',\n",
              " '<span>Front-end</span></div>',\n",
              " '</a></li><li',\n",
              " 'class=\"header-cursos-lista-categoria',\n",
              " '\">',\n",
              " '<a',\n",
              " 'href=\"/cursos-online-infraestrutura\"',\n",
              " 'class=\"unlinkify\">',\n",
              " '<svg',\n",
              " 'class=\"header-cursos-lista-categoria--icon\"',\n",
              " 'xmlns:xlink=\"http://www.w3.org/1999/xlink\">',\n",
              " '<use',\n",
              " 'xlink:href=\"/svg,1570550707/categorias#icon-categorias-infraestrutura\"/>',\n",
              " '</svg><div',\n",
              " 'class=\"header-lista-categoria-nome--home\">',\n",
              " '<span>Infraestrutura</span></div>',\n",
              " '</a></li><li',\n",
              " 'class=\"header-cursos-lista-categoria',\n",
              " '\">',\n",
              " '<a',\n",
              " 'href=\"/cursos-online-design-ux\"',\n",
              " 'class=\"unlinkify\">',\n",
              " '<svg',\n",
              " 'class=\"header-cursos-lista-categoria--icon\"',\n",
              " 'xmlns:xlink=\"http://www.w3.org/1999/xlink\">',\n",
              " '<use',\n",
              " 'xlink:href=\"/svg,1570550707/categorias#icon-categorias-design-ux\"/>',\n",
              " '</svg><div',\n",
              " 'class=\"header-lista-categoria-nome--home\">',\n",
              " '<span>Design',\n",
              " '&',\n",
              " 'UX</span></div>',\n",
              " '</a></li><li',\n",
              " 'class=\"header-cursos-lista-categoria',\n",
              " '\">',\n",
              " '<a',\n",
              " 'href=\"/cursos-online-marketing-digital\"',\n",
              " 'class=\"unlinkify\">',\n",
              " '<svg',\n",
              " 'class=\"header-cursos-lista-categoria--icon\"',\n",
              " 'xmlns:xlink=\"http://www.w3.org/1999/xlink\">',\n",
              " '<use',\n",
              " 'xlink:href=\"/svg,1570550707/categorias#icon-categorias-marketing-digital\"/>',\n",
              " '</svg><div',\n",
              " 'class=\"header-lista-categoria-nome--home\">',\n",
              " '<span>Marketing',\n",
              " 'Digital</span></div>',\n",
              " '</a></li><li',\n",
              " 'class=\"header-cursos-lista-categoria',\n",
              " '\">',\n",
              " '<a',\n",
              " 'href=\"/cursos-online-data-science\"',\n",
              " 'class=\"unlinkify\">',\n",
              " '<svg',\n",
              " 'class=\"header-cursos-lista-categoria--icon\"',\n",
              " 'xmlns:xlink=\"http://www.w3.org/1999/xlink\">',\n",
              " '<use',\n",
              " 'xlink:href=\"/svg,1570550707/categorias#icon-categorias-data-science\"/>',\n",
              " '</svg><div',\n",
              " 'class=\"header-lista-categoria-nome--home\">',\n",
              " '<span>Data',\n",
              " 'Science</span></div>',\n",
              " '</a></li><li',\n",
              " 'class=\"header-cursos-lista-categoria',\n",
              " '\">',\n",
              " '<a',\n",
              " 'href=\"/cursos-online-inovacao-gestao\"',\n",
              " 'class=\"unlinkify\">',\n",
              " '<svg',\n",
              " 'class=\"header-cursos-lista-categoria--icon\"',\n",
              " 'xmlns:xlink=\"http://www.w3.org/1999/xlink\">',\n",
              " '<use',\n",
              " 'xlink:href=\"/svg,1570550707/categorias#icon-categorias-inovacao-gestao\"/>',\n",
              " '</svg><div',\n",
              " 'class=\"header-lista-categoria-nome--home\">',\n",
              " '<span>Inovação',\n",
              " '&',\n",
              " 'Gestão</span></div>',\n",
              " '</a></li></ul></nav></div></header><div',\n",
              " 'class=\"container\"><div',\n",
              " 'class=\"home--background\"><div',\n",
              " 'class=\"home__titles\"><h1',\n",
              " 'class=\"home__titles__main-title\">Cursos',\n",
              " 'de',\n",
              " 'Tecnologia',\n",
              " 'e',\n",
              " 'Negócios',\n",
              " 'Digitais</h1><p',\n",
              " 'class=\"home__titles__sub-title\">Você',\n",
              " 'vai',\n",
              " 'estudar,',\n",
              " 'praticar,',\n",
              " 'discutir',\n",
              " 'e',\n",
              " 'aprender',\n",
              " 'em',\n",
              " 'uma',\n",
              " 'comunidade',\n",
              " 'de',\n",
              " 'inquietos',\n",
              " 'e',\n",
              " 'inovadores</p></div></div><link',\n",
              " 'rel=\"stylesheet\"',\n",
              " 'href=\"/assets/css/block/categories.1570550707.css\"><link',\n",
              " 'rel=\"stylesheet\"',\n",
              " 'href=\"/assets/css/block/navCategoriasHome.1572363839.css\"><link',\n",
              " 'rel=\"stylesheet\"',\n",
              " 'href=\"/assets/css/block/navCategoriasHome.1572363839.css\"><nav',\n",
              " 'class=\"categories--home\"><div',\n",
              " 'class=\"categories__elements--home\"><div',\n",
              " 'class=\"categories__wrapper__links--home\">',\n",
              " '<a',\n",
              " 'class=\"categories__link--home\"',\n",
              " 'href=\"/cursos-online-mobile\"><div',\n",
              " 'class=\"categories__link-wrapper--home\"><div',\n",
              " 'class=\"categories__svg-wrapper--home\"',\n",
              " 'style=\"background:#ffba05;\">',\n",
              " '<svg',\n",
              " 'class=\"pagina-categoria__svg--home',\n",
              " 'categories__svg--home\"',\n",
              " 'xmlns:xlink=\"http://www.w3.org/1999/xlink\">',\n",
              " '<use',\n",
              " 'xlink:href=\"/svg,1570550707/categorias#icon-categorias-mobile\"/>',\n",
              " '</svg></div><div',\n",
              " 'style=\"color:#ffba05;\">',\n",
              " '<span',\n",
              " 'class=\"categories__link__text\">Cursos',\n",
              " 'de</span><h4',\n",
              " 'class=\"categories__link__category-name\">Mobile</h4></div></div>',\n",
              " '</a><nav',\n",
              " 'class=\"categories__calls--home\">',\n",
              " '<a',\n",
              " 'href=\"/cursos-online-mobile/ios\"',\n",
              " 'class=\"categories__calls__description--home\">iOS',\n",
              " 'e',\n",
              " 'Swift</a><span',\n",
              " 'class=\"categories__calls__description-separator\">,',\n",
              " '</span>',\n",
              " '<a',\n",
              " 'href=\"/cursos-online-mobile/android\"',\n",
              " 'class=\"categories__calls__description--home\">Android',\n",
              " 'e',\n",
              " 'Kotlin</a><span',\n",
              " 'class=\"categories__calls__description-separator\">,',\n",
              " '</span>',\n",
              " '<a',\n",
              " 'href=\"/cursos-online-mobile/multiplataforma\"',\n",
              " 'class=\"categories__calls__description--home\">Ionic,',\n",
              " 'React',\n",
              " 'Native</a><span',\n",
              " 'class=\"categories__calls__description-separator\">,',\n",
              " '</span>',\n",
              " '<a',\n",
              " 'href=\"/cursos-online-mobile/jogos\"',\n",
              " 'class=\"categories__calls__description--home\">Jogos</a><span',\n",
              " 'class=\"categories__calls__description-separator\">,',\n",
              " '</span>',\n",
              " '<a',\n",
              " 'href=\"/cursos-online-mobile\"',\n",
              " 'class=\"categories__calls__link-see-more--home\">e',\n",
              " 'mais...</a></nav></div><div',\n",
              " 'class=\"categories__wrapper__links--home\">',\n",
              " '<a',\n",
              " 'class=\"categories__link--home\"',\n",
              " 'href=\"/cursos-online-programacao\"><div',\n",
              " 'class=\"categories__link-wrapper--home\"><div',\n",
              " 'class=\"categories__svg-wrapper--home\"',\n",
              " 'style=\"background:#00c86f;\">',\n",
              " '<svg',\n",
              " 'class=\"pagina-categoria__svg--home',\n",
              " 'categories__svg--home\"',\n",
              " 'xmlns:xlink=\"http://www.w3.org/1999/xlink\">',\n",
              " '<use',\n",
              " 'xlink:href=\"/svg,1570550707/categorias#icon-categorias-programacao\"/>',\n",
              " '</svg></div><div',\n",
              " 'style=\"color:#00c86f;\">',\n",
              " '<span',\n",
              " 'class=\"categories__link__text\">Cursos',\n",
              " 'de</span><h4',\n",
              " 'class=\"categories__link__category-name\">Programação</h4></div></div>',\n",
              " '</a><nav',\n",
              " 'class=\"categories__calls--home\">',\n",
              " '<a',\n",
              " 'href=\"/cursos-online-programacao/logica\"',\n",
              " 'class=\"categories__calls__description--home\">Lógica</a><span',\n",
              " 'class=\"categories__calls__description-separator\">,',\n",
              " '</span>',\n",
              " '<a',\n",
              " 'href=\"/cursos-online-programacao/python\"',\n",
              " 'class=\"categories__calls__description--home\">Python</a><span',\n",
              " 'class=\"categories__calls__description-separator\">,',\n",
              " '</span>',\n",
              " '<a',\n",
              " 'href=\"/cursos-online-programacao/php\"',\n",
              " 'class=\"categories__calls__description--home\">PHP</a><span',\n",
              " 'class=\"categories__calls__description-separator\">,',\n",
              " '</span>',\n",
              " '<a',\n",
              " 'href=\"/cursos-online-programacao/java\"',\n",
              " 'class=\"categories__calls__description--home\">Java</a><span',\n",
              " 'class=\"categories__calls__description-separator\">,',\n",
              " '</span>',\n",
              " '<a',\n",
              " 'href=\"/cursos-online-programacao/dotnet\"',\n",
              " 'class=\"categories__calls__description--home\">.NET</a><span',\n",
              " 'class=\"categories__calls__description-separator\">,',\n",
              " '</span>',\n",
              " '<a',\n",
              " 'href=\"/cursos-online-programacao/node-js\"',\n",
              " 'class=\"categories__calls__description--home\">Node',\n",
              " 'JS</a><span',\n",
              " 'class=\"categories__calls__description-separator\">,',\n",
              " '</span>',\n",
              " '<a',\n",
              " 'href=\"/cursos-online-programacao/ruby\"',\n",
              " 'class=\"categories__calls__description--home\">Ruby',\n",
              " '&',\n",
              " 'Rails</a><span',\n",
              " 'class=\"categories__calls__description-separator\">,',\n",
              " '</span>',\n",
              " '<a',\n",
              " 'href=\"/cursos-online-programacao/linguagem-c\"',\n",
              " 'class=\"categories__calls__description--home\">C</a><span',\n",
              " 'class=\"categories__calls__description-separator\">,',\n",
              " '</span>',\n",
              " '<a',\n",
              " 'href=\"/cursos-online-programacao/computacao\"',\n",
              " 'class=\"categories__calls__description--home\">Computação</a><span',\n",
              " 'class=\"categories__calls__description-separator\">,',\n",
              " '</span>',\n",
              " '<a',\n",
              " 'href=\"/cursos-online-programacao/jogos\"',\n",
              " 'class=\"categories__calls__description--home\">Jogos</a><span',\n",
              " 'class=\"categories__calls__description-separator\">,',\n",
              " '</span>',\n",
              " '<a',\n",
              " 'href=\"/cursos-online-programacao\"',\n",
              " 'class=\"categories__calls__link-see-more--home\">e',\n",
              " 'mais...</a></nav></div><div',\n",
              " 'class=\"categories__wrapper__links--home\">',\n",
              " '<a',\n",
              " 'class=\"categories__link--home\"',\n",
              " 'href=\"/cursos-online-front-end\"><div',\n",
              " 'class=\"categories__link-wrapper--home\"><div',\n",
              " 'class=\"categories__svg-wrapper--home\"',\n",
              " 'style=\"background:#6bd1ff;\">',\n",
              " '<svg',\n",
              " 'class=\"pagina-categoria__svg--home',\n",
              " 'categories__svg--home\"',\n",
              " 'xmlns:xlink=\"http://www.w3.org/1999/xlink\">',\n",
              " '<use',\n",
              " 'xlink:href=\"/svg,1570550707/categorias#icon-categorias-front-end\"/>',\n",
              " '</svg></div><div',\n",
              " 'style=\"color:#6bd1ff;\">',\n",
              " '<span',\n",
              " 'class=\"categories__link__text\">Cursos',\n",
              " 'de</span><h4',\n",
              " 'class=\"categories__link__category-name\">Front-end</h4></div></div>',\n",
              " '</a><nav',\n",
              " 'class=\"categories__calls--home\">',\n",
              " '<a',\n",
              " 'href=\"/cursos-online-front-end/front-end\"',\n",
              " 'class=\"categories__calls__description--home\">HTML,',\n",
              " 'CSS</a><span',\n",
              " 'class=\"categories__calls__description-separator\">,',\n",
              " '</span>',\n",
              " '<a',\n",
              " 'href=\"/cursos-online-front-end/javascript\"',\n",
              " 'class=\"categories__calls__description--home\">JavaScript</a><span',\n",
              " 'class=\"categories__calls__description-separator\">,',\n",
              " '</span>',\n",
              " '<a',\n",
              " 'href=\"/cursos-online-front-end/frameworks-mvc-em-javascript\"',\n",
              " 'class=\"categories__calls__description--home\">Angular,',\n",
              " 'React</a><span',\n",
              " 'class=\"categories__calls__description-separator\">,',\n",
              " '</span>',\n",
              " '<a',\n",
              " 'href=\"/cursos-online-front-end/jquery\"',\n",
              " 'class=\"categories__calls__description--home\">jQuery</a><span',\n",
              " 'class=\"categories__calls__description-separator\">,',\n",
              " '</span>',\n",
              " '<a',\n",
              " 'href=\"/cursos-online-front-end\"',\n",
              " 'class=\"categories__calls__link-see-more--home\">e',\n",
              " 'mais...</a></nav></div><div',\n",
              " 'class=\"categories__wrapper__links--home\">',\n",
              " '<a',\n",
              " 'class=\"categories__link--home\"',\n",
              " 'href=\"/cursos-online-infraestrutura\"><div',\n",
              " 'class=\"categories__link-wrapper--home\"><div',\n",
              " 'class=\"categories__svg-wrapper--home\"',\n",
              " 'style=\"background:#f16165;\">',\n",
              " '<svg',\n",
              " 'class=\"pagina-categoria__svg--home',\n",
              " 'categories__svg--home\"',\n",
              " 'xmlns:xlink=\"http://www.w3.org/1999/xlink\">',\n",
              " '<use',\n",
              " 'xlink:href=\"/svg,1570550707/categorias#icon-categorias-infraestrutura\"/>',\n",
              " '</svg></div><div',\n",
              " 'style=\"color:#f16165;\">',\n",
              " '<span',\n",
              " 'class=\"categories__link__text\">Cursos',\n",
              " 'de</span><h4',\n",
              " 'class=\"categories__link__category-name\">Infraestrutura</h4></div></div>',\n",
              " '</a><nav',\n",
              " 'class=\"categories__calls--home\">',\n",
              " '<a',\n",
              " 'href=\"/cursos-online-infraestrutura/devops\"',\n",
              " 'class=\"categories__calls__description--home\">DevOps',\n",
              " 'e',\n",
              " 'Git</a><span',\n",
              " 'class=\"categories__calls__description-separator\">,',\n",
              " '</span>',\n",
              " '<a',\n",
              " 'href=\"/cursos-online-infraestrutura/cloud-computing\"',\n",
              " 'class=\"categories__calls__description--home\">Cloud</a><span',\n",
              " 'class=\"categories__calls__description-separator\">,',\n",
              " '</span>',\n",
              " '<a',\n",
              " 'href=\"/cursos-online-infraestrutura/linux-comandos-e-processos\"',\n",
              " 'class=\"categories__calls__description--home\">Linux</a><span',\n",
              " 'class=\"categories__calls__description-separator\">,',\n",
              " '</span>',\n",
              " '<a',\n",
              " 'href=\"/cursos-online-infraestrutura/internet-das-coisas\"',\n",
              " 'class=\"categories__calls__description--home\">IoT</a><span',\n",
              " 'class=\"categories__calls__description-separator\">,',\n",
              " '</span>',\n",
              " '<a',\n",
              " 'href=\"/cursos-online-infraestrutura/redes\"',\n",
              " 'class=\"categories__calls__description--home\">Redes</a><span',\n",
              " 'class=\"categories__calls__description-separator\">,',\n",
              " '</span>',\n",
              " '<a',\n",
              " 'href=\"/cursos-online-infraestrutura\"',\n",
              " 'class=\"categories__calls__link-see-more--home\">e',\n",
              " 'mais...</a></nav></div><div',\n",
              " 'class=\"categories__wrapper__links--home\">',\n",
              " '<a',\n",
              " 'class=\"categories__link--home\"',\n",
              " 'href=\"/cursos-online-design-ux\"><div',\n",
              " 'class=\"categories__link-wrapper--home\"><div',\n",
              " 'class=\"categories__svg-wrapper--home\"',\n",
              " 'style=\"background:#dc6ebe;\">',\n",
              " '<svg',\n",
              " 'class=\"pagina-categoria__svg--home',\n",
              " 'categories__svg--home\"',\n",
              " 'xmlns:xlink=\"http://www.w3.org/1999/xlink\">',\n",
              " '<use',\n",
              " 'xlink:href=\"/svg,1570550707/categorias#icon-categorias-design-ux\"/>',\n",
              " '</svg></div><div',\n",
              " 'style=\"color:#dc6ebe;\">',\n",
              " '<span',\n",
              " 'class=\"categories__link__text\">Cursos',\n",
              " 'de</span><h4',\n",
              " 'class=\"categories__link__category-name\">Design',\n",
              " '&',\n",
              " 'UX</h4></div></div>',\n",
              " '</a><nav',\n",
              " 'class=\"categories__calls--home\">',\n",
              " '<a',\n",
              " 'href=\"/cursos-online-design-ux/wwww\"',\n",
              " 'class=\"categories__calls__description--home\">Photoshop',\n",
              " 'e',\n",
              " 'Illustrator</a><span',\n",
              " 'class=\"categories__calls__description-separator\">,',\n",
              " '</span>',\n",
              " '<a',\n",
              " 'href=\"/cursos-online-design-ux/ux\"',\n",
              " 'class=\"categories__calls__description--home\">Usabilidade',\n",
              " 'e',\n",
              " 'UX</a><span',\n",
              " 'class=\"categories__calls__description-separator\">,',\n",
              " '</span>',\n",
              " '<a',\n",
              " 'href=\"/cursos-online-design-ux/video\"',\n",
              " 'class=\"categories__calls__description--home\">Vídeo',\n",
              " 'e',\n",
              " 'Motion</a><span',\n",
              " 'class=\"categories__calls__description-separator\">,',\n",
              " '</span>',\n",
              " '<a',\n",
              " 'href=\"/cursos-online-design-ux/3d\"',\n",
              " 'class=\"categories__calls__description--home\">3D</a><span',\n",
              " 'class=\"categories__calls__description-separator\">,',\n",
              " '</span>',\n",
              " '<a',\n",
              " 'href=\"/cursos-online-design-ux\"',\n",
              " 'class=\"categories__calls__link-see-more--home\">e',\n",
              " 'mais...</a></nav></div><div',\n",
              " 'class=\"categories__wrapper__links--home\">',\n",
              " '<a',\n",
              " 'class=\"categories__link--home\"',\n",
              " 'href=\"/cursos-online-marketing-digital\"><div',\n",
              " 'class=\"categories__link-wrapper--home\"><div',\n",
              " 'class=\"categories__svg-wrapper--home\"',\n",
              " 'style=\"background:#6b5be2;\">',\n",
              " '<svg',\n",
              " 'class=\"pagina-categoria__svg--home',\n",
              " 'categories__svg--home\"',\n",
              " 'xmlns:xlink=\"http://www.w3.org/1999/xlink\">',\n",
              " '<use',\n",
              " 'xlink:href=\"/svg,1570550707/categorias#icon-categorias-marketing-digital\"/>',\n",
              " '</svg></div><div',\n",
              " 'style=\"color:#6b5be2;\">',\n",
              " '<span',\n",
              " 'class=\"categories__link__text\">Cursos',\n",
              " 'de</span><h4',\n",
              " 'class=\"categories__link__category-name\">Marketing',\n",
              " 'Digital</h4></div></div>',\n",
              " '</a><nav',\n",
              " 'class=\"categories__calls--home\">',\n",
              " '<a',\n",
              " 'href=\"/cursos-online-marketing-digital/ads\"',\n",
              " 'class=\"categories__calls__description--home\">Ads</a><span',\n",
              " 'class=\"categories__calls__description-separator\">,',\n",
              " '</span>',\n",
              " '<a',\n",
              " 'href=\"/cursos-online-marketing-digital/marketing-digital\"',\n",
              " 'class=\"categories__calls__description--home\">Marketing</a><span',\n",
              " 'class=\"categories__calls__description-separator\">,',\n",
              " '</span>',\n",
              " '<a',\n",
              " 'href=\"/cursos-online-marketing-digital/seo\"',\n",
              " 'class=\"categories__calls__description--home\">SEO</a><span',\n",
              " 'class=\"categories__calls__description-separator\">,',\n",
              " '</span>',\n",
              " '<a',\n",
              " 'href=\"/cursos-online-marketing-digital/e-commerce\"',\n",
              " 'class=\"categories__calls__description--home\">E-commerce</a><span',\n",
              " 'class=\"categories__calls__description-separator\">,',\n",
              " '</span>',\n",
              " '<a',\n",
              " 'href=\"/cursos-online-marketing-digital/social-media\"',\n",
              " 'class=\"categories__calls__description--home\">Social',\n",
              " 'Media</a><span',\n",
              " 'class=\"categories__calls__description-separator\">,',\n",
              " '</span>',\n",
              " '<a',\n",
              " 'href=\"/cursos-online-marketing-digital/youtube\"',\n",
              " 'class=\"categories__calls__description--home\">YouTube</a><span',\n",
              " 'class=\"categories__calls__description-separator\">,',\n",
              " '</span>',\n",
              " '<a',\n",
              " 'href=\"/cursos-online-marketing-digital\"',\n",
              " 'class=\"categories__calls__link-see-more--home\">e',\n",
              " 'mais...</a></nav></div><div',\n",
              " 'class=\"categories__wrapper__links--home\">',\n",
              " '<a',\n",
              " 'class=\"categories__link--home\"',\n",
              " 'href=\"/cursos-online-data-science\"><div',\n",
              " 'class=\"categories__link-wrapper--home\"><div',\n",
              " 'class=\"categories__svg-wrapper--home\"',\n",
              " 'style=\"background:#9cd33b;\">',\n",
              " '<svg',\n",
              " 'class=\"pagina-categoria__svg--home',\n",
              " 'categories__svg--home\"',\n",
              " 'xmlns:xlink=\"http://www.w3.org/1999/xlink\">',\n",
              " '<use',\n",
              " 'xlink:href=\"/svg,1570550707/categorias#icon-categorias-data-science\"/>',\n",
              " '</svg></div><div',\n",
              " 'style=\"color:#9cd33b;\">',\n",
              " '<span',\n",
              " 'class=\"categories__link__text\">Cursos',\n",
              " 'de</span><h4',\n",
              " 'class=\"categories__link__category-name\">Data',\n",
              " 'Science</h4></div></div>',\n",
              " '</a><nav',\n",
              " 'class=\"categories__calls--home\">',\n",
              " '<a',\n",
              " 'href=\"/cursos-online-data-science/sql\"',\n",
              " 'class=\"categories__calls__description--home\">SQL',\n",
              " 'e',\n",
              " 'Banco',\n",
              " 'de',\n",
              " 'Dados</a><span',\n",
              " 'class=\"categories__calls__description-separator\">,',\n",
              " '</span>',\n",
              " '<a',\n",
              " 'href=\"/cursos-online-data-science/nosql\"',\n",
              " 'class=\"categories__calls__description--home\">NoSQL</a><span',\n",
              " 'class=\"categories__calls__description-separator\">,',\n",
              " '</span>',\n",
              " '<a',\n",
              " 'href=\"/cursos-online-data-science/data-science\"',\n",
              " 'class=\"categories__calls__description--home\">Data',\n",
              " 'Science</a><span',\n",
              " 'class=\"categories__calls__description-separator\">,',\n",
              " '</span>',\n",
              " '<a',\n",
              " 'href=\"/cursos-online-data-science/machine-learning\"',\n",
              " 'class=\"categories__calls__description--home\">Machine',\n",
              " 'Learning</a><span',\n",
              " 'class=\"categories__calls__description-separator\">,',\n",
              " '</span>',\n",
              " '<a',\n",
              " 'href=\"/cursos-online-data-science/business-intelligence\"',\n",
              " 'class=\"categories__calls__description--home\">BI</a><span',\n",
              " 'class=\"categories__calls__description-separator\">,',\n",
              " '</span>',\n",
              " '<a',\n",
              " 'href=\"/cursos-online-data-science/estatistica\"',\n",
              " 'class=\"categories__calls__description--home\">Estatística</a><span',\n",
              " 'class=\"categories__calls__description-separator\">,',\n",
              " '</span>',\n",
              " '<a',\n",
              " 'href=\"/cursos-online-data-science/excel\"',\n",
              " 'class=\"categories__calls__description--home\">Excel</a><span',\n",
              " 'class=\"categories__calls__description-separator\">,',\n",
              " '</span>',\n",
              " '<a',\n",
              " 'href=\"/cursos-online-data-science\"',\n",
              " 'class=\"categories__calls__link-see-more--home\">e',\n",
              " 'mais...</a></nav></div><div',\n",
              " 'class=\"categories__wrapper__links--home\">',\n",
              " '<a',\n",
              " 'class=\"categories__link--home\"',\n",
              " 'href=\"/cursos-online-inovacao-gestao\"><div',\n",
              " 'class=\"categories__link-wrapper--home\"><div',\n",
              " 'class=\"categories__svg-wrapper--home\"',\n",
              " 'style=\"background:#ff8c2a;\">',\n",
              " '<svg',\n",
              " 'class=\"pagina-categoria__svg--home',\n",
              " 'categories__svg--home\"',\n",
              " 'xmlns:xlink=\"http://www.w3.org/1999/xlink\">',\n",
              " '<use',\n",
              " 'xlink:href=\"/svg,1570550707/categorias#icon-categorias-inovacao-gestao\"/>',\n",
              " '</svg></div><div',\n",
              " 'style=\"color:#ff8c2a;\">',\n",
              " '<span',\n",
              " 'class=\"categories__link__text\">Cursos',\n",
              " 'de</span><h4',\n",
              " 'class=\"categories__link__category-name\">Inovação',\n",
              " '&',\n",
              " 'Gestão</h4></div></div>',\n",
              " '</a><nav',\n",
              " 'class=\"categories__calls--home\">',\n",
              " '<a',\n",
              " 'href=\"/cursos-online-inovacao-gestao/agilidade\"',\n",
              " 'class=\"categories__calls__description--home\">Métodos',\n",
              " 'Ágeis</a><span',\n",
              " 'class=\"categories__calls__description-separator\">,',\n",
              " '</span>',\n",
              " '<a',\n",
              " 'href=\"/cursos-online-inovacao-gestao/habilidades-interpessoais\"',\n",
              " 'class=\"categories__calls__description--home\">Softskills</a><span',\n",
              " 'class=\"categories__calls__description-separator\">,',\n",
              " '</span>',\n",
              " '<a',\n",
              " 'href=\"/cursos-online-inovacao-gestao/lideranca-gestao-estrategica\"',\n",
              " 'class=\"categories__calls__description--home\">Liderança',\n",
              " 'e',\n",
              " 'Gestão</a><span',\n",
              " 'class=\"categories__calls__description-separator\">,',\n",
              " '</span>',\n",
              " '<a',\n",
              " 'href=\"/cursos-online-inovacao-gestao/startup-empreendedorismo\"',\n",
              " 'class=\"categories__calls__description--home\">Empreendedorismo</a><span',\n",
              " 'class=\"categories__calls__description-separator\">,',\n",
              " '</span>',\n",
              " '<a',\n",
              " 'href=\"/cursos-online-inovacao-gestao\"',\n",
              " 'class=\"categories__calls__link-see-more--home\">e',\n",
              " 'mais...</a></nav></div></div></nav></div></div><main',\n",
              " 'class=\"home__main-content\"><section',\n",
              " 'class=\"features',\n",
              " 'container\"><aside',\n",
              " 'class=\"features__info\"><h2',\n",
              " 'class=\"features__info__title\">',\n",
              " '<strong>Somos',\n",
              " 'a',\n",
              " 'maior',\n",
              " 'plataforma',\n",
              " 'brasileira</strong>',\n",
              " '<span>Cursos',\n",
              " 'de',\n",
              " 'tecnologia',\n",
              " 'com',\n",
              " 'conteúdo',\n",
              " '100%',\n",
              " 'em',\n",
              " 'português</span></h2><ul',\n",
              " 'class=\"features__info__list\"><li',\n",
              " 'class=\"features__info__list__item',\n",
              " 'features__info__list__item--content\"><div',\n",
              " 'class=\"features__info__list__item__wrapper\"><h4',\n",
              " 'class=\"features__info__list__item__title\">O',\n",
              " 'conteúdo',\n",
              " 'que',\n",
              " 'você',\n",
              " 'precisa</h4><p',\n",
              " 'class=\"features__info__list__item__description\">São',\n",
              " '971',\n",
              " 'cursos',\n",
              " 'e',\n",
              " 'novos',\n",
              " 'lançamentos',\n",
              " 'toda',\n",
              " 'semana,',\n",
              " 'além',\n",
              " 'de',\n",
              " 'atualizações',\n",
              " 'e',\n",
              " 'melhorias',\n",
              " 'constantes.</p></div></li><li',\n",
              " 'class=\"features__info__list__item',\n",
              " 'features__info__list__item--practice\"><div',\n",
              " 'class=\"features__info__list__item__wrapper\"><h4',\n",
              " 'class=\"features__info__list__item__title\">Conhecimento',\n",
              " 'real</h4><p',\n",
              " 'class=\"features__info__list__item__description\">Garantimos',\n",
              " 'conhecimento',\n",
              " 'com',\n",
              " 'profundidade',\n",
              " 'e',\n",
              " 'diversidade.',\n",
              " 'Aprenda',\n",
              " 'com',\n",
              " 'os',\n",
              " 'melhores!</p></div></li><li',\n",
              " 'class=\"features__info__list__item',\n",
              " 'features__info__list__item--messages\"><div',\n",
              " 'class=\"features__info__list__item__wrapper\"><h4',\n",
              " 'class=\"features__info__list__item__title\">Aprenda',\n",
              " 'compartilhando</h4><p',\n",
              " 'class=\"features__info__list__item__description\">',\n",
              " 'Faça',\n",
              " 'parte',\n",
              " 'de',\n",
              " 'uma',\n",
              " 'grande',\n",
              " 'rede',\n",
              " 'de',\n",
              " 'apaixonados',\n",
              " 'por',\n",
              " 'tudo',\n",
              " 'que',\n",
              " 'é',\n",
              " 'digital.</p></div></li></ul></aside><section',\n",
              " 'class=\"features__video\"><div',\n",
              " 'class=\"features__video-wrapper\"><div',\n",
              " 'class=\"home-diferenciais-video\"><div',\n",
              " 'class=\"home-diferenciais-video-wrapper\"><div',\n",
              " 'class=\"elasticMedia-container\"',\n",
              " 'data-src=\"//player.vimeo.com/video/227939524\">',\n",
              " '<noscript>',\n",
              " '<iframe',\n",
              " 'class=\"elasticMedia\"',\n",
              " 'src=\"//player.vimeo.com/video/227939524\"',\n",
              " 'frameborder=\"0\"',\n",
              " 'webkitallowfullscreen',\n",
              " 'mozallowfullscreen',\n",
              " 'allowfullscreen></iframe>',\n",
              " '</noscript></div></div></div></div>',\n",
              " '<a',\n",
              " 'class=\"features__video__link\"',\n",
              " 'href=\"/como-funciona\">Veja',\n",
              " 'como',\n",
              " 'funciona</a></section></section><section',\n",
              " 'class=\"careers\"><div',\n",
              " 'class=\"container\"><h2',\n",
              " 'class=\"careers__title\"><div',\n",
              " 'class=\"careers__title__wrapper\">',\n",
              " 'Não',\n",
              " 'sabe',\n",
              " 'por',\n",
              " 'onde',\n",
              " 'começar?',\n",
              " '<span>Sequências',\n",
              " 'de',\n",
              " 'cursos',\n",
              " 'organizados',\n",
              " 'em',\n",
              " '<strong>Formações</strong></span></div></h2><ul',\n",
              " 'class=\"careers__list\"><style',\n",
              " 'type=\"text/css\">.career-mobile-title:after',\n",
              " '{',\n",
              " 'background-color:#ffba05;',\n",
              " '}</style><li',\n",
              " 'class=\"careers__list__item\"',\n",
              " 'style=\"color:#ffba05;\"><div',\n",
              " 'class=\"careers__list__item__title-wrapper\"><div',\n",
              " 'class=\"categories__svg-wrapper\"',\n",
              " 'style=\"background-color:#ffba05;\">',\n",
              " '<svg',\n",
              " 'class=\"pagina-categoria__svg',\n",
              " 'svgFill-mobile',\n",
              " 'categories__svg\"',\n",
              " 'xmlns:xlink=\"http://www.w3.org/1999/xlink\">',\n",
              " '<use',\n",
              " 'xlink:href=\"/svg,1570550707/categorias#icon-categorias-mobile\"/>',\n",
              " '</svg></div><h3',\n",
              " 'class=\"careers__list__item__title\">Mobile</h3></div><h4',\n",
              " 'class=\"careers__list__item__sub-title',\n",
              " ...]"
            ]
          },
          "metadata": {
            "tags": []
          },
          "execution_count": 11
        }
      ]
    },
    {
      "cell_type": "code",
      "metadata": {
        "id": "Q6ECbq244SKD",
        "colab_type": "code",
        "outputId": "e29dcd7e-d4c5-4e31-a351-4e0992366c59",
        "colab": {
          "base_uri": "https://localhost:8080/",
          "height": 0
        }
      },
      "source": [
        "\" \".join(html.split())"
      ],
      "execution_count": 12,
      "outputs": [
        {
          "output_type": "execute_result",
          "data": {
            "text/plain": [
              "'<!DOCTYPE html><html lang=\"pt-BR\"><head><meta charset=\"UTF-8\"><meta name=\"viewport\" content=\"width=device-width,initial-scale=1,minimum-scale=1.0\"><title>Alura | Cursos online de tecnologia</title><meta name=\"description\" content=\"Aprenda Programação, Mobile, Front-end, Design, UX, Infraestrutura, Marketing Digital, Data Science, Inovação e Gestão com didática inovadora focada no mercado real de trabalho\"><link rel=\"canonical\" href=\"https://www.alura.com.br\"><link href=\"https://fonts.googleapis.com/css?display=swap&family=Open+Sans:300,400,400i,600,700,800\" rel=\"stylesheet\" crossorigin><link rel=\"preconnect\" href=\"https://fonts.gstatic.com/\" crossorigin><link rel=\"stylesheet\" href=\"/bundle,base/_reset,base/base,base/buttons,base/colors,base/titulos.1572363839.css\"><link rel=\"stylesheet\" href=\"/bundle,home/homeNova/career-colors,home/homeNova/careers,home/homeNova/companies,home/homeNova/features,home/homeNova/home,home/homeNova/mobile,home/homeNova/testimonies.1572363839.css\"><link rel=\"stylesheet\" href=\"/assets/css/block/elasticMedia.1570550707.css\"><meta property=\"og:locale\" content=\"pt_BR\"><meta property=\"og:description\" content=\"Aprenda Programação, Mobile, Front-end, Design, UX, Infraestrutura, Marketing Digital, Data Science, Inovação e Gestão com didática inovadora focada no mercado real de trabalho\"><meta property=\"og:title\" content=\"Alura | Cursos online de tecnologia\"><meta property=\"og:site_name\" content=\"Alura\"><meta property=\"og:url\" content=\"https://www.alura.com.br/\"><meta property=\"og:image\" content=\"https://www.alura.com.br/assets/img/alura-share.1571848411.png\"><meta property=\"og:image:alt\" content=\"Alura logo\"><meta property=\"fb:app_id\" content=\"140078819399376\"><meta property=\"og:type\" content=\"website\"><meta name=\"twitter:card\" content=\"summary_large_image\"><meta name=\"theme-color\" content=\"#2A7AE4\"></head><body class=\"\"> <script>(function(w,d,s,l,i){w[l]=w[l]||[];w[l].push({\\'gtm.start\\': new Date().getTime(),event:\\'gtm.js\\'});var f=d.getElementsByTagName(s)[0], j=d.createElement(s),dl=l!=\\'dataLayer\\'?\\'&l=\\'+l:\\'\\';j.async=true;j.src= \\'https://www.googletagmanager.com/gtm.js?id=\\'+i+dl;f.parentNode.insertBefore(j,f); })(window,document,\\'script\\',\\'dataLayer\\',\\'GTM-TN542JN\\');</script> <noscript> <iframe src=\"https://www.googletagmanager.com/ns.html?id=GTM-TN542JN\" height=\"0\" width=\"0\" style=\"display:none;visibility:hidden\"></iframe> </noscript> <script>setTimeout(function() { new Image().src = \"https://www.facebook.com/tr?id=1067810189950610&ev=PageView&noscript=1\"; }, 300);</script> <script type=\"application/ld+json\">{ \"@context\": \"http://schema.org\", \"@type\": \"BreadcrumbList\", \"itemListElement\": [{ \"@type\": \"ListItem\", \"position\": 1, \"item\": { \"@id\": \"https://www.alura.com.br\", \"name\": \"Alura\" } } ] }</script> <div class=\"home\"><div class=\"home__header\"><link rel=\"stylesheet\" href=\"/assets/css/block/header.1570550707.css\"><link rel=\"stylesheet\" href=\"/assets/css/block/headerHome.1570550707.css\"><style>@media (min-width: 1100px) { .header-navegacao-cursos-lista { display: none; } .header__nav { border: none; margin-top:10px; } .header { padding-bottom: 0; } }</style><header class=\"header--home\"><div class=\"container\"><nav class=\"header__nav--home\"> <a href=\"/\" class=\"header__nav__link--home header__nav__link--logo\"> <img class=\"header__nav__link__logo\" alt=\"Alura\" src=\"/assets/img/home/alura-logo.1570550707.svg\"> </a><div class=\"header__nav__wrapper--home header__nav__wrapper--ctas--home\"><div href=\"/busca\" class=\"header-utilitario-busca header-utilitario-busca--home\" aria-label=\"Busca\"> <svg class=\"header-utilitario-busca-icone--home\" xmlns:xlink=\"http://www.w3.org/1999/xlink\"> <use xlink:href=\"/svg,1570550707/header#icon-header-busca-home\"/> </svg></div> <a href=\"https://cursos.alura.com.br/loginForm?urlAfterLogin=https://cursos.alura.com.br/dashboard\" class=\"header__nav__link--home header__nav__link--entrar--home\">Entrar</a> <a href=\"/planos-cursos-online\" class=\"header__nav__link--home header__nav__link--cta--home\">Matricule-se</a></div><div class=\"header__nav__wrapper--home header__nav__wrapper--menu header__nav__wrapper--menu--home\"><div class=\"header-barraBusca header-barraBusca--home\"><div class=\"container\"><form action=\"/busca\" class=\"header-barraBusca-form\"> <label for=\"header-barraBusca-form-campoBusca\">Qual curso procura?</label> <input type=\"search\" id=\"header-barraBusca-form-campoBusca\" name=\"query\" class=\"header-barraBusca-form-serch-input header-barra-busca--home\" placeholder=\"O que você quer aprender?\"> <button class=\"header-barraBusca-form-submit\" type=\"submit\">Buscar</button></form></div></div><div href=\"/cursos-online-tecnologia\" class=\"nav__courses__link--home header-navegacao-cursos header-navegacao-cursos--home header__menu-options--home header__menu-allcourses--home\"> <svg class=\"header-navegacao-cursos-icone\" xmlns:xlink=\"http://www.w3.org/1999/xlink\"> <use xlink:href=\"/svg,1570550707/header#icon-header-icon-arrow-home\"/> </svg> <span>Todos os</span> <span>Cursos</span></div> <a href=\"/formacoes\" class=\"nav__courses__link--home header__menu-options--home\"> <span>Formações</span></a> <a href=\"/empresas\" class=\"nav__courses__link--home header__menu-options--home\"> <span>Para</span> <span>Empresas</span> </a> <a href=\"/como-funciona\" class=\"nav__courses__link--home header__menu-options--home\"> <span>Como</span> <span>Funciona</span> </a></div><ul class=\"header-navegacao-cursos-lista container header__menu-allcourses--home\"><li class=\"header-cursos-lista-categoria \"> <a href=\"/cursos-online-mobile\" class=\"unlinkify\"> <svg class=\"header-cursos-lista-categoria--icon\" xmlns:xlink=\"http://www.w3.org/1999/xlink\"> <use xlink:href=\"/svg,1570550707/categorias#icon-categorias-mobile\"/> </svg><div class=\"header-lista-categoria-nome--home\"> <span>Mobile</span></div> </a></li><li class=\"header-cursos-lista-categoria \"> <a href=\"/cursos-online-programacao\" class=\"unlinkify\"> <svg class=\"header-cursos-lista-categoria--icon\" xmlns:xlink=\"http://www.w3.org/1999/xlink\"> <use xlink:href=\"/svg,1570550707/categorias#icon-categorias-programacao\"/> </svg><div class=\"header-lista-categoria-nome--home\"> <span>Programação</span></div> </a></li><li class=\"header-cursos-lista-categoria \"> <a href=\"/cursos-online-front-end\" class=\"unlinkify\"> <svg class=\"header-cursos-lista-categoria--icon\" xmlns:xlink=\"http://www.w3.org/1999/xlink\"> <use xlink:href=\"/svg,1570550707/categorias#icon-categorias-front-end\"/> </svg><div class=\"header-lista-categoria-nome--home\"> <span>Front-end</span></div> </a></li><li class=\"header-cursos-lista-categoria \"> <a href=\"/cursos-online-infraestrutura\" class=\"unlinkify\"> <svg class=\"header-cursos-lista-categoria--icon\" xmlns:xlink=\"http://www.w3.org/1999/xlink\"> <use xlink:href=\"/svg,1570550707/categorias#icon-categorias-infraestrutura\"/> </svg><div class=\"header-lista-categoria-nome--home\"> <span>Infraestrutura</span></div> </a></li><li class=\"header-cursos-lista-categoria \"> <a href=\"/cursos-online-design-ux\" class=\"unlinkify\"> <svg class=\"header-cursos-lista-categoria--icon\" xmlns:xlink=\"http://www.w3.org/1999/xlink\"> <use xlink:href=\"/svg,1570550707/categorias#icon-categorias-design-ux\"/> </svg><div class=\"header-lista-categoria-nome--home\"> <span>Design & UX</span></div> </a></li><li class=\"header-cursos-lista-categoria \"> <a href=\"/cursos-online-marketing-digital\" class=\"unlinkify\"> <svg class=\"header-cursos-lista-categoria--icon\" xmlns:xlink=\"http://www.w3.org/1999/xlink\"> <use xlink:href=\"/svg,1570550707/categorias#icon-categorias-marketing-digital\"/> </svg><div class=\"header-lista-categoria-nome--home\"> <span>Marketing Digital</span></div> </a></li><li class=\"header-cursos-lista-categoria \"> <a href=\"/cursos-online-data-science\" class=\"unlinkify\"> <svg class=\"header-cursos-lista-categoria--icon\" xmlns:xlink=\"http://www.w3.org/1999/xlink\"> <use xlink:href=\"/svg,1570550707/categorias#icon-categorias-data-science\"/> </svg><div class=\"header-lista-categoria-nome--home\"> <span>Data Science</span></div> </a></li><li class=\"header-cursos-lista-categoria \"> <a href=\"/cursos-online-inovacao-gestao\" class=\"unlinkify\"> <svg class=\"header-cursos-lista-categoria--icon\" xmlns:xlink=\"http://www.w3.org/1999/xlink\"> <use xlink:href=\"/svg,1570550707/categorias#icon-categorias-inovacao-gestao\"/> </svg><div class=\"header-lista-categoria-nome--home\"> <span>Inovação & Gestão</span></div> </a></li></ul></nav></div></header><div class=\"container\"><div class=\"home--background\"><div class=\"home__titles\"><h1 class=\"home__titles__main-title\">Cursos de Tecnologia e Negócios Digitais</h1><p class=\"home__titles__sub-title\">Você vai estudar, praticar, discutir e aprender em uma comunidade de inquietos e inovadores</p></div></div><link rel=\"stylesheet\" href=\"/assets/css/block/categories.1570550707.css\"><link rel=\"stylesheet\" href=\"/assets/css/block/navCategoriasHome.1572363839.css\"><link rel=\"stylesheet\" href=\"/assets/css/block/navCategoriasHome.1572363839.css\"><nav class=\"categories--home\"><div class=\"categories__elements--home\"><div class=\"categories__wrapper__links--home\"> <a class=\"categories__link--home\" href=\"/cursos-online-mobile\"><div class=\"categories__link-wrapper--home\"><div class=\"categories__svg-wrapper--home\" style=\"background:#ffba05;\"> <svg class=\"pagina-categoria__svg--home categories__svg--home\" xmlns:xlink=\"http://www.w3.org/1999/xlink\"> <use xlink:href=\"/svg,1570550707/categorias#icon-categorias-mobile\"/> </svg></div><div style=\"color:#ffba05;\"> <span class=\"categories__link__text\">Cursos de</span><h4 class=\"categories__link__category-name\">Mobile</h4></div></div> </a><nav class=\"categories__calls--home\"> <a href=\"/cursos-online-mobile/ios\" class=\"categories__calls__description--home\">iOS e Swift</a><span class=\"categories__calls__description-separator\">, </span> <a href=\"/cursos-online-mobile/android\" class=\"categories__calls__description--home\">Android e Kotlin</a><span class=\"categories__calls__description-separator\">, </span> <a href=\"/cursos-online-mobile/multiplataforma\" class=\"categories__calls__description--home\">Ionic, React Native</a><span class=\"categories__calls__description-separator\">, </span> <a href=\"/cursos-online-mobile/jogos\" class=\"categories__calls__description--home\">Jogos</a><span class=\"categories__calls__description-separator\">, </span> <a href=\"/cursos-online-mobile\" class=\"categories__calls__link-see-more--home\">e mais...</a></nav></div><div class=\"categories__wrapper__links--home\"> <a class=\"categories__link--home\" href=\"/cursos-online-programacao\"><div class=\"categories__link-wrapper--home\"><div class=\"categories__svg-wrapper--home\" style=\"background:#00c86f;\"> <svg class=\"pagina-categoria__svg--home categories__svg--home\" xmlns:xlink=\"http://www.w3.org/1999/xlink\"> <use xlink:href=\"/svg,1570550707/categorias#icon-categorias-programacao\"/> </svg></div><div style=\"color:#00c86f;\"> <span class=\"categories__link__text\">Cursos de</span><h4 class=\"categories__link__category-name\">Programação</h4></div></div> </a><nav class=\"categories__calls--home\"> <a href=\"/cursos-online-programacao/logica\" class=\"categories__calls__description--home\">Lógica</a><span class=\"categories__calls__description-separator\">, </span> <a href=\"/cursos-online-programacao/python\" class=\"categories__calls__description--home\">Python</a><span class=\"categories__calls__description-separator\">, </span> <a href=\"/cursos-online-programacao/php\" class=\"categories__calls__description--home\">PHP</a><span class=\"categories__calls__description-separator\">, </span> <a href=\"/cursos-online-programacao/java\" class=\"categories__calls__description--home\">Java</a><span class=\"categories__calls__description-separator\">, </span> <a href=\"/cursos-online-programacao/dotnet\" class=\"categories__calls__description--home\">.NET</a><span class=\"categories__calls__description-separator\">, </span> <a href=\"/cursos-online-programacao/node-js\" class=\"categories__calls__description--home\">Node JS</a><span class=\"categories__calls__description-separator\">, </span> <a href=\"/cursos-online-programacao/ruby\" class=\"categories__calls__description--home\">Ruby & Rails</a><span class=\"categories__calls__description-separator\">, </span> <a href=\"/cursos-online-programacao/linguagem-c\" class=\"categories__calls__description--home\">C</a><span class=\"categories__calls__description-separator\">, </span> <a href=\"/cursos-online-programacao/computacao\" class=\"categories__calls__description--home\">Computação</a><span class=\"categories__calls__description-separator\">, </span> <a href=\"/cursos-online-programacao/jogos\" class=\"categories__calls__description--home\">Jogos</a><span class=\"categories__calls__description-separator\">, </span> <a href=\"/cursos-online-programacao\" class=\"categories__calls__link-see-more--home\">e mais...</a></nav></div><div class=\"categories__wrapper__links--home\"> <a class=\"categories__link--home\" href=\"/cursos-online-front-end\"><div class=\"categories__link-wrapper--home\"><div class=\"categories__svg-wrapper--home\" style=\"background:#6bd1ff;\"> <svg class=\"pagina-categoria__svg--home categories__svg--home\" xmlns:xlink=\"http://www.w3.org/1999/xlink\"> <use xlink:href=\"/svg,1570550707/categorias#icon-categorias-front-end\"/> </svg></div><div style=\"color:#6bd1ff;\"> <span class=\"categories__link__text\">Cursos de</span><h4 class=\"categories__link__category-name\">Front-end</h4></div></div> </a><nav class=\"categories__calls--home\"> <a href=\"/cursos-online-front-end/front-end\" class=\"categories__calls__description--home\">HTML, CSS</a><span class=\"categories__calls__description-separator\">, </span> <a href=\"/cursos-online-front-end/javascript\" class=\"categories__calls__description--home\">JavaScript</a><span class=\"categories__calls__description-separator\">, </span> <a href=\"/cursos-online-front-end/frameworks-mvc-em-javascript\" class=\"categories__calls__description--home\">Angular, React</a><span class=\"categories__calls__description-separator\">, </span> <a href=\"/cursos-online-front-end/jquery\" class=\"categories__calls__description--home\">jQuery</a><span class=\"categories__calls__description-separator\">, </span> <a href=\"/cursos-online-front-end\" class=\"categories__calls__link-see-more--home\">e mais...</a></nav></div><div class=\"categories__wrapper__links--home\"> <a class=\"categories__link--home\" href=\"/cursos-online-infraestrutura\"><div class=\"categories__link-wrapper--home\"><div class=\"categories__svg-wrapper--home\" style=\"background:#f16165;\"> <svg class=\"pagina-categoria__svg--home categories__svg--home\" xmlns:xlink=\"http://www.w3.org/1999/xlink\"> <use xlink:href=\"/svg,1570550707/categorias#icon-categorias-infraestrutura\"/> </svg></div><div style=\"color:#f16165;\"> <span class=\"categories__link__text\">Cursos de</span><h4 class=\"categories__link__category-name\">Infraestrutura</h4></div></div> </a><nav class=\"categories__calls--home\"> <a href=\"/cursos-online-infraestrutura/devops\" class=\"categories__calls__description--home\">DevOps e Git</a><span class=\"categories__calls__description-separator\">, </span> <a href=\"/cursos-online-infraestrutura/cloud-computing\" class=\"categories__calls__description--home\">Cloud</a><span class=\"categories__calls__description-separator\">, </span> <a href=\"/cursos-online-infraestrutura/linux-comandos-e-processos\" class=\"categories__calls__description--home\">Linux</a><span class=\"categories__calls__description-separator\">, </span> <a href=\"/cursos-online-infraestrutura/internet-das-coisas\" class=\"categories__calls__description--home\">IoT</a><span class=\"categories__calls__description-separator\">, </span> <a href=\"/cursos-online-infraestrutura/redes\" class=\"categories__calls__description--home\">Redes</a><span class=\"categories__calls__description-separator\">, </span> <a href=\"/cursos-online-infraestrutura\" class=\"categories__calls__link-see-more--home\">e mais...</a></nav></div><div class=\"categories__wrapper__links--home\"> <a class=\"categories__link--home\" href=\"/cursos-online-design-ux\"><div class=\"categories__link-wrapper--home\"><div class=\"categories__svg-wrapper--home\" style=\"background:#dc6ebe;\"> <svg class=\"pagina-categoria__svg--home categories__svg--home\" xmlns:xlink=\"http://www.w3.org/1999/xlink\"> <use xlink:href=\"/svg,1570550707/categorias#icon-categorias-design-ux\"/> </svg></div><div style=\"color:#dc6ebe;\"> <span class=\"categories__link__text\">Cursos de</span><h4 class=\"categories__link__category-name\">Design & UX</h4></div></div> </a><nav class=\"categories__calls--home\"> <a href=\"/cursos-online-design-ux/wwww\" class=\"categories__calls__description--home\">Photoshop e Illustrator</a><span class=\"categories__calls__description-separator\">, </span> <a href=\"/cursos-online-design-ux/ux\" class=\"categories__calls__description--home\">Usabilidade e UX</a><span class=\"categories__calls__description-separator\">, </span> <a href=\"/cursos-online-design-ux/video\" class=\"categories__calls__description--home\">Vídeo e Motion</a><span class=\"categories__calls__description-separator\">, </span> <a href=\"/cursos-online-design-ux/3d\" class=\"categories__calls__description--home\">3D</a><span class=\"categories__calls__description-separator\">, </span> <a href=\"/cursos-online-design-ux\" class=\"categories__calls__link-see-more--home\">e mais...</a></nav></div><div class=\"categories__wrapper__links--home\"> <a class=\"categories__link--home\" href=\"/cursos-online-marketing-digital\"><div class=\"categories__link-wrapper--home\"><div class=\"categories__svg-wrapper--home\" style=\"background:#6b5be2;\"> <svg class=\"pagina-categoria__svg--home categories__svg--home\" xmlns:xlink=\"http://www.w3.org/1999/xlink\"> <use xlink:href=\"/svg,1570550707/categorias#icon-categorias-marketing-digital\"/> </svg></div><div style=\"color:#6b5be2;\"> <span class=\"categories__link__text\">Cursos de</span><h4 class=\"categories__link__category-name\">Marketing Digital</h4></div></div> </a><nav class=\"categories__calls--home\"> <a href=\"/cursos-online-marketing-digital/ads\" class=\"categories__calls__description--home\">Ads</a><span class=\"categories__calls__description-separator\">, </span> <a href=\"/cursos-online-marketing-digital/marketing-digital\" class=\"categories__calls__description--home\">Marketing</a><span class=\"categories__calls__description-separator\">, </span> <a href=\"/cursos-online-marketing-digital/seo\" class=\"categories__calls__description--home\">SEO</a><span class=\"categories__calls__description-separator\">, </span> <a href=\"/cursos-online-marketing-digital/e-commerce\" class=\"categories__calls__description--home\">E-commerce</a><span class=\"categories__calls__description-separator\">, </span> <a href=\"/cursos-online-marketing-digital/social-media\" class=\"categories__calls__description--home\">Social Media</a><span class=\"categories__calls__description-separator\">, </span> <a href=\"/cursos-online-marketing-digital/youtube\" class=\"categories__calls__description--home\">YouTube</a><span class=\"categories__calls__description-separator\">, </span> <a href=\"/cursos-online-marketing-digital\" class=\"categories__calls__link-see-more--home\">e mais...</a></nav></div><div class=\"categories__wrapper__links--home\"> <a class=\"categories__link--home\" href=\"/cursos-online-data-science\"><div class=\"categories__link-wrapper--home\"><div class=\"categories__svg-wrapper--home\" style=\"background:#9cd33b;\"> <svg class=\"pagina-categoria__svg--home categories__svg--home\" xmlns:xlink=\"http://www.w3.org/1999/xlink\"> <use xlink:href=\"/svg,1570550707/categorias#icon-categorias-data-science\"/> </svg></div><div style=\"color:#9cd33b;\"> <span class=\"categories__link__text\">Cursos de</span><h4 class=\"categories__link__category-name\">Data Science</h4></div></div> </a><nav class=\"categories__calls--home\"> <a href=\"/cursos-online-data-science/sql\" class=\"categories__calls__description--home\">SQL e Banco de Dados</a><span class=\"categories__calls__description-separator\">, </span> <a href=\"/cursos-online-data-science/nosql\" class=\"categories__calls__description--home\">NoSQL</a><span class=\"categories__calls__description-separator\">, </span> <a href=\"/cursos-online-data-science/data-science\" class=\"categories__calls__description--home\">Data Science</a><span class=\"categories__calls__description-separator\">, </span> <a href=\"/cursos-online-data-science/machine-learning\" class=\"categories__calls__description--home\">Machine Learning</a><span class=\"categories__calls__description-separator\">, </span> <a href=\"/cursos-online-data-science/business-intelligence\" class=\"categories__calls__description--home\">BI</a><span class=\"categories__calls__description-separator\">, </span> <a href=\"/cursos-online-data-science/estatistica\" class=\"categories__calls__description--home\">Estatística</a><span class=\"categories__calls__description-separator\">, </span> <a href=\"/cursos-online-data-science/excel\" class=\"categories__calls__description--home\">Excel</a><span class=\"categories__calls__description-separator\">, </span> <a href=\"/cursos-online-data-science\" class=\"categories__calls__link-see-more--home\">e mais...</a></nav></div><div class=\"categories__wrapper__links--home\"> <a class=\"categories__link--home\" href=\"/cursos-online-inovacao-gestao\"><div class=\"categories__link-wrapper--home\"><div class=\"categories__svg-wrapper--home\" style=\"background:#ff8c2a;\"> <svg class=\"pagina-categoria__svg--home categories__svg--home\" xmlns:xlink=\"http://www.w3.org/1999/xlink\"> <use xlink:href=\"/svg,1570550707/categorias#icon-categorias-inovacao-gestao\"/> </svg></div><div style=\"color:#ff8c2a;\"> <span class=\"categories__link__text\">Cursos de</span><h4 class=\"categories__link__category-name\">Inovação & Gestão</h4></div></div> </a><nav class=\"categories__calls--home\"> <a href=\"/cursos-online-inovacao-gestao/agilidade\" class=\"categories__calls__description--home\">Métodos Ágeis</a><span class=\"categories__calls__description-separator\">, </span> <a href=\"/cursos-online-inovacao-gestao/habilidades-interpessoais\" class=\"categories__calls__description--home\">Softskills</a><span class=\"categories__calls__description-separator\">, </span> <a href=\"/cursos-online-inovacao-gestao/lideranca-gestao-estrategica\" class=\"categories__calls__description--home\">Liderança e Gestão</a><span class=\"categories__calls__description-separator\">, </span> <a href=\"/cursos-online-inovacao-gestao/startup-empreendedorismo\" class=\"categories__calls__description--home\">Empreendedorismo</a><span class=\"categories__calls__description-separator\">, </span> <a href=\"/cursos-online-inovacao-gestao\" class=\"categories__calls__link-see-more--home\">e mais...</a></nav></div></div></nav></div></div><main class=\"home__main-content\"><section class=\"features container\"><aside class=\"features__info\"><h2 class=\"features__info__title\"> <strong>Somos a maior plataforma brasileira</strong> <span>Cursos de tecnologia com conteúdo 100% em português</span></h2><ul class=\"features__info__list\"><li class=\"features__info__list__item features__info__list__item--content\"><div class=\"features__info__list__item__wrapper\"><h4 class=\"features__info__list__item__title\">O conteúdo que você precisa</h4><p class=\"features__info__list__item__description\">São 971 cursos e novos lançamentos toda semana, além de atualizações e melhorias constantes.</p></div></li><li class=\"features__info__list__item features__info__list__item--practice\"><div class=\"features__info__list__item__wrapper\"><h4 class=\"features__info__list__item__title\">Conhecimento real</h4><p class=\"features__info__list__item__description\">Garantimos conhecimento com profundidade e diversidade. Aprenda com os melhores!</p></div></li><li class=\"features__info__list__item features__info__list__item--messages\"><div class=\"features__info__list__item__wrapper\"><h4 class=\"features__info__list__item__title\">Aprenda compartilhando</h4><p class=\"features__info__list__item__description\"> Faça parte de uma grande rede de apaixonados por tudo que é digital.</p></div></li></ul></aside><section class=\"features__video\"><div class=\"features__video-wrapper\"><div class=\"home-diferenciais-video\"><div class=\"home-diferenciais-video-wrapper\"><div class=\"elasticMedia-container\" data-src=\"//player.vimeo.com/video/227939524\"> <noscript> <iframe class=\"elasticMedia\" src=\"//player.vimeo.com/video/227939524\" frameborder=\"0\" webkitallowfullscreen mozallowfullscreen allowfullscreen></iframe> </noscript></div></div></div></div> <a class=\"features__video__link\" href=\"/como-funciona\">Veja como funciona</a></section></section><section class=\"careers\"><div class=\"container\"><h2 class=\"careers__title\"><div class=\"careers__title__wrapper\"> Não sabe por onde começar? <span>Sequências de cursos organizados em <strong>Formações</strong></span></div></h2><ul class=\"careers__list\"><style type=\"text/css\">.career-mobile-title:after { background-color:#ffba05; }</style><li class=\"careers__list__item\" style=\"color:#ffba05;\"><div class=\"careers__list__item__title-wrapper\"><div class=\"categories__svg-wrapper\" style=\"background-color:#ffba05;\"> <svg class=\"pagina-categoria__svg svgFill-mobile categories__svg\" xmlns:xlink=\"http://www.w3.org/1999/xlink\"> <use xlink:href=\"/svg,1570550707/categorias#icon-categorias-mobile\"/> </svg></div><h3 class=\"careers__list__item__title\">Mobile</h3></div><h4 class=\"careers__list__item__sub-title career-mobile-title\">Formações</h4><ul class=\"careers__list__item__list careers__list__item__list--formacoes\"><li class=\"careers__list__item__list__item\"> <a class=\"careers__list__item__list__item__link\" href=\"/formacao-android\"> Android </a></li><li class=\"careers__list__item__list__item\"> <a class=\"careers__list__item__list__item__link\" href=\"/formacao-arquiteto-android\"> Arquitetura Android </a></li><li class=\"careers__list__item__list__item\"> <a class=\"careers__list__item__list__item__link\" href=\"/formacao-ios\"> iOS </a></li><li class=\"careers__list__item__list__item\"> <a class=\"careers__list__item__list__item__link\" href=\"/formacao-xamarin\"> Multiplataforma mobile Xamarin </a></li><li class=\"careers__list__item__list__item\"> <a class=\"careers__list__item__list__item__link\" href=\"/formacao-testes-automatizados-android\"> Testes automatizados no Android </a></li></ul></li><style type=\"text/css\">.career-programacao-title:after { background-color:#00c86f; }</style><li class=\"careers__list__item\" style=\"color:#00c86f;\"><div class=\"careers__list__item__title-wrapper\"><div class=\"categories__svg-wrapper\" style=\"background-color:#00c86f;\"> <svg class=\"pagina-categoria__svg svgFill-programacao categories__svg\" xmlns:xlink=\"http://www.w3.org/1999/xlink\"> <use xlink:href=\"/svg,1570550707/categorias#icon-categorias-programacao\"/> </svg></div><h3 class=\"careers__list__item__title\">Programação</h3></div><h4 class=\"careers__list__item__sub-title career-programacao-title\">Formações</h4><ul class=\"careers__list__item__list careers__list__item__list--formacoes\"><li class=\"careers__list__item__list__item\"> <a class=\"careers__list__item__list__item__link\" href=\"/formacao-dotnet\"> .NET </a></li><li class=\"careers__list__item__list__item\"> <a class=\"careers__list__item__list__item__link\" href=\"/formacao-certificacao-csharp\"> Certificação C# Programming </a></li><li class=\"careers__list__item__list__item\"> <a class=\"careers__list__item__list__item__link\" href=\"/formacao-certificacao-java\"> Certificação Java </a></li><li class=\"careers__list__item__list__item\"> <a class=\"careers__list__item__list__item__link\" href=\"/formacao-clojure\"> Clojure </a></li><li class=\"careers__list__item__list__item\"> <a class=\"careers__list__item__list__item__link\" href=\"/formacao-desenvolvedor-php\"> Desenvolvedor PHP </a></li><li class=\"careers__list__item__list__item\"> <a class=\"careers__list__item__list__item__link\" href=\"/formacao-vb-net\"> Desenvolvedor VB.NET </a></li><li class=\"careers__list__item__list__item\"> <a class=\"careers__list__item__list__item__link\" href=\"/formacao-expert-em-orientacao-a-objetos\"> Expert em Orientação a Objetos </a></li><li class=\"careers__list__item__list__item\"> <a class=\"careers__list__item__list__item__link\" href=\"/formacao-programacao\"> Iniciante em Programação </a></li><li class=\"careers__list__item__list__item\"> <a class=\"careers__list__item__list__item__link\" href=\"/formacao-integracao-aplicacoes-java\"> Integração de Aplicações Java </a></li><li class=\"careers__list__item__list__item\"> <a class=\"careers__list__item__list__item__link\" href=\"/formacao-java\"> Java </a></li><li class=\"careers__list__item__list__item\"> <a class=\"careers__list__item__list__item__link\" href=\"/formacao-java-ee\"> Java EE </a></li><li class=\"careers__list__item__list__item\"> <a class=\"careers__list__item__list__item__link\" href=\"/formacao-jogos-unity\"> Jogos com Unity </a></li><li class=\"careers__list__item__list__item\"> <a class=\"careers__list__item__list__item__link\" href=\"/formacao-node-js-12\"> NodeJS </a></li><li class=\"careers__list__item__list__item\"> <a class=\"careers__list__item__list__item__link\" href=\"/formacao-Python-linguagem\"> Python </a></li><li class=\"careers__list__item__list__item\"> <a class=\"careers__list__item__list__item__link\" href=\"/formacao-python-web\"> Python Web </a></li><li class=\"careers__list__item__list__item\"> <a class=\"careers__list__item__list__item__link\" href=\"/formacao-ruby-on-rails\"> Ruby On Rails </a></li><li class=\"careers__list__item__list__item\"> <a class=\"careers__list__item__list__item__link\" href=\"/formacao-wordpress\"> Wordpress </a></li></ul></li><style type=\"text/css\">.career-front-end-title:after { background-color:#6bd1ff; }</style><li class=\"careers__list__item\" style=\"color:#6bd1ff;\"><div class=\"careers__list__item__title-wrapper\"><div class=\"categories__svg-wrapper\" style=\"background-color:#6bd1ff;\"> <svg class=\"pagina-categoria__svg svgFill-front-end categories__svg\" xmlns:xlink=\"http://www.w3.org/1999/xlink\"> <use xlink:href=\"/svg,1570550707/categorias#icon-categorias-front-end\"/> </svg></div><h3 class=\"careers__list__item__title\">Front-end</h3></div><h4 class=\"careers__list__item__sub-title career-front-end-title\">Formações</h4><ul class=\"careers__list__item__list careers__list__item__list--formacoes\"><li class=\"careers__list__item__list__item\"> <a class=\"careers__list__item__list__item__link\" href=\"/formacao-acessibilidade-web\"> Acessibilidade Web </a></li><li class=\"careers__list__item__list__item\"> <a class=\"careers__list__item__list__item__link\" href=\"/formacao-angular\"> Angular </a></li><li class=\"careers__list__item__list__item\"> <a class=\"careers__list__item__list__item__link\" href=\"/formacao-front-end\"> Front-end </a></li><li class=\"careers__list__item__list__item\"> <a class=\"careers__list__item__list__item__link\" href=\"/formacao-html-e-css\"> HTML e CSS </a></li><li class=\"careers__list__item__list__item\"> <a class=\"careers__list__item__list__item__link\" href=\"/formacao-node-js\"> Node.js </a></li><li class=\"careers__list__item__list__item\"> <a class=\"careers__list__item__list__item__link\" href=\"/formacao-react\"> React </a></li><li class=\"careers__list__item__list__item\"> <a class=\"careers__list__item__list__item__link\" href=\"/formacao-vuejs\"> Vue.js </a></li></ul></li><style type=\"text/css\">.career-infraestrutura-title:after { background-color:#f16165; }</style><li class=\"careers__list__item\" style=\"color:#f16165;\"><div class=\"careers__list__item__title-wrapper\"><div class=\"categories__svg-wrapper\" style=\"background-color:#f16165;\"> <svg class=\"pagina-categoria__svg svgFill-infraestrutura categories__svg\" xmlns:xlink=\"http://www.w3.org/1999/xlink\"> <use xlink:href=\"/svg,1570550707/categorias#icon-categorias-infraestrutura\"/> </svg></div><h3 class=\"careers__list__item__title\">Infraestrutura</h3></div><h4 class=\"careers__list__item__sub-title career-infraestrutura-title\">Formações</h4><ul class=\"careers__list__item__list careers__list__item__list--formacoes\"><li class=\"careers__list__item__list__item\"> <a class=\"careers__list__item__list__item__link\" href=\"/formacao-redes\"> Administrador de Redes </a></li><li class=\"careers__list__item__list__item\"> <a class=\"careers__list__item__list__item__link\" href=\"/formacao-amazon-web-services\"> Amazon Web Services </a></li><li class=\"careers__list__item__list__item\"> <a class=\"careers__list__item__list__item__link\" href=\"/formacao-certificacao-cisco-ccna\"> Certificação Cisco CCNA </a></li><li class=\"careers__list__item__list__item\"> <a class=\"careers__list__item__list__item__link\" href=\"/formacao-certificacao-lpi-linux-essentials\"> Certificação LPI Linux Essentials </a></li><li class=\"careers__list__item__list__item\"> <a class=\"careers__list__item__list__item__link\" href=\"/formacao-devops\"> DevOps </a></li><li class=\"careers__list__item__list__item\"> <a class=\"careers__list__item__list__item__link\" href=\"/formacao-internet-das-coisas-iot\"> Internet das Coisas </a></li><li class=\"careers__list__item__list__item\"> <a class=\"careers__list__item__list__item__link\" href=\"/formacao-microcontroladores-eletronica-aplicada\"> Microcontroladores e Eletrônica Aplicada </a></li><li class=\"careers__list__item__list__item\"> <a class=\"careers__list__item__list__item__link\" href=\"/formacao-raspberry-pi\"> Raspberry Pi </a></li><li class=\"careers__list__item__list__item\"> <a class=\"careers__list__item__list__item__link\" href=\"/formacao-seguranca-de-aplicacoes\"> Segurança de aplicações </a></li></ul></li><style type=\"text/css\">.career-design-ux-title:after { background-color:#dc6ebe; }</style><li class=\"careers__list__item\" style=\"color:#dc6ebe;\"><div class=\"careers__list__item__title-wrapper\"><div class=\"categories__svg-wrapper\" style=\"background-color:#dc6ebe;\"> <svg class=\"pagina-categoria__svg svgFill-design-ux categories__svg\" xmlns:xlink=\"http://www.w3.org/1999/xlink\"> <use xlink:href=\"/svg,1570550707/categorias#icon-categorias-design-ux\"/> </svg></div><h3 class=\"careers__list__item__title\">Design & UX</h3></div><h4 class=\"careers__list__item__sub-title career-design-ux-title\">Formações</h4><ul class=\"careers__list__item__list careers__list__item__list--formacoes\"><li class=\"careers__list__item__list__item\"> <a class=\"careers__list__item__list__item__link\" href=\"/formacao-ui-adobe-xd\"> Adobe XD </a></li><li class=\"careers__list__item__list__item\"> <a class=\"careers__list__item__list__item__link\" href=\"/formacao-desenhohumano-photoshop\"> Desenho humano no Photoshop </a></li><li class=\"careers__list__item__list__item\"> <a class=\"careers__list__item__list__item__link\" href=\"/formacao-design-grafico\"> Design Gráfico </a></li><li class=\"careers__list__item__list__item\"> <a class=\"careers__list__item__list__item__link\" href=\"/formacao-editor-video\"> Editor de vídeo </a></li><li class=\"careers__list__item__list__item\"> <a class=\"careers__list__item__list__item__link\" href=\"/formacao-ilustra-publicitaria\"> Ilustração Publicitária no Photoshop </a></li><li class=\"careers__list__item__list__item\"> <a class=\"careers__list__item__list__item__link\" href=\"/formacao-producao-indesign\"> InDesign </a></li><li class=\"careers__list__item__list__item\"> <a class=\"careers__list__item__list__item__link\" href=\"/formacao-motion-design\"> Motion Design </a></li><li class=\"careers__list__item__list__item\"> <a class=\"careers__list__item__list__item__link\" href=\"/formacao-pinturadigital-photoshop\"> Pintura Digital no Photoshop </a></li><li class=\"careers__list__item__list__item\"> <a class=\"careers__list__item__list__item__link\" href=\"/formacao-producao-com-photoshop\"> Produção com Photoshop </a></li><li class=\"careers__list__item__list__item\"> <a class=\"careers__list__item__list__item__link\" href=\"/formacao-procucao-premiere\"> Produção de vídeo no Premiere </a></li><li class=\"careers__list__item__list__item\"> <a class=\"careers__list__item__list__item__link\" href=\"/formacao-grafica-illustrator\"> Produção Gráfica com Illustrator </a></li><li class=\"careers__list__item__list__item\"> <a class=\"careers__list__item__list__item__link\" href=\"/formacao-ui-sketch\"> Sketch </a></li><li class=\"careers__list__item__list__item\"> <a class=\"careers__list__item__list__item__link\" href=\"/formacao-unreal-engine\"> Unreal Engine </a></li><li class=\"careers__list__item__list__item\"> <a class=\"careers__list__item__list__item__link\" href=\"/formacao-ux\"> UX Design </a></li></ul></li><style type=\"text/css\">.career-data-science-title:after { background-color:#9cd33b; }</style><li class=\"careers__list__item\" style=\"color:#9cd33b;\"><div class=\"careers__list__item__title-wrapper\"><div class=\"categories__svg-wrapper\" style=\"background-color:#9cd33b;\"> <svg class=\"pagina-categoria__svg svgFill-data-science categories__svg\" xmlns:xlink=\"http://www.w3.org/1999/xlink\"> <use xlink:href=\"/svg,1570550707/categorias#icon-categorias-data-science\"/> </svg></div><h3 class=\"careers__list__item__title\">Data Science</h3></div><h4 class=\"careers__list__item__sub-title career-data-science-title\">Formações</h4><ul class=\"careers__list__item__list careers__list__item__list--formacoes\"><li class=\"careers__list__item__list__item\"> <a class=\"careers__list__item__list__item__link\" href=\"/formacao-business-intelligence-data-warehouse-pentaho\"> BI e Data Warehouse com Pentaho </a></li><li class=\"careers__list__item__list__item\"> <a class=\"careers__list__item__list__item__link\" href=\"/formacao-business-intelligence-data-warehouse\"> BI e Data Warehouse com SQL Server e Power BI </a></li><li class=\"careers__list__item__list__item\"> <a class=\"careers__list__item__list__item__link\" href=\"/formacao-certificacao-oracle-12c\"> Certificação Oracle 12c </a></li><li class=\"careers__list__item__list__item\"> <a class=\"careers__list__item__list__item__link\" href=\"/formacao-data-science\"> Data Science </a></li><li class=\"careers__list__item__list__item\"> <a class=\"careers__list__item__list__item__link\" href=\"/formacao-excel-vba\"> Excel VBA </a></li><li class=\"careers__list__item__list__item\"> <a class=\"careers__list__item__list__item__link\" href=\"/formacao-machine-learning\"> Machine Learning </a></li><li class=\"careers__list__item__list__item\"> <a class=\"careers__list__item__list__item__link\" href=\"/formacao-oracle-sql-plsql\"> Oracle SQL e PL/SQL </a></li><li class=\"careers__list__item__list__item\"> <a class=\"careers__list__item__list__item__link\" href=\"/formacao-microsoft-sql-server-2017\"> SQL com Microsoft SQL Server 2017 </a></li><li class=\"careers__list__item__list__item\"> <a class=\"careers__list__item__list__item__link\" href=\"/formacao-oracle-mysql\"> SQL com MySQL Server da Oracle </a></li></ul></li><style type=\"text/css\">.career-marketing-digital-title:after { background-color:#6b5be2; }</style><li class=\"careers__list__item\" style=\"color:#6b5be2;\"><div class=\"careers__list__item__title-wrapper\"><div class=\"categories__svg-wrapper\" style=\"background-color:#6b5be2;\"> <svg class=\"pagina-categoria__svg svgFill-marketing-digital categories__svg\" xmlns:xlink=\"http://www.w3.org/1999/xlink\"> <use xlink:href=\"/svg,1570550707/categorias#icon-categorias-marketing-digital\"/> </svg></div><h3 class=\"careers__list__item__title\">Marketing Digital</h3></div><h4 class=\"careers__list__item__sub-title career-marketing-digital-title\">Formações</h4><ul class=\"careers__list__item__list careers__list__item__list--formacoes\"><li class=\"careers__list__item__list__item\"> <a class=\"careers__list__item__list__item__link\" href=\"/formacao-marketing-digital\"> Marketing Digital </a></li><li class=\"careers__list__item__list__item\"> <a class=\"careers__list__item__list__item__link\" href=\"/formacao-seo\"> SEO </a></li><li class=\"careers__list__item__list__item\"> <a class=\"careers__list__item__list__item__link\" href=\"/formacao-social-media\"> Social Media </a></li></ul></li><style type=\"text/css\">.career-inovacao-gestao-title:after { background-color:#ff8c2a; }</style><li class=\"careers__list__item\" style=\"color:#ff8c2a;\"><div class=\"careers__list__item__title-wrapper\"><div class=\"categories__svg-wrapper\" style=\"background-color:#ff8c2a;\"> <svg class=\"pagina-categoria__svg svgFill-inovacao-gestao categories__svg\" xmlns:xlink=\"http://www.w3.org/1999/xlink\"> <use xlink:href=\"/svg,1570550707/categorias#icon-categorias-inovacao-gestao\"/> </svg></div><h3 class=\"careers__list__item__title\">Inovação & Gestão</h3></div><h4 class=\"careers__list__item__sub-title career-inovacao-gestao-title\">Formações</h4><ul class=\"careers__list__item__list careers__list__item__list--formacoes\"><li class=\"careers__list__item__list__item\"> <a class=\"careers__list__item__list__item__link\" href=\"/formacao-business-agility\"> Business Agility </a></li><li class=\"careers__list__item__list__item\"> <a class=\"careers__list__item__list__item__link\" href=\"/formacao-certificacao-cobit-5\"> Certificação Cobit 5 </a></li><li class=\"careers__list__item__list__item\"> <a class=\"careers__list__item__list__item__link\" href=\"/formacao-certificacao-itil-foundation\"> Certificação ITIL Foundation </a></li><li class=\"careers__list__item__list__item\"> <a class=\"careers__list__item__list__item__link\" href=\"/formacao-certificacao-pmp-capm-pmi\"> Certificação PMP e CAPM do PMI </a></li><li class=\"careers__list__item__list__item\"> <a class=\"careers__list__item__list__item__link\" href=\"/formacao-curriculos\"> Currículos </a></li><li class=\"careers__list__item__list__item\"> <a class=\"careers__list__item__list__item__link\" href=\"/formacao-desenvolvimento-pessoal\"> Desenvolvimento Pessoal </a></li><li class=\"careers__list__item__list__item\"> <a class=\"careers__list__item__list__item__link\" href=\"/formacao-e-commerce\"> E-commerce </a></li><li class=\"careers__list__item__list__item\"> <a class=\"careers__list__item__list__item__link\" href=\"/formacao-empreendedorismo-digital\"> Empreendedorismo Digital </a></li><li class=\"careers__list__item__list__item\"> <a class=\"careers__list__item__list__item__link\" href=\"/formacao-gerente-agil\"> Gerente Ágil </a></li></ul></li></ul></div></section><link rel=\"stylesheet\" href=\"/assets/css/block/destaqueAlunos.1570550707.css\"><section class=\"testimonies\"><div class=\"container\"><div class=\"testimonies__wrapper\"><h2 class=\"testimonies__title\"> Experiências de quem <strong class=\"testimonies__title__featured\">já estudou com a gente</strong></h2></div><nav class=\"testimonies__list\"><div class=\"testimonies__list__item\"><div class=\"testimony\"> <img class=\"testimonies__list__item__photo\" alt=\"\" src=\"/assets/img/aluno-destaque/genilton-souza.1570550707.jpg\"><div class=\"testimonies__list__item__wrapper\"><h3 class=\"testimonies__list__item__title\">Genilton Souza</h3> <span class=\"testimonies__list__item__description\"> Se você não sabe a ordem do que deve aprender e praticar para dominar uma tecnologia, <strong>a forma como os cursos estão organizados e estruturados na Alura ajuda muito</strong>. Aprendi C# aqui e pago minhas contas com isso hoje em dia.</span></div></div></div><div class=\"testimonies__list__item\"><div class=\"testimony\"> <img class=\"testimonies__list__item__photo\" alt=\"\" src=\"/assets/img/aluno-destaque/leandro-silva.1570550707.jpg\"><div class=\"testimonies__list__item__wrapper\"><h3 class=\"testimonies__list__item__title\">Leandro da Silva</h3> <span class=\"testimonies__list__item__description\"> Passei dois anos e meio desempregado e foi onde conheci os cursos da Alura. <strong>Consegui fazer uma mudança de carreira em uma área muito disputada e estou muito feliz</strong>: passei em um processo seletivo como Agente de Inovação, e muito do que aprendi tanto para a prova quanto para a etapa presencial foi graças a Alura. </span></div></div></div><div class=\"testimonies__list__item\"><div class=\"testimony\"> <img class=\"testimonies__list__item__photo\" alt=\"\" src=\"/assets/img/aluno-destaque/nadia-oliveira.1570550707.jpg\"><div class=\"testimonies__list__item__wrapper\"><h3 class=\"testimonies__list__item__title\">Nádia Oliveira</h3> <span class=\"testimonies__list__item__description\"> A plataforma é incrível. Além das metodologias do curso serem de alcance para quem está começando ou quem já está avançado em alguma tecnologia, no fórum de dúvidas sempre algum instrutor ou aluno te responde em um curto espaço de tempo. <strong>Na Alura, seu conhecimento é prioridade</strong>. </span></div></div></div></nav></div></section><section class=\"companies\"><div class=\"container\"><div class=\"companies-wrapper\"><div class=\"companies__description-wrapper\"> <img class=\"companies__image\" src=\"/assets/img/home/homeNova/companies/foto-empresas.1570550707.jpg\" alt=\"Pessoas trabalhando na Alura\"><div class=\"companies__description\"><div class=\"companies__description__title-wrapper\"><h2 class=\"companies__description__title\">Para a sua <strong>empresa</strong></h2></div><p class=\"companies__description__text\"> Capacite suas equipes com formações continuadas, lançamentos semanais, dashboards e relatórios de engajamento além de guias de estudos customizados de acordo com sua necessidade.</p> <a class=\"companies__description__link\" href=\"/empresas\">Conheça os recursos</a></div></div><section class=\"companies__testimony\"><div class=\"companies__testimony__wrapper\"><p class=\"companies__testimony__text\"> <em> O time conseguiu aprender muito e um dos diferenciais para nós foi a língua, com conteúdo de qualidade em português. Na Alura, a equipe conseguiu estudar pela plataforma online e aplicar tudo de maneira estruturada.</em></p> <span class=\"companies__testimony__author\"> <strong class=\"companies__testimony__author__name\">Lucas Souza</strong> CTO da GetNinjas </span></div></section></div><section class=\"companies__using-alura\"><div class=\"companies__using-alura__title__wrapper\"><h2 class=\"companies__using-alura__title\"> <strong>Empresas que já contam com a gente:</strong></h2></div><ul class=\"companies__using-alura__list\"><li class=\"companies__using-alura__list__item\"> <img class=\"companies__using-alura__list__item__image\" src=\"/assets/img/home/homeNova/logo-empresas/logo-empresa-amil.1570550707.svg\" alt=\"Amil\"></li><li class=\"companies__using-alura__list__item\"> <img class=\"companies__using-alura__list__item__image\" src=\"/assets/img/home/homeNova/logo-empresas/logo-empresa-samsung.1570550707.svg\" alt=\"Samsung\"></li><li class=\"companies__using-alura__list__item\"> <img class=\"companies__using-alura__list__item__image\" src=\"/assets/img/home/homeNova/logo-empresas/logo-empresa-santander.1570550707.svg\" alt=\"Santander\"></li><li class=\"companies__using-alura__list__item\"> <img class=\"companies__using-alura__list__item__image\" src=\"/assets/img/home/homeNova/logo-empresas/logo-empresa-cielo.1570550707.svg\" alt=\"Cielo\"></li><li class=\"companies__using-alura__list__item\"> <img class=\"companies__using-alura__list__item__image\" src=\"/assets/img/home/homeNova/logo-empresas/logo-empresa-algar.1570550707.svg\" alt=\"Algar\"></li><li class=\"companies__using-alura__list__item\"> <img class=\"companies__using-alura__list__item__image\" src=\"/assets/img/home/homeNova/logo-empresas/logo-empresa-caixa.1570550707.svg\" alt=\"Caixa\"></li><li class=\"companies__using-alura__list__item\"> <img class=\"companies__using-alura__list__item__image\" src=\"/assets/img/home/homeNova/logo-empresas/logo-empresa-globo.1570550707.svg\" alt=\"Globo.com\"></li></ul></section></div></section><section class=\"mobile\"><div class=\"container\"><div class=\"mobile__wrapper-info\"><div class=\"mobile__info mobile__info--forum\"> Já são <strong>971 cursos</strong> com lançamentos toda semana.</div><div class=\"mobile__info mobile__info--app\"> Aplicativos para <strong>Android e iOS</strong> Baixe e estude offline em qualquer lugar.</div></div><nav class=\"mobile__apps-download\"> <a href=\"https://play.google.com/store/apps/details?id=br.com.alura.mobi&hl=pt_BR\" class=\"mobile__apps-download__item mobile__apps-download__item--google-play\">Google Play</a> <a href=\"https://itunes.apple.com/br/app/alura-cursos-online/id1225776635\" class=\"mobile__apps-download__item mobile__apps-download__item--app-store\">App Store</a></nav></div></section><link rel=\"stylesheet\" href=\"/assets/css/block/planosPagamentoOld.1572538101.css\"><section class=\"planos-pagamento\" id=\"planos-cursos-online\"><h2 class=\"planos-pagamento__titulo\"> Sabe quando você pode começar? <span class=\"planos-pagamento__titulo--bold\">Agora!</span></h2><div class=\"container\"><div class=\"planos-pagamento__planos \"><ul class=\"planos-pagamento__vantagens-mobile\"><li class=\"planos-pagamento__vantagem\"><div class=\"planos-pagamento__wrapper planos-pagamento__wrapper--com-descricao\"> <span class=\"planos-pagamento__label\">971 cursos</span><div class=\"planos-pagamento__legenda-tooltip\"><p class=\"planos-pagamento__legenda-descricao\">Cursos de programação, UX, agilidade, data science, transformação digital, mobile, front-end, marketing e infra.</p></div></div></li><li class=\"planos-pagamento__vantagem\"><div class=\"planos-pagamento__wrapper planos-pagamento__wrapper--com-descricao\"> <span class=\"planos-pagamento__label\">Certificado de participação</span><div class=\"planos-pagamento__legenda-tooltip\"><p class=\"planos-pagamento__legenda-descricao\">Certificado de que assistiu o curso e finalizou as atividades</p></div></div></li><li class=\"planos-pagamento__vantagem\"><div class=\"planos-pagamento__wrapper planos-pagamento__wrapper--com-descricao\"> <span class=\"planos-pagamento__label\">App para Android e iPhone/iPad</span><div class=\"planos-pagamento__legenda-tooltip\"><p class=\"planos-pagamento__legenda-descricao\">Estude até mesmo offline através das nossas apps Android e iOS em smartphones e tablets</p></div></div></li><li class=\"planos-pagamento__vantagem\"><div class=\"planos-pagamento__wrapper planos-pagamento__wrapper--com-descricao\"> <span class=\"planos-pagamento__label\">Projeto avaliado pelos instrutores</span><div class=\"planos-pagamento__legenda-tooltip\"><p class=\"planos-pagamento__legenda-descricao\">Projeto práticos para entrega e avaliação dos professores da Alura com certificado de aprovação diferenciado</p></div></div></li><li class=\"planos-pagamento__vantagem\"><div class=\"planos-pagamento__wrapper planos-pagamento__wrapper--com-descricao\"> <span class=\"planos-pagamento__label\">Acesso à Alura Start</span><div class=\"planos-pagamento__legenda-tooltip\"><p class=\"planos-pagamento__legenda-descricao\">Cursos de introdução a tecnologia através de games, apps e ciência</p></div></div></li><li class=\"planos-pagamento__vantagem\"><div class=\"planos-pagamento__wrapper planos-pagamento__wrapper--com-descricao\"> <span class=\"planos-pagamento__label\">Acesso à Alura Língua</span><div class=\"planos-pagamento__legenda-tooltip\"><p class=\"planos-pagamento__legenda-descricao\">Reforço online de inglês e espanhol para aprimorar seu conhecimento</p></div></div></li></ul><div class=\"planos-pagamento__plano planos-pagamento__plano--premium\" data-payment-plan data-payment-plan-price=\"900\"><div class=\"planos-pagamento__header\"><h4 class=\"planos-pagamento__nome\">Premium</h4></div><ul class=\"planos-pagamento__vantagens\"><li class=\"planos-pagamento__vantagem\"><div class=\"planos-pagamento__wrapper planos-pagamento__wrapper--com-descricao\"> <span class=\"planos-pagamento__label\">971 cursos</span><div class=\"planos-pagamento__legenda-tooltip\"><p class=\"planos-pagamento__legenda-descricao\">Cursos de programação, UX, agilidade, data science, transformação digital, mobile, front-end, marketing e infra.</p></div></div><div class=\"planos-pagamento__checkmark planos-pagamento__checkmark--ativo\"> <svg><use xlink:href=\"/svg,1570550707/planosPagamento#icon-planosPagamento-checked\" /></svg></div></li><li class=\"planos-pagamento__vantagem\"><div class=\"planos-pagamento__wrapper planos-pagamento__wrapper--com-descricao\"> <span class=\"planos-pagamento__label\">Certificado de participação</span><div class=\"planos-pagamento__legenda-tooltip\"><p class=\"planos-pagamento__legenda-descricao\">Certificado de que assistiu o curso e finalizou as atividades</p></div></div><div class=\"planos-pagamento__checkmark planos-pagamento__checkmark--ativo\"> <svg><use xlink:href=\"/svg,1570550707/planosPagamento#icon-planosPagamento-checked\" /></svg></div></li><li class=\"planos-pagamento__vantagem\"><div class=\"planos-pagamento__wrapper planos-pagamento__wrapper--com-descricao\"> <span class=\"planos-pagamento__label\">App para Android e iPhone/iPad</span><div class=\"planos-pagamento__legenda-tooltip\"><p class=\"planos-pagamento__legenda-descricao\">Estude até mesmo offline através das nossas apps Android e iOS em smartphones e tablets</p></div></div><div class=\"planos-pagamento__checkmark planos-pagamento__checkmark--ativo\"> <svg><use xlink:href=\"/svg,1570550707/planosPagamento#icon-planosPagamento-checked\" /></svg></div></li><li class=\"planos-pagamento__vantagem\"><div class=\"planos-pagamento__wrapper planos-pagamento__wrapper--com-descricao\"> <span class=\"planos-pagamento__label\">Projeto avaliado pelos instrutores</span><div class=\"planos-pagamento__legenda-tooltip\"><p class=\"planos-pagamento__legenda-descricao\">Projeto práticos para entrega e avaliação dos professores da Alura com certificado de aprovação diferenciado</p></div></div><div class=\"planos-pagamento__checkmark \"> <svg><use xlink:href=\"/svg,1570550707/planosPagamento#icon-planosPagamento-checked\" /></svg></div></li><li class=\"planos-pagamento__vantagem\"><div class=\"planos-pagamento__wrapper planos-pagamento__wrapper--com-descricao\"> <span class=\"planos-pagamento__label\">Acesso à Alura Start</span><div class=\"planos-pagamento__legenda-tooltip\"><p class=\"planos-pagamento__legenda-descricao\">Cursos de introdução a tecnologia através de games, apps e ciência</p></div></div><div class=\"planos-pagamento__checkmark \"> <svg><use xlink:href=\"/svg,1570550707/planosPagamento#icon-planosPagamento-checked\" /></svg></div></li><li class=\"planos-pagamento__vantagem\"><div class=\"planos-pagamento__wrapper planos-pagamento__wrapper--com-descricao\"> <span class=\"planos-pagamento__label\">Acesso à Alura Língua</span><div class=\"planos-pagamento__legenda-tooltip\"><p class=\"planos-pagamento__legenda-descricao\">Reforço online de inglês e espanhol para aprimorar seu conhecimento</p></div></div><div class=\"planos-pagamento__checkmark \"> <svg><use xlink:href=\"/svg,1570550707/planosPagamento#icon-planosPagamento-checked\" /></svg></div></li></ul><div class=\"planos-pagamento__precos \"> <span class=\"planos-pagamento__numero-parcelas\"> 12X </span><div class=\"planos-pagamento__preco-parcela \"> <span class=\"planos-pagamento__valor-parcela\">R$75</div><div class=\"planos-pagamento__preco-vista\"> <span class=\"planos-pagamento__label-vista\">à vista</span> <span class=\"planos-pagamento__valor-vista\">R$900</span></div></div><a class=\"planos-pagamento__cta\" href=\"/compra/premium/\"> Matricule-se </a></div><div class=\"planos-pagamento__plano planos-pagamento__plano--premiumplus\" data-payment-plan data-payment-plan-price=\"1.200\"><div class=\"planos-pagamento__header\"><h4 class=\"planos-pagamento__nome\">Premium Plus</h4></div><ul class=\"planos-pagamento__vantagens\"><li class=\"planos-pagamento__vantagem\"><div class=\"planos-pagamento__wrapper planos-pagamento__wrapper--com-descricao\"> <span class=\"planos-pagamento__label\">971 cursos</span><div class=\"planos-pagamento__legenda-tooltip\"><p class=\"planos-pagamento__legenda-descricao\">Cursos de programação, UX, agilidade, data science, transformação digital, mobile, front-end, marketing e infra.</p></div></div><div class=\"planos-pagamento__checkmark planos-pagamento__checkmark--ativo\"> <svg><use xlink:href=\"/svg,1570550707/planosPagamento#icon-planosPagamento-checked\" /></svg></div></li><li class=\"planos-pagamento__vantagem\"><div class=\"planos-pagamento__wrapper planos-pagamento__wrapper--com-descricao\"> <span class=\"planos-pagamento__label\">Certificado de participação</span><div class=\"planos-pagamento__legenda-tooltip\"><p class=\"planos-pagamento__legenda-descricao\">Certificado de que assistiu o curso e finalizou as atividades</p></div></div><div class=\"planos-pagamento__checkmark planos-pagamento__checkmark--ativo\"> <svg><use xlink:href=\"/svg,1570550707/planosPagamento#icon-planosPagamento-checked\" /></svg></div></li><li class=\"planos-pagamento__vantagem\"><div class=\"planos-pagamento__wrapper planos-pagamento__wrapper--com-descricao\"> <span class=\"planos-pagamento__label\">App para Android e iPhone/iPad</span><div class=\"planos-pagamento__legenda-tooltip\"><p class=\"planos-pagamento__legenda-descricao\">Estude até mesmo offline através das nossas apps Android e iOS em smartphones e tablets</p></div></div><div class=\"planos-pagamento__checkmark planos-pagamento__checkmark--ativo\"> <svg><use xlink:href=\"/svg,1570550707/planosPagamento#icon-planosPagamento-checked\" /></svg></div></li><li class=\"planos-pagamento__vantagem\"><div class=\"planos-pagamento__wrapper planos-pagamento__wrapper--com-descricao\"> <span class=\"planos-pagamento__label\">Projeto avaliado pelos instrutores</span><div class=\"planos-pagamento__legenda-tooltip\"><p class=\"planos-pagamento__legenda-descricao\">Projeto práticos para entrega e avaliação dos professores da Alura com certificado de aprovação diferenciado</p></div></div><div class=\"planos-pagamento__checkmark planos-pagamento__checkmark--ativo\"> <svg><use xlink:href=\"/svg,1570550707/planosPagamento#icon-planosPagamento-checked\" /></svg></div></li><li class=\"planos-pagamento__vantagem\"><div class=\"planos-pagamento__wrapper planos-pagamento__wrapper--com-descricao\"> <span class=\"planos-pagamento__label\">Acesso à Alura Start</span><div class=\"planos-pagamento__legenda-tooltip\"><p class=\"planos-pagamento__legenda-descricao\">Cursos de introdução a tecnologia através de games, apps e ciência</p></div></div><div class=\"planos-pagamento__checkmark planos-pagamento__checkmark--ativo\"> <svg><use xlink:href=\"/svg,1570550707/planosPagamento#icon-planosPagamento-checked\" /></svg></div></li><li class=\"planos-pagamento__vantagem\"><div class=\"planos-pagamento__wrapper planos-pagamento__wrapper--com-descricao\"> <span class=\"planos-pagamento__label\">Acesso à Alura Língua</span><div class=\"planos-pagamento__legenda-tooltip\"><p class=\"planos-pagamento__legenda-descricao\">Reforço online de inglês e espanhol para aprimorar seu conhecimento</p></div></div><div class=\"planos-pagamento__checkmark \"> <svg><use xlink:href=\"/svg,1570550707/planosPagamento#icon-planosPagamento-checked\" /></svg></div></li></ul><div class=\"planos-pagamento__precos \"> <span class=\"planos-pagamento__numero-parcelas\"> 12X </span><div class=\"planos-pagamento__preco-parcela \"> <span class=\"planos-pagamento__valor-parcela\">R$100</div><div class=\"planos-pagamento__preco-vista\"> <span class=\"planos-pagamento__label-vista\">à vista</span> <span class=\"planos-pagamento__valor-vista\">R$1.200</span></div></div><a class=\"planos-pagamento__cta\" href=\"/compra/premiumplus/\"> Matricule-se </a></div><div class=\"planos-pagamento__plano planos-pagamento__plano--max\" data-payment-plan data-payment-plan-price=\"1.440\"><div class=\"planos-pagamento__header\"><h4 class=\"planos-pagamento__nome\">Max</h4></div><ul class=\"planos-pagamento__vantagens\"><li class=\"planos-pagamento__vantagem\"><div class=\"planos-pagamento__wrapper planos-pagamento__wrapper--com-descricao\"> <span class=\"planos-pagamento__label\">971 cursos</span><div class=\"planos-pagamento__legenda-tooltip\"><p class=\"planos-pagamento__legenda-descricao\">Cursos de programação, UX, agilidade, data science, transformação digital, mobile, front-end, marketing e infra.</p></div></div><div class=\"planos-pagamento__checkmark planos-pagamento__checkmark--ativo\"> <svg><use xlink:href=\"/svg,1570550707/planosPagamento#icon-planosPagamento-checked\" /></svg></div></li><li class=\"planos-pagamento__vantagem\"><div class=\"planos-pagamento__wrapper planos-pagamento__wrapper--com-descricao\"> <span class=\"planos-pagamento__label\">Certificado de participação</span><div class=\"planos-pagamento__legenda-tooltip\"><p class=\"planos-pagamento__legenda-descricao\">Certificado de que assistiu o curso e finalizou as atividades</p></div></div><div class=\"planos-pagamento__checkmark planos-pagamento__checkmark--ativo\"> <svg><use xlink:href=\"/svg,1570550707/planosPagamento#icon-planosPagamento-checked\" /></svg></div></li><li class=\"planos-pagamento__vantagem\"><div class=\"planos-pagamento__wrapper planos-pagamento__wrapper--com-descricao\"> <span class=\"planos-pagamento__label\">App para Android e iPhone/iPad</span><div class=\"planos-pagamento__legenda-tooltip\"><p class=\"planos-pagamento__legenda-descricao\">Estude até mesmo offline através das nossas apps Android e iOS em smartphones e tablets</p></div></div><div class=\"planos-pagamento__checkmark planos-pagamento__checkmark--ativo\"> <svg><use xlink:href=\"/svg,1570550707/planosPagamento#icon-planosPagamento-checked\" /></svg></div></li><li class=\"planos-pagamento__vantagem\"><div class=\"planos-pagamento__wrapper planos-pagamento__wrapper--com-descricao\"> <span class=\"planos-pagamento__label\">Projeto avaliado pelos instrutores</span><div class=\"planos-pagamento__legenda-tooltip\"><p class=\"planos-pagamento__legenda-descricao\">Projeto práticos para entrega e avaliação dos professores da Alura com certificado de aprovação diferenciado</p></div></div><div class=\"planos-pagamento__checkmark planos-pagamento__checkmark--ativo\"> <svg><use xlink:href=\"/svg,1570550707/planosPagamento#icon-planosPagamento-checked\" /></svg></div></li><li class=\"planos-pagamento__vantagem\"><div class=\"planos-pagamento__wrapper planos-pagamento__wrapper--com-descricao\"> <span class=\"planos-pagamento__label\">Acesso à Alura Start</span><div class=\"planos-pagamento__legenda-tooltip\"><p class=\"planos-pagamento__legenda-descricao\">Cursos de introdução a tecnologia através de games, apps e ciência</p></div></div><div class=\"planos-pagamento__checkmark planos-pagamento__checkmark--ativo\"> <svg><use xlink:href=\"/svg,1570550707/planosPagamento#icon-planosPagamento-checked\" /></svg></div></li><li class=\"planos-pagamento__vantagem\"><div class=\"planos-pagamento__wrapper planos-pagamento__wrapper--com-descricao\"> <span class=\"planos-pagamento__label\">Acesso à Alura Língua</span><div class=\"planos-pagamento__legenda-tooltip\"><p class=\"planos-pagamento__legenda-descricao\">Reforço online de inglês e espanhol para aprimorar seu conhecimento</p></div></div><div class=\"planos-pagamento__checkmark planos-pagamento__checkmark--ativo\"> <svg><use xlink:href=\"/svg,1570550707/planosPagamento#icon-planosPagamento-checked\" /></svg></div></li></ul><div class=\"planos-pagamento__precos \"> <span class=\"planos-pagamento__numero-parcelas\"> 12X </span><div class=\"planos-pagamento__preco-parcela \"> <span class=\"planos-pagamento__valor-parcela\">R$120</div><div class=\"planos-pagamento__preco-vista\"> <span class=\"planos-pagamento__label-vista\">à vista</span> <span class=\"planos-pagamento__valor-vista\">R$1.440</span></div></div><a class=\"planos-pagamento__cta\" href=\"/compra/max/\"> Matricule-se </a></div></div></div><a class=\"planos-pagamento__b2b\" href=\"/empresas\"> <span>Procurando planos para empresas?</span> → </a><div class=\"planosPagamento-vantagens\"><div class=\"container\"><div class=\"planosPagamento-vantagens-vantagem acesso\"> <svg><use xlink:href=\"/svg,1570550707/planosPagamento#icon-planosPagamento-acesso\"/></svg> <span>Acesso por 1 ano<span></div><div class=\"planosPagamento-vantagens-vantagem horas\"> <svg><use xlink:href=\"/svg,1570550707/planosPagamento#icon-planosPagamento-24h\"/></svg> <span>Estude 24h/dia onde e quando quiser</span></div><div class=\"planosPagamento-vantagens-vantagem novos\"> <svg><use xlink:href=\"/svg,1570550707/planosPagamento#icon-planosPagamento-cursos\"/></svg> <span>Novos cursos toda semana</span></div></div></div></section> <script src=\"/assets/js/planosPagamentoOld.1570550707.js\"></script> </main></div> <script>if (navigator.userAgent.indexOf(\\'Safari\\') > 1 && navigator.userAgent.indexOf(\\'Edge\\') < 0) document.documentElement.className += \\' home-fundo-animado\\'</script> <script src=\"/assets/js/home/categoriaCard.1570550707.js\"></script> <link rel=\"stylesheet\" href=\"/assets/css/block/footer.1570550707.css\"><footer class=\"footer\"><div class=\"container\"><div class=\"footer-navegue\"><ul class=\"footer-navegue-lista\"><li class=\"footer-navegue-lista-link\"><a href=\"/planos-cursos-online\" gtm-data=\\'footer_primeira_secao_053\\'>Planos</a></li><li class=\"footer-navegue-lista-link\"><a href=\"/cursos-online-tecnologia\" gtm-data=\\'footer_primeira_secao_054\\'>Todos os cursos</a></li><li class=\"footer-navegue-lista-link\"><a href=\"/guias\">Guias de empresas</a></li><li class=\"footer-navegue-lista-link\"><a href=\"/instrutores\" gtm-data=\\'footer_primeira_secao_056\\'>Instrutores</a></li><li class=\"footer-navegue-lista-link\"><a href=\"/quero-ser-instrutor\" gtm-data=\\'footer_primeira_secao_057\\'>Como virar instrutor</a></li><li class=\"footer-navegue-lista-link\"><a href=\"/artigos\" gtm-data=\\'footer_primeira_secao_059\\'>Artigos</a></li><li class=\"footer-navegue-lista-link\"><a href=\"/politica-de-privacidade\" gtm-data=\\'footer_primeira_secao_061\\'>Política de Privacidade</a></li><li class=\"footer-navegue-lista-link\"><a href=\"/termos-de-uso\" gtm-data=\\'footer_primeira_secao_062\\'>Termos de Uso</a></li><li class=\"footer-navegue-lista-link\"><a href=\"/sobre\" gtm-data=\\'footer_primeira_secao_063\\'>Sobre nós</a></li><li class=\"footer-navegue-lista-link\"><a href=\"https://suporte.alura.com.br/\" gtm-data=\\'footer_primeira_secao_064\\'>Perguntas frequentes</a></li></ul></div><div class=\"footer-column footer-column-cards\"><div class=\"footer-newsletter\"><h2 class=\"footer-newsletter-titulo\">Receba Novidades e Lançamentos</h2><form class=\"footer-newsletter-form\" action=\"https://cursos.alura.com.br/api/cadastra-newsletter\" method=\"POST\"> <input type=\"hidden\" name=\"retorno\" value=\"https://www.alura.com.br/newsletter-cadastrado\"><label for=\"email-newsletter\">Email</label> <input type=\"email\" name=\"email\" class=\"footer-newsletter-input\" placeholder=\"seu email\" id=\"email-newsletter\"><button type=\"submit\" class=\"footer-newsletter-button buttonForm\">OK</button></form></div><div class=\"footer-card-hotLinks\"><h2 class=\"footer-card-hotLinks-titulo\">Nossas redes e apps</h2><div class=\"footer-card-hotLinks-info footer-card-redes\"> <a href=\"https://www.youtube.com/alura\" gtm-data=\\'footer_primeira_secao_065\\' class=\"footer-card-hotLinks-link\" target=\"_blank\" title=\"YouTube da Alura\"> <svg class=\"footer-card-hotLinks-icon footer-card-hotLinks-youtube\"><use xlink:href=\"/svg,1570550707/footer#icon-footer-youtube\"/></svg> <span>YouTube</span> </a> <a href=\"https://www.facebook.com/AluraCursosOnline/\" gtm-data=\\'footer_primeira_secao_066\\' class=\"footer-card-hotLinks-link\" target=\"_blank\" title=\"Facebook da Alura\"> <svg class=\"footer-card-hotLinks-icon footer-card-hotLinks-facebook\"><use xlink:href=\"/svg,1570550707/footer#icon-footer-facebook\"/></svg> <span>Facebook</span> </a> <a href=\"https://twitter.com/aluraonline\" gtm-data=\\'footer_primeira_secao_067\\' class=\"footer-card-hotLinks-link\" target=\"_blank\" title=\"Twitter da Alura\"> <svg class=\"footer-card-hotLinks-icon footer-card-hotLinks-twitter\"><use xlink:href=\"/svg,1570550707/footer#icon-footer-twitter\"/></svg> <span>Twitter</span> </a> <a href=\"https://hipsters.tech/\" class=\"footer-card-hotLinks-link\" gtm-data=\\'footer_primeira_secao_068\\' target=\"_blank\" title=\"Podcast Hipsters Ponto Tech\"> <svg class=\"footer-card-hotLinks-icon footer-card-hotLinks-hipsters\"><use xlink:href=\"/svg,1570550707/footer#icon-footer-hipsters\"/></svg> <span>Podcast Hipsters.tech</span> </a> <a href=\"https://instagram.com/aluraonline\" class=\"footer-card-hotLinks-link\" gtm-data=\\'footer_primeira_secao_073\\' target=\"_blank\" title=\"Instagram da Alura\"> <svg class=\"footer-card-hotLinks-icon footer-card-hotLinks-instagram\"><use xlink:href=\"/svg,1570550707/footer#icon-footer-instagram\"/></svg> <span>Instagram</span> </a></div><div class=\"footer-card-hotLinks-info footer-card-mobile\"> <a href=\"https://play.google.com/store/apps/details?id=br.com.alura.mobi&hl=pt_BR\" gtm-data=\\'footer_primeira_secao_069\\' class=\"footer-card-hotLinks-link\" target=\"_blank\" title=\"Baixar na Google Play Store\"> <svg class=\"footer-card-hotLinks-icon footer-card-hotLinks-mobile\"><use xlink:href=\"/svg,1570550707/footer#icon-footer-googleplay\"/></svg> <span>Google Play Store</span> </a> <a href=\"https://itunes.apple.com/br/app/alura-cursos-online/id1225776635\" gtm-data=\\'footer_primeira_secao_070\\' class=\"footer-card-hotLinks-link\" target=\"_blank\" title=\"Baixar na AppStore\"> <svg class=\"footer-card-hotLinks-icon footer-card-hotLinks-mobile\"><use xlink:href=\"/svg,1570550707/footer#icon-footer-appstore\"/></svg> <span>AppStore</span> </a></div></div></div><div class=\"footer-column\"> <a class=\"footer-card footer-card-contato\" gtm-data=\\'footer_primeira_secao_071\\' href=\"/contato\"><div class=\"footer-card-info\"><h2 class=\"footer-card-titulo\">Fale Conosco</h2><p class=\"footer-card-texto\">Dúvida, crítica, sugestão ou elogio?</p><p class=\"footer-card-fakeLink\">Entre em contato!</p></div> </a><a class=\"footer-card footer-card-empresa\" gtm-data=\\'footer_primeira_secao_072\\' href=\"/empresas\"><div class=\"footer-card-info\"><h2 class=\"footer-card-titulo\">Empresa? Governo?</h2><p class=\"footer-card-texto\">Planos corporativos para o seu time.</p><p class=\"footer-card-fakeLink\">Saiba mais</p></div> </a></div><div class=\"footer-info\"><div class=\"footer-logos\"> <a class=\"footer-logos-home\" gtm-data=\\'footer_primeira_secao_050\\' href=\"/\"> <img src=\"/assets/img/alura-logo.1570550707.svg\" alt=\"Alura\" class=\"footer-logo\"> </a> <a href=\"https://www.caelum.com.br/\" gtm-data=\\'footer_primeira_secao_051\\' class=\"footer-link-caelum\"><h3 class=\"footer-powered-by\">Powered by</h3> <img src=\"/assets/img/footer/caelum-logo.1570550707.svg\" alt=\"Caelum\" class=\"footer-logo footer-caelumLogo\"> </a></div><div class=\"footer-cnpj\"><p> <span class=\"footer-empresa-item\">AOVS Sistemas de Informática S.A</span> <span class=\"footer-empresa-item\">CNPJ 05.555.382/0001-33</span></p></div></div></div></footer><section class=\"footer_categorias-formacoes\"><div class=\"container\"><div class=\"footer_categorias_wrapper\"><h2 class=\"footer_categorias_title\">Cursos</h2><div class=\"footer_categorias_categorias footer-navegue-lista-link\"><div class=\"footer_categorias_categoria\"> <a href=\"/cursos-online-mobile\">Cursos de Mobile</a><div class=\"footer_categorias_subcategorias\"> <a href=\"/cursos-online-mobile/ios\"> iOS e Swift</a> <a href=\"/cursos-online-mobile/android\"> Android e Kotlin</a> <a href=\"/cursos-online-mobile/multiplataforma\"> Ionic, React Native</a> <a href=\"/cursos-online-mobile/jogos\"> Jogos</a></div></div><div class=\"footer_categorias_categoria\"> <a href=\"/cursos-online-programacao\">Cursos de Programação</a><div class=\"footer_categorias_subcategorias\"> <a href=\"/cursos-online-programacao/logica\"> Lógica</a> <a href=\"/cursos-online-programacao/python\"> Python</a> <a href=\"/cursos-online-programacao/php\"> PHP</a> <a href=\"/cursos-online-programacao/java\"> Java</a> <a href=\"/cursos-online-programacao/dotnet\"> .NET</a> <a href=\"/cursos-online-programacao/node-js\"> Node JS</a> <a href=\"/cursos-online-programacao/ruby\"> Ruby & Rails</a> <a href=\"/cursos-online-programacao/linguagem-c\"> C</a> <a href=\"/cursos-online-programacao/computacao\"> Computação</a> <a href=\"/cursos-online-programacao/jogos\"> Jogos</a></div></div><div class=\"footer_categorias_categoria\"> <a href=\"/cursos-online-front-end\">Cursos de Front-end</a><div class=\"footer_categorias_subcategorias\"> <a href=\"/cursos-online-front-end/front-end\"> HTML, CSS</a> <a href=\"/cursos-online-front-end/javascript\"> JavaScript</a> <a href=\"/cursos-online-front-end/frameworks-mvc-em-javascript\"> Angular, React</a> <a href=\"/cursos-online-front-end/jquery\"> jQuery</a></div></div><div class=\"footer_categorias_categoria\"> <a href=\"/cursos-online-infraestrutura\">Cursos de Infraestrutura</a><div class=\"footer_categorias_subcategorias\"> <a href=\"/cursos-online-infraestrutura/devops\"> DevOps e Git</a> <a href=\"/cursos-online-infraestrutura/cloud-computing\"> Cloud</a> <a href=\"/cursos-online-infraestrutura/linux-comandos-e-processos\"> Linux</a> <a href=\"/cursos-online-infraestrutura/internet-das-coisas\"> IoT</a> <a href=\"/cursos-online-infraestrutura/redes\"> Redes</a></div></div><div class=\"footer_categorias_categoria\"> <a href=\"/cursos-online-design-ux\">Cursos de Design & UX</a><div class=\"footer_categorias_subcategorias\"> <a href=\"/cursos-online-design-ux/wwww\"> Photoshop e Illustrator</a> <a href=\"/cursos-online-design-ux/ux\"> Usabilidade e UX</a> <a href=\"/cursos-online-design-ux/video\"> Vídeo e Motion</a> <a href=\"/cursos-online-design-ux/3d\"> 3D</a></div></div><div class=\"footer_categorias_categoria\"> <a href=\"/cursos-online-marketing-digital\">Cursos de Marketing Digital</a><div class=\"footer_categorias_subcategorias\"> <a href=\"/cursos-online-marketing-digital/ads\"> Ads</a> <a href=\"/cursos-online-marketing-digital/marketing-digital\"> Marketing</a> <a href=\"/cursos-online-marketing-digital/seo\"> SEO</a> <a href=\"/cursos-online-marketing-digital/e-commerce\"> E-commerce</a> <a href=\"/cursos-online-marketing-digital/social-media\"> Social Media</a> <a href=\"/cursos-online-marketing-digital/youtube\"> YouTube</a></div></div><div class=\"footer_categorias_categoria\"> <a href=\"/cursos-online-data-science\">Cursos de Data Science</a><div class=\"footer_categorias_subcategorias\"> <a href=\"/cursos-online-data-science/sql\"> SQL e Banco de Dados</a> <a href=\"/cursos-online-data-science/nosql\"> NoSQL</a> <a href=\"/cursos-online-data-science/data-science\"> Data Science</a> <a href=\"/cursos-online-data-science/machine-learning\"> Machine Learning</a> <a href=\"/cursos-online-data-science/business-intelligence\"> BI</a> <a href=\"/cursos-online-data-science/estatistica\"> Estatística</a> <a href=\"/cursos-online-data-science/excel\"> Excel</a></div></div><div class=\"footer_categorias_categoria\"> <a href=\"/cursos-online-inovacao-gestao\">Cursos de Inovação & Gestão</a><div class=\"footer_categorias_subcategorias\"> <a href=\"/cursos-online-inovacao-gestao/agilidade\"> Métodos Ágeis</a> <a href=\"/cursos-online-inovacao-gestao/habilidades-interpessoais\"> Softskills</a> <a href=\"/cursos-online-inovacao-gestao/lideranca-gestao-estrategica\"> Liderança e Gestão</a> <a href=\"/cursos-online-inovacao-gestao/startup-empreendedorismo\"> Empreendedorismo</a></div></div></div></div></div></section><style>@media not all and (min-width: 1000px){ .grupoCaelum{ display: none; } } .grupoCaelum{ background: #fff; height: 240px; border-top: 1px solid #EBEBEE; } .grupoCaelum .container{ display: flex; justify-content: space-between; align-items: flex-start; padding-top: 0; padding-bottom: 0; height: 100%; } .grupoCaelum-list{ display: flex; list-style: none; width: 60%; justify-content: space-between; align-items: flex-start; margin-top: 20px; } .grupoCaelum-title{ width: 20%; } .grupoCaelum-column { display: inline-block; padding-left: 19px; width: 240px; height: 210px; min-width: 160px; } .grupoCaelum-column-title { font-size: 10px; color: #d7e0e5; text-transform: uppercase; font-weight: 600; margin-bottom: 19px; } .grupoCaelum-column-list { list-style: none; } .column-item-title { font-size: 11px; text-align: center; vertical-align: middle; display: inline-block; margin-left: 6.5px; } .grupoCaelum-column:not(:first-child) { border-left: solid 1px #e3e9ed; } .grupoCaelum-title { display: inline-block; text-decoration: none; color: #657176; letter-spacing: normal; font-size: 18px; margin-top: 54px; } .column-item-logo { width: 30px; height: 30px; vertical-align: middle; display: inline-block; } .column-item { margin-bottom: 17px; } .column-item a{ text-decoration: none; color: #657176; }</style><footer class=\"caelum-footer\"><div class=\"grupoCaelum\"><div class=\"container\"><p class=\"grupoCaelum-title\">Grupo Caelum Alura</p><ul class=\"grupoCaelum-list\"><li class=\"grupoCaelum-column\"><p class=\"grupoCaelum-column-title\">Educação</p><ul class=\"grupoCaelum-column-list\"><li class=\"column-item\"> <a target=\"_blank\" href=\"https://www.caelum.com.br\"> <svg class=\"column-item-logo\"><use xlink:href=\"/svg,1570550707/caelumFooter#icon-caelumFooter-caelum\"><span class=\"column-item-title\">Caelum</span></svg> </a></li><li class=\"column-item\"> <a target=\"_blank\" href=\"https://www.casadocodigo.com.br\"> <svg class=\"column-item-logo\"><use xlink:href=\"/svg,1570550707/caelumFooter#icon-caelumFooter-cdc\"><span class=\"column-item-title\">Casa do Código</span></svg> </a></li></ul></li><li class=\"grupoCaelum-column\"><p class=\"grupoCaelum-column-title\">Educação Online</p><ul class=\"grupoCaelum-column-list\"><li class=\"column-item\"> <a target=\"_blank\" href=\"https://www.alura.com.br\"> <svg class=\"column-item-logo\"><use xlink:href=\"/svg,1570550707/caelumFooter#icon-caelumFooter-alura\"><span class=\"column-item-title\">Alura</span></svg> </a></li><li class=\"column-item\"> <a target=\"_blank\" href=\"https://www.alurastart.com.br\"> <svg class=\"column-item-logo\"><use xlink:href=\"/svg,1570550707/caelumFooter#icon-caelumFooter-alurastart\"><span class=\"column-item-title\">Alura Start</span></svg> </a></li><li class=\"column-item\"> <a target=\"_blank\" href=\"https://www.musicdot.com.br\"> <svg class=\"column-item-logo\"><use xlink:href=\"/svg,1570550707/caelumFooter#icon-caelumFooter-musicdot\"><span class=\"column-item-title\">MusicDot</span></svg> </a></li><li class=\"column-item\"> <a target=\"_blank\" href=\"https://www.aluralingua.com.br\"> <svg class=\"column-item-logo\"><use xlink:href=\"/svg,1570550707/caelumFooter#icon-caelumFooter-aluralingua\"><span class=\"column-item-title\">Alura Língua</span></svg> </a></li></ul></li><li class=\"grupoCaelum-column\"><p class=\"grupoCaelum-column-title\">Comunidade</p><ul class=\"grupoCaelum-column-list\"><li class=\"column-item\"> <a target=\"_blank\" href=\"https://hipsters.tech\"> <svg class=\"column-item-logo\"><use xlink:href=\"/svg,1570550707/caelumFooter#icon-caelumFooter-hipsterstech\"><span class=\"column-item-title\">Hipsters ponto Tech</span></svg> </a></li><li class=\"column-item\"> <a target=\"_blank\" href=\"https://hipsters.jobs\"> <svg class=\"column-item-logo\"><use xlink:href=\"/svg,1570550707/caelumFooter#icon-caelumFooter-hipstersjobs\"><span class=\"column-item-title\">Hipsters ponto Jobs</span></svg> </a></li><li class=\"column-item\"> <a target=\"_blank\" href=\"https://www.guj.com.br\"> <svg class=\"column-item-logo\"><use xlink:href=\"/svg,1570550707/caelumFooter#icon-caelumFooter-guj\"><span class=\"column-item-title\">GUJ</span></svg> </a></li></ul></li></ul></div></div></footer> <script>(function(){ var match = location.pathname.match(/\\\\/(bf-|blackfriday\\\\/)([^\\\\/]+)/); if (match != null) { var links = document.querySelectorAll(\\'a[href]\\'); for (var i = 0; i < links.length; i++) { var href = links[i].getAttribute(\\'href\\'); if (href[0] === \\'/\\') { links[i].setAttribute(\\'href\\', \\'/bf-\\' + match[2] + href); } } } })();</script> <script src=\"/assets/js/lib/svg4everybody.min.1570550707.js\" async></script> <script src=\"/assets/js/header/menu.1570550707.js\" async></script> <script src=\"/assets/js/header/busca.1570550707.js\" async></script> <script src=\"/assets/js/header/cursos.1570550707.js\" async></script> <script src=\"/assets/js/detect.1570550707.js\" async></script> <script src=\"/assets/js/video.1571773177.js\" async></script> <script src=\"/assets/js/Countdown.1571149146.js\" async></script> <script>var userId = (document.cookie.match(\\'alura.userId=([^;]+)\\')||[null,null])[1]; window.ga=window.ga||function(){(ga.q=ga.q||[]).push(arguments)};ga.l=+new Date; ga(\\'create\\', \\'UA-42101548-1\\', \\'alura.com.br\\', \\'tracker0\\', {\\'siteSpeedSampleRate\\': 50}); if (userId) ga(\\'tracker0.set\\', \\'userId\\', userId); ga(\\'tracker0.require\\', \\'displayfeatures\\'); ga(\\'tracker0.send\\', \\'pageview\\'); ga(\\'create\\', \\'UA-42101548-9\\', \\'alura.com.br\\', \\'tracker1\\', {\\'siteSpeedSampleRate\\': 50}); if (userId) ga(\\'tracker1.set\\', \\'userId\\', userId); ga(\\'tracker1.require\\', \\'displayfeatures\\'); ga(\\'tracker1.send\\', \\'pageview\\');</script> <script async src=\\'//www.google-analytics.com/analytics.js\\'></script> <script src=\"/assets/js/footer/footer.1570550707.js\" async></script> <script src=\"https://static.criteo.net/js/ld/ld.js\" async></script> <script>function criteoPush(event, data){ var isAluno = document.cookie.match(\\'alura.userId=([^;]+)\\') != null; if(isAluno) return; window.criteo_q = window.criteo_q || []; window.criteo_q.push( { event: \"setAccount\", account: 28037 }, { event: \"setEmail\", email: \"\" }, { event: \"setSiteType\", type: (/iPad/.test(navigator.userAgent) ? \"t\" : (/Mobile|iP(hone|od)|Android|BlackBerry|IEMobile/.test(navigator.userAgent) ? \"m\" : \"d\")) }, { event: event, item: data} ); }; criteoPush(\"viewHome\", \"\"); var criteoIdEl = document.querySelector(\\'[data-criteo-id]\\'); if (criteoIdEl) { var products = JSON.parse(criteoIdEl.dataset.criteoId); var planos = document.querySelectorAll(\\'[data-payment-plan]\\'); planos.forEach(function (plano) { plano.addEventListener(\\'click\\', function (event) { var price = plano.dataset.paymentPlanPrice; var totalProducts = products.length; var productIds = \\'\\'; for(var i = 0; i < totalProducts; i++){ products[i][\\'price\\'] = price; products[i][\\'quantity\\'] = 1; productIds += \\',\\' + products[i][\\'id\\']; } productIds = productIds.substr(1); // monta cookie pro Cart indicando quais cursos foram clicados document.cookie = \"criteo.productIds=\" + productIds + \"; path=/; domain=.alura.com.br\"; // manda pro criteo criteoPush(\"viewBasket\", products); }); }); }</script> <script type=\"text/javascript\">_linkedin_partner_id = \"465017\"; window._linkedin_data_partner_ids = window._linkedin_data_partner_ids || []; window._linkedin_data_partner_ids.push(_linkedin_partner_id);</script> <script type=\"text/javascript\">(function(){var s = document.getElementsByTagName(\"script\")[0]; var b = document.createElement(\"script\"); b.type = \"text/javascript\";b.async = true; b.src = \"https://snap.licdn.com/li.lms-analytics/insight.min.js\"; s.parentNode.insertBefore(b, s);})();</script> <noscript> <img height=\"1\" width=\"1\" style=\"display:none;\" alt=\"\" src=\"https://dc.ads.linkedin.com/collect/?pid=465017&fmt=gif\" /> </noscript></body></html>'"
            ]
          },
          "metadata": {
            "tags": []
          },
          "execution_count": 12
        }
      ]
    },
    {
      "cell_type": "code",
      "metadata": {
        "id": "7hYHJeC84hOb",
        "colab_type": "code",
        "outputId": "39862322-969a-41b0-b4ef-acb0fe6cf3f9",
        "colab": {
          "base_uri": "https://localhost:8080/",
          "height": 0
        }
      },
      "source": [
        "\" \".join(html.split()).replace('> <', '><')"
      ],
      "execution_count": 13,
      "outputs": [
        {
          "output_type": "execute_result",
          "data": {
            "text/plain": [
              "'<!DOCTYPE html><html lang=\"pt-BR\"><head><meta charset=\"UTF-8\"><meta name=\"viewport\" content=\"width=device-width,initial-scale=1,minimum-scale=1.0\"><title>Alura | Cursos online de tecnologia</title><meta name=\"description\" content=\"Aprenda Programação, Mobile, Front-end, Design, UX, Infraestrutura, Marketing Digital, Data Science, Inovação e Gestão com didática inovadora focada no mercado real de trabalho\"><link rel=\"canonical\" href=\"https://www.alura.com.br\"><link href=\"https://fonts.googleapis.com/css?display=swap&family=Open+Sans:300,400,400i,600,700,800\" rel=\"stylesheet\" crossorigin><link rel=\"preconnect\" href=\"https://fonts.gstatic.com/\" crossorigin><link rel=\"stylesheet\" href=\"/bundle,base/_reset,base/base,base/buttons,base/colors,base/titulos.1572363839.css\"><link rel=\"stylesheet\" href=\"/bundle,home/homeNova/career-colors,home/homeNova/careers,home/homeNova/companies,home/homeNova/features,home/homeNova/home,home/homeNova/mobile,home/homeNova/testimonies.1572363839.css\"><link rel=\"stylesheet\" href=\"/assets/css/block/elasticMedia.1570550707.css\"><meta property=\"og:locale\" content=\"pt_BR\"><meta property=\"og:description\" content=\"Aprenda Programação, Mobile, Front-end, Design, UX, Infraestrutura, Marketing Digital, Data Science, Inovação e Gestão com didática inovadora focada no mercado real de trabalho\"><meta property=\"og:title\" content=\"Alura | Cursos online de tecnologia\"><meta property=\"og:site_name\" content=\"Alura\"><meta property=\"og:url\" content=\"https://www.alura.com.br/\"><meta property=\"og:image\" content=\"https://www.alura.com.br/assets/img/alura-share.1571848411.png\"><meta property=\"og:image:alt\" content=\"Alura logo\"><meta property=\"fb:app_id\" content=\"140078819399376\"><meta property=\"og:type\" content=\"website\"><meta name=\"twitter:card\" content=\"summary_large_image\"><meta name=\"theme-color\" content=\"#2A7AE4\"></head><body class=\"\"><script>(function(w,d,s,l,i){w[l]=w[l]||[];w[l].push({\\'gtm.start\\': new Date().getTime(),event:\\'gtm.js\\'});var f=d.getElementsByTagName(s)[0], j=d.createElement(s),dl=l!=\\'dataLayer\\'?\\'&l=\\'+l:\\'\\';j.async=true;j.src= \\'https://www.googletagmanager.com/gtm.js?id=\\'+i+dl;f.parentNode.insertBefore(j,f); })(window,document,\\'script\\',\\'dataLayer\\',\\'GTM-TN542JN\\');</script><noscript><iframe src=\"https://www.googletagmanager.com/ns.html?id=GTM-TN542JN\" height=\"0\" width=\"0\" style=\"display:none;visibility:hidden\"></iframe></noscript><script>setTimeout(function() { new Image().src = \"https://www.facebook.com/tr?id=1067810189950610&ev=PageView&noscript=1\"; }, 300);</script><script type=\"application/ld+json\">{ \"@context\": \"http://schema.org\", \"@type\": \"BreadcrumbList\", \"itemListElement\": [{ \"@type\": \"ListItem\", \"position\": 1, \"item\": { \"@id\": \"https://www.alura.com.br\", \"name\": \"Alura\" } } ] }</script><div class=\"home\"><div class=\"home__header\"><link rel=\"stylesheet\" href=\"/assets/css/block/header.1570550707.css\"><link rel=\"stylesheet\" href=\"/assets/css/block/headerHome.1570550707.css\"><style>@media (min-width: 1100px) { .header-navegacao-cursos-lista { display: none; } .header__nav { border: none; margin-top:10px; } .header { padding-bottom: 0; } }</style><header class=\"header--home\"><div class=\"container\"><nav class=\"header__nav--home\"><a href=\"/\" class=\"header__nav__link--home header__nav__link--logo\"><img class=\"header__nav__link__logo\" alt=\"Alura\" src=\"/assets/img/home/alura-logo.1570550707.svg\"></a><div class=\"header__nav__wrapper--home header__nav__wrapper--ctas--home\"><div href=\"/busca\" class=\"header-utilitario-busca header-utilitario-busca--home\" aria-label=\"Busca\"><svg class=\"header-utilitario-busca-icone--home\" xmlns:xlink=\"http://www.w3.org/1999/xlink\"><use xlink:href=\"/svg,1570550707/header#icon-header-busca-home\"/></svg></div><a href=\"https://cursos.alura.com.br/loginForm?urlAfterLogin=https://cursos.alura.com.br/dashboard\" class=\"header__nav__link--home header__nav__link--entrar--home\">Entrar</a><a href=\"/planos-cursos-online\" class=\"header__nav__link--home header__nav__link--cta--home\">Matricule-se</a></div><div class=\"header__nav__wrapper--home header__nav__wrapper--menu header__nav__wrapper--menu--home\"><div class=\"header-barraBusca header-barraBusca--home\"><div class=\"container\"><form action=\"/busca\" class=\"header-barraBusca-form\"><label for=\"header-barraBusca-form-campoBusca\">Qual curso procura?</label><input type=\"search\" id=\"header-barraBusca-form-campoBusca\" name=\"query\" class=\"header-barraBusca-form-serch-input header-barra-busca--home\" placeholder=\"O que você quer aprender?\"><button class=\"header-barraBusca-form-submit\" type=\"submit\">Buscar</button></form></div></div><div href=\"/cursos-online-tecnologia\" class=\"nav__courses__link--home header-navegacao-cursos header-navegacao-cursos--home header__menu-options--home header__menu-allcourses--home\"><svg class=\"header-navegacao-cursos-icone\" xmlns:xlink=\"http://www.w3.org/1999/xlink\"><use xlink:href=\"/svg,1570550707/header#icon-header-icon-arrow-home\"/></svg><span>Todos os</span><span>Cursos</span></div><a href=\"/formacoes\" class=\"nav__courses__link--home header__menu-options--home\"><span>Formações</span></a><a href=\"/empresas\" class=\"nav__courses__link--home header__menu-options--home\"><span>Para</span><span>Empresas</span></a><a href=\"/como-funciona\" class=\"nav__courses__link--home header__menu-options--home\"><span>Como</span><span>Funciona</span></a></div><ul class=\"header-navegacao-cursos-lista container header__menu-allcourses--home\"><li class=\"header-cursos-lista-categoria \"><a href=\"/cursos-online-mobile\" class=\"unlinkify\"><svg class=\"header-cursos-lista-categoria--icon\" xmlns:xlink=\"http://www.w3.org/1999/xlink\"><use xlink:href=\"/svg,1570550707/categorias#icon-categorias-mobile\"/></svg><div class=\"header-lista-categoria-nome--home\"><span>Mobile</span></div></a></li><li class=\"header-cursos-lista-categoria \"><a href=\"/cursos-online-programacao\" class=\"unlinkify\"><svg class=\"header-cursos-lista-categoria--icon\" xmlns:xlink=\"http://www.w3.org/1999/xlink\"><use xlink:href=\"/svg,1570550707/categorias#icon-categorias-programacao\"/></svg><div class=\"header-lista-categoria-nome--home\"><span>Programação</span></div></a></li><li class=\"header-cursos-lista-categoria \"><a href=\"/cursos-online-front-end\" class=\"unlinkify\"><svg class=\"header-cursos-lista-categoria--icon\" xmlns:xlink=\"http://www.w3.org/1999/xlink\"><use xlink:href=\"/svg,1570550707/categorias#icon-categorias-front-end\"/></svg><div class=\"header-lista-categoria-nome--home\"><span>Front-end</span></div></a></li><li class=\"header-cursos-lista-categoria \"><a href=\"/cursos-online-infraestrutura\" class=\"unlinkify\"><svg class=\"header-cursos-lista-categoria--icon\" xmlns:xlink=\"http://www.w3.org/1999/xlink\"><use xlink:href=\"/svg,1570550707/categorias#icon-categorias-infraestrutura\"/></svg><div class=\"header-lista-categoria-nome--home\"><span>Infraestrutura</span></div></a></li><li class=\"header-cursos-lista-categoria \"><a href=\"/cursos-online-design-ux\" class=\"unlinkify\"><svg class=\"header-cursos-lista-categoria--icon\" xmlns:xlink=\"http://www.w3.org/1999/xlink\"><use xlink:href=\"/svg,1570550707/categorias#icon-categorias-design-ux\"/></svg><div class=\"header-lista-categoria-nome--home\"><span>Design & UX</span></div></a></li><li class=\"header-cursos-lista-categoria \"><a href=\"/cursos-online-marketing-digital\" class=\"unlinkify\"><svg class=\"header-cursos-lista-categoria--icon\" xmlns:xlink=\"http://www.w3.org/1999/xlink\"><use xlink:href=\"/svg,1570550707/categorias#icon-categorias-marketing-digital\"/></svg><div class=\"header-lista-categoria-nome--home\"><span>Marketing Digital</span></div></a></li><li class=\"header-cursos-lista-categoria \"><a href=\"/cursos-online-data-science\" class=\"unlinkify\"><svg class=\"header-cursos-lista-categoria--icon\" xmlns:xlink=\"http://www.w3.org/1999/xlink\"><use xlink:href=\"/svg,1570550707/categorias#icon-categorias-data-science\"/></svg><div class=\"header-lista-categoria-nome--home\"><span>Data Science</span></div></a></li><li class=\"header-cursos-lista-categoria \"><a href=\"/cursos-online-inovacao-gestao\" class=\"unlinkify\"><svg class=\"header-cursos-lista-categoria--icon\" xmlns:xlink=\"http://www.w3.org/1999/xlink\"><use xlink:href=\"/svg,1570550707/categorias#icon-categorias-inovacao-gestao\"/></svg><div class=\"header-lista-categoria-nome--home\"><span>Inovação & Gestão</span></div></a></li></ul></nav></div></header><div class=\"container\"><div class=\"home--background\"><div class=\"home__titles\"><h1 class=\"home__titles__main-title\">Cursos de Tecnologia e Negócios Digitais</h1><p class=\"home__titles__sub-title\">Você vai estudar, praticar, discutir e aprender em uma comunidade de inquietos e inovadores</p></div></div><link rel=\"stylesheet\" href=\"/assets/css/block/categories.1570550707.css\"><link rel=\"stylesheet\" href=\"/assets/css/block/navCategoriasHome.1572363839.css\"><link rel=\"stylesheet\" href=\"/assets/css/block/navCategoriasHome.1572363839.css\"><nav class=\"categories--home\"><div class=\"categories__elements--home\"><div class=\"categories__wrapper__links--home\"><a class=\"categories__link--home\" href=\"/cursos-online-mobile\"><div class=\"categories__link-wrapper--home\"><div class=\"categories__svg-wrapper--home\" style=\"background:#ffba05;\"><svg class=\"pagina-categoria__svg--home categories__svg--home\" xmlns:xlink=\"http://www.w3.org/1999/xlink\"><use xlink:href=\"/svg,1570550707/categorias#icon-categorias-mobile\"/></svg></div><div style=\"color:#ffba05;\"><span class=\"categories__link__text\">Cursos de</span><h4 class=\"categories__link__category-name\">Mobile</h4></div></div></a><nav class=\"categories__calls--home\"><a href=\"/cursos-online-mobile/ios\" class=\"categories__calls__description--home\">iOS e Swift</a><span class=\"categories__calls__description-separator\">, </span><a href=\"/cursos-online-mobile/android\" class=\"categories__calls__description--home\">Android e Kotlin</a><span class=\"categories__calls__description-separator\">, </span><a href=\"/cursos-online-mobile/multiplataforma\" class=\"categories__calls__description--home\">Ionic, React Native</a><span class=\"categories__calls__description-separator\">, </span><a href=\"/cursos-online-mobile/jogos\" class=\"categories__calls__description--home\">Jogos</a><span class=\"categories__calls__description-separator\">, </span><a href=\"/cursos-online-mobile\" class=\"categories__calls__link-see-more--home\">e mais...</a></nav></div><div class=\"categories__wrapper__links--home\"><a class=\"categories__link--home\" href=\"/cursos-online-programacao\"><div class=\"categories__link-wrapper--home\"><div class=\"categories__svg-wrapper--home\" style=\"background:#00c86f;\"><svg class=\"pagina-categoria__svg--home categories__svg--home\" xmlns:xlink=\"http://www.w3.org/1999/xlink\"><use xlink:href=\"/svg,1570550707/categorias#icon-categorias-programacao\"/></svg></div><div style=\"color:#00c86f;\"><span class=\"categories__link__text\">Cursos de</span><h4 class=\"categories__link__category-name\">Programação</h4></div></div></a><nav class=\"categories__calls--home\"><a href=\"/cursos-online-programacao/logica\" class=\"categories__calls__description--home\">Lógica</a><span class=\"categories__calls__description-separator\">, </span><a href=\"/cursos-online-programacao/python\" class=\"categories__calls__description--home\">Python</a><span class=\"categories__calls__description-separator\">, </span><a href=\"/cursos-online-programacao/php\" class=\"categories__calls__description--home\">PHP</a><span class=\"categories__calls__description-separator\">, </span><a href=\"/cursos-online-programacao/java\" class=\"categories__calls__description--home\">Java</a><span class=\"categories__calls__description-separator\">, </span><a href=\"/cursos-online-programacao/dotnet\" class=\"categories__calls__description--home\">.NET</a><span class=\"categories__calls__description-separator\">, </span><a href=\"/cursos-online-programacao/node-js\" class=\"categories__calls__description--home\">Node JS</a><span class=\"categories__calls__description-separator\">, </span><a href=\"/cursos-online-programacao/ruby\" class=\"categories__calls__description--home\">Ruby & Rails</a><span class=\"categories__calls__description-separator\">, </span><a href=\"/cursos-online-programacao/linguagem-c\" class=\"categories__calls__description--home\">C</a><span class=\"categories__calls__description-separator\">, </span><a href=\"/cursos-online-programacao/computacao\" class=\"categories__calls__description--home\">Computação</a><span class=\"categories__calls__description-separator\">, </span><a href=\"/cursos-online-programacao/jogos\" class=\"categories__calls__description--home\">Jogos</a><span class=\"categories__calls__description-separator\">, </span><a href=\"/cursos-online-programacao\" class=\"categories__calls__link-see-more--home\">e mais...</a></nav></div><div class=\"categories__wrapper__links--home\"><a class=\"categories__link--home\" href=\"/cursos-online-front-end\"><div class=\"categories__link-wrapper--home\"><div class=\"categories__svg-wrapper--home\" style=\"background:#6bd1ff;\"><svg class=\"pagina-categoria__svg--home categories__svg--home\" xmlns:xlink=\"http://www.w3.org/1999/xlink\"><use xlink:href=\"/svg,1570550707/categorias#icon-categorias-front-end\"/></svg></div><div style=\"color:#6bd1ff;\"><span class=\"categories__link__text\">Cursos de</span><h4 class=\"categories__link__category-name\">Front-end</h4></div></div></a><nav class=\"categories__calls--home\"><a href=\"/cursos-online-front-end/front-end\" class=\"categories__calls__description--home\">HTML, CSS</a><span class=\"categories__calls__description-separator\">, </span><a href=\"/cursos-online-front-end/javascript\" class=\"categories__calls__description--home\">JavaScript</a><span class=\"categories__calls__description-separator\">, </span><a href=\"/cursos-online-front-end/frameworks-mvc-em-javascript\" class=\"categories__calls__description--home\">Angular, React</a><span class=\"categories__calls__description-separator\">, </span><a href=\"/cursos-online-front-end/jquery\" class=\"categories__calls__description--home\">jQuery</a><span class=\"categories__calls__description-separator\">, </span><a href=\"/cursos-online-front-end\" class=\"categories__calls__link-see-more--home\">e mais...</a></nav></div><div class=\"categories__wrapper__links--home\"><a class=\"categories__link--home\" href=\"/cursos-online-infraestrutura\"><div class=\"categories__link-wrapper--home\"><div class=\"categories__svg-wrapper--home\" style=\"background:#f16165;\"><svg class=\"pagina-categoria__svg--home categories__svg--home\" xmlns:xlink=\"http://www.w3.org/1999/xlink\"><use xlink:href=\"/svg,1570550707/categorias#icon-categorias-infraestrutura\"/></svg></div><div style=\"color:#f16165;\"><span class=\"categories__link__text\">Cursos de</span><h4 class=\"categories__link__category-name\">Infraestrutura</h4></div></div></a><nav class=\"categories__calls--home\"><a href=\"/cursos-online-infraestrutura/devops\" class=\"categories__calls__description--home\">DevOps e Git</a><span class=\"categories__calls__description-separator\">, </span><a href=\"/cursos-online-infraestrutura/cloud-computing\" class=\"categories__calls__description--home\">Cloud</a><span class=\"categories__calls__description-separator\">, </span><a href=\"/cursos-online-infraestrutura/linux-comandos-e-processos\" class=\"categories__calls__description--home\">Linux</a><span class=\"categories__calls__description-separator\">, </span><a href=\"/cursos-online-infraestrutura/internet-das-coisas\" class=\"categories__calls__description--home\">IoT</a><span class=\"categories__calls__description-separator\">, </span><a href=\"/cursos-online-infraestrutura/redes\" class=\"categories__calls__description--home\">Redes</a><span class=\"categories__calls__description-separator\">, </span><a href=\"/cursos-online-infraestrutura\" class=\"categories__calls__link-see-more--home\">e mais...</a></nav></div><div class=\"categories__wrapper__links--home\"><a class=\"categories__link--home\" href=\"/cursos-online-design-ux\"><div class=\"categories__link-wrapper--home\"><div class=\"categories__svg-wrapper--home\" style=\"background:#dc6ebe;\"><svg class=\"pagina-categoria__svg--home categories__svg--home\" xmlns:xlink=\"http://www.w3.org/1999/xlink\"><use xlink:href=\"/svg,1570550707/categorias#icon-categorias-design-ux\"/></svg></div><div style=\"color:#dc6ebe;\"><span class=\"categories__link__text\">Cursos de</span><h4 class=\"categories__link__category-name\">Design & UX</h4></div></div></a><nav class=\"categories__calls--home\"><a href=\"/cursos-online-design-ux/wwww\" class=\"categories__calls__description--home\">Photoshop e Illustrator</a><span class=\"categories__calls__description-separator\">, </span><a href=\"/cursos-online-design-ux/ux\" class=\"categories__calls__description--home\">Usabilidade e UX</a><span class=\"categories__calls__description-separator\">, </span><a href=\"/cursos-online-design-ux/video\" class=\"categories__calls__description--home\">Vídeo e Motion</a><span class=\"categories__calls__description-separator\">, </span><a href=\"/cursos-online-design-ux/3d\" class=\"categories__calls__description--home\">3D</a><span class=\"categories__calls__description-separator\">, </span><a href=\"/cursos-online-design-ux\" class=\"categories__calls__link-see-more--home\">e mais...</a></nav></div><div class=\"categories__wrapper__links--home\"><a class=\"categories__link--home\" href=\"/cursos-online-marketing-digital\"><div class=\"categories__link-wrapper--home\"><div class=\"categories__svg-wrapper--home\" style=\"background:#6b5be2;\"><svg class=\"pagina-categoria__svg--home categories__svg--home\" xmlns:xlink=\"http://www.w3.org/1999/xlink\"><use xlink:href=\"/svg,1570550707/categorias#icon-categorias-marketing-digital\"/></svg></div><div style=\"color:#6b5be2;\"><span class=\"categories__link__text\">Cursos de</span><h4 class=\"categories__link__category-name\">Marketing Digital</h4></div></div></a><nav class=\"categories__calls--home\"><a href=\"/cursos-online-marketing-digital/ads\" class=\"categories__calls__description--home\">Ads</a><span class=\"categories__calls__description-separator\">, </span><a href=\"/cursos-online-marketing-digital/marketing-digital\" class=\"categories__calls__description--home\">Marketing</a><span class=\"categories__calls__description-separator\">, </span><a href=\"/cursos-online-marketing-digital/seo\" class=\"categories__calls__description--home\">SEO</a><span class=\"categories__calls__description-separator\">, </span><a href=\"/cursos-online-marketing-digital/e-commerce\" class=\"categories__calls__description--home\">E-commerce</a><span class=\"categories__calls__description-separator\">, </span><a href=\"/cursos-online-marketing-digital/social-media\" class=\"categories__calls__description--home\">Social Media</a><span class=\"categories__calls__description-separator\">, </span><a href=\"/cursos-online-marketing-digital/youtube\" class=\"categories__calls__description--home\">YouTube</a><span class=\"categories__calls__description-separator\">, </span><a href=\"/cursos-online-marketing-digital\" class=\"categories__calls__link-see-more--home\">e mais...</a></nav></div><div class=\"categories__wrapper__links--home\"><a class=\"categories__link--home\" href=\"/cursos-online-data-science\"><div class=\"categories__link-wrapper--home\"><div class=\"categories__svg-wrapper--home\" style=\"background:#9cd33b;\"><svg class=\"pagina-categoria__svg--home categories__svg--home\" xmlns:xlink=\"http://www.w3.org/1999/xlink\"><use xlink:href=\"/svg,1570550707/categorias#icon-categorias-data-science\"/></svg></div><div style=\"color:#9cd33b;\"><span class=\"categories__link__text\">Cursos de</span><h4 class=\"categories__link__category-name\">Data Science</h4></div></div></a><nav class=\"categories__calls--home\"><a href=\"/cursos-online-data-science/sql\" class=\"categories__calls__description--home\">SQL e Banco de Dados</a><span class=\"categories__calls__description-separator\">, </span><a href=\"/cursos-online-data-science/nosql\" class=\"categories__calls__description--home\">NoSQL</a><span class=\"categories__calls__description-separator\">, </span><a href=\"/cursos-online-data-science/data-science\" class=\"categories__calls__description--home\">Data Science</a><span class=\"categories__calls__description-separator\">, </span><a href=\"/cursos-online-data-science/machine-learning\" class=\"categories__calls__description--home\">Machine Learning</a><span class=\"categories__calls__description-separator\">, </span><a href=\"/cursos-online-data-science/business-intelligence\" class=\"categories__calls__description--home\">BI</a><span class=\"categories__calls__description-separator\">, </span><a href=\"/cursos-online-data-science/estatistica\" class=\"categories__calls__description--home\">Estatística</a><span class=\"categories__calls__description-separator\">, </span><a href=\"/cursos-online-data-science/excel\" class=\"categories__calls__description--home\">Excel</a><span class=\"categories__calls__description-separator\">, </span><a href=\"/cursos-online-data-science\" class=\"categories__calls__link-see-more--home\">e mais...</a></nav></div><div class=\"categories__wrapper__links--home\"><a class=\"categories__link--home\" href=\"/cursos-online-inovacao-gestao\"><div class=\"categories__link-wrapper--home\"><div class=\"categories__svg-wrapper--home\" style=\"background:#ff8c2a;\"><svg class=\"pagina-categoria__svg--home categories__svg--home\" xmlns:xlink=\"http://www.w3.org/1999/xlink\"><use xlink:href=\"/svg,1570550707/categorias#icon-categorias-inovacao-gestao\"/></svg></div><div style=\"color:#ff8c2a;\"><span class=\"categories__link__text\">Cursos de</span><h4 class=\"categories__link__category-name\">Inovação & Gestão</h4></div></div></a><nav class=\"categories__calls--home\"><a href=\"/cursos-online-inovacao-gestao/agilidade\" class=\"categories__calls__description--home\">Métodos Ágeis</a><span class=\"categories__calls__description-separator\">, </span><a href=\"/cursos-online-inovacao-gestao/habilidades-interpessoais\" class=\"categories__calls__description--home\">Softskills</a><span class=\"categories__calls__description-separator\">, </span><a href=\"/cursos-online-inovacao-gestao/lideranca-gestao-estrategica\" class=\"categories__calls__description--home\">Liderança e Gestão</a><span class=\"categories__calls__description-separator\">, </span><a href=\"/cursos-online-inovacao-gestao/startup-empreendedorismo\" class=\"categories__calls__description--home\">Empreendedorismo</a><span class=\"categories__calls__description-separator\">, </span><a href=\"/cursos-online-inovacao-gestao\" class=\"categories__calls__link-see-more--home\">e mais...</a></nav></div></div></nav></div></div><main class=\"home__main-content\"><section class=\"features container\"><aside class=\"features__info\"><h2 class=\"features__info__title\"><strong>Somos a maior plataforma brasileira</strong><span>Cursos de tecnologia com conteúdo 100% em português</span></h2><ul class=\"features__info__list\"><li class=\"features__info__list__item features__info__list__item--content\"><div class=\"features__info__list__item__wrapper\"><h4 class=\"features__info__list__item__title\">O conteúdo que você precisa</h4><p class=\"features__info__list__item__description\">São 971 cursos e novos lançamentos toda semana, além de atualizações e melhorias constantes.</p></div></li><li class=\"features__info__list__item features__info__list__item--practice\"><div class=\"features__info__list__item__wrapper\"><h4 class=\"features__info__list__item__title\">Conhecimento real</h4><p class=\"features__info__list__item__description\">Garantimos conhecimento com profundidade e diversidade. Aprenda com os melhores!</p></div></li><li class=\"features__info__list__item features__info__list__item--messages\"><div class=\"features__info__list__item__wrapper\"><h4 class=\"features__info__list__item__title\">Aprenda compartilhando</h4><p class=\"features__info__list__item__description\"> Faça parte de uma grande rede de apaixonados por tudo que é digital.</p></div></li></ul></aside><section class=\"features__video\"><div class=\"features__video-wrapper\"><div class=\"home-diferenciais-video\"><div class=\"home-diferenciais-video-wrapper\"><div class=\"elasticMedia-container\" data-src=\"//player.vimeo.com/video/227939524\"><noscript><iframe class=\"elasticMedia\" src=\"//player.vimeo.com/video/227939524\" frameborder=\"0\" webkitallowfullscreen mozallowfullscreen allowfullscreen></iframe></noscript></div></div></div></div><a class=\"features__video__link\" href=\"/como-funciona\">Veja como funciona</a></section></section><section class=\"careers\"><div class=\"container\"><h2 class=\"careers__title\"><div class=\"careers__title__wrapper\"> Não sabe por onde começar? <span>Sequências de cursos organizados em <strong>Formações</strong></span></div></h2><ul class=\"careers__list\"><style type=\"text/css\">.career-mobile-title:after { background-color:#ffba05; }</style><li class=\"careers__list__item\" style=\"color:#ffba05;\"><div class=\"careers__list__item__title-wrapper\"><div class=\"categories__svg-wrapper\" style=\"background-color:#ffba05;\"><svg class=\"pagina-categoria__svg svgFill-mobile categories__svg\" xmlns:xlink=\"http://www.w3.org/1999/xlink\"><use xlink:href=\"/svg,1570550707/categorias#icon-categorias-mobile\"/></svg></div><h3 class=\"careers__list__item__title\">Mobile</h3></div><h4 class=\"careers__list__item__sub-title career-mobile-title\">Formações</h4><ul class=\"careers__list__item__list careers__list__item__list--formacoes\"><li class=\"careers__list__item__list__item\"><a class=\"careers__list__item__list__item__link\" href=\"/formacao-android\"> Android </a></li><li class=\"careers__list__item__list__item\"><a class=\"careers__list__item__list__item__link\" href=\"/formacao-arquiteto-android\"> Arquitetura Android </a></li><li class=\"careers__list__item__list__item\"><a class=\"careers__list__item__list__item__link\" href=\"/formacao-ios\"> iOS </a></li><li class=\"careers__list__item__list__item\"><a class=\"careers__list__item__list__item__link\" href=\"/formacao-xamarin\"> Multiplataforma mobile Xamarin </a></li><li class=\"careers__list__item__list__item\"><a class=\"careers__list__item__list__item__link\" href=\"/formacao-testes-automatizados-android\"> Testes automatizados no Android </a></li></ul></li><style type=\"text/css\">.career-programacao-title:after { background-color:#00c86f; }</style><li class=\"careers__list__item\" style=\"color:#00c86f;\"><div class=\"careers__list__item__title-wrapper\"><div class=\"categories__svg-wrapper\" style=\"background-color:#00c86f;\"><svg class=\"pagina-categoria__svg svgFill-programacao categories__svg\" xmlns:xlink=\"http://www.w3.org/1999/xlink\"><use xlink:href=\"/svg,1570550707/categorias#icon-categorias-programacao\"/></svg></div><h3 class=\"careers__list__item__title\">Programação</h3></div><h4 class=\"careers__list__item__sub-title career-programacao-title\">Formações</h4><ul class=\"careers__list__item__list careers__list__item__list--formacoes\"><li class=\"careers__list__item__list__item\"><a class=\"careers__list__item__list__item__link\" href=\"/formacao-dotnet\"> .NET </a></li><li class=\"careers__list__item__list__item\"><a class=\"careers__list__item__list__item__link\" href=\"/formacao-certificacao-csharp\"> Certificação C# Programming </a></li><li class=\"careers__list__item__list__item\"><a class=\"careers__list__item__list__item__link\" href=\"/formacao-certificacao-java\"> Certificação Java </a></li><li class=\"careers__list__item__list__item\"><a class=\"careers__list__item__list__item__link\" href=\"/formacao-clojure\"> Clojure </a></li><li class=\"careers__list__item__list__item\"><a class=\"careers__list__item__list__item__link\" href=\"/formacao-desenvolvedor-php\"> Desenvolvedor PHP </a></li><li class=\"careers__list__item__list__item\"><a class=\"careers__list__item__list__item__link\" href=\"/formacao-vb-net\"> Desenvolvedor VB.NET </a></li><li class=\"careers__list__item__list__item\"><a class=\"careers__list__item__list__item__link\" href=\"/formacao-expert-em-orientacao-a-objetos\"> Expert em Orientação a Objetos </a></li><li class=\"careers__list__item__list__item\"><a class=\"careers__list__item__list__item__link\" href=\"/formacao-programacao\"> Iniciante em Programação </a></li><li class=\"careers__list__item__list__item\"><a class=\"careers__list__item__list__item__link\" href=\"/formacao-integracao-aplicacoes-java\"> Integração de Aplicações Java </a></li><li class=\"careers__list__item__list__item\"><a class=\"careers__list__item__list__item__link\" href=\"/formacao-java\"> Java </a></li><li class=\"careers__list__item__list__item\"><a class=\"careers__list__item__list__item__link\" href=\"/formacao-java-ee\"> Java EE </a></li><li class=\"careers__list__item__list__item\"><a class=\"careers__list__item__list__item__link\" href=\"/formacao-jogos-unity\"> Jogos com Unity </a></li><li class=\"careers__list__item__list__item\"><a class=\"careers__list__item__list__item__link\" href=\"/formacao-node-js-12\"> NodeJS </a></li><li class=\"careers__list__item__list__item\"><a class=\"careers__list__item__list__item__link\" href=\"/formacao-Python-linguagem\"> Python </a></li><li class=\"careers__list__item__list__item\"><a class=\"careers__list__item__list__item__link\" href=\"/formacao-python-web\"> Python Web </a></li><li class=\"careers__list__item__list__item\"><a class=\"careers__list__item__list__item__link\" href=\"/formacao-ruby-on-rails\"> Ruby On Rails </a></li><li class=\"careers__list__item__list__item\"><a class=\"careers__list__item__list__item__link\" href=\"/formacao-wordpress\"> Wordpress </a></li></ul></li><style type=\"text/css\">.career-front-end-title:after { background-color:#6bd1ff; }</style><li class=\"careers__list__item\" style=\"color:#6bd1ff;\"><div class=\"careers__list__item__title-wrapper\"><div class=\"categories__svg-wrapper\" style=\"background-color:#6bd1ff;\"><svg class=\"pagina-categoria__svg svgFill-front-end categories__svg\" xmlns:xlink=\"http://www.w3.org/1999/xlink\"><use xlink:href=\"/svg,1570550707/categorias#icon-categorias-front-end\"/></svg></div><h3 class=\"careers__list__item__title\">Front-end</h3></div><h4 class=\"careers__list__item__sub-title career-front-end-title\">Formações</h4><ul class=\"careers__list__item__list careers__list__item__list--formacoes\"><li class=\"careers__list__item__list__item\"><a class=\"careers__list__item__list__item__link\" href=\"/formacao-acessibilidade-web\"> Acessibilidade Web </a></li><li class=\"careers__list__item__list__item\"><a class=\"careers__list__item__list__item__link\" href=\"/formacao-angular\"> Angular </a></li><li class=\"careers__list__item__list__item\"><a class=\"careers__list__item__list__item__link\" href=\"/formacao-front-end\"> Front-end </a></li><li class=\"careers__list__item__list__item\"><a class=\"careers__list__item__list__item__link\" href=\"/formacao-html-e-css\"> HTML e CSS </a></li><li class=\"careers__list__item__list__item\"><a class=\"careers__list__item__list__item__link\" href=\"/formacao-node-js\"> Node.js </a></li><li class=\"careers__list__item__list__item\"><a class=\"careers__list__item__list__item__link\" href=\"/formacao-react\"> React </a></li><li class=\"careers__list__item__list__item\"><a class=\"careers__list__item__list__item__link\" href=\"/formacao-vuejs\"> Vue.js </a></li></ul></li><style type=\"text/css\">.career-infraestrutura-title:after { background-color:#f16165; }</style><li class=\"careers__list__item\" style=\"color:#f16165;\"><div class=\"careers__list__item__title-wrapper\"><div class=\"categories__svg-wrapper\" style=\"background-color:#f16165;\"><svg class=\"pagina-categoria__svg svgFill-infraestrutura categories__svg\" xmlns:xlink=\"http://www.w3.org/1999/xlink\"><use xlink:href=\"/svg,1570550707/categorias#icon-categorias-infraestrutura\"/></svg></div><h3 class=\"careers__list__item__title\">Infraestrutura</h3></div><h4 class=\"careers__list__item__sub-title career-infraestrutura-title\">Formações</h4><ul class=\"careers__list__item__list careers__list__item__list--formacoes\"><li class=\"careers__list__item__list__item\"><a class=\"careers__list__item__list__item__link\" href=\"/formacao-redes\"> Administrador de Redes </a></li><li class=\"careers__list__item__list__item\"><a class=\"careers__list__item__list__item__link\" href=\"/formacao-amazon-web-services\"> Amazon Web Services </a></li><li class=\"careers__list__item__list__item\"><a class=\"careers__list__item__list__item__link\" href=\"/formacao-certificacao-cisco-ccna\"> Certificação Cisco CCNA </a></li><li class=\"careers__list__item__list__item\"><a class=\"careers__list__item__list__item__link\" href=\"/formacao-certificacao-lpi-linux-essentials\"> Certificação LPI Linux Essentials </a></li><li class=\"careers__list__item__list__item\"><a class=\"careers__list__item__list__item__link\" href=\"/formacao-devops\"> DevOps </a></li><li class=\"careers__list__item__list__item\"><a class=\"careers__list__item__list__item__link\" href=\"/formacao-internet-das-coisas-iot\"> Internet das Coisas </a></li><li class=\"careers__list__item__list__item\"><a class=\"careers__list__item__list__item__link\" href=\"/formacao-microcontroladores-eletronica-aplicada\"> Microcontroladores e Eletrônica Aplicada </a></li><li class=\"careers__list__item__list__item\"><a class=\"careers__list__item__list__item__link\" href=\"/formacao-raspberry-pi\"> Raspberry Pi </a></li><li class=\"careers__list__item__list__item\"><a class=\"careers__list__item__list__item__link\" href=\"/formacao-seguranca-de-aplicacoes\"> Segurança de aplicações </a></li></ul></li><style type=\"text/css\">.career-design-ux-title:after { background-color:#dc6ebe; }</style><li class=\"careers__list__item\" style=\"color:#dc6ebe;\"><div class=\"careers__list__item__title-wrapper\"><div class=\"categories__svg-wrapper\" style=\"background-color:#dc6ebe;\"><svg class=\"pagina-categoria__svg svgFill-design-ux categories__svg\" xmlns:xlink=\"http://www.w3.org/1999/xlink\"><use xlink:href=\"/svg,1570550707/categorias#icon-categorias-design-ux\"/></svg></div><h3 class=\"careers__list__item__title\">Design & UX</h3></div><h4 class=\"careers__list__item__sub-title career-design-ux-title\">Formações</h4><ul class=\"careers__list__item__list careers__list__item__list--formacoes\"><li class=\"careers__list__item__list__item\"><a class=\"careers__list__item__list__item__link\" href=\"/formacao-ui-adobe-xd\"> Adobe XD </a></li><li class=\"careers__list__item__list__item\"><a class=\"careers__list__item__list__item__link\" href=\"/formacao-desenhohumano-photoshop\"> Desenho humano no Photoshop </a></li><li class=\"careers__list__item__list__item\"><a class=\"careers__list__item__list__item__link\" href=\"/formacao-design-grafico\"> Design Gráfico </a></li><li class=\"careers__list__item__list__item\"><a class=\"careers__list__item__list__item__link\" href=\"/formacao-editor-video\"> Editor de vídeo </a></li><li class=\"careers__list__item__list__item\"><a class=\"careers__list__item__list__item__link\" href=\"/formacao-ilustra-publicitaria\"> Ilustração Publicitária no Photoshop </a></li><li class=\"careers__list__item__list__item\"><a class=\"careers__list__item__list__item__link\" href=\"/formacao-producao-indesign\"> InDesign </a></li><li class=\"careers__list__item__list__item\"><a class=\"careers__list__item__list__item__link\" href=\"/formacao-motion-design\"> Motion Design </a></li><li class=\"careers__list__item__list__item\"><a class=\"careers__list__item__list__item__link\" href=\"/formacao-pinturadigital-photoshop\"> Pintura Digital no Photoshop </a></li><li class=\"careers__list__item__list__item\"><a class=\"careers__list__item__list__item__link\" href=\"/formacao-producao-com-photoshop\"> Produção com Photoshop </a></li><li class=\"careers__list__item__list__item\"><a class=\"careers__list__item__list__item__link\" href=\"/formacao-procucao-premiere\"> Produção de vídeo no Premiere </a></li><li class=\"careers__list__item__list__item\"><a class=\"careers__list__item__list__item__link\" href=\"/formacao-grafica-illustrator\"> Produção Gráfica com Illustrator </a></li><li class=\"careers__list__item__list__item\"><a class=\"careers__list__item__list__item__link\" href=\"/formacao-ui-sketch\"> Sketch </a></li><li class=\"careers__list__item__list__item\"><a class=\"careers__list__item__list__item__link\" href=\"/formacao-unreal-engine\"> Unreal Engine </a></li><li class=\"careers__list__item__list__item\"><a class=\"careers__list__item__list__item__link\" href=\"/formacao-ux\"> UX Design </a></li></ul></li><style type=\"text/css\">.career-data-science-title:after { background-color:#9cd33b; }</style><li class=\"careers__list__item\" style=\"color:#9cd33b;\"><div class=\"careers__list__item__title-wrapper\"><div class=\"categories__svg-wrapper\" style=\"background-color:#9cd33b;\"><svg class=\"pagina-categoria__svg svgFill-data-science categories__svg\" xmlns:xlink=\"http://www.w3.org/1999/xlink\"><use xlink:href=\"/svg,1570550707/categorias#icon-categorias-data-science\"/></svg></div><h3 class=\"careers__list__item__title\">Data Science</h3></div><h4 class=\"careers__list__item__sub-title career-data-science-title\">Formações</h4><ul class=\"careers__list__item__list careers__list__item__list--formacoes\"><li class=\"careers__list__item__list__item\"><a class=\"careers__list__item__list__item__link\" href=\"/formacao-business-intelligence-data-warehouse-pentaho\"> BI e Data Warehouse com Pentaho </a></li><li class=\"careers__list__item__list__item\"><a class=\"careers__list__item__list__item__link\" href=\"/formacao-business-intelligence-data-warehouse\"> BI e Data Warehouse com SQL Server e Power BI </a></li><li class=\"careers__list__item__list__item\"><a class=\"careers__list__item__list__item__link\" href=\"/formacao-certificacao-oracle-12c\"> Certificação Oracle 12c </a></li><li class=\"careers__list__item__list__item\"><a class=\"careers__list__item__list__item__link\" href=\"/formacao-data-science\"> Data Science </a></li><li class=\"careers__list__item__list__item\"><a class=\"careers__list__item__list__item__link\" href=\"/formacao-excel-vba\"> Excel VBA </a></li><li class=\"careers__list__item__list__item\"><a class=\"careers__list__item__list__item__link\" href=\"/formacao-machine-learning\"> Machine Learning </a></li><li class=\"careers__list__item__list__item\"><a class=\"careers__list__item__list__item__link\" href=\"/formacao-oracle-sql-plsql\"> Oracle SQL e PL/SQL </a></li><li class=\"careers__list__item__list__item\"><a class=\"careers__list__item__list__item__link\" href=\"/formacao-microsoft-sql-server-2017\"> SQL com Microsoft SQL Server 2017 </a></li><li class=\"careers__list__item__list__item\"><a class=\"careers__list__item__list__item__link\" href=\"/formacao-oracle-mysql\"> SQL com MySQL Server da Oracle </a></li></ul></li><style type=\"text/css\">.career-marketing-digital-title:after { background-color:#6b5be2; }</style><li class=\"careers__list__item\" style=\"color:#6b5be2;\"><div class=\"careers__list__item__title-wrapper\"><div class=\"categories__svg-wrapper\" style=\"background-color:#6b5be2;\"><svg class=\"pagina-categoria__svg svgFill-marketing-digital categories__svg\" xmlns:xlink=\"http://www.w3.org/1999/xlink\"><use xlink:href=\"/svg,1570550707/categorias#icon-categorias-marketing-digital\"/></svg></div><h3 class=\"careers__list__item__title\">Marketing Digital</h3></div><h4 class=\"careers__list__item__sub-title career-marketing-digital-title\">Formações</h4><ul class=\"careers__list__item__list careers__list__item__list--formacoes\"><li class=\"careers__list__item__list__item\"><a class=\"careers__list__item__list__item__link\" href=\"/formacao-marketing-digital\"> Marketing Digital </a></li><li class=\"careers__list__item__list__item\"><a class=\"careers__list__item__list__item__link\" href=\"/formacao-seo\"> SEO </a></li><li class=\"careers__list__item__list__item\"><a class=\"careers__list__item__list__item__link\" href=\"/formacao-social-media\"> Social Media </a></li></ul></li><style type=\"text/css\">.career-inovacao-gestao-title:after { background-color:#ff8c2a; }</style><li class=\"careers__list__item\" style=\"color:#ff8c2a;\"><div class=\"careers__list__item__title-wrapper\"><div class=\"categories__svg-wrapper\" style=\"background-color:#ff8c2a;\"><svg class=\"pagina-categoria__svg svgFill-inovacao-gestao categories__svg\" xmlns:xlink=\"http://www.w3.org/1999/xlink\"><use xlink:href=\"/svg,1570550707/categorias#icon-categorias-inovacao-gestao\"/></svg></div><h3 class=\"careers__list__item__title\">Inovação & Gestão</h3></div><h4 class=\"careers__list__item__sub-title career-inovacao-gestao-title\">Formações</h4><ul class=\"careers__list__item__list careers__list__item__list--formacoes\"><li class=\"careers__list__item__list__item\"><a class=\"careers__list__item__list__item__link\" href=\"/formacao-business-agility\"> Business Agility </a></li><li class=\"careers__list__item__list__item\"><a class=\"careers__list__item__list__item__link\" href=\"/formacao-certificacao-cobit-5\"> Certificação Cobit 5 </a></li><li class=\"careers__list__item__list__item\"><a class=\"careers__list__item__list__item__link\" href=\"/formacao-certificacao-itil-foundation\"> Certificação ITIL Foundation </a></li><li class=\"careers__list__item__list__item\"><a class=\"careers__list__item__list__item__link\" href=\"/formacao-certificacao-pmp-capm-pmi\"> Certificação PMP e CAPM do PMI </a></li><li class=\"careers__list__item__list__item\"><a class=\"careers__list__item__list__item__link\" href=\"/formacao-curriculos\"> Currículos </a></li><li class=\"careers__list__item__list__item\"><a class=\"careers__list__item__list__item__link\" href=\"/formacao-desenvolvimento-pessoal\"> Desenvolvimento Pessoal </a></li><li class=\"careers__list__item__list__item\"><a class=\"careers__list__item__list__item__link\" href=\"/formacao-e-commerce\"> E-commerce </a></li><li class=\"careers__list__item__list__item\"><a class=\"careers__list__item__list__item__link\" href=\"/formacao-empreendedorismo-digital\"> Empreendedorismo Digital </a></li><li class=\"careers__list__item__list__item\"><a class=\"careers__list__item__list__item__link\" href=\"/formacao-gerente-agil\"> Gerente Ágil </a></li></ul></li></ul></div></section><link rel=\"stylesheet\" href=\"/assets/css/block/destaqueAlunos.1570550707.css\"><section class=\"testimonies\"><div class=\"container\"><div class=\"testimonies__wrapper\"><h2 class=\"testimonies__title\"> Experiências de quem <strong class=\"testimonies__title__featured\">já estudou com a gente</strong></h2></div><nav class=\"testimonies__list\"><div class=\"testimonies__list__item\"><div class=\"testimony\"><img class=\"testimonies__list__item__photo\" alt=\"\" src=\"/assets/img/aluno-destaque/genilton-souza.1570550707.jpg\"><div class=\"testimonies__list__item__wrapper\"><h3 class=\"testimonies__list__item__title\">Genilton Souza</h3><span class=\"testimonies__list__item__description\"> Se você não sabe a ordem do que deve aprender e praticar para dominar uma tecnologia, <strong>a forma como os cursos estão organizados e estruturados na Alura ajuda muito</strong>. Aprendi C# aqui e pago minhas contas com isso hoje em dia.</span></div></div></div><div class=\"testimonies__list__item\"><div class=\"testimony\"><img class=\"testimonies__list__item__photo\" alt=\"\" src=\"/assets/img/aluno-destaque/leandro-silva.1570550707.jpg\"><div class=\"testimonies__list__item__wrapper\"><h3 class=\"testimonies__list__item__title\">Leandro da Silva</h3><span class=\"testimonies__list__item__description\"> Passei dois anos e meio desempregado e foi onde conheci os cursos da Alura. <strong>Consegui fazer uma mudança de carreira em uma área muito disputada e estou muito feliz</strong>: passei em um processo seletivo como Agente de Inovação, e muito do que aprendi tanto para a prova quanto para a etapa presencial foi graças a Alura. </span></div></div></div><div class=\"testimonies__list__item\"><div class=\"testimony\"><img class=\"testimonies__list__item__photo\" alt=\"\" src=\"/assets/img/aluno-destaque/nadia-oliveira.1570550707.jpg\"><div class=\"testimonies__list__item__wrapper\"><h3 class=\"testimonies__list__item__title\">Nádia Oliveira</h3><span class=\"testimonies__list__item__description\"> A plataforma é incrível. Além das metodologias do curso serem de alcance para quem está começando ou quem já está avançado em alguma tecnologia, no fórum de dúvidas sempre algum instrutor ou aluno te responde em um curto espaço de tempo. <strong>Na Alura, seu conhecimento é prioridade</strong>. </span></div></div></div></nav></div></section><section class=\"companies\"><div class=\"container\"><div class=\"companies-wrapper\"><div class=\"companies__description-wrapper\"><img class=\"companies__image\" src=\"/assets/img/home/homeNova/companies/foto-empresas.1570550707.jpg\" alt=\"Pessoas trabalhando na Alura\"><div class=\"companies__description\"><div class=\"companies__description__title-wrapper\"><h2 class=\"companies__description__title\">Para a sua <strong>empresa</strong></h2></div><p class=\"companies__description__text\"> Capacite suas equipes com formações continuadas, lançamentos semanais, dashboards e relatórios de engajamento além de guias de estudos customizados de acordo com sua necessidade.</p><a class=\"companies__description__link\" href=\"/empresas\">Conheça os recursos</a></div></div><section class=\"companies__testimony\"><div class=\"companies__testimony__wrapper\"><p class=\"companies__testimony__text\"><em> O time conseguiu aprender muito e um dos diferenciais para nós foi a língua, com conteúdo de qualidade em português. Na Alura, a equipe conseguiu estudar pela plataforma online e aplicar tudo de maneira estruturada.</em></p><span class=\"companies__testimony__author\"><strong class=\"companies__testimony__author__name\">Lucas Souza</strong> CTO da GetNinjas </span></div></section></div><section class=\"companies__using-alura\"><div class=\"companies__using-alura__title__wrapper\"><h2 class=\"companies__using-alura__title\"><strong>Empresas que já contam com a gente:</strong></h2></div><ul class=\"companies__using-alura__list\"><li class=\"companies__using-alura__list__item\"><img class=\"companies__using-alura__list__item__image\" src=\"/assets/img/home/homeNova/logo-empresas/logo-empresa-amil.1570550707.svg\" alt=\"Amil\"></li><li class=\"companies__using-alura__list__item\"><img class=\"companies__using-alura__list__item__image\" src=\"/assets/img/home/homeNova/logo-empresas/logo-empresa-samsung.1570550707.svg\" alt=\"Samsung\"></li><li class=\"companies__using-alura__list__item\"><img class=\"companies__using-alura__list__item__image\" src=\"/assets/img/home/homeNova/logo-empresas/logo-empresa-santander.1570550707.svg\" alt=\"Santander\"></li><li class=\"companies__using-alura__list__item\"><img class=\"companies__using-alura__list__item__image\" src=\"/assets/img/home/homeNova/logo-empresas/logo-empresa-cielo.1570550707.svg\" alt=\"Cielo\"></li><li class=\"companies__using-alura__list__item\"><img class=\"companies__using-alura__list__item__image\" src=\"/assets/img/home/homeNova/logo-empresas/logo-empresa-algar.1570550707.svg\" alt=\"Algar\"></li><li class=\"companies__using-alura__list__item\"><img class=\"companies__using-alura__list__item__image\" src=\"/assets/img/home/homeNova/logo-empresas/logo-empresa-caixa.1570550707.svg\" alt=\"Caixa\"></li><li class=\"companies__using-alura__list__item\"><img class=\"companies__using-alura__list__item__image\" src=\"/assets/img/home/homeNova/logo-empresas/logo-empresa-globo.1570550707.svg\" alt=\"Globo.com\"></li></ul></section></div></section><section class=\"mobile\"><div class=\"container\"><div class=\"mobile__wrapper-info\"><div class=\"mobile__info mobile__info--forum\"> Já são <strong>971 cursos</strong> com lançamentos toda semana.</div><div class=\"mobile__info mobile__info--app\"> Aplicativos para <strong>Android e iOS</strong> Baixe e estude offline em qualquer lugar.</div></div><nav class=\"mobile__apps-download\"><a href=\"https://play.google.com/store/apps/details?id=br.com.alura.mobi&hl=pt_BR\" class=\"mobile__apps-download__item mobile__apps-download__item--google-play\">Google Play</a><a href=\"https://itunes.apple.com/br/app/alura-cursos-online/id1225776635\" class=\"mobile__apps-download__item mobile__apps-download__item--app-store\">App Store</a></nav></div></section><link rel=\"stylesheet\" href=\"/assets/css/block/planosPagamentoOld.1572538101.css\"><section class=\"planos-pagamento\" id=\"planos-cursos-online\"><h2 class=\"planos-pagamento__titulo\"> Sabe quando você pode começar? <span class=\"planos-pagamento__titulo--bold\">Agora!</span></h2><div class=\"container\"><div class=\"planos-pagamento__planos \"><ul class=\"planos-pagamento__vantagens-mobile\"><li class=\"planos-pagamento__vantagem\"><div class=\"planos-pagamento__wrapper planos-pagamento__wrapper--com-descricao\"><span class=\"planos-pagamento__label\">971 cursos</span><div class=\"planos-pagamento__legenda-tooltip\"><p class=\"planos-pagamento__legenda-descricao\">Cursos de programação, UX, agilidade, data science, transformação digital, mobile, front-end, marketing e infra.</p></div></div></li><li class=\"planos-pagamento__vantagem\"><div class=\"planos-pagamento__wrapper planos-pagamento__wrapper--com-descricao\"><span class=\"planos-pagamento__label\">Certificado de participação</span><div class=\"planos-pagamento__legenda-tooltip\"><p class=\"planos-pagamento__legenda-descricao\">Certificado de que assistiu o curso e finalizou as atividades</p></div></div></li><li class=\"planos-pagamento__vantagem\"><div class=\"planos-pagamento__wrapper planos-pagamento__wrapper--com-descricao\"><span class=\"planos-pagamento__label\">App para Android e iPhone/iPad</span><div class=\"planos-pagamento__legenda-tooltip\"><p class=\"planos-pagamento__legenda-descricao\">Estude até mesmo offline através das nossas apps Android e iOS em smartphones e tablets</p></div></div></li><li class=\"planos-pagamento__vantagem\"><div class=\"planos-pagamento__wrapper planos-pagamento__wrapper--com-descricao\"><span class=\"planos-pagamento__label\">Projeto avaliado pelos instrutores</span><div class=\"planos-pagamento__legenda-tooltip\"><p class=\"planos-pagamento__legenda-descricao\">Projeto práticos para entrega e avaliação dos professores da Alura com certificado de aprovação diferenciado</p></div></div></li><li class=\"planos-pagamento__vantagem\"><div class=\"planos-pagamento__wrapper planos-pagamento__wrapper--com-descricao\"><span class=\"planos-pagamento__label\">Acesso à Alura Start</span><div class=\"planos-pagamento__legenda-tooltip\"><p class=\"planos-pagamento__legenda-descricao\">Cursos de introdução a tecnologia através de games, apps e ciência</p></div></div></li><li class=\"planos-pagamento__vantagem\"><div class=\"planos-pagamento__wrapper planos-pagamento__wrapper--com-descricao\"><span class=\"planos-pagamento__label\">Acesso à Alura Língua</span><div class=\"planos-pagamento__legenda-tooltip\"><p class=\"planos-pagamento__legenda-descricao\">Reforço online de inglês e espanhol para aprimorar seu conhecimento</p></div></div></li></ul><div class=\"planos-pagamento__plano planos-pagamento__plano--premium\" data-payment-plan data-payment-plan-price=\"900\"><div class=\"planos-pagamento__header\"><h4 class=\"planos-pagamento__nome\">Premium</h4></div><ul class=\"planos-pagamento__vantagens\"><li class=\"planos-pagamento__vantagem\"><div class=\"planos-pagamento__wrapper planos-pagamento__wrapper--com-descricao\"><span class=\"planos-pagamento__label\">971 cursos</span><div class=\"planos-pagamento__legenda-tooltip\"><p class=\"planos-pagamento__legenda-descricao\">Cursos de programação, UX, agilidade, data science, transformação digital, mobile, front-end, marketing e infra.</p></div></div><div class=\"planos-pagamento__checkmark planos-pagamento__checkmark--ativo\"><svg><use xlink:href=\"/svg,1570550707/planosPagamento#icon-planosPagamento-checked\" /></svg></div></li><li class=\"planos-pagamento__vantagem\"><div class=\"planos-pagamento__wrapper planos-pagamento__wrapper--com-descricao\"><span class=\"planos-pagamento__label\">Certificado de participação</span><div class=\"planos-pagamento__legenda-tooltip\"><p class=\"planos-pagamento__legenda-descricao\">Certificado de que assistiu o curso e finalizou as atividades</p></div></div><div class=\"planos-pagamento__checkmark planos-pagamento__checkmark--ativo\"><svg><use xlink:href=\"/svg,1570550707/planosPagamento#icon-planosPagamento-checked\" /></svg></div></li><li class=\"planos-pagamento__vantagem\"><div class=\"planos-pagamento__wrapper planos-pagamento__wrapper--com-descricao\"><span class=\"planos-pagamento__label\">App para Android e iPhone/iPad</span><div class=\"planos-pagamento__legenda-tooltip\"><p class=\"planos-pagamento__legenda-descricao\">Estude até mesmo offline através das nossas apps Android e iOS em smartphones e tablets</p></div></div><div class=\"planos-pagamento__checkmark planos-pagamento__checkmark--ativo\"><svg><use xlink:href=\"/svg,1570550707/planosPagamento#icon-planosPagamento-checked\" /></svg></div></li><li class=\"planos-pagamento__vantagem\"><div class=\"planos-pagamento__wrapper planos-pagamento__wrapper--com-descricao\"><span class=\"planos-pagamento__label\">Projeto avaliado pelos instrutores</span><div class=\"planos-pagamento__legenda-tooltip\"><p class=\"planos-pagamento__legenda-descricao\">Projeto práticos para entrega e avaliação dos professores da Alura com certificado de aprovação diferenciado</p></div></div><div class=\"planos-pagamento__checkmark \"><svg><use xlink:href=\"/svg,1570550707/planosPagamento#icon-planosPagamento-checked\" /></svg></div></li><li class=\"planos-pagamento__vantagem\"><div class=\"planos-pagamento__wrapper planos-pagamento__wrapper--com-descricao\"><span class=\"planos-pagamento__label\">Acesso à Alura Start</span><div class=\"planos-pagamento__legenda-tooltip\"><p class=\"planos-pagamento__legenda-descricao\">Cursos de introdução a tecnologia através de games, apps e ciência</p></div></div><div class=\"planos-pagamento__checkmark \"><svg><use xlink:href=\"/svg,1570550707/planosPagamento#icon-planosPagamento-checked\" /></svg></div></li><li class=\"planos-pagamento__vantagem\"><div class=\"planos-pagamento__wrapper planos-pagamento__wrapper--com-descricao\"><span class=\"planos-pagamento__label\">Acesso à Alura Língua</span><div class=\"planos-pagamento__legenda-tooltip\"><p class=\"planos-pagamento__legenda-descricao\">Reforço online de inglês e espanhol para aprimorar seu conhecimento</p></div></div><div class=\"planos-pagamento__checkmark \"><svg><use xlink:href=\"/svg,1570550707/planosPagamento#icon-planosPagamento-checked\" /></svg></div></li></ul><div class=\"planos-pagamento__precos \"><span class=\"planos-pagamento__numero-parcelas\"> 12X </span><div class=\"planos-pagamento__preco-parcela \"><span class=\"planos-pagamento__valor-parcela\">R$75</div><div class=\"planos-pagamento__preco-vista\"><span class=\"planos-pagamento__label-vista\">à vista</span><span class=\"planos-pagamento__valor-vista\">R$900</span></div></div><a class=\"planos-pagamento__cta\" href=\"/compra/premium/\"> Matricule-se </a></div><div class=\"planos-pagamento__plano planos-pagamento__plano--premiumplus\" data-payment-plan data-payment-plan-price=\"1.200\"><div class=\"planos-pagamento__header\"><h4 class=\"planos-pagamento__nome\">Premium Plus</h4></div><ul class=\"planos-pagamento__vantagens\"><li class=\"planos-pagamento__vantagem\"><div class=\"planos-pagamento__wrapper planos-pagamento__wrapper--com-descricao\"><span class=\"planos-pagamento__label\">971 cursos</span><div class=\"planos-pagamento__legenda-tooltip\"><p class=\"planos-pagamento__legenda-descricao\">Cursos de programação, UX, agilidade, data science, transformação digital, mobile, front-end, marketing e infra.</p></div></div><div class=\"planos-pagamento__checkmark planos-pagamento__checkmark--ativo\"><svg><use xlink:href=\"/svg,1570550707/planosPagamento#icon-planosPagamento-checked\" /></svg></div></li><li class=\"planos-pagamento__vantagem\"><div class=\"planos-pagamento__wrapper planos-pagamento__wrapper--com-descricao\"><span class=\"planos-pagamento__label\">Certificado de participação</span><div class=\"planos-pagamento__legenda-tooltip\"><p class=\"planos-pagamento__legenda-descricao\">Certificado de que assistiu o curso e finalizou as atividades</p></div></div><div class=\"planos-pagamento__checkmark planos-pagamento__checkmark--ativo\"><svg><use xlink:href=\"/svg,1570550707/planosPagamento#icon-planosPagamento-checked\" /></svg></div></li><li class=\"planos-pagamento__vantagem\"><div class=\"planos-pagamento__wrapper planos-pagamento__wrapper--com-descricao\"><span class=\"planos-pagamento__label\">App para Android e iPhone/iPad</span><div class=\"planos-pagamento__legenda-tooltip\"><p class=\"planos-pagamento__legenda-descricao\">Estude até mesmo offline através das nossas apps Android e iOS em smartphones e tablets</p></div></div><div class=\"planos-pagamento__checkmark planos-pagamento__checkmark--ativo\"><svg><use xlink:href=\"/svg,1570550707/planosPagamento#icon-planosPagamento-checked\" /></svg></div></li><li class=\"planos-pagamento__vantagem\"><div class=\"planos-pagamento__wrapper planos-pagamento__wrapper--com-descricao\"><span class=\"planos-pagamento__label\">Projeto avaliado pelos instrutores</span><div class=\"planos-pagamento__legenda-tooltip\"><p class=\"planos-pagamento__legenda-descricao\">Projeto práticos para entrega e avaliação dos professores da Alura com certificado de aprovação diferenciado</p></div></div><div class=\"planos-pagamento__checkmark planos-pagamento__checkmark--ativo\"><svg><use xlink:href=\"/svg,1570550707/planosPagamento#icon-planosPagamento-checked\" /></svg></div></li><li class=\"planos-pagamento__vantagem\"><div class=\"planos-pagamento__wrapper planos-pagamento__wrapper--com-descricao\"><span class=\"planos-pagamento__label\">Acesso à Alura Start</span><div class=\"planos-pagamento__legenda-tooltip\"><p class=\"planos-pagamento__legenda-descricao\">Cursos de introdução a tecnologia através de games, apps e ciência</p></div></div><div class=\"planos-pagamento__checkmark planos-pagamento__checkmark--ativo\"><svg><use xlink:href=\"/svg,1570550707/planosPagamento#icon-planosPagamento-checked\" /></svg></div></li><li class=\"planos-pagamento__vantagem\"><div class=\"planos-pagamento__wrapper planos-pagamento__wrapper--com-descricao\"><span class=\"planos-pagamento__label\">Acesso à Alura Língua</span><div class=\"planos-pagamento__legenda-tooltip\"><p class=\"planos-pagamento__legenda-descricao\">Reforço online de inglês e espanhol para aprimorar seu conhecimento</p></div></div><div class=\"planos-pagamento__checkmark \"><svg><use xlink:href=\"/svg,1570550707/planosPagamento#icon-planosPagamento-checked\" /></svg></div></li></ul><div class=\"planos-pagamento__precos \"><span class=\"planos-pagamento__numero-parcelas\"> 12X </span><div class=\"planos-pagamento__preco-parcela \"><span class=\"planos-pagamento__valor-parcela\">R$100</div><div class=\"planos-pagamento__preco-vista\"><span class=\"planos-pagamento__label-vista\">à vista</span><span class=\"planos-pagamento__valor-vista\">R$1.200</span></div></div><a class=\"planos-pagamento__cta\" href=\"/compra/premiumplus/\"> Matricule-se </a></div><div class=\"planos-pagamento__plano planos-pagamento__plano--max\" data-payment-plan data-payment-plan-price=\"1.440\"><div class=\"planos-pagamento__header\"><h4 class=\"planos-pagamento__nome\">Max</h4></div><ul class=\"planos-pagamento__vantagens\"><li class=\"planos-pagamento__vantagem\"><div class=\"planos-pagamento__wrapper planos-pagamento__wrapper--com-descricao\"><span class=\"planos-pagamento__label\">971 cursos</span><div class=\"planos-pagamento__legenda-tooltip\"><p class=\"planos-pagamento__legenda-descricao\">Cursos de programação, UX, agilidade, data science, transformação digital, mobile, front-end, marketing e infra.</p></div></div><div class=\"planos-pagamento__checkmark planos-pagamento__checkmark--ativo\"><svg><use xlink:href=\"/svg,1570550707/planosPagamento#icon-planosPagamento-checked\" /></svg></div></li><li class=\"planos-pagamento__vantagem\"><div class=\"planos-pagamento__wrapper planos-pagamento__wrapper--com-descricao\"><span class=\"planos-pagamento__label\">Certificado de participação</span><div class=\"planos-pagamento__legenda-tooltip\"><p class=\"planos-pagamento__legenda-descricao\">Certificado de que assistiu o curso e finalizou as atividades</p></div></div><div class=\"planos-pagamento__checkmark planos-pagamento__checkmark--ativo\"><svg><use xlink:href=\"/svg,1570550707/planosPagamento#icon-planosPagamento-checked\" /></svg></div></li><li class=\"planos-pagamento__vantagem\"><div class=\"planos-pagamento__wrapper planos-pagamento__wrapper--com-descricao\"><span class=\"planos-pagamento__label\">App para Android e iPhone/iPad</span><div class=\"planos-pagamento__legenda-tooltip\"><p class=\"planos-pagamento__legenda-descricao\">Estude até mesmo offline através das nossas apps Android e iOS em smartphones e tablets</p></div></div><div class=\"planos-pagamento__checkmark planos-pagamento__checkmark--ativo\"><svg><use xlink:href=\"/svg,1570550707/planosPagamento#icon-planosPagamento-checked\" /></svg></div></li><li class=\"planos-pagamento__vantagem\"><div class=\"planos-pagamento__wrapper planos-pagamento__wrapper--com-descricao\"><span class=\"planos-pagamento__label\">Projeto avaliado pelos instrutores</span><div class=\"planos-pagamento__legenda-tooltip\"><p class=\"planos-pagamento__legenda-descricao\">Projeto práticos para entrega e avaliação dos professores da Alura com certificado de aprovação diferenciado</p></div></div><div class=\"planos-pagamento__checkmark planos-pagamento__checkmark--ativo\"><svg><use xlink:href=\"/svg,1570550707/planosPagamento#icon-planosPagamento-checked\" /></svg></div></li><li class=\"planos-pagamento__vantagem\"><div class=\"planos-pagamento__wrapper planos-pagamento__wrapper--com-descricao\"><span class=\"planos-pagamento__label\">Acesso à Alura Start</span><div class=\"planos-pagamento__legenda-tooltip\"><p class=\"planos-pagamento__legenda-descricao\">Cursos de introdução a tecnologia através de games, apps e ciência</p></div></div><div class=\"planos-pagamento__checkmark planos-pagamento__checkmark--ativo\"><svg><use xlink:href=\"/svg,1570550707/planosPagamento#icon-planosPagamento-checked\" /></svg></div></li><li class=\"planos-pagamento__vantagem\"><div class=\"planos-pagamento__wrapper planos-pagamento__wrapper--com-descricao\"><span class=\"planos-pagamento__label\">Acesso à Alura Língua</span><div class=\"planos-pagamento__legenda-tooltip\"><p class=\"planos-pagamento__legenda-descricao\">Reforço online de inglês e espanhol para aprimorar seu conhecimento</p></div></div><div class=\"planos-pagamento__checkmark planos-pagamento__checkmark--ativo\"><svg><use xlink:href=\"/svg,1570550707/planosPagamento#icon-planosPagamento-checked\" /></svg></div></li></ul><div class=\"planos-pagamento__precos \"><span class=\"planos-pagamento__numero-parcelas\"> 12X </span><div class=\"planos-pagamento__preco-parcela \"><span class=\"planos-pagamento__valor-parcela\">R$120</div><div class=\"planos-pagamento__preco-vista\"><span class=\"planos-pagamento__label-vista\">à vista</span><span class=\"planos-pagamento__valor-vista\">R$1.440</span></div></div><a class=\"planos-pagamento__cta\" href=\"/compra/max/\"> Matricule-se </a></div></div></div><a class=\"planos-pagamento__b2b\" href=\"/empresas\"><span>Procurando planos para empresas?</span> → </a><div class=\"planosPagamento-vantagens\"><div class=\"container\"><div class=\"planosPagamento-vantagens-vantagem acesso\"><svg><use xlink:href=\"/svg,1570550707/planosPagamento#icon-planosPagamento-acesso\"/></svg><span>Acesso por 1 ano<span></div><div class=\"planosPagamento-vantagens-vantagem horas\"><svg><use xlink:href=\"/svg,1570550707/planosPagamento#icon-planosPagamento-24h\"/></svg><span>Estude 24h/dia onde e quando quiser</span></div><div class=\"planosPagamento-vantagens-vantagem novos\"><svg><use xlink:href=\"/svg,1570550707/planosPagamento#icon-planosPagamento-cursos\"/></svg><span>Novos cursos toda semana</span></div></div></div></section><script src=\"/assets/js/planosPagamentoOld.1570550707.js\"></script></main></div><script>if (navigator.userAgent.indexOf(\\'Safari\\') > 1 && navigator.userAgent.indexOf(\\'Edge\\') < 0) document.documentElement.className += \\' home-fundo-animado\\'</script><script src=\"/assets/js/home/categoriaCard.1570550707.js\"></script><link rel=\"stylesheet\" href=\"/assets/css/block/footer.1570550707.css\"><footer class=\"footer\"><div class=\"container\"><div class=\"footer-navegue\"><ul class=\"footer-navegue-lista\"><li class=\"footer-navegue-lista-link\"><a href=\"/planos-cursos-online\" gtm-data=\\'footer_primeira_secao_053\\'>Planos</a></li><li class=\"footer-navegue-lista-link\"><a href=\"/cursos-online-tecnologia\" gtm-data=\\'footer_primeira_secao_054\\'>Todos os cursos</a></li><li class=\"footer-navegue-lista-link\"><a href=\"/guias\">Guias de empresas</a></li><li class=\"footer-navegue-lista-link\"><a href=\"/instrutores\" gtm-data=\\'footer_primeira_secao_056\\'>Instrutores</a></li><li class=\"footer-navegue-lista-link\"><a href=\"/quero-ser-instrutor\" gtm-data=\\'footer_primeira_secao_057\\'>Como virar instrutor</a></li><li class=\"footer-navegue-lista-link\"><a href=\"/artigos\" gtm-data=\\'footer_primeira_secao_059\\'>Artigos</a></li><li class=\"footer-navegue-lista-link\"><a href=\"/politica-de-privacidade\" gtm-data=\\'footer_primeira_secao_061\\'>Política de Privacidade</a></li><li class=\"footer-navegue-lista-link\"><a href=\"/termos-de-uso\" gtm-data=\\'footer_primeira_secao_062\\'>Termos de Uso</a></li><li class=\"footer-navegue-lista-link\"><a href=\"/sobre\" gtm-data=\\'footer_primeira_secao_063\\'>Sobre nós</a></li><li class=\"footer-navegue-lista-link\"><a href=\"https://suporte.alura.com.br/\" gtm-data=\\'footer_primeira_secao_064\\'>Perguntas frequentes</a></li></ul></div><div class=\"footer-column footer-column-cards\"><div class=\"footer-newsletter\"><h2 class=\"footer-newsletter-titulo\">Receba Novidades e Lançamentos</h2><form class=\"footer-newsletter-form\" action=\"https://cursos.alura.com.br/api/cadastra-newsletter\" method=\"POST\"><input type=\"hidden\" name=\"retorno\" value=\"https://www.alura.com.br/newsletter-cadastrado\"><label for=\"email-newsletter\">Email</label><input type=\"email\" name=\"email\" class=\"footer-newsletter-input\" placeholder=\"seu email\" id=\"email-newsletter\"><button type=\"submit\" class=\"footer-newsletter-button buttonForm\">OK</button></form></div><div class=\"footer-card-hotLinks\"><h2 class=\"footer-card-hotLinks-titulo\">Nossas redes e apps</h2><div class=\"footer-card-hotLinks-info footer-card-redes\"><a href=\"https://www.youtube.com/alura\" gtm-data=\\'footer_primeira_secao_065\\' class=\"footer-card-hotLinks-link\" target=\"_blank\" title=\"YouTube da Alura\"><svg class=\"footer-card-hotLinks-icon footer-card-hotLinks-youtube\"><use xlink:href=\"/svg,1570550707/footer#icon-footer-youtube\"/></svg><span>YouTube</span></a><a href=\"https://www.facebook.com/AluraCursosOnline/\" gtm-data=\\'footer_primeira_secao_066\\' class=\"footer-card-hotLinks-link\" target=\"_blank\" title=\"Facebook da Alura\"><svg class=\"footer-card-hotLinks-icon footer-card-hotLinks-facebook\"><use xlink:href=\"/svg,1570550707/footer#icon-footer-facebook\"/></svg><span>Facebook</span></a><a href=\"https://twitter.com/aluraonline\" gtm-data=\\'footer_primeira_secao_067\\' class=\"footer-card-hotLinks-link\" target=\"_blank\" title=\"Twitter da Alura\"><svg class=\"footer-card-hotLinks-icon footer-card-hotLinks-twitter\"><use xlink:href=\"/svg,1570550707/footer#icon-footer-twitter\"/></svg><span>Twitter</span></a><a href=\"https://hipsters.tech/\" class=\"footer-card-hotLinks-link\" gtm-data=\\'footer_primeira_secao_068\\' target=\"_blank\" title=\"Podcast Hipsters Ponto Tech\"><svg class=\"footer-card-hotLinks-icon footer-card-hotLinks-hipsters\"><use xlink:href=\"/svg,1570550707/footer#icon-footer-hipsters\"/></svg><span>Podcast Hipsters.tech</span></a><a href=\"https://instagram.com/aluraonline\" class=\"footer-card-hotLinks-link\" gtm-data=\\'footer_primeira_secao_073\\' target=\"_blank\" title=\"Instagram da Alura\"><svg class=\"footer-card-hotLinks-icon footer-card-hotLinks-instagram\"><use xlink:href=\"/svg,1570550707/footer#icon-footer-instagram\"/></svg><span>Instagram</span></a></div><div class=\"footer-card-hotLinks-info footer-card-mobile\"><a href=\"https://play.google.com/store/apps/details?id=br.com.alura.mobi&hl=pt_BR\" gtm-data=\\'footer_primeira_secao_069\\' class=\"footer-card-hotLinks-link\" target=\"_blank\" title=\"Baixar na Google Play Store\"><svg class=\"footer-card-hotLinks-icon footer-card-hotLinks-mobile\"><use xlink:href=\"/svg,1570550707/footer#icon-footer-googleplay\"/></svg><span>Google Play Store</span></a><a href=\"https://itunes.apple.com/br/app/alura-cursos-online/id1225776635\" gtm-data=\\'footer_primeira_secao_070\\' class=\"footer-card-hotLinks-link\" target=\"_blank\" title=\"Baixar na AppStore\"><svg class=\"footer-card-hotLinks-icon footer-card-hotLinks-mobile\"><use xlink:href=\"/svg,1570550707/footer#icon-footer-appstore\"/></svg><span>AppStore</span></a></div></div></div><div class=\"footer-column\"><a class=\"footer-card footer-card-contato\" gtm-data=\\'footer_primeira_secao_071\\' href=\"/contato\"><div class=\"footer-card-info\"><h2 class=\"footer-card-titulo\">Fale Conosco</h2><p class=\"footer-card-texto\">Dúvida, crítica, sugestão ou elogio?</p><p class=\"footer-card-fakeLink\">Entre em contato!</p></div></a><a class=\"footer-card footer-card-empresa\" gtm-data=\\'footer_primeira_secao_072\\' href=\"/empresas\"><div class=\"footer-card-info\"><h2 class=\"footer-card-titulo\">Empresa? Governo?</h2><p class=\"footer-card-texto\">Planos corporativos para o seu time.</p><p class=\"footer-card-fakeLink\">Saiba mais</p></div></a></div><div class=\"footer-info\"><div class=\"footer-logos\"><a class=\"footer-logos-home\" gtm-data=\\'footer_primeira_secao_050\\' href=\"/\"><img src=\"/assets/img/alura-logo.1570550707.svg\" alt=\"Alura\" class=\"footer-logo\"></a><a href=\"https://www.caelum.com.br/\" gtm-data=\\'footer_primeira_secao_051\\' class=\"footer-link-caelum\"><h3 class=\"footer-powered-by\">Powered by</h3><img src=\"/assets/img/footer/caelum-logo.1570550707.svg\" alt=\"Caelum\" class=\"footer-logo footer-caelumLogo\"></a></div><div class=\"footer-cnpj\"><p><span class=\"footer-empresa-item\">AOVS Sistemas de Informática S.A</span><span class=\"footer-empresa-item\">CNPJ 05.555.382/0001-33</span></p></div></div></div></footer><section class=\"footer_categorias-formacoes\"><div class=\"container\"><div class=\"footer_categorias_wrapper\"><h2 class=\"footer_categorias_title\">Cursos</h2><div class=\"footer_categorias_categorias footer-navegue-lista-link\"><div class=\"footer_categorias_categoria\"><a href=\"/cursos-online-mobile\">Cursos de Mobile</a><div class=\"footer_categorias_subcategorias\"><a href=\"/cursos-online-mobile/ios\"> iOS e Swift</a><a href=\"/cursos-online-mobile/android\"> Android e Kotlin</a><a href=\"/cursos-online-mobile/multiplataforma\"> Ionic, React Native</a><a href=\"/cursos-online-mobile/jogos\"> Jogos</a></div></div><div class=\"footer_categorias_categoria\"><a href=\"/cursos-online-programacao\">Cursos de Programação</a><div class=\"footer_categorias_subcategorias\"><a href=\"/cursos-online-programacao/logica\"> Lógica</a><a href=\"/cursos-online-programacao/python\"> Python</a><a href=\"/cursos-online-programacao/php\"> PHP</a><a href=\"/cursos-online-programacao/java\"> Java</a><a href=\"/cursos-online-programacao/dotnet\"> .NET</a><a href=\"/cursos-online-programacao/node-js\"> Node JS</a><a href=\"/cursos-online-programacao/ruby\"> Ruby & Rails</a><a href=\"/cursos-online-programacao/linguagem-c\"> C</a><a href=\"/cursos-online-programacao/computacao\"> Computação</a><a href=\"/cursos-online-programacao/jogos\"> Jogos</a></div></div><div class=\"footer_categorias_categoria\"><a href=\"/cursos-online-front-end\">Cursos de Front-end</a><div class=\"footer_categorias_subcategorias\"><a href=\"/cursos-online-front-end/front-end\"> HTML, CSS</a><a href=\"/cursos-online-front-end/javascript\"> JavaScript</a><a href=\"/cursos-online-front-end/frameworks-mvc-em-javascript\"> Angular, React</a><a href=\"/cursos-online-front-end/jquery\"> jQuery</a></div></div><div class=\"footer_categorias_categoria\"><a href=\"/cursos-online-infraestrutura\">Cursos de Infraestrutura</a><div class=\"footer_categorias_subcategorias\"><a href=\"/cursos-online-infraestrutura/devops\"> DevOps e Git</a><a href=\"/cursos-online-infraestrutura/cloud-computing\"> Cloud</a><a href=\"/cursos-online-infraestrutura/linux-comandos-e-processos\"> Linux</a><a href=\"/cursos-online-infraestrutura/internet-das-coisas\"> IoT</a><a href=\"/cursos-online-infraestrutura/redes\"> Redes</a></div></div><div class=\"footer_categorias_categoria\"><a href=\"/cursos-online-design-ux\">Cursos de Design & UX</a><div class=\"footer_categorias_subcategorias\"><a href=\"/cursos-online-design-ux/wwww\"> Photoshop e Illustrator</a><a href=\"/cursos-online-design-ux/ux\"> Usabilidade e UX</a><a href=\"/cursos-online-design-ux/video\"> Vídeo e Motion</a><a href=\"/cursos-online-design-ux/3d\"> 3D</a></div></div><div class=\"footer_categorias_categoria\"><a href=\"/cursos-online-marketing-digital\">Cursos de Marketing Digital</a><div class=\"footer_categorias_subcategorias\"><a href=\"/cursos-online-marketing-digital/ads\"> Ads</a><a href=\"/cursos-online-marketing-digital/marketing-digital\"> Marketing</a><a href=\"/cursos-online-marketing-digital/seo\"> SEO</a><a href=\"/cursos-online-marketing-digital/e-commerce\"> E-commerce</a><a href=\"/cursos-online-marketing-digital/social-media\"> Social Media</a><a href=\"/cursos-online-marketing-digital/youtube\"> YouTube</a></div></div><div class=\"footer_categorias_categoria\"><a href=\"/cursos-online-data-science\">Cursos de Data Science</a><div class=\"footer_categorias_subcategorias\"><a href=\"/cursos-online-data-science/sql\"> SQL e Banco de Dados</a><a href=\"/cursos-online-data-science/nosql\"> NoSQL</a><a href=\"/cursos-online-data-science/data-science\"> Data Science</a><a href=\"/cursos-online-data-science/machine-learning\"> Machine Learning</a><a href=\"/cursos-online-data-science/business-intelligence\"> BI</a><a href=\"/cursos-online-data-science/estatistica\"> Estatística</a><a href=\"/cursos-online-data-science/excel\"> Excel</a></div></div><div class=\"footer_categorias_categoria\"><a href=\"/cursos-online-inovacao-gestao\">Cursos de Inovação & Gestão</a><div class=\"footer_categorias_subcategorias\"><a href=\"/cursos-online-inovacao-gestao/agilidade\"> Métodos Ágeis</a><a href=\"/cursos-online-inovacao-gestao/habilidades-interpessoais\"> Softskills</a><a href=\"/cursos-online-inovacao-gestao/lideranca-gestao-estrategica\"> Liderança e Gestão</a><a href=\"/cursos-online-inovacao-gestao/startup-empreendedorismo\"> Empreendedorismo</a></div></div></div></div></div></section><style>@media not all and (min-width: 1000px){ .grupoCaelum{ display: none; } } .grupoCaelum{ background: #fff; height: 240px; border-top: 1px solid #EBEBEE; } .grupoCaelum .container{ display: flex; justify-content: space-between; align-items: flex-start; padding-top: 0; padding-bottom: 0; height: 100%; } .grupoCaelum-list{ display: flex; list-style: none; width: 60%; justify-content: space-between; align-items: flex-start; margin-top: 20px; } .grupoCaelum-title{ width: 20%; } .grupoCaelum-column { display: inline-block; padding-left: 19px; width: 240px; height: 210px; min-width: 160px; } .grupoCaelum-column-title { font-size: 10px; color: #d7e0e5; text-transform: uppercase; font-weight: 600; margin-bottom: 19px; } .grupoCaelum-column-list { list-style: none; } .column-item-title { font-size: 11px; text-align: center; vertical-align: middle; display: inline-block; margin-left: 6.5px; } .grupoCaelum-column:not(:first-child) { border-left: solid 1px #e3e9ed; } .grupoCaelum-title { display: inline-block; text-decoration: none; color: #657176; letter-spacing: normal; font-size: 18px; margin-top: 54px; } .column-item-logo { width: 30px; height: 30px; vertical-align: middle; display: inline-block; } .column-item { margin-bottom: 17px; } .column-item a{ text-decoration: none; color: #657176; }</style><footer class=\"caelum-footer\"><div class=\"grupoCaelum\"><div class=\"container\"><p class=\"grupoCaelum-title\">Grupo Caelum Alura</p><ul class=\"grupoCaelum-list\"><li class=\"grupoCaelum-column\"><p class=\"grupoCaelum-column-title\">Educação</p><ul class=\"grupoCaelum-column-list\"><li class=\"column-item\"><a target=\"_blank\" href=\"https://www.caelum.com.br\"><svg class=\"column-item-logo\"><use xlink:href=\"/svg,1570550707/caelumFooter#icon-caelumFooter-caelum\"><span class=\"column-item-title\">Caelum</span></svg></a></li><li class=\"column-item\"><a target=\"_blank\" href=\"https://www.casadocodigo.com.br\"><svg class=\"column-item-logo\"><use xlink:href=\"/svg,1570550707/caelumFooter#icon-caelumFooter-cdc\"><span class=\"column-item-title\">Casa do Código</span></svg></a></li></ul></li><li class=\"grupoCaelum-column\"><p class=\"grupoCaelum-column-title\">Educação Online</p><ul class=\"grupoCaelum-column-list\"><li class=\"column-item\"><a target=\"_blank\" href=\"https://www.alura.com.br\"><svg class=\"column-item-logo\"><use xlink:href=\"/svg,1570550707/caelumFooter#icon-caelumFooter-alura\"><span class=\"column-item-title\">Alura</span></svg></a></li><li class=\"column-item\"><a target=\"_blank\" href=\"https://www.alurastart.com.br\"><svg class=\"column-item-logo\"><use xlink:href=\"/svg,1570550707/caelumFooter#icon-caelumFooter-alurastart\"><span class=\"column-item-title\">Alura Start</span></svg></a></li><li class=\"column-item\"><a target=\"_blank\" href=\"https://www.musicdot.com.br\"><svg class=\"column-item-logo\"><use xlink:href=\"/svg,1570550707/caelumFooter#icon-caelumFooter-musicdot\"><span class=\"column-item-title\">MusicDot</span></svg></a></li><li class=\"column-item\"><a target=\"_blank\" href=\"https://www.aluralingua.com.br\"><svg class=\"column-item-logo\"><use xlink:href=\"/svg,1570550707/caelumFooter#icon-caelumFooter-aluralingua\"><span class=\"column-item-title\">Alura Língua</span></svg></a></li></ul></li><li class=\"grupoCaelum-column\"><p class=\"grupoCaelum-column-title\">Comunidade</p><ul class=\"grupoCaelum-column-list\"><li class=\"column-item\"><a target=\"_blank\" href=\"https://hipsters.tech\"><svg class=\"column-item-logo\"><use xlink:href=\"/svg,1570550707/caelumFooter#icon-caelumFooter-hipsterstech\"><span class=\"column-item-title\">Hipsters ponto Tech</span></svg></a></li><li class=\"column-item\"><a target=\"_blank\" href=\"https://hipsters.jobs\"><svg class=\"column-item-logo\"><use xlink:href=\"/svg,1570550707/caelumFooter#icon-caelumFooter-hipstersjobs\"><span class=\"column-item-title\">Hipsters ponto Jobs</span></svg></a></li><li class=\"column-item\"><a target=\"_blank\" href=\"https://www.guj.com.br\"><svg class=\"column-item-logo\"><use xlink:href=\"/svg,1570550707/caelumFooter#icon-caelumFooter-guj\"><span class=\"column-item-title\">GUJ</span></svg></a></li></ul></li></ul></div></div></footer><script>(function(){ var match = location.pathname.match(/\\\\/(bf-|blackfriday\\\\/)([^\\\\/]+)/); if (match != null) { var links = document.querySelectorAll(\\'a[href]\\'); for (var i = 0; i < links.length; i++) { var href = links[i].getAttribute(\\'href\\'); if (href[0] === \\'/\\') { links[i].setAttribute(\\'href\\', \\'/bf-\\' + match[2] + href); } } } })();</script><script src=\"/assets/js/lib/svg4everybody.min.1570550707.js\" async></script><script src=\"/assets/js/header/menu.1570550707.js\" async></script><script src=\"/assets/js/header/busca.1570550707.js\" async></script><script src=\"/assets/js/header/cursos.1570550707.js\" async></script><script src=\"/assets/js/detect.1570550707.js\" async></script><script src=\"/assets/js/video.1571773177.js\" async></script><script src=\"/assets/js/Countdown.1571149146.js\" async></script><script>var userId = (document.cookie.match(\\'alura.userId=([^;]+)\\')||[null,null])[1]; window.ga=window.ga||function(){(ga.q=ga.q||[]).push(arguments)};ga.l=+new Date; ga(\\'create\\', \\'UA-42101548-1\\', \\'alura.com.br\\', \\'tracker0\\', {\\'siteSpeedSampleRate\\': 50}); if (userId) ga(\\'tracker0.set\\', \\'userId\\', userId); ga(\\'tracker0.require\\', \\'displayfeatures\\'); ga(\\'tracker0.send\\', \\'pageview\\'); ga(\\'create\\', \\'UA-42101548-9\\', \\'alura.com.br\\', \\'tracker1\\', {\\'siteSpeedSampleRate\\': 50}); if (userId) ga(\\'tracker1.set\\', \\'userId\\', userId); ga(\\'tracker1.require\\', \\'displayfeatures\\'); ga(\\'tracker1.send\\', \\'pageview\\');</script><script async src=\\'//www.google-analytics.com/analytics.js\\'></script><script src=\"/assets/js/footer/footer.1570550707.js\" async></script><script src=\"https://static.criteo.net/js/ld/ld.js\" async></script><script>function criteoPush(event, data){ var isAluno = document.cookie.match(\\'alura.userId=([^;]+)\\') != null; if(isAluno) return; window.criteo_q = window.criteo_q || []; window.criteo_q.push( { event: \"setAccount\", account: 28037 }, { event: \"setEmail\", email: \"\" }, { event: \"setSiteType\", type: (/iPad/.test(navigator.userAgent) ? \"t\" : (/Mobile|iP(hone|od)|Android|BlackBerry|IEMobile/.test(navigator.userAgent) ? \"m\" : \"d\")) }, { event: event, item: data} ); }; criteoPush(\"viewHome\", \"\"); var criteoIdEl = document.querySelector(\\'[data-criteo-id]\\'); if (criteoIdEl) { var products = JSON.parse(criteoIdEl.dataset.criteoId); var planos = document.querySelectorAll(\\'[data-payment-plan]\\'); planos.forEach(function (plano) { plano.addEventListener(\\'click\\', function (event) { var price = plano.dataset.paymentPlanPrice; var totalProducts = products.length; var productIds = \\'\\'; for(var i = 0; i < totalProducts; i++){ products[i][\\'price\\'] = price; products[i][\\'quantity\\'] = 1; productIds += \\',\\' + products[i][\\'id\\']; } productIds = productIds.substr(1); // monta cookie pro Cart indicando quais cursos foram clicados document.cookie = \"criteo.productIds=\" + productIds + \"; path=/; domain=.alura.com.br\"; // manda pro criteo criteoPush(\"viewBasket\", products); }); }); }</script><script type=\"text/javascript\">_linkedin_partner_id = \"465017\"; window._linkedin_data_partner_ids = window._linkedin_data_partner_ids || []; window._linkedin_data_partner_ids.push(_linkedin_partner_id);</script><script type=\"text/javascript\">(function(){var s = document.getElementsByTagName(\"script\")[0]; var b = document.createElement(\"script\"); b.type = \"text/javascript\";b.async = true; b.src = \"https://snap.licdn.com/li.lms-analytics/insight.min.js\"; s.parentNode.insertBefore(b, s);})();</script><noscript><img height=\"1\" width=\"1\" style=\"display:none;\" alt=\"\" src=\"https://dc.ads.linkedin.com/collect/?pid=465017&fmt=gif\" /></noscript></body></html>'"
            ]
          },
          "metadata": {
            "tags": []
          },
          "execution_count": 13
        }
      ]
    },
    {
      "cell_type": "markdown",
      "metadata": {
        "id": "YV2GA2ws42ba",
        "colab_type": "text"
      },
      "source": [
        "* Função de Tratamento de String"
      ]
    },
    {
      "cell_type": "code",
      "metadata": {
        "id": "kUvuZK4r47m5",
        "colab_type": "code",
        "colab": {}
      },
      "source": [
        "def trata_html(input):\n",
        "  return \" \".join(input.split()).replace('> <', '><')"
      ],
      "execution_count": 0,
      "outputs": []
    },
    {
      "cell_type": "code",
      "metadata": {
        "id": "3LVXmzF55JXu",
        "colab_type": "code",
        "outputId": "b2e3d39a-3242-46aa-cdd0-1d95818ea174",
        "colab": {
          "base_uri": "https://localhost:8080/",
          "height": 0
        }
      },
      "source": [
        "html"
      ],
      "execution_count": 15,
      "outputs": [
        {
          "output_type": "execute_result",
          "data": {
            "text/plain": [
              "'<!DOCTYPE html><html\\nlang=\"pt-BR\"><head><meta\\ncharset=\"UTF-8\"><meta\\nname=\"viewport\" content=\"width=device-width,initial-scale=1,minimum-scale=1.0\"><title>Alura | Cursos online de tecnologia</title><meta\\nname=\"description\" content=\"Aprenda Programação, Mobile, Front-end, Design, UX, Infraestrutura, Marketing Digital, Data Science, Inovação e Gestão com didática inovadora focada no mercado real de trabalho\"><link\\nrel=\"canonical\" href=\"https://www.alura.com.br\"><link\\nhref=\"https://fonts.googleapis.com/css?display=swap&family=Open+Sans:300,400,400i,600,700,800\" rel=\"stylesheet\" crossorigin><link\\nrel=\"preconnect\" href=\"https://fonts.gstatic.com/\" crossorigin><link\\nrel=\"stylesheet\" href=\"/bundle,base/_reset,base/base,base/buttons,base/colors,base/titulos.1572363839.css\"><link\\nrel=\"stylesheet\" href=\"/bundle,home/homeNova/career-colors,home/homeNova/careers,home/homeNova/companies,home/homeNova/features,home/homeNova/home,home/homeNova/mobile,home/homeNova/testimonies.1572363839.css\"><link\\nrel=\"stylesheet\" href=\"/assets/css/block/elasticMedia.1570550707.css\"><meta\\nproperty=\"og:locale\" content=\"pt_BR\"><meta\\nproperty=\"og:description\" content=\"Aprenda Programação, Mobile, Front-end, Design, UX, Infraestrutura, Marketing Digital, Data Science, Inovação e Gestão com didática inovadora focada no mercado real de trabalho\"><meta\\nproperty=\"og:title\" content=\"Alura | Cursos online de tecnologia\"><meta\\nproperty=\"og:site_name\" content=\"Alura\"><meta\\nproperty=\"og:url\" content=\"https://www.alura.com.br/\"><meta\\nproperty=\"og:image\" content=\"https://www.alura.com.br/assets/img/alura-share.1571848411.png\"><meta\\nproperty=\"og:image:alt\" content=\"Alura logo\"><meta\\nproperty=\"fb:app_id\" content=\"140078819399376\"><meta\\nproperty=\"og:type\" content=\"website\"><meta\\nname=\"twitter:card\" content=\"summary_large_image\"><meta\\nname=\"theme-color\" content=\"#2A7AE4\"></head><body\\nclass=\"\"> <script>(function(w,d,s,l,i){w[l]=w[l]||[];w[l].push({\\'gtm.start\\':\\n\\t\\t\\t\\tnew Date().getTime(),event:\\'gtm.js\\'});var f=d.getElementsByTagName(s)[0],\\n\\t\\t\\t\\tj=d.createElement(s),dl=l!=\\'dataLayer\\'?\\'&l=\\'+l:\\'\\';j.async=true;j.src=\\n\\t\\t\\t\\t\\'https://www.googletagmanager.com/gtm.js?id=\\'+i+dl;f.parentNode.insertBefore(j,f);\\n            })(window,document,\\'script\\',\\'dataLayer\\',\\'GTM-TN542JN\\');</script> <noscript>\\n<iframe\\nsrc=\"https://www.googletagmanager.com/ns.html?id=GTM-TN542JN\"\\nheight=\"0\" width=\"0\" style=\"display:none;visibility:hidden\"></iframe>\\n</noscript> <script>setTimeout(function() {\\n\\t\\t\\tnew Image().src = \"https://www.facebook.com/tr?id=1067810189950610&ev=PageView&noscript=1\";\\n\\t\\t}, 300);</script>  <script type=\"application/ld+json\">{\\n      \"@context\": \"http://schema.org\",\\n      \"@type\": \"BreadcrumbList\",\\n\\n      \"itemListElement\": [{\\n        \"@type\": \"ListItem\",\\n        \"position\": 1,\\n        \"item\": {\\n          \"@id\": \"https://www.alura.com.br\",\\n          \"name\": \"Alura\"\\n        }\\n      }   \\n            ]\\n    }</script> <div\\nclass=\"home\"><div\\nclass=\"home__header\"><link\\nrel=\"stylesheet\" href=\"/assets/css/block/header.1570550707.css\"><link\\nrel=\"stylesheet\" href=\"/assets/css/block/headerHome.1570550707.css\"><style>@media (min-width: 1100px) {\\n\\t\\t\\t\\t.header-navegacao-cursos-lista {\\n\\t\\t\\t\\t\\tdisplay: none;\\n\\t\\t\\t\\t}\\n\\t\\t\\t\\t.header__nav {\\n\\t\\t\\t\\t\\tborder: none;\\n\\t\\t\\t\\t\\tmargin-top:10px;\\n\\t\\t\\t\\t}\\n\\t\\t\\t\\t.header {\\n\\t\\t\\t\\t\\tpadding-bottom: 0;\\n\\t\\t\\t\\t}\\n\\t\\t\\t}</style><header\\nclass=\"header--home\"><div\\nclass=\"container\"><nav\\nclass=\"header__nav--home\">\\n<a\\nhref=\"/\" class=\"header__nav__link--home header__nav__link--logo\">\\n<img\\nclass=\"header__nav__link__logo\" alt=\"Alura\"\\nsrc=\"/assets/img/home/alura-logo.1570550707.svg\">\\n</a><div\\nclass=\"header__nav__wrapper--home header__nav__wrapper--ctas--home\"><div\\nhref=\"/busca\" class=\"header-utilitario-busca header-utilitario-busca--home\" aria-label=\"Busca\">\\n<svg\\nclass=\"header-utilitario-busca-icone--home\" xmlns:xlink=\"http://www.w3.org/1999/xlink\">\\n<use\\nxlink:href=\"/svg,1570550707/header#icon-header-busca-home\"/>\\n</svg></div>\\n<a\\nhref=\"https://cursos.alura.com.br/loginForm?urlAfterLogin=https://cursos.alura.com.br/dashboard\" class=\"header__nav__link--home header__nav__link--entrar--home\">Entrar</a>\\n<a\\nhref=\"/planos-cursos-online\" class=\"header__nav__link--home header__nav__link--cta--home\">Matricule-se</a></div><div\\nclass=\"header__nav__wrapper--home header__nav__wrapper--menu header__nav__wrapper--menu--home\"><div\\nclass=\"header-barraBusca header-barraBusca--home\"><div\\nclass=\"container\"><form\\naction=\"/busca\" class=\"header-barraBusca-form\">\\n<label\\nfor=\"header-barraBusca-form-campoBusca\">Qual curso procura?</label>\\n<input\\ntype=\"search\" id=\"header-barraBusca-form-campoBusca\" name=\"query\"\\nclass=\"header-barraBusca-form-serch-input header-barra-busca--home\" placeholder=\"O que você quer aprender?\">\\n<button\\nclass=\"header-barraBusca-form-submit\" type=\"submit\">Buscar</button></form></div></div><div\\nhref=\"/cursos-online-tecnologia\" class=\"nav__courses__link--home header-navegacao-cursos header-navegacao-cursos--home header__menu-options--home header__menu-allcourses--home\">\\n<svg\\nclass=\"header-navegacao-cursos-icone\" xmlns:xlink=\"http://www.w3.org/1999/xlink\">\\n<use\\nxlink:href=\"/svg,1570550707/header#icon-header-icon-arrow-home\"/>\\n</svg>\\n<span>Todos os</span>\\n<span>Cursos</span></div>\\n<a\\nhref=\"/formacoes\" class=\"nav__courses__link--home header__menu-options--home\">\\n<span>Formações</span></a>\\n<a\\nhref=\"/empresas\" class=\"nav__courses__link--home header__menu-options--home\">\\n<span>Para</span>\\n<span>Empresas</span>\\n</a>\\n<a\\nhref=\"/como-funciona\" class=\"nav__courses__link--home header__menu-options--home\">\\n<span>Como</span>\\n<span>Funciona</span>\\n</a></div><ul\\nclass=\"header-navegacao-cursos-lista container header__menu-allcourses--home\"><li\\nclass=\"header-cursos-lista-categoria \">\\n<a\\nhref=\"/cursos-online-mobile\" class=\"unlinkify\">\\n<svg\\nclass=\"header-cursos-lista-categoria--icon\" xmlns:xlink=\"http://www.w3.org/1999/xlink\">\\n<use\\nxlink:href=\"/svg,1570550707/categorias#icon-categorias-mobile\"/>\\n</svg><div\\nclass=\"header-lista-categoria-nome--home\">\\n<span>Mobile</span></div>\\n</a></li><li\\nclass=\"header-cursos-lista-categoria \">\\n<a\\nhref=\"/cursos-online-programacao\" class=\"unlinkify\">\\n<svg\\nclass=\"header-cursos-lista-categoria--icon\" xmlns:xlink=\"http://www.w3.org/1999/xlink\">\\n<use\\nxlink:href=\"/svg,1570550707/categorias#icon-categorias-programacao\"/>\\n</svg><div\\nclass=\"header-lista-categoria-nome--home\">\\n<span>Programação</span></div>\\n</a></li><li\\nclass=\"header-cursos-lista-categoria \">\\n<a\\nhref=\"/cursos-online-front-end\" class=\"unlinkify\">\\n<svg\\nclass=\"header-cursos-lista-categoria--icon\" xmlns:xlink=\"http://www.w3.org/1999/xlink\">\\n<use\\nxlink:href=\"/svg,1570550707/categorias#icon-categorias-front-end\"/>\\n</svg><div\\nclass=\"header-lista-categoria-nome--home\">\\n<span>Front-end</span></div>\\n</a></li><li\\nclass=\"header-cursos-lista-categoria \">\\n<a\\nhref=\"/cursos-online-infraestrutura\" class=\"unlinkify\">\\n<svg\\nclass=\"header-cursos-lista-categoria--icon\" xmlns:xlink=\"http://www.w3.org/1999/xlink\">\\n<use\\nxlink:href=\"/svg,1570550707/categorias#icon-categorias-infraestrutura\"/>\\n</svg><div\\nclass=\"header-lista-categoria-nome--home\">\\n<span>Infraestrutura</span></div>\\n</a></li><li\\nclass=\"header-cursos-lista-categoria \">\\n<a\\nhref=\"/cursos-online-design-ux\" class=\"unlinkify\">\\n<svg\\nclass=\"header-cursos-lista-categoria--icon\" xmlns:xlink=\"http://www.w3.org/1999/xlink\">\\n<use\\nxlink:href=\"/svg,1570550707/categorias#icon-categorias-design-ux\"/>\\n</svg><div\\nclass=\"header-lista-categoria-nome--home\">\\n<span>Design & UX</span></div>\\n</a></li><li\\nclass=\"header-cursos-lista-categoria \">\\n<a\\nhref=\"/cursos-online-marketing-digital\" class=\"unlinkify\">\\n<svg\\nclass=\"header-cursos-lista-categoria--icon\" xmlns:xlink=\"http://www.w3.org/1999/xlink\">\\n<use\\nxlink:href=\"/svg,1570550707/categorias#icon-categorias-marketing-digital\"/>\\n</svg><div\\nclass=\"header-lista-categoria-nome--home\">\\n<span>Marketing Digital</span></div>\\n</a></li><li\\nclass=\"header-cursos-lista-categoria \">\\n<a\\nhref=\"/cursos-online-data-science\" class=\"unlinkify\">\\n<svg\\nclass=\"header-cursos-lista-categoria--icon\" xmlns:xlink=\"http://www.w3.org/1999/xlink\">\\n<use\\nxlink:href=\"/svg,1570550707/categorias#icon-categorias-data-science\"/>\\n</svg><div\\nclass=\"header-lista-categoria-nome--home\">\\n<span>Data Science</span></div>\\n</a></li><li\\nclass=\"header-cursos-lista-categoria \">\\n<a\\nhref=\"/cursos-online-inovacao-gestao\" class=\"unlinkify\">\\n<svg\\nclass=\"header-cursos-lista-categoria--icon\" xmlns:xlink=\"http://www.w3.org/1999/xlink\">\\n<use\\nxlink:href=\"/svg,1570550707/categorias#icon-categorias-inovacao-gestao\"/>\\n</svg><div\\nclass=\"header-lista-categoria-nome--home\">\\n<span>Inovação & Gestão</span></div>\\n</a></li></ul></nav></div></header><div\\nclass=\"container\"><div\\nclass=\"home--background\"><div\\nclass=\"home__titles\"><h1 class=\"home__titles__main-title\">Cursos de Tecnologia e Negócios Digitais</h1><p\\nclass=\"home__titles__sub-title\">Você vai estudar, praticar, discutir e aprender em uma comunidade de inquietos e inovadores</p></div></div><link\\nrel=\"stylesheet\" href=\"/assets/css/block/categories.1570550707.css\"><link\\nrel=\"stylesheet\" href=\"/assets/css/block/navCategoriasHome.1572363839.css\"><link\\nrel=\"stylesheet\" href=\"/assets/css/block/navCategoriasHome.1572363839.css\"><nav\\nclass=\"categories--home\"><div\\nclass=\"categories__elements--home\"><div\\nclass=\"categories__wrapper__links--home\">\\n<a\\nclass=\"categories__link--home\" href=\"/cursos-online-mobile\"><div\\nclass=\"categories__link-wrapper--home\"><div\\nclass=\"categories__svg-wrapper--home\" style=\"background:#ffba05;\">\\n<svg\\nclass=\"pagina-categoria__svg--home categories__svg--home\" xmlns:xlink=\"http://www.w3.org/1999/xlink\">\\n<use\\nxlink:href=\"/svg,1570550707/categorias#icon-categorias-mobile\"/>\\n</svg></div><div\\nstyle=\"color:#ffba05;\">\\n<span\\nclass=\"categories__link__text\">Cursos de</span><h4 class=\"categories__link__category-name\">Mobile</h4></div></div>\\n</a><nav\\nclass=\"categories__calls--home\">\\n<a\\nhref=\"/cursos-online-mobile/ios\"\\nclass=\"categories__calls__description--home\">iOS e Swift</a><span\\nclass=\"categories__calls__description-separator\">, </span>\\n<a\\nhref=\"/cursos-online-mobile/android\"\\nclass=\"categories__calls__description--home\">Android e Kotlin</a><span\\nclass=\"categories__calls__description-separator\">, </span>\\n<a\\nhref=\"/cursos-online-mobile/multiplataforma\"\\nclass=\"categories__calls__description--home\">Ionic, React Native</a><span\\nclass=\"categories__calls__description-separator\">, </span>\\n<a\\nhref=\"/cursos-online-mobile/jogos\"\\nclass=\"categories__calls__description--home\">Jogos</a><span\\nclass=\"categories__calls__description-separator\">, </span>\\n<a\\nhref=\"/cursos-online-mobile\"\\nclass=\"categories__calls__link-see-more--home\">e mais...</a></nav></div><div\\nclass=\"categories__wrapper__links--home\">\\n<a\\nclass=\"categories__link--home\" href=\"/cursos-online-programacao\"><div\\nclass=\"categories__link-wrapper--home\"><div\\nclass=\"categories__svg-wrapper--home\" style=\"background:#00c86f;\">\\n<svg\\nclass=\"pagina-categoria__svg--home categories__svg--home\" xmlns:xlink=\"http://www.w3.org/1999/xlink\">\\n<use\\nxlink:href=\"/svg,1570550707/categorias#icon-categorias-programacao\"/>\\n</svg></div><div\\nstyle=\"color:#00c86f;\">\\n<span\\nclass=\"categories__link__text\">Cursos de</span><h4 class=\"categories__link__category-name\">Programação</h4></div></div>\\n</a><nav\\nclass=\"categories__calls--home\">\\n<a\\nhref=\"/cursos-online-programacao/logica\"\\nclass=\"categories__calls__description--home\">Lógica</a><span\\nclass=\"categories__calls__description-separator\">, </span>\\n<a\\nhref=\"/cursos-online-programacao/python\"\\nclass=\"categories__calls__description--home\">Python</a><span\\nclass=\"categories__calls__description-separator\">, </span>\\n<a\\nhref=\"/cursos-online-programacao/php\"\\nclass=\"categories__calls__description--home\">PHP</a><span\\nclass=\"categories__calls__description-separator\">, </span>\\n<a\\nhref=\"/cursos-online-programacao/java\"\\nclass=\"categories__calls__description--home\">Java</a><span\\nclass=\"categories__calls__description-separator\">, </span>\\n<a\\nhref=\"/cursos-online-programacao/dotnet\"\\nclass=\"categories__calls__description--home\">.NET</a><span\\nclass=\"categories__calls__description-separator\">, </span>\\n<a\\nhref=\"/cursos-online-programacao/node-js\"\\nclass=\"categories__calls__description--home\">Node JS</a><span\\nclass=\"categories__calls__description-separator\">, </span>\\n<a\\nhref=\"/cursos-online-programacao/ruby\"\\nclass=\"categories__calls__description--home\">Ruby & Rails</a><span\\nclass=\"categories__calls__description-separator\">, </span>\\n<a\\nhref=\"/cursos-online-programacao/linguagem-c\"\\nclass=\"categories__calls__description--home\">C</a><span\\nclass=\"categories__calls__description-separator\">, </span>\\n<a\\nhref=\"/cursos-online-programacao/computacao\"\\nclass=\"categories__calls__description--home\">Computação</a><span\\nclass=\"categories__calls__description-separator\">, </span>\\n<a\\nhref=\"/cursos-online-programacao/jogos\"\\nclass=\"categories__calls__description--home\">Jogos</a><span\\nclass=\"categories__calls__description-separator\">, </span>\\n<a\\nhref=\"/cursos-online-programacao\"\\nclass=\"categories__calls__link-see-more--home\">e mais...</a></nav></div><div\\nclass=\"categories__wrapper__links--home\">\\n<a\\nclass=\"categories__link--home\" href=\"/cursos-online-front-end\"><div\\nclass=\"categories__link-wrapper--home\"><div\\nclass=\"categories__svg-wrapper--home\" style=\"background:#6bd1ff;\">\\n<svg\\nclass=\"pagina-categoria__svg--home categories__svg--home\" xmlns:xlink=\"http://www.w3.org/1999/xlink\">\\n<use\\nxlink:href=\"/svg,1570550707/categorias#icon-categorias-front-end\"/>\\n</svg></div><div\\nstyle=\"color:#6bd1ff;\">\\n<span\\nclass=\"categories__link__text\">Cursos de</span><h4 class=\"categories__link__category-name\">Front-end</h4></div></div>\\n</a><nav\\nclass=\"categories__calls--home\">\\n<a\\nhref=\"/cursos-online-front-end/front-end\"\\nclass=\"categories__calls__description--home\">HTML, CSS</a><span\\nclass=\"categories__calls__description-separator\">, </span>\\n<a\\nhref=\"/cursos-online-front-end/javascript\"\\nclass=\"categories__calls__description--home\">JavaScript</a><span\\nclass=\"categories__calls__description-separator\">, </span>\\n<a\\nhref=\"/cursos-online-front-end/frameworks-mvc-em-javascript\"\\nclass=\"categories__calls__description--home\">Angular, React</a><span\\nclass=\"categories__calls__description-separator\">, </span>\\n<a\\nhref=\"/cursos-online-front-end/jquery\"\\nclass=\"categories__calls__description--home\">jQuery</a><span\\nclass=\"categories__calls__description-separator\">, </span>\\n<a\\nhref=\"/cursos-online-front-end\"\\nclass=\"categories__calls__link-see-more--home\">e mais...</a></nav></div><div\\nclass=\"categories__wrapper__links--home\">\\n<a\\nclass=\"categories__link--home\" href=\"/cursos-online-infraestrutura\"><div\\nclass=\"categories__link-wrapper--home\"><div\\nclass=\"categories__svg-wrapper--home\" style=\"background:#f16165;\">\\n<svg\\nclass=\"pagina-categoria__svg--home categories__svg--home\" xmlns:xlink=\"http://www.w3.org/1999/xlink\">\\n<use\\nxlink:href=\"/svg,1570550707/categorias#icon-categorias-infraestrutura\"/>\\n</svg></div><div\\nstyle=\"color:#f16165;\">\\n<span\\nclass=\"categories__link__text\">Cursos de</span><h4 class=\"categories__link__category-name\">Infraestrutura</h4></div></div>\\n</a><nav\\nclass=\"categories__calls--home\">\\n<a\\nhref=\"/cursos-online-infraestrutura/devops\"\\nclass=\"categories__calls__description--home\">DevOps e Git</a><span\\nclass=\"categories__calls__description-separator\">, </span>\\n<a\\nhref=\"/cursos-online-infraestrutura/cloud-computing\"\\nclass=\"categories__calls__description--home\">Cloud</a><span\\nclass=\"categories__calls__description-separator\">, </span>\\n<a\\nhref=\"/cursos-online-infraestrutura/linux-comandos-e-processos\"\\nclass=\"categories__calls__description--home\">Linux</a><span\\nclass=\"categories__calls__description-separator\">, </span>\\n<a\\nhref=\"/cursos-online-infraestrutura/internet-das-coisas\"\\nclass=\"categories__calls__description--home\">IoT</a><span\\nclass=\"categories__calls__description-separator\">, </span>\\n<a\\nhref=\"/cursos-online-infraestrutura/redes\"\\nclass=\"categories__calls__description--home\">Redes</a><span\\nclass=\"categories__calls__description-separator\">, </span>\\n<a\\nhref=\"/cursos-online-infraestrutura\"\\nclass=\"categories__calls__link-see-more--home\">e mais...</a></nav></div><div\\nclass=\"categories__wrapper__links--home\">\\n<a\\nclass=\"categories__link--home\" href=\"/cursos-online-design-ux\"><div\\nclass=\"categories__link-wrapper--home\"><div\\nclass=\"categories__svg-wrapper--home\" style=\"background:#dc6ebe;\">\\n<svg\\nclass=\"pagina-categoria__svg--home categories__svg--home\" xmlns:xlink=\"http://www.w3.org/1999/xlink\">\\n<use\\nxlink:href=\"/svg,1570550707/categorias#icon-categorias-design-ux\"/>\\n</svg></div><div\\nstyle=\"color:#dc6ebe;\">\\n<span\\nclass=\"categories__link__text\">Cursos de</span><h4 class=\"categories__link__category-name\">Design & UX</h4></div></div>\\n</a><nav\\nclass=\"categories__calls--home\">\\n<a\\nhref=\"/cursos-online-design-ux/wwww\"\\nclass=\"categories__calls__description--home\">Photoshop e Illustrator</a><span\\nclass=\"categories__calls__description-separator\">, </span>\\n<a\\nhref=\"/cursos-online-design-ux/ux\"\\nclass=\"categories__calls__description--home\">Usabilidade e UX</a><span\\nclass=\"categories__calls__description-separator\">, </span>\\n<a\\nhref=\"/cursos-online-design-ux/video\"\\nclass=\"categories__calls__description--home\">Vídeo e Motion</a><span\\nclass=\"categories__calls__description-separator\">, </span>\\n<a\\nhref=\"/cursos-online-design-ux/3d\"\\nclass=\"categories__calls__description--home\">3D</a><span\\nclass=\"categories__calls__description-separator\">, </span>\\n<a\\nhref=\"/cursos-online-design-ux\"\\nclass=\"categories__calls__link-see-more--home\">e mais...</a></nav></div><div\\nclass=\"categories__wrapper__links--home\">\\n<a\\nclass=\"categories__link--home\" href=\"/cursos-online-marketing-digital\"><div\\nclass=\"categories__link-wrapper--home\"><div\\nclass=\"categories__svg-wrapper--home\" style=\"background:#6b5be2;\">\\n<svg\\nclass=\"pagina-categoria__svg--home categories__svg--home\" xmlns:xlink=\"http://www.w3.org/1999/xlink\">\\n<use\\nxlink:href=\"/svg,1570550707/categorias#icon-categorias-marketing-digital\"/>\\n</svg></div><div\\nstyle=\"color:#6b5be2;\">\\n<span\\nclass=\"categories__link__text\">Cursos de</span><h4 class=\"categories__link__category-name\">Marketing Digital</h4></div></div>\\n</a><nav\\nclass=\"categories__calls--home\">\\n<a\\nhref=\"/cursos-online-marketing-digital/ads\"\\nclass=\"categories__calls__description--home\">Ads</a><span\\nclass=\"categories__calls__description-separator\">, </span>\\n<a\\nhref=\"/cursos-online-marketing-digital/marketing-digital\"\\nclass=\"categories__calls__description--home\">Marketing</a><span\\nclass=\"categories__calls__description-separator\">, </span>\\n<a\\nhref=\"/cursos-online-marketing-digital/seo\"\\nclass=\"categories__calls__description--home\">SEO</a><span\\nclass=\"categories__calls__description-separator\">, </span>\\n<a\\nhref=\"/cursos-online-marketing-digital/e-commerce\"\\nclass=\"categories__calls__description--home\">E-commerce</a><span\\nclass=\"categories__calls__description-separator\">, </span>\\n<a\\nhref=\"/cursos-online-marketing-digital/social-media\"\\nclass=\"categories__calls__description--home\">Social Media</a><span\\nclass=\"categories__calls__description-separator\">, </span>\\n<a\\nhref=\"/cursos-online-marketing-digital/youtube\"\\nclass=\"categories__calls__description--home\">YouTube</a><span\\nclass=\"categories__calls__description-separator\">, </span>\\n<a\\nhref=\"/cursos-online-marketing-digital\"\\nclass=\"categories__calls__link-see-more--home\">e mais...</a></nav></div><div\\nclass=\"categories__wrapper__links--home\">\\n<a\\nclass=\"categories__link--home\" href=\"/cursos-online-data-science\"><div\\nclass=\"categories__link-wrapper--home\"><div\\nclass=\"categories__svg-wrapper--home\" style=\"background:#9cd33b;\">\\n<svg\\nclass=\"pagina-categoria__svg--home categories__svg--home\" xmlns:xlink=\"http://www.w3.org/1999/xlink\">\\n<use\\nxlink:href=\"/svg,1570550707/categorias#icon-categorias-data-science\"/>\\n</svg></div><div\\nstyle=\"color:#9cd33b;\">\\n<span\\nclass=\"categories__link__text\">Cursos de</span><h4 class=\"categories__link__category-name\">Data Science</h4></div></div>\\n</a><nav\\nclass=\"categories__calls--home\">\\n<a\\nhref=\"/cursos-online-data-science/sql\"\\nclass=\"categories__calls__description--home\">SQL e Banco de Dados</a><span\\nclass=\"categories__calls__description-separator\">, </span>\\n<a\\nhref=\"/cursos-online-data-science/nosql\"\\nclass=\"categories__calls__description--home\">NoSQL</a><span\\nclass=\"categories__calls__description-separator\">, </span>\\n<a\\nhref=\"/cursos-online-data-science/data-science\"\\nclass=\"categories__calls__description--home\">Data Science</a><span\\nclass=\"categories__calls__description-separator\">, </span>\\n<a\\nhref=\"/cursos-online-data-science/machine-learning\"\\nclass=\"categories__calls__description--home\">Machine Learning</a><span\\nclass=\"categories__calls__description-separator\">, </span>\\n<a\\nhref=\"/cursos-online-data-science/business-intelligence\"\\nclass=\"categories__calls__description--home\">BI</a><span\\nclass=\"categories__calls__description-separator\">, </span>\\n<a\\nhref=\"/cursos-online-data-science/estatistica\"\\nclass=\"categories__calls__description--home\">Estatística</a><span\\nclass=\"categories__calls__description-separator\">, </span>\\n<a\\nhref=\"/cursos-online-data-science/excel\"\\nclass=\"categories__calls__description--home\">Excel</a><span\\nclass=\"categories__calls__description-separator\">, </span>\\n<a\\nhref=\"/cursos-online-data-science\"\\nclass=\"categories__calls__link-see-more--home\">e mais...</a></nav></div><div\\nclass=\"categories__wrapper__links--home\">\\n<a\\nclass=\"categories__link--home\" href=\"/cursos-online-inovacao-gestao\"><div\\nclass=\"categories__link-wrapper--home\"><div\\nclass=\"categories__svg-wrapper--home\" style=\"background:#ff8c2a;\">\\n<svg\\nclass=\"pagina-categoria__svg--home categories__svg--home\" xmlns:xlink=\"http://www.w3.org/1999/xlink\">\\n<use\\nxlink:href=\"/svg,1570550707/categorias#icon-categorias-inovacao-gestao\"/>\\n</svg></div><div\\nstyle=\"color:#ff8c2a;\">\\n<span\\nclass=\"categories__link__text\">Cursos de</span><h4 class=\"categories__link__category-name\">Inovação & Gestão</h4></div></div>\\n</a><nav\\nclass=\"categories__calls--home\">\\n<a\\nhref=\"/cursos-online-inovacao-gestao/agilidade\"\\nclass=\"categories__calls__description--home\">Métodos Ágeis</a><span\\nclass=\"categories__calls__description-separator\">, </span>\\n<a\\nhref=\"/cursos-online-inovacao-gestao/habilidades-interpessoais\"\\nclass=\"categories__calls__description--home\">Softskills</a><span\\nclass=\"categories__calls__description-separator\">, </span>\\n<a\\nhref=\"/cursos-online-inovacao-gestao/lideranca-gestao-estrategica\"\\nclass=\"categories__calls__description--home\">Liderança e Gestão</a><span\\nclass=\"categories__calls__description-separator\">, </span>\\n<a\\nhref=\"/cursos-online-inovacao-gestao/startup-empreendedorismo\"\\nclass=\"categories__calls__description--home\">Empreendedorismo</a><span\\nclass=\"categories__calls__description-separator\">, </span>\\n<a\\nhref=\"/cursos-online-inovacao-gestao\"\\nclass=\"categories__calls__link-see-more--home\">e mais...</a></nav></div></div></nav></div></div><main\\nclass=\"home__main-content\"><section\\nclass=\"features container\"><aside\\nclass=\"features__info\"><h2 class=\"features__info__title\">\\n<strong>Somos a maior plataforma brasileira</strong>\\n<span>Cursos de tecnologia com conteúdo 100% em português</span></h2><ul\\nclass=\"features__info__list\"><li\\nclass=\"features__info__list__item features__info__list__item--content\"><div\\nclass=\"features__info__list__item__wrapper\"><h4 class=\"features__info__list__item__title\">O conteúdo que você precisa</h4><p\\nclass=\"features__info__list__item__description\">São 971 cursos e novos lançamentos toda\\nsemana, além de atualizações e melhorias constantes.</p></div></li><li\\nclass=\"features__info__list__item features__info__list__item--practice\"><div\\nclass=\"features__info__list__item__wrapper\"><h4 class=\"features__info__list__item__title\">Conhecimento real</h4><p\\nclass=\"features__info__list__item__description\">Garantimos conhecimento com profundidade e diversidade. Aprenda com os melhores!</p></div></li><li\\nclass=\"features__info__list__item features__info__list__item--messages\"><div\\nclass=\"features__info__list__item__wrapper\"><h4 class=\"features__info__list__item__title\">Aprenda compartilhando</h4><p\\nclass=\"features__info__list__item__description\">\\nFaça parte de uma grande rede de apaixonados por tudo que é digital.</p></div></li></ul></aside><section\\nclass=\"features__video\"><div\\nclass=\"features__video-wrapper\"><div\\nclass=\"home-diferenciais-video\"><div\\nclass=\"home-diferenciais-video-wrapper\"><div\\nclass=\"elasticMedia-container\" data-src=\"//player.vimeo.com/video/227939524\">\\n<noscript>\\n<iframe\\nclass=\"elasticMedia\" src=\"//player.vimeo.com/video/227939524\" frameborder=\"0\" webkitallowfullscreen\\nmozallowfullscreen allowfullscreen></iframe>\\n</noscript></div></div></div></div>\\n<a\\nclass=\"features__video__link\" href=\"/como-funciona\">Veja como funciona</a></section></section><section\\nclass=\"careers\"><div\\nclass=\"container\"><h2 class=\"careers__title\"><div\\nclass=\"careers__title__wrapper\">\\nNão sabe por onde começar?\\n<span>Sequências de cursos organizados em <strong>Formações</strong></span></div></h2><ul\\nclass=\"careers__list\"><style type=\"text/css\">.career-mobile-title:after {\\n\\t\\t                            \\tbackground-color:#ffba05;\\n\\t\\t                            }</style><li\\nclass=\"careers__list__item\" style=\"color:#ffba05;\"><div\\nclass=\"careers__list__item__title-wrapper\"><div\\nclass=\"categories__svg-wrapper\" style=\"background-color:#ffba05;\">\\n<svg\\nclass=\"pagina-categoria__svg svgFill-mobile categories__svg\" xmlns:xlink=\"http://www.w3.org/1999/xlink\">\\n<use\\nxlink:href=\"/svg,1570550707/categorias#icon-categorias-mobile\"/>\\n</svg></div><h3 class=\"careers__list__item__title\">Mobile</h3></div><h4 class=\"careers__list__item__sub-title career-mobile-title\">Formações</h4><ul\\nclass=\"careers__list__item__list careers__list__item__list--formacoes\"><li\\nclass=\"careers__list__item__list__item\">\\n<a\\nclass=\"careers__list__item__list__item__link\" href=\"/formacao-android\">\\nAndroid                                            </a></li><li\\nclass=\"careers__list__item__list__item\">\\n<a\\nclass=\"careers__list__item__list__item__link\" href=\"/formacao-arquiteto-android\">\\nArquitetura Android                                            </a></li><li\\nclass=\"careers__list__item__list__item\">\\n<a\\nclass=\"careers__list__item__list__item__link\" href=\"/formacao-ios\">\\niOS                                            </a></li><li\\nclass=\"careers__list__item__list__item\">\\n<a\\nclass=\"careers__list__item__list__item__link\" href=\"/formacao-xamarin\">\\nMultiplataforma mobile Xamarin                                            </a></li><li\\nclass=\"careers__list__item__list__item\">\\n<a\\nclass=\"careers__list__item__list__item__link\" href=\"/formacao-testes-automatizados-android\">\\nTestes automatizados no Android                                            </a></li></ul></li><style type=\"text/css\">.career-programacao-title:after {\\n\\t\\t                            \\tbackground-color:#00c86f;\\n\\t\\t                            }</style><li\\nclass=\"careers__list__item\" style=\"color:#00c86f;\"><div\\nclass=\"careers__list__item__title-wrapper\"><div\\nclass=\"categories__svg-wrapper\" style=\"background-color:#00c86f;\">\\n<svg\\nclass=\"pagina-categoria__svg svgFill-programacao categories__svg\" xmlns:xlink=\"http://www.w3.org/1999/xlink\">\\n<use\\nxlink:href=\"/svg,1570550707/categorias#icon-categorias-programacao\"/>\\n</svg></div><h3 class=\"careers__list__item__title\">Programação</h3></div><h4 class=\"careers__list__item__sub-title career-programacao-title\">Formações</h4><ul\\nclass=\"careers__list__item__list careers__list__item__list--formacoes\"><li\\nclass=\"careers__list__item__list__item\">\\n<a\\nclass=\"careers__list__item__list__item__link\" href=\"/formacao-dotnet\">\\n.NET                                            </a></li><li\\nclass=\"careers__list__item__list__item\">\\n<a\\nclass=\"careers__list__item__list__item__link\" href=\"/formacao-certificacao-csharp\">\\nCertificação C# Programming                                            </a></li><li\\nclass=\"careers__list__item__list__item\">\\n<a\\nclass=\"careers__list__item__list__item__link\" href=\"/formacao-certificacao-java\">\\nCertificação Java                                            </a></li><li\\nclass=\"careers__list__item__list__item\">\\n<a\\nclass=\"careers__list__item__list__item__link\" href=\"/formacao-clojure\">\\nClojure                                            </a></li><li\\nclass=\"careers__list__item__list__item\">\\n<a\\nclass=\"careers__list__item__list__item__link\" href=\"/formacao-desenvolvedor-php\">\\nDesenvolvedor PHP                                            </a></li><li\\nclass=\"careers__list__item__list__item\">\\n<a\\nclass=\"careers__list__item__list__item__link\" href=\"/formacao-vb-net\">\\nDesenvolvedor VB.NET                                            </a></li><li\\nclass=\"careers__list__item__list__item\">\\n<a\\nclass=\"careers__list__item__list__item__link\" href=\"/formacao-expert-em-orientacao-a-objetos\">\\nExpert em Orientação a Objetos                                            </a></li><li\\nclass=\"careers__list__item__list__item\">\\n<a\\nclass=\"careers__list__item__list__item__link\" href=\"/formacao-programacao\">\\nIniciante em Programação                                            </a></li><li\\nclass=\"careers__list__item__list__item\">\\n<a\\nclass=\"careers__list__item__list__item__link\" href=\"/formacao-integracao-aplicacoes-java\">\\nIntegração de Aplicações Java                                            </a></li><li\\nclass=\"careers__list__item__list__item\">\\n<a\\nclass=\"careers__list__item__list__item__link\" href=\"/formacao-java\">\\nJava                                            </a></li><li\\nclass=\"careers__list__item__list__item\">\\n<a\\nclass=\"careers__list__item__list__item__link\" href=\"/formacao-java-ee\">\\nJava EE                                            </a></li><li\\nclass=\"careers__list__item__list__item\">\\n<a\\nclass=\"careers__list__item__list__item__link\" href=\"/formacao-jogos-unity\">\\nJogos com Unity                                            </a></li><li\\nclass=\"careers__list__item__list__item\">\\n<a\\nclass=\"careers__list__item__list__item__link\" href=\"/formacao-node-js-12\">\\nNodeJS                                            </a></li><li\\nclass=\"careers__list__item__list__item\">\\n<a\\nclass=\"careers__list__item__list__item__link\" href=\"/formacao-Python-linguagem\">\\nPython                                            </a></li><li\\nclass=\"careers__list__item__list__item\">\\n<a\\nclass=\"careers__list__item__list__item__link\" href=\"/formacao-python-web\">\\nPython Web                                            </a></li><li\\nclass=\"careers__list__item__list__item\">\\n<a\\nclass=\"careers__list__item__list__item__link\" href=\"/formacao-ruby-on-rails\">\\nRuby On Rails                                            </a></li><li\\nclass=\"careers__list__item__list__item\">\\n<a\\nclass=\"careers__list__item__list__item__link\" href=\"/formacao-wordpress\">\\nWordpress                                            </a></li></ul></li><style type=\"text/css\">.career-front-end-title:after {\\n\\t\\t                            \\tbackground-color:#6bd1ff;\\n\\t\\t                            }</style><li\\nclass=\"careers__list__item\" style=\"color:#6bd1ff;\"><div\\nclass=\"careers__list__item__title-wrapper\"><div\\nclass=\"categories__svg-wrapper\" style=\"background-color:#6bd1ff;\">\\n<svg\\nclass=\"pagina-categoria__svg svgFill-front-end categories__svg\" xmlns:xlink=\"http://www.w3.org/1999/xlink\">\\n<use\\nxlink:href=\"/svg,1570550707/categorias#icon-categorias-front-end\"/>\\n</svg></div><h3 class=\"careers__list__item__title\">Front-end</h3></div><h4 class=\"careers__list__item__sub-title career-front-end-title\">Formações</h4><ul\\nclass=\"careers__list__item__list careers__list__item__list--formacoes\"><li\\nclass=\"careers__list__item__list__item\">\\n<a\\nclass=\"careers__list__item__list__item__link\" href=\"/formacao-acessibilidade-web\">\\nAcessibilidade Web                                            </a></li><li\\nclass=\"careers__list__item__list__item\">\\n<a\\nclass=\"careers__list__item__list__item__link\" href=\"/formacao-angular\">\\nAngular                                            </a></li><li\\nclass=\"careers__list__item__list__item\">\\n<a\\nclass=\"careers__list__item__list__item__link\" href=\"/formacao-front-end\">\\nFront-end                                            </a></li><li\\nclass=\"careers__list__item__list__item\">\\n<a\\nclass=\"careers__list__item__list__item__link\" href=\"/formacao-html-e-css\">\\nHTML e CSS                                            </a></li><li\\nclass=\"careers__list__item__list__item\">\\n<a\\nclass=\"careers__list__item__list__item__link\" href=\"/formacao-node-js\">\\nNode.js                                            </a></li><li\\nclass=\"careers__list__item__list__item\">\\n<a\\nclass=\"careers__list__item__list__item__link\" href=\"/formacao-react\">\\nReact                                            </a></li><li\\nclass=\"careers__list__item__list__item\">\\n<a\\nclass=\"careers__list__item__list__item__link\" href=\"/formacao-vuejs\">\\nVue.js                                            </a></li></ul></li><style type=\"text/css\">.career-infraestrutura-title:after {\\n\\t\\t                            \\tbackground-color:#f16165;\\n\\t\\t                            }</style><li\\nclass=\"careers__list__item\" style=\"color:#f16165;\"><div\\nclass=\"careers__list__item__title-wrapper\"><div\\nclass=\"categories__svg-wrapper\" style=\"background-color:#f16165;\">\\n<svg\\nclass=\"pagina-categoria__svg svgFill-infraestrutura categories__svg\" xmlns:xlink=\"http://www.w3.org/1999/xlink\">\\n<use\\nxlink:href=\"/svg,1570550707/categorias#icon-categorias-infraestrutura\"/>\\n</svg></div><h3 class=\"careers__list__item__title\">Infraestrutura</h3></div><h4 class=\"careers__list__item__sub-title career-infraestrutura-title\">Formações</h4><ul\\nclass=\"careers__list__item__list careers__list__item__list--formacoes\"><li\\nclass=\"careers__list__item__list__item\">\\n<a\\nclass=\"careers__list__item__list__item__link\" href=\"/formacao-redes\">\\nAdministrador de Redes                                            </a></li><li\\nclass=\"careers__list__item__list__item\">\\n<a\\nclass=\"careers__list__item__list__item__link\" href=\"/formacao-amazon-web-services\">\\nAmazon Web Services                                            </a></li><li\\nclass=\"careers__list__item__list__item\">\\n<a\\nclass=\"careers__list__item__list__item__link\" href=\"/formacao-certificacao-cisco-ccna\">\\nCertificação Cisco CCNA                                            </a></li><li\\nclass=\"careers__list__item__list__item\">\\n<a\\nclass=\"careers__list__item__list__item__link\" href=\"/formacao-certificacao-lpi-linux-essentials\">\\nCertificação LPI Linux Essentials                                            </a></li><li\\nclass=\"careers__list__item__list__item\">\\n<a\\nclass=\"careers__list__item__list__item__link\" href=\"/formacao-devops\">\\nDevOps                                            </a></li><li\\nclass=\"careers__list__item__list__item\">\\n<a\\nclass=\"careers__list__item__list__item__link\" href=\"/formacao-internet-das-coisas-iot\">\\nInternet das Coisas                                            </a></li><li\\nclass=\"careers__list__item__list__item\">\\n<a\\nclass=\"careers__list__item__list__item__link\" href=\"/formacao-microcontroladores-eletronica-aplicada\">\\nMicrocontroladores e Eletrônica Aplicada                                            </a></li><li\\nclass=\"careers__list__item__list__item\">\\n<a\\nclass=\"careers__list__item__list__item__link\" href=\"/formacao-raspberry-pi\">\\nRaspberry Pi                                            </a></li><li\\nclass=\"careers__list__item__list__item\">\\n<a\\nclass=\"careers__list__item__list__item__link\" href=\"/formacao-seguranca-de-aplicacoes\">\\nSegurança de aplicações                                            </a></li></ul></li><style type=\"text/css\">.career-design-ux-title:after {\\n\\t\\t                            \\tbackground-color:#dc6ebe;\\n\\t\\t                            }</style><li\\nclass=\"careers__list__item\" style=\"color:#dc6ebe;\"><div\\nclass=\"careers__list__item__title-wrapper\"><div\\nclass=\"categories__svg-wrapper\" style=\"background-color:#dc6ebe;\">\\n<svg\\nclass=\"pagina-categoria__svg svgFill-design-ux categories__svg\" xmlns:xlink=\"http://www.w3.org/1999/xlink\">\\n<use\\nxlink:href=\"/svg,1570550707/categorias#icon-categorias-design-ux\"/>\\n</svg></div><h3 class=\"careers__list__item__title\">Design & UX</h3></div><h4 class=\"careers__list__item__sub-title career-design-ux-title\">Formações</h4><ul\\nclass=\"careers__list__item__list careers__list__item__list--formacoes\"><li\\nclass=\"careers__list__item__list__item\">\\n<a\\nclass=\"careers__list__item__list__item__link\" href=\"/formacao-ui-adobe-xd\">\\nAdobe XD                                            </a></li><li\\nclass=\"careers__list__item__list__item\">\\n<a\\nclass=\"careers__list__item__list__item__link\" href=\"/formacao-desenhohumano-photoshop\">\\nDesenho humano no Photoshop                                            </a></li><li\\nclass=\"careers__list__item__list__item\">\\n<a\\nclass=\"careers__list__item__list__item__link\" href=\"/formacao-design-grafico\">\\nDesign Gráfico                                            </a></li><li\\nclass=\"careers__list__item__list__item\">\\n<a\\nclass=\"careers__list__item__list__item__link\" href=\"/formacao-editor-video\">\\nEditor de vídeo                                            </a></li><li\\nclass=\"careers__list__item__list__item\">\\n<a\\nclass=\"careers__list__item__list__item__link\" href=\"/formacao-ilustra-publicitaria\">\\nIlustração Publicitária no Photoshop                                            </a></li><li\\nclass=\"careers__list__item__list__item\">\\n<a\\nclass=\"careers__list__item__list__item__link\" href=\"/formacao-producao-indesign\">\\nInDesign                                            </a></li><li\\nclass=\"careers__list__item__list__item\">\\n<a\\nclass=\"careers__list__item__list__item__link\" href=\"/formacao-motion-design\">\\nMotion Design                                            </a></li><li\\nclass=\"careers__list__item__list__item\">\\n<a\\nclass=\"careers__list__item__list__item__link\" href=\"/formacao-pinturadigital-photoshop\">\\nPintura Digital no Photoshop                                            </a></li><li\\nclass=\"careers__list__item__list__item\">\\n<a\\nclass=\"careers__list__item__list__item__link\" href=\"/formacao-producao-com-photoshop\">\\nProdução com Photoshop                                            </a></li><li\\nclass=\"careers__list__item__list__item\">\\n<a\\nclass=\"careers__list__item__list__item__link\" href=\"/formacao-procucao-premiere\">\\nProdução de vídeo no Premiere                                            </a></li><li\\nclass=\"careers__list__item__list__item\">\\n<a\\nclass=\"careers__list__item__list__item__link\" href=\"/formacao-grafica-illustrator\">\\nProdução Gráfica com Illustrator                                            </a></li><li\\nclass=\"careers__list__item__list__item\">\\n<a\\nclass=\"careers__list__item__list__item__link\" href=\"/formacao-ui-sketch\">\\nSketch                                            </a></li><li\\nclass=\"careers__list__item__list__item\">\\n<a\\nclass=\"careers__list__item__list__item__link\" href=\"/formacao-unreal-engine\">\\nUnreal Engine                                            </a></li><li\\nclass=\"careers__list__item__list__item\">\\n<a\\nclass=\"careers__list__item__list__item__link\" href=\"/formacao-ux\">\\nUX Design                                            </a></li></ul></li><style type=\"text/css\">.career-data-science-title:after {\\n\\t\\t                            \\tbackground-color:#9cd33b;\\n\\t\\t                            }</style><li\\nclass=\"careers__list__item\" style=\"color:#9cd33b;\"><div\\nclass=\"careers__list__item__title-wrapper\"><div\\nclass=\"categories__svg-wrapper\" style=\"background-color:#9cd33b;\">\\n<svg\\nclass=\"pagina-categoria__svg svgFill-data-science categories__svg\" xmlns:xlink=\"http://www.w3.org/1999/xlink\">\\n<use\\nxlink:href=\"/svg,1570550707/categorias#icon-categorias-data-science\"/>\\n</svg></div><h3 class=\"careers__list__item__title\">Data Science</h3></div><h4 class=\"careers__list__item__sub-title career-data-science-title\">Formações</h4><ul\\nclass=\"careers__list__item__list careers__list__item__list--formacoes\"><li\\nclass=\"careers__list__item__list__item\">\\n<a\\nclass=\"careers__list__item__list__item__link\" href=\"/formacao-business-intelligence-data-warehouse-pentaho\">\\nBI e Data Warehouse com Pentaho                                            </a></li><li\\nclass=\"careers__list__item__list__item\">\\n<a\\nclass=\"careers__list__item__list__item__link\" href=\"/formacao-business-intelligence-data-warehouse\">\\nBI e Data Warehouse com SQL Server e Power BI                                            </a></li><li\\nclass=\"careers__list__item__list__item\">\\n<a\\nclass=\"careers__list__item__list__item__link\" href=\"/formacao-certificacao-oracle-12c\">\\nCertificação Oracle 12c                                            </a></li><li\\nclass=\"careers__list__item__list__item\">\\n<a\\nclass=\"careers__list__item__list__item__link\" href=\"/formacao-data-science\">\\nData Science                                            </a></li><li\\nclass=\"careers__list__item__list__item\">\\n<a\\nclass=\"careers__list__item__list__item__link\" href=\"/formacao-excel-vba\">\\nExcel VBA                                            </a></li><li\\nclass=\"careers__list__item__list__item\">\\n<a\\nclass=\"careers__list__item__list__item__link\" href=\"/formacao-machine-learning\">\\nMachine Learning                                            </a></li><li\\nclass=\"careers__list__item__list__item\">\\n<a\\nclass=\"careers__list__item__list__item__link\" href=\"/formacao-oracle-sql-plsql\">\\nOracle SQL e PL/SQL                                            </a></li><li\\nclass=\"careers__list__item__list__item\">\\n<a\\nclass=\"careers__list__item__list__item__link\" href=\"/formacao-microsoft-sql-server-2017\">\\nSQL com Microsoft SQL Server 2017                                            </a></li><li\\nclass=\"careers__list__item__list__item\">\\n<a\\nclass=\"careers__list__item__list__item__link\" href=\"/formacao-oracle-mysql\">\\nSQL com MySQL Server da Oracle                                            </a></li></ul></li><style type=\"text/css\">.career-marketing-digital-title:after {\\n\\t\\t                            \\tbackground-color:#6b5be2;\\n\\t\\t                            }</style><li\\nclass=\"careers__list__item\" style=\"color:#6b5be2;\"><div\\nclass=\"careers__list__item__title-wrapper\"><div\\nclass=\"categories__svg-wrapper\" style=\"background-color:#6b5be2;\">\\n<svg\\nclass=\"pagina-categoria__svg svgFill-marketing-digital categories__svg\" xmlns:xlink=\"http://www.w3.org/1999/xlink\">\\n<use\\nxlink:href=\"/svg,1570550707/categorias#icon-categorias-marketing-digital\"/>\\n</svg></div><h3 class=\"careers__list__item__title\">Marketing Digital</h3></div><h4 class=\"careers__list__item__sub-title career-marketing-digital-title\">Formações</h4><ul\\nclass=\"careers__list__item__list careers__list__item__list--formacoes\"><li\\nclass=\"careers__list__item__list__item\">\\n<a\\nclass=\"careers__list__item__list__item__link\" href=\"/formacao-marketing-digital\">\\nMarketing Digital                                            </a></li><li\\nclass=\"careers__list__item__list__item\">\\n<a\\nclass=\"careers__list__item__list__item__link\" href=\"/formacao-seo\">\\nSEO                                            </a></li><li\\nclass=\"careers__list__item__list__item\">\\n<a\\nclass=\"careers__list__item__list__item__link\" href=\"/formacao-social-media\">\\nSocial Media                                            </a></li></ul></li><style type=\"text/css\">.career-inovacao-gestao-title:after {\\n\\t\\t                            \\tbackground-color:#ff8c2a;\\n\\t\\t                            }</style><li\\nclass=\"careers__list__item\" style=\"color:#ff8c2a;\"><div\\nclass=\"careers__list__item__title-wrapper\"><div\\nclass=\"categories__svg-wrapper\" style=\"background-color:#ff8c2a;\">\\n<svg\\nclass=\"pagina-categoria__svg svgFill-inovacao-gestao categories__svg\" xmlns:xlink=\"http://www.w3.org/1999/xlink\">\\n<use\\nxlink:href=\"/svg,1570550707/categorias#icon-categorias-inovacao-gestao\"/>\\n</svg></div><h3 class=\"careers__list__item__title\">Inovação & Gestão</h3></div><h4 class=\"careers__list__item__sub-title career-inovacao-gestao-title\">Formações</h4><ul\\nclass=\"careers__list__item__list careers__list__item__list--formacoes\"><li\\nclass=\"careers__list__item__list__item\">\\n<a\\nclass=\"careers__list__item__list__item__link\" href=\"/formacao-business-agility\">\\nBusiness Agility                                            </a></li><li\\nclass=\"careers__list__item__list__item\">\\n<a\\nclass=\"careers__list__item__list__item__link\" href=\"/formacao-certificacao-cobit-5\">\\nCertificação Cobit 5                                            </a></li><li\\nclass=\"careers__list__item__list__item\">\\n<a\\nclass=\"careers__list__item__list__item__link\" href=\"/formacao-certificacao-itil-foundation\">\\nCertificação ITIL Foundation                                            </a></li><li\\nclass=\"careers__list__item__list__item\">\\n<a\\nclass=\"careers__list__item__list__item__link\" href=\"/formacao-certificacao-pmp-capm-pmi\">\\nCertificação PMP e CAPM do PMI                                            </a></li><li\\nclass=\"careers__list__item__list__item\">\\n<a\\nclass=\"careers__list__item__list__item__link\" href=\"/formacao-curriculos\">\\nCurrículos                                            </a></li><li\\nclass=\"careers__list__item__list__item\">\\n<a\\nclass=\"careers__list__item__list__item__link\" href=\"/formacao-desenvolvimento-pessoal\">\\nDesenvolvimento Pessoal                                            </a></li><li\\nclass=\"careers__list__item__list__item\">\\n<a\\nclass=\"careers__list__item__list__item__link\" href=\"/formacao-e-commerce\">\\nE-commerce                                            </a></li><li\\nclass=\"careers__list__item__list__item\">\\n<a\\nclass=\"careers__list__item__list__item__link\" href=\"/formacao-empreendedorismo-digital\">\\nEmpreendedorismo Digital                                            </a></li><li\\nclass=\"careers__list__item__list__item\">\\n<a\\nclass=\"careers__list__item__list__item__link\" href=\"/formacao-gerente-agil\">\\nGerente Ágil                                            </a></li></ul></li></ul></div></section><link\\nrel=\"stylesheet\" href=\"/assets/css/block/destaqueAlunos.1570550707.css\"><section\\nclass=\"testimonies\"><div\\nclass=\"container\"><div\\nclass=\"testimonies__wrapper\"><h2 class=\"testimonies__title\">\\nExperiências de quem\\n<strong\\nclass=\"testimonies__title__featured\">já estudou com a gente</strong></h2></div><nav\\nclass=\"testimonies__list\"><div\\nclass=\"testimonies__list__item\"><div\\nclass=\"testimony\">\\n<img\\nclass=\"testimonies__list__item__photo\" alt=\"\"\\nsrc=\"/assets/img/aluno-destaque/genilton-souza.1570550707.jpg\"><div\\nclass=\"testimonies__list__item__wrapper\"><h3 class=\"testimonies__list__item__title\">Genilton Souza</h3>\\n<span\\nclass=\"testimonies__list__item__description\">\\nSe você não sabe a ordem do que deve aprender e praticar para\\ndominar uma tecnologia, <strong>a forma como os cursos estão organizados\\ne estruturados na Alura ajuda muito</strong>.\\nAprendi C# aqui e pago minhas contas com isso hoje em dia.</span></div></div></div><div\\nclass=\"testimonies__list__item\"><div\\nclass=\"testimony\">\\n<img\\nclass=\"testimonies__list__item__photo\" alt=\"\"\\nsrc=\"/assets/img/aluno-destaque/leandro-silva.1570550707.jpg\"><div\\nclass=\"testimonies__list__item__wrapper\"><h3 class=\"testimonies__list__item__title\">Leandro da Silva</h3>\\n<span\\nclass=\"testimonies__list__item__description\">\\nPassei dois anos e meio desempregado e foi onde conheci os cursos\\nda Alura. <strong>Consegui fazer uma mudança de carreira em uma área muito\\ndisputada e estou muito feliz</strong>: passei em um processo seletivo\\ncomo Agente de Inovação, e muito do que aprendi tanto para a prova\\nquanto para a etapa presencial foi graças a Alura.\\n</span></div></div></div><div\\nclass=\"testimonies__list__item\"><div\\nclass=\"testimony\">\\n<img\\nclass=\"testimonies__list__item__photo\" alt=\"\"\\nsrc=\"/assets/img/aluno-destaque/nadia-oliveira.1570550707.jpg\"><div\\nclass=\"testimonies__list__item__wrapper\"><h3 class=\"testimonies__list__item__title\">Nádia Oliveira</h3>\\n<span\\nclass=\"testimonies__list__item__description\">\\nA plataforma é incrível. Além das metodologias do curso serem de alcance\\npara quem está começando ou quem já está avançado em alguma tecnologia,\\nno fórum de dúvidas sempre algum instrutor ou aluno te responde em um\\ncurto espaço de tempo.\\n<strong>Na Alura, seu conhecimento é prioridade</strong>.\\n</span></div></div></div></nav></div></section><section\\nclass=\"companies\"><div\\nclass=\"container\"><div\\nclass=\"companies-wrapper\"><div\\nclass=\"companies__description-wrapper\">\\n<img\\nclass=\"companies__image\" src=\"/assets/img/home/homeNova/companies/foto-empresas.1570550707.jpg\" alt=\"Pessoas trabalhando na\\nAlura\"><div\\nclass=\"companies__description\"><div\\nclass=\"companies__description__title-wrapper\"><h2 class=\"companies__description__title\">Para a sua <strong>empresa</strong></h2></div><p\\nclass=\"companies__description__text\">\\nCapacite suas equipes com formações continuadas, lançamentos semanais, dashboards e relatórios\\nde engajamento além de guias de estudos customizados de acordo com sua necessidade.</p>\\n<a\\nclass=\"companies__description__link\" href=\"/empresas\">Conheça os recursos</a></div></div><section\\nclass=\"companies__testimony\"><div\\nclass=\"companies__testimony__wrapper\"><p\\nclass=\"companies__testimony__text\">\\n<em>\\nO time conseguiu aprender muito e um dos diferenciais para nós foi a língua,\\ncom  conteúdo de qualidade em português. Na Alura, a equipe conseguiu estudar pela plataforma\\nonline e aplicar tudo de maneira estruturada.</em></p>\\n<span\\nclass=\"companies__testimony__author\">\\n<strong\\nclass=\"companies__testimony__author__name\">Lucas Souza</strong> CTO da GetNinjas\\n</span></div></section></div><section\\nclass=\"companies__using-alura\"><div\\nclass=\"companies__using-alura__title__wrapper\"><h2 class=\"companies__using-alura__title\">\\n<strong>Empresas que já contam com a gente:</strong></h2></div><ul\\nclass=\"companies__using-alura__list\"><li\\nclass=\"companies__using-alura__list__item\">\\n<img\\nclass=\"companies__using-alura__list__item__image\"\\nsrc=\"/assets/img/home/homeNova/logo-empresas/logo-empresa-amil.1570550707.svg\" alt=\"Amil\"></li><li\\nclass=\"companies__using-alura__list__item\">\\n<img\\nclass=\"companies__using-alura__list__item__image\"\\nsrc=\"/assets/img/home/homeNova/logo-empresas/logo-empresa-samsung.1570550707.svg\" alt=\"Samsung\"></li><li\\nclass=\"companies__using-alura__list__item\">\\n<img\\nclass=\"companies__using-alura__list__item__image\"\\nsrc=\"/assets/img/home/homeNova/logo-empresas/logo-empresa-santander.1570550707.svg\" alt=\"Santander\"></li><li\\nclass=\"companies__using-alura__list__item\">\\n<img\\nclass=\"companies__using-alura__list__item__image\"\\nsrc=\"/assets/img/home/homeNova/logo-empresas/logo-empresa-cielo.1570550707.svg\" alt=\"Cielo\"></li><li\\nclass=\"companies__using-alura__list__item\">\\n<img\\nclass=\"companies__using-alura__list__item__image\"\\nsrc=\"/assets/img/home/homeNova/logo-empresas/logo-empresa-algar.1570550707.svg\" alt=\"Algar\"></li><li\\nclass=\"companies__using-alura__list__item\">\\n<img\\nclass=\"companies__using-alura__list__item__image\"\\nsrc=\"/assets/img/home/homeNova/logo-empresas/logo-empresa-caixa.1570550707.svg\" alt=\"Caixa\"></li><li\\nclass=\"companies__using-alura__list__item\">\\n<img\\nclass=\"companies__using-alura__list__item__image\"\\nsrc=\"/assets/img/home/homeNova/logo-empresas/logo-empresa-globo.1570550707.svg\" alt=\"Globo.com\"></li></ul></section></div></section><section\\nclass=\"mobile\"><div\\nclass=\"container\"><div\\nclass=\"mobile__wrapper-info\"><div\\nclass=\"mobile__info mobile__info--forum\">\\nJá são\\n<strong>971 cursos</strong>\\ncom lançamentos toda semana.</div><div\\nclass=\"mobile__info mobile__info--app\">\\nAplicativos para\\n<strong>Android e iOS</strong>\\nBaixe e estude offline em qualquer lugar.</div></div><nav\\nclass=\"mobile__apps-download\">\\n<a\\nhref=\"https://play.google.com/store/apps/details?id=br.com.alura.mobi&hl=pt_BR\"\\nclass=\"mobile__apps-download__item mobile__apps-download__item--google-play\">Google\\nPlay</a>\\n<a\\nhref=\"https://itunes.apple.com/br/app/alura-cursos-online/id1225776635\"\\nclass=\"mobile__apps-download__item mobile__apps-download__item--app-store\">App\\nStore</a></nav></div></section><link\\nrel=\"stylesheet\" href=\"/assets/css/block/planosPagamentoOld.1572538101.css\"><section\\nclass=\"planos-pagamento\" id=\"planos-cursos-online\"><h2 class=\"planos-pagamento__titulo\">\\nSabe quando você pode começar? <span\\nclass=\"planos-pagamento__titulo--bold\">Agora!</span></h2><div\\nclass=\"container\"><div\\nclass=\"planos-pagamento__planos \"><ul\\nclass=\"planos-pagamento__vantagens-mobile\"><li\\nclass=\"planos-pagamento__vantagem\"><div\\nclass=\"planos-pagamento__wrapper planos-pagamento__wrapper--com-descricao\">\\n<span\\nclass=\"planos-pagamento__label\">971 cursos</span><div\\nclass=\"planos-pagamento__legenda-tooltip\"><p\\nclass=\"planos-pagamento__legenda-descricao\">Cursos de programação, UX, agilidade, data science, transformação digital, mobile, front-end, marketing e infra.</p></div></div></li><li\\nclass=\"planos-pagamento__vantagem\"><div\\nclass=\"planos-pagamento__wrapper planos-pagamento__wrapper--com-descricao\">\\n<span\\nclass=\"planos-pagamento__label\">Certificado de participação</span><div\\nclass=\"planos-pagamento__legenda-tooltip\"><p\\nclass=\"planos-pagamento__legenda-descricao\">Certificado de que assistiu o curso e finalizou as atividades</p></div></div></li><li\\nclass=\"planos-pagamento__vantagem\"><div\\nclass=\"planos-pagamento__wrapper planos-pagamento__wrapper--com-descricao\">\\n<span\\nclass=\"planos-pagamento__label\">App para Android e iPhone/iPad</span><div\\nclass=\"planos-pagamento__legenda-tooltip\"><p\\nclass=\"planos-pagamento__legenda-descricao\">Estude até mesmo offline através das nossas apps Android e iOS em smartphones e tablets</p></div></div></li><li\\nclass=\"planos-pagamento__vantagem\"><div\\nclass=\"planos-pagamento__wrapper planos-pagamento__wrapper--com-descricao\">\\n<span\\nclass=\"planos-pagamento__label\">Projeto avaliado pelos instrutores</span><div\\nclass=\"planos-pagamento__legenda-tooltip\"><p\\nclass=\"planos-pagamento__legenda-descricao\">Projeto práticos para entrega e avaliação dos professores da Alura com certificado de aprovação diferenciado</p></div></div></li><li\\nclass=\"planos-pagamento__vantagem\"><div\\nclass=\"planos-pagamento__wrapper planos-pagamento__wrapper--com-descricao\">\\n<span\\nclass=\"planos-pagamento__label\">Acesso à Alura Start</span><div\\nclass=\"planos-pagamento__legenda-tooltip\"><p\\nclass=\"planos-pagamento__legenda-descricao\">Cursos de introdução a tecnologia através de games, apps e ciência</p></div></div></li><li\\nclass=\"planos-pagamento__vantagem\"><div\\nclass=\"planos-pagamento__wrapper planos-pagamento__wrapper--com-descricao\">\\n<span\\nclass=\"planos-pagamento__label\">Acesso à Alura Língua</span><div\\nclass=\"planos-pagamento__legenda-tooltip\"><p\\nclass=\"planos-pagamento__legenda-descricao\">Reforço online de inglês e espanhol para aprimorar seu conhecimento</p></div></div></li></ul><div\\nclass=\"planos-pagamento__plano planos-pagamento__plano--premium\"\\ndata-payment-plan  data-payment-plan-price=\"900\"><div\\nclass=\"planos-pagamento__header\"><h4 class=\"planos-pagamento__nome\">Premium</h4></div><ul\\nclass=\"planos-pagamento__vantagens\"><li\\nclass=\"planos-pagamento__vantagem\"><div\\nclass=\"planos-pagamento__wrapper planos-pagamento__wrapper--com-descricao\">\\n<span\\nclass=\"planos-pagamento__label\">971 cursos</span><div\\nclass=\"planos-pagamento__legenda-tooltip\"><p\\nclass=\"planos-pagamento__legenda-descricao\">Cursos de programação, UX, agilidade, data science, transformação digital, mobile, front-end, marketing e infra.</p></div></div><div\\nclass=\"planos-pagamento__checkmark planos-pagamento__checkmark--ativo\">\\n<svg><use\\nxlink:href=\"/svg,1570550707/planosPagamento#icon-planosPagamento-checked\" /></svg></div></li><li\\nclass=\"planos-pagamento__vantagem\"><div\\nclass=\"planos-pagamento__wrapper planos-pagamento__wrapper--com-descricao\">\\n<span\\nclass=\"planos-pagamento__label\">Certificado de participação</span><div\\nclass=\"planos-pagamento__legenda-tooltip\"><p\\nclass=\"planos-pagamento__legenda-descricao\">Certificado de que assistiu o curso e finalizou as atividades</p></div></div><div\\nclass=\"planos-pagamento__checkmark planos-pagamento__checkmark--ativo\">\\n<svg><use\\nxlink:href=\"/svg,1570550707/planosPagamento#icon-planosPagamento-checked\" /></svg></div></li><li\\nclass=\"planos-pagamento__vantagem\"><div\\nclass=\"planos-pagamento__wrapper planos-pagamento__wrapper--com-descricao\">\\n<span\\nclass=\"planos-pagamento__label\">App para Android e iPhone/iPad</span><div\\nclass=\"planos-pagamento__legenda-tooltip\"><p\\nclass=\"planos-pagamento__legenda-descricao\">Estude até mesmo offline através das nossas apps Android e iOS em smartphones e tablets</p></div></div><div\\nclass=\"planos-pagamento__checkmark planos-pagamento__checkmark--ativo\">\\n<svg><use\\nxlink:href=\"/svg,1570550707/planosPagamento#icon-planosPagamento-checked\" /></svg></div></li><li\\nclass=\"planos-pagamento__vantagem\"><div\\nclass=\"planos-pagamento__wrapper planos-pagamento__wrapper--com-descricao\">\\n<span\\nclass=\"planos-pagamento__label\">Projeto avaliado pelos instrutores</span><div\\nclass=\"planos-pagamento__legenda-tooltip\"><p\\nclass=\"planos-pagamento__legenda-descricao\">Projeto práticos para entrega e avaliação dos professores da Alura com certificado de aprovação diferenciado</p></div></div><div\\nclass=\"planos-pagamento__checkmark \">\\n<svg><use\\nxlink:href=\"/svg,1570550707/planosPagamento#icon-planosPagamento-checked\" /></svg></div></li><li\\nclass=\"planos-pagamento__vantagem\"><div\\nclass=\"planos-pagamento__wrapper planos-pagamento__wrapper--com-descricao\">\\n<span\\nclass=\"planos-pagamento__label\">Acesso à Alura Start</span><div\\nclass=\"planos-pagamento__legenda-tooltip\"><p\\nclass=\"planos-pagamento__legenda-descricao\">Cursos de introdução a tecnologia através de games, apps e ciência</p></div></div><div\\nclass=\"planos-pagamento__checkmark \">\\n<svg><use\\nxlink:href=\"/svg,1570550707/planosPagamento#icon-planosPagamento-checked\" /></svg></div></li><li\\nclass=\"planos-pagamento__vantagem\"><div\\nclass=\"planos-pagamento__wrapper planos-pagamento__wrapper--com-descricao\">\\n<span\\nclass=\"planos-pagamento__label\">Acesso à Alura Língua</span><div\\nclass=\"planos-pagamento__legenda-tooltip\"><p\\nclass=\"planos-pagamento__legenda-descricao\">Reforço online de inglês e espanhol para aprimorar seu conhecimento</p></div></div><div\\nclass=\"planos-pagamento__checkmark \">\\n<svg><use\\nxlink:href=\"/svg,1570550707/planosPagamento#icon-planosPagamento-checked\" /></svg></div></li></ul><div\\nclass=\"planos-pagamento__precos \">\\n<span\\nclass=\"planos-pagamento__numero-parcelas\">\\n12X\\n</span><div\\nclass=\"planos-pagamento__preco-parcela\\n\">\\n<span\\nclass=\"planos-pagamento__valor-parcela\">R$75</div><div\\nclass=\"planos-pagamento__preco-vista\">\\n<span\\nclass=\"planos-pagamento__label-vista\">à vista</span>\\n<span\\nclass=\"planos-pagamento__valor-vista\">R$900</span></div></div><a\\nclass=\"planos-pagamento__cta\" href=\"/compra/premium/\">\\nMatricule-se\\n</a></div><div\\nclass=\"planos-pagamento__plano planos-pagamento__plano--premiumplus\"\\ndata-payment-plan  data-payment-plan-price=\"1.200\"><div\\nclass=\"planos-pagamento__header\"><h4 class=\"planos-pagamento__nome\">Premium Plus</h4></div><ul\\nclass=\"planos-pagamento__vantagens\"><li\\nclass=\"planos-pagamento__vantagem\"><div\\nclass=\"planos-pagamento__wrapper planos-pagamento__wrapper--com-descricao\">\\n<span\\nclass=\"planos-pagamento__label\">971 cursos</span><div\\nclass=\"planos-pagamento__legenda-tooltip\"><p\\nclass=\"planos-pagamento__legenda-descricao\">Cursos de programação, UX, agilidade, data science, transformação digital, mobile, front-end, marketing e infra.</p></div></div><div\\nclass=\"planos-pagamento__checkmark planos-pagamento__checkmark--ativo\">\\n<svg><use\\nxlink:href=\"/svg,1570550707/planosPagamento#icon-planosPagamento-checked\" /></svg></div></li><li\\nclass=\"planos-pagamento__vantagem\"><div\\nclass=\"planos-pagamento__wrapper planos-pagamento__wrapper--com-descricao\">\\n<span\\nclass=\"planos-pagamento__label\">Certificado de participação</span><div\\nclass=\"planos-pagamento__legenda-tooltip\"><p\\nclass=\"planos-pagamento__legenda-descricao\">Certificado de que assistiu o curso e finalizou as atividades</p></div></div><div\\nclass=\"planos-pagamento__checkmark planos-pagamento__checkmark--ativo\">\\n<svg><use\\nxlink:href=\"/svg,1570550707/planosPagamento#icon-planosPagamento-checked\" /></svg></div></li><li\\nclass=\"planos-pagamento__vantagem\"><div\\nclass=\"planos-pagamento__wrapper planos-pagamento__wrapper--com-descricao\">\\n<span\\nclass=\"planos-pagamento__label\">App para Android e iPhone/iPad</span><div\\nclass=\"planos-pagamento__legenda-tooltip\"><p\\nclass=\"planos-pagamento__legenda-descricao\">Estude até mesmo offline através das nossas apps Android e iOS em smartphones e tablets</p></div></div><div\\nclass=\"planos-pagamento__checkmark planos-pagamento__checkmark--ativo\">\\n<svg><use\\nxlink:href=\"/svg,1570550707/planosPagamento#icon-planosPagamento-checked\" /></svg></div></li><li\\nclass=\"planos-pagamento__vantagem\"><div\\nclass=\"planos-pagamento__wrapper planos-pagamento__wrapper--com-descricao\">\\n<span\\nclass=\"planos-pagamento__label\">Projeto avaliado pelos instrutores</span><div\\nclass=\"planos-pagamento__legenda-tooltip\"><p\\nclass=\"planos-pagamento__legenda-descricao\">Projeto práticos para entrega e avaliação dos professores da Alura com certificado de aprovação diferenciado</p></div></div><div\\nclass=\"planos-pagamento__checkmark planos-pagamento__checkmark--ativo\">\\n<svg><use\\nxlink:href=\"/svg,1570550707/planosPagamento#icon-planosPagamento-checked\" /></svg></div></li><li\\nclass=\"planos-pagamento__vantagem\"><div\\nclass=\"planos-pagamento__wrapper planos-pagamento__wrapper--com-descricao\">\\n<span\\nclass=\"planos-pagamento__label\">Acesso à Alura Start</span><div\\nclass=\"planos-pagamento__legenda-tooltip\"><p\\nclass=\"planos-pagamento__legenda-descricao\">Cursos de introdução a tecnologia através de games, apps e ciência</p></div></div><div\\nclass=\"planos-pagamento__checkmark planos-pagamento__checkmark--ativo\">\\n<svg><use\\nxlink:href=\"/svg,1570550707/planosPagamento#icon-planosPagamento-checked\" /></svg></div></li><li\\nclass=\"planos-pagamento__vantagem\"><div\\nclass=\"planos-pagamento__wrapper planos-pagamento__wrapper--com-descricao\">\\n<span\\nclass=\"planos-pagamento__label\">Acesso à Alura Língua</span><div\\nclass=\"planos-pagamento__legenda-tooltip\"><p\\nclass=\"planos-pagamento__legenda-descricao\">Reforço online de inglês e espanhol para aprimorar seu conhecimento</p></div></div><div\\nclass=\"planos-pagamento__checkmark \">\\n<svg><use\\nxlink:href=\"/svg,1570550707/planosPagamento#icon-planosPagamento-checked\" /></svg></div></li></ul><div\\nclass=\"planos-pagamento__precos \">\\n<span\\nclass=\"planos-pagamento__numero-parcelas\">\\n12X\\n</span><div\\nclass=\"planos-pagamento__preco-parcela\\n\">\\n<span\\nclass=\"planos-pagamento__valor-parcela\">R$100</div><div\\nclass=\"planos-pagamento__preco-vista\">\\n<span\\nclass=\"planos-pagamento__label-vista\">à vista</span>\\n<span\\nclass=\"planos-pagamento__valor-vista\">R$1.200</span></div></div><a\\nclass=\"planos-pagamento__cta\" href=\"/compra/premiumplus/\">\\nMatricule-se\\n</a></div><div\\nclass=\"planos-pagamento__plano planos-pagamento__plano--max\"\\ndata-payment-plan  data-payment-plan-price=\"1.440\"><div\\nclass=\"planos-pagamento__header\"><h4 class=\"planos-pagamento__nome\">Max</h4></div><ul\\nclass=\"planos-pagamento__vantagens\"><li\\nclass=\"planos-pagamento__vantagem\"><div\\nclass=\"planos-pagamento__wrapper planos-pagamento__wrapper--com-descricao\">\\n<span\\nclass=\"planos-pagamento__label\">971 cursos</span><div\\nclass=\"planos-pagamento__legenda-tooltip\"><p\\nclass=\"planos-pagamento__legenda-descricao\">Cursos de programação, UX, agilidade, data science, transformação digital, mobile, front-end, marketing e infra.</p></div></div><div\\nclass=\"planos-pagamento__checkmark planos-pagamento__checkmark--ativo\">\\n<svg><use\\nxlink:href=\"/svg,1570550707/planosPagamento#icon-planosPagamento-checked\" /></svg></div></li><li\\nclass=\"planos-pagamento__vantagem\"><div\\nclass=\"planos-pagamento__wrapper planos-pagamento__wrapper--com-descricao\">\\n<span\\nclass=\"planos-pagamento__label\">Certificado de participação</span><div\\nclass=\"planos-pagamento__legenda-tooltip\"><p\\nclass=\"planos-pagamento__legenda-descricao\">Certificado de que assistiu o curso e finalizou as atividades</p></div></div><div\\nclass=\"planos-pagamento__checkmark planos-pagamento__checkmark--ativo\">\\n<svg><use\\nxlink:href=\"/svg,1570550707/planosPagamento#icon-planosPagamento-checked\" /></svg></div></li><li\\nclass=\"planos-pagamento__vantagem\"><div\\nclass=\"planos-pagamento__wrapper planos-pagamento__wrapper--com-descricao\">\\n<span\\nclass=\"planos-pagamento__label\">App para Android e iPhone/iPad</span><div\\nclass=\"planos-pagamento__legenda-tooltip\"><p\\nclass=\"planos-pagamento__legenda-descricao\">Estude até mesmo offline através das nossas apps Android e iOS em smartphones e tablets</p></div></div><div\\nclass=\"planos-pagamento__checkmark planos-pagamento__checkmark--ativo\">\\n<svg><use\\nxlink:href=\"/svg,1570550707/planosPagamento#icon-planosPagamento-checked\" /></svg></div></li><li\\nclass=\"planos-pagamento__vantagem\"><div\\nclass=\"planos-pagamento__wrapper planos-pagamento__wrapper--com-descricao\">\\n<span\\nclass=\"planos-pagamento__label\">Projeto avaliado pelos instrutores</span><div\\nclass=\"planos-pagamento__legenda-tooltip\"><p\\nclass=\"planos-pagamento__legenda-descricao\">Projeto práticos para entrega e avaliação dos professores da Alura com certificado de aprovação diferenciado</p></div></div><div\\nclass=\"planos-pagamento__checkmark planos-pagamento__checkmark--ativo\">\\n<svg><use\\nxlink:href=\"/svg,1570550707/planosPagamento#icon-planosPagamento-checked\" /></svg></div></li><li\\nclass=\"planos-pagamento__vantagem\"><div\\nclass=\"planos-pagamento__wrapper planos-pagamento__wrapper--com-descricao\">\\n<span\\nclass=\"planos-pagamento__label\">Acesso à Alura Start</span><div\\nclass=\"planos-pagamento__legenda-tooltip\"><p\\nclass=\"planos-pagamento__legenda-descricao\">Cursos de introdução a tecnologia através de games, apps e ciência</p></div></div><div\\nclass=\"planos-pagamento__checkmark planos-pagamento__checkmark--ativo\">\\n<svg><use\\nxlink:href=\"/svg,1570550707/planosPagamento#icon-planosPagamento-checked\" /></svg></div></li><li\\nclass=\"planos-pagamento__vantagem\"><div\\nclass=\"planos-pagamento__wrapper planos-pagamento__wrapper--com-descricao\">\\n<span\\nclass=\"planos-pagamento__label\">Acesso à Alura Língua</span><div\\nclass=\"planos-pagamento__legenda-tooltip\"><p\\nclass=\"planos-pagamento__legenda-descricao\">Reforço online de inglês e espanhol para aprimorar seu conhecimento</p></div></div><div\\nclass=\"planos-pagamento__checkmark planos-pagamento__checkmark--ativo\">\\n<svg><use\\nxlink:href=\"/svg,1570550707/planosPagamento#icon-planosPagamento-checked\" /></svg></div></li></ul><div\\nclass=\"planos-pagamento__precos \">\\n<span\\nclass=\"planos-pagamento__numero-parcelas\">\\n12X\\n</span><div\\nclass=\"planos-pagamento__preco-parcela\\n\">\\n<span\\nclass=\"planos-pagamento__valor-parcela\">R$120</div><div\\nclass=\"planos-pagamento__preco-vista\">\\n<span\\nclass=\"planos-pagamento__label-vista\">à vista</span>\\n<span\\nclass=\"planos-pagamento__valor-vista\">R$1.440</span></div></div><a\\nclass=\"planos-pagamento__cta\" href=\"/compra/max/\">\\nMatricule-se\\n</a></div></div></div><a\\nclass=\"planos-pagamento__b2b\" href=\"/empresas\">\\n<span>Procurando planos para empresas?</span> →\\n</a><div\\nclass=\"planosPagamento-vantagens\"><div\\nclass=\"container\"><div\\nclass=\"planosPagamento-vantagens-vantagem acesso\">\\n<svg><use\\nxlink:href=\"/svg,1570550707/planosPagamento#icon-planosPagamento-acesso\"/></svg>\\n<span>Acesso por 1 ano<span></div><div\\nclass=\"planosPagamento-vantagens-vantagem horas\">\\n<svg><use\\nxlink:href=\"/svg,1570550707/planosPagamento#icon-planosPagamento-24h\"/></svg>\\n<span>Estude 24h/dia onde e quando quiser</span></div><div\\nclass=\"planosPagamento-vantagens-vantagem novos\">\\n<svg><use\\nxlink:href=\"/svg,1570550707/planosPagamento#icon-planosPagamento-cursos\"/></svg>\\n<span>Novos cursos toda semana</span></div></div></div></section> <script src=\"/assets/js/planosPagamentoOld.1570550707.js\"></script> </main></div>\\n <script>if (navigator.userAgent.indexOf(\\'Safari\\') > 1 && navigator.userAgent.indexOf(\\'Edge\\') < 0)\\n\\t\\t\\tdocument.documentElement.className += \\' home-fundo-animado\\'</script> <script src=\"/assets/js/home/categoriaCard.1570550707.js\"></script> <link\\nrel=\"stylesheet\" href=\"/assets/css/block/footer.1570550707.css\"><footer\\nclass=\"footer\"><div\\nclass=\"container\"><div\\nclass=\"footer-navegue\"><ul\\nclass=\"footer-navegue-lista\"><li\\nclass=\"footer-navegue-lista-link\"><a\\nhref=\"/planos-cursos-online\" gtm-data=\\'footer_primeira_secao_053\\'>Planos</a></li><li\\nclass=\"footer-navegue-lista-link\"><a\\nhref=\"/cursos-online-tecnologia\" gtm-data=\\'footer_primeira_secao_054\\'>Todos os cursos</a></li><li\\nclass=\"footer-navegue-lista-link\"><a\\nhref=\"/guias\">Guias de empresas</a></li><li\\nclass=\"footer-navegue-lista-link\"><a\\nhref=\"/instrutores\" gtm-data=\\'footer_primeira_secao_056\\'>Instrutores</a></li><li\\nclass=\"footer-navegue-lista-link\"><a\\nhref=\"/quero-ser-instrutor\" gtm-data=\\'footer_primeira_secao_057\\'>Como virar instrutor</a></li><li\\nclass=\"footer-navegue-lista-link\"><a\\nhref=\"/artigos\" gtm-data=\\'footer_primeira_secao_059\\'>Artigos</a></li><li\\nclass=\"footer-navegue-lista-link\"><a\\nhref=\"/politica-de-privacidade\" gtm-data=\\'footer_primeira_secao_061\\'>Política de Privacidade</a></li><li\\nclass=\"footer-navegue-lista-link\"><a\\nhref=\"/termos-de-uso\" gtm-data=\\'footer_primeira_secao_062\\'>Termos de Uso</a></li><li\\nclass=\"footer-navegue-lista-link\"><a\\nhref=\"/sobre\" gtm-data=\\'footer_primeira_secao_063\\'>Sobre nós</a></li><li\\nclass=\"footer-navegue-lista-link\"><a\\nhref=\"https://suporte.alura.com.br/\" gtm-data=\\'footer_primeira_secao_064\\'>Perguntas frequentes</a></li></ul></div><div\\nclass=\"footer-column footer-column-cards\"><div\\nclass=\"footer-newsletter\"><h2 class=\"footer-newsletter-titulo\">Receba Novidades e Lançamentos</h2><form\\nclass=\"footer-newsletter-form\" action=\"https://cursos.alura.com.br/api/cadastra-newsletter\" method=\"POST\">\\n<input\\ntype=\"hidden\" name=\"retorno\" value=\"https://www.alura.com.br/newsletter-cadastrado\"><label\\nfor=\"email-newsletter\">Email</label>\\n<input\\ntype=\"email\" name=\"email\" class=\"footer-newsletter-input\" placeholder=\"seu email\" id=\"email-newsletter\"><button\\ntype=\"submit\" class=\"footer-newsletter-button buttonForm\">OK</button></form></div><div\\nclass=\"footer-card-hotLinks\"><h2 class=\"footer-card-hotLinks-titulo\">Nossas redes e apps</h2><div\\nclass=\"footer-card-hotLinks-info footer-card-redes\">\\n<a\\nhref=\"https://www.youtube.com/alura\" gtm-data=\\'footer_primeira_secao_065\\' class=\"footer-card-hotLinks-link\" target=\"_blank\" title=\"YouTube da Alura\">\\n<svg\\nclass=\"footer-card-hotLinks-icon footer-card-hotLinks-youtube\"><use\\nxlink:href=\"/svg,1570550707/footer#icon-footer-youtube\"/></svg>\\n<span>YouTube</span>\\n</a>\\n<a\\nhref=\"https://www.facebook.com/AluraCursosOnline/\" gtm-data=\\'footer_primeira_secao_066\\' class=\"footer-card-hotLinks-link\" target=\"_blank\" title=\"Facebook da Alura\">\\n<svg\\nclass=\"footer-card-hotLinks-icon footer-card-hotLinks-facebook\"><use\\nxlink:href=\"/svg,1570550707/footer#icon-footer-facebook\"/></svg>\\n<span>Facebook</span>\\n</a>\\n<a\\nhref=\"https://twitter.com/aluraonline\" gtm-data=\\'footer_primeira_secao_067\\' class=\"footer-card-hotLinks-link\" target=\"_blank\" title=\"Twitter da Alura\">\\n<svg\\nclass=\"footer-card-hotLinks-icon footer-card-hotLinks-twitter\"><use\\nxlink:href=\"/svg,1570550707/footer#icon-footer-twitter\"/></svg>\\n<span>Twitter</span>\\n</a>\\n<a\\nhref=\"https://hipsters.tech/\" class=\"footer-card-hotLinks-link\" gtm-data=\\'footer_primeira_secao_068\\' target=\"_blank\" title=\"Podcast Hipsters Ponto Tech\">\\n<svg\\nclass=\"footer-card-hotLinks-icon footer-card-hotLinks-hipsters\"><use\\nxlink:href=\"/svg,1570550707/footer#icon-footer-hipsters\"/></svg>\\n<span>Podcast Hipsters.tech</span>\\n</a>\\n<a\\nhref=\"https://instagram.com/aluraonline\" class=\"footer-card-hotLinks-link\" gtm-data=\\'footer_primeira_secao_073\\' target=\"_blank\" title=\"Instagram da Alura\">\\n<svg\\nclass=\"footer-card-hotLinks-icon footer-card-hotLinks-instagram\"><use\\nxlink:href=\"/svg,1570550707/footer#icon-footer-instagram\"/></svg>\\n<span>Instagram</span>\\n</a></div><div\\nclass=\"footer-card-hotLinks-info footer-card-mobile\">\\n<a\\nhref=\"https://play.google.com/store/apps/details?id=br.com.alura.mobi&hl=pt_BR\" gtm-data=\\'footer_primeira_secao_069\\' class=\"footer-card-hotLinks-link\" target=\"_blank\" title=\"Baixar na Google Play Store\">\\n<svg\\nclass=\"footer-card-hotLinks-icon footer-card-hotLinks-mobile\"><use\\nxlink:href=\"/svg,1570550707/footer#icon-footer-googleplay\"/></svg>\\n<span>Google Play Store</span>\\n</a>\\n<a\\nhref=\"https://itunes.apple.com/br/app/alura-cursos-online/id1225776635\" gtm-data=\\'footer_primeira_secao_070\\' class=\"footer-card-hotLinks-link\" target=\"_blank\" title=\"Baixar na AppStore\">\\n<svg\\nclass=\"footer-card-hotLinks-icon footer-card-hotLinks-mobile\"><use\\nxlink:href=\"/svg,1570550707/footer#icon-footer-appstore\"/></svg>\\n<span>AppStore</span>\\n</a></div></div></div><div\\nclass=\"footer-column\">\\n<a\\nclass=\"footer-card footer-card-contato\" gtm-data=\\'footer_primeira_secao_071\\' href=\"/contato\"><div\\nclass=\"footer-card-info\"><h2 class=\"footer-card-titulo\">Fale Conosco</h2><p\\nclass=\"footer-card-texto\">Dúvida, crítica, sugestão ou elogio?</p><p\\nclass=\"footer-card-fakeLink\">Entre em contato!</p></div>\\n</a><a\\nclass=\"footer-card footer-card-empresa\" gtm-data=\\'footer_primeira_secao_072\\' href=\"/empresas\"><div\\nclass=\"footer-card-info\"><h2 class=\"footer-card-titulo\">Empresa? Governo?</h2><p\\nclass=\"footer-card-texto\">Planos corporativos para o seu time.</p><p\\nclass=\"footer-card-fakeLink\">Saiba mais</p></div>\\n</a></div><div\\nclass=\"footer-info\"><div\\nclass=\"footer-logos\">\\n<a\\nclass=\"footer-logos-home\" gtm-data=\\'footer_primeira_secao_050\\' href=\"/\">\\n<img\\nsrc=\"/assets/img/alura-logo.1570550707.svg\" alt=\"Alura\" class=\"footer-logo\">\\n</a>\\n<a\\nhref=\"https://www.caelum.com.br/\" gtm-data=\\'footer_primeira_secao_051\\' class=\"footer-link-caelum\"><h3 class=\"footer-powered-by\">Powered by</h3>\\n<img\\nsrc=\"/assets/img/footer/caelum-logo.1570550707.svg\" alt=\"Caelum\" class=\"footer-logo footer-caelumLogo\">\\n</a></div><div\\nclass=\"footer-cnpj\"><p>\\n<span\\nclass=\"footer-empresa-item\">AOVS Sistemas de Informática S.A</span>\\n<span\\nclass=\"footer-empresa-item\">CNPJ 05.555.382/0001-33</span></p></div></div></div></footer><section\\nclass=\"footer_categorias-formacoes\"><div\\nclass=\"container\"><div\\nclass=\"footer_categorias_wrapper\"><h2 class=\"footer_categorias_title\">Cursos</h2><div\\nclass=\"footer_categorias_categorias footer-navegue-lista-link\"><div\\nclass=\"footer_categorias_categoria\">\\n<a\\nhref=\"/cursos-online-mobile\">Cursos de Mobile</a><div\\nclass=\"footer_categorias_subcategorias\">\\n<a\\nhref=\"/cursos-online-mobile/ios\">\\niOS e Swift</a>\\n<a\\nhref=\"/cursos-online-mobile/android\">\\nAndroid e Kotlin</a>\\n<a\\nhref=\"/cursos-online-mobile/multiplataforma\">\\nIonic, React Native</a>\\n<a\\nhref=\"/cursos-online-mobile/jogos\">\\nJogos</a></div></div><div\\nclass=\"footer_categorias_categoria\">\\n<a\\nhref=\"/cursos-online-programacao\">Cursos de Programação</a><div\\nclass=\"footer_categorias_subcategorias\">\\n<a\\nhref=\"/cursos-online-programacao/logica\">\\nLógica</a>\\n<a\\nhref=\"/cursos-online-programacao/python\">\\nPython</a>\\n<a\\nhref=\"/cursos-online-programacao/php\">\\nPHP</a>\\n<a\\nhref=\"/cursos-online-programacao/java\">\\nJava</a>\\n<a\\nhref=\"/cursos-online-programacao/dotnet\">\\n.NET</a>\\n<a\\nhref=\"/cursos-online-programacao/node-js\">\\nNode JS</a>\\n<a\\nhref=\"/cursos-online-programacao/ruby\">\\nRuby & Rails</a>\\n<a\\nhref=\"/cursos-online-programacao/linguagem-c\">\\nC</a>\\n<a\\nhref=\"/cursos-online-programacao/computacao\">\\nComputação</a>\\n<a\\nhref=\"/cursos-online-programacao/jogos\">\\nJogos</a></div></div><div\\nclass=\"footer_categorias_categoria\">\\n<a\\nhref=\"/cursos-online-front-end\">Cursos de Front-end</a><div\\nclass=\"footer_categorias_subcategorias\">\\n<a\\nhref=\"/cursos-online-front-end/front-end\">\\nHTML, CSS</a>\\n<a\\nhref=\"/cursos-online-front-end/javascript\">\\nJavaScript</a>\\n<a\\nhref=\"/cursos-online-front-end/frameworks-mvc-em-javascript\">\\nAngular, React</a>\\n<a\\nhref=\"/cursos-online-front-end/jquery\">\\njQuery</a></div></div><div\\nclass=\"footer_categorias_categoria\">\\n<a\\nhref=\"/cursos-online-infraestrutura\">Cursos de Infraestrutura</a><div\\nclass=\"footer_categorias_subcategorias\">\\n<a\\nhref=\"/cursos-online-infraestrutura/devops\">\\nDevOps e Git</a>\\n<a\\nhref=\"/cursos-online-infraestrutura/cloud-computing\">\\nCloud</a>\\n<a\\nhref=\"/cursos-online-infraestrutura/linux-comandos-e-processos\">\\nLinux</a>\\n<a\\nhref=\"/cursos-online-infraestrutura/internet-das-coisas\">\\nIoT</a>\\n<a\\nhref=\"/cursos-online-infraestrutura/redes\">\\nRedes</a></div></div><div\\nclass=\"footer_categorias_categoria\">\\n<a\\nhref=\"/cursos-online-design-ux\">Cursos de Design & UX</a><div\\nclass=\"footer_categorias_subcategorias\">\\n<a\\nhref=\"/cursos-online-design-ux/wwww\">\\nPhotoshop e Illustrator</a>\\n<a\\nhref=\"/cursos-online-design-ux/ux\">\\nUsabilidade e UX</a>\\n<a\\nhref=\"/cursos-online-design-ux/video\">\\nVídeo e Motion</a>\\n<a\\nhref=\"/cursos-online-design-ux/3d\">\\n3D</a></div></div><div\\nclass=\"footer_categorias_categoria\">\\n<a\\nhref=\"/cursos-online-marketing-digital\">Cursos de Marketing Digital</a><div\\nclass=\"footer_categorias_subcategorias\">\\n<a\\nhref=\"/cursos-online-marketing-digital/ads\">\\nAds</a>\\n<a\\nhref=\"/cursos-online-marketing-digital/marketing-digital\">\\nMarketing</a>\\n<a\\nhref=\"/cursos-online-marketing-digital/seo\">\\nSEO</a>\\n<a\\nhref=\"/cursos-online-marketing-digital/e-commerce\">\\nE-commerce</a>\\n<a\\nhref=\"/cursos-online-marketing-digital/social-media\">\\nSocial Media</a>\\n<a\\nhref=\"/cursos-online-marketing-digital/youtube\">\\nYouTube</a></div></div><div\\nclass=\"footer_categorias_categoria\">\\n<a\\nhref=\"/cursos-online-data-science\">Cursos de Data Science</a><div\\nclass=\"footer_categorias_subcategorias\">\\n<a\\nhref=\"/cursos-online-data-science/sql\">\\nSQL e Banco de Dados</a>\\n<a\\nhref=\"/cursos-online-data-science/nosql\">\\nNoSQL</a>\\n<a\\nhref=\"/cursos-online-data-science/data-science\">\\nData Science</a>\\n<a\\nhref=\"/cursos-online-data-science/machine-learning\">\\nMachine Learning</a>\\n<a\\nhref=\"/cursos-online-data-science/business-intelligence\">\\nBI</a>\\n<a\\nhref=\"/cursos-online-data-science/estatistica\">\\nEstatística</a>\\n<a\\nhref=\"/cursos-online-data-science/excel\">\\nExcel</a></div></div><div\\nclass=\"footer_categorias_categoria\">\\n<a\\nhref=\"/cursos-online-inovacao-gestao\">Cursos de Inovação & Gestão</a><div\\nclass=\"footer_categorias_subcategorias\">\\n<a\\nhref=\"/cursos-online-inovacao-gestao/agilidade\">\\nMétodos Ágeis</a>\\n<a\\nhref=\"/cursos-online-inovacao-gestao/habilidades-interpessoais\">\\nSoftskills</a>\\n<a\\nhref=\"/cursos-online-inovacao-gestao/lideranca-gestao-estrategica\">\\nLiderança e Gestão</a>\\n<a\\nhref=\"/cursos-online-inovacao-gestao/startup-empreendedorismo\">\\nEmpreendedorismo</a></div></div></div></div></div></section><style>@media not all and (min-width: 1000px){\\n\\t\\t.grupoCaelum{\\n\\t\\t\\tdisplay: none;\\n\\t\\t}\\n\\t}\\n\\n\\t.grupoCaelum{\\n\\t\\tbackground: #fff;\\n\\t\\theight: 240px;\\n\\t\\tborder-top: 1px solid #EBEBEE;\\n\\t}\\n\\n\\t.grupoCaelum .container{\\n\\t\\tdisplay: flex;\\n\\t\\tjustify-content: space-between;\\n\\t\\talign-items: flex-start;\\n\\t\\tpadding-top: 0;\\n\\t\\tpadding-bottom: 0;\\n\\t\\theight: 100%;\\n\\t}\\n\\n\\t\\t.grupoCaelum-list{\\n\\t\\t\\tdisplay: flex;\\n\\t\\t\\tlist-style: none;\\n\\t\\t\\twidth: 60%;\\n\\t\\t\\tjustify-content: space-between;\\n\\t\\t\\talign-items: flex-start;\\n\\t\\t\\tmargin-top: 20px;\\n\\t\\t}\\n\\n\\t\\t.grupoCaelum-title{\\n\\t\\t\\twidth: 20%;\\n\\t\\t}\\n\\n\\t\\t.grupoCaelum-column {\\n\\t\\t\\tdisplay: inline-block;\\n\\t\\t\\tpadding-left: 19px;\\n\\t\\t\\twidth: 240px;\\n\\t\\t\\theight: 210px;\\n\\t\\t\\tmin-width: 160px;\\n\\t\\t}\\n\\t\\t\\t.grupoCaelum-column-title {\\n\\t\\t\\t\\tfont-size: 10px;\\n\\t\\t\\t\\tcolor: #d7e0e5;\\n\\t\\t\\t\\ttext-transform: uppercase;\\n\\t\\t\\t\\tfont-weight: 600;\\n\\t\\t\\t\\tmargin-bottom: 19px;\\n\\t\\t\\t}\\n\\n\\t\\t\\t.grupoCaelum-column-list {\\n\\t\\t\\t\\tlist-style: none;\\n\\t\\t\\t}\\n\\n\\t\\t\\t.column-item-title {\\n\\t\\t\\t\\tfont-size: 11px;\\n\\t\\t\\t\\ttext-align: center;\\n\\t\\t\\t\\tvertical-align: middle;\\n\\t\\t\\t\\tdisplay: inline-block;\\n\\t\\t\\t\\tmargin-left: 6.5px;\\n\\t\\t\\t}\\n\\n\\t\\t.grupoCaelum-column:not(:first-child) {\\n\\t\\t\\tborder-left: solid 1px #e3e9ed;\\n\\t\\t}\\n\\n\\t\\t.grupoCaelum-title {\\n\\t\\t\\tdisplay: inline-block;\\n\\t\\t\\ttext-decoration: none;\\n\\t\\t\\tcolor: #657176;\\n\\t\\t\\tletter-spacing: normal;\\n\\t\\t\\tfont-size: 18px;\\n\\t\\t\\tmargin-top: 54px;\\n\\t\\t}\\n\\n\\t.column-item-logo {\\n\\t\\twidth: 30px;\\n\\t\\theight: 30px;\\n\\t\\tvertical-align: middle;\\n\\t\\tdisplay: inline-block;\\n\\t}\\n\\n\\t.column-item {\\n\\t\\tmargin-bottom: 17px;\\n\\t}\\n\\n\\t.column-item a{\\n\\t\\ttext-decoration: none;\\n\\t\\tcolor: #657176;\\n\\t}</style><footer\\nclass=\"caelum-footer\"><div\\nclass=\"grupoCaelum\"><div\\nclass=\"container\"><p\\nclass=\"grupoCaelum-title\">Grupo Caelum Alura</p><ul\\nclass=\"grupoCaelum-list\"><li\\nclass=\"grupoCaelum-column\"><p\\nclass=\"grupoCaelum-column-title\">Educação</p><ul\\nclass=\"grupoCaelum-column-list\"><li\\nclass=\"column-item\">\\n<a\\ntarget=\"_blank\" href=\"https://www.caelum.com.br\">\\n<svg\\nclass=\"column-item-logo\"><use\\nxlink:href=\"/svg,1570550707/caelumFooter#icon-caelumFooter-caelum\"><span\\nclass=\"column-item-title\">Caelum</span></svg>\\n</a></li><li\\nclass=\"column-item\">\\n<a\\ntarget=\"_blank\" href=\"https://www.casadocodigo.com.br\">\\n<svg\\nclass=\"column-item-logo\"><use\\nxlink:href=\"/svg,1570550707/caelumFooter#icon-caelumFooter-cdc\"><span\\nclass=\"column-item-title\">Casa do Código</span></svg>\\n</a></li></ul></li><li\\nclass=\"grupoCaelum-column\"><p\\nclass=\"grupoCaelum-column-title\">Educação Online</p><ul\\nclass=\"grupoCaelum-column-list\"><li\\nclass=\"column-item\">\\n<a\\ntarget=\"_blank\" href=\"https://www.alura.com.br\">\\n<svg\\nclass=\"column-item-logo\"><use\\nxlink:href=\"/svg,1570550707/caelumFooter#icon-caelumFooter-alura\"><span\\nclass=\"column-item-title\">Alura</span></svg>\\n</a></li><li\\nclass=\"column-item\">\\n<a\\ntarget=\"_blank\" href=\"https://www.alurastart.com.br\">\\n<svg\\nclass=\"column-item-logo\"><use\\nxlink:href=\"/svg,1570550707/caelumFooter#icon-caelumFooter-alurastart\"><span\\nclass=\"column-item-title\">Alura Start</span></svg>\\n</a></li><li\\nclass=\"column-item\">\\n<a\\ntarget=\"_blank\" href=\"https://www.musicdot.com.br\">\\n<svg\\nclass=\"column-item-logo\"><use\\nxlink:href=\"/svg,1570550707/caelumFooter#icon-caelumFooter-musicdot\"><span\\nclass=\"column-item-title\">MusicDot</span></svg>\\n</a></li><li\\nclass=\"column-item\">\\n<a\\ntarget=\"_blank\" href=\"https://www.aluralingua.com.br\">\\n<svg\\nclass=\"column-item-logo\"><use\\nxlink:href=\"/svg,1570550707/caelumFooter#icon-caelumFooter-aluralingua\"><span\\nclass=\"column-item-title\">Alura Língua</span></svg>\\n</a></li></ul></li><li\\nclass=\"grupoCaelum-column\"><p\\nclass=\"grupoCaelum-column-title\">Comunidade</p><ul\\nclass=\"grupoCaelum-column-list\"><li\\nclass=\"column-item\">\\n<a\\ntarget=\"_blank\" href=\"https://hipsters.tech\">\\n<svg\\nclass=\"column-item-logo\"><use\\nxlink:href=\"/svg,1570550707/caelumFooter#icon-caelumFooter-hipsterstech\"><span\\nclass=\"column-item-title\">Hipsters ponto Tech</span></svg>\\n</a></li><li\\nclass=\"column-item\">\\n<a\\ntarget=\"_blank\" href=\"https://hipsters.jobs\">\\n<svg\\nclass=\"column-item-logo\"><use\\nxlink:href=\"/svg,1570550707/caelumFooter#icon-caelumFooter-hipstersjobs\"><span\\nclass=\"column-item-title\">Hipsters ponto Jobs</span></svg>\\n</a></li><li\\nclass=\"column-item\">\\n<a\\ntarget=\"_blank\" href=\"https://www.guj.com.br\">\\n<svg\\nclass=\"column-item-logo\"><use\\nxlink:href=\"/svg,1570550707/caelumFooter#icon-caelumFooter-guj\"><span\\nclass=\"column-item-title\">GUJ</span></svg>\\n</a></li></ul></li></ul></div></div></footer> <script>(function(){\\n    var match = location.pathname.match(/\\\\/(bf-|blackfriday\\\\/)([^\\\\/]+)/);\\n    if (match != null) {\\n        var links = document.querySelectorAll(\\'a[href]\\');\\n        for (var i = 0; i < links.length; i++) {\\n            var href = links[i].getAttribute(\\'href\\');\\n            if (href[0] === \\'/\\') {\\n                links[i].setAttribute(\\'href\\', \\'/bf-\\' + match[2] + href);\\n            }\\n        }\\n    }\\n})();</script> <script src=\"/assets/js/lib/svg4everybody.min.1570550707.js\" async></script> <script src=\"/assets/js/header/menu.1570550707.js\" async></script> <script src=\"/assets/js/header/busca.1570550707.js\" async></script> <script src=\"/assets/js/header/cursos.1570550707.js\" async></script> <script src=\"/assets/js/detect.1570550707.js\" async></script> <script src=\"/assets/js/video.1571773177.js\" async></script> <script src=\"/assets/js/Countdown.1571149146.js\" async></script> <script>var userId = (document.cookie.match(\\'alura.userId=([^;]+)\\')||[null,null])[1];\\n  window.ga=window.ga||function(){(ga.q=ga.q||[]).push(arguments)};ga.l=+new Date;\\n\\n  \\tga(\\'create\\', \\'UA-42101548-1\\', \\'alura.com.br\\', \\'tracker0\\', {\\'siteSpeedSampleRate\\': 50});\\n\\n\\tif (userId) ga(\\'tracker0.set\\', \\'userId\\', userId);\\n\\n\\tga(\\'tracker0.require\\', \\'displayfeatures\\');\\n\\tga(\\'tracker0.send\\', \\'pageview\\');\\n  \\tga(\\'create\\', \\'UA-42101548-9\\', \\'alura.com.br\\', \\'tracker1\\', {\\'siteSpeedSampleRate\\': 50});\\n\\n\\tif (userId) ga(\\'tracker1.set\\', \\'userId\\', userId);\\n\\n\\tga(\\'tracker1.require\\', \\'displayfeatures\\');\\n\\tga(\\'tracker1.send\\', \\'pageview\\');</script> <script async src=\\'//www.google-analytics.com/analytics.js\\'></script> <script src=\"/assets/js/footer/footer.1570550707.js\" async></script> <script src=\"https://static.criteo.net/js/ld/ld.js\" async></script> <script>function criteoPush(event, data){\\n\\t\\tvar isAluno = document.cookie.match(\\'alura.userId=([^;]+)\\') != null;\\n\\t\\tif(isAluno) return;\\n\\n\\t\\twindow.criteo_q = window.criteo_q || [];\\n\\t\\t\\twindow.criteo_q.push(\\n\\t\\t\\t\\t{ event: \"setAccount\", account: 28037 },\\n\\t\\t\\t\\t{ event: \"setEmail\", email: \"\" },\\n\\t\\t\\t\\t{ event: \"setSiteType\", type: (/iPad/.test(navigator.userAgent) ? \"t\" : (/Mobile|iP(hone|od)|Android|BlackBerry|IEMobile/.test(navigator.userAgent) ? \"m\" : \"d\")) },\\n\\t\\t\\t\\t{ event: event, item: data}\\n\\t\\t\\t);\\t\\n\\t};\\n\\n\\t\\t\\tcriteoPush(\"viewHome\", \"\");\\n\\t\\t\\n\\t\\tvar criteoIdEl = document.querySelector(\\'[data-criteo-id]\\');\\n\\tif (criteoIdEl) {\\n        var products = JSON.parse(criteoIdEl.dataset.criteoId);\\n        var planos = document.querySelectorAll(\\'[data-payment-plan]\\');\\n\\n        planos.forEach(function (plano) {\\n            plano.addEventListener(\\'click\\', function (event) {\\n\\t\\t\\t\\tvar price = plano.dataset.paymentPlanPrice;\\n                var totalProducts = products.length;\\n\\t\\t\\t\\tvar productIds = \\'\\';\\n\\n                for(var i = 0; i < totalProducts; i++){\\n                    products[i][\\'price\\'] = price;\\n                    products[i][\\'quantity\\'] = 1;\\n\\t\\t\\t\\t\\tproductIds += \\',\\' + products[i][\\'id\\'];\\n                }\\n\\n\\t\\t\\t\\tproductIds = productIds.substr(1);\\n\\n\\t\\t\\t\\t// monta cookie pro Cart indicando quais cursos foram clicados\\n        \\t\\tdocument.cookie = \"criteo.productIds=\" + productIds + \"; path=/; domain=.alura.com.br\";\\n\\n\\t\\t\\t\\t// manda pro criteo\\n                criteoPush(\"viewBasket\", products);\\n            });\\n        });\\n\\n\\n\\t}</script> <script type=\"text/javascript\">_linkedin_partner_id = \"465017\";\\n\\t\\t\\twindow._linkedin_data_partner_ids = window._linkedin_data_partner_ids || [];\\n\\t\\t\\twindow._linkedin_data_partner_ids.push(_linkedin_partner_id);</script> <script type=\"text/javascript\">(function(){var s = document.getElementsByTagName(\"script\")[0];\\n\\t\\t\\tvar b = document.createElement(\"script\");\\n\\t\\t\\tb.type = \"text/javascript\";b.async = true;\\n\\t\\t\\tb.src = \"https://snap.licdn.com/li.lms-analytics/insight.min.js\";\\n\\t\\t\\ts.parentNode.insertBefore(b, s);})();</script> <noscript>\\n<img\\nheight=\"1\" width=\"1\" style=\"display:none;\" alt=\"\"\\nsrc=\"https://dc.ads.linkedin.com/collect/?pid=465017&fmt=gif\" />\\n</noscript></body></html>'"
            ]
          },
          "metadata": {
            "tags": []
          },
          "execution_count": 15
        }
      ]
    },
    {
      "cell_type": "code",
      "metadata": {
        "id": "Gz2_X_FN5PZD",
        "colab_type": "code",
        "outputId": "df8fc243-8a3c-4523-a445-bf08c066edb3",
        "colab": {
          "base_uri": "https://localhost:8080/",
          "height": 0
        }
      },
      "source": [
        "trata_html(html)"
      ],
      "execution_count": 16,
      "outputs": [
        {
          "output_type": "execute_result",
          "data": {
            "text/plain": [
              "'<!DOCTYPE html><html lang=\"pt-BR\"><head><meta charset=\"UTF-8\"><meta name=\"viewport\" content=\"width=device-width,initial-scale=1,minimum-scale=1.0\"><title>Alura | Cursos online de tecnologia</title><meta name=\"description\" content=\"Aprenda Programação, Mobile, Front-end, Design, UX, Infraestrutura, Marketing Digital, Data Science, Inovação e Gestão com didática inovadora focada no mercado real de trabalho\"><link rel=\"canonical\" href=\"https://www.alura.com.br\"><link href=\"https://fonts.googleapis.com/css?display=swap&family=Open+Sans:300,400,400i,600,700,800\" rel=\"stylesheet\" crossorigin><link rel=\"preconnect\" href=\"https://fonts.gstatic.com/\" crossorigin><link rel=\"stylesheet\" href=\"/bundle,base/_reset,base/base,base/buttons,base/colors,base/titulos.1572363839.css\"><link rel=\"stylesheet\" href=\"/bundle,home/homeNova/career-colors,home/homeNova/careers,home/homeNova/companies,home/homeNova/features,home/homeNova/home,home/homeNova/mobile,home/homeNova/testimonies.1572363839.css\"><link rel=\"stylesheet\" href=\"/assets/css/block/elasticMedia.1570550707.css\"><meta property=\"og:locale\" content=\"pt_BR\"><meta property=\"og:description\" content=\"Aprenda Programação, Mobile, Front-end, Design, UX, Infraestrutura, Marketing Digital, Data Science, Inovação e Gestão com didática inovadora focada no mercado real de trabalho\"><meta property=\"og:title\" content=\"Alura | Cursos online de tecnologia\"><meta property=\"og:site_name\" content=\"Alura\"><meta property=\"og:url\" content=\"https://www.alura.com.br/\"><meta property=\"og:image\" content=\"https://www.alura.com.br/assets/img/alura-share.1571848411.png\"><meta property=\"og:image:alt\" content=\"Alura logo\"><meta property=\"fb:app_id\" content=\"140078819399376\"><meta property=\"og:type\" content=\"website\"><meta name=\"twitter:card\" content=\"summary_large_image\"><meta name=\"theme-color\" content=\"#2A7AE4\"></head><body class=\"\"><script>(function(w,d,s,l,i){w[l]=w[l]||[];w[l].push({\\'gtm.start\\': new Date().getTime(),event:\\'gtm.js\\'});var f=d.getElementsByTagName(s)[0], j=d.createElement(s),dl=l!=\\'dataLayer\\'?\\'&l=\\'+l:\\'\\';j.async=true;j.src= \\'https://www.googletagmanager.com/gtm.js?id=\\'+i+dl;f.parentNode.insertBefore(j,f); })(window,document,\\'script\\',\\'dataLayer\\',\\'GTM-TN542JN\\');</script><noscript><iframe src=\"https://www.googletagmanager.com/ns.html?id=GTM-TN542JN\" height=\"0\" width=\"0\" style=\"display:none;visibility:hidden\"></iframe></noscript><script>setTimeout(function() { new Image().src = \"https://www.facebook.com/tr?id=1067810189950610&ev=PageView&noscript=1\"; }, 300);</script><script type=\"application/ld+json\">{ \"@context\": \"http://schema.org\", \"@type\": \"BreadcrumbList\", \"itemListElement\": [{ \"@type\": \"ListItem\", \"position\": 1, \"item\": { \"@id\": \"https://www.alura.com.br\", \"name\": \"Alura\" } } ] }</script><div class=\"home\"><div class=\"home__header\"><link rel=\"stylesheet\" href=\"/assets/css/block/header.1570550707.css\"><link rel=\"stylesheet\" href=\"/assets/css/block/headerHome.1570550707.css\"><style>@media (min-width: 1100px) { .header-navegacao-cursos-lista { display: none; } .header__nav { border: none; margin-top:10px; } .header { padding-bottom: 0; } }</style><header class=\"header--home\"><div class=\"container\"><nav class=\"header__nav--home\"><a href=\"/\" class=\"header__nav__link--home header__nav__link--logo\"><img class=\"header__nav__link__logo\" alt=\"Alura\" src=\"/assets/img/home/alura-logo.1570550707.svg\"></a><div class=\"header__nav__wrapper--home header__nav__wrapper--ctas--home\"><div href=\"/busca\" class=\"header-utilitario-busca header-utilitario-busca--home\" aria-label=\"Busca\"><svg class=\"header-utilitario-busca-icone--home\" xmlns:xlink=\"http://www.w3.org/1999/xlink\"><use xlink:href=\"/svg,1570550707/header#icon-header-busca-home\"/></svg></div><a href=\"https://cursos.alura.com.br/loginForm?urlAfterLogin=https://cursos.alura.com.br/dashboard\" class=\"header__nav__link--home header__nav__link--entrar--home\">Entrar</a><a href=\"/planos-cursos-online\" class=\"header__nav__link--home header__nav__link--cta--home\">Matricule-se</a></div><div class=\"header__nav__wrapper--home header__nav__wrapper--menu header__nav__wrapper--menu--home\"><div class=\"header-barraBusca header-barraBusca--home\"><div class=\"container\"><form action=\"/busca\" class=\"header-barraBusca-form\"><label for=\"header-barraBusca-form-campoBusca\">Qual curso procura?</label><input type=\"search\" id=\"header-barraBusca-form-campoBusca\" name=\"query\" class=\"header-barraBusca-form-serch-input header-barra-busca--home\" placeholder=\"O que você quer aprender?\"><button class=\"header-barraBusca-form-submit\" type=\"submit\">Buscar</button></form></div></div><div href=\"/cursos-online-tecnologia\" class=\"nav__courses__link--home header-navegacao-cursos header-navegacao-cursos--home header__menu-options--home header__menu-allcourses--home\"><svg class=\"header-navegacao-cursos-icone\" xmlns:xlink=\"http://www.w3.org/1999/xlink\"><use xlink:href=\"/svg,1570550707/header#icon-header-icon-arrow-home\"/></svg><span>Todos os</span><span>Cursos</span></div><a href=\"/formacoes\" class=\"nav__courses__link--home header__menu-options--home\"><span>Formações</span></a><a href=\"/empresas\" class=\"nav__courses__link--home header__menu-options--home\"><span>Para</span><span>Empresas</span></a><a href=\"/como-funciona\" class=\"nav__courses__link--home header__menu-options--home\"><span>Como</span><span>Funciona</span></a></div><ul class=\"header-navegacao-cursos-lista container header__menu-allcourses--home\"><li class=\"header-cursos-lista-categoria \"><a href=\"/cursos-online-mobile\" class=\"unlinkify\"><svg class=\"header-cursos-lista-categoria--icon\" xmlns:xlink=\"http://www.w3.org/1999/xlink\"><use xlink:href=\"/svg,1570550707/categorias#icon-categorias-mobile\"/></svg><div class=\"header-lista-categoria-nome--home\"><span>Mobile</span></div></a></li><li class=\"header-cursos-lista-categoria \"><a href=\"/cursos-online-programacao\" class=\"unlinkify\"><svg class=\"header-cursos-lista-categoria--icon\" xmlns:xlink=\"http://www.w3.org/1999/xlink\"><use xlink:href=\"/svg,1570550707/categorias#icon-categorias-programacao\"/></svg><div class=\"header-lista-categoria-nome--home\"><span>Programação</span></div></a></li><li class=\"header-cursos-lista-categoria \"><a href=\"/cursos-online-front-end\" class=\"unlinkify\"><svg class=\"header-cursos-lista-categoria--icon\" xmlns:xlink=\"http://www.w3.org/1999/xlink\"><use xlink:href=\"/svg,1570550707/categorias#icon-categorias-front-end\"/></svg><div class=\"header-lista-categoria-nome--home\"><span>Front-end</span></div></a></li><li class=\"header-cursos-lista-categoria \"><a href=\"/cursos-online-infraestrutura\" class=\"unlinkify\"><svg class=\"header-cursos-lista-categoria--icon\" xmlns:xlink=\"http://www.w3.org/1999/xlink\"><use xlink:href=\"/svg,1570550707/categorias#icon-categorias-infraestrutura\"/></svg><div class=\"header-lista-categoria-nome--home\"><span>Infraestrutura</span></div></a></li><li class=\"header-cursos-lista-categoria \"><a href=\"/cursos-online-design-ux\" class=\"unlinkify\"><svg class=\"header-cursos-lista-categoria--icon\" xmlns:xlink=\"http://www.w3.org/1999/xlink\"><use xlink:href=\"/svg,1570550707/categorias#icon-categorias-design-ux\"/></svg><div class=\"header-lista-categoria-nome--home\"><span>Design & UX</span></div></a></li><li class=\"header-cursos-lista-categoria \"><a href=\"/cursos-online-marketing-digital\" class=\"unlinkify\"><svg class=\"header-cursos-lista-categoria--icon\" xmlns:xlink=\"http://www.w3.org/1999/xlink\"><use xlink:href=\"/svg,1570550707/categorias#icon-categorias-marketing-digital\"/></svg><div class=\"header-lista-categoria-nome--home\"><span>Marketing Digital</span></div></a></li><li class=\"header-cursos-lista-categoria \"><a href=\"/cursos-online-data-science\" class=\"unlinkify\"><svg class=\"header-cursos-lista-categoria--icon\" xmlns:xlink=\"http://www.w3.org/1999/xlink\"><use xlink:href=\"/svg,1570550707/categorias#icon-categorias-data-science\"/></svg><div class=\"header-lista-categoria-nome--home\"><span>Data Science</span></div></a></li><li class=\"header-cursos-lista-categoria \"><a href=\"/cursos-online-inovacao-gestao\" class=\"unlinkify\"><svg class=\"header-cursos-lista-categoria--icon\" xmlns:xlink=\"http://www.w3.org/1999/xlink\"><use xlink:href=\"/svg,1570550707/categorias#icon-categorias-inovacao-gestao\"/></svg><div class=\"header-lista-categoria-nome--home\"><span>Inovação & Gestão</span></div></a></li></ul></nav></div></header><div class=\"container\"><div class=\"home--background\"><div class=\"home__titles\"><h1 class=\"home__titles__main-title\">Cursos de Tecnologia e Negócios Digitais</h1><p class=\"home__titles__sub-title\">Você vai estudar, praticar, discutir e aprender em uma comunidade de inquietos e inovadores</p></div></div><link rel=\"stylesheet\" href=\"/assets/css/block/categories.1570550707.css\"><link rel=\"stylesheet\" href=\"/assets/css/block/navCategoriasHome.1572363839.css\"><link rel=\"stylesheet\" href=\"/assets/css/block/navCategoriasHome.1572363839.css\"><nav class=\"categories--home\"><div class=\"categories__elements--home\"><div class=\"categories__wrapper__links--home\"><a class=\"categories__link--home\" href=\"/cursos-online-mobile\"><div class=\"categories__link-wrapper--home\"><div class=\"categories__svg-wrapper--home\" style=\"background:#ffba05;\"><svg class=\"pagina-categoria__svg--home categories__svg--home\" xmlns:xlink=\"http://www.w3.org/1999/xlink\"><use xlink:href=\"/svg,1570550707/categorias#icon-categorias-mobile\"/></svg></div><div style=\"color:#ffba05;\"><span class=\"categories__link__text\">Cursos de</span><h4 class=\"categories__link__category-name\">Mobile</h4></div></div></a><nav class=\"categories__calls--home\"><a href=\"/cursos-online-mobile/ios\" class=\"categories__calls__description--home\">iOS e Swift</a><span class=\"categories__calls__description-separator\">, </span><a href=\"/cursos-online-mobile/android\" class=\"categories__calls__description--home\">Android e Kotlin</a><span class=\"categories__calls__description-separator\">, </span><a href=\"/cursos-online-mobile/multiplataforma\" class=\"categories__calls__description--home\">Ionic, React Native</a><span class=\"categories__calls__description-separator\">, </span><a href=\"/cursos-online-mobile/jogos\" class=\"categories__calls__description--home\">Jogos</a><span class=\"categories__calls__description-separator\">, </span><a href=\"/cursos-online-mobile\" class=\"categories__calls__link-see-more--home\">e mais...</a></nav></div><div class=\"categories__wrapper__links--home\"><a class=\"categories__link--home\" href=\"/cursos-online-programacao\"><div class=\"categories__link-wrapper--home\"><div class=\"categories__svg-wrapper--home\" style=\"background:#00c86f;\"><svg class=\"pagina-categoria__svg--home categories__svg--home\" xmlns:xlink=\"http://www.w3.org/1999/xlink\"><use xlink:href=\"/svg,1570550707/categorias#icon-categorias-programacao\"/></svg></div><div style=\"color:#00c86f;\"><span class=\"categories__link__text\">Cursos de</span><h4 class=\"categories__link__category-name\">Programação</h4></div></div></a><nav class=\"categories__calls--home\"><a href=\"/cursos-online-programacao/logica\" class=\"categories__calls__description--home\">Lógica</a><span class=\"categories__calls__description-separator\">, </span><a href=\"/cursos-online-programacao/python\" class=\"categories__calls__description--home\">Python</a><span class=\"categories__calls__description-separator\">, </span><a href=\"/cursos-online-programacao/php\" class=\"categories__calls__description--home\">PHP</a><span class=\"categories__calls__description-separator\">, </span><a href=\"/cursos-online-programacao/java\" class=\"categories__calls__description--home\">Java</a><span class=\"categories__calls__description-separator\">, </span><a href=\"/cursos-online-programacao/dotnet\" class=\"categories__calls__description--home\">.NET</a><span class=\"categories__calls__description-separator\">, </span><a href=\"/cursos-online-programacao/node-js\" class=\"categories__calls__description--home\">Node JS</a><span class=\"categories__calls__description-separator\">, </span><a href=\"/cursos-online-programacao/ruby\" class=\"categories__calls__description--home\">Ruby & Rails</a><span class=\"categories__calls__description-separator\">, </span><a href=\"/cursos-online-programacao/linguagem-c\" class=\"categories__calls__description--home\">C</a><span class=\"categories__calls__description-separator\">, </span><a href=\"/cursos-online-programacao/computacao\" class=\"categories__calls__description--home\">Computação</a><span class=\"categories__calls__description-separator\">, </span><a href=\"/cursos-online-programacao/jogos\" class=\"categories__calls__description--home\">Jogos</a><span class=\"categories__calls__description-separator\">, </span><a href=\"/cursos-online-programacao\" class=\"categories__calls__link-see-more--home\">e mais...</a></nav></div><div class=\"categories__wrapper__links--home\"><a class=\"categories__link--home\" href=\"/cursos-online-front-end\"><div class=\"categories__link-wrapper--home\"><div class=\"categories__svg-wrapper--home\" style=\"background:#6bd1ff;\"><svg class=\"pagina-categoria__svg--home categories__svg--home\" xmlns:xlink=\"http://www.w3.org/1999/xlink\"><use xlink:href=\"/svg,1570550707/categorias#icon-categorias-front-end\"/></svg></div><div style=\"color:#6bd1ff;\"><span class=\"categories__link__text\">Cursos de</span><h4 class=\"categories__link__category-name\">Front-end</h4></div></div></a><nav class=\"categories__calls--home\"><a href=\"/cursos-online-front-end/front-end\" class=\"categories__calls__description--home\">HTML, CSS</a><span class=\"categories__calls__description-separator\">, </span><a href=\"/cursos-online-front-end/javascript\" class=\"categories__calls__description--home\">JavaScript</a><span class=\"categories__calls__description-separator\">, </span><a href=\"/cursos-online-front-end/frameworks-mvc-em-javascript\" class=\"categories__calls__description--home\">Angular, React</a><span class=\"categories__calls__description-separator\">, </span><a href=\"/cursos-online-front-end/jquery\" class=\"categories__calls__description--home\">jQuery</a><span class=\"categories__calls__description-separator\">, </span><a href=\"/cursos-online-front-end\" class=\"categories__calls__link-see-more--home\">e mais...</a></nav></div><div class=\"categories__wrapper__links--home\"><a class=\"categories__link--home\" href=\"/cursos-online-infraestrutura\"><div class=\"categories__link-wrapper--home\"><div class=\"categories__svg-wrapper--home\" style=\"background:#f16165;\"><svg class=\"pagina-categoria__svg--home categories__svg--home\" xmlns:xlink=\"http://www.w3.org/1999/xlink\"><use xlink:href=\"/svg,1570550707/categorias#icon-categorias-infraestrutura\"/></svg></div><div style=\"color:#f16165;\"><span class=\"categories__link__text\">Cursos de</span><h4 class=\"categories__link__category-name\">Infraestrutura</h4></div></div></a><nav class=\"categories__calls--home\"><a href=\"/cursos-online-infraestrutura/devops\" class=\"categories__calls__description--home\">DevOps e Git</a><span class=\"categories__calls__description-separator\">, </span><a href=\"/cursos-online-infraestrutura/cloud-computing\" class=\"categories__calls__description--home\">Cloud</a><span class=\"categories__calls__description-separator\">, </span><a href=\"/cursos-online-infraestrutura/linux-comandos-e-processos\" class=\"categories__calls__description--home\">Linux</a><span class=\"categories__calls__description-separator\">, </span><a href=\"/cursos-online-infraestrutura/internet-das-coisas\" class=\"categories__calls__description--home\">IoT</a><span class=\"categories__calls__description-separator\">, </span><a href=\"/cursos-online-infraestrutura/redes\" class=\"categories__calls__description--home\">Redes</a><span class=\"categories__calls__description-separator\">, </span><a href=\"/cursos-online-infraestrutura\" class=\"categories__calls__link-see-more--home\">e mais...</a></nav></div><div class=\"categories__wrapper__links--home\"><a class=\"categories__link--home\" href=\"/cursos-online-design-ux\"><div class=\"categories__link-wrapper--home\"><div class=\"categories__svg-wrapper--home\" style=\"background:#dc6ebe;\"><svg class=\"pagina-categoria__svg--home categories__svg--home\" xmlns:xlink=\"http://www.w3.org/1999/xlink\"><use xlink:href=\"/svg,1570550707/categorias#icon-categorias-design-ux\"/></svg></div><div style=\"color:#dc6ebe;\"><span class=\"categories__link__text\">Cursos de</span><h4 class=\"categories__link__category-name\">Design & UX</h4></div></div></a><nav class=\"categories__calls--home\"><a href=\"/cursos-online-design-ux/wwww\" class=\"categories__calls__description--home\">Photoshop e Illustrator</a><span class=\"categories__calls__description-separator\">, </span><a href=\"/cursos-online-design-ux/ux\" class=\"categories__calls__description--home\">Usabilidade e UX</a><span class=\"categories__calls__description-separator\">, </span><a href=\"/cursos-online-design-ux/video\" class=\"categories__calls__description--home\">Vídeo e Motion</a><span class=\"categories__calls__description-separator\">, </span><a href=\"/cursos-online-design-ux/3d\" class=\"categories__calls__description--home\">3D</a><span class=\"categories__calls__description-separator\">, </span><a href=\"/cursos-online-design-ux\" class=\"categories__calls__link-see-more--home\">e mais...</a></nav></div><div class=\"categories__wrapper__links--home\"><a class=\"categories__link--home\" href=\"/cursos-online-marketing-digital\"><div class=\"categories__link-wrapper--home\"><div class=\"categories__svg-wrapper--home\" style=\"background:#6b5be2;\"><svg class=\"pagina-categoria__svg--home categories__svg--home\" xmlns:xlink=\"http://www.w3.org/1999/xlink\"><use xlink:href=\"/svg,1570550707/categorias#icon-categorias-marketing-digital\"/></svg></div><div style=\"color:#6b5be2;\"><span class=\"categories__link__text\">Cursos de</span><h4 class=\"categories__link__category-name\">Marketing Digital</h4></div></div></a><nav class=\"categories__calls--home\"><a href=\"/cursos-online-marketing-digital/ads\" class=\"categories__calls__description--home\">Ads</a><span class=\"categories__calls__description-separator\">, </span><a href=\"/cursos-online-marketing-digital/marketing-digital\" class=\"categories__calls__description--home\">Marketing</a><span class=\"categories__calls__description-separator\">, </span><a href=\"/cursos-online-marketing-digital/seo\" class=\"categories__calls__description--home\">SEO</a><span class=\"categories__calls__description-separator\">, </span><a href=\"/cursos-online-marketing-digital/e-commerce\" class=\"categories__calls__description--home\">E-commerce</a><span class=\"categories__calls__description-separator\">, </span><a href=\"/cursos-online-marketing-digital/social-media\" class=\"categories__calls__description--home\">Social Media</a><span class=\"categories__calls__description-separator\">, </span><a href=\"/cursos-online-marketing-digital/youtube\" class=\"categories__calls__description--home\">YouTube</a><span class=\"categories__calls__description-separator\">, </span><a href=\"/cursos-online-marketing-digital\" class=\"categories__calls__link-see-more--home\">e mais...</a></nav></div><div class=\"categories__wrapper__links--home\"><a class=\"categories__link--home\" href=\"/cursos-online-data-science\"><div class=\"categories__link-wrapper--home\"><div class=\"categories__svg-wrapper--home\" style=\"background:#9cd33b;\"><svg class=\"pagina-categoria__svg--home categories__svg--home\" xmlns:xlink=\"http://www.w3.org/1999/xlink\"><use xlink:href=\"/svg,1570550707/categorias#icon-categorias-data-science\"/></svg></div><div style=\"color:#9cd33b;\"><span class=\"categories__link__text\">Cursos de</span><h4 class=\"categories__link__category-name\">Data Science</h4></div></div></a><nav class=\"categories__calls--home\"><a href=\"/cursos-online-data-science/sql\" class=\"categories__calls__description--home\">SQL e Banco de Dados</a><span class=\"categories__calls__description-separator\">, </span><a href=\"/cursos-online-data-science/nosql\" class=\"categories__calls__description--home\">NoSQL</a><span class=\"categories__calls__description-separator\">, </span><a href=\"/cursos-online-data-science/data-science\" class=\"categories__calls__description--home\">Data Science</a><span class=\"categories__calls__description-separator\">, </span><a href=\"/cursos-online-data-science/machine-learning\" class=\"categories__calls__description--home\">Machine Learning</a><span class=\"categories__calls__description-separator\">, </span><a href=\"/cursos-online-data-science/business-intelligence\" class=\"categories__calls__description--home\">BI</a><span class=\"categories__calls__description-separator\">, </span><a href=\"/cursos-online-data-science/estatistica\" class=\"categories__calls__description--home\">Estatística</a><span class=\"categories__calls__description-separator\">, </span><a href=\"/cursos-online-data-science/excel\" class=\"categories__calls__description--home\">Excel</a><span class=\"categories__calls__description-separator\">, </span><a href=\"/cursos-online-data-science\" class=\"categories__calls__link-see-more--home\">e mais...</a></nav></div><div class=\"categories__wrapper__links--home\"><a class=\"categories__link--home\" href=\"/cursos-online-inovacao-gestao\"><div class=\"categories__link-wrapper--home\"><div class=\"categories__svg-wrapper--home\" style=\"background:#ff8c2a;\"><svg class=\"pagina-categoria__svg--home categories__svg--home\" xmlns:xlink=\"http://www.w3.org/1999/xlink\"><use xlink:href=\"/svg,1570550707/categorias#icon-categorias-inovacao-gestao\"/></svg></div><div style=\"color:#ff8c2a;\"><span class=\"categories__link__text\">Cursos de</span><h4 class=\"categories__link__category-name\">Inovação & Gestão</h4></div></div></a><nav class=\"categories__calls--home\"><a href=\"/cursos-online-inovacao-gestao/agilidade\" class=\"categories__calls__description--home\">Métodos Ágeis</a><span class=\"categories__calls__description-separator\">, </span><a href=\"/cursos-online-inovacao-gestao/habilidades-interpessoais\" class=\"categories__calls__description--home\">Softskills</a><span class=\"categories__calls__description-separator\">, </span><a href=\"/cursos-online-inovacao-gestao/lideranca-gestao-estrategica\" class=\"categories__calls__description--home\">Liderança e Gestão</a><span class=\"categories__calls__description-separator\">, </span><a href=\"/cursos-online-inovacao-gestao/startup-empreendedorismo\" class=\"categories__calls__description--home\">Empreendedorismo</a><span class=\"categories__calls__description-separator\">, </span><a href=\"/cursos-online-inovacao-gestao\" class=\"categories__calls__link-see-more--home\">e mais...</a></nav></div></div></nav></div></div><main class=\"home__main-content\"><section class=\"features container\"><aside class=\"features__info\"><h2 class=\"features__info__title\"><strong>Somos a maior plataforma brasileira</strong><span>Cursos de tecnologia com conteúdo 100% em português</span></h2><ul class=\"features__info__list\"><li class=\"features__info__list__item features__info__list__item--content\"><div class=\"features__info__list__item__wrapper\"><h4 class=\"features__info__list__item__title\">O conteúdo que você precisa</h4><p class=\"features__info__list__item__description\">São 971 cursos e novos lançamentos toda semana, além de atualizações e melhorias constantes.</p></div></li><li class=\"features__info__list__item features__info__list__item--practice\"><div class=\"features__info__list__item__wrapper\"><h4 class=\"features__info__list__item__title\">Conhecimento real</h4><p class=\"features__info__list__item__description\">Garantimos conhecimento com profundidade e diversidade. Aprenda com os melhores!</p></div></li><li class=\"features__info__list__item features__info__list__item--messages\"><div class=\"features__info__list__item__wrapper\"><h4 class=\"features__info__list__item__title\">Aprenda compartilhando</h4><p class=\"features__info__list__item__description\"> Faça parte de uma grande rede de apaixonados por tudo que é digital.</p></div></li></ul></aside><section class=\"features__video\"><div class=\"features__video-wrapper\"><div class=\"home-diferenciais-video\"><div class=\"home-diferenciais-video-wrapper\"><div class=\"elasticMedia-container\" data-src=\"//player.vimeo.com/video/227939524\"><noscript><iframe class=\"elasticMedia\" src=\"//player.vimeo.com/video/227939524\" frameborder=\"0\" webkitallowfullscreen mozallowfullscreen allowfullscreen></iframe></noscript></div></div></div></div><a class=\"features__video__link\" href=\"/como-funciona\">Veja como funciona</a></section></section><section class=\"careers\"><div class=\"container\"><h2 class=\"careers__title\"><div class=\"careers__title__wrapper\"> Não sabe por onde começar? <span>Sequências de cursos organizados em <strong>Formações</strong></span></div></h2><ul class=\"careers__list\"><style type=\"text/css\">.career-mobile-title:after { background-color:#ffba05; }</style><li class=\"careers__list__item\" style=\"color:#ffba05;\"><div class=\"careers__list__item__title-wrapper\"><div class=\"categories__svg-wrapper\" style=\"background-color:#ffba05;\"><svg class=\"pagina-categoria__svg svgFill-mobile categories__svg\" xmlns:xlink=\"http://www.w3.org/1999/xlink\"><use xlink:href=\"/svg,1570550707/categorias#icon-categorias-mobile\"/></svg></div><h3 class=\"careers__list__item__title\">Mobile</h3></div><h4 class=\"careers__list__item__sub-title career-mobile-title\">Formações</h4><ul class=\"careers__list__item__list careers__list__item__list--formacoes\"><li class=\"careers__list__item__list__item\"><a class=\"careers__list__item__list__item__link\" href=\"/formacao-android\"> Android </a></li><li class=\"careers__list__item__list__item\"><a class=\"careers__list__item__list__item__link\" href=\"/formacao-arquiteto-android\"> Arquitetura Android </a></li><li class=\"careers__list__item__list__item\"><a class=\"careers__list__item__list__item__link\" href=\"/formacao-ios\"> iOS </a></li><li class=\"careers__list__item__list__item\"><a class=\"careers__list__item__list__item__link\" href=\"/formacao-xamarin\"> Multiplataforma mobile Xamarin </a></li><li class=\"careers__list__item__list__item\"><a class=\"careers__list__item__list__item__link\" href=\"/formacao-testes-automatizados-android\"> Testes automatizados no Android </a></li></ul></li><style type=\"text/css\">.career-programacao-title:after { background-color:#00c86f; }</style><li class=\"careers__list__item\" style=\"color:#00c86f;\"><div class=\"careers__list__item__title-wrapper\"><div class=\"categories__svg-wrapper\" style=\"background-color:#00c86f;\"><svg class=\"pagina-categoria__svg svgFill-programacao categories__svg\" xmlns:xlink=\"http://www.w3.org/1999/xlink\"><use xlink:href=\"/svg,1570550707/categorias#icon-categorias-programacao\"/></svg></div><h3 class=\"careers__list__item__title\">Programação</h3></div><h4 class=\"careers__list__item__sub-title career-programacao-title\">Formações</h4><ul class=\"careers__list__item__list careers__list__item__list--formacoes\"><li class=\"careers__list__item__list__item\"><a class=\"careers__list__item__list__item__link\" href=\"/formacao-dotnet\"> .NET </a></li><li class=\"careers__list__item__list__item\"><a class=\"careers__list__item__list__item__link\" href=\"/formacao-certificacao-csharp\"> Certificação C# Programming </a></li><li class=\"careers__list__item__list__item\"><a class=\"careers__list__item__list__item__link\" href=\"/formacao-certificacao-java\"> Certificação Java </a></li><li class=\"careers__list__item__list__item\"><a class=\"careers__list__item__list__item__link\" href=\"/formacao-clojure\"> Clojure </a></li><li class=\"careers__list__item__list__item\"><a class=\"careers__list__item__list__item__link\" href=\"/formacao-desenvolvedor-php\"> Desenvolvedor PHP </a></li><li class=\"careers__list__item__list__item\"><a class=\"careers__list__item__list__item__link\" href=\"/formacao-vb-net\"> Desenvolvedor VB.NET </a></li><li class=\"careers__list__item__list__item\"><a class=\"careers__list__item__list__item__link\" href=\"/formacao-expert-em-orientacao-a-objetos\"> Expert em Orientação a Objetos </a></li><li class=\"careers__list__item__list__item\"><a class=\"careers__list__item__list__item__link\" href=\"/formacao-programacao\"> Iniciante em Programação </a></li><li class=\"careers__list__item__list__item\"><a class=\"careers__list__item__list__item__link\" href=\"/formacao-integracao-aplicacoes-java\"> Integração de Aplicações Java </a></li><li class=\"careers__list__item__list__item\"><a class=\"careers__list__item__list__item__link\" href=\"/formacao-java\"> Java </a></li><li class=\"careers__list__item__list__item\"><a class=\"careers__list__item__list__item__link\" href=\"/formacao-java-ee\"> Java EE </a></li><li class=\"careers__list__item__list__item\"><a class=\"careers__list__item__list__item__link\" href=\"/formacao-jogos-unity\"> Jogos com Unity </a></li><li class=\"careers__list__item__list__item\"><a class=\"careers__list__item__list__item__link\" href=\"/formacao-node-js-12\"> NodeJS </a></li><li class=\"careers__list__item__list__item\"><a class=\"careers__list__item__list__item__link\" href=\"/formacao-Python-linguagem\"> Python </a></li><li class=\"careers__list__item__list__item\"><a class=\"careers__list__item__list__item__link\" href=\"/formacao-python-web\"> Python Web </a></li><li class=\"careers__list__item__list__item\"><a class=\"careers__list__item__list__item__link\" href=\"/formacao-ruby-on-rails\"> Ruby On Rails </a></li><li class=\"careers__list__item__list__item\"><a class=\"careers__list__item__list__item__link\" href=\"/formacao-wordpress\"> Wordpress </a></li></ul></li><style type=\"text/css\">.career-front-end-title:after { background-color:#6bd1ff; }</style><li class=\"careers__list__item\" style=\"color:#6bd1ff;\"><div class=\"careers__list__item__title-wrapper\"><div class=\"categories__svg-wrapper\" style=\"background-color:#6bd1ff;\"><svg class=\"pagina-categoria__svg svgFill-front-end categories__svg\" xmlns:xlink=\"http://www.w3.org/1999/xlink\"><use xlink:href=\"/svg,1570550707/categorias#icon-categorias-front-end\"/></svg></div><h3 class=\"careers__list__item__title\">Front-end</h3></div><h4 class=\"careers__list__item__sub-title career-front-end-title\">Formações</h4><ul class=\"careers__list__item__list careers__list__item__list--formacoes\"><li class=\"careers__list__item__list__item\"><a class=\"careers__list__item__list__item__link\" href=\"/formacao-acessibilidade-web\"> Acessibilidade Web </a></li><li class=\"careers__list__item__list__item\"><a class=\"careers__list__item__list__item__link\" href=\"/formacao-angular\"> Angular </a></li><li class=\"careers__list__item__list__item\"><a class=\"careers__list__item__list__item__link\" href=\"/formacao-front-end\"> Front-end </a></li><li class=\"careers__list__item__list__item\"><a class=\"careers__list__item__list__item__link\" href=\"/formacao-html-e-css\"> HTML e CSS </a></li><li class=\"careers__list__item__list__item\"><a class=\"careers__list__item__list__item__link\" href=\"/formacao-node-js\"> Node.js </a></li><li class=\"careers__list__item__list__item\"><a class=\"careers__list__item__list__item__link\" href=\"/formacao-react\"> React </a></li><li class=\"careers__list__item__list__item\"><a class=\"careers__list__item__list__item__link\" href=\"/formacao-vuejs\"> Vue.js </a></li></ul></li><style type=\"text/css\">.career-infraestrutura-title:after { background-color:#f16165; }</style><li class=\"careers__list__item\" style=\"color:#f16165;\"><div class=\"careers__list__item__title-wrapper\"><div class=\"categories__svg-wrapper\" style=\"background-color:#f16165;\"><svg class=\"pagina-categoria__svg svgFill-infraestrutura categories__svg\" xmlns:xlink=\"http://www.w3.org/1999/xlink\"><use xlink:href=\"/svg,1570550707/categorias#icon-categorias-infraestrutura\"/></svg></div><h3 class=\"careers__list__item__title\">Infraestrutura</h3></div><h4 class=\"careers__list__item__sub-title career-infraestrutura-title\">Formações</h4><ul class=\"careers__list__item__list careers__list__item__list--formacoes\"><li class=\"careers__list__item__list__item\"><a class=\"careers__list__item__list__item__link\" href=\"/formacao-redes\"> Administrador de Redes </a></li><li class=\"careers__list__item__list__item\"><a class=\"careers__list__item__list__item__link\" href=\"/formacao-amazon-web-services\"> Amazon Web Services </a></li><li class=\"careers__list__item__list__item\"><a class=\"careers__list__item__list__item__link\" href=\"/formacao-certificacao-cisco-ccna\"> Certificação Cisco CCNA </a></li><li class=\"careers__list__item__list__item\"><a class=\"careers__list__item__list__item__link\" href=\"/formacao-certificacao-lpi-linux-essentials\"> Certificação LPI Linux Essentials </a></li><li class=\"careers__list__item__list__item\"><a class=\"careers__list__item__list__item__link\" href=\"/formacao-devops\"> DevOps </a></li><li class=\"careers__list__item__list__item\"><a class=\"careers__list__item__list__item__link\" href=\"/formacao-internet-das-coisas-iot\"> Internet das Coisas </a></li><li class=\"careers__list__item__list__item\"><a class=\"careers__list__item__list__item__link\" href=\"/formacao-microcontroladores-eletronica-aplicada\"> Microcontroladores e Eletrônica Aplicada </a></li><li class=\"careers__list__item__list__item\"><a class=\"careers__list__item__list__item__link\" href=\"/formacao-raspberry-pi\"> Raspberry Pi </a></li><li class=\"careers__list__item__list__item\"><a class=\"careers__list__item__list__item__link\" href=\"/formacao-seguranca-de-aplicacoes\"> Segurança de aplicações </a></li></ul></li><style type=\"text/css\">.career-design-ux-title:after { background-color:#dc6ebe; }</style><li class=\"careers__list__item\" style=\"color:#dc6ebe;\"><div class=\"careers__list__item__title-wrapper\"><div class=\"categories__svg-wrapper\" style=\"background-color:#dc6ebe;\"><svg class=\"pagina-categoria__svg svgFill-design-ux categories__svg\" xmlns:xlink=\"http://www.w3.org/1999/xlink\"><use xlink:href=\"/svg,1570550707/categorias#icon-categorias-design-ux\"/></svg></div><h3 class=\"careers__list__item__title\">Design & UX</h3></div><h4 class=\"careers__list__item__sub-title career-design-ux-title\">Formações</h4><ul class=\"careers__list__item__list careers__list__item__list--formacoes\"><li class=\"careers__list__item__list__item\"><a class=\"careers__list__item__list__item__link\" href=\"/formacao-ui-adobe-xd\"> Adobe XD </a></li><li class=\"careers__list__item__list__item\"><a class=\"careers__list__item__list__item__link\" href=\"/formacao-desenhohumano-photoshop\"> Desenho humano no Photoshop </a></li><li class=\"careers__list__item__list__item\"><a class=\"careers__list__item__list__item__link\" href=\"/formacao-design-grafico\"> Design Gráfico </a></li><li class=\"careers__list__item__list__item\"><a class=\"careers__list__item__list__item__link\" href=\"/formacao-editor-video\"> Editor de vídeo </a></li><li class=\"careers__list__item__list__item\"><a class=\"careers__list__item__list__item__link\" href=\"/formacao-ilustra-publicitaria\"> Ilustração Publicitária no Photoshop </a></li><li class=\"careers__list__item__list__item\"><a class=\"careers__list__item__list__item__link\" href=\"/formacao-producao-indesign\"> InDesign </a></li><li class=\"careers__list__item__list__item\"><a class=\"careers__list__item__list__item__link\" href=\"/formacao-motion-design\"> Motion Design </a></li><li class=\"careers__list__item__list__item\"><a class=\"careers__list__item__list__item__link\" href=\"/formacao-pinturadigital-photoshop\"> Pintura Digital no Photoshop </a></li><li class=\"careers__list__item__list__item\"><a class=\"careers__list__item__list__item__link\" href=\"/formacao-producao-com-photoshop\"> Produção com Photoshop </a></li><li class=\"careers__list__item__list__item\"><a class=\"careers__list__item__list__item__link\" href=\"/formacao-procucao-premiere\"> Produção de vídeo no Premiere </a></li><li class=\"careers__list__item__list__item\"><a class=\"careers__list__item__list__item__link\" href=\"/formacao-grafica-illustrator\"> Produção Gráfica com Illustrator </a></li><li class=\"careers__list__item__list__item\"><a class=\"careers__list__item__list__item__link\" href=\"/formacao-ui-sketch\"> Sketch </a></li><li class=\"careers__list__item__list__item\"><a class=\"careers__list__item__list__item__link\" href=\"/formacao-unreal-engine\"> Unreal Engine </a></li><li class=\"careers__list__item__list__item\"><a class=\"careers__list__item__list__item__link\" href=\"/formacao-ux\"> UX Design </a></li></ul></li><style type=\"text/css\">.career-data-science-title:after { background-color:#9cd33b; }</style><li class=\"careers__list__item\" style=\"color:#9cd33b;\"><div class=\"careers__list__item__title-wrapper\"><div class=\"categories__svg-wrapper\" style=\"background-color:#9cd33b;\"><svg class=\"pagina-categoria__svg svgFill-data-science categories__svg\" xmlns:xlink=\"http://www.w3.org/1999/xlink\"><use xlink:href=\"/svg,1570550707/categorias#icon-categorias-data-science\"/></svg></div><h3 class=\"careers__list__item__title\">Data Science</h3></div><h4 class=\"careers__list__item__sub-title career-data-science-title\">Formações</h4><ul class=\"careers__list__item__list careers__list__item__list--formacoes\"><li class=\"careers__list__item__list__item\"><a class=\"careers__list__item__list__item__link\" href=\"/formacao-business-intelligence-data-warehouse-pentaho\"> BI e Data Warehouse com Pentaho </a></li><li class=\"careers__list__item__list__item\"><a class=\"careers__list__item__list__item__link\" href=\"/formacao-business-intelligence-data-warehouse\"> BI e Data Warehouse com SQL Server e Power BI </a></li><li class=\"careers__list__item__list__item\"><a class=\"careers__list__item__list__item__link\" href=\"/formacao-certificacao-oracle-12c\"> Certificação Oracle 12c </a></li><li class=\"careers__list__item__list__item\"><a class=\"careers__list__item__list__item__link\" href=\"/formacao-data-science\"> Data Science </a></li><li class=\"careers__list__item__list__item\"><a class=\"careers__list__item__list__item__link\" href=\"/formacao-excel-vba\"> Excel VBA </a></li><li class=\"careers__list__item__list__item\"><a class=\"careers__list__item__list__item__link\" href=\"/formacao-machine-learning\"> Machine Learning </a></li><li class=\"careers__list__item__list__item\"><a class=\"careers__list__item__list__item__link\" href=\"/formacao-oracle-sql-plsql\"> Oracle SQL e PL/SQL </a></li><li class=\"careers__list__item__list__item\"><a class=\"careers__list__item__list__item__link\" href=\"/formacao-microsoft-sql-server-2017\"> SQL com Microsoft SQL Server 2017 </a></li><li class=\"careers__list__item__list__item\"><a class=\"careers__list__item__list__item__link\" href=\"/formacao-oracle-mysql\"> SQL com MySQL Server da Oracle </a></li></ul></li><style type=\"text/css\">.career-marketing-digital-title:after { background-color:#6b5be2; }</style><li class=\"careers__list__item\" style=\"color:#6b5be2;\"><div class=\"careers__list__item__title-wrapper\"><div class=\"categories__svg-wrapper\" style=\"background-color:#6b5be2;\"><svg class=\"pagina-categoria__svg svgFill-marketing-digital categories__svg\" xmlns:xlink=\"http://www.w3.org/1999/xlink\"><use xlink:href=\"/svg,1570550707/categorias#icon-categorias-marketing-digital\"/></svg></div><h3 class=\"careers__list__item__title\">Marketing Digital</h3></div><h4 class=\"careers__list__item__sub-title career-marketing-digital-title\">Formações</h4><ul class=\"careers__list__item__list careers__list__item__list--formacoes\"><li class=\"careers__list__item__list__item\"><a class=\"careers__list__item__list__item__link\" href=\"/formacao-marketing-digital\"> Marketing Digital </a></li><li class=\"careers__list__item__list__item\"><a class=\"careers__list__item__list__item__link\" href=\"/formacao-seo\"> SEO </a></li><li class=\"careers__list__item__list__item\"><a class=\"careers__list__item__list__item__link\" href=\"/formacao-social-media\"> Social Media </a></li></ul></li><style type=\"text/css\">.career-inovacao-gestao-title:after { background-color:#ff8c2a; }</style><li class=\"careers__list__item\" style=\"color:#ff8c2a;\"><div class=\"careers__list__item__title-wrapper\"><div class=\"categories__svg-wrapper\" style=\"background-color:#ff8c2a;\"><svg class=\"pagina-categoria__svg svgFill-inovacao-gestao categories__svg\" xmlns:xlink=\"http://www.w3.org/1999/xlink\"><use xlink:href=\"/svg,1570550707/categorias#icon-categorias-inovacao-gestao\"/></svg></div><h3 class=\"careers__list__item__title\">Inovação & Gestão</h3></div><h4 class=\"careers__list__item__sub-title career-inovacao-gestao-title\">Formações</h4><ul class=\"careers__list__item__list careers__list__item__list--formacoes\"><li class=\"careers__list__item__list__item\"><a class=\"careers__list__item__list__item__link\" href=\"/formacao-business-agility\"> Business Agility </a></li><li class=\"careers__list__item__list__item\"><a class=\"careers__list__item__list__item__link\" href=\"/formacao-certificacao-cobit-5\"> Certificação Cobit 5 </a></li><li class=\"careers__list__item__list__item\"><a class=\"careers__list__item__list__item__link\" href=\"/formacao-certificacao-itil-foundation\"> Certificação ITIL Foundation </a></li><li class=\"careers__list__item__list__item\"><a class=\"careers__list__item__list__item__link\" href=\"/formacao-certificacao-pmp-capm-pmi\"> Certificação PMP e CAPM do PMI </a></li><li class=\"careers__list__item__list__item\"><a class=\"careers__list__item__list__item__link\" href=\"/formacao-curriculos\"> Currículos </a></li><li class=\"careers__list__item__list__item\"><a class=\"careers__list__item__list__item__link\" href=\"/formacao-desenvolvimento-pessoal\"> Desenvolvimento Pessoal </a></li><li class=\"careers__list__item__list__item\"><a class=\"careers__list__item__list__item__link\" href=\"/formacao-e-commerce\"> E-commerce </a></li><li class=\"careers__list__item__list__item\"><a class=\"careers__list__item__list__item__link\" href=\"/formacao-empreendedorismo-digital\"> Empreendedorismo Digital </a></li><li class=\"careers__list__item__list__item\"><a class=\"careers__list__item__list__item__link\" href=\"/formacao-gerente-agil\"> Gerente Ágil </a></li></ul></li></ul></div></section><link rel=\"stylesheet\" href=\"/assets/css/block/destaqueAlunos.1570550707.css\"><section class=\"testimonies\"><div class=\"container\"><div class=\"testimonies__wrapper\"><h2 class=\"testimonies__title\"> Experiências de quem <strong class=\"testimonies__title__featured\">já estudou com a gente</strong></h2></div><nav class=\"testimonies__list\"><div class=\"testimonies__list__item\"><div class=\"testimony\"><img class=\"testimonies__list__item__photo\" alt=\"\" src=\"/assets/img/aluno-destaque/genilton-souza.1570550707.jpg\"><div class=\"testimonies__list__item__wrapper\"><h3 class=\"testimonies__list__item__title\">Genilton Souza</h3><span class=\"testimonies__list__item__description\"> Se você não sabe a ordem do que deve aprender e praticar para dominar uma tecnologia, <strong>a forma como os cursos estão organizados e estruturados na Alura ajuda muito</strong>. Aprendi C# aqui e pago minhas contas com isso hoje em dia.</span></div></div></div><div class=\"testimonies__list__item\"><div class=\"testimony\"><img class=\"testimonies__list__item__photo\" alt=\"\" src=\"/assets/img/aluno-destaque/leandro-silva.1570550707.jpg\"><div class=\"testimonies__list__item__wrapper\"><h3 class=\"testimonies__list__item__title\">Leandro da Silva</h3><span class=\"testimonies__list__item__description\"> Passei dois anos e meio desempregado e foi onde conheci os cursos da Alura. <strong>Consegui fazer uma mudança de carreira em uma área muito disputada e estou muito feliz</strong>: passei em um processo seletivo como Agente de Inovação, e muito do que aprendi tanto para a prova quanto para a etapa presencial foi graças a Alura. </span></div></div></div><div class=\"testimonies__list__item\"><div class=\"testimony\"><img class=\"testimonies__list__item__photo\" alt=\"\" src=\"/assets/img/aluno-destaque/nadia-oliveira.1570550707.jpg\"><div class=\"testimonies__list__item__wrapper\"><h3 class=\"testimonies__list__item__title\">Nádia Oliveira</h3><span class=\"testimonies__list__item__description\"> A plataforma é incrível. Além das metodologias do curso serem de alcance para quem está começando ou quem já está avançado em alguma tecnologia, no fórum de dúvidas sempre algum instrutor ou aluno te responde em um curto espaço de tempo. <strong>Na Alura, seu conhecimento é prioridade</strong>. </span></div></div></div></nav></div></section><section class=\"companies\"><div class=\"container\"><div class=\"companies-wrapper\"><div class=\"companies__description-wrapper\"><img class=\"companies__image\" src=\"/assets/img/home/homeNova/companies/foto-empresas.1570550707.jpg\" alt=\"Pessoas trabalhando na Alura\"><div class=\"companies__description\"><div class=\"companies__description__title-wrapper\"><h2 class=\"companies__description__title\">Para a sua <strong>empresa</strong></h2></div><p class=\"companies__description__text\"> Capacite suas equipes com formações continuadas, lançamentos semanais, dashboards e relatórios de engajamento além de guias de estudos customizados de acordo com sua necessidade.</p><a class=\"companies__description__link\" href=\"/empresas\">Conheça os recursos</a></div></div><section class=\"companies__testimony\"><div class=\"companies__testimony__wrapper\"><p class=\"companies__testimony__text\"><em> O time conseguiu aprender muito e um dos diferenciais para nós foi a língua, com conteúdo de qualidade em português. Na Alura, a equipe conseguiu estudar pela plataforma online e aplicar tudo de maneira estruturada.</em></p><span class=\"companies__testimony__author\"><strong class=\"companies__testimony__author__name\">Lucas Souza</strong> CTO da GetNinjas </span></div></section></div><section class=\"companies__using-alura\"><div class=\"companies__using-alura__title__wrapper\"><h2 class=\"companies__using-alura__title\"><strong>Empresas que já contam com a gente:</strong></h2></div><ul class=\"companies__using-alura__list\"><li class=\"companies__using-alura__list__item\"><img class=\"companies__using-alura__list__item__image\" src=\"/assets/img/home/homeNova/logo-empresas/logo-empresa-amil.1570550707.svg\" alt=\"Amil\"></li><li class=\"companies__using-alura__list__item\"><img class=\"companies__using-alura__list__item__image\" src=\"/assets/img/home/homeNova/logo-empresas/logo-empresa-samsung.1570550707.svg\" alt=\"Samsung\"></li><li class=\"companies__using-alura__list__item\"><img class=\"companies__using-alura__list__item__image\" src=\"/assets/img/home/homeNova/logo-empresas/logo-empresa-santander.1570550707.svg\" alt=\"Santander\"></li><li class=\"companies__using-alura__list__item\"><img class=\"companies__using-alura__list__item__image\" src=\"/assets/img/home/homeNova/logo-empresas/logo-empresa-cielo.1570550707.svg\" alt=\"Cielo\"></li><li class=\"companies__using-alura__list__item\"><img class=\"companies__using-alura__list__item__image\" src=\"/assets/img/home/homeNova/logo-empresas/logo-empresa-algar.1570550707.svg\" alt=\"Algar\"></li><li class=\"companies__using-alura__list__item\"><img class=\"companies__using-alura__list__item__image\" src=\"/assets/img/home/homeNova/logo-empresas/logo-empresa-caixa.1570550707.svg\" alt=\"Caixa\"></li><li class=\"companies__using-alura__list__item\"><img class=\"companies__using-alura__list__item__image\" src=\"/assets/img/home/homeNova/logo-empresas/logo-empresa-globo.1570550707.svg\" alt=\"Globo.com\"></li></ul></section></div></section><section class=\"mobile\"><div class=\"container\"><div class=\"mobile__wrapper-info\"><div class=\"mobile__info mobile__info--forum\"> Já são <strong>971 cursos</strong> com lançamentos toda semana.</div><div class=\"mobile__info mobile__info--app\"> Aplicativos para <strong>Android e iOS</strong> Baixe e estude offline em qualquer lugar.</div></div><nav class=\"mobile__apps-download\"><a href=\"https://play.google.com/store/apps/details?id=br.com.alura.mobi&hl=pt_BR\" class=\"mobile__apps-download__item mobile__apps-download__item--google-play\">Google Play</a><a href=\"https://itunes.apple.com/br/app/alura-cursos-online/id1225776635\" class=\"mobile__apps-download__item mobile__apps-download__item--app-store\">App Store</a></nav></div></section><link rel=\"stylesheet\" href=\"/assets/css/block/planosPagamentoOld.1572538101.css\"><section class=\"planos-pagamento\" id=\"planos-cursos-online\"><h2 class=\"planos-pagamento__titulo\"> Sabe quando você pode começar? <span class=\"planos-pagamento__titulo--bold\">Agora!</span></h2><div class=\"container\"><div class=\"planos-pagamento__planos \"><ul class=\"planos-pagamento__vantagens-mobile\"><li class=\"planos-pagamento__vantagem\"><div class=\"planos-pagamento__wrapper planos-pagamento__wrapper--com-descricao\"><span class=\"planos-pagamento__label\">971 cursos</span><div class=\"planos-pagamento__legenda-tooltip\"><p class=\"planos-pagamento__legenda-descricao\">Cursos de programação, UX, agilidade, data science, transformação digital, mobile, front-end, marketing e infra.</p></div></div></li><li class=\"planos-pagamento__vantagem\"><div class=\"planos-pagamento__wrapper planos-pagamento__wrapper--com-descricao\"><span class=\"planos-pagamento__label\">Certificado de participação</span><div class=\"planos-pagamento__legenda-tooltip\"><p class=\"planos-pagamento__legenda-descricao\">Certificado de que assistiu o curso e finalizou as atividades</p></div></div></li><li class=\"planos-pagamento__vantagem\"><div class=\"planos-pagamento__wrapper planos-pagamento__wrapper--com-descricao\"><span class=\"planos-pagamento__label\">App para Android e iPhone/iPad</span><div class=\"planos-pagamento__legenda-tooltip\"><p class=\"planos-pagamento__legenda-descricao\">Estude até mesmo offline através das nossas apps Android e iOS em smartphones e tablets</p></div></div></li><li class=\"planos-pagamento__vantagem\"><div class=\"planos-pagamento__wrapper planos-pagamento__wrapper--com-descricao\"><span class=\"planos-pagamento__label\">Projeto avaliado pelos instrutores</span><div class=\"planos-pagamento__legenda-tooltip\"><p class=\"planos-pagamento__legenda-descricao\">Projeto práticos para entrega e avaliação dos professores da Alura com certificado de aprovação diferenciado</p></div></div></li><li class=\"planos-pagamento__vantagem\"><div class=\"planos-pagamento__wrapper planos-pagamento__wrapper--com-descricao\"><span class=\"planos-pagamento__label\">Acesso à Alura Start</span><div class=\"planos-pagamento__legenda-tooltip\"><p class=\"planos-pagamento__legenda-descricao\">Cursos de introdução a tecnologia através de games, apps e ciência</p></div></div></li><li class=\"planos-pagamento__vantagem\"><div class=\"planos-pagamento__wrapper planos-pagamento__wrapper--com-descricao\"><span class=\"planos-pagamento__label\">Acesso à Alura Língua</span><div class=\"planos-pagamento__legenda-tooltip\"><p class=\"planos-pagamento__legenda-descricao\">Reforço online de inglês e espanhol para aprimorar seu conhecimento</p></div></div></li></ul><div class=\"planos-pagamento__plano planos-pagamento__plano--premium\" data-payment-plan data-payment-plan-price=\"900\"><div class=\"planos-pagamento__header\"><h4 class=\"planos-pagamento__nome\">Premium</h4></div><ul class=\"planos-pagamento__vantagens\"><li class=\"planos-pagamento__vantagem\"><div class=\"planos-pagamento__wrapper planos-pagamento__wrapper--com-descricao\"><span class=\"planos-pagamento__label\">971 cursos</span><div class=\"planos-pagamento__legenda-tooltip\"><p class=\"planos-pagamento__legenda-descricao\">Cursos de programação, UX, agilidade, data science, transformação digital, mobile, front-end, marketing e infra.</p></div></div><div class=\"planos-pagamento__checkmark planos-pagamento__checkmark--ativo\"><svg><use xlink:href=\"/svg,1570550707/planosPagamento#icon-planosPagamento-checked\" /></svg></div></li><li class=\"planos-pagamento__vantagem\"><div class=\"planos-pagamento__wrapper planos-pagamento__wrapper--com-descricao\"><span class=\"planos-pagamento__label\">Certificado de participação</span><div class=\"planos-pagamento__legenda-tooltip\"><p class=\"planos-pagamento__legenda-descricao\">Certificado de que assistiu o curso e finalizou as atividades</p></div></div><div class=\"planos-pagamento__checkmark planos-pagamento__checkmark--ativo\"><svg><use xlink:href=\"/svg,1570550707/planosPagamento#icon-planosPagamento-checked\" /></svg></div></li><li class=\"planos-pagamento__vantagem\"><div class=\"planos-pagamento__wrapper planos-pagamento__wrapper--com-descricao\"><span class=\"planos-pagamento__label\">App para Android e iPhone/iPad</span><div class=\"planos-pagamento__legenda-tooltip\"><p class=\"planos-pagamento__legenda-descricao\">Estude até mesmo offline através das nossas apps Android e iOS em smartphones e tablets</p></div></div><div class=\"planos-pagamento__checkmark planos-pagamento__checkmark--ativo\"><svg><use xlink:href=\"/svg,1570550707/planosPagamento#icon-planosPagamento-checked\" /></svg></div></li><li class=\"planos-pagamento__vantagem\"><div class=\"planos-pagamento__wrapper planos-pagamento__wrapper--com-descricao\"><span class=\"planos-pagamento__label\">Projeto avaliado pelos instrutores</span><div class=\"planos-pagamento__legenda-tooltip\"><p class=\"planos-pagamento__legenda-descricao\">Projeto práticos para entrega e avaliação dos professores da Alura com certificado de aprovação diferenciado</p></div></div><div class=\"planos-pagamento__checkmark \"><svg><use xlink:href=\"/svg,1570550707/planosPagamento#icon-planosPagamento-checked\" /></svg></div></li><li class=\"planos-pagamento__vantagem\"><div class=\"planos-pagamento__wrapper planos-pagamento__wrapper--com-descricao\"><span class=\"planos-pagamento__label\">Acesso à Alura Start</span><div class=\"planos-pagamento__legenda-tooltip\"><p class=\"planos-pagamento__legenda-descricao\">Cursos de introdução a tecnologia através de games, apps e ciência</p></div></div><div class=\"planos-pagamento__checkmark \"><svg><use xlink:href=\"/svg,1570550707/planosPagamento#icon-planosPagamento-checked\" /></svg></div></li><li class=\"planos-pagamento__vantagem\"><div class=\"planos-pagamento__wrapper planos-pagamento__wrapper--com-descricao\"><span class=\"planos-pagamento__label\">Acesso à Alura Língua</span><div class=\"planos-pagamento__legenda-tooltip\"><p class=\"planos-pagamento__legenda-descricao\">Reforço online de inglês e espanhol para aprimorar seu conhecimento</p></div></div><div class=\"planos-pagamento__checkmark \"><svg><use xlink:href=\"/svg,1570550707/planosPagamento#icon-planosPagamento-checked\" /></svg></div></li></ul><div class=\"planos-pagamento__precos \"><span class=\"planos-pagamento__numero-parcelas\"> 12X </span><div class=\"planos-pagamento__preco-parcela \"><span class=\"planos-pagamento__valor-parcela\">R$75</div><div class=\"planos-pagamento__preco-vista\"><span class=\"planos-pagamento__label-vista\">à vista</span><span class=\"planos-pagamento__valor-vista\">R$900</span></div></div><a class=\"planos-pagamento__cta\" href=\"/compra/premium/\"> Matricule-se </a></div><div class=\"planos-pagamento__plano planos-pagamento__plano--premiumplus\" data-payment-plan data-payment-plan-price=\"1.200\"><div class=\"planos-pagamento__header\"><h4 class=\"planos-pagamento__nome\">Premium Plus</h4></div><ul class=\"planos-pagamento__vantagens\"><li class=\"planos-pagamento__vantagem\"><div class=\"planos-pagamento__wrapper planos-pagamento__wrapper--com-descricao\"><span class=\"planos-pagamento__label\">971 cursos</span><div class=\"planos-pagamento__legenda-tooltip\"><p class=\"planos-pagamento__legenda-descricao\">Cursos de programação, UX, agilidade, data science, transformação digital, mobile, front-end, marketing e infra.</p></div></div><div class=\"planos-pagamento__checkmark planos-pagamento__checkmark--ativo\"><svg><use xlink:href=\"/svg,1570550707/planosPagamento#icon-planosPagamento-checked\" /></svg></div></li><li class=\"planos-pagamento__vantagem\"><div class=\"planos-pagamento__wrapper planos-pagamento__wrapper--com-descricao\"><span class=\"planos-pagamento__label\">Certificado de participação</span><div class=\"planos-pagamento__legenda-tooltip\"><p class=\"planos-pagamento__legenda-descricao\">Certificado de que assistiu o curso e finalizou as atividades</p></div></div><div class=\"planos-pagamento__checkmark planos-pagamento__checkmark--ativo\"><svg><use xlink:href=\"/svg,1570550707/planosPagamento#icon-planosPagamento-checked\" /></svg></div></li><li class=\"planos-pagamento__vantagem\"><div class=\"planos-pagamento__wrapper planos-pagamento__wrapper--com-descricao\"><span class=\"planos-pagamento__label\">App para Android e iPhone/iPad</span><div class=\"planos-pagamento__legenda-tooltip\"><p class=\"planos-pagamento__legenda-descricao\">Estude até mesmo offline através das nossas apps Android e iOS em smartphones e tablets</p></div></div><div class=\"planos-pagamento__checkmark planos-pagamento__checkmark--ativo\"><svg><use xlink:href=\"/svg,1570550707/planosPagamento#icon-planosPagamento-checked\" /></svg></div></li><li class=\"planos-pagamento__vantagem\"><div class=\"planos-pagamento__wrapper planos-pagamento__wrapper--com-descricao\"><span class=\"planos-pagamento__label\">Projeto avaliado pelos instrutores</span><div class=\"planos-pagamento__legenda-tooltip\"><p class=\"planos-pagamento__legenda-descricao\">Projeto práticos para entrega e avaliação dos professores da Alura com certificado de aprovação diferenciado</p></div></div><div class=\"planos-pagamento__checkmark planos-pagamento__checkmark--ativo\"><svg><use xlink:href=\"/svg,1570550707/planosPagamento#icon-planosPagamento-checked\" /></svg></div></li><li class=\"planos-pagamento__vantagem\"><div class=\"planos-pagamento__wrapper planos-pagamento__wrapper--com-descricao\"><span class=\"planos-pagamento__label\">Acesso à Alura Start</span><div class=\"planos-pagamento__legenda-tooltip\"><p class=\"planos-pagamento__legenda-descricao\">Cursos de introdução a tecnologia através de games, apps e ciência</p></div></div><div class=\"planos-pagamento__checkmark planos-pagamento__checkmark--ativo\"><svg><use xlink:href=\"/svg,1570550707/planosPagamento#icon-planosPagamento-checked\" /></svg></div></li><li class=\"planos-pagamento__vantagem\"><div class=\"planos-pagamento__wrapper planos-pagamento__wrapper--com-descricao\"><span class=\"planos-pagamento__label\">Acesso à Alura Língua</span><div class=\"planos-pagamento__legenda-tooltip\"><p class=\"planos-pagamento__legenda-descricao\">Reforço online de inglês e espanhol para aprimorar seu conhecimento</p></div></div><div class=\"planos-pagamento__checkmark \"><svg><use xlink:href=\"/svg,1570550707/planosPagamento#icon-planosPagamento-checked\" /></svg></div></li></ul><div class=\"planos-pagamento__precos \"><span class=\"planos-pagamento__numero-parcelas\"> 12X </span><div class=\"planos-pagamento__preco-parcela \"><span class=\"planos-pagamento__valor-parcela\">R$100</div><div class=\"planos-pagamento__preco-vista\"><span class=\"planos-pagamento__label-vista\">à vista</span><span class=\"planos-pagamento__valor-vista\">R$1.200</span></div></div><a class=\"planos-pagamento__cta\" href=\"/compra/premiumplus/\"> Matricule-se </a></div><div class=\"planos-pagamento__plano planos-pagamento__plano--max\" data-payment-plan data-payment-plan-price=\"1.440\"><div class=\"planos-pagamento__header\"><h4 class=\"planos-pagamento__nome\">Max</h4></div><ul class=\"planos-pagamento__vantagens\"><li class=\"planos-pagamento__vantagem\"><div class=\"planos-pagamento__wrapper planos-pagamento__wrapper--com-descricao\"><span class=\"planos-pagamento__label\">971 cursos</span><div class=\"planos-pagamento__legenda-tooltip\"><p class=\"planos-pagamento__legenda-descricao\">Cursos de programação, UX, agilidade, data science, transformação digital, mobile, front-end, marketing e infra.</p></div></div><div class=\"planos-pagamento__checkmark planos-pagamento__checkmark--ativo\"><svg><use xlink:href=\"/svg,1570550707/planosPagamento#icon-planosPagamento-checked\" /></svg></div></li><li class=\"planos-pagamento__vantagem\"><div class=\"planos-pagamento__wrapper planos-pagamento__wrapper--com-descricao\"><span class=\"planos-pagamento__label\">Certificado de participação</span><div class=\"planos-pagamento__legenda-tooltip\"><p class=\"planos-pagamento__legenda-descricao\">Certificado de que assistiu o curso e finalizou as atividades</p></div></div><div class=\"planos-pagamento__checkmark planos-pagamento__checkmark--ativo\"><svg><use xlink:href=\"/svg,1570550707/planosPagamento#icon-planosPagamento-checked\" /></svg></div></li><li class=\"planos-pagamento__vantagem\"><div class=\"planos-pagamento__wrapper planos-pagamento__wrapper--com-descricao\"><span class=\"planos-pagamento__label\">App para Android e iPhone/iPad</span><div class=\"planos-pagamento__legenda-tooltip\"><p class=\"planos-pagamento__legenda-descricao\">Estude até mesmo offline através das nossas apps Android e iOS em smartphones e tablets</p></div></div><div class=\"planos-pagamento__checkmark planos-pagamento__checkmark--ativo\"><svg><use xlink:href=\"/svg,1570550707/planosPagamento#icon-planosPagamento-checked\" /></svg></div></li><li class=\"planos-pagamento__vantagem\"><div class=\"planos-pagamento__wrapper planos-pagamento__wrapper--com-descricao\"><span class=\"planos-pagamento__label\">Projeto avaliado pelos instrutores</span><div class=\"planos-pagamento__legenda-tooltip\"><p class=\"planos-pagamento__legenda-descricao\">Projeto práticos para entrega e avaliação dos professores da Alura com certificado de aprovação diferenciado</p></div></div><div class=\"planos-pagamento__checkmark planos-pagamento__checkmark--ativo\"><svg><use xlink:href=\"/svg,1570550707/planosPagamento#icon-planosPagamento-checked\" /></svg></div></li><li class=\"planos-pagamento__vantagem\"><div class=\"planos-pagamento__wrapper planos-pagamento__wrapper--com-descricao\"><span class=\"planos-pagamento__label\">Acesso à Alura Start</span><div class=\"planos-pagamento__legenda-tooltip\"><p class=\"planos-pagamento__legenda-descricao\">Cursos de introdução a tecnologia através de games, apps e ciência</p></div></div><div class=\"planos-pagamento__checkmark planos-pagamento__checkmark--ativo\"><svg><use xlink:href=\"/svg,1570550707/planosPagamento#icon-planosPagamento-checked\" /></svg></div></li><li class=\"planos-pagamento__vantagem\"><div class=\"planos-pagamento__wrapper planos-pagamento__wrapper--com-descricao\"><span class=\"planos-pagamento__label\">Acesso à Alura Língua</span><div class=\"planos-pagamento__legenda-tooltip\"><p class=\"planos-pagamento__legenda-descricao\">Reforço online de inglês e espanhol para aprimorar seu conhecimento</p></div></div><div class=\"planos-pagamento__checkmark planos-pagamento__checkmark--ativo\"><svg><use xlink:href=\"/svg,1570550707/planosPagamento#icon-planosPagamento-checked\" /></svg></div></li></ul><div class=\"planos-pagamento__precos \"><span class=\"planos-pagamento__numero-parcelas\"> 12X </span><div class=\"planos-pagamento__preco-parcela \"><span class=\"planos-pagamento__valor-parcela\">R$120</div><div class=\"planos-pagamento__preco-vista\"><span class=\"planos-pagamento__label-vista\">à vista</span><span class=\"planos-pagamento__valor-vista\">R$1.440</span></div></div><a class=\"planos-pagamento__cta\" href=\"/compra/max/\"> Matricule-se </a></div></div></div><a class=\"planos-pagamento__b2b\" href=\"/empresas\"><span>Procurando planos para empresas?</span> → </a><div class=\"planosPagamento-vantagens\"><div class=\"container\"><div class=\"planosPagamento-vantagens-vantagem acesso\"><svg><use xlink:href=\"/svg,1570550707/planosPagamento#icon-planosPagamento-acesso\"/></svg><span>Acesso por 1 ano<span></div><div class=\"planosPagamento-vantagens-vantagem horas\"><svg><use xlink:href=\"/svg,1570550707/planosPagamento#icon-planosPagamento-24h\"/></svg><span>Estude 24h/dia onde e quando quiser</span></div><div class=\"planosPagamento-vantagens-vantagem novos\"><svg><use xlink:href=\"/svg,1570550707/planosPagamento#icon-planosPagamento-cursos\"/></svg><span>Novos cursos toda semana</span></div></div></div></section><script src=\"/assets/js/planosPagamentoOld.1570550707.js\"></script></main></div><script>if (navigator.userAgent.indexOf(\\'Safari\\') > 1 && navigator.userAgent.indexOf(\\'Edge\\') < 0) document.documentElement.className += \\' home-fundo-animado\\'</script><script src=\"/assets/js/home/categoriaCard.1570550707.js\"></script><link rel=\"stylesheet\" href=\"/assets/css/block/footer.1570550707.css\"><footer class=\"footer\"><div class=\"container\"><div class=\"footer-navegue\"><ul class=\"footer-navegue-lista\"><li class=\"footer-navegue-lista-link\"><a href=\"/planos-cursos-online\" gtm-data=\\'footer_primeira_secao_053\\'>Planos</a></li><li class=\"footer-navegue-lista-link\"><a href=\"/cursos-online-tecnologia\" gtm-data=\\'footer_primeira_secao_054\\'>Todos os cursos</a></li><li class=\"footer-navegue-lista-link\"><a href=\"/guias\">Guias de empresas</a></li><li class=\"footer-navegue-lista-link\"><a href=\"/instrutores\" gtm-data=\\'footer_primeira_secao_056\\'>Instrutores</a></li><li class=\"footer-navegue-lista-link\"><a href=\"/quero-ser-instrutor\" gtm-data=\\'footer_primeira_secao_057\\'>Como virar instrutor</a></li><li class=\"footer-navegue-lista-link\"><a href=\"/artigos\" gtm-data=\\'footer_primeira_secao_059\\'>Artigos</a></li><li class=\"footer-navegue-lista-link\"><a href=\"/politica-de-privacidade\" gtm-data=\\'footer_primeira_secao_061\\'>Política de Privacidade</a></li><li class=\"footer-navegue-lista-link\"><a href=\"/termos-de-uso\" gtm-data=\\'footer_primeira_secao_062\\'>Termos de Uso</a></li><li class=\"footer-navegue-lista-link\"><a href=\"/sobre\" gtm-data=\\'footer_primeira_secao_063\\'>Sobre nós</a></li><li class=\"footer-navegue-lista-link\"><a href=\"https://suporte.alura.com.br/\" gtm-data=\\'footer_primeira_secao_064\\'>Perguntas frequentes</a></li></ul></div><div class=\"footer-column footer-column-cards\"><div class=\"footer-newsletter\"><h2 class=\"footer-newsletter-titulo\">Receba Novidades e Lançamentos</h2><form class=\"footer-newsletter-form\" action=\"https://cursos.alura.com.br/api/cadastra-newsletter\" method=\"POST\"><input type=\"hidden\" name=\"retorno\" value=\"https://www.alura.com.br/newsletter-cadastrado\"><label for=\"email-newsletter\">Email</label><input type=\"email\" name=\"email\" class=\"footer-newsletter-input\" placeholder=\"seu email\" id=\"email-newsletter\"><button type=\"submit\" class=\"footer-newsletter-button buttonForm\">OK</button></form></div><div class=\"footer-card-hotLinks\"><h2 class=\"footer-card-hotLinks-titulo\">Nossas redes e apps</h2><div class=\"footer-card-hotLinks-info footer-card-redes\"><a href=\"https://www.youtube.com/alura\" gtm-data=\\'footer_primeira_secao_065\\' class=\"footer-card-hotLinks-link\" target=\"_blank\" title=\"YouTube da Alura\"><svg class=\"footer-card-hotLinks-icon footer-card-hotLinks-youtube\"><use xlink:href=\"/svg,1570550707/footer#icon-footer-youtube\"/></svg><span>YouTube</span></a><a href=\"https://www.facebook.com/AluraCursosOnline/\" gtm-data=\\'footer_primeira_secao_066\\' class=\"footer-card-hotLinks-link\" target=\"_blank\" title=\"Facebook da Alura\"><svg class=\"footer-card-hotLinks-icon footer-card-hotLinks-facebook\"><use xlink:href=\"/svg,1570550707/footer#icon-footer-facebook\"/></svg><span>Facebook</span></a><a href=\"https://twitter.com/aluraonline\" gtm-data=\\'footer_primeira_secao_067\\' class=\"footer-card-hotLinks-link\" target=\"_blank\" title=\"Twitter da Alura\"><svg class=\"footer-card-hotLinks-icon footer-card-hotLinks-twitter\"><use xlink:href=\"/svg,1570550707/footer#icon-footer-twitter\"/></svg><span>Twitter</span></a><a href=\"https://hipsters.tech/\" class=\"footer-card-hotLinks-link\" gtm-data=\\'footer_primeira_secao_068\\' target=\"_blank\" title=\"Podcast Hipsters Ponto Tech\"><svg class=\"footer-card-hotLinks-icon footer-card-hotLinks-hipsters\"><use xlink:href=\"/svg,1570550707/footer#icon-footer-hipsters\"/></svg><span>Podcast Hipsters.tech</span></a><a href=\"https://instagram.com/aluraonline\" class=\"footer-card-hotLinks-link\" gtm-data=\\'footer_primeira_secao_073\\' target=\"_blank\" title=\"Instagram da Alura\"><svg class=\"footer-card-hotLinks-icon footer-card-hotLinks-instagram\"><use xlink:href=\"/svg,1570550707/footer#icon-footer-instagram\"/></svg><span>Instagram</span></a></div><div class=\"footer-card-hotLinks-info footer-card-mobile\"><a href=\"https://play.google.com/store/apps/details?id=br.com.alura.mobi&hl=pt_BR\" gtm-data=\\'footer_primeira_secao_069\\' class=\"footer-card-hotLinks-link\" target=\"_blank\" title=\"Baixar na Google Play Store\"><svg class=\"footer-card-hotLinks-icon footer-card-hotLinks-mobile\"><use xlink:href=\"/svg,1570550707/footer#icon-footer-googleplay\"/></svg><span>Google Play Store</span></a><a href=\"https://itunes.apple.com/br/app/alura-cursos-online/id1225776635\" gtm-data=\\'footer_primeira_secao_070\\' class=\"footer-card-hotLinks-link\" target=\"_blank\" title=\"Baixar na AppStore\"><svg class=\"footer-card-hotLinks-icon footer-card-hotLinks-mobile\"><use xlink:href=\"/svg,1570550707/footer#icon-footer-appstore\"/></svg><span>AppStore</span></a></div></div></div><div class=\"footer-column\"><a class=\"footer-card footer-card-contato\" gtm-data=\\'footer_primeira_secao_071\\' href=\"/contato\"><div class=\"footer-card-info\"><h2 class=\"footer-card-titulo\">Fale Conosco</h2><p class=\"footer-card-texto\">Dúvida, crítica, sugestão ou elogio?</p><p class=\"footer-card-fakeLink\">Entre em contato!</p></div></a><a class=\"footer-card footer-card-empresa\" gtm-data=\\'footer_primeira_secao_072\\' href=\"/empresas\"><div class=\"footer-card-info\"><h2 class=\"footer-card-titulo\">Empresa? Governo?</h2><p class=\"footer-card-texto\">Planos corporativos para o seu time.</p><p class=\"footer-card-fakeLink\">Saiba mais</p></div></a></div><div class=\"footer-info\"><div class=\"footer-logos\"><a class=\"footer-logos-home\" gtm-data=\\'footer_primeira_secao_050\\' href=\"/\"><img src=\"/assets/img/alura-logo.1570550707.svg\" alt=\"Alura\" class=\"footer-logo\"></a><a href=\"https://www.caelum.com.br/\" gtm-data=\\'footer_primeira_secao_051\\' class=\"footer-link-caelum\"><h3 class=\"footer-powered-by\">Powered by</h3><img src=\"/assets/img/footer/caelum-logo.1570550707.svg\" alt=\"Caelum\" class=\"footer-logo footer-caelumLogo\"></a></div><div class=\"footer-cnpj\"><p><span class=\"footer-empresa-item\">AOVS Sistemas de Informática S.A</span><span class=\"footer-empresa-item\">CNPJ 05.555.382/0001-33</span></p></div></div></div></footer><section class=\"footer_categorias-formacoes\"><div class=\"container\"><div class=\"footer_categorias_wrapper\"><h2 class=\"footer_categorias_title\">Cursos</h2><div class=\"footer_categorias_categorias footer-navegue-lista-link\"><div class=\"footer_categorias_categoria\"><a href=\"/cursos-online-mobile\">Cursos de Mobile</a><div class=\"footer_categorias_subcategorias\"><a href=\"/cursos-online-mobile/ios\"> iOS e Swift</a><a href=\"/cursos-online-mobile/android\"> Android e Kotlin</a><a href=\"/cursos-online-mobile/multiplataforma\"> Ionic, React Native</a><a href=\"/cursos-online-mobile/jogos\"> Jogos</a></div></div><div class=\"footer_categorias_categoria\"><a href=\"/cursos-online-programacao\">Cursos de Programação</a><div class=\"footer_categorias_subcategorias\"><a href=\"/cursos-online-programacao/logica\"> Lógica</a><a href=\"/cursos-online-programacao/python\"> Python</a><a href=\"/cursos-online-programacao/php\"> PHP</a><a href=\"/cursos-online-programacao/java\"> Java</a><a href=\"/cursos-online-programacao/dotnet\"> .NET</a><a href=\"/cursos-online-programacao/node-js\"> Node JS</a><a href=\"/cursos-online-programacao/ruby\"> Ruby & Rails</a><a href=\"/cursos-online-programacao/linguagem-c\"> C</a><a href=\"/cursos-online-programacao/computacao\"> Computação</a><a href=\"/cursos-online-programacao/jogos\"> Jogos</a></div></div><div class=\"footer_categorias_categoria\"><a href=\"/cursos-online-front-end\">Cursos de Front-end</a><div class=\"footer_categorias_subcategorias\"><a href=\"/cursos-online-front-end/front-end\"> HTML, CSS</a><a href=\"/cursos-online-front-end/javascript\"> JavaScript</a><a href=\"/cursos-online-front-end/frameworks-mvc-em-javascript\"> Angular, React</a><a href=\"/cursos-online-front-end/jquery\"> jQuery</a></div></div><div class=\"footer_categorias_categoria\"><a href=\"/cursos-online-infraestrutura\">Cursos de Infraestrutura</a><div class=\"footer_categorias_subcategorias\"><a href=\"/cursos-online-infraestrutura/devops\"> DevOps e Git</a><a href=\"/cursos-online-infraestrutura/cloud-computing\"> Cloud</a><a href=\"/cursos-online-infraestrutura/linux-comandos-e-processos\"> Linux</a><a href=\"/cursos-online-infraestrutura/internet-das-coisas\"> IoT</a><a href=\"/cursos-online-infraestrutura/redes\"> Redes</a></div></div><div class=\"footer_categorias_categoria\"><a href=\"/cursos-online-design-ux\">Cursos de Design & UX</a><div class=\"footer_categorias_subcategorias\"><a href=\"/cursos-online-design-ux/wwww\"> Photoshop e Illustrator</a><a href=\"/cursos-online-design-ux/ux\"> Usabilidade e UX</a><a href=\"/cursos-online-design-ux/video\"> Vídeo e Motion</a><a href=\"/cursos-online-design-ux/3d\"> 3D</a></div></div><div class=\"footer_categorias_categoria\"><a href=\"/cursos-online-marketing-digital\">Cursos de Marketing Digital</a><div class=\"footer_categorias_subcategorias\"><a href=\"/cursos-online-marketing-digital/ads\"> Ads</a><a href=\"/cursos-online-marketing-digital/marketing-digital\"> Marketing</a><a href=\"/cursos-online-marketing-digital/seo\"> SEO</a><a href=\"/cursos-online-marketing-digital/e-commerce\"> E-commerce</a><a href=\"/cursos-online-marketing-digital/social-media\"> Social Media</a><a href=\"/cursos-online-marketing-digital/youtube\"> YouTube</a></div></div><div class=\"footer_categorias_categoria\"><a href=\"/cursos-online-data-science\">Cursos de Data Science</a><div class=\"footer_categorias_subcategorias\"><a href=\"/cursos-online-data-science/sql\"> SQL e Banco de Dados</a><a href=\"/cursos-online-data-science/nosql\"> NoSQL</a><a href=\"/cursos-online-data-science/data-science\"> Data Science</a><a href=\"/cursos-online-data-science/machine-learning\"> Machine Learning</a><a href=\"/cursos-online-data-science/business-intelligence\"> BI</a><a href=\"/cursos-online-data-science/estatistica\"> Estatística</a><a href=\"/cursos-online-data-science/excel\"> Excel</a></div></div><div class=\"footer_categorias_categoria\"><a href=\"/cursos-online-inovacao-gestao\">Cursos de Inovação & Gestão</a><div class=\"footer_categorias_subcategorias\"><a href=\"/cursos-online-inovacao-gestao/agilidade\"> Métodos Ágeis</a><a href=\"/cursos-online-inovacao-gestao/habilidades-interpessoais\"> Softskills</a><a href=\"/cursos-online-inovacao-gestao/lideranca-gestao-estrategica\"> Liderança e Gestão</a><a href=\"/cursos-online-inovacao-gestao/startup-empreendedorismo\"> Empreendedorismo</a></div></div></div></div></div></section><style>@media not all and (min-width: 1000px){ .grupoCaelum{ display: none; } } .grupoCaelum{ background: #fff; height: 240px; border-top: 1px solid #EBEBEE; } .grupoCaelum .container{ display: flex; justify-content: space-between; align-items: flex-start; padding-top: 0; padding-bottom: 0; height: 100%; } .grupoCaelum-list{ display: flex; list-style: none; width: 60%; justify-content: space-between; align-items: flex-start; margin-top: 20px; } .grupoCaelum-title{ width: 20%; } .grupoCaelum-column { display: inline-block; padding-left: 19px; width: 240px; height: 210px; min-width: 160px; } .grupoCaelum-column-title { font-size: 10px; color: #d7e0e5; text-transform: uppercase; font-weight: 600; margin-bottom: 19px; } .grupoCaelum-column-list { list-style: none; } .column-item-title { font-size: 11px; text-align: center; vertical-align: middle; display: inline-block; margin-left: 6.5px; } .grupoCaelum-column:not(:first-child) { border-left: solid 1px #e3e9ed; } .grupoCaelum-title { display: inline-block; text-decoration: none; color: #657176; letter-spacing: normal; font-size: 18px; margin-top: 54px; } .column-item-logo { width: 30px; height: 30px; vertical-align: middle; display: inline-block; } .column-item { margin-bottom: 17px; } .column-item a{ text-decoration: none; color: #657176; }</style><footer class=\"caelum-footer\"><div class=\"grupoCaelum\"><div class=\"container\"><p class=\"grupoCaelum-title\">Grupo Caelum Alura</p><ul class=\"grupoCaelum-list\"><li class=\"grupoCaelum-column\"><p class=\"grupoCaelum-column-title\">Educação</p><ul class=\"grupoCaelum-column-list\"><li class=\"column-item\"><a target=\"_blank\" href=\"https://www.caelum.com.br\"><svg class=\"column-item-logo\"><use xlink:href=\"/svg,1570550707/caelumFooter#icon-caelumFooter-caelum\"><span class=\"column-item-title\">Caelum</span></svg></a></li><li class=\"column-item\"><a target=\"_blank\" href=\"https://www.casadocodigo.com.br\"><svg class=\"column-item-logo\"><use xlink:href=\"/svg,1570550707/caelumFooter#icon-caelumFooter-cdc\"><span class=\"column-item-title\">Casa do Código</span></svg></a></li></ul></li><li class=\"grupoCaelum-column\"><p class=\"grupoCaelum-column-title\">Educação Online</p><ul class=\"grupoCaelum-column-list\"><li class=\"column-item\"><a target=\"_blank\" href=\"https://www.alura.com.br\"><svg class=\"column-item-logo\"><use xlink:href=\"/svg,1570550707/caelumFooter#icon-caelumFooter-alura\"><span class=\"column-item-title\">Alura</span></svg></a></li><li class=\"column-item\"><a target=\"_blank\" href=\"https://www.alurastart.com.br\"><svg class=\"column-item-logo\"><use xlink:href=\"/svg,1570550707/caelumFooter#icon-caelumFooter-alurastart\"><span class=\"column-item-title\">Alura Start</span></svg></a></li><li class=\"column-item\"><a target=\"_blank\" href=\"https://www.musicdot.com.br\"><svg class=\"column-item-logo\"><use xlink:href=\"/svg,1570550707/caelumFooter#icon-caelumFooter-musicdot\"><span class=\"column-item-title\">MusicDot</span></svg></a></li><li class=\"column-item\"><a target=\"_blank\" href=\"https://www.aluralingua.com.br\"><svg class=\"column-item-logo\"><use xlink:href=\"/svg,1570550707/caelumFooter#icon-caelumFooter-aluralingua\"><span class=\"column-item-title\">Alura Língua</span></svg></a></li></ul></li><li class=\"grupoCaelum-column\"><p class=\"grupoCaelum-column-title\">Comunidade</p><ul class=\"grupoCaelum-column-list\"><li class=\"column-item\"><a target=\"_blank\" href=\"https://hipsters.tech\"><svg class=\"column-item-logo\"><use xlink:href=\"/svg,1570550707/caelumFooter#icon-caelumFooter-hipsterstech\"><span class=\"column-item-title\">Hipsters ponto Tech</span></svg></a></li><li class=\"column-item\"><a target=\"_blank\" href=\"https://hipsters.jobs\"><svg class=\"column-item-logo\"><use xlink:href=\"/svg,1570550707/caelumFooter#icon-caelumFooter-hipstersjobs\"><span class=\"column-item-title\">Hipsters ponto Jobs</span></svg></a></li><li class=\"column-item\"><a target=\"_blank\" href=\"https://www.guj.com.br\"><svg class=\"column-item-logo\"><use xlink:href=\"/svg,1570550707/caelumFooter#icon-caelumFooter-guj\"><span class=\"column-item-title\">GUJ</span></svg></a></li></ul></li></ul></div></div></footer><script>(function(){ var match = location.pathname.match(/\\\\/(bf-|blackfriday\\\\/)([^\\\\/]+)/); if (match != null) { var links = document.querySelectorAll(\\'a[href]\\'); for (var i = 0; i < links.length; i++) { var href = links[i].getAttribute(\\'href\\'); if (href[0] === \\'/\\') { links[i].setAttribute(\\'href\\', \\'/bf-\\' + match[2] + href); } } } })();</script><script src=\"/assets/js/lib/svg4everybody.min.1570550707.js\" async></script><script src=\"/assets/js/header/menu.1570550707.js\" async></script><script src=\"/assets/js/header/busca.1570550707.js\" async></script><script src=\"/assets/js/header/cursos.1570550707.js\" async></script><script src=\"/assets/js/detect.1570550707.js\" async></script><script src=\"/assets/js/video.1571773177.js\" async></script><script src=\"/assets/js/Countdown.1571149146.js\" async></script><script>var userId = (document.cookie.match(\\'alura.userId=([^;]+)\\')||[null,null])[1]; window.ga=window.ga||function(){(ga.q=ga.q||[]).push(arguments)};ga.l=+new Date; ga(\\'create\\', \\'UA-42101548-1\\', \\'alura.com.br\\', \\'tracker0\\', {\\'siteSpeedSampleRate\\': 50}); if (userId) ga(\\'tracker0.set\\', \\'userId\\', userId); ga(\\'tracker0.require\\', \\'displayfeatures\\'); ga(\\'tracker0.send\\', \\'pageview\\'); ga(\\'create\\', \\'UA-42101548-9\\', \\'alura.com.br\\', \\'tracker1\\', {\\'siteSpeedSampleRate\\': 50}); if (userId) ga(\\'tracker1.set\\', \\'userId\\', userId); ga(\\'tracker1.require\\', \\'displayfeatures\\'); ga(\\'tracker1.send\\', \\'pageview\\');</script><script async src=\\'//www.google-analytics.com/analytics.js\\'></script><script src=\"/assets/js/footer/footer.1570550707.js\" async></script><script src=\"https://static.criteo.net/js/ld/ld.js\" async></script><script>function criteoPush(event, data){ var isAluno = document.cookie.match(\\'alura.userId=([^;]+)\\') != null; if(isAluno) return; window.criteo_q = window.criteo_q || []; window.criteo_q.push( { event: \"setAccount\", account: 28037 }, { event: \"setEmail\", email: \"\" }, { event: \"setSiteType\", type: (/iPad/.test(navigator.userAgent) ? \"t\" : (/Mobile|iP(hone|od)|Android|BlackBerry|IEMobile/.test(navigator.userAgent) ? \"m\" : \"d\")) }, { event: event, item: data} ); }; criteoPush(\"viewHome\", \"\"); var criteoIdEl = document.querySelector(\\'[data-criteo-id]\\'); if (criteoIdEl) { var products = JSON.parse(criteoIdEl.dataset.criteoId); var planos = document.querySelectorAll(\\'[data-payment-plan]\\'); planos.forEach(function (plano) { plano.addEventListener(\\'click\\', function (event) { var price = plano.dataset.paymentPlanPrice; var totalProducts = products.length; var productIds = \\'\\'; for(var i = 0; i < totalProducts; i++){ products[i][\\'price\\'] = price; products[i][\\'quantity\\'] = 1; productIds += \\',\\' + products[i][\\'id\\']; } productIds = productIds.substr(1); // monta cookie pro Cart indicando quais cursos foram clicados document.cookie = \"criteo.productIds=\" + productIds + \"; path=/; domain=.alura.com.br\"; // manda pro criteo criteoPush(\"viewBasket\", products); }); }); }</script><script type=\"text/javascript\">_linkedin_partner_id = \"465017\"; window._linkedin_data_partner_ids = window._linkedin_data_partner_ids || []; window._linkedin_data_partner_ids.push(_linkedin_partner_id);</script><script type=\"text/javascript\">(function(){var s = document.getElementsByTagName(\"script\")[0]; var b = document.createElement(\"script\"); b.type = \"text/javascript\";b.async = true; b.src = \"https://snap.licdn.com/li.lms-analytics/insight.min.js\"; s.parentNode.insertBefore(b, s);})();</script><noscript><img height=\"1\" width=\"1\" style=\"display:none;\" alt=\"\" src=\"https://dc.ads.linkedin.com/collect/?pid=465017&fmt=gif\" /></noscript></body></html>'"
            ]
          },
          "metadata": {
            "tags": []
          },
          "execution_count": 16
        }
      ]
    },
    {
      "cell_type": "markdown",
      "metadata": {
        "id": "QVn7U8Wu107A",
        "colab_type": "text"
      },
      "source": [
        ""
      ]
    },
    {
      "cell_type": "markdown",
      "metadata": {
        "id": "7OQwXLRb13uq",
        "colab_type": "text"
      },
      "source": [
        "## 03. HTML da página"
      ]
    },
    {
      "cell_type": "code",
      "metadata": {
        "id": "1y8KoYSL2CvI",
        "colab_type": "code",
        "outputId": "cd6bc1c6-dbee-4f85-b820-cd808ecbc600",
        "colab": {
          "base_uri": "https://localhost:8080/",
          "height": 0
        }
      },
      "source": [
        "url = 'https://alura-site-scraping.herokuapp.com/'\n",
        "\n",
        "response = urlopen(url) # Acessa URL\n",
        "html = response.read() # Lê HTML\n",
        "\n",
        "html\n",
        "\n",
        "soup = bs(html, 'html.parser')\n",
        "type(soup)"
      ],
      "execution_count": 17,
      "outputs": [
        {
          "output_type": "execute_result",
          "data": {
            "text/plain": [
              "bs4.BeautifulSoup"
            ]
          },
          "metadata": {
            "tags": []
          },
          "execution_count": 17
        }
      ]
    },
    {
      "cell_type": "code",
      "metadata": {
        "id": "GHRs0X7OC_O_",
        "colab_type": "code",
        "outputId": "a223abc0-c241-4ca2-898a-ff1aedd31f8a",
        "colab": {
          "base_uri": "https://localhost:8080/",
          "height": 0
        }
      },
      "source": [
        "soup.html.head.title"
      ],
      "execution_count": 18,
      "outputs": [
        {
          "output_type": "execute_result",
          "data": {
            "text/plain": [
              "<title>Alura Motors</title>"
            ]
          },
          "metadata": {
            "tags": []
          },
          "execution_count": 18
        }
      ]
    },
    {
      "cell_type": "code",
      "metadata": {
        "id": "KGoWb1u3DrhM",
        "colab_type": "code",
        "outputId": "2650473d-80cd-44f6-d52c-a12d35e371dc",
        "colab": {
          "base_uri": "https://localhost:8080/",
          "height": 0
        }
      },
      "source": [
        "soup.div"
      ],
      "execution_count": 19,
      "outputs": [
        {
          "output_type": "execute_result",
          "data": {
            "text/plain": [
              "<div aria-labelledby=\"loadingModal_label\" class=\"modal fade\" data-backdrop=\"static\" id=\"loadingModal\" role=\"dialog\" tabindex=\"-1\">\n",
              "<div class=\"modal-dialog\" role=\"document\">\n",
              "<div class=\"modal-content\">\n",
              "<div class=\"modal-header\">\n",
              "<h5 class=\"modal-title\" id=\"loadingModal_label\">\n",
              "<span class=\"glyphicon glyphicon-refresh\"></span>Aguarde...\n",
              "\t\t\t\t\t</h5>\n",
              "</div>\n",
              "<div class=\"modal-body\">\n",
              "<div class=\"alert\" role=\"alert\">\n",
              "<center>\n",
              "<div class=\"loader\" id=\"loader\"></div><br/>\n",
              "<h4><b id=\"loadingModal_content\"></b></h4>\n",
              "</center>\n",
              "</div>\n",
              "</div>\n",
              "</div>\n",
              "</div>\n",
              "</div>"
            ]
          },
          "metadata": {
            "tags": []
          },
          "execution_count": 19
        }
      ]
    },
    {
      "cell_type": "code",
      "metadata": {
        "id": "g5pj6TlDDuiW",
        "colab_type": "code",
        "outputId": "15ef7ca0-47c7-43a2-979b-2ed83fa201ed",
        "colab": {
          "base_uri": "https://localhost:8080/",
          "height": 0
        }
      },
      "source": [
        "soup.div.div.div.div"
      ],
      "execution_count": 20,
      "outputs": [
        {
          "output_type": "execute_result",
          "data": {
            "text/plain": [
              "<div class=\"modal-header\">\n",
              "<h5 class=\"modal-title\" id=\"loadingModal_label\">\n",
              "<span class=\"glyphicon glyphicon-refresh\"></span>Aguarde...\n",
              "\t\t\t\t\t</h5>\n",
              "</div>"
            ]
          },
          "metadata": {
            "tags": []
          },
          "execution_count": 20
        }
      ]
    },
    {
      "cell_type": "code",
      "metadata": {
        "id": "4Jod3fv5D1eF",
        "colab_type": "code",
        "outputId": "2f4e9d93-f4aa-4fba-bfbe-79c287f31c5f",
        "colab": {
          "base_uri": "https://localhost:8080/",
          "height": 0
        }
      },
      "source": [
        "soup.div.div.div.div.h5"
      ],
      "execution_count": 21,
      "outputs": [
        {
          "output_type": "execute_result",
          "data": {
            "text/plain": [
              "<h5 class=\"modal-title\" id=\"loadingModal_label\">\n",
              "<span class=\"glyphicon glyphicon-refresh\"></span>Aguarde...\n",
              "\t\t\t\t\t</h5>"
            ]
          },
          "metadata": {
            "tags": []
          },
          "execution_count": 21
        }
      ]
    },
    {
      "cell_type": "code",
      "metadata": {
        "id": "9mkPVJhlFWMN",
        "colab_type": "code",
        "outputId": "df7baf75-a677-4a70-d76e-77f4c3d5231b",
        "colab": {
          "base_uri": "https://localhost:8080/",
          "height": 0
        }
      },
      "source": [
        "soup.title"
      ],
      "execution_count": 22,
      "outputs": [
        {
          "output_type": "execute_result",
          "data": {
            "text/plain": [
              "<title>Alura Motors</title>"
            ]
          },
          "metadata": {
            "tags": []
          },
          "execution_count": 22
        }
      ]
    },
    {
      "cell_type": "code",
      "metadata": {
        "id": "3f_x-Oo2FX2n",
        "colab_type": "code",
        "outputId": "27563375-f9ce-494d-d149-29ca5fd4bd03",
        "colab": {
          "base_uri": "https://localhost:8080/",
          "height": 0
        }
      },
      "source": [
        "soup.title.get_text()"
      ],
      "execution_count": 23,
      "outputs": [
        {
          "output_type": "execute_result",
          "data": {
            "text/plain": [
              "'Alura Motors'"
            ]
          },
          "metadata": {
            "tags": []
          },
          "execution_count": 23
        }
      ]
    },
    {
      "cell_type": "code",
      "metadata": {
        "id": "ukgo8GQlFbMm",
        "colab_type": "code",
        "outputId": "31282e5e-00c6-444f-fbc8-df36c5fe64f8",
        "colab": {
          "base_uri": "https://localhost:8080/",
          "height": 0
        }
      },
      "source": [
        "soup.h5.getText()"
      ],
      "execution_count": 24,
      "outputs": [
        {
          "output_type": "execute_result",
          "data": {
            "text/plain": [
              "'\\nAguarde...\\r\\n\\t\\t\\t\\t\\t'"
            ]
          },
          "metadata": {
            "tags": []
          },
          "execution_count": 24
        }
      ]
    },
    {
      "cell_type": "code",
      "metadata": {
        "id": "lL3Fpb5KFqB0",
        "colab_type": "code",
        "outputId": "a9ff3acd-3b60-4252-8049-bee74e041778",
        "colab": {
          "base_uri": "https://localhost:8080/",
          "height": 0
        }
      },
      "source": [
        "soup.get_text()"
      ],
      "execution_count": 25,
      "outputs": [
        {
          "output_type": "execute_result",
          "data": {
            "text/plain": [
              "'\\n\\n\\n\\n\\nAlura Motors\\n\\r\\n\\t\\t/*Regra para a animacao*/\\r\\n\\t\\t@keyframes spin {\\r\\n\\t\\t\\t0% { transform: rotate(0deg); }\\r\\n\\t\\t\\t100% { transform: rotate(360deg); }\\r\\n\\t\\t}\\r\\n\\t\\t/*Mudando o tamanho do icone de resposta*/\\r\\n\\t\\tdiv.glyphicon {\\r\\n\\t\\t\\tcolor:#6B8E23;\\r\\n\\t\\t\\tfont-size: 38px;\\r\\n\\t\\t}\\r\\n\\t\\t/*Classe que mostra a animacao \\'spin\\'*/\\r\\n\\t\\t.loader {\\r\\n\\t\\t\\tborder: 16px solid #f3f3f3;\\r\\n\\t\\t\\tborder-radius: 50%;\\r\\n\\t\\t\\tborder-top: 16px solid #3498db;\\r\\n\\t\\t\\twidth: 80px;\\r\\n\\t\\t\\theight: 80px;\\r\\n\\t\\t\\t-webkit-animation: spin 2s linear infinite;\\r\\n\\t\\t\\tanimation: spin 2s linear infinite;\\r\\n\\t\\t}\\r\\n\\t\\n\\n\\n\\n\\n\\n\\r\\n\\t\\trequisitar(\"https://alura-scraping.herokuapp.com/produtos?_page=\"+1+\"&_limit=10\")\\r\\n\\t\\n\\n\\nYou need to enable JavaScript to run this app.\\n\\n\\n\\n\\n\\nAguarde...\\r\\n\\t\\t\\t\\t\\t\\n\\n\\n\\n\\n\\n\\n\\n\\n\\n\\n\\n\\n\\n\\n\\n\\n\\n\\nMotors\\r\\n\\t\\t\\t\\t\\t\\t\\n\\nHello World\\nAnúncios\\n\\n\\n\\n\\n\\n\\nVeículos de Luxo Novos e Usados - Todas as Marcas\\n\\n\\n\\n246 veículos encontrados\\n\\nPágina 1 de 25\\n\\n\\n\\n\\n\\n\\n\\n\\nLAMBORGHINI AVENTADOR\\nUSADO\\nMotor 1.8 16v\\nAno 1993 - 55.286 km\\n\\n► 4 X 4\\n► Câmera de estacionamento\\n► Controle de tração\\n► Sensor de estacionamento\\n...\\n\\nBelo Horizonte - MG\\n\\n\\n\\nR$ 338.000\\n\\n\\n\\n\\n\\n\\n\\n\\nBMW M2\\nUSADO\\nMotor 3.0 32v\\nAno 2018 - 83.447 km\\n\\n► Câmera de estacionamento\\n► Controle de estabilidade\\n► Travas elétricas\\n► Freios ABS\\n...\\n\\nBelo Horizonte - MG\\n\\n\\n\\nR$ 346.000\\n\\n\\n\\n\\n\\n\\n\\n\\nALFA\\nUSADO\\nMotor 1.8 16v\\nAno 2004 - 19.722 km\\n\\n► Central multimídia\\n► Bancos de couro\\n► Rodas de liga\\n► Câmera de estacionamento\\n...\\n\\nRio de Janeiro - RJ\\n\\n\\n\\nR$ 480.000\\n\\n\\n\\n\\n\\n\\n\\n\\nPUECH\\nUSADO\\nMotor Diesel V8\\nAno 1992 - 34.335 km\\n\\n► Bancos de couro\\n► Freios ABS\\n► Rodas de liga\\n► Câmbio automático\\n...\\n\\nSão Paulo - SP\\n\\n\\n\\nR$ 133.000\\n\\n\\n\\n\\n\\n\\n\\n\\nLAMBORGHINI MURCIELAGO\\nUSADO\\nMotor 1.0 8v\\nAno 1991 - 464 km\\n\\n► Central multimídia\\n► Teto panorâmico\\n► Sensor crepuscular\\n► Piloto automático\\n...\\n\\nBelo Horizonte - MG\\n\\n\\n\\nR$ 175.000\\n\\n\\n\\n\\n\\n\\n\\n\\nASTON MARTIN\\nUSADO\\nOPORTUNIDADE\\nMotor Diesel V6\\nAno 2004 - 50.189 km\\n\\n► Painel digital\\n► Controle de tração\\n► Teto panorâmico\\n► Central multimídia\\n...\\n\\nBelo Horizonte - MG\\n\\n\\n\\nR$ 239.000\\n\\n\\n\\n\\n\\n\\n\\n\\nTVR\\nUSADO\\nMotor 4.0 Turbo\\nAno 2014 - 17.778 km\\n\\n► 4 X 4\\n► Teto panorâmico\\n► Central multimídia\\n► Controle de estabilidade\\n...\\n\\nBelo Horizonte - MG\\n\\n\\n\\nR$ 115.000\\n\\n\\n\\n\\n\\n\\n\\n\\nEXCALIBUR\\nUSADO\\nMotor 3.0 32v\\nAno 2009 - 81.251 km\\n\\n► Painel digital\\n► Câmbio automático\\n► Sensor de chuva\\n► Travas elétricas\\n...\\n\\nRio de Janeiro - RJ\\n\\n\\n\\nR$ 114.000\\n\\n\\n\\n\\n\\n\\n\\n\\nMCLAREN\\nNOVO\\nMotor Diesel\\nAno 2019 - 0 km\\n\\n► Central multimídia\\n► Câmera de estacionamento\\n► Câmbio automático\\n► Ar condicionado\\n...\\n\\nSão Paulo - SP\\n\\n\\n\\nR$ 75.000\\n\\n\\n\\n\\n\\n\\n\\n\\nTOYOTA\\nUSADO\\nOPORTUNIDADE\\nMotor 4.0 Turbo\\nAno 1999 - 12.536 km\\n\\n► Bancos de couro\\n► Freios ABS\\n► Piloto automático\\n► Controle de estabilidade\\n...\\n\\nSão Paulo - SP\\n\\n\\n\\nR$ 117.000\\n\\n\\n \\n246 veículos encontrados\\n\\nPágina 1 de 25\\n\\n\\n\\n\\n\\n\\n\\n\\n\\n\\n\\nMotors\\r\\n\\t\\t\\t\\t\\t\\t\\nAplicação para treinamento de web scraping\\n\\n\\n\\n\\n\\n\\n\\n'"
            ]
          },
          "metadata": {
            "tags": []
          },
          "execution_count": 25
        }
      ]
    },
    {
      "cell_type": "markdown",
      "metadata": {
        "id": "_gmclMi1H7zd",
        "colab_type": "text"
      },
      "source": [
        "* Acessando atributos de uma tag"
      ]
    },
    {
      "cell_type": "code",
      "metadata": {
        "id": "P_EOuFAhFywM",
        "colab_type": "code",
        "outputId": "1d7446f0-841a-4b64-efd8-97b51ebd8356",
        "colab": {
          "base_uri": "https://localhost:8080/",
          "height": 0
        }
      },
      "source": [
        "soup.img"
      ],
      "execution_count": 26,
      "outputs": [
        {
          "output_type": "execute_result",
          "data": {
            "text/plain": [
              "<img alt=\"Alura\" class=\"d-inline-block align-top\" src=\"img/alura-logo.svg\"/>"
            ]
          },
          "metadata": {
            "tags": []
          },
          "execution_count": 26
        }
      ]
    },
    {
      "cell_type": "code",
      "metadata": {
        "id": "vuhudvYAHsyc",
        "colab_type": "code",
        "outputId": "e39af2f8-c28f-44a9-ca9a-57a632ba423c",
        "colab": {
          "base_uri": "https://localhost:8080/",
          "height": 0
        }
      },
      "source": [
        "soup.img.attrs"
      ],
      "execution_count": 27,
      "outputs": [
        {
          "output_type": "execute_result",
          "data": {
            "text/plain": [
              "{'alt': 'Alura',\n",
              " 'class': ['d-inline-block', 'align-top'],\n",
              " 'src': 'img/alura-logo.svg'}"
            ]
          },
          "metadata": {
            "tags": []
          },
          "execution_count": 27
        }
      ]
    },
    {
      "cell_type": "code",
      "metadata": {
        "id": "UP45Wpu3H0KS",
        "colab_type": "code",
        "outputId": "43f56f18-8ccd-46a1-e86f-3072a7b77b11",
        "colab": {
          "base_uri": "https://localhost:8080/",
          "height": 0
        }
      },
      "source": [
        "soup.img.attrs.keys()"
      ],
      "execution_count": 28,
      "outputs": [
        {
          "output_type": "execute_result",
          "data": {
            "text/plain": [
              "dict_keys(['src', 'class', 'alt'])"
            ]
          },
          "metadata": {
            "tags": []
          },
          "execution_count": 28
        }
      ]
    },
    {
      "cell_type": "code",
      "metadata": {
        "id": "r4rHUrRsIKiE",
        "colab_type": "code",
        "outputId": "b72f115d-47dd-4576-d7e4-4b4aab612bbb",
        "colab": {
          "base_uri": "https://localhost:8080/",
          "height": 0
        }
      },
      "source": [
        "soup.img.attrs.values()"
      ],
      "execution_count": 29,
      "outputs": [
        {
          "output_type": "execute_result",
          "data": {
            "text/plain": [
              "dict_values(['img/alura-logo.svg', ['d-inline-block', 'align-top'], 'Alura'])"
            ]
          },
          "metadata": {
            "tags": []
          },
          "execution_count": 29
        }
      ]
    },
    {
      "cell_type": "code",
      "metadata": {
        "id": "An52LORRIOJj",
        "colab_type": "code",
        "outputId": "2e4e3461-fd7f-4d0f-c02f-514aa2054e92",
        "colab": {
          "base_uri": "https://localhost:8080/",
          "height": 0
        }
      },
      "source": [
        "soup.img['class']"
      ],
      "execution_count": 30,
      "outputs": [
        {
          "output_type": "execute_result",
          "data": {
            "text/plain": [
              "['d-inline-block', 'align-top']"
            ]
          },
          "metadata": {
            "tags": []
          },
          "execution_count": 30
        }
      ]
    },
    {
      "cell_type": "code",
      "metadata": {
        "id": "1-VEr3V4ITpi",
        "colab_type": "code",
        "outputId": "addb012e-b2d7-4e22-d323-a2b039d4f0ea",
        "colab": {
          "base_uri": "https://localhost:8080/",
          "height": 0
        }
      },
      "source": [
        "soup.img.get('src')"
      ],
      "execution_count": 31,
      "outputs": [
        {
          "output_type": "execute_result",
          "data": {
            "text/plain": [
              "'img/alura-logo.svg'"
            ]
          },
          "metadata": {
            "tags": []
          },
          "execution_count": 31
        }
      ]
    },
    {
      "cell_type": "code",
      "metadata": {
        "id": "tlvuVHhDIbhh",
        "colab_type": "code",
        "colab": {}
      },
      "source": [
        ""
      ],
      "execution_count": 0,
      "outputs": []
    },
    {
      "cell_type": "markdown",
      "metadata": {
        "id": "IVqkUMcfIx69",
        "colab_type": "text"
      },
      "source": [
        "## 04. Pesquisando com BeautifulSoup"
      ]
    },
    {
      "cell_type": "markdown",
      "metadata": {
        "id": "nJ9qZp9gNMjZ",
        "colab_type": "text"
      },
      "source": [
        "* Método find()"
      ]
    },
    {
      "cell_type": "code",
      "metadata": {
        "id": "8Qa2OovVI2qg",
        "colab_type": "code",
        "outputId": "a99a6b45-33aa-4eca-a42e-adc74894b0b6",
        "colab": {
          "base_uri": "https://localhost:8080/",
          "height": 35
        }
      },
      "source": [
        "soup.find('img')"
      ],
      "execution_count": 32,
      "outputs": [
        {
          "output_type": "execute_result",
          "data": {
            "text/plain": [
              "<img alt=\"Alura\" class=\"d-inline-block align-top\" src=\"img/alura-logo.svg\"/>"
            ]
          },
          "metadata": {
            "tags": []
          },
          "execution_count": 32
        }
      ]
    },
    {
      "cell_type": "markdown",
      "metadata": {
        "id": "JrCMQ10kNVDX",
        "colab_type": "text"
      },
      "source": [
        "* Método findAll()"
      ]
    },
    {
      "cell_type": "code",
      "metadata": {
        "id": "fwdHyi_DNS5W",
        "colab_type": "code",
        "outputId": "d94276df-86ab-409b-e6da-3ccbad4522b0",
        "colab": {
          "base_uri": "https://localhost:8080/",
          "height": 257
        }
      },
      "source": [
        "soup.findAll('img')"
      ],
      "execution_count": 33,
      "outputs": [
        {
          "output_type": "execute_result",
          "data": {
            "text/plain": [
              "[<img alt=\"Alura\" class=\"d-inline-block align-top\" src=\"img/alura-logo.svg\"/>,\n",
              " <img alt=\"Foto\" height=\"155\" src=\"https://caelum-online-public.s3.amazonaws.com/1381-scraping/01/img-cars/lamborghini-aventador/lamborghini-aventador-2932196__340.jpg\" width=\"220\"/>,\n",
              " <img alt=\"Foto\" height=\"155\" src=\"https://caelum-online-public.s3.amazonaws.com/1381-scraping/01/img-cars/bmw-m2/bmw-m2-2970882__340.jpg\" width=\"220\"/>,\n",
              " <img alt=\"Foto\" height=\"155\" src=\"https://caelum-online-public.s3.amazonaws.com/1381-scraping/01/img-cars/alfa/alfa-1823056__340.jpg\" width=\"220\"/>,\n",
              " <img alt=\"Foto\" height=\"155\" src=\"https://caelum-online-public.s3.amazonaws.com/1381-scraping/01/img-cars/puech/puech-4055386__340.jpg\" width=\"220\"/>,\n",
              " <img alt=\"Foto\" height=\"155\" src=\"https://caelum-online-public.s3.amazonaws.com/1381-scraping/01/img-cars/lamborghini-murcielago/lamborghini-murcielago-2872974__340.jpg\" width=\"220\"/>,\n",
              " <img alt=\"Foto\" height=\"155\" src=\"https://caelum-online-public.s3.amazonaws.com/1381-scraping/01/img-cars/aston-martin/aston-martin-2977916__340.jpg\" width=\"220\"/>,\n",
              " <img alt=\"Foto\" height=\"155\" src=\"https://caelum-online-public.s3.amazonaws.com/1381-scraping/01/img-cars/tvr/tvr-2943925__340.jpg\" width=\"220\"/>,\n",
              " <img alt=\"Foto\" height=\"155\" src=\"https://caelum-online-public.s3.amazonaws.com/1381-scraping/01/img-cars/excalibur/excalibur-2916730__340.jpg\" width=\"220\"/>,\n",
              " <img alt=\"Foto\" height=\"155\" src=\"https://caelum-online-public.s3.amazonaws.com/1381-scraping/01/img-cars/mclaren/mclaren-2855240__340.jpg\" width=\"220\"/>,\n",
              " <img alt=\"Foto\" height=\"155\" src=\"https://caelum-online-public.s3.amazonaws.com/1381-scraping/01/img-cars/toyota/toyota-3245397__340.jpg\" width=\"220\"/>,\n",
              " <img alt=\"Alura\" class=\"d-inline-block align-top\" src=\"img/alura-logo.svg\"/>]"
            ]
          },
          "metadata": {
            "tags": []
          },
          "execution_count": 33
        }
      ]
    },
    {
      "cell_type": "code",
      "metadata": {
        "id": "IwGm48PXNczB",
        "colab_type": "code",
        "outputId": "5ed0e125-4139-40c4-dee0-022f27dc9f41",
        "colab": {
          "base_uri": "https://localhost:8080/",
          "height": 35
        }
      },
      "source": [
        "soup.findAll('img', limit = 1)"
      ],
      "execution_count": 34,
      "outputs": [
        {
          "output_type": "execute_result",
          "data": {
            "text/plain": [
              "[<img alt=\"Alura\" class=\"d-inline-block align-top\" src=\"img/alura-logo.svg\"/>]"
            ]
          },
          "metadata": {
            "tags": []
          },
          "execution_count": 34
        }
      ]
    },
    {
      "cell_type": "code",
      "metadata": {
        "id": "67lYsrxMNoTU",
        "colab_type": "code",
        "outputId": "c31464c3-103a-4010-9a11-463d5900195f",
        "colab": {
          "base_uri": "https://localhost:8080/",
          "height": 35
        }
      },
      "source": [
        "soup.findAll('img', limit = 2)[1]"
      ],
      "execution_count": 35,
      "outputs": [
        {
          "output_type": "execute_result",
          "data": {
            "text/plain": [
              "<img alt=\"Foto\" height=\"155\" src=\"https://caelum-online-public.s3.amazonaws.com/1381-scraping/01/img-cars/lamborghini-aventador/lamborghini-aventador-2932196__340.jpg\" width=\"220\"/>"
            ]
          },
          "metadata": {
            "tags": []
          },
          "execution_count": 35
        }
      ]
    },
    {
      "cell_type": "code",
      "metadata": {
        "id": "V6YQr40KNuG2",
        "colab_type": "code",
        "outputId": "d381d8ad-c98b-437c-a6a7-60757a94eefa",
        "colab": {
          "base_uri": "https://localhost:8080/",
          "height": 109
        }
      },
      "source": [
        "soup.findAll(['h1', 'h2', 'h3', 'h4', 'h5', 'h6'])"
      ],
      "execution_count": 36,
      "outputs": [
        {
          "output_type": "execute_result",
          "data": {
            "text/plain": [
              "[<h5 class=\"modal-title\" id=\"loadingModal_label\">\n",
              " <span class=\"glyphicon glyphicon-refresh\"></span>Aguarde...\n",
              " \t\t\t\t\t</h5>,\n",
              " <h4><b id=\"loadingModal_content\"></b></h4>,\n",
              " <h1 class=\"sub-header\">Veículos de Luxo Novos e Usados - Todas as Marcas</h1>]"
            ]
          },
          "metadata": {
            "tags": []
          },
          "execution_count": 36
        }
      ]
    },
    {
      "cell_type": "code",
      "metadata": {
        "id": "rzPnGM8xOFtI",
        "colab_type": "code",
        "outputId": "ededff69-6509-44ca-94a9-06363738b57c",
        "colab": {
          "base_uri": "https://localhost:8080/",
          "height": 1000
        }
      },
      "source": [
        "soup.findAll('p')"
      ],
      "execution_count": 37,
      "outputs": [
        {
          "output_type": "execute_result",
          "data": {
            "text/plain": [
              "[<p class=\"txt-name inline\">LAMBORGHINI AVENTADOR</p>,\n",
              " <p class=\"txt-category badge badge-secondary inline\">USADO</p>,\n",
              " <p class=\"txt-motor\">Motor 1.8 16v</p>,\n",
              " <p class=\"txt-description\">Ano 1993 - 55.286 km</p>,\n",
              " <p class=\"txt-location\">Belo Horizonte - MG</p>,\n",
              " <p class=\"txt-value\">R$ 338.000</p>,\n",
              " <p class=\"txt-name inline\">BMW M2</p>,\n",
              " <p class=\"txt-category badge badge-secondary inline\">USADO</p>,\n",
              " <p class=\"txt-motor\">Motor 3.0 32v</p>,\n",
              " <p class=\"txt-description\">Ano 2018 - 83.447 km</p>,\n",
              " <p class=\"txt-location\">Belo Horizonte - MG</p>,\n",
              " <p class=\"txt-value\">R$ 346.000</p>,\n",
              " <p class=\"txt-name inline\">ALFA</p>,\n",
              " <p class=\"txt-category badge badge-secondary inline\">USADO</p>,\n",
              " <p class=\"txt-motor\">Motor 1.8 16v</p>,\n",
              " <p class=\"txt-description\">Ano 2004 - 19.722 km</p>,\n",
              " <p class=\"txt-location\">Rio de Janeiro - RJ</p>,\n",
              " <p class=\"txt-value\">R$ 480.000</p>,\n",
              " <p class=\"txt-name inline\">PUECH</p>,\n",
              " <p class=\"txt-category badge badge-secondary inline\">USADO</p>,\n",
              " <p class=\"txt-motor\">Motor Diesel V8</p>,\n",
              " <p class=\"txt-description\">Ano 1992 - 34.335 km</p>,\n",
              " <p class=\"txt-location\">São Paulo - SP</p>,\n",
              " <p class=\"txt-value\">R$ 133.000</p>,\n",
              " <p class=\"txt-name inline\">LAMBORGHINI MURCIELAGO</p>,\n",
              " <p class=\"txt-category badge badge-secondary inline\">USADO</p>,\n",
              " <p class=\"txt-motor\">Motor 1.0 8v</p>,\n",
              " <p class=\"txt-description\">Ano 1991 - 464 km</p>,\n",
              " <p class=\"txt-location\">Belo Horizonte - MG</p>,\n",
              " <p class=\"txt-value\">R$ 175.000</p>,\n",
              " <p class=\"txt-name inline\">ASTON MARTIN</p>,\n",
              " <p class=\"txt-category badge badge-secondary inline\">USADO</p>,\n",
              " <p class=\"txt-opportunity badge badge-danger inline\">OPORTUNIDADE</p>,\n",
              " <p class=\"txt-motor\">Motor Diesel V6</p>,\n",
              " <p class=\"txt-description\">Ano 2004 - 50.189 km</p>,\n",
              " <p class=\"txt-location\">Belo Horizonte - MG</p>,\n",
              " <p class=\"txt-value\">R$ 239.000</p>,\n",
              " <p class=\"txt-name inline\">TVR</p>,\n",
              " <p class=\"txt-category badge badge-secondary inline\">USADO</p>,\n",
              " <p class=\"txt-motor\">Motor 4.0 Turbo</p>,\n",
              " <p class=\"txt-description\">Ano 2014 - 17.778 km</p>,\n",
              " <p class=\"txt-location\">Belo Horizonte - MG</p>,\n",
              " <p class=\"txt-value\">R$ 115.000</p>,\n",
              " <p class=\"txt-name inline\">EXCALIBUR</p>,\n",
              " <p class=\"txt-category badge badge-secondary inline\">USADO</p>,\n",
              " <p class=\"txt-motor\">Motor 3.0 32v</p>,\n",
              " <p class=\"txt-description\">Ano 2009 - 81.251 km</p>,\n",
              " <p class=\"txt-location\">Rio de Janeiro - RJ</p>,\n",
              " <p class=\"txt-value\">R$ 114.000</p>,\n",
              " <p class=\"txt-name inline\">MCLAREN</p>,\n",
              " <p class=\"txt-category badge badge-secondary inline\">NOVO</p>,\n",
              " <p class=\"txt-motor\">Motor Diesel</p>,\n",
              " <p class=\"txt-description\">Ano 2019 - 0 km</p>,\n",
              " <p class=\"txt-location\">São Paulo - SP</p>,\n",
              " <p class=\"txt-value\">R$ 75.000</p>,\n",
              " <p class=\"txt-name inline\">TOYOTA</p>,\n",
              " <p class=\"txt-category badge badge-secondary inline\">USADO</p>,\n",
              " <p class=\"txt-opportunity badge badge-danger inline\">OPORTUNIDADE</p>,\n",
              " <p class=\"txt-motor\">Motor 4.0 Turbo</p>,\n",
              " <p class=\"txt-description\">Ano 1999 - 12.536 km</p>,\n",
              " <p class=\"txt-location\">São Paulo - SP</p>,\n",
              " <p class=\"txt-value\">R$ 117.000</p>,\n",
              " <p style=\"color: #fff; text-align: center; margin-top: 40px;\">Aplicação para treinamento de web scraping</p>]"
            ]
          },
          "metadata": {
            "tags": []
          },
          "execution_count": 37
        }
      ]
    },
    {
      "cell_type": "code",
      "metadata": {
        "id": "gbcPD8YpOqXC",
        "colab_type": "code",
        "outputId": "927fdb90-c50a-4ad9-d6c7-8d333eed558f",
        "colab": {
          "base_uri": "https://localhost:8080/",
          "height": 201
        }
      },
      "source": [
        "soup.findAll('p', {'class': 'txt-value'})"
      ],
      "execution_count": 38,
      "outputs": [
        {
          "output_type": "execute_result",
          "data": {
            "text/plain": [
              "[<p class=\"txt-value\">R$ 338.000</p>,\n",
              " <p class=\"txt-value\">R$ 346.000</p>,\n",
              " <p class=\"txt-value\">R$ 480.000</p>,\n",
              " <p class=\"txt-value\">R$ 133.000</p>,\n",
              " <p class=\"txt-value\">R$ 175.000</p>,\n",
              " <p class=\"txt-value\">R$ 239.000</p>,\n",
              " <p class=\"txt-value\">R$ 115.000</p>,\n",
              " <p class=\"txt-value\">R$ 114.000</p>,\n",
              " <p class=\"txt-value\">R$ 75.000</p>,\n",
              " <p class=\"txt-value\">R$ 117.000</p>]"
            ]
          },
          "metadata": {
            "tags": []
          },
          "execution_count": 38
        }
      ]
    },
    {
      "cell_type": "code",
      "metadata": {
        "id": "2wLqsuYPO3I1",
        "colab_type": "code",
        "outputId": "96832439-2df4-416a-db13-4303a5e8426f",
        "colab": {
          "base_uri": "https://localhost:8080/",
          "height": 109
        }
      },
      "source": [
        "soup.findAll('p', text = 'Belo Horizonte - MG')"
      ],
      "execution_count": 39,
      "outputs": [
        {
          "output_type": "execute_result",
          "data": {
            "text/plain": [
              "[<p class=\"txt-location\">Belo Horizonte - MG</p>,\n",
              " <p class=\"txt-location\">Belo Horizonte - MG</p>,\n",
              " <p class=\"txt-location\">Belo Horizonte - MG</p>,\n",
              " <p class=\"txt-location\">Belo Horizonte - MG</p>,\n",
              " <p class=\"txt-location\">Belo Horizonte - MG</p>]"
            ]
          },
          "metadata": {
            "tags": []
          },
          "execution_count": 39
        }
      ]
    },
    {
      "cell_type": "code",
      "metadata": {
        "id": "CUy5dHdYPGeB",
        "colab_type": "code",
        "outputId": "1484e2d2-2186-4ac2-d00b-4a578beea126",
        "colab": {
          "base_uri": "https://localhost:8080/",
          "height": 221
        }
      },
      "source": [
        "soup.findAll('img', alt = 'Foto')"
      ],
      "execution_count": 40,
      "outputs": [
        {
          "output_type": "execute_result",
          "data": {
            "text/plain": [
              "[<img alt=\"Foto\" height=\"155\" src=\"https://caelum-online-public.s3.amazonaws.com/1381-scraping/01/img-cars/lamborghini-aventador/lamborghini-aventador-2932196__340.jpg\" width=\"220\"/>,\n",
              " <img alt=\"Foto\" height=\"155\" src=\"https://caelum-online-public.s3.amazonaws.com/1381-scraping/01/img-cars/bmw-m2/bmw-m2-2970882__340.jpg\" width=\"220\"/>,\n",
              " <img alt=\"Foto\" height=\"155\" src=\"https://caelum-online-public.s3.amazonaws.com/1381-scraping/01/img-cars/alfa/alfa-1823056__340.jpg\" width=\"220\"/>,\n",
              " <img alt=\"Foto\" height=\"155\" src=\"https://caelum-online-public.s3.amazonaws.com/1381-scraping/01/img-cars/puech/puech-4055386__340.jpg\" width=\"220\"/>,\n",
              " <img alt=\"Foto\" height=\"155\" src=\"https://caelum-online-public.s3.amazonaws.com/1381-scraping/01/img-cars/lamborghini-murcielago/lamborghini-murcielago-2872974__340.jpg\" width=\"220\"/>,\n",
              " <img alt=\"Foto\" height=\"155\" src=\"https://caelum-online-public.s3.amazonaws.com/1381-scraping/01/img-cars/aston-martin/aston-martin-2977916__340.jpg\" width=\"220\"/>,\n",
              " <img alt=\"Foto\" height=\"155\" src=\"https://caelum-online-public.s3.amazonaws.com/1381-scraping/01/img-cars/tvr/tvr-2943925__340.jpg\" width=\"220\"/>,\n",
              " <img alt=\"Foto\" height=\"155\" src=\"https://caelum-online-public.s3.amazonaws.com/1381-scraping/01/img-cars/excalibur/excalibur-2916730__340.jpg\" width=\"220\"/>,\n",
              " <img alt=\"Foto\" height=\"155\" src=\"https://caelum-online-public.s3.amazonaws.com/1381-scraping/01/img-cars/mclaren/mclaren-2855240__340.jpg\" width=\"220\"/>,\n",
              " <img alt=\"Foto\" height=\"155\" src=\"https://caelum-online-public.s3.amazonaws.com/1381-scraping/01/img-cars/toyota/toyota-3245397__340.jpg\" width=\"220\"/>]"
            ]
          },
          "metadata": {
            "tags": []
          },
          "execution_count": 40
        }
      ]
    },
    {
      "cell_type": "code",
      "metadata": {
        "id": "NaTzvu_mPX5R",
        "colab_type": "code",
        "outputId": "7caf154d-04d7-49c6-add5-f565b4575354",
        "colab": {
          "base_uri": "https://localhost:8080/",
          "height": 201
        }
      },
      "source": [
        "for item in soup.findAll('img', alt = 'Foto'):\n",
        "  print(item.get('src'))"
      ],
      "execution_count": 41,
      "outputs": [
        {
          "output_type": "stream",
          "text": [
            "https://caelum-online-public.s3.amazonaws.com/1381-scraping/01/img-cars/lamborghini-aventador/lamborghini-aventador-2932196__340.jpg\n",
            "https://caelum-online-public.s3.amazonaws.com/1381-scraping/01/img-cars/bmw-m2/bmw-m2-2970882__340.jpg\n",
            "https://caelum-online-public.s3.amazonaws.com/1381-scraping/01/img-cars/alfa/alfa-1823056__340.jpg\n",
            "https://caelum-online-public.s3.amazonaws.com/1381-scraping/01/img-cars/puech/puech-4055386__340.jpg\n",
            "https://caelum-online-public.s3.amazonaws.com/1381-scraping/01/img-cars/lamborghini-murcielago/lamborghini-murcielago-2872974__340.jpg\n",
            "https://caelum-online-public.s3.amazonaws.com/1381-scraping/01/img-cars/aston-martin/aston-martin-2977916__340.jpg\n",
            "https://caelum-online-public.s3.amazonaws.com/1381-scraping/01/img-cars/tvr/tvr-2943925__340.jpg\n",
            "https://caelum-online-public.s3.amazonaws.com/1381-scraping/01/img-cars/excalibur/excalibur-2916730__340.jpg\n",
            "https://caelum-online-public.s3.amazonaws.com/1381-scraping/01/img-cars/mclaren/mclaren-2855240__340.jpg\n",
            "https://caelum-online-public.s3.amazonaws.com/1381-scraping/01/img-cars/toyota/toyota-3245397__340.jpg\n"
          ],
          "name": "stdout"
        }
      ]
    },
    {
      "cell_type": "code",
      "metadata": {
        "id": "_jfaK7bxPjmC",
        "colab_type": "code",
        "outputId": "cc3ad9d8-3a07-4da7-fdc4-722af7c167f5",
        "colab": {
          "base_uri": "https://localhost:8080/",
          "height": 135
        }
      },
      "source": [
        "soup.findAll('p', class = 'txt-value')"
      ],
      "execution_count": 42,
      "outputs": [
        {
          "output_type": "error",
          "ename": "SyntaxError",
          "evalue": "ignored",
          "traceback": [
            "\u001b[0;36m  File \u001b[0;32m\"<ipython-input-42-4e8b412f3f0a>\"\u001b[0;36m, line \u001b[0;32m1\u001b[0m\n\u001b[0;31m    soup.findAll('p', class = 'txt-value')\u001b[0m\n\u001b[0m                          ^\u001b[0m\n\u001b[0;31mSyntaxError\u001b[0m\u001b[0;31m:\u001b[0m invalid syntax\n"
          ]
        }
      ]
    },
    {
      "cell_type": "code",
      "metadata": {
        "id": "VMzWDj33P2EE",
        "colab_type": "code",
        "outputId": "6751cfc8-99ba-4a04-8b76-86968706b852",
        "colab": {
          "base_uri": "https://localhost:8080/",
          "height": 201
        }
      },
      "source": [
        "soup.findAll('p', class_ = 'txt-value')"
      ],
      "execution_count": 43,
      "outputs": [
        {
          "output_type": "execute_result",
          "data": {
            "text/plain": [
              "[<p class=\"txt-value\">R$ 338.000</p>,\n",
              " <p class=\"txt-value\">R$ 346.000</p>,\n",
              " <p class=\"txt-value\">R$ 480.000</p>,\n",
              " <p class=\"txt-value\">R$ 133.000</p>,\n",
              " <p class=\"txt-value\">R$ 175.000</p>,\n",
              " <p class=\"txt-value\">R$ 239.000</p>,\n",
              " <p class=\"txt-value\">R$ 115.000</p>,\n",
              " <p class=\"txt-value\">R$ 114.000</p>,\n",
              " <p class=\"txt-value\">R$ 75.000</p>,\n",
              " <p class=\"txt-value\">R$ 117.000</p>]"
            ]
          },
          "metadata": {
            "tags": []
          },
          "execution_count": 43
        }
      ]
    },
    {
      "cell_type": "code",
      "metadata": {
        "id": "hKsWgAqKP6MH",
        "colab_type": "code",
        "outputId": "c17e44c1-a3ca-43c5-b395-18ab56a6b447",
        "colab": {
          "base_uri": "https://localhost:8080/",
          "height": 1000
        }
      },
      "source": [
        "soup.findAll(text = True)"
      ],
      "execution_count": 44,
      "outputs": [
        {
          "output_type": "execute_result",
          "data": {
            "text/plain": [
              "['html',\n",
              " '\\n',\n",
              " '\\n',\n",
              " '\\n',\n",
              " '\\n',\n",
              " '\\n',\n",
              " 'Alura Motors',\n",
              " '\\n',\n",
              " \"\\r\\n\\t\\t/*Regra para a animacao*/\\r\\n\\t\\t@keyframes spin {\\r\\n\\t\\t\\t0% { transform: rotate(0deg); }\\r\\n\\t\\t\\t100% { transform: rotate(360deg); }\\r\\n\\t\\t}\\r\\n\\t\\t/*Mudando o tamanho do icone de resposta*/\\r\\n\\t\\tdiv.glyphicon {\\r\\n\\t\\t\\tcolor:#6B8E23;\\r\\n\\t\\t\\tfont-size: 38px;\\r\\n\\t\\t}\\r\\n\\t\\t/*Classe que mostra a animacao 'spin'*/\\r\\n\\t\\t.loader {\\r\\n\\t\\t\\tborder: 16px solid #f3f3f3;\\r\\n\\t\\t\\tborder-radius: 50%;\\r\\n\\t\\t\\tborder-top: 16px solid #3498db;\\r\\n\\t\\t\\twidth: 80px;\\r\\n\\t\\t\\theight: 80px;\\r\\n\\t\\t\\t-webkit-animation: spin 2s linear infinite;\\r\\n\\t\\t\\tanimation: spin 2s linear infinite;\\r\\n\\t\\t}\\r\\n\\t\",\n",
              " '\\n',\n",
              " '\\n',\n",
              " '\\n',\n",
              " '\\n',\n",
              " '\\n',\n",
              " '\\n',\n",
              " '\\r\\n\\t\\trequisitar(\"https://alura-scraping.herokuapp.com/produtos?_page=\"+1+\"&_limit=10\")\\r\\n\\t',\n",
              " '\\n',\n",
              " '\\n',\n",
              " '\\n',\n",
              " 'You need to enable JavaScript to run this app.',\n",
              " '\\n',\n",
              " '\\n',\n",
              " '\\n',\n",
              " '\\n',\n",
              " '\\n',\n",
              " '\\n',\n",
              " 'Aguarde...\\r\\n\\t\\t\\t\\t\\t',\n",
              " '\\n',\n",
              " '\\n',\n",
              " '\\n',\n",
              " '\\n',\n",
              " '\\n',\n",
              " '\\n',\n",
              " '\\n',\n",
              " '\\n',\n",
              " '\\n',\n",
              " '\\n',\n",
              " '\\n',\n",
              " '\\n',\n",
              " '\\n',\n",
              " '\\n',\n",
              " '\\n',\n",
              " '\\n',\n",
              " '\\n',\n",
              " '\\n',\n",
              " '\\n',\n",
              " 'Motors\\r\\n\\t\\t\\t\\t\\t\\t',\n",
              " '\\n',\n",
              " '\\n',\n",
              " 'Hello World',\n",
              " '\\n',\n",
              " 'Anúncios',\n",
              " '\\n',\n",
              " '\\n',\n",
              " '\\n',\n",
              " '\\n',\n",
              " '\\n',\n",
              " '\\n',\n",
              " '\\n',\n",
              " 'Veículos de Luxo Novos e Usados - Todas as Marcas',\n",
              " '\\n',\n",
              " '\\n',\n",
              " '\\n',\n",
              " '\\n',\n",
              " '246 veículos encontrados',\n",
              " '\\n',\n",
              " '\\n',\n",
              " 'Página 1 de 25',\n",
              " '\\n',\n",
              " '\\n',\n",
              " '\\n',\n",
              " '\\n',\n",
              " '\\n',\n",
              " '\\n',\n",
              " '\\n',\n",
              " '\\n',\n",
              " '\\n',\n",
              " 'LAMBORGHINI AVENTADOR',\n",
              " '\\n',\n",
              " 'USADO',\n",
              " '\\n',\n",
              " 'Motor 1.8 16v',\n",
              " '\\n',\n",
              " 'Ano 1993 - 55.286 km',\n",
              " '\\n',\n",
              " '\\n',\n",
              " '► 4 X 4',\n",
              " '\\n',\n",
              " '► Câmera de estacionamento',\n",
              " '\\n',\n",
              " '► Controle de tração',\n",
              " '\\n',\n",
              " '► Sensor de estacionamento',\n",
              " '\\n',\n",
              " '...',\n",
              " '\\n',\n",
              " '\\n',\n",
              " 'Belo Horizonte - MG',\n",
              " '\\n',\n",
              " '\\n',\n",
              " '\\n',\n",
              " '\\n',\n",
              " 'R$ 338.000',\n",
              " '\\n',\n",
              " '\\n',\n",
              " '\\n',\n",
              " '\\n',\n",
              " '\\n',\n",
              " '\\n',\n",
              " '\\n',\n",
              " '\\n',\n",
              " '\\n',\n",
              " 'BMW M2',\n",
              " '\\n',\n",
              " 'USADO',\n",
              " '\\n',\n",
              " 'Motor 3.0 32v',\n",
              " '\\n',\n",
              " 'Ano 2018 - 83.447 km',\n",
              " '\\n',\n",
              " '\\n',\n",
              " '► Câmera de estacionamento',\n",
              " '\\n',\n",
              " '► Controle de estabilidade',\n",
              " '\\n',\n",
              " '► Travas elétricas',\n",
              " '\\n',\n",
              " '► Freios ABS',\n",
              " '\\n',\n",
              " '...',\n",
              " '\\n',\n",
              " '\\n',\n",
              " 'Belo Horizonte - MG',\n",
              " '\\n',\n",
              " '\\n',\n",
              " '\\n',\n",
              " '\\n',\n",
              " 'R$ 346.000',\n",
              " '\\n',\n",
              " '\\n',\n",
              " '\\n',\n",
              " '\\n',\n",
              " '\\n',\n",
              " '\\n',\n",
              " '\\n',\n",
              " '\\n',\n",
              " '\\n',\n",
              " 'ALFA',\n",
              " '\\n',\n",
              " 'USADO',\n",
              " '\\n',\n",
              " 'Motor 1.8 16v',\n",
              " '\\n',\n",
              " 'Ano 2004 - 19.722 km',\n",
              " '\\n',\n",
              " '\\n',\n",
              " '► Central multimídia',\n",
              " '\\n',\n",
              " '► Bancos de couro',\n",
              " '\\n',\n",
              " '► Rodas de liga',\n",
              " '\\n',\n",
              " '► Câmera de estacionamento',\n",
              " '\\n',\n",
              " '...',\n",
              " '\\n',\n",
              " '\\n',\n",
              " 'Rio de Janeiro - RJ',\n",
              " '\\n',\n",
              " '\\n',\n",
              " '\\n',\n",
              " '\\n',\n",
              " 'R$ 480.000',\n",
              " '\\n',\n",
              " '\\n',\n",
              " '\\n',\n",
              " '\\n',\n",
              " '\\n',\n",
              " '\\n',\n",
              " '\\n',\n",
              " '\\n',\n",
              " '\\n',\n",
              " 'PUECH',\n",
              " '\\n',\n",
              " 'USADO',\n",
              " '\\n',\n",
              " 'Motor Diesel V8',\n",
              " '\\n',\n",
              " 'Ano 1992 - 34.335 km',\n",
              " '\\n',\n",
              " '\\n',\n",
              " '► Bancos de couro',\n",
              " '\\n',\n",
              " '► Freios ABS',\n",
              " '\\n',\n",
              " '► Rodas de liga',\n",
              " '\\n',\n",
              " '► Câmbio automático',\n",
              " '\\n',\n",
              " '...',\n",
              " '\\n',\n",
              " '\\n',\n",
              " 'São Paulo - SP',\n",
              " '\\n',\n",
              " '\\n',\n",
              " '\\n',\n",
              " '\\n',\n",
              " 'R$ 133.000',\n",
              " '\\n',\n",
              " '\\n',\n",
              " '\\n',\n",
              " '\\n',\n",
              " '\\n',\n",
              " '\\n',\n",
              " '\\n',\n",
              " '\\n',\n",
              " '\\n',\n",
              " 'LAMBORGHINI MURCIELAGO',\n",
              " '\\n',\n",
              " 'USADO',\n",
              " '\\n',\n",
              " 'Motor 1.0 8v',\n",
              " '\\n',\n",
              " 'Ano 1991 - 464 km',\n",
              " '\\n',\n",
              " '\\n',\n",
              " '► Central multimídia',\n",
              " '\\n',\n",
              " '► Teto panorâmico',\n",
              " '\\n',\n",
              " '► Sensor crepuscular',\n",
              " '\\n',\n",
              " '► Piloto automático',\n",
              " '\\n',\n",
              " '...',\n",
              " '\\n',\n",
              " '\\n',\n",
              " 'Belo Horizonte - MG',\n",
              " '\\n',\n",
              " '\\n',\n",
              " '\\n',\n",
              " '\\n',\n",
              " 'R$ 175.000',\n",
              " '\\n',\n",
              " '\\n',\n",
              " '\\n',\n",
              " '\\n',\n",
              " '\\n',\n",
              " '\\n',\n",
              " '\\n',\n",
              " '\\n',\n",
              " '\\n',\n",
              " 'ASTON MARTIN',\n",
              " '\\n',\n",
              " 'USADO',\n",
              " '\\n',\n",
              " 'OPORTUNIDADE',\n",
              " '\\n',\n",
              " 'Motor Diesel V6',\n",
              " '\\n',\n",
              " 'Ano 2004 - 50.189 km',\n",
              " '\\n',\n",
              " '\\n',\n",
              " '► Painel digital',\n",
              " '\\n',\n",
              " '► Controle de tração',\n",
              " '\\n',\n",
              " '► Teto panorâmico',\n",
              " '\\n',\n",
              " '► Central multimídia',\n",
              " '\\n',\n",
              " '...',\n",
              " '\\n',\n",
              " '\\n',\n",
              " 'Belo Horizonte - MG',\n",
              " '\\n',\n",
              " '\\n',\n",
              " '\\n',\n",
              " '\\n',\n",
              " 'R$ 239.000',\n",
              " '\\n',\n",
              " '\\n',\n",
              " '\\n',\n",
              " '\\n',\n",
              " '\\n',\n",
              " '\\n',\n",
              " '\\n',\n",
              " '\\n',\n",
              " '\\n',\n",
              " 'TVR',\n",
              " '\\n',\n",
              " 'USADO',\n",
              " '\\n',\n",
              " 'Motor 4.0 Turbo',\n",
              " '\\n',\n",
              " 'Ano 2014 - 17.778 km',\n",
              " '\\n',\n",
              " '\\n',\n",
              " '► 4 X 4',\n",
              " '\\n',\n",
              " '► Teto panorâmico',\n",
              " '\\n',\n",
              " '► Central multimídia',\n",
              " '\\n',\n",
              " '► Controle de estabilidade',\n",
              " '\\n',\n",
              " '...',\n",
              " '\\n',\n",
              " '\\n',\n",
              " 'Belo Horizonte - MG',\n",
              " '\\n',\n",
              " '\\n',\n",
              " '\\n',\n",
              " '\\n',\n",
              " 'R$ 115.000',\n",
              " '\\n',\n",
              " '\\n',\n",
              " '\\n',\n",
              " '\\n',\n",
              " '\\n',\n",
              " '\\n',\n",
              " '\\n',\n",
              " '\\n',\n",
              " '\\n',\n",
              " 'EXCALIBUR',\n",
              " '\\n',\n",
              " 'USADO',\n",
              " '\\n',\n",
              " 'Motor 3.0 32v',\n",
              " '\\n',\n",
              " 'Ano 2009 - 81.251 km',\n",
              " '\\n',\n",
              " '\\n',\n",
              " '► Painel digital',\n",
              " '\\n',\n",
              " '► Câmbio automático',\n",
              " '\\n',\n",
              " '► Sensor de chuva',\n",
              " '\\n',\n",
              " '► Travas elétricas',\n",
              " '\\n',\n",
              " '...',\n",
              " '\\n',\n",
              " '\\n',\n",
              " 'Rio de Janeiro - RJ',\n",
              " '\\n',\n",
              " '\\n',\n",
              " '\\n',\n",
              " '\\n',\n",
              " 'R$ 114.000',\n",
              " '\\n',\n",
              " '\\n',\n",
              " '\\n',\n",
              " '\\n',\n",
              " '\\n',\n",
              " '\\n',\n",
              " '\\n',\n",
              " '\\n',\n",
              " '\\n',\n",
              " 'MCLAREN',\n",
              " '\\n',\n",
              " 'NOVO',\n",
              " '\\n',\n",
              " 'Motor Diesel',\n",
              " '\\n',\n",
              " 'Ano 2019 - 0 km',\n",
              " '\\n',\n",
              " '\\n',\n",
              " '► Central multimídia',\n",
              " '\\n',\n",
              " '► Câmera de estacionamento',\n",
              " '\\n',\n",
              " '► Câmbio automático',\n",
              " '\\n',\n",
              " '► Ar condicionado',\n",
              " '\\n',\n",
              " '...',\n",
              " '\\n',\n",
              " '\\n',\n",
              " 'São Paulo - SP',\n",
              " '\\n',\n",
              " '\\n',\n",
              " '\\n',\n",
              " '\\n',\n",
              " 'R$ 75.000',\n",
              " '\\n',\n",
              " '\\n',\n",
              " '\\n',\n",
              " '\\n',\n",
              " '\\n',\n",
              " '\\n',\n",
              " '\\n',\n",
              " '\\n',\n",
              " '\\n',\n",
              " 'TOYOTA',\n",
              " '\\n',\n",
              " 'USADO',\n",
              " '\\n',\n",
              " 'OPORTUNIDADE',\n",
              " '\\n',\n",
              " 'Motor 4.0 Turbo',\n",
              " '\\n',\n",
              " 'Ano 1999 - 12.536 km',\n",
              " '\\n',\n",
              " '\\n',\n",
              " '► Bancos de couro',\n",
              " '\\n',\n",
              " '► Freios ABS',\n",
              " '\\n',\n",
              " '► Piloto automático',\n",
              " '\\n',\n",
              " '► Controle de estabilidade',\n",
              " '\\n',\n",
              " '...',\n",
              " '\\n',\n",
              " '\\n',\n",
              " 'São Paulo - SP',\n",
              " '\\n',\n",
              " '\\n',\n",
              " '\\n',\n",
              " '\\n',\n",
              " 'R$ 117.000',\n",
              " '\\n',\n",
              " '\\n',\n",
              " '\\n',\n",
              " ' ',\n",
              " '\\n',\n",
              " '246 veículos encontrados',\n",
              " '\\n',\n",
              " '\\n',\n",
              " 'Página 1 de 25',\n",
              " '\\n',\n",
              " '\\n',\n",
              " '\\n',\n",
              " '\\n',\n",
              " '\\n',\n",
              " '\\n',\n",
              " '\\n',\n",
              " '\\n',\n",
              " '\\n',\n",
              " '\\n',\n",
              " '\\n',\n",
              " '\\n',\n",
              " 'Motors\\r\\n\\t\\t\\t\\t\\t\\t',\n",
              " '\\n',\n",
              " 'Aplicação para treinamento de web scraping',\n",
              " '\\n',\n",
              " '\\n',\n",
              " '\\n',\n",
              " '\\n',\n",
              " '\\n',\n",
              " '\\n',\n",
              " '\\n',\n",
              " '\\n']"
            ]
          },
          "metadata": {
            "tags": []
          },
          "execution_count": 44
        }
      ]
    },
    {
      "cell_type": "code",
      "metadata": {
        "id": "X50eIpBnQDgG",
        "colab_type": "code",
        "outputId": "afdf90a0-0422-4681-87af-36f2615d3f2c",
        "colab": {
          "base_uri": "https://localhost:8080/",
          "height": 257
        }
      },
      "source": [
        "soup('img')"
      ],
      "execution_count": 45,
      "outputs": [
        {
          "output_type": "execute_result",
          "data": {
            "text/plain": [
              "[<img alt=\"Alura\" class=\"d-inline-block align-top\" src=\"img/alura-logo.svg\"/>,\n",
              " <img alt=\"Foto\" height=\"155\" src=\"https://caelum-online-public.s3.amazonaws.com/1381-scraping/01/img-cars/lamborghini-aventador/lamborghini-aventador-2932196__340.jpg\" width=\"220\"/>,\n",
              " <img alt=\"Foto\" height=\"155\" src=\"https://caelum-online-public.s3.amazonaws.com/1381-scraping/01/img-cars/bmw-m2/bmw-m2-2970882__340.jpg\" width=\"220\"/>,\n",
              " <img alt=\"Foto\" height=\"155\" src=\"https://caelum-online-public.s3.amazonaws.com/1381-scraping/01/img-cars/alfa/alfa-1823056__340.jpg\" width=\"220\"/>,\n",
              " <img alt=\"Foto\" height=\"155\" src=\"https://caelum-online-public.s3.amazonaws.com/1381-scraping/01/img-cars/puech/puech-4055386__340.jpg\" width=\"220\"/>,\n",
              " <img alt=\"Foto\" height=\"155\" src=\"https://caelum-online-public.s3.amazonaws.com/1381-scraping/01/img-cars/lamborghini-murcielago/lamborghini-murcielago-2872974__340.jpg\" width=\"220\"/>,\n",
              " <img alt=\"Foto\" height=\"155\" src=\"https://caelum-online-public.s3.amazonaws.com/1381-scraping/01/img-cars/aston-martin/aston-martin-2977916__340.jpg\" width=\"220\"/>,\n",
              " <img alt=\"Foto\" height=\"155\" src=\"https://caelum-online-public.s3.amazonaws.com/1381-scraping/01/img-cars/tvr/tvr-2943925__340.jpg\" width=\"220\"/>,\n",
              " <img alt=\"Foto\" height=\"155\" src=\"https://caelum-online-public.s3.amazonaws.com/1381-scraping/01/img-cars/excalibur/excalibur-2916730__340.jpg\" width=\"220\"/>,\n",
              " <img alt=\"Foto\" height=\"155\" src=\"https://caelum-online-public.s3.amazonaws.com/1381-scraping/01/img-cars/mclaren/mclaren-2855240__340.jpg\" width=\"220\"/>,\n",
              " <img alt=\"Foto\" height=\"155\" src=\"https://caelum-online-public.s3.amazonaws.com/1381-scraping/01/img-cars/toyota/toyota-3245397__340.jpg\" width=\"220\"/>,\n",
              " <img alt=\"Alura\" class=\"d-inline-block align-top\" src=\"img/alura-logo.svg\"/>]"
            ]
          },
          "metadata": {
            "tags": []
          },
          "execution_count": 45
        }
      ]
    },
    {
      "cell_type": "markdown",
      "metadata": {
        "id": "QtVd37w-QtQr",
        "colab_type": "text"
      },
      "source": [
        "* Outros métodos de pesquisa (find_parent(), find_parents(), findNextSibling(), findPreviousSibling()...)"
      ]
    },
    {
      "cell_type": "code",
      "metadata": {
        "id": "4BcPYMFaQYmR",
        "colab_type": "code",
        "outputId": "9204c37c-513f-4e79-f613-ab4ed16f3299",
        "colab": {
          "base_uri": "https://localhost:8080/",
          "height": 35
        }
      },
      "source": [
        "soup.find('h1')"
      ],
      "execution_count": 46,
      "outputs": [
        {
          "output_type": "execute_result",
          "data": {
            "text/plain": [
              "<h1 class=\"sub-header\">Veículos de Luxo Novos e Usados - Todas as Marcas</h1>"
            ]
          },
          "metadata": {
            "tags": []
          },
          "execution_count": 46
        }
      ]
    },
    {
      "cell_type": "code",
      "metadata": {
        "id": "hRdlTTR_RwHZ",
        "colab_type": "code",
        "outputId": "3ee5c6ea-ce74-4df7-8801-87c54b458ec8",
        "colab": {
          "base_uri": "https://localhost:8080/",
          "height": 1000
        }
      },
      "source": [
        "soup.find('h1').find_parent('div')"
      ],
      "execution_count": 47,
      "outputs": [
        {
          "output_type": "execute_result",
          "data": {
            "text/plain": [
              "<div class=\"container\">\n",
              "<h1 class=\"sub-header\">Veículos de Luxo Novos e Usados - Todas as Marcas</h1>\n",
              "<div class=\"row\">\n",
              "<div class=\"col-md-12\">\n",
              "<div class=\"container\" style=\"width: 100%\">\n",
              "<div class=\"type-select\">246 veículos encontrados</div>\n",
              "<div class=\"container-pagination\" style=\"float: right\">\n",
              "<span class=\"info-pages\">Página 1 de 25</span>\n",
              "</div>\n",
              "</div>\n",
              "<div id=\"container-cards\" style=\"height: 100%\">\n",
              "<div class=\"well card\">\n",
              "<div class=\"col-md-3 image-card\">\n",
              "<img alt=\"Foto\" height=\"155\" src=\"https://caelum-online-public.s3.amazonaws.com/1381-scraping/01/img-cars/lamborghini-aventador/lamborghini-aventador-2932196__340.jpg\" width=\"220\"/>\n",
              "</div>\n",
              "<div class=\"col-md-6 body-card\">\n",
              "<p class=\"txt-name inline\">LAMBORGHINI AVENTADOR</p>\n",
              "<p class=\"txt-category badge badge-secondary inline\">USADO</p>\n",
              "<p class=\"txt-motor\">Motor 1.8 16v</p>\n",
              "<p class=\"txt-description\">Ano 1993 - 55.286 km</p>\n",
              "<ul class=\"lst-items\">\n",
              "<li class=\"txt-items\">► 4 X 4</li>\n",
              "<li class=\"txt-items\">► Câmera de estacionamento</li>\n",
              "<li class=\"txt-items\">► Controle de tração</li>\n",
              "<li class=\"txt-items\">► Sensor de estacionamento</li>\n",
              "<li class=\"txt-items\">...</li>\n",
              "</ul>\n",
              "<p class=\"txt-location\">Belo Horizonte - MG</p>\n",
              "</div>\n",
              "<div class=\"col-md-3 value-card\">\n",
              "<div class=\"value\">\n",
              "<p class=\"txt-value\">R$ 338.000</p>\n",
              "</div>\n",
              "</div>\n",
              "</div>\n",
              "<div class=\"well card\">\n",
              "<div class=\"col-md-3 image-card\">\n",
              "<img alt=\"Foto\" height=\"155\" src=\"https://caelum-online-public.s3.amazonaws.com/1381-scraping/01/img-cars/bmw-m2/bmw-m2-2970882__340.jpg\" width=\"220\"/>\n",
              "</div>\n",
              "<div class=\"col-md-6 body-card\">\n",
              "<p class=\"txt-name inline\">BMW M2</p>\n",
              "<p class=\"txt-category badge badge-secondary inline\">USADO</p>\n",
              "<p class=\"txt-motor\">Motor 3.0 32v</p>\n",
              "<p class=\"txt-description\">Ano 2018 - 83.447 km</p>\n",
              "<ul class=\"lst-items\">\n",
              "<li class=\"txt-items\">► Câmera de estacionamento</li>\n",
              "<li class=\"txt-items\">► Controle de estabilidade</li>\n",
              "<li class=\"txt-items\">► Travas elétricas</li>\n",
              "<li class=\"txt-items\">► Freios ABS</li>\n",
              "<li class=\"txt-items\">...</li>\n",
              "</ul>\n",
              "<p class=\"txt-location\">Belo Horizonte - MG</p>\n",
              "</div>\n",
              "<div class=\"col-md-3 value-card\">\n",
              "<div class=\"value\">\n",
              "<p class=\"txt-value\">R$ 346.000</p>\n",
              "</div>\n",
              "</div>\n",
              "</div>\n",
              "<div class=\"well card\">\n",
              "<div class=\"col-md-3 image-card\">\n",
              "<img alt=\"Foto\" height=\"155\" src=\"https://caelum-online-public.s3.amazonaws.com/1381-scraping/01/img-cars/alfa/alfa-1823056__340.jpg\" width=\"220\"/>\n",
              "</div>\n",
              "<div class=\"col-md-6 body-card\">\n",
              "<p class=\"txt-name inline\">ALFA</p>\n",
              "<p class=\"txt-category badge badge-secondary inline\">USADO</p>\n",
              "<p class=\"txt-motor\">Motor 1.8 16v</p>\n",
              "<p class=\"txt-description\">Ano 2004 - 19.722 km</p>\n",
              "<ul class=\"lst-items\">\n",
              "<li class=\"txt-items\">► Central multimídia</li>\n",
              "<li class=\"txt-items\">► Bancos de couro</li>\n",
              "<li class=\"txt-items\">► Rodas de liga</li>\n",
              "<li class=\"txt-items\">► Câmera de estacionamento</li>\n",
              "<li class=\"txt-items\">...</li>\n",
              "</ul>\n",
              "<p class=\"txt-location\">Rio de Janeiro - RJ</p>\n",
              "</div>\n",
              "<div class=\"col-md-3 value-card\">\n",
              "<div class=\"value\">\n",
              "<p class=\"txt-value\">R$ 480.000</p>\n",
              "</div>\n",
              "</div>\n",
              "</div>\n",
              "<div class=\"well card\">\n",
              "<div class=\"col-md-3 image-card\">\n",
              "<img alt=\"Foto\" height=\"155\" src=\"https://caelum-online-public.s3.amazonaws.com/1381-scraping/01/img-cars/puech/puech-4055386__340.jpg\" width=\"220\"/>\n",
              "</div>\n",
              "<div class=\"col-md-6 body-card\">\n",
              "<p class=\"txt-name inline\">PUECH</p>\n",
              "<p class=\"txt-category badge badge-secondary inline\">USADO</p>\n",
              "<p class=\"txt-motor\">Motor Diesel V8</p>\n",
              "<p class=\"txt-description\">Ano 1992 - 34.335 km</p>\n",
              "<ul class=\"lst-items\">\n",
              "<li class=\"txt-items\">► Bancos de couro</li>\n",
              "<li class=\"txt-items\">► Freios ABS</li>\n",
              "<li class=\"txt-items\">► Rodas de liga</li>\n",
              "<li class=\"txt-items\">► Câmbio automático</li>\n",
              "<li class=\"txt-items\">...</li>\n",
              "</ul>\n",
              "<p class=\"txt-location\">São Paulo - SP</p>\n",
              "</div>\n",
              "<div class=\"col-md-3 value-card\">\n",
              "<div class=\"value\">\n",
              "<p class=\"txt-value\">R$ 133.000</p>\n",
              "</div>\n",
              "</div>\n",
              "</div>\n",
              "<div class=\"well card\">\n",
              "<div class=\"col-md-3 image-card\">\n",
              "<img alt=\"Foto\" height=\"155\" src=\"https://caelum-online-public.s3.amazonaws.com/1381-scraping/01/img-cars/lamborghini-murcielago/lamborghini-murcielago-2872974__340.jpg\" width=\"220\"/>\n",
              "</div>\n",
              "<div class=\"col-md-6 body-card\">\n",
              "<p class=\"txt-name inline\">LAMBORGHINI MURCIELAGO</p>\n",
              "<p class=\"txt-category badge badge-secondary inline\">USADO</p>\n",
              "<p class=\"txt-motor\">Motor 1.0 8v</p>\n",
              "<p class=\"txt-description\">Ano 1991 - 464 km</p>\n",
              "<ul class=\"lst-items\">\n",
              "<li class=\"txt-items\">► Central multimídia</li>\n",
              "<li class=\"txt-items\">► Teto panorâmico</li>\n",
              "<li class=\"txt-items\">► Sensor crepuscular</li>\n",
              "<li class=\"txt-items\">► Piloto automático</li>\n",
              "<li class=\"txt-items\">...</li>\n",
              "</ul>\n",
              "<p class=\"txt-location\">Belo Horizonte - MG</p>\n",
              "</div>\n",
              "<div class=\"col-md-3 value-card\">\n",
              "<div class=\"value\">\n",
              "<p class=\"txt-value\">R$ 175.000</p>\n",
              "</div>\n",
              "</div>\n",
              "</div>\n",
              "<div class=\"well card\">\n",
              "<div class=\"col-md-3 image-card\">\n",
              "<img alt=\"Foto\" height=\"155\" src=\"https://caelum-online-public.s3.amazonaws.com/1381-scraping/01/img-cars/aston-martin/aston-martin-2977916__340.jpg\" width=\"220\"/>\n",
              "</div>\n",
              "<div class=\"col-md-6 body-card\">\n",
              "<p class=\"txt-name inline\">ASTON MARTIN</p>\n",
              "<p class=\"txt-category badge badge-secondary inline\">USADO</p>\n",
              "<p class=\"txt-opportunity badge badge-danger inline\">OPORTUNIDADE</p>\n",
              "<p class=\"txt-motor\">Motor Diesel V6</p>\n",
              "<p class=\"txt-description\">Ano 2004 - 50.189 km</p>\n",
              "<ul class=\"lst-items\">\n",
              "<li class=\"txt-items\">► Painel digital</li>\n",
              "<li class=\"txt-items\">► Controle de tração</li>\n",
              "<li class=\"txt-items\">► Teto panorâmico</li>\n",
              "<li class=\"txt-items\">► Central multimídia</li>\n",
              "<li class=\"txt-items\">...</li>\n",
              "</ul>\n",
              "<p class=\"txt-location\">Belo Horizonte - MG</p>\n",
              "</div>\n",
              "<div class=\"col-md-3 value-card\">\n",
              "<div class=\"value\">\n",
              "<p class=\"txt-value\">R$ 239.000</p>\n",
              "</div>\n",
              "</div>\n",
              "</div>\n",
              "<div class=\"well card\">\n",
              "<div class=\"col-md-3 image-card\">\n",
              "<img alt=\"Foto\" height=\"155\" src=\"https://caelum-online-public.s3.amazonaws.com/1381-scraping/01/img-cars/tvr/tvr-2943925__340.jpg\" width=\"220\"/>\n",
              "</div>\n",
              "<div class=\"col-md-6 body-card\">\n",
              "<p class=\"txt-name inline\">TVR</p>\n",
              "<p class=\"txt-category badge badge-secondary inline\">USADO</p>\n",
              "<p class=\"txt-motor\">Motor 4.0 Turbo</p>\n",
              "<p class=\"txt-description\">Ano 2014 - 17.778 km</p>\n",
              "<ul class=\"lst-items\">\n",
              "<li class=\"txt-items\">► 4 X 4</li>\n",
              "<li class=\"txt-items\">► Teto panorâmico</li>\n",
              "<li class=\"txt-items\">► Central multimídia</li>\n",
              "<li class=\"txt-items\">► Controle de estabilidade</li>\n",
              "<li class=\"txt-items\">...</li>\n",
              "</ul>\n",
              "<p class=\"txt-location\">Belo Horizonte - MG</p>\n",
              "</div>\n",
              "<div class=\"col-md-3 value-card\">\n",
              "<div class=\"value\">\n",
              "<p class=\"txt-value\">R$ 115.000</p>\n",
              "</div>\n",
              "</div>\n",
              "</div>\n",
              "<div class=\"well card\">\n",
              "<div class=\"col-md-3 image-card\">\n",
              "<img alt=\"Foto\" height=\"155\" src=\"https://caelum-online-public.s3.amazonaws.com/1381-scraping/01/img-cars/excalibur/excalibur-2916730__340.jpg\" width=\"220\"/>\n",
              "</div>\n",
              "<div class=\"col-md-6 body-card\">\n",
              "<p class=\"txt-name inline\">EXCALIBUR</p>\n",
              "<p class=\"txt-category badge badge-secondary inline\">USADO</p>\n",
              "<p class=\"txt-motor\">Motor 3.0 32v</p>\n",
              "<p class=\"txt-description\">Ano 2009 - 81.251 km</p>\n",
              "<ul class=\"lst-items\">\n",
              "<li class=\"txt-items\">► Painel digital</li>\n",
              "<li class=\"txt-items\">► Câmbio automático</li>\n",
              "<li class=\"txt-items\">► Sensor de chuva</li>\n",
              "<li class=\"txt-items\">► Travas elétricas</li>\n",
              "<li class=\"txt-items\">...</li>\n",
              "</ul>\n",
              "<p class=\"txt-location\">Rio de Janeiro - RJ</p>\n",
              "</div>\n",
              "<div class=\"col-md-3 value-card\">\n",
              "<div class=\"value\">\n",
              "<p class=\"txt-value\">R$ 114.000</p>\n",
              "</div>\n",
              "</div>\n",
              "</div>\n",
              "<div class=\"well card\">\n",
              "<div class=\"col-md-3 image-card\">\n",
              "<img alt=\"Foto\" height=\"155\" src=\"https://caelum-online-public.s3.amazonaws.com/1381-scraping/01/img-cars/mclaren/mclaren-2855240__340.jpg\" width=\"220\"/>\n",
              "</div>\n",
              "<div class=\"col-md-6 body-card\">\n",
              "<p class=\"txt-name inline\">MCLAREN</p>\n",
              "<p class=\"txt-category badge badge-secondary inline\">NOVO</p>\n",
              "<p class=\"txt-motor\">Motor Diesel</p>\n",
              "<p class=\"txt-description\">Ano 2019 - 0 km</p>\n",
              "<ul class=\"lst-items\">\n",
              "<li class=\"txt-items\">► Central multimídia</li>\n",
              "<li class=\"txt-items\">► Câmera de estacionamento</li>\n",
              "<li class=\"txt-items\">► Câmbio automático</li>\n",
              "<li class=\"txt-items\">► Ar condicionado</li>\n",
              "<li class=\"txt-items\">...</li>\n",
              "</ul>\n",
              "<p class=\"txt-location\">São Paulo - SP</p>\n",
              "</div>\n",
              "<div class=\"col-md-3 value-card\">\n",
              "<div class=\"value\">\n",
              "<p class=\"txt-value\">R$ 75.000</p>\n",
              "</div>\n",
              "</div>\n",
              "</div>\n",
              "<div class=\"well card\">\n",
              "<div class=\"col-md-3 image-card\">\n",
              "<img alt=\"Foto\" height=\"155\" src=\"https://caelum-online-public.s3.amazonaws.com/1381-scraping/01/img-cars/toyota/toyota-3245397__340.jpg\" width=\"220\"/>\n",
              "</div>\n",
              "<div class=\"col-md-6 body-card\">\n",
              "<p class=\"txt-name inline\">TOYOTA</p>\n",
              "<p class=\"txt-category badge badge-secondary inline\">USADO</p>\n",
              "<p class=\"txt-opportunity badge badge-danger inline\">OPORTUNIDADE</p>\n",
              "<p class=\"txt-motor\">Motor 4.0 Turbo</p>\n",
              "<p class=\"txt-description\">Ano 1999 - 12.536 km</p>\n",
              "<ul class=\"lst-items\">\n",
              "<li class=\"txt-items\">► Bancos de couro</li>\n",
              "<li class=\"txt-items\">► Freios ABS</li>\n",
              "<li class=\"txt-items\">► Piloto automático</li>\n",
              "<li class=\"txt-items\">► Controle de estabilidade</li>\n",
              "<li class=\"txt-items\">...</li>\n",
              "</ul>\n",
              "<p class=\"txt-location\">São Paulo - SP</p>\n",
              "</div>\n",
              "<div class=\"col-md-3 value-card\">\n",
              "<div class=\"value\">\n",
              "<p class=\"txt-value\">R$ 117.000</p>\n",
              "</div>\n",
              "</div>\n",
              "</div> </div>\n",
              "<div class=\"type-select\">246 veículos encontrados</div>\n",
              "<div class=\"container-pagination\" style=\"float: right\">\n",
              "<span class=\"info-pages\">Página 1 de 25</span>\n",
              "</div>\n",
              "</div>\n",
              "</div>\n",
              "</div>"
            ]
          },
          "metadata": {
            "tags": []
          },
          "execution_count": 47
        }
      ]
    },
    {
      "cell_type": "code",
      "metadata": {
        "id": "ZQseNVnlSMiC",
        "colab_type": "code",
        "outputId": "e9be1f45-b500-4b15-81c5-0f96f1f3c314",
        "colab": {
          "base_uri": "https://localhost:8080/",
          "height": 1000
        }
      },
      "source": [
        "soup.find('h1').findNextSibling()"
      ],
      "execution_count": 48,
      "outputs": [
        {
          "output_type": "execute_result",
          "data": {
            "text/plain": [
              "<div class=\"row\">\n",
              "<div class=\"col-md-12\">\n",
              "<div class=\"container\" style=\"width: 100%\">\n",
              "<div class=\"type-select\">246 veículos encontrados</div>\n",
              "<div class=\"container-pagination\" style=\"float: right\">\n",
              "<span class=\"info-pages\">Página 1 de 25</span>\n",
              "</div>\n",
              "</div>\n",
              "<div id=\"container-cards\" style=\"height: 100%\">\n",
              "<div class=\"well card\">\n",
              "<div class=\"col-md-3 image-card\">\n",
              "<img alt=\"Foto\" height=\"155\" src=\"https://caelum-online-public.s3.amazonaws.com/1381-scraping/01/img-cars/lamborghini-aventador/lamborghini-aventador-2932196__340.jpg\" width=\"220\"/>\n",
              "</div>\n",
              "<div class=\"col-md-6 body-card\">\n",
              "<p class=\"txt-name inline\">LAMBORGHINI AVENTADOR</p>\n",
              "<p class=\"txt-category badge badge-secondary inline\">USADO</p>\n",
              "<p class=\"txt-motor\">Motor 1.8 16v</p>\n",
              "<p class=\"txt-description\">Ano 1993 - 55.286 km</p>\n",
              "<ul class=\"lst-items\">\n",
              "<li class=\"txt-items\">► 4 X 4</li>\n",
              "<li class=\"txt-items\">► Câmera de estacionamento</li>\n",
              "<li class=\"txt-items\">► Controle de tração</li>\n",
              "<li class=\"txt-items\">► Sensor de estacionamento</li>\n",
              "<li class=\"txt-items\">...</li>\n",
              "</ul>\n",
              "<p class=\"txt-location\">Belo Horizonte - MG</p>\n",
              "</div>\n",
              "<div class=\"col-md-3 value-card\">\n",
              "<div class=\"value\">\n",
              "<p class=\"txt-value\">R$ 338.000</p>\n",
              "</div>\n",
              "</div>\n",
              "</div>\n",
              "<div class=\"well card\">\n",
              "<div class=\"col-md-3 image-card\">\n",
              "<img alt=\"Foto\" height=\"155\" src=\"https://caelum-online-public.s3.amazonaws.com/1381-scraping/01/img-cars/bmw-m2/bmw-m2-2970882__340.jpg\" width=\"220\"/>\n",
              "</div>\n",
              "<div class=\"col-md-6 body-card\">\n",
              "<p class=\"txt-name inline\">BMW M2</p>\n",
              "<p class=\"txt-category badge badge-secondary inline\">USADO</p>\n",
              "<p class=\"txt-motor\">Motor 3.0 32v</p>\n",
              "<p class=\"txt-description\">Ano 2018 - 83.447 km</p>\n",
              "<ul class=\"lst-items\">\n",
              "<li class=\"txt-items\">► Câmera de estacionamento</li>\n",
              "<li class=\"txt-items\">► Controle de estabilidade</li>\n",
              "<li class=\"txt-items\">► Travas elétricas</li>\n",
              "<li class=\"txt-items\">► Freios ABS</li>\n",
              "<li class=\"txt-items\">...</li>\n",
              "</ul>\n",
              "<p class=\"txt-location\">Belo Horizonte - MG</p>\n",
              "</div>\n",
              "<div class=\"col-md-3 value-card\">\n",
              "<div class=\"value\">\n",
              "<p class=\"txt-value\">R$ 346.000</p>\n",
              "</div>\n",
              "</div>\n",
              "</div>\n",
              "<div class=\"well card\">\n",
              "<div class=\"col-md-3 image-card\">\n",
              "<img alt=\"Foto\" height=\"155\" src=\"https://caelum-online-public.s3.amazonaws.com/1381-scraping/01/img-cars/alfa/alfa-1823056__340.jpg\" width=\"220\"/>\n",
              "</div>\n",
              "<div class=\"col-md-6 body-card\">\n",
              "<p class=\"txt-name inline\">ALFA</p>\n",
              "<p class=\"txt-category badge badge-secondary inline\">USADO</p>\n",
              "<p class=\"txt-motor\">Motor 1.8 16v</p>\n",
              "<p class=\"txt-description\">Ano 2004 - 19.722 km</p>\n",
              "<ul class=\"lst-items\">\n",
              "<li class=\"txt-items\">► Central multimídia</li>\n",
              "<li class=\"txt-items\">► Bancos de couro</li>\n",
              "<li class=\"txt-items\">► Rodas de liga</li>\n",
              "<li class=\"txt-items\">► Câmera de estacionamento</li>\n",
              "<li class=\"txt-items\">...</li>\n",
              "</ul>\n",
              "<p class=\"txt-location\">Rio de Janeiro - RJ</p>\n",
              "</div>\n",
              "<div class=\"col-md-3 value-card\">\n",
              "<div class=\"value\">\n",
              "<p class=\"txt-value\">R$ 480.000</p>\n",
              "</div>\n",
              "</div>\n",
              "</div>\n",
              "<div class=\"well card\">\n",
              "<div class=\"col-md-3 image-card\">\n",
              "<img alt=\"Foto\" height=\"155\" src=\"https://caelum-online-public.s3.amazonaws.com/1381-scraping/01/img-cars/puech/puech-4055386__340.jpg\" width=\"220\"/>\n",
              "</div>\n",
              "<div class=\"col-md-6 body-card\">\n",
              "<p class=\"txt-name inline\">PUECH</p>\n",
              "<p class=\"txt-category badge badge-secondary inline\">USADO</p>\n",
              "<p class=\"txt-motor\">Motor Diesel V8</p>\n",
              "<p class=\"txt-description\">Ano 1992 - 34.335 km</p>\n",
              "<ul class=\"lst-items\">\n",
              "<li class=\"txt-items\">► Bancos de couro</li>\n",
              "<li class=\"txt-items\">► Freios ABS</li>\n",
              "<li class=\"txt-items\">► Rodas de liga</li>\n",
              "<li class=\"txt-items\">► Câmbio automático</li>\n",
              "<li class=\"txt-items\">...</li>\n",
              "</ul>\n",
              "<p class=\"txt-location\">São Paulo - SP</p>\n",
              "</div>\n",
              "<div class=\"col-md-3 value-card\">\n",
              "<div class=\"value\">\n",
              "<p class=\"txt-value\">R$ 133.000</p>\n",
              "</div>\n",
              "</div>\n",
              "</div>\n",
              "<div class=\"well card\">\n",
              "<div class=\"col-md-3 image-card\">\n",
              "<img alt=\"Foto\" height=\"155\" src=\"https://caelum-online-public.s3.amazonaws.com/1381-scraping/01/img-cars/lamborghini-murcielago/lamborghini-murcielago-2872974__340.jpg\" width=\"220\"/>\n",
              "</div>\n",
              "<div class=\"col-md-6 body-card\">\n",
              "<p class=\"txt-name inline\">LAMBORGHINI MURCIELAGO</p>\n",
              "<p class=\"txt-category badge badge-secondary inline\">USADO</p>\n",
              "<p class=\"txt-motor\">Motor 1.0 8v</p>\n",
              "<p class=\"txt-description\">Ano 1991 - 464 km</p>\n",
              "<ul class=\"lst-items\">\n",
              "<li class=\"txt-items\">► Central multimídia</li>\n",
              "<li class=\"txt-items\">► Teto panorâmico</li>\n",
              "<li class=\"txt-items\">► Sensor crepuscular</li>\n",
              "<li class=\"txt-items\">► Piloto automático</li>\n",
              "<li class=\"txt-items\">...</li>\n",
              "</ul>\n",
              "<p class=\"txt-location\">Belo Horizonte - MG</p>\n",
              "</div>\n",
              "<div class=\"col-md-3 value-card\">\n",
              "<div class=\"value\">\n",
              "<p class=\"txt-value\">R$ 175.000</p>\n",
              "</div>\n",
              "</div>\n",
              "</div>\n",
              "<div class=\"well card\">\n",
              "<div class=\"col-md-3 image-card\">\n",
              "<img alt=\"Foto\" height=\"155\" src=\"https://caelum-online-public.s3.amazonaws.com/1381-scraping/01/img-cars/aston-martin/aston-martin-2977916__340.jpg\" width=\"220\"/>\n",
              "</div>\n",
              "<div class=\"col-md-6 body-card\">\n",
              "<p class=\"txt-name inline\">ASTON MARTIN</p>\n",
              "<p class=\"txt-category badge badge-secondary inline\">USADO</p>\n",
              "<p class=\"txt-opportunity badge badge-danger inline\">OPORTUNIDADE</p>\n",
              "<p class=\"txt-motor\">Motor Diesel V6</p>\n",
              "<p class=\"txt-description\">Ano 2004 - 50.189 km</p>\n",
              "<ul class=\"lst-items\">\n",
              "<li class=\"txt-items\">► Painel digital</li>\n",
              "<li class=\"txt-items\">► Controle de tração</li>\n",
              "<li class=\"txt-items\">► Teto panorâmico</li>\n",
              "<li class=\"txt-items\">► Central multimídia</li>\n",
              "<li class=\"txt-items\">...</li>\n",
              "</ul>\n",
              "<p class=\"txt-location\">Belo Horizonte - MG</p>\n",
              "</div>\n",
              "<div class=\"col-md-3 value-card\">\n",
              "<div class=\"value\">\n",
              "<p class=\"txt-value\">R$ 239.000</p>\n",
              "</div>\n",
              "</div>\n",
              "</div>\n",
              "<div class=\"well card\">\n",
              "<div class=\"col-md-3 image-card\">\n",
              "<img alt=\"Foto\" height=\"155\" src=\"https://caelum-online-public.s3.amazonaws.com/1381-scraping/01/img-cars/tvr/tvr-2943925__340.jpg\" width=\"220\"/>\n",
              "</div>\n",
              "<div class=\"col-md-6 body-card\">\n",
              "<p class=\"txt-name inline\">TVR</p>\n",
              "<p class=\"txt-category badge badge-secondary inline\">USADO</p>\n",
              "<p class=\"txt-motor\">Motor 4.0 Turbo</p>\n",
              "<p class=\"txt-description\">Ano 2014 - 17.778 km</p>\n",
              "<ul class=\"lst-items\">\n",
              "<li class=\"txt-items\">► 4 X 4</li>\n",
              "<li class=\"txt-items\">► Teto panorâmico</li>\n",
              "<li class=\"txt-items\">► Central multimídia</li>\n",
              "<li class=\"txt-items\">► Controle de estabilidade</li>\n",
              "<li class=\"txt-items\">...</li>\n",
              "</ul>\n",
              "<p class=\"txt-location\">Belo Horizonte - MG</p>\n",
              "</div>\n",
              "<div class=\"col-md-3 value-card\">\n",
              "<div class=\"value\">\n",
              "<p class=\"txt-value\">R$ 115.000</p>\n",
              "</div>\n",
              "</div>\n",
              "</div>\n",
              "<div class=\"well card\">\n",
              "<div class=\"col-md-3 image-card\">\n",
              "<img alt=\"Foto\" height=\"155\" src=\"https://caelum-online-public.s3.amazonaws.com/1381-scraping/01/img-cars/excalibur/excalibur-2916730__340.jpg\" width=\"220\"/>\n",
              "</div>\n",
              "<div class=\"col-md-6 body-card\">\n",
              "<p class=\"txt-name inline\">EXCALIBUR</p>\n",
              "<p class=\"txt-category badge badge-secondary inline\">USADO</p>\n",
              "<p class=\"txt-motor\">Motor 3.0 32v</p>\n",
              "<p class=\"txt-description\">Ano 2009 - 81.251 km</p>\n",
              "<ul class=\"lst-items\">\n",
              "<li class=\"txt-items\">► Painel digital</li>\n",
              "<li class=\"txt-items\">► Câmbio automático</li>\n",
              "<li class=\"txt-items\">► Sensor de chuva</li>\n",
              "<li class=\"txt-items\">► Travas elétricas</li>\n",
              "<li class=\"txt-items\">...</li>\n",
              "</ul>\n",
              "<p class=\"txt-location\">Rio de Janeiro - RJ</p>\n",
              "</div>\n",
              "<div class=\"col-md-3 value-card\">\n",
              "<div class=\"value\">\n",
              "<p class=\"txt-value\">R$ 114.000</p>\n",
              "</div>\n",
              "</div>\n",
              "</div>\n",
              "<div class=\"well card\">\n",
              "<div class=\"col-md-3 image-card\">\n",
              "<img alt=\"Foto\" height=\"155\" src=\"https://caelum-online-public.s3.amazonaws.com/1381-scraping/01/img-cars/mclaren/mclaren-2855240__340.jpg\" width=\"220\"/>\n",
              "</div>\n",
              "<div class=\"col-md-6 body-card\">\n",
              "<p class=\"txt-name inline\">MCLAREN</p>\n",
              "<p class=\"txt-category badge badge-secondary inline\">NOVO</p>\n",
              "<p class=\"txt-motor\">Motor Diesel</p>\n",
              "<p class=\"txt-description\">Ano 2019 - 0 km</p>\n",
              "<ul class=\"lst-items\">\n",
              "<li class=\"txt-items\">► Central multimídia</li>\n",
              "<li class=\"txt-items\">► Câmera de estacionamento</li>\n",
              "<li class=\"txt-items\">► Câmbio automático</li>\n",
              "<li class=\"txt-items\">► Ar condicionado</li>\n",
              "<li class=\"txt-items\">...</li>\n",
              "</ul>\n",
              "<p class=\"txt-location\">São Paulo - SP</p>\n",
              "</div>\n",
              "<div class=\"col-md-3 value-card\">\n",
              "<div class=\"value\">\n",
              "<p class=\"txt-value\">R$ 75.000</p>\n",
              "</div>\n",
              "</div>\n",
              "</div>\n",
              "<div class=\"well card\">\n",
              "<div class=\"col-md-3 image-card\">\n",
              "<img alt=\"Foto\" height=\"155\" src=\"https://caelum-online-public.s3.amazonaws.com/1381-scraping/01/img-cars/toyota/toyota-3245397__340.jpg\" width=\"220\"/>\n",
              "</div>\n",
              "<div class=\"col-md-6 body-card\">\n",
              "<p class=\"txt-name inline\">TOYOTA</p>\n",
              "<p class=\"txt-category badge badge-secondary inline\">USADO</p>\n",
              "<p class=\"txt-opportunity badge badge-danger inline\">OPORTUNIDADE</p>\n",
              "<p class=\"txt-motor\">Motor 4.0 Turbo</p>\n",
              "<p class=\"txt-description\">Ano 1999 - 12.536 km</p>\n",
              "<ul class=\"lst-items\">\n",
              "<li class=\"txt-items\">► Bancos de couro</li>\n",
              "<li class=\"txt-items\">► Freios ABS</li>\n",
              "<li class=\"txt-items\">► Piloto automático</li>\n",
              "<li class=\"txt-items\">► Controle de estabilidade</li>\n",
              "<li class=\"txt-items\">...</li>\n",
              "</ul>\n",
              "<p class=\"txt-location\">São Paulo - SP</p>\n",
              "</div>\n",
              "<div class=\"col-md-3 value-card\">\n",
              "<div class=\"value\">\n",
              "<p class=\"txt-value\">R$ 117.000</p>\n",
              "</div>\n",
              "</div>\n",
              "</div> </div>\n",
              "<div class=\"type-select\">246 veículos encontrados</div>\n",
              "<div class=\"container-pagination\" style=\"float: right\">\n",
              "<span class=\"info-pages\">Página 1 de 25</span>\n",
              "</div>\n",
              "</div>\n",
              "</div>"
            ]
          },
          "metadata": {
            "tags": []
          },
          "execution_count": 48
        }
      ]
    },
    {
      "cell_type": "code",
      "metadata": {
        "id": "Gn3i7UfuScLy",
        "colab_type": "code",
        "colab": {}
      },
      "source": [
        "soup.find('p').findPreviousSibling()"
      ],
      "execution_count": 0,
      "outputs": []
    },
    {
      "cell_type": "markdown",
      "metadata": {
        "id": "xjKQA4IzTjQs",
        "colab_type": "text"
      },
      "source": [
        "## 05. Capturando dados do anúncio"
      ]
    },
    {
      "cell_type": "code",
      "metadata": {
        "id": "LbNH_6JyTtJI",
        "colab_type": "code",
        "colab": {}
      },
      "source": [
        "cards = []\n",
        "card = {}"
      ],
      "execution_count": 0,
      "outputs": []
    },
    {
      "cell_type": "markdown",
      "metadata": {
        "id": "hdJpwE_ryc5x",
        "colab_type": "text"
      },
      "source": [
        "* Obtendo os dados do primeiro card"
      ]
    },
    {
      "cell_type": "code",
      "metadata": {
        "id": "PLD-HDRXygd0",
        "colab_type": "code",
        "outputId": "8d490603-4374-4626-b7cb-0feb6bfc8dd7",
        "colab": {
          "base_uri": "https://localhost:8080/",
          "height": 458
        }
      },
      "source": [
        "anuncio = soup.find('div', {'class': 'well card'})\n",
        "anuncio"
      ],
      "execution_count": 51,
      "outputs": [
        {
          "output_type": "execute_result",
          "data": {
            "text/plain": [
              "<div class=\"well card\">\n",
              "<div class=\"col-md-3 image-card\">\n",
              "<img alt=\"Foto\" height=\"155\" src=\"https://caelum-online-public.s3.amazonaws.com/1381-scraping/01/img-cars/lamborghini-aventador/lamborghini-aventador-2932196__340.jpg\" width=\"220\"/>\n",
              "</div>\n",
              "<div class=\"col-md-6 body-card\">\n",
              "<p class=\"txt-name inline\">LAMBORGHINI AVENTADOR</p>\n",
              "<p class=\"txt-category badge badge-secondary inline\">USADO</p>\n",
              "<p class=\"txt-motor\">Motor 1.8 16v</p>\n",
              "<p class=\"txt-description\">Ano 1993 - 55.286 km</p>\n",
              "<ul class=\"lst-items\">\n",
              "<li class=\"txt-items\">► 4 X 4</li>\n",
              "<li class=\"txt-items\">► Câmera de estacionamento</li>\n",
              "<li class=\"txt-items\">► Controle de tração</li>\n",
              "<li class=\"txt-items\">► Sensor de estacionamento</li>\n",
              "<li class=\"txt-items\">...</li>\n",
              "</ul>\n",
              "<p class=\"txt-location\">Belo Horizonte - MG</p>\n",
              "</div>\n",
              "<div class=\"col-md-3 value-card\">\n",
              "<div class=\"value\">\n",
              "<p class=\"txt-value\">R$ 338.000</p>\n",
              "</div>\n",
              "</div>\n",
              "</div>"
            ]
          },
          "metadata": {
            "tags": []
          },
          "execution_count": 51
        }
      ]
    },
    {
      "cell_type": "code",
      "metadata": {
        "id": "H5YoRt2fzSBX",
        "colab_type": "code",
        "outputId": "888f0857-b4ef-4155-fce5-187042dd770f",
        "colab": {
          "base_uri": "https://localhost:8080/",
          "height": 109
        }
      },
      "source": [
        "anuncio.find('div', {'class': 'value-card'})"
      ],
      "execution_count": 52,
      "outputs": [
        {
          "output_type": "execute_result",
          "data": {
            "text/plain": [
              "<div class=\"col-md-3 value-card\">\n",
              "<div class=\"value\">\n",
              "<p class=\"txt-value\">R$ 338.000</p>\n",
              "</div>\n",
              "</div>"
            ]
          },
          "metadata": {
            "tags": []
          },
          "execution_count": 52
        }
      ]
    },
    {
      "cell_type": "code",
      "metadata": {
        "id": "s1or0ZQ60XRm",
        "colab_type": "code",
        "outputId": "dd7d8c9e-1fe2-44f8-a48a-a16e75771ae4",
        "colab": {
          "base_uri": "https://localhost:8080/",
          "height": 35
        }
      },
      "source": [
        "anuncio.find('p', {'class': 'txt-value'}).get_text()"
      ],
      "execution_count": 53,
      "outputs": [
        {
          "output_type": "execute_result",
          "data": {
            "text/plain": [
              "'R$ 338.000'"
            ]
          },
          "metadata": {
            "tags": []
          },
          "execution_count": 53
        }
      ]
    },
    {
      "cell_type": "code",
      "metadata": {
        "id": "-eM4l3kN0nKd",
        "colab_type": "code",
        "outputId": "e8052333-eebd-4248-c4ec-9b67af25cc69",
        "colab": {
          "base_uri": "https://localhost:8080/",
          "height": 35
        }
      },
      "source": [
        "card['value'] = anuncio.find('p', {'class': 'txt-value'}).get_text()\n",
        "card"
      ],
      "execution_count": 54,
      "outputs": [
        {
          "output_type": "execute_result",
          "data": {
            "text/plain": [
              "{'value': 'R$ 338.000'}"
            ]
          },
          "metadata": {
            "tags": []
          },
          "execution_count": 54
        }
      ]
    },
    {
      "cell_type": "code",
      "metadata": {
        "id": "QyAdq3kC0yM-",
        "colab_type": "code",
        "outputId": "6d14064d-6d90-4856-90b3-26ec740f02d1",
        "colab": {
          "base_uri": "https://localhost:8080/",
          "height": 274
        }
      },
      "source": [
        "anuncio.find('div', {'class': 'body-card'})"
      ],
      "execution_count": 55,
      "outputs": [
        {
          "output_type": "execute_result",
          "data": {
            "text/plain": [
              "<div class=\"col-md-6 body-card\">\n",
              "<p class=\"txt-name inline\">LAMBORGHINI AVENTADOR</p>\n",
              "<p class=\"txt-category badge badge-secondary inline\">USADO</p>\n",
              "<p class=\"txt-motor\">Motor 1.8 16v</p>\n",
              "<p class=\"txt-description\">Ano 1993 - 55.286 km</p>\n",
              "<ul class=\"lst-items\">\n",
              "<li class=\"txt-items\">► 4 X 4</li>\n",
              "<li class=\"txt-items\">► Câmera de estacionamento</li>\n",
              "<li class=\"txt-items\">► Controle de tração</li>\n",
              "<li class=\"txt-items\">► Sensor de estacionamento</li>\n",
              "<li class=\"txt-items\">...</li>\n",
              "</ul>\n",
              "<p class=\"txt-location\">Belo Horizonte - MG</p>\n",
              "</div>"
            ]
          },
          "metadata": {
            "tags": []
          },
          "execution_count": 55
        }
      ]
    },
    {
      "cell_type": "code",
      "metadata": {
        "id": "vlq9KZvj16ML",
        "colab_type": "code",
        "outputId": "8d59ecb2-6953-40a1-91e8-f9eebe39b844",
        "colab": {
          "base_uri": "https://localhost:8080/",
          "height": 109
        }
      },
      "source": [
        "anuncio.find('div', {'class': 'body-card'}).findAll('p')"
      ],
      "execution_count": 56,
      "outputs": [
        {
          "output_type": "execute_result",
          "data": {
            "text/plain": [
              "[<p class=\"txt-name inline\">LAMBORGHINI AVENTADOR</p>,\n",
              " <p class=\"txt-category badge badge-secondary inline\">USADO</p>,\n",
              " <p class=\"txt-motor\">Motor 1.8 16v</p>,\n",
              " <p class=\"txt-description\">Ano 1993 - 55.286 km</p>,\n",
              " <p class=\"txt-location\">Belo Horizonte - MG</p>]"
            ]
          },
          "metadata": {
            "tags": []
          },
          "execution_count": 56
        }
      ]
    },
    {
      "cell_type": "code",
      "metadata": {
        "id": "xOFuz40X1_f9",
        "colab_type": "code",
        "colab": {}
      },
      "source": [
        "infos = anuncio.find('div', {'class': 'body-card'}).findAll('p')"
      ],
      "execution_count": 0,
      "outputs": []
    },
    {
      "cell_type": "code",
      "metadata": {
        "id": "8j6FtmC62Mlh",
        "colab_type": "code",
        "outputId": "b1a42c0e-31a1-4247-835f-4dd190664a02",
        "colab": {
          "base_uri": "https://localhost:8080/",
          "height": 109
        }
      },
      "source": [
        "for info in infos:\n",
        "  print(info.get('class'), ' - ', info.get_text())"
      ],
      "execution_count": 58,
      "outputs": [
        {
          "output_type": "stream",
          "text": [
            "['txt-name', 'inline']  -  LAMBORGHINI AVENTADOR\n",
            "['txt-category', 'badge', 'badge-secondary', 'inline']  -  USADO\n",
            "['txt-motor']  -  Motor 1.8 16v\n",
            "['txt-description']  -  Ano 1993 - 55.286 km\n",
            "['txt-location']  -  Belo Horizonte - MG\n"
          ],
          "name": "stdout"
        }
      ]
    },
    {
      "cell_type": "code",
      "metadata": {
        "id": "-HGII_1P2RUL",
        "colab_type": "code",
        "outputId": "fddc6468-d01a-420c-f1e6-42f1cee93310",
        "colab": {
          "base_uri": "https://localhost:8080/",
          "height": 109
        }
      },
      "source": [
        "for info in infos:\n",
        "  print(info.get('class')[0].split('-'), ' - ', info.get_text())"
      ],
      "execution_count": 59,
      "outputs": [
        {
          "output_type": "stream",
          "text": [
            "['txt', 'name']  -  LAMBORGHINI AVENTADOR\n",
            "['txt', 'category']  -  USADO\n",
            "['txt', 'motor']  -  Motor 1.8 16v\n",
            "['txt', 'description']  -  Ano 1993 - 55.286 km\n",
            "['txt', 'location']  -  Belo Horizonte - MG\n"
          ],
          "name": "stdout"
        }
      ]
    },
    {
      "cell_type": "code",
      "metadata": {
        "id": "X5gG5wg52tIr",
        "colab_type": "code",
        "outputId": "9a809bc0-f1d0-4369-fc3a-282741b5fa12",
        "colab": {
          "base_uri": "https://localhost:8080/",
          "height": 109
        }
      },
      "source": [
        "for info in infos:\n",
        "  print(info.get('class')[0].split('-')[-1], ' - ', info.get_text())"
      ],
      "execution_count": 60,
      "outputs": [
        {
          "output_type": "stream",
          "text": [
            "name  -  LAMBORGHINI AVENTADOR\n",
            "category  -  USADO\n",
            "motor  -  Motor 1.8 16v\n",
            "description  -  Ano 1993 - 55.286 km\n",
            "location  -  Belo Horizonte - MG\n"
          ],
          "name": "stdout"
        }
      ]
    },
    {
      "cell_type": "code",
      "metadata": {
        "id": "pYsivR9t29OC",
        "colab_type": "code",
        "colab": {}
      },
      "source": [
        "for info in infos:\n",
        "  card[info.get('class')[0].split('-')[-1]] = info.get_text()"
      ],
      "execution_count": 0,
      "outputs": []
    },
    {
      "cell_type": "code",
      "metadata": {
        "id": "CtetOtLN3Pla",
        "colab_type": "code",
        "outputId": "51c7a4ca-31c2-43db-ae3c-ffe7887de913",
        "colab": {
          "base_uri": "https://localhost:8080/",
          "height": 127
        }
      },
      "source": [
        "card"
      ],
      "execution_count": 62,
      "outputs": [
        {
          "output_type": "execute_result",
          "data": {
            "text/plain": [
              "{'category': 'USADO',\n",
              " 'description': 'Ano 1993 - 55.286 km',\n",
              " 'location': 'Belo Horizonte - MG',\n",
              " 'motor': 'Motor 1.8 16v',\n",
              " 'name': 'LAMBORGHINI AVENTADOR',\n",
              " 'value': 'R$ 338.000'}"
            ]
          },
          "metadata": {
            "tags": []
          },
          "execution_count": 62
        }
      ]
    },
    {
      "cell_type": "markdown",
      "metadata": {
        "id": "OxezluBD4S7k",
        "colab_type": "text"
      },
      "source": [
        "* Acessórios"
      ]
    },
    {
      "cell_type": "code",
      "metadata": {
        "id": "v-V9A_zP3Qc8",
        "colab_type": "code",
        "outputId": "83f4364b-671f-4c87-82aa-2bf5bd96e93b",
        "colab": {
          "base_uri": "https://localhost:8080/",
          "height": 109
        }
      },
      "source": [
        "anuncio.find('div', {'class': 'body-card'}).ul.findAll('li')"
      ],
      "execution_count": 63,
      "outputs": [
        {
          "output_type": "execute_result",
          "data": {
            "text/plain": [
              "[<li class=\"txt-items\">► 4 X 4</li>,\n",
              " <li class=\"txt-items\">► Câmera de estacionamento</li>,\n",
              " <li class=\"txt-items\">► Controle de tração</li>,\n",
              " <li class=\"txt-items\">► Sensor de estacionamento</li>,\n",
              " <li class=\"txt-items\">...</li>]"
            ]
          },
          "metadata": {
            "tags": []
          },
          "execution_count": 63
        }
      ]
    },
    {
      "cell_type": "code",
      "metadata": {
        "id": "16P5sjLU4fT-",
        "colab_type": "code",
        "outputId": "7aff4e97-436c-499a-8b54-69174ab610aa",
        "colab": {
          "base_uri": "https://localhost:8080/",
          "height": 109
        }
      },
      "source": [
        "items = anuncio.find('div', {'class': 'body-card'}).ul.findAll('li')\n",
        "items"
      ],
      "execution_count": 64,
      "outputs": [
        {
          "output_type": "execute_result",
          "data": {
            "text/plain": [
              "[<li class=\"txt-items\">► 4 X 4</li>,\n",
              " <li class=\"txt-items\">► Câmera de estacionamento</li>,\n",
              " <li class=\"txt-items\">► Controle de tração</li>,\n",
              " <li class=\"txt-items\">► Sensor de estacionamento</li>,\n",
              " <li class=\"txt-items\">...</li>]"
            ]
          },
          "metadata": {
            "tags": []
          },
          "execution_count": 64
        }
      ]
    },
    {
      "cell_type": "code",
      "metadata": {
        "id": "W9d9Ly7I4uON",
        "colab_type": "code",
        "outputId": "68bbe7ed-3035-4ebe-be4d-71c12db1d163",
        "colab": {
          "base_uri": "https://localhost:8080/",
          "height": 35
        }
      },
      "source": [
        "items.pop()"
      ],
      "execution_count": 65,
      "outputs": [
        {
          "output_type": "execute_result",
          "data": {
            "text/plain": [
              "<li class=\"txt-items\">...</li>"
            ]
          },
          "metadata": {
            "tags": []
          },
          "execution_count": 65
        }
      ]
    },
    {
      "cell_type": "code",
      "metadata": {
        "id": "kT2Y4-M64zhb",
        "colab_type": "code",
        "outputId": "7540422a-1099-41db-c8bc-1e95097135b5",
        "colab": {
          "base_uri": "https://localhost:8080/",
          "height": 90
        }
      },
      "source": [
        "items"
      ],
      "execution_count": 66,
      "outputs": [
        {
          "output_type": "execute_result",
          "data": {
            "text/plain": [
              "[<li class=\"txt-items\">► 4 X 4</li>,\n",
              " <li class=\"txt-items\">► Câmera de estacionamento</li>,\n",
              " <li class=\"txt-items\">► Controle de tração</li>,\n",
              " <li class=\"txt-items\">► Sensor de estacionamento</li>]"
            ]
          },
          "metadata": {
            "tags": []
          },
          "execution_count": 66
        }
      ]
    },
    {
      "cell_type": "code",
      "metadata": {
        "id": "RKWeqdDP42WL",
        "colab_type": "code",
        "outputId": "f38365e1-3a79-4c73-acf5-cc3570f059d3",
        "colab": {
          "base_uri": "https://localhost:8080/",
          "height": 90
        }
      },
      "source": [
        "for item in items:\n",
        "  print(item.get_text())"
      ],
      "execution_count": 67,
      "outputs": [
        {
          "output_type": "stream",
          "text": [
            "► 4 X 4\n",
            "► Câmera de estacionamento\n",
            "► Controle de tração\n",
            "► Sensor de estacionamento\n"
          ],
          "name": "stdout"
        }
      ]
    },
    {
      "cell_type": "code",
      "metadata": {
        "id": "jckk99AY4-Or",
        "colab_type": "code",
        "outputId": "6c8f93aa-348a-417b-fa45-c9f8ccc05812",
        "colab": {
          "base_uri": "https://localhost:8080/",
          "height": 90
        }
      },
      "source": [
        "for item in items:\n",
        "  print(item.get_text().replace('►', ''))"
      ],
      "execution_count": 68,
      "outputs": [
        {
          "output_type": "stream",
          "text": [
            " 4 X 4\n",
            " Câmera de estacionamento\n",
            " Controle de tração\n",
            " Sensor de estacionamento\n"
          ],
          "name": "stdout"
        }
      ]
    },
    {
      "cell_type": "code",
      "metadata": {
        "id": "S9ZPNb335IRK",
        "colab_type": "code",
        "outputId": "09cc50fc-88a6-497e-ad5d-c1e9b738dd45",
        "colab": {
          "base_uri": "https://localhost:8080/",
          "height": 90
        }
      },
      "source": [
        "acessorios = []\n",
        "\n",
        "for item in items:\n",
        "  acessorios.append(item.get_text().replace('► ', ''))\n",
        "  \n",
        "acessorios"
      ],
      "execution_count": 69,
      "outputs": [
        {
          "output_type": "execute_result",
          "data": {
            "text/plain": [
              "['4 X 4',\n",
              " 'Câmera de estacionamento',\n",
              " 'Controle de tração',\n",
              " 'Sensor de estacionamento']"
            ]
          },
          "metadata": {
            "tags": []
          },
          "execution_count": 69
        }
      ]
    },
    {
      "cell_type": "code",
      "metadata": {
        "id": "dwhwsB_05Za7",
        "colab_type": "code",
        "outputId": "8ede3b64-074d-4b5e-baa6-ffe60d86e5b6",
        "colab": {
          "base_uri": "https://localhost:8080/",
          "height": 201
        }
      },
      "source": [
        "card['items'] = acessorios\n",
        "card"
      ],
      "execution_count": 70,
      "outputs": [
        {
          "output_type": "execute_result",
          "data": {
            "text/plain": [
              "{'category': 'USADO',\n",
              " 'description': 'Ano 1993 - 55.286 km',\n",
              " 'items': ['4 X 4',\n",
              "  'Câmera de estacionamento',\n",
              "  'Controle de tração',\n",
              "  'Sensor de estacionamento'],\n",
              " 'location': 'Belo Horizonte - MG',\n",
              " 'motor': 'Motor 1.8 16v',\n",
              " 'name': 'LAMBORGHINI AVENTADOR',\n",
              " 'value': 'R$ 338.000'}"
            ]
          },
          "metadata": {
            "tags": []
          },
          "execution_count": 70
        }
      ]
    },
    {
      "cell_type": "markdown",
      "metadata": {
        "id": "cvpp5iKc52Ds",
        "colab_type": "text"
      },
      "source": [
        "* DataFrame"
      ]
    },
    {
      "cell_type": "code",
      "metadata": {
        "id": "FDZt6KgF5koq",
        "colab_type": "code",
        "colab": {
          "base_uri": "https://localhost:8080/",
          "height": 175
        },
        "outputId": "6f03482b-17b4-4147-e7ad-aa960f1453c0"
      },
      "source": [
        "dataset = pd.DataFrame(card)\n",
        "dataset"
      ],
      "execution_count": 72,
      "outputs": [
        {
          "output_type": "execute_result",
          "data": {
            "text/html": [
              "<div>\n",
              "<style scoped>\n",
              "    .dataframe tbody tr th:only-of-type {\n",
              "        vertical-align: middle;\n",
              "    }\n",
              "\n",
              "    .dataframe tbody tr th {\n",
              "        vertical-align: top;\n",
              "    }\n",
              "\n",
              "    .dataframe thead th {\n",
              "        text-align: right;\n",
              "    }\n",
              "</style>\n",
              "<table border=\"1\" class=\"dataframe\">\n",
              "  <thead>\n",
              "    <tr style=\"text-align: right;\">\n",
              "      <th></th>\n",
              "      <th>value</th>\n",
              "      <th>name</th>\n",
              "      <th>category</th>\n",
              "      <th>motor</th>\n",
              "      <th>description</th>\n",
              "      <th>location</th>\n",
              "      <th>items</th>\n",
              "    </tr>\n",
              "  </thead>\n",
              "  <tbody>\n",
              "    <tr>\n",
              "      <th>0</th>\n",
              "      <td>R$ 338.000</td>\n",
              "      <td>LAMBORGHINI AVENTADOR</td>\n",
              "      <td>USADO</td>\n",
              "      <td>Motor 1.8 16v</td>\n",
              "      <td>Ano 1993 - 55.286 km</td>\n",
              "      <td>Belo Horizonte - MG</td>\n",
              "      <td>4 X 4</td>\n",
              "    </tr>\n",
              "    <tr>\n",
              "      <th>1</th>\n",
              "      <td>R$ 338.000</td>\n",
              "      <td>LAMBORGHINI AVENTADOR</td>\n",
              "      <td>USADO</td>\n",
              "      <td>Motor 1.8 16v</td>\n",
              "      <td>Ano 1993 - 55.286 km</td>\n",
              "      <td>Belo Horizonte - MG</td>\n",
              "      <td>Câmera de estacionamento</td>\n",
              "    </tr>\n",
              "    <tr>\n",
              "      <th>2</th>\n",
              "      <td>R$ 338.000</td>\n",
              "      <td>LAMBORGHINI AVENTADOR</td>\n",
              "      <td>USADO</td>\n",
              "      <td>Motor 1.8 16v</td>\n",
              "      <td>Ano 1993 - 55.286 km</td>\n",
              "      <td>Belo Horizonte - MG</td>\n",
              "      <td>Controle de tração</td>\n",
              "    </tr>\n",
              "    <tr>\n",
              "      <th>3</th>\n",
              "      <td>R$ 338.000</td>\n",
              "      <td>LAMBORGHINI AVENTADOR</td>\n",
              "      <td>USADO</td>\n",
              "      <td>Motor 1.8 16v</td>\n",
              "      <td>Ano 1993 - 55.286 km</td>\n",
              "      <td>Belo Horizonte - MG</td>\n",
              "      <td>Sensor de estacionamento</td>\n",
              "    </tr>\n",
              "  </tbody>\n",
              "</table>\n",
              "</div>"
            ],
            "text/plain": [
              "        value  ...                     items\n",
              "0  R$ 338.000  ...                     4 X 4\n",
              "1  R$ 338.000  ...  Câmera de estacionamento\n",
              "2  R$ 338.000  ...        Controle de tração\n",
              "3  R$ 338.000  ...  Sensor de estacionamento\n",
              "\n",
              "[4 rows x 7 columns]"
            ]
          },
          "metadata": {
            "tags": []
          },
          "execution_count": 72
        }
      ]
    },
    {
      "cell_type": "code",
      "metadata": {
        "id": "TF7gDBB5ssD4",
        "colab_type": "code",
        "colab": {
          "base_uri": "https://localhost:8080/",
          "height": 269
        },
        "outputId": "8e4146c0-0eb3-43b3-d0f3-3ccd0ad31493"
      },
      "source": [
        "dataset = pd.DataFrame.from_dict(card, orient = 'index')\n",
        "dataset"
      ],
      "execution_count": 73,
      "outputs": [
        {
          "output_type": "execute_result",
          "data": {
            "text/html": [
              "<div>\n",
              "<style scoped>\n",
              "    .dataframe tbody tr th:only-of-type {\n",
              "        vertical-align: middle;\n",
              "    }\n",
              "\n",
              "    .dataframe tbody tr th {\n",
              "        vertical-align: top;\n",
              "    }\n",
              "\n",
              "    .dataframe thead th {\n",
              "        text-align: right;\n",
              "    }\n",
              "</style>\n",
              "<table border=\"1\" class=\"dataframe\">\n",
              "  <thead>\n",
              "    <tr style=\"text-align: right;\">\n",
              "      <th></th>\n",
              "      <th>0</th>\n",
              "    </tr>\n",
              "  </thead>\n",
              "  <tbody>\n",
              "    <tr>\n",
              "      <th>value</th>\n",
              "      <td>R$ 338.000</td>\n",
              "    </tr>\n",
              "    <tr>\n",
              "      <th>name</th>\n",
              "      <td>LAMBORGHINI AVENTADOR</td>\n",
              "    </tr>\n",
              "    <tr>\n",
              "      <th>category</th>\n",
              "      <td>USADO</td>\n",
              "    </tr>\n",
              "    <tr>\n",
              "      <th>motor</th>\n",
              "      <td>Motor 1.8 16v</td>\n",
              "    </tr>\n",
              "    <tr>\n",
              "      <th>description</th>\n",
              "      <td>Ano 1993 - 55.286 km</td>\n",
              "    </tr>\n",
              "    <tr>\n",
              "      <th>location</th>\n",
              "      <td>Belo Horizonte - MG</td>\n",
              "    </tr>\n",
              "    <tr>\n",
              "      <th>items</th>\n",
              "      <td>[4 X 4, Câmera de estacionamento, Controle de ...</td>\n",
              "    </tr>\n",
              "  </tbody>\n",
              "</table>\n",
              "</div>"
            ],
            "text/plain": [
              "                                                             0\n",
              "value                                               R$ 338.000\n",
              "name                                     LAMBORGHINI AVENTADOR\n",
              "category                                                 USADO\n",
              "motor                                            Motor 1.8 16v\n",
              "description                               Ano 1993 - 55.286 km\n",
              "location                                   Belo Horizonte - MG\n",
              "items        [4 X 4, Câmera de estacionamento, Controle de ..."
            ]
          },
          "metadata": {
            "tags": []
          },
          "execution_count": 73
        }
      ]
    },
    {
      "cell_type": "code",
      "metadata": {
        "id": "qgyRD6t3tAQI",
        "colab_type": "code",
        "colab": {
          "base_uri": "https://localhost:8080/",
          "height": 81
        },
        "outputId": "1e565c2e-e57e-4207-9754-37b8e36c298a"
      },
      "source": [
        "dataset = pd.DataFrame.from_dict(card, orient = 'index').T\n",
        "dataset"
      ],
      "execution_count": 74,
      "outputs": [
        {
          "output_type": "execute_result",
          "data": {
            "text/html": [
              "<div>\n",
              "<style scoped>\n",
              "    .dataframe tbody tr th:only-of-type {\n",
              "        vertical-align: middle;\n",
              "    }\n",
              "\n",
              "    .dataframe tbody tr th {\n",
              "        vertical-align: top;\n",
              "    }\n",
              "\n",
              "    .dataframe thead th {\n",
              "        text-align: right;\n",
              "    }\n",
              "</style>\n",
              "<table border=\"1\" class=\"dataframe\">\n",
              "  <thead>\n",
              "    <tr style=\"text-align: right;\">\n",
              "      <th></th>\n",
              "      <th>value</th>\n",
              "      <th>name</th>\n",
              "      <th>category</th>\n",
              "      <th>motor</th>\n",
              "      <th>description</th>\n",
              "      <th>location</th>\n",
              "      <th>items</th>\n",
              "    </tr>\n",
              "  </thead>\n",
              "  <tbody>\n",
              "    <tr>\n",
              "      <th>0</th>\n",
              "      <td>R$ 338.000</td>\n",
              "      <td>LAMBORGHINI AVENTADOR</td>\n",
              "      <td>USADO</td>\n",
              "      <td>Motor 1.8 16v</td>\n",
              "      <td>Ano 1993 - 55.286 km</td>\n",
              "      <td>Belo Horizonte - MG</td>\n",
              "      <td>[4 X 4, Câmera de estacionamento, Controle de ...</td>\n",
              "    </tr>\n",
              "  </tbody>\n",
              "</table>\n",
              "</div>"
            ],
            "text/plain": [
              "        value  ...                                              items\n",
              "0  R$ 338.000  ...  [4 X 4, Câmera de estacionamento, Controle de ...\n",
              "\n",
              "[1 rows x 7 columns]"
            ]
          },
          "metadata": {
            "tags": []
          },
          "execution_count": 74
        }
      ]
    },
    {
      "cell_type": "markdown",
      "metadata": {
        "id": "vIWs21ufuPMO",
        "colab_type": "text"
      },
      "source": [
        "* Obtendo a foto do anúncio"
      ]
    },
    {
      "cell_type": "code",
      "metadata": {
        "id": "Glcj5qLxtMtV",
        "colab_type": "code",
        "colab": {
          "base_uri": "https://localhost:8080/",
          "height": 35
        },
        "outputId": "84f662e4-1a68-4ae9-b04f-9d47f9a81f7d"
      },
      "source": [
        "image = anuncio.find('div', {'class': 'image-card'}).img\n",
        "image"
      ],
      "execution_count": 75,
      "outputs": [
        {
          "output_type": "execute_result",
          "data": {
            "text/plain": [
              "<img alt=\"Foto\" height=\"155\" src=\"https://caelum-online-public.s3.amazonaws.com/1381-scraping/01/img-cars/lamborghini-aventador/lamborghini-aventador-2932196__340.jpg\" width=\"220\"/>"
            ]
          },
          "metadata": {
            "tags": []
          },
          "execution_count": 75
        }
      ]
    },
    {
      "cell_type": "code",
      "metadata": {
        "id": "yJEzyLtcuikt",
        "colab_type": "code",
        "colab": {
          "base_uri": "https://localhost:8080/",
          "height": 35
        },
        "outputId": "b8ea09a0-7e21-4edd-acc1-5d71671f9fee"
      },
      "source": [
        "image.get('src')"
      ],
      "execution_count": 76,
      "outputs": [
        {
          "output_type": "execute_result",
          "data": {
            "text/plain": [
              "'https://caelum-online-public.s3.amazonaws.com/1381-scraping/01/img-cars/lamborghini-aventador/lamborghini-aventador-2932196__340.jpg'"
            ]
          },
          "metadata": {
            "tags": []
          },
          "execution_count": 76
        }
      ]
    },
    {
      "cell_type": "code",
      "metadata": {
        "id": "IZB3vX0XulFW",
        "colab_type": "code",
        "colab": {
          "base_uri": "https://localhost:8080/",
          "height": 176
        },
        "outputId": "67b6962b-8557-47d1-f88c-43375243475b"
      },
      "source": [
        "from IPython.core.display import display, HTML\n",
        "\n",
        "display(HTML(str(anuncio.find('div', {'class': 'image-card'}).img)))"
      ],
      "execution_count": 77,
      "outputs": [
        {
          "output_type": "display_data",
          "data": {
            "text/html": [
              "<img alt=\"Foto\" height=\"155\" src=\"https://caelum-online-public.s3.amazonaws.com/1381-scraping/01/img-cars/lamborghini-aventador/lamborghini-aventador-2932196__340.jpg\" width=\"220\"/>"
            ],
            "text/plain": [
              "<IPython.core.display.HTML object>"
            ]
          },
          "metadata": {
            "tags": []
          }
        }
      ]
    },
    {
      "cell_type": "markdown",
      "metadata": {
        "id": "EjK6bP_svSPF",
        "colab_type": "text"
      },
      "source": [
        "* Acessar e salvar foto"
      ]
    },
    {
      "cell_type": "code",
      "metadata": {
        "id": "30KlHZXbu8MF",
        "colab_type": "code",
        "colab": {
          "base_uri": "https://localhost:8080/",
          "height": 54
        },
        "outputId": "e463afa3-9577-4dfa-a6c6-acad47c80481"
      },
      "source": [
        "from urllib.request import urlretrieve\n",
        "\n",
        "urlretrieve(image.get('src'), './sample_data/' + image.get('src').split('/')[-1])"
      ],
      "execution_count": 83,
      "outputs": [
        {
          "output_type": "execute_result",
          "data": {
            "text/plain": [
              "('./sample_data/lamborghini-aventador-2932196__340.jpg',\n",
              " <http.client.HTTPMessage at 0x7f3c9ce0c710>)"
            ]
          },
          "metadata": {
            "tags": []
          },
          "execution_count": 83
        }
      ]
    },
    {
      "cell_type": "markdown",
      "metadata": {
        "id": "DD5115Bpw-dZ",
        "colab_type": "text"
      },
      "source": [
        "## 06. Web Scraping da Página Inteira"
      ]
    },
    {
      "cell_type": "code",
      "metadata": {
        "id": "G1-dFzY1xDt1",
        "colab_type": "code",
        "colab": {
          "base_uri": "https://localhost:8080/",
          "height": 35
        },
        "outputId": "aaac0a4f-ce65-4475-b8d0-92017c78171d"
      },
      "source": [
        "len(soup.find('div', {'id': 'container-cards'}).findAll('div', class_ = 'card'))"
      ],
      "execution_count": 86,
      "outputs": [
        {
          "output_type": "execute_result",
          "data": {
            "text/plain": [
              "10"
            ]
          },
          "metadata": {
            "tags": []
          },
          "execution_count": 86
        }
      ]
    },
    {
      "cell_type": "code",
      "metadata": {
        "id": "1wRtGnJ39Xk1",
        "colab_type": "code",
        "colab": {
          "base_uri": "https://localhost:8080/",
          "height": 1000
        },
        "outputId": "2ecae6bd-5105-43f4-a807-cebcecb0c00b"
      },
      "source": [
        "anuncios = soup.find('div', {'id': 'container-cards'}).findAll('div', class_ = 'card')\n",
        "\n",
        "for anuncio in anuncios:\n",
        "  print(str(anuncio) + \"\\n\\n\")"
      ],
      "execution_count": 87,
      "outputs": [
        {
          "output_type": "stream",
          "text": [
            "<div class=\"well card\">\n",
            "<div class=\"col-md-3 image-card\">\n",
            "<img alt=\"Foto\" height=\"155\" src=\"https://caelum-online-public.s3.amazonaws.com/1381-scraping/01/img-cars/lamborghini-aventador/lamborghini-aventador-2932196__340.jpg\" width=\"220\"/>\n",
            "</div>\n",
            "<div class=\"col-md-6 body-card\">\n",
            "<p class=\"txt-name inline\">LAMBORGHINI AVENTADOR</p>\n",
            "<p class=\"txt-category badge badge-secondary inline\">USADO</p>\n",
            "<p class=\"txt-motor\">Motor 1.8 16v</p>\n",
            "<p class=\"txt-description\">Ano 1993 - 55.286 km</p>\n",
            "<ul class=\"lst-items\">\n",
            "<li class=\"txt-items\">► 4 X 4</li>\n",
            "<li class=\"txt-items\">► Câmera de estacionamento</li>\n",
            "<li class=\"txt-items\">► Controle de tração</li>\n",
            "<li class=\"txt-items\">► Sensor de estacionamento</li>\n",
            "<li class=\"txt-items\">...</li>\n",
            "</ul>\n",
            "<p class=\"txt-location\">Belo Horizonte - MG</p>\n",
            "</div>\n",
            "<div class=\"col-md-3 value-card\">\n",
            "<div class=\"value\">\n",
            "<p class=\"txt-value\">R$ 338.000</p>\n",
            "</div>\n",
            "</div>\n",
            "</div>\n",
            "\n",
            "\n",
            "<div class=\"well card\">\n",
            "<div class=\"col-md-3 image-card\">\n",
            "<img alt=\"Foto\" height=\"155\" src=\"https://caelum-online-public.s3.amazonaws.com/1381-scraping/01/img-cars/bmw-m2/bmw-m2-2970882__340.jpg\" width=\"220\"/>\n",
            "</div>\n",
            "<div class=\"col-md-6 body-card\">\n",
            "<p class=\"txt-name inline\">BMW M2</p>\n",
            "<p class=\"txt-category badge badge-secondary inline\">USADO</p>\n",
            "<p class=\"txt-motor\">Motor 3.0 32v</p>\n",
            "<p class=\"txt-description\">Ano 2018 - 83.447 km</p>\n",
            "<ul class=\"lst-items\">\n",
            "<li class=\"txt-items\">► Câmera de estacionamento</li>\n",
            "<li class=\"txt-items\">► Controle de estabilidade</li>\n",
            "<li class=\"txt-items\">► Travas elétricas</li>\n",
            "<li class=\"txt-items\">► Freios ABS</li>\n",
            "<li class=\"txt-items\">...</li>\n",
            "</ul>\n",
            "<p class=\"txt-location\">Belo Horizonte - MG</p>\n",
            "</div>\n",
            "<div class=\"col-md-3 value-card\">\n",
            "<div class=\"value\">\n",
            "<p class=\"txt-value\">R$ 346.000</p>\n",
            "</div>\n",
            "</div>\n",
            "</div>\n",
            "\n",
            "\n",
            "<div class=\"well card\">\n",
            "<div class=\"col-md-3 image-card\">\n",
            "<img alt=\"Foto\" height=\"155\" src=\"https://caelum-online-public.s3.amazonaws.com/1381-scraping/01/img-cars/alfa/alfa-1823056__340.jpg\" width=\"220\"/>\n",
            "</div>\n",
            "<div class=\"col-md-6 body-card\">\n",
            "<p class=\"txt-name inline\">ALFA</p>\n",
            "<p class=\"txt-category badge badge-secondary inline\">USADO</p>\n",
            "<p class=\"txt-motor\">Motor 1.8 16v</p>\n",
            "<p class=\"txt-description\">Ano 2004 - 19.722 km</p>\n",
            "<ul class=\"lst-items\">\n",
            "<li class=\"txt-items\">► Central multimídia</li>\n",
            "<li class=\"txt-items\">► Bancos de couro</li>\n",
            "<li class=\"txt-items\">► Rodas de liga</li>\n",
            "<li class=\"txt-items\">► Câmera de estacionamento</li>\n",
            "<li class=\"txt-items\">...</li>\n",
            "</ul>\n",
            "<p class=\"txt-location\">Rio de Janeiro - RJ</p>\n",
            "</div>\n",
            "<div class=\"col-md-3 value-card\">\n",
            "<div class=\"value\">\n",
            "<p class=\"txt-value\">R$ 480.000</p>\n",
            "</div>\n",
            "</div>\n",
            "</div>\n",
            "\n",
            "\n",
            "<div class=\"well card\">\n",
            "<div class=\"col-md-3 image-card\">\n",
            "<img alt=\"Foto\" height=\"155\" src=\"https://caelum-online-public.s3.amazonaws.com/1381-scraping/01/img-cars/puech/puech-4055386__340.jpg\" width=\"220\"/>\n",
            "</div>\n",
            "<div class=\"col-md-6 body-card\">\n",
            "<p class=\"txt-name inline\">PUECH</p>\n",
            "<p class=\"txt-category badge badge-secondary inline\">USADO</p>\n",
            "<p class=\"txt-motor\">Motor Diesel V8</p>\n",
            "<p class=\"txt-description\">Ano 1992 - 34.335 km</p>\n",
            "<ul class=\"lst-items\">\n",
            "<li class=\"txt-items\">► Bancos de couro</li>\n",
            "<li class=\"txt-items\">► Freios ABS</li>\n",
            "<li class=\"txt-items\">► Rodas de liga</li>\n",
            "<li class=\"txt-items\">► Câmbio automático</li>\n",
            "<li class=\"txt-items\">...</li>\n",
            "</ul>\n",
            "<p class=\"txt-location\">São Paulo - SP</p>\n",
            "</div>\n",
            "<div class=\"col-md-3 value-card\">\n",
            "<div class=\"value\">\n",
            "<p class=\"txt-value\">R$ 133.000</p>\n",
            "</div>\n",
            "</div>\n",
            "</div>\n",
            "\n",
            "\n",
            "<div class=\"well card\">\n",
            "<div class=\"col-md-3 image-card\">\n",
            "<img alt=\"Foto\" height=\"155\" src=\"https://caelum-online-public.s3.amazonaws.com/1381-scraping/01/img-cars/lamborghini-murcielago/lamborghini-murcielago-2872974__340.jpg\" width=\"220\"/>\n",
            "</div>\n",
            "<div class=\"col-md-6 body-card\">\n",
            "<p class=\"txt-name inline\">LAMBORGHINI MURCIELAGO</p>\n",
            "<p class=\"txt-category badge badge-secondary inline\">USADO</p>\n",
            "<p class=\"txt-motor\">Motor 1.0 8v</p>\n",
            "<p class=\"txt-description\">Ano 1991 - 464 km</p>\n",
            "<ul class=\"lst-items\">\n",
            "<li class=\"txt-items\">► Central multimídia</li>\n",
            "<li class=\"txt-items\">► Teto panorâmico</li>\n",
            "<li class=\"txt-items\">► Sensor crepuscular</li>\n",
            "<li class=\"txt-items\">► Piloto automático</li>\n",
            "<li class=\"txt-items\">...</li>\n",
            "</ul>\n",
            "<p class=\"txt-location\">Belo Horizonte - MG</p>\n",
            "</div>\n",
            "<div class=\"col-md-3 value-card\">\n",
            "<div class=\"value\">\n",
            "<p class=\"txt-value\">R$ 175.000</p>\n",
            "</div>\n",
            "</div>\n",
            "</div>\n",
            "\n",
            "\n",
            "<div class=\"well card\">\n",
            "<div class=\"col-md-3 image-card\">\n",
            "<img alt=\"Foto\" height=\"155\" src=\"https://caelum-online-public.s3.amazonaws.com/1381-scraping/01/img-cars/aston-martin/aston-martin-2977916__340.jpg\" width=\"220\"/>\n",
            "</div>\n",
            "<div class=\"col-md-6 body-card\">\n",
            "<p class=\"txt-name inline\">ASTON MARTIN</p>\n",
            "<p class=\"txt-category badge badge-secondary inline\">USADO</p>\n",
            "<p class=\"txt-opportunity badge badge-danger inline\">OPORTUNIDADE</p>\n",
            "<p class=\"txt-motor\">Motor Diesel V6</p>\n",
            "<p class=\"txt-description\">Ano 2004 - 50.189 km</p>\n",
            "<ul class=\"lst-items\">\n",
            "<li class=\"txt-items\">► Painel digital</li>\n",
            "<li class=\"txt-items\">► Controle de tração</li>\n",
            "<li class=\"txt-items\">► Teto panorâmico</li>\n",
            "<li class=\"txt-items\">► Central multimídia</li>\n",
            "<li class=\"txt-items\">...</li>\n",
            "</ul>\n",
            "<p class=\"txt-location\">Belo Horizonte - MG</p>\n",
            "</div>\n",
            "<div class=\"col-md-3 value-card\">\n",
            "<div class=\"value\">\n",
            "<p class=\"txt-value\">R$ 239.000</p>\n",
            "</div>\n",
            "</div>\n",
            "</div>\n",
            "\n",
            "\n",
            "<div class=\"well card\">\n",
            "<div class=\"col-md-3 image-card\">\n",
            "<img alt=\"Foto\" height=\"155\" src=\"https://caelum-online-public.s3.amazonaws.com/1381-scraping/01/img-cars/tvr/tvr-2943925__340.jpg\" width=\"220\"/>\n",
            "</div>\n",
            "<div class=\"col-md-6 body-card\">\n",
            "<p class=\"txt-name inline\">TVR</p>\n",
            "<p class=\"txt-category badge badge-secondary inline\">USADO</p>\n",
            "<p class=\"txt-motor\">Motor 4.0 Turbo</p>\n",
            "<p class=\"txt-description\">Ano 2014 - 17.778 km</p>\n",
            "<ul class=\"lst-items\">\n",
            "<li class=\"txt-items\">► 4 X 4</li>\n",
            "<li class=\"txt-items\">► Teto panorâmico</li>\n",
            "<li class=\"txt-items\">► Central multimídia</li>\n",
            "<li class=\"txt-items\">► Controle de estabilidade</li>\n",
            "<li class=\"txt-items\">...</li>\n",
            "</ul>\n",
            "<p class=\"txt-location\">Belo Horizonte - MG</p>\n",
            "</div>\n",
            "<div class=\"col-md-3 value-card\">\n",
            "<div class=\"value\">\n",
            "<p class=\"txt-value\">R$ 115.000</p>\n",
            "</div>\n",
            "</div>\n",
            "</div>\n",
            "\n",
            "\n",
            "<div class=\"well card\">\n",
            "<div class=\"col-md-3 image-card\">\n",
            "<img alt=\"Foto\" height=\"155\" src=\"https://caelum-online-public.s3.amazonaws.com/1381-scraping/01/img-cars/excalibur/excalibur-2916730__340.jpg\" width=\"220\"/>\n",
            "</div>\n",
            "<div class=\"col-md-6 body-card\">\n",
            "<p class=\"txt-name inline\">EXCALIBUR</p>\n",
            "<p class=\"txt-category badge badge-secondary inline\">USADO</p>\n",
            "<p class=\"txt-motor\">Motor 3.0 32v</p>\n",
            "<p class=\"txt-description\">Ano 2009 - 81.251 km</p>\n",
            "<ul class=\"lst-items\">\n",
            "<li class=\"txt-items\">► Painel digital</li>\n",
            "<li class=\"txt-items\">► Câmbio automático</li>\n",
            "<li class=\"txt-items\">► Sensor de chuva</li>\n",
            "<li class=\"txt-items\">► Travas elétricas</li>\n",
            "<li class=\"txt-items\">...</li>\n",
            "</ul>\n",
            "<p class=\"txt-location\">Rio de Janeiro - RJ</p>\n",
            "</div>\n",
            "<div class=\"col-md-3 value-card\">\n",
            "<div class=\"value\">\n",
            "<p class=\"txt-value\">R$ 114.000</p>\n",
            "</div>\n",
            "</div>\n",
            "</div>\n",
            "\n",
            "\n",
            "<div class=\"well card\">\n",
            "<div class=\"col-md-3 image-card\">\n",
            "<img alt=\"Foto\" height=\"155\" src=\"https://caelum-online-public.s3.amazonaws.com/1381-scraping/01/img-cars/mclaren/mclaren-2855240__340.jpg\" width=\"220\"/>\n",
            "</div>\n",
            "<div class=\"col-md-6 body-card\">\n",
            "<p class=\"txt-name inline\">MCLAREN</p>\n",
            "<p class=\"txt-category badge badge-secondary inline\">NOVO</p>\n",
            "<p class=\"txt-motor\">Motor Diesel</p>\n",
            "<p class=\"txt-description\">Ano 2019 - 0 km</p>\n",
            "<ul class=\"lst-items\">\n",
            "<li class=\"txt-items\">► Central multimídia</li>\n",
            "<li class=\"txt-items\">► Câmera de estacionamento</li>\n",
            "<li class=\"txt-items\">► Câmbio automático</li>\n",
            "<li class=\"txt-items\">► Ar condicionado</li>\n",
            "<li class=\"txt-items\">...</li>\n",
            "</ul>\n",
            "<p class=\"txt-location\">São Paulo - SP</p>\n",
            "</div>\n",
            "<div class=\"col-md-3 value-card\">\n",
            "<div class=\"value\">\n",
            "<p class=\"txt-value\">R$ 75.000</p>\n",
            "</div>\n",
            "</div>\n",
            "</div>\n",
            "\n",
            "\n",
            "<div class=\"well card\">\n",
            "<div class=\"col-md-3 image-card\">\n",
            "<img alt=\"Foto\" height=\"155\" src=\"https://caelum-online-public.s3.amazonaws.com/1381-scraping/01/img-cars/toyota/toyota-3245397__340.jpg\" width=\"220\"/>\n",
            "</div>\n",
            "<div class=\"col-md-6 body-card\">\n",
            "<p class=\"txt-name inline\">TOYOTA</p>\n",
            "<p class=\"txt-category badge badge-secondary inline\">USADO</p>\n",
            "<p class=\"txt-opportunity badge badge-danger inline\">OPORTUNIDADE</p>\n",
            "<p class=\"txt-motor\">Motor 4.0 Turbo</p>\n",
            "<p class=\"txt-description\">Ano 1999 - 12.536 km</p>\n",
            "<ul class=\"lst-items\">\n",
            "<li class=\"txt-items\">► Bancos de couro</li>\n",
            "<li class=\"txt-items\">► Freios ABS</li>\n",
            "<li class=\"txt-items\">► Piloto automático</li>\n",
            "<li class=\"txt-items\">► Controle de estabilidade</li>\n",
            "<li class=\"txt-items\">...</li>\n",
            "</ul>\n",
            "<p class=\"txt-location\">São Paulo - SP</p>\n",
            "</div>\n",
            "<div class=\"col-md-3 value-card\">\n",
            "<div class=\"value\">\n",
            "<p class=\"txt-value\">R$ 117.000</p>\n",
            "</div>\n",
            "</div>\n",
            "</div>\n",
            "\n",
            "\n"
          ],
          "name": "stdout"
        }
      ]
    },
    {
      "cell_type": "markdown",
      "metadata": {
        "id": "q75qSZ6y-WDA",
        "colab_type": "text"
      },
      "source": [
        "* Rotina de scraping"
      ]
    },
    {
      "cell_type": "code",
      "metadata": {
        "id": "ZBhIvxW4-G1W",
        "colab_type": "code",
        "colab": {
          "base_uri": "https://localhost:8080/",
          "height": 363
        },
        "outputId": "a0f4a392-4bbd-4fe1-e4cb-e426f70e1cca"
      },
      "source": [
        "# Importando bibliotecas\n",
        "from urllib.request import urlopen, urlretrieve\n",
        "from bs4 import BeautifulSoup\n",
        "import pandas as pd\n",
        "\n",
        "# Declarando variável cards\n",
        "cards = []\n",
        "\n",
        "# Obtendo o HTML\n",
        "response = urlopen('https://alura-site-scraping.herokuapp.com/index.php')\n",
        "html = response.read().decode('utf-8')\n",
        "soup = BeautifulSoup(html, 'html.parser')\n",
        "\n",
        "# Obtendo as TAGs de interesse\n",
        "anuncios = soup.find('div', {\"id\": \"container-cards\"}).findAll('div', class_=\"card\")\n",
        "\n",
        "# Coletando as informações dos CARDS\n",
        "for anuncio in anuncios:\n",
        "    card = {}\n",
        "    \n",
        "    # Valor\n",
        "    card['value'] = anuncio.find('p', {'class': 'txt-value'}).getText()\n",
        "\n",
        "    # Informações\n",
        "    infos = anuncio.find('div', {'class': 'body-card'}).findAll('p')\n",
        "    for info in infos:\n",
        "        card[info.get('class')[0].split('-')[-1]] = info.get_text()\n",
        "\n",
        "    # Acessórios\n",
        "    items = anuncio.find('div', {'class': 'body-card'}).ul.findAll('li')\n",
        "    items.pop()\n",
        "    acessorios = []\n",
        "    for item in items:\n",
        "        acessorios.append(item.get_text().replace('► ', ''))\n",
        "    card['items'] = acessorios\n",
        "    \n",
        "    # Adicionando resultado a lista cards\n",
        "    cards.append(card)\n",
        "\n",
        "    # Imagens\n",
        "    image = anuncio.find('div', {'class': 'image-card'}).img\n",
        "    urlretrieve(image.get('src'), './sample_data/' + image.get('src').split('/')[-1])     \n",
        "\n",
        "# Criando um DataFrame com os resultados\n",
        "dataset = pd.DataFrame(cards)\n",
        "# dataset.to_csv('./sample_data/', sep=';', index = False, encoding = 'utf-8-sig')\n",
        "dataset"
      ],
      "execution_count": 89,
      "outputs": [
        {
          "output_type": "execute_result",
          "data": {
            "text/html": [
              "<div>\n",
              "<style scoped>\n",
              "    .dataframe tbody tr th:only-of-type {\n",
              "        vertical-align: middle;\n",
              "    }\n",
              "\n",
              "    .dataframe tbody tr th {\n",
              "        vertical-align: top;\n",
              "    }\n",
              "\n",
              "    .dataframe thead th {\n",
              "        text-align: right;\n",
              "    }\n",
              "</style>\n",
              "<table border=\"1\" class=\"dataframe\">\n",
              "  <thead>\n",
              "    <tr style=\"text-align: right;\">\n",
              "      <th></th>\n",
              "      <th>value</th>\n",
              "      <th>name</th>\n",
              "      <th>category</th>\n",
              "      <th>motor</th>\n",
              "      <th>description</th>\n",
              "      <th>location</th>\n",
              "      <th>items</th>\n",
              "      <th>opportunity</th>\n",
              "    </tr>\n",
              "  </thead>\n",
              "  <tbody>\n",
              "    <tr>\n",
              "      <th>0</th>\n",
              "      <td>R$ 338.000</td>\n",
              "      <td>LAMBORGHINI AVENTADOR</td>\n",
              "      <td>USADO</td>\n",
              "      <td>Motor 1.8 16v</td>\n",
              "      <td>Ano 1993 - 55.286 km</td>\n",
              "      <td>Belo Horizonte - MG</td>\n",
              "      <td>[4 X 4, Câmera de estacionamento, Controle de ...</td>\n",
              "      <td>NaN</td>\n",
              "    </tr>\n",
              "    <tr>\n",
              "      <th>1</th>\n",
              "      <td>R$ 346.000</td>\n",
              "      <td>BMW M2</td>\n",
              "      <td>USADO</td>\n",
              "      <td>Motor 3.0 32v</td>\n",
              "      <td>Ano 2018 - 83.447 km</td>\n",
              "      <td>Belo Horizonte - MG</td>\n",
              "      <td>[Câmera de estacionamento, Controle de estabil...</td>\n",
              "      <td>NaN</td>\n",
              "    </tr>\n",
              "    <tr>\n",
              "      <th>2</th>\n",
              "      <td>R$ 480.000</td>\n",
              "      <td>ALFA</td>\n",
              "      <td>USADO</td>\n",
              "      <td>Motor 1.8 16v</td>\n",
              "      <td>Ano 2004 - 19.722 km</td>\n",
              "      <td>Rio de Janeiro - RJ</td>\n",
              "      <td>[Central multimídia, Bancos de couro, Rodas de...</td>\n",
              "      <td>NaN</td>\n",
              "    </tr>\n",
              "    <tr>\n",
              "      <th>3</th>\n",
              "      <td>R$ 133.000</td>\n",
              "      <td>PUECH</td>\n",
              "      <td>USADO</td>\n",
              "      <td>Motor Diesel V8</td>\n",
              "      <td>Ano 1992 - 34.335 km</td>\n",
              "      <td>São Paulo - SP</td>\n",
              "      <td>[Bancos de couro, Freios ABS, Rodas de liga, C...</td>\n",
              "      <td>NaN</td>\n",
              "    </tr>\n",
              "    <tr>\n",
              "      <th>4</th>\n",
              "      <td>R$ 175.000</td>\n",
              "      <td>LAMBORGHINI MURCIELAGO</td>\n",
              "      <td>USADO</td>\n",
              "      <td>Motor 1.0 8v</td>\n",
              "      <td>Ano 1991 - 464 km</td>\n",
              "      <td>Belo Horizonte - MG</td>\n",
              "      <td>[Central multimídia, Teto panorâmico, Sensor c...</td>\n",
              "      <td>NaN</td>\n",
              "    </tr>\n",
              "    <tr>\n",
              "      <th>5</th>\n",
              "      <td>R$ 239.000</td>\n",
              "      <td>ASTON MARTIN</td>\n",
              "      <td>USADO</td>\n",
              "      <td>Motor Diesel V6</td>\n",
              "      <td>Ano 2004 - 50.189 km</td>\n",
              "      <td>Belo Horizonte - MG</td>\n",
              "      <td>[Painel digital, Controle de tração, Teto pano...</td>\n",
              "      <td>OPORTUNIDADE</td>\n",
              "    </tr>\n",
              "    <tr>\n",
              "      <th>6</th>\n",
              "      <td>R$ 115.000</td>\n",
              "      <td>TVR</td>\n",
              "      <td>USADO</td>\n",
              "      <td>Motor 4.0 Turbo</td>\n",
              "      <td>Ano 2014 - 17.778 km</td>\n",
              "      <td>Belo Horizonte - MG</td>\n",
              "      <td>[4 X 4, Teto panorâmico, Central multimídia, C...</td>\n",
              "      <td>NaN</td>\n",
              "    </tr>\n",
              "    <tr>\n",
              "      <th>7</th>\n",
              "      <td>R$ 114.000</td>\n",
              "      <td>EXCALIBUR</td>\n",
              "      <td>USADO</td>\n",
              "      <td>Motor 3.0 32v</td>\n",
              "      <td>Ano 2009 - 81.251 km</td>\n",
              "      <td>Rio de Janeiro - RJ</td>\n",
              "      <td>[Painel digital, Câmbio automático, Sensor de ...</td>\n",
              "      <td>NaN</td>\n",
              "    </tr>\n",
              "    <tr>\n",
              "      <th>8</th>\n",
              "      <td>R$ 75.000</td>\n",
              "      <td>MCLAREN</td>\n",
              "      <td>NOVO</td>\n",
              "      <td>Motor Diesel</td>\n",
              "      <td>Ano 2019 - 0 km</td>\n",
              "      <td>São Paulo - SP</td>\n",
              "      <td>[Central multimídia, Câmera de estacionamento,...</td>\n",
              "      <td>NaN</td>\n",
              "    </tr>\n",
              "    <tr>\n",
              "      <th>9</th>\n",
              "      <td>R$ 117.000</td>\n",
              "      <td>TOYOTA</td>\n",
              "      <td>USADO</td>\n",
              "      <td>Motor 4.0 Turbo</td>\n",
              "      <td>Ano 1999 - 12.536 km</td>\n",
              "      <td>São Paulo - SP</td>\n",
              "      <td>[Bancos de couro, Freios ABS, Piloto automátic...</td>\n",
              "      <td>OPORTUNIDADE</td>\n",
              "    </tr>\n",
              "  </tbody>\n",
              "</table>\n",
              "</div>"
            ],
            "text/plain": [
              "        value  ...   opportunity\n",
              "0  R$ 338.000  ...           NaN\n",
              "1  R$ 346.000  ...           NaN\n",
              "2  R$ 480.000  ...           NaN\n",
              "3  R$ 133.000  ...           NaN\n",
              "4  R$ 175.000  ...           NaN\n",
              "5  R$ 239.000  ...  OPORTUNIDADE\n",
              "6  R$ 115.000  ...           NaN\n",
              "7  R$ 114.000  ...           NaN\n",
              "8   R$ 75.000  ...           NaN\n",
              "9  R$ 117.000  ...  OPORTUNIDADE\n",
              "\n",
              "[10 rows x 8 columns]"
            ]
          },
          "metadata": {
            "tags": []
          },
          "execution_count": 89
        }
      ]
    },
    {
      "cell_type": "markdown",
      "metadata": {
        "id": "zXfZcIAvCKuJ",
        "colab_type": "text"
      },
      "source": [
        "## 07. Dados do Site Inteiro"
      ]
    },
    {
      "cell_type": "code",
      "metadata": {
        "id": "2RHJZnABB4QY",
        "colab_type": "code",
        "colab": {
          "base_uri": "https://localhost:8080/",
          "height": 172
        },
        "outputId": "e7463edf-b97f-41fc-ee44-48c4a6cdcf93"
      },
      "source": [
        "soup.find('div', class_ = \"info-pages\").get_text()"
      ],
      "execution_count": 91,
      "outputs": [
        {
          "output_type": "error",
          "ename": "AttributeError",
          "evalue": "ignored",
          "traceback": [
            "\u001b[0;31m---------------------------------------------------------------------------\u001b[0m",
            "\u001b[0;31mAttributeError\u001b[0m                            Traceback (most recent call last)",
            "\u001b[0;32m<ipython-input-91-f93854a47224>\u001b[0m in \u001b[0;36m<module>\u001b[0;34m()\u001b[0m\n\u001b[0;32m----> 1\u001b[0;31m \u001b[0msoup\u001b[0m\u001b[0;34m.\u001b[0m\u001b[0mfind\u001b[0m\u001b[0;34m(\u001b[0m\u001b[0;34m'div'\u001b[0m\u001b[0;34m,\u001b[0m \u001b[0mclass_\u001b[0m \u001b[0;34m=\u001b[0m \u001b[0;34m\"info-pages\"\u001b[0m\u001b[0;34m)\u001b[0m\u001b[0;34m.\u001b[0m\u001b[0mget_text\u001b[0m\u001b[0;34m(\u001b[0m\u001b[0;34m)\u001b[0m\u001b[0;34m\u001b[0m\u001b[0;34m\u001b[0m\u001b[0m\n\u001b[0m",
            "\u001b[0;31mAttributeError\u001b[0m: 'NoneType' object has no attribute 'get_text'"
          ]
        }
      ]
    },
    {
      "cell_type": "code",
      "metadata": {
        "id": "qTtUZLLCC-_7",
        "colab_type": "code",
        "colab": {}
      },
      "source": [
        ""
      ],
      "execution_count": 0,
      "outputs": []
    }
  ]
}