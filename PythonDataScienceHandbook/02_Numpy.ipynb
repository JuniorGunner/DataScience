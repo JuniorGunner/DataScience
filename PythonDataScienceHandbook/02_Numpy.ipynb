{
  "nbformat": 4,
  "nbformat_minor": 0,
  "metadata": {
    "colab": {
      "name": "02_Numpy.ipynb",
      "provenance": [],
      "collapsed_sections": [
        "Bi8jwJnNioJb",
        "m4CO5e05mKMM",
        "t1WmNhY6euyg",
        "_yzDLFuCe7Db",
        "pbA-H_Hj5ptU",
        "gFzbMbOQUuug",
        "EhCVwNC0XzAX",
        "9GxUISiQe6eK",
        "2oxrvbq1fN-c",
        "Y3i95TjrRD4g",
        "1JAqq5y2TBMn",
        "fFbGvpOSYvJn",
        "Yy8F3NmnhBV4",
        "OHfSIoVvkcip",
        "yD5dMquytLiY"
      ],
      "toc_visible": true,
      "include_colab_link": true
    },
    "kernelspec": {
      "name": "python3",
      "display_name": "Python 3"
    }
  },
  "cells": [
    {
      "cell_type": "markdown",
      "metadata": {
        "id": "view-in-github",
        "colab_type": "text"
      },
      "source": [
        "<a href=\"https://colab.research.google.com/github/JuniorGunner/DataScience/blob/master/PythonDataScienceHandbook/02_Numpy.ipynb\" target=\"_parent\"><img src=\"https://colab.research.google.com/assets/colab-badge.svg\" alt=\"Open In Colab\"/></a>"
      ]
    },
    {
      "cell_type": "markdown",
      "metadata": {
        "id": "fVlHalAlLmHt",
        "colab_type": "text"
      },
      "source": [
        "# Chapter 2 - Numpy"
      ]
    },
    {
      "cell_type": "code",
      "metadata": {
        "id": "xeoL_ZQjLqz2",
        "colab_type": "code",
        "outputId": "8f81ce81-c29b-462b-c8b8-2b1543b8697e",
        "colab": {
          "base_uri": "https://localhost:8080/",
          "height": 35
        }
      },
      "source": [
        "import numpy as np\n",
        "np.__version__"
      ],
      "execution_count": 105,
      "outputs": [
        {
          "output_type": "execute_result",
          "data": {
            "text/plain": [
              "'1.17.4'"
            ]
          },
          "metadata": {
            "tags": []
          },
          "execution_count": 105
        }
      ]
    },
    {
      "cell_type": "markdown",
      "metadata": {
        "id": "Bi8jwJnNioJb",
        "colab_type": "text"
      },
      "source": [
        "## Data Types"
      ]
    },
    {
      "cell_type": "markdown",
      "metadata": {
        "id": "q62sLMw1iyCS",
        "colab_type": "text"
      },
      "source": [
        "### Arrays from Lists"
      ]
    },
    {
      "cell_type": "code",
      "metadata": {
        "id": "PyUWjJS7iuDQ",
        "colab_type": "code",
        "outputId": "e4ef86f2-fb5c-4ef2-a7ef-2ef82f82b7f8",
        "colab": {
          "base_uri": "https://localhost:8080/",
          "height": 0
        }
      },
      "source": [
        "np.array([1, 2, 3, 4])"
      ],
      "execution_count": 106,
      "outputs": [
        {
          "output_type": "execute_result",
          "data": {
            "text/plain": [
              "array([1, 2, 3, 4])"
            ]
          },
          "metadata": {
            "tags": []
          },
          "execution_count": 106
        }
      ]
    },
    {
      "cell_type": "code",
      "metadata": {
        "id": "zkkuq37ujBE2",
        "colab_type": "code",
        "outputId": "61979711-a66e-4fbe-af0d-5fa77fee0b21",
        "colab": {
          "base_uri": "https://localhost:8080/",
          "height": 0
        }
      },
      "source": [
        "np.array([3.14, 4, 2, 3])"
      ],
      "execution_count": 107,
      "outputs": [
        {
          "output_type": "execute_result",
          "data": {
            "text/plain": [
              "array([3.14, 4.  , 2.  , 3.  ])"
            ]
          },
          "metadata": {
            "tags": []
          },
          "execution_count": 107
        }
      ]
    },
    {
      "cell_type": "code",
      "metadata": {
        "id": "fa-SejrmjM2G",
        "colab_type": "code",
        "outputId": "e4d22285-4334-43b6-e417-8ce2282e2cea",
        "colab": {
          "base_uri": "https://localhost:8080/",
          "height": 0
        }
      },
      "source": [
        "np.array([1, 2, 3, 4], dtype = 'float32')"
      ],
      "execution_count": 108,
      "outputs": [
        {
          "output_type": "execute_result",
          "data": {
            "text/plain": [
              "array([1., 2., 3., 4.], dtype=float32)"
            ]
          },
          "metadata": {
            "tags": []
          },
          "execution_count": 108
        }
      ]
    },
    {
      "cell_type": "code",
      "metadata": {
        "id": "y7pQgwlIjtRL",
        "colab_type": "code",
        "outputId": "f49a40d2-9cdd-492a-9e41-7dbb0533d7a5",
        "colab": {
          "base_uri": "https://localhost:8080/",
          "height": 0
        }
      },
      "source": [
        "np.array([range(i, i + 3) for i in [2, 4, 6]])"
      ],
      "execution_count": 109,
      "outputs": [
        {
          "output_type": "execute_result",
          "data": {
            "text/plain": [
              "array([[2, 3, 4],\n",
              "       [4, 5, 6],\n",
              "       [6, 7, 8]])"
            ]
          },
          "metadata": {
            "tags": []
          },
          "execution_count": 109
        }
      ]
    },
    {
      "cell_type": "markdown",
      "metadata": {
        "id": "WZRMrQXukNoG",
        "colab_type": "text"
      },
      "source": [
        "### Arrays from Scratch"
      ]
    },
    {
      "cell_type": "code",
      "metadata": {
        "id": "l-xaLpGykQvv",
        "colab_type": "code",
        "outputId": "6e6d03ee-cee8-44a5-af49-789e66195aba",
        "colab": {
          "base_uri": "https://localhost:8080/",
          "height": 0
        }
      },
      "source": [
        "# Create a length-10 integer array filled with zeros\n",
        "np.zeros(10, dtype=int)"
      ],
      "execution_count": 110,
      "outputs": [
        {
          "output_type": "execute_result",
          "data": {
            "text/plain": [
              "array([0, 0, 0, 0, 0, 0, 0, 0, 0, 0])"
            ]
          },
          "metadata": {
            "tags": []
          },
          "execution_count": 110
        }
      ]
    },
    {
      "cell_type": "code",
      "metadata": {
        "id": "KpRRR71vkw-V",
        "colab_type": "code",
        "outputId": "77070555-a77c-4fdc-d9af-e984009b5988",
        "colab": {
          "base_uri": "https://localhost:8080/",
          "height": 0
        }
      },
      "source": [
        "# Create a 3x5 floating-point array filled with 1s\n",
        "np.ones((3, 5), dtype=float)"
      ],
      "execution_count": 111,
      "outputs": [
        {
          "output_type": "execute_result",
          "data": {
            "text/plain": [
              "array([[1., 1., 1., 1., 1.],\n",
              "       [1., 1., 1., 1., 1.],\n",
              "       [1., 1., 1., 1., 1.]])"
            ]
          },
          "metadata": {
            "tags": []
          },
          "execution_count": 111
        }
      ]
    },
    {
      "cell_type": "code",
      "metadata": {
        "id": "YBfLyQJKkzt_",
        "colab_type": "code",
        "outputId": "69589929-7a0c-4f5f-8e37-ad5a5a3d4121",
        "colab": {
          "base_uri": "https://localhost:8080/",
          "height": 0
        }
      },
      "source": [
        "# Create a 3x5 array filled with 3.14\n",
        "np.full((3, 5), 3.14)"
      ],
      "execution_count": 112,
      "outputs": [
        {
          "output_type": "execute_result",
          "data": {
            "text/plain": [
              "array([[3.14, 3.14, 3.14, 3.14, 3.14],\n",
              "       [3.14, 3.14, 3.14, 3.14, 3.14],\n",
              "       [3.14, 3.14, 3.14, 3.14, 3.14]])"
            ]
          },
          "metadata": {
            "tags": []
          },
          "execution_count": 112
        }
      ]
    },
    {
      "cell_type": "code",
      "metadata": {
        "id": "B7KbG4l-k9kF",
        "colab_type": "code",
        "outputId": "ef4f455e-9782-465b-933d-2b5ea07c263e",
        "colab": {
          "base_uri": "https://localhost:8080/",
          "height": 0
        }
      },
      "source": [
        "# Create an array filled with a linear sequence\n",
        "# Starting at 0, ending at 20, stepping by 2\n",
        "# (this is similar to the built-in range() function)\n",
        "np.arange(0, 20, 2)"
      ],
      "execution_count": 113,
      "outputs": [
        {
          "output_type": "execute_result",
          "data": {
            "text/plain": [
              "array([ 0,  2,  4,  6,  8, 10, 12, 14, 16, 18])"
            ]
          },
          "metadata": {
            "tags": []
          },
          "execution_count": 113
        }
      ]
    },
    {
      "cell_type": "code",
      "metadata": {
        "id": "XsLYavbxlGIK",
        "colab_type": "code",
        "outputId": "95ad659c-ba11-494b-a566-70b8eb7f9bbe",
        "colab": {
          "base_uri": "https://localhost:8080/",
          "height": 0
        }
      },
      "source": [
        "# Create an array of five values evenly spaced between 0 and 1\n",
        "np.linspace(0, 1, 5)"
      ],
      "execution_count": 114,
      "outputs": [
        {
          "output_type": "execute_result",
          "data": {
            "text/plain": [
              "array([0.  , 0.25, 0.5 , 0.75, 1.  ])"
            ]
          },
          "metadata": {
            "tags": []
          },
          "execution_count": 114
        }
      ]
    },
    {
      "cell_type": "code",
      "metadata": {
        "id": "O0cX_zY7lM8a",
        "colab_type": "code",
        "outputId": "aee653d3-c8a8-4250-b40e-296293362094",
        "colab": {
          "base_uri": "https://localhost:8080/",
          "height": 0
        }
      },
      "source": [
        "# Create a 3x3 array of uniformly distributed\n",
        "# random values between 0 and 1\n",
        "np.random.random((3, 3))"
      ],
      "execution_count": 115,
      "outputs": [
        {
          "output_type": "execute_result",
          "data": {
            "text/plain": [
              "array([[0.07452786, 0.41843762, 0.99939192],\n",
              "       [0.66974416, 0.54717434, 0.82711104],\n",
              "       [0.23097044, 0.16283152, 0.27950484]])"
            ]
          },
          "metadata": {
            "tags": []
          },
          "execution_count": 115
        }
      ]
    },
    {
      "cell_type": "code",
      "metadata": {
        "id": "dq_GlD_JlVtX",
        "colab_type": "code",
        "outputId": "a9334e5e-9656-4e3f-962d-1e71da65c175",
        "colab": {
          "base_uri": "https://localhost:8080/",
          "height": 0
        }
      },
      "source": [
        "# Create a 3x3 array of normally distributed random values\n",
        "# with mean 0 and standard deviation 1\n",
        "np.random.normal(0, 1, (3, 3))"
      ],
      "execution_count": 116,
      "outputs": [
        {
          "output_type": "execute_result",
          "data": {
            "text/plain": [
              "array([[ 8.42431755e-01,  1.76962716e-01,  5.69935192e-01],\n",
              "       [ 5.36120260e-01, -6.06590243e-01,  2.71780856e-01],\n",
              "       [-1.70949422e-03,  1.76522143e+00,  2.99579864e-01]])"
            ]
          },
          "metadata": {
            "tags": []
          },
          "execution_count": 116
        }
      ]
    },
    {
      "cell_type": "code",
      "metadata": {
        "id": "YodfJD6ClbKh",
        "colab_type": "code",
        "outputId": "75c18196-cea4-430b-c9b6-43152e8ac6b0",
        "colab": {
          "base_uri": "https://localhost:8080/",
          "height": 0
        }
      },
      "source": [
        "# Create a 3x3 array of random integers in the interval [0, 10)\n",
        "np.random.randint(0, 10, (3, 3))"
      ],
      "execution_count": 117,
      "outputs": [
        {
          "output_type": "execute_result",
          "data": {
            "text/plain": [
              "array([[5, 8, 4],\n",
              "       [5, 7, 4],\n",
              "       [0, 2, 4]])"
            ]
          },
          "metadata": {
            "tags": []
          },
          "execution_count": 117
        }
      ]
    },
    {
      "cell_type": "code",
      "metadata": {
        "id": "QXxbDO9LlilR",
        "colab_type": "code",
        "outputId": "89fa9937-3709-457b-bd4b-c2b4210f9319",
        "colab": {
          "base_uri": "https://localhost:8080/",
          "height": 0
        }
      },
      "source": [
        "# Create a 3x3 identity matrix\n",
        "np.eye(3)"
      ],
      "execution_count": 118,
      "outputs": [
        {
          "output_type": "execute_result",
          "data": {
            "text/plain": [
              "array([[1., 0., 0.],\n",
              "       [0., 1., 0.],\n",
              "       [0., 0., 1.]])"
            ]
          },
          "metadata": {
            "tags": []
          },
          "execution_count": 118
        }
      ]
    },
    {
      "cell_type": "code",
      "metadata": {
        "id": "jslUn3c8lkwE",
        "colab_type": "code",
        "outputId": "8cd34260-2d11-4c31-8596-9af9ab7cdde1",
        "colab": {
          "base_uri": "https://localhost:8080/",
          "height": 0
        }
      },
      "source": [
        "# Create an uninitialized array of three integers\n",
        "# The values will be whatever happens to already exist at that\n",
        "# memory location\n",
        "np.empty(3)"
      ],
      "execution_count": 119,
      "outputs": [
        {
          "output_type": "execute_result",
          "data": {
            "text/plain": [
              "array([1., 1., 1.])"
            ]
          },
          "metadata": {
            "tags": []
          },
          "execution_count": 119
        }
      ]
    },
    {
      "cell_type": "markdown",
      "metadata": {
        "id": "m4CO5e05mKMM",
        "colab_type": "text"
      },
      "source": [
        "## Basics of Numpy Arrays"
      ]
    },
    {
      "cell_type": "markdown",
      "metadata": {
        "id": "vXE1Wsr_mPeB",
        "colab_type": "text"
      },
      "source": [
        "### Numpy Array Attributes"
      ]
    },
    {
      "cell_type": "code",
      "metadata": {
        "id": "OOe5kSc3m5iY",
        "colab_type": "code",
        "colab": {}
      },
      "source": [
        "np.random.seed(0) # seed for reproducibility\n",
        "x1 = np.random.randint(10, size=6) # One-dimensional array\n",
        "x2 = np.random.randint(10, size=(3, 4)) # Two-dimensional array\n",
        "x3 = np.random.randint(10, size=(3, 4, 5)) # Three-dimensional array"
      ],
      "execution_count": 0,
      "outputs": []
    },
    {
      "cell_type": "code",
      "metadata": {
        "id": "xBsaYt7hsPKw",
        "colab_type": "code",
        "outputId": "580b0df2-cb0b-4a7b-d619-128cd384f28d",
        "colab": {
          "base_uri": "https://localhost:8080/",
          "height": 0
        }
      },
      "source": [
        "# Number of dimensions, shape and size\n",
        "print(x3.ndim, x3.shape, x3.size, sep='\\n')"
      ],
      "execution_count": 121,
      "outputs": [
        {
          "output_type": "stream",
          "text": [
            "3\n",
            "(3, 4, 5)\n",
            "60\n"
          ],
          "name": "stdout"
        }
      ]
    },
    {
      "cell_type": "code",
      "metadata": {
        "id": "JxZGG6E7sjhE",
        "colab_type": "code",
        "outputId": "93dc30c0-ac13-462a-ca33-4e6b5ee6063b",
        "colab": {
          "base_uri": "https://localhost:8080/",
          "height": 0
        }
      },
      "source": [
        "# Data type\n",
        "x3.dtype"
      ],
      "execution_count": 122,
      "outputs": [
        {
          "output_type": "execute_result",
          "data": {
            "text/plain": [
              "dtype('int64')"
            ]
          },
          "metadata": {
            "tags": []
          },
          "execution_count": 122
        }
      ]
    },
    {
      "cell_type": "code",
      "metadata": {
        "id": "IrSNbtlStA8W",
        "colab_type": "code",
        "outputId": "07fbdfba-f3cf-40d6-90c8-263d4cb6fd28",
        "colab": {
          "base_uri": "https://localhost:8080/",
          "height": 0
        }
      },
      "source": [
        "# Size in bytes of elements and array\n",
        "print('Element size:', x3.itemsize, 'bytes')\n",
        "print('Array size:', x3.nbytes, 'bytes')"
      ],
      "execution_count": 123,
      "outputs": [
        {
          "output_type": "stream",
          "text": [
            "Element size: 8 bytes\n",
            "Array size: 480 bytes\n"
          ],
          "name": "stdout"
        }
      ]
    },
    {
      "cell_type": "markdown",
      "metadata": {
        "id": "AF-0B5nruHpX",
        "colab_type": "text"
      },
      "source": [
        "### Array Indexing: Accessing Single Elements"
      ]
    },
    {
      "cell_type": "code",
      "metadata": {
        "id": "zoT6HhPJt_kl",
        "colab_type": "code",
        "outputId": "bdc3494d-7180-4c96-baa7-18eef203adcf",
        "colab": {
          "base_uri": "https://localhost:8080/",
          "height": 0
        }
      },
      "source": [
        "x1"
      ],
      "execution_count": 124,
      "outputs": [
        {
          "output_type": "execute_result",
          "data": {
            "text/plain": [
              "array([5, 0, 3, 3, 7, 9])"
            ]
          },
          "metadata": {
            "tags": []
          },
          "execution_count": 124
        }
      ]
    },
    {
      "cell_type": "code",
      "metadata": {
        "id": "cZ3OylPILm_T",
        "colab_type": "code",
        "outputId": "ebac9f41-18f6-4e9d-f8fd-5be7efa87f27",
        "colab": {
          "base_uri": "https://localhost:8080/",
          "height": 0
        }
      },
      "source": [
        "x1[0]"
      ],
      "execution_count": 125,
      "outputs": [
        {
          "output_type": "execute_result",
          "data": {
            "text/plain": [
              "5"
            ]
          },
          "metadata": {
            "tags": []
          },
          "execution_count": 125
        }
      ]
    },
    {
      "cell_type": "code",
      "metadata": {
        "id": "XnzOp0esLpxM",
        "colab_type": "code",
        "outputId": "adeafc6c-09bc-40d0-f2ae-8c2d06ced624",
        "colab": {
          "base_uri": "https://localhost:8080/",
          "height": 0
        }
      },
      "source": [
        "x1[4]"
      ],
      "execution_count": 126,
      "outputs": [
        {
          "output_type": "execute_result",
          "data": {
            "text/plain": [
              "7"
            ]
          },
          "metadata": {
            "tags": []
          },
          "execution_count": 126
        }
      ]
    },
    {
      "cell_type": "code",
      "metadata": {
        "id": "y6fhAHzFLtYq",
        "colab_type": "code",
        "outputId": "53366280-2742-4d9e-a304-276e1d6759fb",
        "colab": {
          "base_uri": "https://localhost:8080/",
          "height": 0
        }
      },
      "source": [
        "x1[-1]"
      ],
      "execution_count": 127,
      "outputs": [
        {
          "output_type": "execute_result",
          "data": {
            "text/plain": [
              "9"
            ]
          },
          "metadata": {
            "tags": []
          },
          "execution_count": 127
        }
      ]
    },
    {
      "cell_type": "code",
      "metadata": {
        "id": "d5W4xKOnLwCL",
        "colab_type": "code",
        "outputId": "eeef1602-9e14-4cbf-a48b-fcb1bc750c93",
        "colab": {
          "base_uri": "https://localhost:8080/",
          "height": 0
        }
      },
      "source": [
        "x1[-2]"
      ],
      "execution_count": 128,
      "outputs": [
        {
          "output_type": "execute_result",
          "data": {
            "text/plain": [
              "7"
            ]
          },
          "metadata": {
            "tags": []
          },
          "execution_count": 128
        }
      ]
    },
    {
      "cell_type": "code",
      "metadata": {
        "id": "KOaJ970fLx_3",
        "colab_type": "code",
        "outputId": "188e7446-c194-4f33-b994-d609977a1e77",
        "colab": {
          "base_uri": "https://localhost:8080/",
          "height": 0
        }
      },
      "source": [
        "x2"
      ],
      "execution_count": 129,
      "outputs": [
        {
          "output_type": "execute_result",
          "data": {
            "text/plain": [
              "array([[3, 5, 2, 4],\n",
              "       [7, 6, 8, 8],\n",
              "       [1, 6, 7, 7]])"
            ]
          },
          "metadata": {
            "tags": []
          },
          "execution_count": 129
        }
      ]
    },
    {
      "cell_type": "code",
      "metadata": {
        "id": "1gxQq2orL1iL",
        "colab_type": "code",
        "outputId": "afe4053b-89bd-4b84-b38f-eef248ec5008",
        "colab": {
          "base_uri": "https://localhost:8080/",
          "height": 0
        }
      },
      "source": [
        "x2[0, 0]"
      ],
      "execution_count": 130,
      "outputs": [
        {
          "output_type": "execute_result",
          "data": {
            "text/plain": [
              "3"
            ]
          },
          "metadata": {
            "tags": []
          },
          "execution_count": 130
        }
      ]
    },
    {
      "cell_type": "code",
      "metadata": {
        "id": "5APvF9JfL6Y3",
        "colab_type": "code",
        "outputId": "39541102-47cb-4d65-c229-085ccb1290e0",
        "colab": {
          "base_uri": "https://localhost:8080/",
          "height": 0
        }
      },
      "source": [
        "x2[-1, -3]"
      ],
      "execution_count": 131,
      "outputs": [
        {
          "output_type": "execute_result",
          "data": {
            "text/plain": [
              "6"
            ]
          },
          "metadata": {
            "tags": []
          },
          "execution_count": 131
        }
      ]
    },
    {
      "cell_type": "code",
      "metadata": {
        "id": "31vZSu6lME8u",
        "colab_type": "code",
        "outputId": "c445877f-0b35-4f92-af1f-9e2a14f2e3be",
        "colab": {
          "base_uri": "https://localhost:8080/",
          "height": 0
        }
      },
      "source": [
        "x2[0, 0] = 12\n",
        "x2"
      ],
      "execution_count": 132,
      "outputs": [
        {
          "output_type": "execute_result",
          "data": {
            "text/plain": [
              "array([[12,  5,  2,  4],\n",
              "       [ 7,  6,  8,  8],\n",
              "       [ 1,  6,  7,  7]])"
            ]
          },
          "metadata": {
            "tags": []
          },
          "execution_count": 132
        }
      ]
    },
    {
      "cell_type": "code",
      "metadata": {
        "id": "UemiNvOxMMn8",
        "colab_type": "code",
        "outputId": "2e519299-9272-4be4-c57a-ceccd83c5f89",
        "colab": {
          "base_uri": "https://localhost:8080/",
          "height": 0
        }
      },
      "source": [
        "x1[0] = 3.14159\n",
        "x1"
      ],
      "execution_count": 133,
      "outputs": [
        {
          "output_type": "execute_result",
          "data": {
            "text/plain": [
              "array([3, 0, 3, 3, 7, 9])"
            ]
          },
          "metadata": {
            "tags": []
          },
          "execution_count": 133
        }
      ]
    },
    {
      "cell_type": "markdown",
      "metadata": {
        "id": "wSi6qtRhMcZO",
        "colab_type": "text"
      },
      "source": [
        "### Array Slicing: Accessing Subarrays"
      ]
    },
    {
      "cell_type": "code",
      "metadata": {
        "id": "J6SO0Yj9MgxQ",
        "colab_type": "code",
        "outputId": "3c34326f-58b5-4a9d-8145-0916125ff9bf",
        "colab": {
          "base_uri": "https://localhost:8080/",
          "height": 0
        }
      },
      "source": [
        "# x[start:stop:step]\n",
        "x = np.arange(10)\n",
        "x"
      ],
      "execution_count": 134,
      "outputs": [
        {
          "output_type": "execute_result",
          "data": {
            "text/plain": [
              "array([0, 1, 2, 3, 4, 5, 6, 7, 8, 9])"
            ]
          },
          "metadata": {
            "tags": []
          },
          "execution_count": 134
        }
      ]
    },
    {
      "cell_type": "code",
      "metadata": {
        "id": "QXMrNc3jSo8c",
        "colab_type": "code",
        "outputId": "d064026b-aa60-4a85-c1d3-7d5ecc2435fc",
        "colab": {
          "base_uri": "https://localhost:8080/",
          "height": 0
        }
      },
      "source": [
        "# First 5 elements\n",
        "x[:5]"
      ],
      "execution_count": 135,
      "outputs": [
        {
          "output_type": "execute_result",
          "data": {
            "text/plain": [
              "array([0, 1, 2, 3, 4])"
            ]
          },
          "metadata": {
            "tags": []
          },
          "execution_count": 135
        }
      ]
    },
    {
      "cell_type": "code",
      "metadata": {
        "id": "QeocUb2vStw7",
        "colab_type": "code",
        "outputId": "26d6e0bf-fec3-4cbe-805e-e3176497e815",
        "colab": {
          "base_uri": "https://localhost:8080/",
          "height": 0
        }
      },
      "source": [
        "# After index 5\n",
        "x[5:]"
      ],
      "execution_count": 136,
      "outputs": [
        {
          "output_type": "execute_result",
          "data": {
            "text/plain": [
              "array([5, 6, 7, 8, 9])"
            ]
          },
          "metadata": {
            "tags": []
          },
          "execution_count": 136
        }
      ]
    },
    {
      "cell_type": "code",
      "metadata": {
        "id": "nLReM4rbSzyz",
        "colab_type": "code",
        "outputId": "50314dc8-46c8-4761-d36c-517b0b896586",
        "colab": {
          "base_uri": "https://localhost:8080/",
          "height": 0
        }
      },
      "source": [
        "# Middle subarray\n",
        "x[4:7]"
      ],
      "execution_count": 137,
      "outputs": [
        {
          "output_type": "execute_result",
          "data": {
            "text/plain": [
              "array([4, 5, 6])"
            ]
          },
          "metadata": {
            "tags": []
          },
          "execution_count": 137
        }
      ]
    },
    {
      "cell_type": "code",
      "metadata": {
        "id": "A6htafbES4zT",
        "colab_type": "code",
        "outputId": "6f642978-e03a-462f-85c3-7bdf53a257e5",
        "colab": {
          "base_uri": "https://localhost:8080/",
          "height": 0
        }
      },
      "source": [
        "x[::2]"
      ],
      "execution_count": 138,
      "outputs": [
        {
          "output_type": "execute_result",
          "data": {
            "text/plain": [
              "array([0, 2, 4, 6, 8])"
            ]
          },
          "metadata": {
            "tags": []
          },
          "execution_count": 138
        }
      ]
    },
    {
      "cell_type": "code",
      "metadata": {
        "id": "hYDGlAEXTCBJ",
        "colab_type": "code",
        "outputId": "f15ca8a0-fda6-4e7e-d1bd-78912dd7f64c",
        "colab": {
          "base_uri": "https://localhost:8080/",
          "height": 0
        }
      },
      "source": [
        "x[1::2]"
      ],
      "execution_count": 139,
      "outputs": [
        {
          "output_type": "execute_result",
          "data": {
            "text/plain": [
              "array([1, 3, 5, 7, 9])"
            ]
          },
          "metadata": {
            "tags": []
          },
          "execution_count": 139
        }
      ]
    },
    {
      "cell_type": "code",
      "metadata": {
        "id": "ZCr0WmhKTGxX",
        "colab_type": "code",
        "outputId": "5b1841b2-5ee2-468f-8575-a2ea881c0192",
        "colab": {
          "base_uri": "https://localhost:8080/",
          "height": 0
        }
      },
      "source": [
        "# Reversed\n",
        "x[::-1]"
      ],
      "execution_count": 140,
      "outputs": [
        {
          "output_type": "execute_result",
          "data": {
            "text/plain": [
              "array([9, 8, 7, 6, 5, 4, 3, 2, 1, 0])"
            ]
          },
          "metadata": {
            "tags": []
          },
          "execution_count": 140
        }
      ]
    },
    {
      "cell_type": "code",
      "metadata": {
        "id": "fqV_2zzMTK90",
        "colab_type": "code",
        "outputId": "b472ca93-ca2a-471d-b1ff-74527c7e6117",
        "colab": {
          "base_uri": "https://localhost:8080/",
          "height": 0
        }
      },
      "source": [
        "x[5::-2]"
      ],
      "execution_count": 141,
      "outputs": [
        {
          "output_type": "execute_result",
          "data": {
            "text/plain": [
              "array([5, 3, 1])"
            ]
          },
          "metadata": {
            "tags": []
          },
          "execution_count": 141
        }
      ]
    },
    {
      "cell_type": "markdown",
      "metadata": {
        "id": "fKIgzJP5TavF",
        "colab_type": "text"
      },
      "source": [
        "* Multidimensional subarrays"
      ]
    },
    {
      "cell_type": "code",
      "metadata": {
        "id": "c2R08SMMTXIq",
        "colab_type": "code",
        "outputId": "c29a4b41-6cf6-4937-ea2e-8a1a07aa8186",
        "colab": {
          "base_uri": "https://localhost:8080/",
          "height": 0
        }
      },
      "source": [
        "x2"
      ],
      "execution_count": 142,
      "outputs": [
        {
          "output_type": "execute_result",
          "data": {
            "text/plain": [
              "array([[12,  5,  2,  4],\n",
              "       [ 7,  6,  8,  8],\n",
              "       [ 1,  6,  7,  7]])"
            ]
          },
          "metadata": {
            "tags": []
          },
          "execution_count": 142
        }
      ]
    },
    {
      "cell_type": "code",
      "metadata": {
        "id": "p2kz4w24TZlt",
        "colab_type": "code",
        "outputId": "3ae19bf4-abfc-44fb-e34d-d1286ce7c754",
        "colab": {
          "base_uri": "https://localhost:8080/",
          "height": 0
        }
      },
      "source": [
        "# 2 rows, 3 columns\n",
        "x2[:2, :3]"
      ],
      "execution_count": 143,
      "outputs": [
        {
          "output_type": "execute_result",
          "data": {
            "text/plain": [
              "array([[12,  5,  2],\n",
              "       [ 7,  6,  8]])"
            ]
          },
          "metadata": {
            "tags": []
          },
          "execution_count": 143
        }
      ]
    },
    {
      "cell_type": "code",
      "metadata": {
        "id": "BWPXx0yBTtxd",
        "colab_type": "code",
        "outputId": "86f7264b-12c7-468c-c668-6b8e2359049c",
        "colab": {
          "base_uri": "https://localhost:8080/",
          "height": 0
        }
      },
      "source": [
        "x2[:3, ::2]"
      ],
      "execution_count": 144,
      "outputs": [
        {
          "output_type": "execute_result",
          "data": {
            "text/plain": [
              "array([[12,  2],\n",
              "       [ 7,  8],\n",
              "       [ 1,  7]])"
            ]
          },
          "metadata": {
            "tags": []
          },
          "execution_count": 144
        }
      ]
    },
    {
      "cell_type": "code",
      "metadata": {
        "id": "sLJzYVJtT3RX",
        "colab_type": "code",
        "outputId": "3bdca788-cf7b-4c4b-d63b-b2befe199706",
        "colab": {
          "base_uri": "https://localhost:8080/",
          "height": 0
        }
      },
      "source": [
        "# Reversed\n",
        "x2[::-1, ::-1]"
      ],
      "execution_count": 145,
      "outputs": [
        {
          "output_type": "execute_result",
          "data": {
            "text/plain": [
              "array([[ 7,  7,  6,  1],\n",
              "       [ 8,  8,  6,  7],\n",
              "       [ 4,  2,  5, 12]])"
            ]
          },
          "metadata": {
            "tags": []
          },
          "execution_count": 145
        }
      ]
    },
    {
      "cell_type": "code",
      "metadata": {
        "id": "LpssuhVlUGeP",
        "colab_type": "code",
        "outputId": "34aea69f-768d-442b-c35c-9155963c3847",
        "colab": {
          "base_uri": "https://localhost:8080/",
          "height": 0
        }
      },
      "source": [
        "# First Column\n",
        "x2[:, 0]"
      ],
      "execution_count": 146,
      "outputs": [
        {
          "output_type": "execute_result",
          "data": {
            "text/plain": [
              "array([12,  7,  1])"
            ]
          },
          "metadata": {
            "tags": []
          },
          "execution_count": 146
        }
      ]
    },
    {
      "cell_type": "code",
      "metadata": {
        "id": "omCZpgpIUOW6",
        "colab_type": "code",
        "outputId": "20c1adc7-4f2a-42a8-baf7-c08b108ec9cd",
        "colab": {
          "base_uri": "https://localhost:8080/",
          "height": 0
        }
      },
      "source": [
        "# First row\n",
        "x2[0, :]"
      ],
      "execution_count": 147,
      "outputs": [
        {
          "output_type": "execute_result",
          "data": {
            "text/plain": [
              "array([12,  5,  2,  4])"
            ]
          },
          "metadata": {
            "tags": []
          },
          "execution_count": 147
        }
      ]
    },
    {
      "cell_type": "code",
      "metadata": {
        "id": "ktiREoXvUWCu",
        "colab_type": "code",
        "outputId": "a125b5a4-8753-4192-bccd-ac3b88fd0c1c",
        "colab": {
          "base_uri": "https://localhost:8080/",
          "height": 0
        }
      },
      "source": [
        "x2[0]"
      ],
      "execution_count": 148,
      "outputs": [
        {
          "output_type": "execute_result",
          "data": {
            "text/plain": [
              "array([12,  5,  2,  4])"
            ]
          },
          "metadata": {
            "tags": []
          },
          "execution_count": 148
        }
      ]
    },
    {
      "cell_type": "code",
      "metadata": {
        "id": "BVFhYdmvYtCg",
        "colab_type": "code",
        "outputId": "412038c0-e239-41eb-c089-54a804e2d4e7",
        "colab": {
          "base_uri": "https://localhost:8080/",
          "height": 0
        }
      },
      "source": [
        "# Subarray 2x2 no-copy view\n",
        "x2_sub = x2[:2, :2]\n",
        "x2_sub"
      ],
      "execution_count": 149,
      "outputs": [
        {
          "output_type": "execute_result",
          "data": {
            "text/plain": [
              "array([[12,  5],\n",
              "       [ 7,  6]])"
            ]
          },
          "metadata": {
            "tags": []
          },
          "execution_count": 149
        }
      ]
    },
    {
      "cell_type": "code",
      "metadata": {
        "id": "8hJ0OpNDZYma",
        "colab_type": "code",
        "outputId": "13d2bc06-07b3-48b9-eed7-152a4239d860",
        "colab": {
          "base_uri": "https://localhost:8080/",
          "height": 0
        }
      },
      "source": [
        "x2_sub[0, 0] = 99\n",
        "x2_sub"
      ],
      "execution_count": 150,
      "outputs": [
        {
          "output_type": "execute_result",
          "data": {
            "text/plain": [
              "array([[99,  5],\n",
              "       [ 7,  6]])"
            ]
          },
          "metadata": {
            "tags": []
          },
          "execution_count": 150
        }
      ]
    },
    {
      "cell_type": "code",
      "metadata": {
        "id": "yohu3YYAZc1Y",
        "colab_type": "code",
        "outputId": "8c4689b4-e1f4-4954-af3d-2286b4158738",
        "colab": {
          "base_uri": "https://localhost:8080/",
          "height": 0
        }
      },
      "source": [
        "x2"
      ],
      "execution_count": 151,
      "outputs": [
        {
          "output_type": "execute_result",
          "data": {
            "text/plain": [
              "array([[99,  5,  2,  4],\n",
              "       [ 7,  6,  8,  8],\n",
              "       [ 1,  6,  7,  7]])"
            ]
          },
          "metadata": {
            "tags": []
          },
          "execution_count": 151
        }
      ]
    },
    {
      "cell_type": "code",
      "metadata": {
        "id": "TGBTYdt-Zew4",
        "colab_type": "code",
        "outputId": "958f0658-21ef-41ad-f3b9-37a7396bee34",
        "colab": {
          "base_uri": "https://localhost:8080/",
          "height": 0
        }
      },
      "source": [
        "# Copy\n",
        "x2_sub_copy = x2[:2, :2].copy()\n",
        "x2_sub_copy"
      ],
      "execution_count": 152,
      "outputs": [
        {
          "output_type": "execute_result",
          "data": {
            "text/plain": [
              "array([[99,  5],\n",
              "       [ 7,  6]])"
            ]
          },
          "metadata": {
            "tags": []
          },
          "execution_count": 152
        }
      ]
    },
    {
      "cell_type": "code",
      "metadata": {
        "id": "5KRDbHeoZ5v5",
        "colab_type": "code",
        "outputId": "22b8ef3a-f079-4627-db1b-520f10089310",
        "colab": {
          "base_uri": "https://localhost:8080/",
          "height": 0
        }
      },
      "source": [
        "x2_sub_copy[0, 0] = 42\n",
        "x2_sub_copy"
      ],
      "execution_count": 153,
      "outputs": [
        {
          "output_type": "execute_result",
          "data": {
            "text/plain": [
              "array([[42,  5],\n",
              "       [ 7,  6]])"
            ]
          },
          "metadata": {
            "tags": []
          },
          "execution_count": 153
        }
      ]
    },
    {
      "cell_type": "code",
      "metadata": {
        "id": "FMacir3IZ9Ln",
        "colab_type": "code",
        "outputId": "b5b3cf09-2c65-4fd9-d5aa-1f331c9d3708",
        "colab": {
          "base_uri": "https://localhost:8080/",
          "height": 0
        }
      },
      "source": [
        "x2"
      ],
      "execution_count": 154,
      "outputs": [
        {
          "output_type": "execute_result",
          "data": {
            "text/plain": [
              "array([[99,  5,  2,  4],\n",
              "       [ 7,  6,  8,  8],\n",
              "       [ 1,  6,  7,  7]])"
            ]
          },
          "metadata": {
            "tags": []
          },
          "execution_count": 154
        }
      ]
    },
    {
      "cell_type": "markdown",
      "metadata": {
        "id": "mPTEc_ukaBcW",
        "colab_type": "text"
      },
      "source": [
        "### Reshaping of Arrays"
      ]
    },
    {
      "cell_type": "code",
      "metadata": {
        "id": "4zgKzu5-aEDj",
        "colab_type": "code",
        "outputId": "44b088e5-5f92-4618-ee36-b5c97a0097b3",
        "colab": {
          "base_uri": "https://localhost:8080/",
          "height": 0
        }
      },
      "source": [
        "grid = np.arange(1, 10).reshape((3, 3))\n",
        "grid"
      ],
      "execution_count": 155,
      "outputs": [
        {
          "output_type": "execute_result",
          "data": {
            "text/plain": [
              "array([[1, 2, 3],\n",
              "       [4, 5, 6],\n",
              "       [7, 8, 9]])"
            ]
          },
          "metadata": {
            "tags": []
          },
          "execution_count": 155
        }
      ]
    },
    {
      "cell_type": "code",
      "metadata": {
        "id": "5ZmBBUhkalKT",
        "colab_type": "code",
        "outputId": "661e19cc-99e6-4c2f-d2a0-6ab5a3d5e343",
        "colab": {
          "base_uri": "https://localhost:8080/",
          "height": 0
        }
      },
      "source": [
        "x = np.array([1, 2, 3])\n",
        "x"
      ],
      "execution_count": 156,
      "outputs": [
        {
          "output_type": "execute_result",
          "data": {
            "text/plain": [
              "array([1, 2, 3])"
            ]
          },
          "metadata": {
            "tags": []
          },
          "execution_count": 156
        }
      ]
    },
    {
      "cell_type": "code",
      "metadata": {
        "id": "Oqp9STJEasd-",
        "colab_type": "code",
        "outputId": "290def48-616b-4c1c-f6af-ea0d2140cb69",
        "colab": {
          "base_uri": "https://localhost:8080/",
          "height": 0
        }
      },
      "source": [
        "# row vector via reshape\n",
        "x.reshape((1, 3))\n",
        "# row vector via newaxis\n",
        "# x[np.newaxis, :]"
      ],
      "execution_count": 157,
      "outputs": [
        {
          "output_type": "execute_result",
          "data": {
            "text/plain": [
              "array([[1, 2, 3]])"
            ]
          },
          "metadata": {
            "tags": []
          },
          "execution_count": 157
        }
      ]
    },
    {
      "cell_type": "code",
      "metadata": {
        "id": "FZjeljYua4pp",
        "colab_type": "code",
        "outputId": "85962915-76d9-407e-97e9-5418fb8de788",
        "colab": {
          "base_uri": "https://localhost:8080/",
          "height": 0
        }
      },
      "source": [
        "# column vector via reshape\n",
        "x.reshape((3, 1))\n",
        "# column vector via newaxis\n",
        "# x[:, np.newaxis]"
      ],
      "execution_count": 158,
      "outputs": [
        {
          "output_type": "execute_result",
          "data": {
            "text/plain": [
              "array([[1],\n",
              "       [2],\n",
              "       [3]])"
            ]
          },
          "metadata": {
            "tags": []
          },
          "execution_count": 158
        }
      ]
    },
    {
      "cell_type": "markdown",
      "metadata": {
        "id": "3kxc7fH3bA-v",
        "colab_type": "text"
      },
      "source": [
        "### Array Concatenation and Splitting\n",
        "* Concatenation"
      ]
    },
    {
      "cell_type": "code",
      "metadata": {
        "id": "pP_oXQB-bE1P",
        "colab_type": "code",
        "outputId": "0ecbeca8-b45f-429f-bd32-c58c494c9f87",
        "colab": {
          "base_uri": "https://localhost:8080/",
          "height": 0
        }
      },
      "source": [
        "x = np.array([1, 2, 3])\n",
        "y = np.array([3, 2, 1])\n",
        "np.concatenate([x, y])"
      ],
      "execution_count": 159,
      "outputs": [
        {
          "output_type": "execute_result",
          "data": {
            "text/plain": [
              "array([1, 2, 3, 3, 2, 1])"
            ]
          },
          "metadata": {
            "tags": []
          },
          "execution_count": 159
        }
      ]
    },
    {
      "cell_type": "code",
      "metadata": {
        "id": "sG6EG1RfbUCn",
        "colab_type": "code",
        "outputId": "930308c9-d082-4b48-90f3-90d2d19c89ce",
        "colab": {
          "base_uri": "https://localhost:8080/",
          "height": 0
        }
      },
      "source": [
        "z = [99, 99, 99]\n",
        "np.concatenate([x, y, z])"
      ],
      "execution_count": 160,
      "outputs": [
        {
          "output_type": "execute_result",
          "data": {
            "text/plain": [
              "array([ 1,  2,  3,  3,  2,  1, 99, 99, 99])"
            ]
          },
          "metadata": {
            "tags": []
          },
          "execution_count": 160
        }
      ]
    },
    {
      "cell_type": "code",
      "metadata": {
        "id": "d-9rYpdtbv11",
        "colab_type": "code",
        "outputId": "7ecd45d9-8de6-4934-ca35-37aa486a13ae",
        "colab": {
          "base_uri": "https://localhost:8080/",
          "height": 0
        }
      },
      "source": [
        "grid = np.array([[1, 2, 3], [4, 5, 6]])\n",
        "\n",
        "# concatenate along the first axis\n",
        "np.concatenate([grid, grid])"
      ],
      "execution_count": 161,
      "outputs": [
        {
          "output_type": "execute_result",
          "data": {
            "text/plain": [
              "array([[1, 2, 3],\n",
              "       [4, 5, 6],\n",
              "       [1, 2, 3],\n",
              "       [4, 5, 6]])"
            ]
          },
          "metadata": {
            "tags": []
          },
          "execution_count": 161
        }
      ]
    },
    {
      "cell_type": "code",
      "metadata": {
        "id": "pAWJzkfHb7GM",
        "colab_type": "code",
        "outputId": "3a7fadc1-1d65-4419-b8ad-39625e777240",
        "colab": {
          "base_uri": "https://localhost:8080/",
          "height": 0
        }
      },
      "source": [
        "# concatenate along the second axis (zero-indexed)\n",
        "np.concatenate([grid, grid], axis=1)"
      ],
      "execution_count": 162,
      "outputs": [
        {
          "output_type": "execute_result",
          "data": {
            "text/plain": [
              "array([[1, 2, 3, 1, 2, 3],\n",
              "       [4, 5, 6, 4, 5, 6]])"
            ]
          },
          "metadata": {
            "tags": []
          },
          "execution_count": 162
        }
      ]
    },
    {
      "cell_type": "markdown",
      "metadata": {
        "id": "RiYtFO9PcCPI",
        "colab_type": "text"
      },
      "source": [
        "* Vertical Stack and Horizontal Stack (vstack, hstack)"
      ]
    },
    {
      "cell_type": "code",
      "metadata": {
        "id": "krhHihj-cKG9",
        "colab_type": "code",
        "outputId": "e9ef9fd7-e80e-4501-9e4b-c1b74f096c70",
        "colab": {
          "base_uri": "https://localhost:8080/",
          "height": 0
        }
      },
      "source": [
        "x = np.array([1, 2, 3])\n",
        "grid = np.array([[9, 8, 7], [6, 5, 4]])\n",
        "\n",
        "# vertically stack the arrays\n",
        "np.vstack([x, grid])"
      ],
      "execution_count": 163,
      "outputs": [
        {
          "output_type": "execute_result",
          "data": {
            "text/plain": [
              "array([[1, 2, 3],\n",
              "       [9, 8, 7],\n",
              "       [6, 5, 4]])"
            ]
          },
          "metadata": {
            "tags": []
          },
          "execution_count": 163
        }
      ]
    },
    {
      "cell_type": "code",
      "metadata": {
        "id": "ebvcP5CEcakb",
        "colab_type": "code",
        "outputId": "d25785f9-4d40-4c7c-df59-71374954c8c8",
        "colab": {
          "base_uri": "https://localhost:8080/",
          "height": 0
        }
      },
      "source": [
        "# horizontally stack the arrays\n",
        "y = np.array([[99],\n",
        "[99]])\n",
        "np.hstack([grid, y])"
      ],
      "execution_count": 164,
      "outputs": [
        {
          "output_type": "execute_result",
          "data": {
            "text/plain": [
              "array([[ 9,  8,  7, 99],\n",
              "       [ 6,  5,  4, 99]])"
            ]
          },
          "metadata": {
            "tags": []
          },
          "execution_count": 164
        }
      ]
    },
    {
      "cell_type": "markdown",
      "metadata": {
        "id": "bSNhJUMPcnAr",
        "colab_type": "text"
      },
      "source": [
        "* Splitting"
      ]
    },
    {
      "cell_type": "code",
      "metadata": {
        "id": "GA41cqBWco9C",
        "colab_type": "code",
        "outputId": "334bdc80-e2d9-4a63-85fd-d51e4258aa5d",
        "colab": {
          "base_uri": "https://localhost:8080/",
          "height": 0
        }
      },
      "source": [
        "# split, hsplit, vsplit\n",
        "x = [1, 2, 3, 99, 99, 3, 2, 1]\n",
        "x1, x2, x3 = np.split(x, [3, 5])\n",
        "print(x1, x2, x3)"
      ],
      "execution_count": 165,
      "outputs": [
        {
          "output_type": "stream",
          "text": [
            "[1 2 3] [99 99] [3 2 1]\n"
          ],
          "name": "stdout"
        }
      ]
    },
    {
      "cell_type": "code",
      "metadata": {
        "id": "gj22OlPCeN9x",
        "colab_type": "code",
        "outputId": "e9c9d0cb-dd3c-4015-af05-9b552f32f026",
        "colab": {
          "base_uri": "https://localhost:8080/",
          "height": 0
        }
      },
      "source": [
        "grid = np.arange(16).reshape((4, 4))\n",
        "grid"
      ],
      "execution_count": 166,
      "outputs": [
        {
          "output_type": "execute_result",
          "data": {
            "text/plain": [
              "array([[ 0,  1,  2,  3],\n",
              "       [ 4,  5,  6,  7],\n",
              "       [ 8,  9, 10, 11],\n",
              "       [12, 13, 14, 15]])"
            ]
          },
          "metadata": {
            "tags": []
          },
          "execution_count": 166
        }
      ]
    },
    {
      "cell_type": "code",
      "metadata": {
        "id": "9h-YfXrXeXnf",
        "colab_type": "code",
        "outputId": "c5983569-9446-4e2c-f004-9390b0f59e09",
        "colab": {
          "base_uri": "https://localhost:8080/",
          "height": 0
        }
      },
      "source": [
        "upper, lower = np.vsplit(grid, [2])\n",
        "print(upper)\n",
        "print(lower)"
      ],
      "execution_count": 167,
      "outputs": [
        {
          "output_type": "stream",
          "text": [
            "[[0 1 2 3]\n",
            " [4 5 6 7]]\n",
            "[[ 8  9 10 11]\n",
            " [12 13 14 15]]\n"
          ],
          "name": "stdout"
        }
      ]
    },
    {
      "cell_type": "code",
      "metadata": {
        "id": "spYle3xDefZl",
        "colab_type": "code",
        "outputId": "6ad9f62f-86be-4fb6-cb3b-b4b77a4d0794",
        "colab": {
          "base_uri": "https://localhost:8080/",
          "height": 0
        }
      },
      "source": [
        "left, right = np.hsplit(grid, [2])\n",
        "print(left)\n",
        "print(right)"
      ],
      "execution_count": 168,
      "outputs": [
        {
          "output_type": "stream",
          "text": [
            "[[ 0  1]\n",
            " [ 4  5]\n",
            " [ 8  9]\n",
            " [12 13]]\n",
            "[[ 2  3]\n",
            " [ 6  7]\n",
            " [10 11]\n",
            " [14 15]]\n"
          ],
          "name": "stdout"
        }
      ]
    },
    {
      "cell_type": "markdown",
      "metadata": {
        "id": "71vZoJHsesz5",
        "colab_type": "text"
      },
      "source": [
        ""
      ]
    },
    {
      "cell_type": "markdown",
      "metadata": {
        "id": "t1WmNhY6euyg",
        "colab_type": "text"
      },
      "source": [
        "## Computation on NumPy Arrays: Universal Functions"
      ]
    },
    {
      "cell_type": "markdown",
      "metadata": {
        "id": "_yzDLFuCe7Db",
        "colab_type": "text"
      },
      "source": [
        "### The Slowness of Loops"
      ]
    },
    {
      "cell_type": "code",
      "metadata": {
        "id": "_xAqWjE8e1Us",
        "colab_type": "code",
        "outputId": "e108c38c-b522-4b25-e464-bfd5d3cb1d4c",
        "colab": {
          "base_uri": "https://localhost:8080/",
          "height": 35
        }
      },
      "source": [
        "np.random.seed(0)\n",
        "\n",
        "def compute_reciprocals(values):\n",
        "  output = np.empty(len(values))\n",
        "  for i in range(len(values)):\n",
        "    output[i] = 1.0 / values[i]\n",
        "  return output\n",
        "\n",
        "values = np.random.randint(1, 10, size=5)\n",
        "compute_reciprocals(values)"
      ],
      "execution_count": 169,
      "outputs": [
        {
          "output_type": "execute_result",
          "data": {
            "text/plain": [
              "array([0.16666667, 1.        , 0.25      , 0.25      , 0.125     ])"
            ]
          },
          "metadata": {
            "tags": []
          },
          "execution_count": 169
        }
      ]
    },
    {
      "cell_type": "code",
      "metadata": {
        "id": "4DuXsPg2SLBW",
        "colab_type": "code",
        "outputId": "a2d92f02-358d-493a-b91a-349f150280f6",
        "colab": {
          "base_uri": "https://localhost:8080/",
          "height": 0
        }
      },
      "source": [
        "big_array = np.random.randint(1, 100, size=1000000)\n",
        "%timeit compute_reciprocals(big_array)"
      ],
      "execution_count": 170,
      "outputs": [
        {
          "output_type": "stream",
          "text": [
            "1 loop, best of 3: 2.32 s per loop\n"
          ],
          "name": "stdout"
        }
      ]
    },
    {
      "cell_type": "markdown",
      "metadata": {
        "id": "_5n3i_9ESmJH",
        "colab_type": "text"
      },
      "source": [
        "### Introducing UFuncs"
      ]
    },
    {
      "cell_type": "code",
      "metadata": {
        "id": "G2MmHO1SSpPR",
        "colab_type": "code",
        "outputId": "2f88f90f-07fb-4b3f-f464-4809ec4609a1",
        "colab": {
          "base_uri": "https://localhost:8080/",
          "height": 0
        }
      },
      "source": [
        "print(compute_reciprocals(values))\n",
        "print(1.0 / values)"
      ],
      "execution_count": 171,
      "outputs": [
        {
          "output_type": "stream",
          "text": [
            "[0.16666667 1.         0.25       0.25       0.125     ]\n",
            "[0.16666667 1.         0.25       0.25       0.125     ]\n"
          ],
          "name": "stdout"
        }
      ]
    },
    {
      "cell_type": "code",
      "metadata": {
        "id": "sIaR6CN9ta6w",
        "colab_type": "code",
        "outputId": "2a1a8832-09bc-4aa9-95da-4f83b863636d",
        "colab": {
          "base_uri": "https://localhost:8080/",
          "height": 0
        }
      },
      "source": [
        "%timeit (1.0 / big_array)"
      ],
      "execution_count": 172,
      "outputs": [
        {
          "output_type": "stream",
          "text": [
            "100 loops, best of 3: 2.47 ms per loop\n"
          ],
          "name": "stdout"
        }
      ]
    },
    {
      "cell_type": "code",
      "metadata": {
        "id": "bNOfBc3ntuXq",
        "colab_type": "code",
        "outputId": "b598ba33-b98e-45c4-d89a-aa3678f5e84f",
        "colab": {
          "base_uri": "https://localhost:8080/",
          "height": 0
        }
      },
      "source": [
        "np.arange(5) / np.arange(1, 6)"
      ],
      "execution_count": 173,
      "outputs": [
        {
          "output_type": "execute_result",
          "data": {
            "text/plain": [
              "array([0.        , 0.5       , 0.66666667, 0.75      , 0.8       ])"
            ]
          },
          "metadata": {
            "tags": []
          },
          "execution_count": 173
        }
      ]
    },
    {
      "cell_type": "code",
      "metadata": {
        "id": "tBdt-m6Rt6cw",
        "colab_type": "code",
        "outputId": "b5f9cfb9-bd4c-4590-b6a4-a4e8670ef803",
        "colab": {
          "base_uri": "https://localhost:8080/",
          "height": 0
        }
      },
      "source": [
        "x = np.arange(9).reshape((3, 3))\n",
        "2 ** x"
      ],
      "execution_count": 174,
      "outputs": [
        {
          "output_type": "execute_result",
          "data": {
            "text/plain": [
              "array([[  1,   2,   4],\n",
              "       [  8,  16,  32],\n",
              "       [ 64, 128, 256]])"
            ]
          },
          "metadata": {
            "tags": []
          },
          "execution_count": 174
        }
      ]
    },
    {
      "cell_type": "markdown",
      "metadata": {
        "id": "EKqhACbDuGJz",
        "colab_type": "text"
      },
      "source": [
        "### Exploring NumPy's UFuncs\n",
        "* Array Arithmetic"
      ]
    },
    {
      "cell_type": "code",
      "metadata": {
        "id": "2a7OFDk6uJ1-",
        "colab_type": "code",
        "outputId": "858e3258-2675-4852-d34e-07713675642a",
        "colab": {
          "base_uri": "https://localhost:8080/",
          "height": 0
        }
      },
      "source": [
        "x = np.arange(4)\n",
        "print(\"x =\", x)\n",
        "print(\"x + 5 =\", x + 5)\n",
        "print(\"x - 5 =\", x - 5)\n",
        "print(\"x * 2 =\", x * 2)\n",
        "print(\"x / 2 =\", x / 2)\n",
        "print(\"x // 2 =\", x // 2) # floor division\n",
        "print(\"-x = \", -x)\n",
        "print(\"x ** 2 = \", x ** 2)\n",
        "print(\"x % 2 = \", x % 2)"
      ],
      "execution_count": 175,
      "outputs": [
        {
          "output_type": "stream",
          "text": [
            "x = [0 1 2 3]\n",
            "x + 5 = [5 6 7 8]\n",
            "x - 5 = [-5 -4 -3 -2]\n",
            "x * 2 = [0 2 4 6]\n",
            "x / 2 = [0.  0.5 1.  1.5]\n",
            "x // 2 = [0 0 1 1]\n",
            "-x =  [ 0 -1 -2 -3]\n",
            "x ** 2 =  [0 1 4 9]\n",
            "x % 2 =  [0 1 0 1]\n"
          ],
          "name": "stdout"
        }
      ]
    },
    {
      "cell_type": "code",
      "metadata": {
        "id": "Eg_4-xImvRxI",
        "colab_type": "code",
        "outputId": "5e9216b7-936d-4513-fe71-dfb2bafc4597",
        "colab": {
          "base_uri": "https://localhost:8080/",
          "height": 0
        }
      },
      "source": [
        "-(0.5*x + 1) ** 2"
      ],
      "execution_count": 176,
      "outputs": [
        {
          "output_type": "execute_result",
          "data": {
            "text/plain": [
              "array([-1.  , -2.25, -4.  , -6.25])"
            ]
          },
          "metadata": {
            "tags": []
          },
          "execution_count": 176
        }
      ]
    },
    {
      "cell_type": "code",
      "metadata": {
        "id": "4zA0usf7vaV_",
        "colab_type": "code",
        "outputId": "07e85bb5-36a7-4dfc-d707-1a09d2506583",
        "colab": {
          "base_uri": "https://localhost:8080/",
          "height": 0
        }
      },
      "source": [
        "# + operator = add()\n",
        "np.add(x, 2)"
      ],
      "execution_count": 177,
      "outputs": [
        {
          "output_type": "execute_result",
          "data": {
            "text/plain": [
              "array([2, 3, 4, 5])"
            ]
          },
          "metadata": {
            "tags": []
          },
          "execution_count": 177
        }
      ]
    },
    {
      "cell_type": "markdown",
      "metadata": {
        "id": "kRbzyxy0vrpT",
        "colab_type": "text"
      },
      "source": [
        "* Absolute value"
      ]
    },
    {
      "cell_type": "code",
      "metadata": {
        "id": "iZE3stiGvtwU",
        "colab_type": "code",
        "outputId": "18893f35-9587-4280-8bbb-16cef4706940",
        "colab": {
          "base_uri": "https://localhost:8080/",
          "height": 0
        }
      },
      "source": [
        "x = np.array([-2, -1, 0, 1, 2])\n",
        "abs(x)"
      ],
      "execution_count": 178,
      "outputs": [
        {
          "output_type": "execute_result",
          "data": {
            "text/plain": [
              "array([2, 1, 0, 1, 2])"
            ]
          },
          "metadata": {
            "tags": []
          },
          "execution_count": 178
        }
      ]
    },
    {
      "cell_type": "code",
      "metadata": {
        "id": "1yl7XMMywvc8",
        "colab_type": "code",
        "outputId": "31872b5e-7f57-48a0-c267-f57d20d256ed",
        "colab": {
          "base_uri": "https://localhost:8080/",
          "height": 0
        }
      },
      "source": [
        "np.absolute(x)"
      ],
      "execution_count": 179,
      "outputs": [
        {
          "output_type": "execute_result",
          "data": {
            "text/plain": [
              "array([2, 1, 0, 1, 2])"
            ]
          },
          "metadata": {
            "tags": []
          },
          "execution_count": 179
        }
      ]
    },
    {
      "cell_type": "code",
      "metadata": {
        "id": "UlAIrT-Iwyg7",
        "colab_type": "code",
        "outputId": "bf43281f-d5d0-4577-be6f-5a537aa30ad0",
        "colab": {
          "base_uri": "https://localhost:8080/",
          "height": 0
        }
      },
      "source": [
        "np.abs(x)"
      ],
      "execution_count": 180,
      "outputs": [
        {
          "output_type": "execute_result",
          "data": {
            "text/plain": [
              "array([2, 1, 0, 1, 2])"
            ]
          },
          "metadata": {
            "tags": []
          },
          "execution_count": 180
        }
      ]
    },
    {
      "cell_type": "code",
      "metadata": {
        "id": "WAqVk12tw6qp",
        "colab_type": "code",
        "outputId": "a0c565ec-bfc3-4912-96a1-59b15c97308e",
        "colab": {
          "base_uri": "https://localhost:8080/",
          "height": 0
        }
      },
      "source": [
        "x = np.array([3 - 4j, 4 - 3j, 2 + 0j, 0 + 1j])\n",
        "np.abs(x)"
      ],
      "execution_count": 181,
      "outputs": [
        {
          "output_type": "execute_result",
          "data": {
            "text/plain": [
              "array([5., 5., 2., 1.])"
            ]
          },
          "metadata": {
            "tags": []
          },
          "execution_count": 181
        }
      ]
    },
    {
      "cell_type": "markdown",
      "metadata": {
        "id": "KNwYbuOkxuKP",
        "colab_type": "text"
      },
      "source": [
        "* Trigonometric functions"
      ]
    },
    {
      "cell_type": "code",
      "metadata": {
        "id": "HccO4LiCxwx8",
        "colab_type": "code",
        "outputId": "647372a3-8682-448b-f7da-5d945b48976e",
        "colab": {
          "base_uri": "https://localhost:8080/",
          "height": 0
        }
      },
      "source": [
        "theta = np.linspace(0, np.pi, 3) # Array of angles\n",
        "\n",
        "print(\"theta = \", theta)\n",
        "print(\"sin(theta) = \", np.sin(theta))\n",
        "print(\"cos(theta) = \", np.cos(theta))\n",
        "print(\"tan(theta) = \", np.tan(theta))"
      ],
      "execution_count": 182,
      "outputs": [
        {
          "output_type": "stream",
          "text": [
            "theta =  [0.         1.57079633 3.14159265]\n",
            "sin(theta) =  [0.0000000e+00 1.0000000e+00 1.2246468e-16]\n",
            "cos(theta) =  [ 1.000000e+00  6.123234e-17 -1.000000e+00]\n",
            "tan(theta) =  [ 0.00000000e+00  1.63312394e+16 -1.22464680e-16]\n"
          ],
          "name": "stdout"
        }
      ]
    },
    {
      "cell_type": "markdown",
      "metadata": {
        "id": "1bfdJ2wa0ihe",
        "colab_type": "text"
      },
      "source": [
        "* Inverse trigonometric functions"
      ]
    },
    {
      "cell_type": "code",
      "metadata": {
        "id": "ZuFe4WMS0ldo",
        "colab_type": "code",
        "outputId": "787c1916-e825-46e4-c132-7409268de22a",
        "colab": {
          "base_uri": "https://localhost:8080/",
          "height": 0
        }
      },
      "source": [
        "x = [-1, 0, 1]\n",
        "print(\"x = \", x)\n",
        "print(\"arcsin(x) = \", np.arcsin(x))\n",
        "print(\"arccos(x) = \", np.arccos(x))\n",
        "print(\"arctan(x) = \", np.arctan(x))"
      ],
      "execution_count": 183,
      "outputs": [
        {
          "output_type": "stream",
          "text": [
            "x =  [-1, 0, 1]\n",
            "arcsin(x) =  [-1.57079633  0.          1.57079633]\n",
            "arccos(x) =  [3.14159265 1.57079633 0.        ]\n",
            "arctan(x) =  [-0.78539816  0.          0.78539816]\n"
          ],
          "name": "stdout"
        }
      ]
    },
    {
      "cell_type": "markdown",
      "metadata": {
        "id": "wEJu4gzP0x2_",
        "colab_type": "text"
      },
      "source": [
        "* Exponents and logarithms"
      ]
    },
    {
      "cell_type": "code",
      "metadata": {
        "id": "AMvTuu1w0018",
        "colab_type": "code",
        "outputId": "7edc342a-e0b5-4d1a-cfe8-5141487e6d0b",
        "colab": {
          "base_uri": "https://localhost:8080/",
          "height": 0
        }
      },
      "source": [
        "x = [1, 2, 3]\n",
        "print(\"x =\", x)\n",
        "print(\"e^x =\", np.exp(x))\n",
        "print(\"2^x =\", np.exp2(x))\n",
        "print(\"3^x =\", np.power(3, x))"
      ],
      "execution_count": 184,
      "outputs": [
        {
          "output_type": "stream",
          "text": [
            "x = [1, 2, 3]\n",
            "e^x = [ 2.71828183  7.3890561  20.08553692]\n",
            "2^x = [2. 4. 8.]\n",
            "3^x = [ 3  9 27]\n"
          ],
          "name": "stdout"
        }
      ]
    },
    {
      "cell_type": "code",
      "metadata": {
        "id": "yfkAGbxR06Q_",
        "colab_type": "code",
        "outputId": "4f3cedb2-e2f4-4f56-f502-b9497b38ae01",
        "colab": {
          "base_uri": "https://localhost:8080/",
          "height": 0
        }
      },
      "source": [
        "x = [1, 2, 4, 10]\n",
        "print(\"x =\", x)\n",
        "print(\"ln(x) =\", np.log(x))\n",
        "print(\"log2(x) =\", np.log2(x))\n",
        "print(\"log10(x) =\", np.log10(x))"
      ],
      "execution_count": 185,
      "outputs": [
        {
          "output_type": "stream",
          "text": [
            "x = [1, 2, 4, 10]\n",
            "ln(x) = [0.         0.69314718 1.38629436 2.30258509]\n",
            "log2(x) = [0.         1.         2.         3.32192809]\n",
            "log10(x) = [0.         0.30103    0.60205999 1.        ]\n"
          ],
          "name": "stdout"
        }
      ]
    },
    {
      "cell_type": "code",
      "metadata": {
        "id": "4P75jjWU1L3D",
        "colab_type": "code",
        "outputId": "4f9554d3-a67c-4a16-8018-603b0e383309",
        "colab": {
          "base_uri": "https://localhost:8080/",
          "height": 0
        }
      },
      "source": [
        "# Maintain precision with very small inputs\n",
        "x = [0, 0.001, 0.01, 0.1]\n",
        "print(\"exp(x) - 1 =\", np.expm1(x))\n",
        "print(\"log(1 + x) =\", np.log1p(x))"
      ],
      "execution_count": 186,
      "outputs": [
        {
          "output_type": "stream",
          "text": [
            "exp(x) - 1 = [0.         0.0010005  0.01005017 0.10517092]\n",
            "log(1 + x) = [0.         0.0009995  0.00995033 0.09531018]\n"
          ],
          "name": "stdout"
        }
      ]
    },
    {
      "cell_type": "markdown",
      "metadata": {
        "id": "g4H-omhR1Z0h",
        "colab_type": "text"
      },
      "source": [
        "* Specialized ufuncs"
      ]
    },
    {
      "cell_type": "code",
      "metadata": {
        "id": "hupDNiut1hje",
        "colab_type": "code",
        "outputId": "88eab70d-ae50-475b-ac2a-468ef38b9515",
        "colab": {
          "base_uri": "https://localhost:8080/",
          "height": 0
        }
      },
      "source": [
        "from scipy import special\n",
        "\n",
        "# Gamma functions (generalized factorials) and related functions\n",
        "x = [1, 5, 10]\n",
        "print(\"gamma(x) =\", special.gamma(x))\n",
        "print(\"ln|gamma(x)| =\", special.gammaln(x))\n",
        "print(\"beta(x, 2) =\", special.beta(x, 2))"
      ],
      "execution_count": 187,
      "outputs": [
        {
          "output_type": "stream",
          "text": [
            "gamma(x) = [1.0000e+00 2.4000e+01 3.6288e+05]\n",
            "ln|gamma(x)| = [ 0.          3.17805383 12.80182748]\n",
            "beta(x, 2) = [0.5        0.03333333 0.00909091]\n"
          ],
          "name": "stdout"
        }
      ]
    },
    {
      "cell_type": "code",
      "metadata": {
        "id": "tsZy2NdA2RVR",
        "colab_type": "code",
        "outputId": "aed59462-c093-405f-a7b2-cb3a0c424673",
        "colab": {
          "base_uri": "https://localhost:8080/",
          "height": 0
        }
      },
      "source": [
        "# Error function (integral of Gaussian)\n",
        "# its complement, and its inverse\n",
        "x = np.array([0, 0.3, 0.7, 1.0])\n",
        "print(\"erf(x) =\", special.erf(x))\n",
        "print(\"erfc(x) =\", special.erfc(x))\n",
        "print(\"erfinv(x) =\", special.erfinv(x))"
      ],
      "execution_count": 188,
      "outputs": [
        {
          "output_type": "stream",
          "text": [
            "erf(x) = [0.         0.32862676 0.67780119 0.84270079]\n",
            "erfc(x) = [1.         0.67137324 0.32219881 0.15729921]\n",
            "erfinv(x) = [0.         0.27246271 0.73286908        inf]\n"
          ],
          "name": "stdout"
        }
      ]
    },
    {
      "cell_type": "markdown",
      "metadata": {
        "id": "qOO5779X2bOe",
        "colab_type": "text"
      },
      "source": [
        "### Advanced UFunc Features\n",
        "* Specifying output"
      ]
    },
    {
      "cell_type": "code",
      "metadata": {
        "id": "FJ-n9z482cwB",
        "colab_type": "code",
        "outputId": "716af36d-07ba-410b-f1cc-af4972bb4a41",
        "colab": {
          "base_uri": "https://localhost:8080/",
          "height": 0
        }
      },
      "source": [
        "# out argument of ufuncs\n",
        "x = np.arange(5)\n",
        "y = np.empty(5)\n",
        "np.multiply(x, 10, out=y)\n",
        "print(y)"
      ],
      "execution_count": 189,
      "outputs": [
        {
          "output_type": "stream",
          "text": [
            "[ 0. 10. 20. 30. 40.]\n"
          ],
          "name": "stdout"
        }
      ]
    },
    {
      "cell_type": "code",
      "metadata": {
        "id": "BROOh4Mc3pd3",
        "colab_type": "code",
        "outputId": "5c95ee96-87a2-4d7d-ccec-8522a00fb092",
        "colab": {
          "base_uri": "https://localhost:8080/",
          "height": 0
        }
      },
      "source": [
        "y = np.zeros(10)\n",
        "np.power(2, x, out=y[::2])\n",
        "print(y)"
      ],
      "execution_count": 190,
      "outputs": [
        {
          "output_type": "stream",
          "text": [
            "[ 1.  0.  2.  0.  4.  0.  8.  0. 16.  0.]\n"
          ],
          "name": "stdout"
        }
      ]
    },
    {
      "cell_type": "markdown",
      "metadata": {
        "id": "OpQd9qfR30SF",
        "colab_type": "text"
      },
      "source": [
        "* Aggregates"
      ]
    },
    {
      "cell_type": "code",
      "metadata": {
        "id": "zvcok26z32Iw",
        "colab_type": "code",
        "outputId": "83de7298-dcdc-45e2-87b9-da728bb9e383",
        "colab": {
          "base_uri": "https://localhost:8080/",
          "height": 0
        }
      },
      "source": [
        "x = np.arange(1, 6)\n",
        "np.add.reduce(x) # A reduce repeatedly applies a given operation to the elements of an array until only a single result remains."
      ],
      "execution_count": 191,
      "outputs": [
        {
          "output_type": "execute_result",
          "data": {
            "text/plain": [
              "15"
            ]
          },
          "metadata": {
            "tags": []
          },
          "execution_count": 191
        }
      ]
    },
    {
      "cell_type": "code",
      "metadata": {
        "id": "odfv2VHb4hHG",
        "colab_type": "code",
        "outputId": "08c37e03-aafa-4728-cc58-c54a2898edbc",
        "colab": {
          "base_uri": "https://localhost:8080/",
          "height": 0
        }
      },
      "source": [
        "np.multiply.reduce(x)"
      ],
      "execution_count": 192,
      "outputs": [
        {
          "output_type": "execute_result",
          "data": {
            "text/plain": [
              "120"
            ]
          },
          "metadata": {
            "tags": []
          },
          "execution_count": 192
        }
      ]
    },
    {
      "cell_type": "code",
      "metadata": {
        "id": "HB_73i8L4rp7",
        "colab_type": "code",
        "outputId": "bbf656f2-a596-4c8d-dbaf-b57aae807dc3",
        "colab": {
          "base_uri": "https://localhost:8080/",
          "height": 0
        }
      },
      "source": [
        "# If we’d like to store all the intermediate results of the computation, we can instead use accumulate \n",
        "np.add.accumulate(x)"
      ],
      "execution_count": 193,
      "outputs": [
        {
          "output_type": "execute_result",
          "data": {
            "text/plain": [
              "array([ 1,  3,  6, 10, 15])"
            ]
          },
          "metadata": {
            "tags": []
          },
          "execution_count": 193
        }
      ]
    },
    {
      "cell_type": "code",
      "metadata": {
        "id": "kQOIE6jD43ou",
        "colab_type": "code",
        "outputId": "9eb66ef8-0a70-4622-848c-1ddfc726e259",
        "colab": {
          "base_uri": "https://localhost:8080/",
          "height": 0
        }
      },
      "source": [
        "np.multiply.accumulate(x)"
      ],
      "execution_count": 194,
      "outputs": [
        {
          "output_type": "execute_result",
          "data": {
            "text/plain": [
              "array([  1,   2,   6,  24, 120])"
            ]
          },
          "metadata": {
            "tags": []
          },
          "execution_count": 194
        }
      ]
    },
    {
      "cell_type": "markdown",
      "metadata": {
        "id": "R6jLSZEY5FgK",
        "colab_type": "text"
      },
      "source": [
        "* Outer products"
      ]
    },
    {
      "cell_type": "code",
      "metadata": {
        "id": "d108MX_h5Hob",
        "colab_type": "code",
        "outputId": "94c49d79-de2d-4c68-94b6-337f6fffb852",
        "colab": {
          "base_uri": "https://localhost:8080/",
          "height": 0
        }
      },
      "source": [
        "x = np.arange(1, 6)\n",
        "np.multiply.outer(x, x)"
      ],
      "execution_count": 195,
      "outputs": [
        {
          "output_type": "execute_result",
          "data": {
            "text/plain": [
              "array([[ 1,  2,  3,  4,  5],\n",
              "       [ 2,  4,  6,  8, 10],\n",
              "       [ 3,  6,  9, 12, 15],\n",
              "       [ 4,  8, 12, 16, 20],\n",
              "       [ 5, 10, 15, 20, 25]])"
            ]
          },
          "metadata": {
            "tags": []
          },
          "execution_count": 195
        }
      ]
    },
    {
      "cell_type": "markdown",
      "metadata": {
        "id": "pbA-H_Hj5ptU",
        "colab_type": "text"
      },
      "source": [
        "## Aggregations: Min, Max, and Everything in Between"
      ]
    },
    {
      "cell_type": "markdown",
      "metadata": {
        "id": "gFzbMbOQUuug",
        "colab_type": "text"
      },
      "source": [
        "### Summing the Values in an Array"
      ]
    },
    {
      "cell_type": "code",
      "metadata": {
        "id": "k1MCNEYn5y74",
        "colab_type": "code",
        "outputId": "d013a3ea-2a28-4654-bac4-a75efc6b6c82",
        "colab": {
          "base_uri": "https://localhost:8080/",
          "height": 0
        }
      },
      "source": [
        "L = np.random.random(100)\n",
        "print(L)\n",
        "print(sum(L))"
      ],
      "execution_count": 196,
      "outputs": [
        {
          "output_type": "stream",
          "text": [
            "[0.25241011 0.97572458 0.1197632  0.20856888 0.23983126 0.39034023\n",
            " 0.61318864 0.8603706  0.34645385 0.2939397  0.39274799 0.69444295\n",
            " 0.71234984 0.64181726 0.14519247 0.91796933 0.02800916 0.53171561\n",
            " 0.34500616 0.80695872 0.07155939 0.20794804 0.24551118 0.77437728\n",
            " 0.45116519 0.08043329 0.09711552 0.06215684 0.16934182 0.468866\n",
            " 0.87884932 0.09785878 0.12446372 0.42253024 0.39034562 0.35621026\n",
            " 0.99663284 0.55823601 0.84371046 0.78986544 0.99105381 0.28137886\n",
            " 0.01765187 0.6559858  0.61765416 0.17973144 0.84749539 0.46820265\n",
            " 0.97459109 0.60303019 0.31209932 0.63006004 0.93992516 0.36891447\n",
            " 0.86732999 0.45108972 0.67813826 0.82235473 0.21737642 0.21458453\n",
            " 0.75687255 0.891968   0.91821687 0.85946    0.50718748 0.10660595\n",
            " 0.64094331 0.78333905 0.28045269 0.2888203  0.39869403 0.21810444\n",
            " 0.41660806 0.69813452 0.81783624 0.72199978 0.28087945 0.0323053\n",
            " 0.10372152 0.53005891 0.69079487 0.99206462 0.19107554 0.80362599\n",
            " 0.27757786 0.95501989 0.34106202 0.05331828 0.90524432 0.82573516\n",
            " 0.47536596 0.20202806 0.90823836 0.73882912 0.97343133 0.04370114\n",
            " 0.75900897 0.13531095 0.88282561 0.3126663 ]\n",
            "50.461758453195614\n"
          ],
          "name": "stdout"
        }
      ]
    },
    {
      "cell_type": "code",
      "metadata": {
        "id": "9HPQx4bxXOXZ",
        "colab_type": "code",
        "outputId": "aaf963d6-a57c-42a7-9a5d-f8732d66ff9d",
        "colab": {
          "base_uri": "https://localhost:8080/",
          "height": 0
        }
      },
      "source": [
        "np.sum(L)"
      ],
      "execution_count": 197,
      "outputs": [
        {
          "output_type": "execute_result",
          "data": {
            "text/plain": [
              "50.46175845319564"
            ]
          },
          "metadata": {
            "tags": []
          },
          "execution_count": 197
        }
      ]
    },
    {
      "cell_type": "code",
      "metadata": {
        "id": "HDhuZocmXZIB",
        "colab_type": "code",
        "outputId": "6e5f069b-4d4a-467d-90cc-57e3094ec087",
        "colab": {
          "base_uri": "https://localhost:8080/",
          "height": 0
        }
      },
      "source": [
        "# NumPy's version is faster\n",
        "big_array = np.random.rand(1000000)\n",
        "%timeit sum(big_array)\n",
        "%timeit np.sum(big_array)"
      ],
      "execution_count": 198,
      "outputs": [
        {
          "output_type": "stream",
          "text": [
            "10 loops, best of 3: 153 ms per loop\n",
            "1000 loops, best of 3: 339 µs per loop\n"
          ],
          "name": "stdout"
        }
      ]
    },
    {
      "cell_type": "markdown",
      "metadata": {
        "id": "EhCVwNC0XzAX",
        "colab_type": "text"
      },
      "source": [
        "### Minimum and Maximum"
      ]
    },
    {
      "cell_type": "code",
      "metadata": {
        "id": "0vJKT8GfX1c3",
        "colab_type": "code",
        "outputId": "462df576-56d5-4fdc-d50a-de2d3316236c",
        "colab": {
          "base_uri": "https://localhost:8080/",
          "height": 35
        }
      },
      "source": [
        "# Python's Version\n",
        "min(big_array), max(big_array)"
      ],
      "execution_count": 199,
      "outputs": [
        {
          "output_type": "execute_result",
          "data": {
            "text/plain": [
              "(7.071203171893359e-07, 0.9999997207656334)"
            ]
          },
          "metadata": {
            "tags": []
          },
          "execution_count": 199
        }
      ]
    },
    {
      "cell_type": "code",
      "metadata": {
        "id": "WDfuio7SYAVN",
        "colab_type": "code",
        "outputId": "7d9dc45f-9c8a-4547-f810-d8483df97c2d",
        "colab": {
          "base_uri": "https://localhost:8080/",
          "height": 35
        }
      },
      "source": [
        "# NumPy's Version (Faster)\n",
        "np.min(big_array), np.max(big_array)"
      ],
      "execution_count": 200,
      "outputs": [
        {
          "output_type": "execute_result",
          "data": {
            "text/plain": [
              "(7.071203171893359e-07, 0.9999997207656334)"
            ]
          },
          "metadata": {
            "tags": []
          },
          "execution_count": 200
        }
      ]
    },
    {
      "cell_type": "code",
      "metadata": {
        "id": "vMUSiBujYSWz",
        "colab_type": "code",
        "outputId": "efea2c51-6683-43fd-e872-c3cd1c927508",
        "colab": {
          "base_uri": "https://localhost:8080/",
          "height": 54
        }
      },
      "source": [
        "%timeit min(big_array)\n",
        "%timeit np.min(big_array)"
      ],
      "execution_count": 201,
      "outputs": [
        {
          "output_type": "stream",
          "text": [
            "10 loops, best of 3: 94.7 ms per loop\n",
            "1000 loops, best of 3: 407 µs per loop\n"
          ],
          "name": "stdout"
        }
      ]
    },
    {
      "cell_type": "code",
      "metadata": {
        "id": "q2WZLCPSYYKf",
        "colab_type": "code",
        "outputId": "e1829a49-5e83-4aab-d874-f70f597370ca",
        "colab": {
          "base_uri": "https://localhost:8080/",
          "height": 35
        }
      },
      "source": [
        "# Using array methods\n",
        "print(big_array.min(), big_array.max(), big_array.sum())"
      ],
      "execution_count": 202,
      "outputs": [
        {
          "output_type": "stream",
          "text": [
            "7.071203171893359e-07 0.9999997207656334 500216.8034810001\n"
          ],
          "name": "stdout"
        }
      ]
    },
    {
      "cell_type": "markdown",
      "metadata": {
        "id": "NyxCYoAwYk_v",
        "colab_type": "text"
      },
      "source": [
        "* Multidimensional aggregates"
      ]
    },
    {
      "cell_type": "code",
      "metadata": {
        "id": "03BXTc1jYobV",
        "colab_type": "code",
        "outputId": "d5f157da-d142-4625-d38a-9196506676e6",
        "colab": {
          "base_uri": "https://localhost:8080/",
          "height": 72
        }
      },
      "source": [
        "M = np.random.random((3, 4))\n",
        "print(M)"
      ],
      "execution_count": 203,
      "outputs": [
        {
          "output_type": "stream",
          "text": [
            "[[0.79832448 0.44923861 0.95274259 0.03193135]\n",
            " [0.18441813 0.71417358 0.76371195 0.11957117]\n",
            " [0.37578601 0.11936151 0.37497044 0.22944653]]\n"
          ],
          "name": "stdout"
        }
      ]
    },
    {
      "cell_type": "code",
      "metadata": {
        "id": "Ftlv40nzYwLY",
        "colab_type": "code",
        "outputId": "90f77ebb-8944-4fc0-8b35-af89c222589b",
        "colab": {
          "base_uri": "https://localhost:8080/",
          "height": 35
        }
      },
      "source": [
        "# By default, each NumPy aggregation function will return the aggregate over the entire array\n",
        "M.sum()"
      ],
      "execution_count": 204,
      "outputs": [
        {
          "output_type": "execute_result",
          "data": {
            "text/plain": [
              "5.1136763453287335"
            ]
          },
          "metadata": {
            "tags": []
          },
          "execution_count": 204
        }
      ]
    },
    {
      "cell_type": "code",
      "metadata": {
        "id": "9pfW56GMY6io",
        "colab_type": "code",
        "outputId": "885ca874-be13-4f02-857b-933e086c7c2f",
        "colab": {
          "base_uri": "https://localhost:8080/",
          "height": 35
        }
      },
      "source": [
        "# Using axis arg (By Column)\n",
        "M.min(axis=0)"
      ],
      "execution_count": 205,
      "outputs": [
        {
          "output_type": "execute_result",
          "data": {
            "text/plain": [
              "array([0.18441813, 0.11936151, 0.37497044, 0.03193135])"
            ]
          },
          "metadata": {
            "tags": []
          },
          "execution_count": 205
        }
      ]
    },
    {
      "cell_type": "code",
      "metadata": {
        "id": "pchoTaiWZMzZ",
        "colab_type": "code",
        "outputId": "b125b7b8-e0a3-459b-ac0b-2412c04ed4e3",
        "colab": {
          "base_uri": "https://localhost:8080/",
          "height": 35
        }
      },
      "source": [
        "# By Row\n",
        "M.max(axis=1)"
      ],
      "execution_count": 206,
      "outputs": [
        {
          "output_type": "execute_result",
          "data": {
            "text/plain": [
              "array([0.95274259, 0.76371195, 0.37578601])"
            ]
          },
          "metadata": {
            "tags": []
          },
          "execution_count": 206
        }
      ]
    },
    {
      "cell_type": "markdown",
      "metadata": {
        "id": "nCkyid6_c782",
        "colab_type": "text"
      },
      "source": [
        "### Example: What Is the Average Height of US Presidents?"
      ]
    },
    {
      "cell_type": "code",
      "metadata": {
        "id": "EPI6917sdDR7",
        "colab_type": "code",
        "outputId": "6085b78f-1651-4a3f-813d-c558bc3673cc",
        "colab": {
          "base_uri": "https://localhost:8080/",
          "height": 206
        }
      },
      "source": [
        "import pandas as pd\n",
        "data = pd.read_csv('president_heights.csv')\n",
        "data.head()"
      ],
      "execution_count": 207,
      "outputs": [
        {
          "output_type": "execute_result",
          "data": {
            "text/html": [
              "<div>\n",
              "<style scoped>\n",
              "    .dataframe tbody tr th:only-of-type {\n",
              "        vertical-align: middle;\n",
              "    }\n",
              "\n",
              "    .dataframe tbody tr th {\n",
              "        vertical-align: top;\n",
              "    }\n",
              "\n",
              "    .dataframe thead th {\n",
              "        text-align: right;\n",
              "    }\n",
              "</style>\n",
              "<table border=\"1\" class=\"dataframe\">\n",
              "  <thead>\n",
              "    <tr style=\"text-align: right;\">\n",
              "      <th></th>\n",
              "      <th>order</th>\n",
              "      <th>name</th>\n",
              "      <th>height(cm)</th>\n",
              "    </tr>\n",
              "  </thead>\n",
              "  <tbody>\n",
              "    <tr>\n",
              "      <th>0</th>\n",
              "      <td>1</td>\n",
              "      <td>George Washington</td>\n",
              "      <td>189</td>\n",
              "    </tr>\n",
              "    <tr>\n",
              "      <th>1</th>\n",
              "      <td>2</td>\n",
              "      <td>John Adams</td>\n",
              "      <td>170</td>\n",
              "    </tr>\n",
              "    <tr>\n",
              "      <th>2</th>\n",
              "      <td>3</td>\n",
              "      <td>Thomas Jefferson</td>\n",
              "      <td>189</td>\n",
              "    </tr>\n",
              "    <tr>\n",
              "      <th>3</th>\n",
              "      <td>4</td>\n",
              "      <td>James Madison</td>\n",
              "      <td>163</td>\n",
              "    </tr>\n",
              "    <tr>\n",
              "      <th>4</th>\n",
              "      <td>5</td>\n",
              "      <td>James Monroe</td>\n",
              "      <td>183</td>\n",
              "    </tr>\n",
              "  </tbody>\n",
              "</table>\n",
              "</div>"
            ],
            "text/plain": [
              "   order               name  height(cm)\n",
              "0      1  George Washington         189\n",
              "1      2         John Adams         170\n",
              "2      3   Thomas Jefferson         189\n",
              "3      4      James Madison         163\n",
              "4      5       James Monroe         183"
            ]
          },
          "metadata": {
            "tags": []
          },
          "execution_count": 207
        }
      ]
    },
    {
      "cell_type": "code",
      "metadata": {
        "id": "5pcjGM7BdaTy",
        "colab_type": "code",
        "outputId": "acd5e09e-6891-4d8c-e80b-fad1fdd4ce9f",
        "colab": {
          "base_uri": "https://localhost:8080/",
          "height": 90
        }
      },
      "source": [
        "heights = np.array(data['height(cm)'])\n",
        "heights"
      ],
      "execution_count": 208,
      "outputs": [
        {
          "output_type": "execute_result",
          "data": {
            "text/plain": [
              "array([189, 170, 189, 163, 183, 171, 185, 168, 173, 183, 173, 173, 175,\n",
              "       178, 183, 193, 178, 173, 174, 183, 183, 168, 170, 178, 182, 180,\n",
              "       183, 178, 182, 188, 175, 179, 183, 193, 182, 183, 177, 185, 188,\n",
              "       188, 182, 185])"
            ]
          },
          "metadata": {
            "tags": []
          },
          "execution_count": 208
        }
      ]
    },
    {
      "cell_type": "code",
      "metadata": {
        "id": "a293smz0doOy",
        "colab_type": "code",
        "outputId": "b429f996-98db-441d-a04c-ae4152b9fd62",
        "colab": {
          "base_uri": "https://localhost:8080/",
          "height": 146
        }
      },
      "source": [
        "print(\"Mean height: \", heights.mean())\n",
        "print(\"Standard deviation:\", heights.std())\n",
        "print(\"Minimum height: \", heights.min())\n",
        "print(\"Maximum height: \", heights.max())\n",
        "print(\"25th percentile: \", np.percentile(heights, 25))\n",
        "print(\"Median: \", np.median(heights))\n",
        "print(\"75th percentile: \", np.percentile(heights, 75))"
      ],
      "execution_count": 209,
      "outputs": [
        {
          "output_type": "stream",
          "text": [
            "Mean height:  179.73809523809524\n",
            "Standard deviation: 6.931843442745892\n",
            "Minimum height:  163\n",
            "Maximum height:  193\n",
            "25th percentile:  174.25\n",
            "Median:  182.0\n",
            "75th percentile:  183.0\n"
          ],
          "name": "stdout"
        }
      ]
    },
    {
      "cell_type": "code",
      "metadata": {
        "id": "u5fGnIb8eAbo",
        "colab_type": "code",
        "outputId": "1b129693-fe5a-4f47-e1d6-09dda26d9b42",
        "colab": {
          "base_uri": "https://localhost:8080/",
          "height": 319
        }
      },
      "source": [
        "%matplotlib inline\n",
        "import matplotlib.pyplot as plt\n",
        "import seaborn; seaborn.set() # set plot style\n",
        "\n",
        "plt.hist(heights)\n",
        "plt.title('Height Distribution of US Presidents')\n",
        "plt.xlabel('height(cm)')\n",
        "plt.ylabel('number')"
      ],
      "execution_count": 210,
      "outputs": [
        {
          "output_type": "execute_result",
          "data": {
            "text/plain": [
              "Text(0, 0.5, 'number')"
            ]
          },
          "metadata": {
            "tags": []
          },
          "execution_count": 210
        },
        {
          "output_type": "display_data",
          "data": {
            "image/png": "[encoded data removed]",
            "text/plain": [
              "<Figure size 432x288 with 1 Axes>"
            ]
          },
          "metadata": {
            "tags": []
          }
        }
      ]
    },
    {
      "cell_type": "markdown",
      "metadata": {
        "id": "9GxUISiQe6eK",
        "colab_type": "text"
      },
      "source": [
        "## Computation on Arrays: Broadcasting"
      ]
    },
    {
      "cell_type": "markdown",
      "metadata": {
        "id": "2oxrvbq1fN-c",
        "colab_type": "text"
      },
      "source": [
        "### Introducing Broadcasting"
      ]
    },
    {
      "cell_type": "code",
      "metadata": {
        "id": "gNmvH6_8fRuC",
        "colab_type": "code",
        "colab": {
          "base_uri": "https://localhost:8080/",
          "height": 35
        },
        "outputId": "5be5ed68-5685-4da5-85fd-c3c92a8a261d"
      },
      "source": [
        "# Same size arrays\n",
        "a = np.array([0, 1, 2])\n",
        "b = np.array([5, 5, 5])\n",
        "a + b"
      ],
      "execution_count": 211,
      "outputs": [
        {
          "output_type": "execute_result",
          "data": {
            "text/plain": [
              "array([5, 6, 7])"
            ]
          },
          "metadata": {
            "tags": []
          },
          "execution_count": 211
        }
      ]
    },
    {
      "cell_type": "code",
      "metadata": {
        "id": "VJUp8tECLhJd",
        "colab_type": "code",
        "colab": {
          "base_uri": "https://localhost:8080/",
          "height": 35
        },
        "outputId": "04fc7931-9961-4733-b6bf-7db4786c7cec"
      },
      "source": [
        "# Different size arrays\n",
        "a + 5"
      ],
      "execution_count": 212,
      "outputs": [
        {
          "output_type": "execute_result",
          "data": {
            "text/plain": [
              "array([5, 6, 7])"
            ]
          },
          "metadata": {
            "tags": []
          },
          "execution_count": 212
        }
      ]
    },
    {
      "cell_type": "code",
      "metadata": {
        "id": "_a4oc1oPL7pN",
        "colab_type": "code",
        "colab": {
          "base_uri": "https://localhost:8080/",
          "height": 72
        },
        "outputId": "8f149a63-8fa7-4cce-c2cf-4682f9c598b7"
      },
      "source": [
        "# Multidimensional arrays\n",
        "M = np.ones((3, 3))\n",
        "M"
      ],
      "execution_count": 213,
      "outputs": [
        {
          "output_type": "execute_result",
          "data": {
            "text/plain": [
              "array([[1., 1., 1.],\n",
              "       [1., 1., 1.],\n",
              "       [1., 1., 1.]])"
            ]
          },
          "metadata": {
            "tags": []
          },
          "execution_count": 213
        }
      ]
    },
    {
      "cell_type": "code",
      "metadata": {
        "id": "vZYpSFG7MCjd",
        "colab_type": "code",
        "colab": {
          "base_uri": "https://localhost:8080/",
          "height": 72
        },
        "outputId": "8947f0ae-b34f-49fd-de9d-9796a94239b6"
      },
      "source": [
        "M + a"
      ],
      "execution_count": 214,
      "outputs": [
        {
          "output_type": "execute_result",
          "data": {
            "text/plain": [
              "array([[1., 2., 3.],\n",
              "       [1., 2., 3.],\n",
              "       [1., 2., 3.]])"
            ]
          },
          "metadata": {
            "tags": []
          },
          "execution_count": 214
        }
      ]
    },
    {
      "cell_type": "code",
      "metadata": {
        "id": "dUN9MyywMSNx",
        "colab_type": "code",
        "colab": {
          "base_uri": "https://localhost:8080/",
          "height": 90
        },
        "outputId": "5061f6fd-4c90-49d4-d417-8b24089a7c8c"
      },
      "source": [
        "a = np.arange(3)\n",
        "b = np.arange(3)[:, np.newaxis]\n",
        "print(a)\n",
        "print(b)"
      ],
      "execution_count": 215,
      "outputs": [
        {
          "output_type": "stream",
          "text": [
            "[0 1 2]\n",
            "[[0]\n",
            " [1]\n",
            " [2]]\n"
          ],
          "name": "stdout"
        }
      ]
    },
    {
      "cell_type": "code",
      "metadata": {
        "id": "L5VgM82VMatV",
        "colab_type": "code",
        "colab": {
          "base_uri": "https://localhost:8080/",
          "height": 72
        },
        "outputId": "7111c71f-cc00-4bac-a5ea-7a3ce7347bb9"
      },
      "source": [
        "a + b"
      ],
      "execution_count": 216,
      "outputs": [
        {
          "output_type": "execute_result",
          "data": {
            "text/plain": [
              "array([[0, 1, 2],\n",
              "       [1, 2, 3],\n",
              "       [2, 3, 4]])"
            ]
          },
          "metadata": {
            "tags": []
          },
          "execution_count": 216
        }
      ]
    },
    {
      "cell_type": "code",
      "metadata": {
        "id": "J5hBg9tDNov3",
        "colab_type": "code",
        "colab": {
          "base_uri": "https://localhost:8080/",
          "height": 54
        },
        "outputId": "9f17d13a-0432-4264-e100-fedee3240308"
      },
      "source": [
        "M = np.ones((2, 3))\n",
        "a = np.arange(3)\n",
        "print(M.shape)\n",
        "print(a.shape)"
      ],
      "execution_count": 217,
      "outputs": [
        {
          "output_type": "stream",
          "text": [
            "(2, 3)\n",
            "(3,)\n"
          ],
          "name": "stdout"
        }
      ]
    },
    {
      "cell_type": "code",
      "metadata": {
        "id": "KGT08SUfN6u8",
        "colab_type": "code",
        "colab": {
          "base_uri": "https://localhost:8080/",
          "height": 54
        },
        "outputId": "8bf049be-e9ae-4490-b2e8-287b47882f46"
      },
      "source": [
        "M + a"
      ],
      "execution_count": 218,
      "outputs": [
        {
          "output_type": "execute_result",
          "data": {
            "text/plain": [
              "array([[1., 2., 3.],\n",
              "       [1., 2., 3.]])"
            ]
          },
          "metadata": {
            "tags": []
          },
          "execution_count": 218
        }
      ]
    },
    {
      "cell_type": "markdown",
      "metadata": {
        "id": "Y3i95TjrRD4g",
        "colab_type": "text"
      },
      "source": [
        "### Broadcasting in Practice"
      ]
    },
    {
      "cell_type": "code",
      "metadata": {
        "id": "xeCov-64RCOX",
        "colab_type": "code",
        "colab": {
          "base_uri": "https://localhost:8080/",
          "height": 35
        },
        "outputId": "4a8abad3-4cf8-4106-bc51-3e3e6afa6267"
      },
      "source": [
        "X = np.random.random((10, 3))\n",
        "Xmean = X.mean(0)\n",
        "Xmean"
      ],
      "execution_count": 219,
      "outputs": [
        {
          "output_type": "execute_result",
          "data": {
            "text/plain": [
              "array([0.49831076, 0.50193438, 0.46752888])"
            ]
          },
          "metadata": {
            "tags": []
          },
          "execution_count": 219
        }
      ]
    },
    {
      "cell_type": "code",
      "metadata": {
        "id": "kNY_J4zGSI6U",
        "colab_type": "code",
        "colab": {
          "base_uri": "https://localhost:8080/",
          "height": 35
        },
        "outputId": "e3e0f990-e7d8-426f-a285-3fb8459a1025"
      },
      "source": [
        "X_centered = X - Xmean\n",
        "X_centered.mean(0)"
      ],
      "execution_count": 220,
      "outputs": [
        {
          "output_type": "execute_result",
          "data": {
            "text/plain": [
              "array([-4.44089210e-17,  3.33066907e-17, -9.43689571e-17])"
            ]
          },
          "metadata": {
            "tags": []
          },
          "execution_count": 220
        }
      ]
    },
    {
      "cell_type": "markdown",
      "metadata": {
        "id": "J5_YJ9_HSiPj",
        "colab_type": "text"
      },
      "source": [
        "* Plotting a two-dimensional function"
      ]
    },
    {
      "cell_type": "code",
      "metadata": {
        "id": "AjVRPmmtSmUj",
        "colab_type": "code",
        "colab": {
          "base_uri": "https://localhost:8080/",
          "height": 272
        },
        "outputId": "f300998c-a0a7-4008-a169-c4a498316299"
      },
      "source": [
        "# x and y have 50 steps from 0 to 5\n",
        "x = np.linspace(0, 5, 50)\n",
        "y = np.linspace(0, 5, 50)[:, np.newaxis]\n",
        "z = np.sin(x) ** 10 + np.cos(10 + y * x) * np.cos(x)\n",
        "plt.imshow(\n",
        "    z, \n",
        "    origin='lower', \n",
        "    extent=[0, 5, 0, 5],\n",
        "    cmap='viridis'\n",
        "    )\n",
        "plt.colorbar();"
      ],
      "execution_count": 221,
      "outputs": [
        {
          "output_type": "display_data",
          "data": {
            "image/png": "[encoded data removed]",
            "text/plain": [
              "<Figure size 432x288 with 2 Axes>"
            ]
          },
          "metadata": {
            "tags": []
          }
        }
      ]
    },
    {
      "cell_type": "markdown",
      "metadata": {
        "id": "1JAqq5y2TBMn",
        "colab_type": "text"
      },
      "source": [
        "## Comparisons, Masks, and Boolean Logic"
      ]
    },
    {
      "cell_type": "markdown",
      "metadata": {
        "id": "fFbGvpOSYvJn",
        "colab_type": "text"
      },
      "source": [
        "### Example: Counting Rainy Days"
      ]
    },
    {
      "cell_type": "code",
      "metadata": {
        "id": "JkBBYl74TF2i",
        "colab_type": "code",
        "colab": {
          "base_uri": "https://localhost:8080/",
          "height": 35
        },
        "outputId": "6698027a-6632-4837-f5bb-4a85d5287d0e"
      },
      "source": [
        "# Read only 'PRCP' column values\n",
        "rainfall = pd.read_csv('Seattle2014.csv')['PRCP'].values\n",
        "inches = rainfall / 254 # 1/10mm -> inches\n",
        "inches.shape"
      ],
      "execution_count": 223,
      "outputs": [
        {
          "output_type": "execute_result",
          "data": {
            "text/plain": [
              "(365,)"
            ]
          },
          "metadata": {
            "tags": []
          },
          "execution_count": 223
        }
      ]
    },
    {
      "cell_type": "code",
      "metadata": {
        "id": "K7VvzgFFaP9V",
        "colab_type": "code",
        "colab": {
          "base_uri": "https://localhost:8080/",
          "height": 525
        },
        "outputId": "6f35700b-67b1-47aa-9257-71e361a12978"
      },
      "source": [
        "plt.hist(inches, 40)"
      ],
      "execution_count": 224,
      "outputs": [
        {
          "output_type": "execute_result",
          "data": {
            "text/plain": [
              "(array([245.,  14.,  13.,  17.,   8.,   6.,   5.,   6.,   4.,   3.,   7.,\n",
              "          6.,   3.,   3.,   3.,   4.,   4.,   2.,   4.,   0.,   0.,   1.,\n",
              "          1.,   1.,   0.,   0.,   0.,   2.,   1.,   1.,   0.,   0.,   0.,\n",
              "          0.,   0.,   0.,   0.,   0.,   0.,   1.]),\n",
              " array([0.        , 0.04596457, 0.09192913, 0.1378937 , 0.18385827,\n",
              "        0.22982283, 0.2757874 , 0.32175197, 0.36771654, 0.4136811 ,\n",
              "        0.45964567, 0.50561024, 0.5515748 , 0.59753937, 0.64350394,\n",
              "        0.6894685 , 0.73543307, 0.78139764, 0.8273622 , 0.87332677,\n",
              "        0.91929134, 0.96525591, 1.01122047, 1.05718504, 1.10314961,\n",
              "        1.14911417, 1.19507874, 1.24104331, 1.28700787, 1.33297244,\n",
              "        1.37893701, 1.42490157, 1.47086614, 1.51683071, 1.56279528,\n",
              "        1.60875984, 1.65472441, 1.70068898, 1.74665354, 1.79261811,\n",
              "        1.83858268]),\n",
              " <a list of 40 Patch objects>)"
            ]
          },
          "metadata": {
            "tags": []
          },
          "execution_count": 224
        },
        {
          "output_type": "display_data",
          "data": {
            "image/png": "[encoded data removed]",
            "text/plain": [
              "<Figure size 432x288 with 1 Axes>"
            ]
          },
          "metadata": {
            "tags": []
          }
        }
      ]
    },
    {
      "cell_type": "markdown",
      "metadata": {
        "id": "Yy8F3NmnhBV4",
        "colab_type": "text"
      },
      "source": [
        "### Comparison Operators as ufuncs"
      ]
    },
    {
      "cell_type": "code",
      "metadata": {
        "id": "QT1mA91NhF20",
        "colab_type": "code",
        "colab": {
          "base_uri": "https://localhost:8080/",
          "height": 127
        },
        "outputId": "c634f1d5-8d07-48c7-b019-18b16e643622"
      },
      "source": [
        "x = np.array([1, 2, 3, 4, 5])\n",
        "print(x < 3) # np.less(x, 3)\n",
        "print(x > 3) # np.greater(x, 3)\n",
        "print(x <= 3) # np.less_equal(x, 3)\n",
        "print(x >= 3) # np.greater_equal(x, 3)\n",
        "print(x != 3) # np.not_equal(x, 3)\n",
        "print(x == 3) # np.equal(x, 3)"
      ],
      "execution_count": 227,
      "outputs": [
        {
          "output_type": "stream",
          "text": [
            "[ True  True False False False]\n",
            "[False False False  True  True]\n",
            "[ True  True  True False False]\n",
            "[False False  True  True  True]\n",
            "[ True  True False  True  True]\n",
            "[False False  True False False]\n"
          ],
          "name": "stdout"
        }
      ]
    },
    {
      "cell_type": "code",
      "metadata": {
        "id": "-Jefg2A7inMp",
        "colab_type": "code",
        "colab": {
          "base_uri": "https://localhost:8080/",
          "height": 35
        },
        "outputId": "7edbe871-1897-4f37-b38c-e8b0c094f673"
      },
      "source": [
        "(2 * x) == (x ** 2)"
      ],
      "execution_count": 228,
      "outputs": [
        {
          "output_type": "execute_result",
          "data": {
            "text/plain": [
              "array([False,  True, False, False, False])"
            ]
          },
          "metadata": {
            "tags": []
          },
          "execution_count": 228
        }
      ]
    },
    {
      "cell_type": "code",
      "metadata": {
        "id": "JwN3IfdmjimU",
        "colab_type": "code",
        "colab": {
          "base_uri": "https://localhost:8080/",
          "height": 90
        },
        "outputId": "24673cfe-9366-45ea-a333-939747f8960a"
      },
      "source": [
        "# Two-dimensional example\n",
        "rng = np.random.RandomState(0)\n",
        "print('rng =', rng)\n",
        "\n",
        "x = rng.randint(10, size=(3, 4))\n",
        "x"
      ],
      "execution_count": 232,
      "outputs": [
        {
          "output_type": "stream",
          "text": [
            "rng = RandomState(MT19937)\n"
          ],
          "name": "stdout"
        },
        {
          "output_type": "execute_result",
          "data": {
            "text/plain": [
              "array([[5, 0, 3, 3],\n",
              "       [7, 9, 3, 5],\n",
              "       [2, 4, 7, 6]])"
            ]
          },
          "metadata": {
            "tags": []
          },
          "execution_count": 232
        }
      ]
    },
    {
      "cell_type": "code",
      "metadata": {
        "id": "iKASzLAgkMzj",
        "colab_type": "code",
        "colab": {
          "base_uri": "https://localhost:8080/",
          "height": 72
        },
        "outputId": "1110a227-932a-489d-d28f-f622fc8e3591"
      },
      "source": [
        "x < 6"
      ],
      "execution_count": 233,
      "outputs": [
        {
          "output_type": "execute_result",
          "data": {
            "text/plain": [
              "array([[ True,  True,  True,  True],\n",
              "       [False, False,  True,  True],\n",
              "       [ True,  True, False, False]])"
            ]
          },
          "metadata": {
            "tags": []
          },
          "execution_count": 233
        }
      ]
    },
    {
      "cell_type": "markdown",
      "metadata": {
        "id": "OHfSIoVvkcip",
        "colab_type": "text"
      },
      "source": [
        "### Working with Boolean Arrays"
      ]
    },
    {
      "cell_type": "code",
      "metadata": {
        "id": "CK7vekyEkgtE",
        "colab_type": "code",
        "colab": {
          "base_uri": "https://localhost:8080/",
          "height": 72
        },
        "outputId": "01af2444-b0bf-4b46-ae42-1f6834fec0a3"
      },
      "source": [
        "print(x)"
      ],
      "execution_count": 234,
      "outputs": [
        {
          "output_type": "stream",
          "text": [
            "[[5 0 3 3]\n",
            " [7 9 3 5]\n",
            " [2 4 7 6]]\n"
          ],
          "name": "stdout"
        }
      ]
    },
    {
      "cell_type": "markdown",
      "metadata": {
        "id": "_hchpO48ks-O",
        "colab_type": "text"
      },
      "source": [
        "* Counting entries"
      ]
    },
    {
      "cell_type": "code",
      "metadata": {
        "id": "gt1KQBMKksap",
        "colab_type": "code",
        "colab": {
          "base_uri": "https://localhost:8080/",
          "height": 35
        },
        "outputId": "7c230ac3-14b8-4d29-a0dd-54a02256335c"
      },
      "source": [
        "# How many values less than 6?\n",
        "np.count_nonzero(x < 6)"
      ],
      "execution_count": 235,
      "outputs": [
        {
          "output_type": "execute_result",
          "data": {
            "text/plain": [
              "8"
            ]
          },
          "metadata": {
            "tags": []
          },
          "execution_count": 235
        }
      ]
    },
    {
      "cell_type": "code",
      "metadata": {
        "id": "ZyDGmOqsqBue",
        "colab_type": "code",
        "colab": {
          "base_uri": "https://localhost:8080/",
          "height": 35
        },
        "outputId": "8ecc7bdd-78fd-475b-ce5e-2d3d3efebe72"
      },
      "source": [
        "np.sum(x < 6)"
      ],
      "execution_count": 236,
      "outputs": [
        {
          "output_type": "execute_result",
          "data": {
            "text/plain": [
              "8"
            ]
          },
          "metadata": {
            "tags": []
          },
          "execution_count": 236
        }
      ]
    },
    {
      "cell_type": "code",
      "metadata": {
        "id": "7JM-nFd-qGAT",
        "colab_type": "code",
        "colab": {
          "base_uri": "https://localhost:8080/",
          "height": 35
        },
        "outputId": "d1a95b17-dd3e-47a8-a5b7-f8fc0803e1ac"
      },
      "source": [
        "# how many values less than 6 in each row?\n",
        "np.sum(x < 6, axis=1)"
      ],
      "execution_count": 237,
      "outputs": [
        {
          "output_type": "execute_result",
          "data": {
            "text/plain": [
              "array([4, 2, 2])"
            ]
          },
          "metadata": {
            "tags": []
          },
          "execution_count": 237
        }
      ]
    },
    {
      "cell_type": "code",
      "metadata": {
        "id": "t0qfHHzlqSQw",
        "colab_type": "code",
        "colab": {
          "base_uri": "https://localhost:8080/",
          "height": 35
        },
        "outputId": "341b969d-40ee-4d6f-ceeb-7efd1caef8d6"
      },
      "source": [
        "# are there any values greater than 8?\n",
        "np.any(x > 8)"
      ],
      "execution_count": 238,
      "outputs": [
        {
          "output_type": "execute_result",
          "data": {
            "text/plain": [
              "True"
            ]
          },
          "metadata": {
            "tags": []
          },
          "execution_count": 238
        }
      ]
    },
    {
      "cell_type": "code",
      "metadata": {
        "id": "G9t67ZwSqVGF",
        "colab_type": "code",
        "colab": {
          "base_uri": "https://localhost:8080/",
          "height": 35
        },
        "outputId": "ad32f97c-84f6-4292-8c0c-d5637fa9b10e"
      },
      "source": [
        "# are there any values less than zero?\n",
        "np.any(x < 0)"
      ],
      "execution_count": 239,
      "outputs": [
        {
          "output_type": "execute_result",
          "data": {
            "text/plain": [
              "False"
            ]
          },
          "metadata": {
            "tags": []
          },
          "execution_count": 239
        }
      ]
    },
    {
      "cell_type": "code",
      "metadata": {
        "id": "dSnEFQKUqY1h",
        "colab_type": "code",
        "colab": {
          "base_uri": "https://localhost:8080/",
          "height": 35
        },
        "outputId": "70021bc8-5cca-454d-e5ff-86e24ef7df8e"
      },
      "source": [
        "# are all values less than 10?\n",
        "np.all(x < 10)"
      ],
      "execution_count": 240,
      "outputs": [
        {
          "output_type": "execute_result",
          "data": {
            "text/plain": [
              "True"
            ]
          },
          "metadata": {
            "tags": []
          },
          "execution_count": 240
        }
      ]
    },
    {
      "cell_type": "code",
      "metadata": {
        "id": "QooP1oqoqbKw",
        "colab_type": "code",
        "colab": {
          "base_uri": "https://localhost:8080/",
          "height": 35
        },
        "outputId": "555e78d9-da3d-43b4-bd44-6885ea18e0c0"
      },
      "source": [
        "# are all values equal to 6?\n",
        "np.all(x == 6)"
      ],
      "execution_count": 241,
      "outputs": [
        {
          "output_type": "execute_result",
          "data": {
            "text/plain": [
              "False"
            ]
          },
          "metadata": {
            "tags": []
          },
          "execution_count": 241
        }
      ]
    },
    {
      "cell_type": "code",
      "metadata": {
        "id": "7KVcrjDWqq-u",
        "colab_type": "code",
        "colab": {
          "base_uri": "https://localhost:8080/",
          "height": 35
        },
        "outputId": "2bbe6830-53ac-4fc0-8c00-a70ecf75e31b"
      },
      "source": [
        "# are all values in each row less than 8?\n",
        "np.all(x < 8, axis=1)"
      ],
      "execution_count": 242,
      "outputs": [
        {
          "output_type": "execute_result",
          "data": {
            "text/plain": [
              "array([ True, False,  True])"
            ]
          },
          "metadata": {
            "tags": []
          },
          "execution_count": 242
        }
      ]
    },
    {
      "cell_type": "markdown",
      "metadata": {
        "id": "-9Qy1QpRq6UT",
        "colab_type": "text"
      },
      "source": [
        "* Boolean operators"
      ]
    },
    {
      "cell_type": "code",
      "metadata": {
        "id": "0IOaq4x5q811",
        "colab_type": "code",
        "colab": {
          "base_uri": "https://localhost:8080/",
          "height": 35
        },
        "outputId": "b9af2c7f-e64b-4f07-bf82-836686e8d915"
      },
      "source": [
        "# There are 29 days with rainfall between 0.5 and 1.0 inches\n",
        "np.sum((inches > 0.5) & (inches < 1))"
      ],
      "execution_count": 243,
      "outputs": [
        {
          "output_type": "execute_result",
          "data": {
            "text/plain": [
              "29"
            ]
          },
          "metadata": {
            "tags": []
          },
          "execution_count": 243
        }
      ]
    },
    {
      "cell_type": "code",
      "metadata": {
        "id": "VSvxk50MroM8",
        "colab_type": "code",
        "colab": {
          "base_uri": "https://localhost:8080/",
          "height": 35
        },
        "outputId": "ead0a42f-f25d-4b7e-e7d2-61e4747da57a"
      },
      "source": [
        "# Using NOT and OR\n",
        "np.sum(~( (inches <= 0.5) | (inches >= 1) ))"
      ],
      "execution_count": 244,
      "outputs": [
        {
          "output_type": "execute_result",
          "data": {
            "text/plain": [
              "29"
            ]
          },
          "metadata": {
            "tags": []
          },
          "execution_count": 244
        }
      ]
    },
    {
      "cell_type": "code",
      "metadata": {
        "id": "asMYrzwmswxl",
        "colab_type": "code",
        "colab": {
          "base_uri": "https://localhost:8080/",
          "height": 90
        },
        "outputId": "6ebd228c-d603-4bd7-986b-15b81d21c89f"
      },
      "source": [
        "print(\"Number days without rain: \", np.sum(inches == 0))\n",
        "print(\"Number days with rain: \", np.sum(inches != 0))\n",
        "print(\"Days with more than 0.5 inches:\", np.sum(inches > 0.5))\n",
        "print(\"Rainy days with < 0.1 inches :\", np.sum((inches > 0) & (inches < 0.2)))"
      ],
      "execution_count": 245,
      "outputs": [
        {
          "output_type": "stream",
          "text": [
            "Number days without rain:  215\n",
            "Number days with rain:  150\n",
            "Days with more than 0.5 inches: 37\n",
            "Rainy days with < 0.1 inches : 75\n"
          ],
          "name": "stdout"
        }
      ]
    },
    {
      "cell_type": "markdown",
      "metadata": {
        "id": "yD5dMquytLiY",
        "colab_type": "text"
      },
      "source": [
        "### Boolean Arrays as Masks"
      ]
    },
    {
      "cell_type": "code",
      "metadata": {
        "id": "eoUZns2JtOT7",
        "colab_type": "code",
        "colab": {
          "base_uri": "https://localhost:8080/",
          "height": 182
        },
        "outputId": "d7f38303-6577-4193-c081-d5634e2fa8ab"
      },
      "source": [
        "print(x, '\\n')\n",
        "print(x < 5, '\\n')\n",
        "print(x[x < 5])"
      ],
      "execution_count": 248,
      "outputs": [
        {
          "output_type": "stream",
          "text": [
            "[[5 0 3 3]\n",
            " [7 9 3 5]\n",
            " [2 4 7 6]] \n",
            "\n",
            "[[False  True  True  True]\n",
            " [False False  True False]\n",
            " [ True  True False False]] \n",
            "\n",
            "[0 3 3 3 2 4]\n"
          ],
          "name": "stdout"
        }
      ]
    },
    {
      "cell_type": "code",
      "metadata": {
        "id": "s17IDDZwvmF2",
        "colab_type": "code",
        "colab": {
          "base_uri": "https://localhost:8080/",
          "height": 90
        },
        "outputId": "8ecf9bc5-e99d-4561-fb44-0bb0bb9f5edb"
      },
      "source": [
        "# construct a mask of all rainy days\n",
        "rainy = (inches > 0)\n",
        "\n",
        "# construct a mask of all summer days (June 21st is the 172nd day)\n",
        "summer = (np.arange(365) - 172 < 90) & (np.arange(365) - 172 > 0)\n",
        "\n",
        "print(\"Median precip on rainy days in 2014 (inches): \", np.median(inches[rainy]))\n",
        "print(\"Median precip on summer days in 2014 (inches): \", np.median(inches[summer]))\n",
        "print(\"Maximum precip on summer days in 2014 (inches): \", np.max(inches[summer]))\n",
        "print(\"Median precip on non-summer rainy days (inches):\", np.median(inches[rainy & ~summer]))"
      ],
      "execution_count": 249,
      "outputs": [
        {
          "output_type": "stream",
          "text": [
            "Median precip on rainy days in 2014 (inches):  0.19488188976377951\n",
            "Median precip on summer days in 2014 (inches):  0.0\n",
            "Maximum precip on summer days in 2014 (inches):  0.8503937007874016\n",
            "Median precip on non-summer rainy days (inches): 0.20078740157480315\n"
          ],
          "name": "stdout"
        }
      ]
    },
    {
      "cell_type": "markdown",
      "metadata": {
        "id": "v6q4OBcfxRKI",
        "colab_type": "text"
      },
      "source": [
        "## Fancy Indexing"
      ]
    },
    {
      "cell_type": "markdown",
      "metadata": {
        "id": "j09UcZY8xUok",
        "colab_type": "text"
      },
      "source": [
        "### Exploring Fancy Indexing"
      ]
    },
    {
      "cell_type": "code",
      "metadata": {
        "id": "W_pbigWXxS4W",
        "colab_type": "code",
        "colab": {}
      },
      "source": [
        ""
      ],
      "execution_count": 0,
      "outputs": []
    }
  ]
}