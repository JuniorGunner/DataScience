{
  "nbformat": 4,
  "nbformat_minor": 0,
  "metadata": {
    "colab": {
      "name": "01_Intro_to_R_syntax.ipynb",
      "provenance": [],
      "collapsed_sections": [],
      "toc_visible": true,
      "include_colab_link": true
    },
    "kernelspec": {
      "name": "python3",
      "display_name": "Python 3"
    }
  },
  "cells": [
    {
      "cell_type": "markdown",
      "metadata": {
        "id": "view-in-github",
        "colab_type": "text"
      },
      "source": [
        "<a href=\"https://colab.research.google.com/github/JuniorGunner/DataScience/blob/master/Codecademy/01_Intro_to_R_syntax.ipynb\" target=\"_parent\"><img src=\"https://colab.research.google.com/assets/colab-badge.svg\" alt=\"Open In Colab\"/></a>"
      ]
    },
    {
      "cell_type": "markdown",
      "metadata": {
        "id": "ie35os5RcPg-",
        "colab_type": "text"
      },
      "source": [
        "# R Language - Codecademy\n",
        "* [rpy2](https://rpy2.github.io/doc/v3.0.x/html/index.html)\n",
        "* [stackoverflow question](https://stackoverflow.com/questions/54595285/how-to-use-r-with-google-colaboratory)"
      ]
    },
    {
      "cell_type": "markdown",
      "metadata": {
        "id": "MYajIn19xLnU",
        "colab_type": "text"
      },
      "source": [
        "## Using R magic on Colab"
      ]
    },
    {
      "cell_type": "code",
      "metadata": {
        "id": "EqYYnzChagyF",
        "colab_type": "code",
        "outputId": "d775363f-fd72-4bc7-badf-e420cb09a224",
        "colab": {
          "base_uri": "https://localhost:8080/",
          "height": 109
        }
      },
      "source": [
        "!jupyter-kernelspec list"
      ],
      "execution_count": 39,
      "outputs": [
        {
          "output_type": "stream",
          "text": [
            "Available kernels:\n",
            "  ir         /usr/local/share/jupyter/kernels/ir\n",
            "  python2    /usr/local/share/jupyter/kernels/python2\n",
            "  python3    /usr/local/share/jupyter/kernels/python3\n",
            "  swift      /usr/local/share/jupyter/kernels/swift\n"
          ],
          "name": "stdout"
        }
      ]
    },
    {
      "cell_type": "code",
      "metadata": {
        "id": "T9GinLldb-I5",
        "colab_type": "code",
        "colab": {
          "base_uri": "https://localhost:8080/",
          "height": 54
        },
        "outputId": "54919bc8-6eb1-4edb-9a93-8b45261f5241"
      },
      "source": [
        "# activate R magic\n",
        "%load_ext rpy2.ipython"
      ],
      "execution_count": 40,
      "outputs": [
        {
          "output_type": "stream",
          "text": [
            "The rpy2.ipython extension is already loaded. To reload it, use:\n",
            "  %reload_ext rpy2.ipython\n"
          ],
          "name": "stdout"
        }
      ]
    },
    {
      "cell_type": "code",
      "metadata": {
        "id": "2S_Knd2UcACp",
        "colab_type": "code",
        "outputId": "9c701185-5261-46c8-c725-c78cfbafe75b",
        "colab": {
          "base_uri": "https://localhost:8080/",
          "height": 35
        }
      },
      "source": [
        "%%R\n",
        "x <- 42\n",
        "x"
      ],
      "execution_count": 41,
      "outputs": [
        {
          "output_type": "display_data",
          "data": {
            "text/plain": [
              "[1] 42\n"
            ]
          },
          "metadata": {
            "tags": []
          }
        }
      ]
    },
    {
      "cell_type": "markdown",
      "metadata": {
        "id": "_euA7GucwLOB",
        "colab_type": "text"
      },
      "source": [
        "## Introduction to R syntax"
      ]
    },
    {
      "cell_type": "markdown",
      "metadata": {
        "id": "YYPoy2AjxRuj",
        "colab_type": "text"
      },
      "source": [
        "### Calculations"
      ]
    },
    {
      "cell_type": "code",
      "metadata": {
        "id": "uNGdFus4vpi3",
        "colab_type": "code",
        "colab": {
          "base_uri": "https://localhost:8080/",
          "height": 35
        },
        "outputId": "7abbd71b-b1b5-4b18-e878-982717603b4a"
      },
      "source": [
        "%%R\n",
        "25 * 4 + 9 / 3"
      ],
      "execution_count": 42,
      "outputs": [
        {
          "output_type": "display_data",
          "data": {
            "text/plain": [
              "[1] 103\n"
            ]
          },
          "metadata": {
            "tags": []
          }
        }
      ]
    },
    {
      "cell_type": "markdown",
      "metadata": {
        "id": "fKQ5EqdIxUJR",
        "colab_type": "text"
      },
      "source": [
        "### Comments"
      ]
    },
    {
      "cell_type": "code",
      "metadata": {
        "id": "k7c8_sAkxWf6",
        "colab_type": "code",
        "colab": {
          "base_uri": "https://localhost:8080/",
          "height": 35
        },
        "outputId": "cfc59186-f325-4ef9-a969-2a4d366d104e"
      },
      "source": [
        "%%R\n",
        "# This is a comment\n",
        "3 * 3 * 3"
      ],
      "execution_count": 43,
      "outputs": [
        {
          "output_type": "display_data",
          "data": {
            "text/plain": [
              "[1] 27\n"
            ]
          },
          "metadata": {
            "tags": []
          }
        }
      ]
    },
    {
      "cell_type": "markdown",
      "metadata": {
        "id": "9zZiB2xE3ijs",
        "colab_type": "text"
      },
      "source": [
        "### Data Types"
      ]
    },
    {
      "cell_type": "code",
      "metadata": {
        "id": "5pUj4BZS3knA",
        "colab_type": "code",
        "colab": {
          "base_uri": "https://localhost:8080/",
          "height": 35
        },
        "outputId": "fc924d37-ccf3-4c42-be7f-e1dc79e02049"
      },
      "source": [
        "%%R\n",
        "class(2)"
      ],
      "execution_count": 44,
      "outputs": [
        {
          "output_type": "display_data",
          "data": {
            "text/plain": [
              "[1] \"numeric\"\n"
            ]
          },
          "metadata": {
            "tags": []
          }
        }
      ]
    },
    {
      "cell_type": "code",
      "metadata": {
        "id": "9ku4GDgC34KL",
        "colab_type": "code",
        "colab": {
          "base_uri": "https://localhost:8080/",
          "height": 35
        },
        "outputId": "4048e729-04a0-43ea-9c01-2525b7657412"
      },
      "source": [
        "%%R\n",
        "class('hello')"
      ],
      "execution_count": 45,
      "outputs": [
        {
          "output_type": "display_data",
          "data": {
            "text/plain": [
              "[1] \"character\"\n"
            ]
          },
          "metadata": {
            "tags": []
          }
        }
      ]
    },
    {
      "cell_type": "code",
      "metadata": {
        "id": "9nI8vtC437si",
        "colab_type": "code",
        "colab": {
          "base_uri": "https://localhost:8080/",
          "height": 35
        },
        "outputId": "40f9e269-45dc-4dda-9e32-a2e0aa57a020"
      },
      "source": [
        "%%R\n",
        "class('23')"
      ],
      "execution_count": 46,
      "outputs": [
        {
          "output_type": "display_data",
          "data": {
            "text/plain": [
              "[1] \"character\"\n"
            ]
          },
          "metadata": {
            "tags": []
          }
        }
      ]
    },
    {
      "cell_type": "code",
      "metadata": {
        "id": "pFwp0GoX3_Cy",
        "colab_type": "code",
        "colab": {
          "base_uri": "https://localhost:8080/",
          "height": 35
        },
        "outputId": "cb24b30a-d906-4ea7-906e-0e1578bc033e"
      },
      "source": [
        "%%R\n",
        "class(FALSE)"
      ],
      "execution_count": 47,
      "outputs": [
        {
          "output_type": "display_data",
          "data": {
            "text/plain": [
              "[1] \"logical\"\n"
            ]
          },
          "metadata": {
            "tags": []
          }
        }
      ]
    },
    {
      "cell_type": "code",
      "metadata": {
        "id": "VsLnD2WZ4EtZ",
        "colab_type": "code",
        "colab": {
          "base_uri": "https://localhost:8080/",
          "height": 35
        },
        "outputId": "f882abd9-7a68-4230-cc5c-5a8eaae13f5e"
      },
      "source": [
        "%%R\n",
        "class(NA)"
      ],
      "execution_count": 48,
      "outputs": [
        {
          "output_type": "display_data",
          "data": {
            "text/plain": [
              "[1] \"logical\"\n"
            ]
          },
          "metadata": {
            "tags": []
          }
        }
      ]
    },
    {
      "cell_type": "markdown",
      "metadata": {
        "id": "wtD3v72D4acu",
        "colab_type": "text"
      },
      "source": [
        "### Variables"
      ]
    },
    {
      "cell_type": "code",
      "metadata": {
        "id": "r_veoiW84cS5",
        "colab_type": "code",
        "colab": {
          "base_uri": "https://localhost:8080/",
          "height": 35
        },
        "outputId": "02f95d50-6105-4395-8c70-4be8a7da8330"
      },
      "source": [
        "%%R\n",
        "name <- 'Junior' # Same as: name = 'Junior'\n",
        "name"
      ],
      "execution_count": 49,
      "outputs": [
        {
          "output_type": "display_data",
          "data": {
            "text/plain": [
              "[1] \"Junior\"\n"
            ]
          },
          "metadata": {
            "tags": []
          }
        }
      ]
    },
    {
      "cell_type": "code",
      "metadata": {
        "id": "ofmJbadb5CcR",
        "colab_type": "code",
        "colab": {
          "base_uri": "https://localhost:8080/",
          "height": 35
        },
        "outputId": "d16a59b0-49be-4d3f-97c1-50bc3a23dd67"
      },
      "source": [
        "%%R\n",
        "age <- 29\n",
        "age"
      ],
      "execution_count": 50,
      "outputs": [
        {
          "output_type": "display_data",
          "data": {
            "text/plain": [
              "[1] 29\n"
            ]
          },
          "metadata": {
            "tags": []
          }
        }
      ]
    },
    {
      "cell_type": "markdown",
      "metadata": {
        "id": "BvWeqM_S5KvD",
        "colab_type": "text"
      },
      "source": [
        "### Vectors"
      ]
    },
    {
      "cell_type": "code",
      "metadata": {
        "id": "6ItH5rsV5MRO",
        "colab_type": "code",
        "colab": {
          "base_uri": "https://localhost:8080/",
          "height": 90
        },
        "outputId": "ae4fc63d-7bf2-477f-c410-d7a84ace9db3"
      },
      "source": [
        "%%R\n",
        "phone <- c(55, 15, 99999, 9999)\n",
        "\n",
        "print(phone)\n",
        "print(typeof(phone))\n",
        "print(length(phone))\n",
        "print(phone[2])"
      ],
      "execution_count": 51,
      "outputs": [
        {
          "output_type": "display_data",
          "data": {
            "text/plain": [
              "[1]    55    15 99999  9999\n",
              "[1] \"double\"\n",
              "[1] 4\n",
              "[1] 15\n"
            ]
          },
          "metadata": {
            "tags": []
          }
        }
      ]
    },
    {
      "cell_type": "markdown",
      "metadata": {
        "id": "3RWTaBPz7mc_",
        "colab_type": "text"
      },
      "source": [
        "### Conditionals"
      ]
    },
    {
      "cell_type": "code",
      "metadata": {
        "id": "I00_bq-37oO_",
        "colab_type": "code",
        "colab": {
          "base_uri": "https://localhost:8080/",
          "height": 35
        },
        "outputId": "a7e7f7b6-7813-4618-eac6-21411d40963d"
      },
      "source": [
        "%%R\n",
        "if(TRUE){\n",
        "    print('True!')\n",
        "} else{\n",
        "    print('False!')\n",
        "}"
      ],
      "execution_count": 52,
      "outputs": [
        {
          "output_type": "display_data",
          "data": {
            "text/plain": [
              "[1] \"True!\"\n"
            ]
          },
          "metadata": {
            "tags": []
          }
        }
      ]
    },
    {
      "cell_type": "markdown",
      "metadata": {
        "id": "qchx9j8VJXV0",
        "colab_type": "text"
      },
      "source": [
        "### Comparison Operators"
      ]
    },
    {
      "cell_type": "code",
      "metadata": {
        "id": "sKN7cicSJZ5L",
        "colab_type": "code",
        "colab": {
          "base_uri": "https://localhost:8080/",
          "height": 90
        },
        "outputId": "593e54b2-ba26-4f0a-b77b-e5a72619dbbf"
      },
      "source": [
        "%%R\n",
        "print(2 < 3)\n",
        "print(3 > 5)\n",
        "print(5 == 7)\n",
        "print(7 != 5)"
      ],
      "execution_count": 53,
      "outputs": [
        {
          "output_type": "display_data",
          "data": {
            "text/plain": [
              "[1] TRUE\n",
              "[1] FALSE\n",
              "[1] FALSE\n",
              "[1] TRUE\n"
            ]
          },
          "metadata": {
            "tags": []
          }
        }
      ]
    },
    {
      "cell_type": "markdown",
      "metadata": {
        "id": "xLaRWc_dKaqv",
        "colab_type": "text"
      },
      "source": [
        "### Logical Operators"
      ]
    },
    {
      "cell_type": "code",
      "metadata": {
        "id": "PZnR-L4ZKcyg",
        "colab_type": "code",
        "colab": {
          "base_uri": "https://localhost:8080/",
          "height": 72
        },
        "outputId": "4adcf47f-c544-4e9b-9b00-e121d2ca6aaf"
      },
      "source": [
        "%%R\n",
        "print(TRUE & FALSE)\n",
        "print(TRUE | FALSE)\n",
        "print(!TRUE)"
      ],
      "execution_count": 57,
      "outputs": [
        {
          "output_type": "display_data",
          "data": {
            "text/plain": [
              "[1] FALSE\n",
              "[1] TRUE\n",
              "[1] FALSE\n"
            ]
          },
          "metadata": {
            "tags": []
          }
        }
      ]
    },
    {
      "cell_type": "markdown",
      "metadata": {
        "id": "VICatU9IvbKb",
        "colab_type": "text"
      },
      "source": [
        "### Calling a Function"
      ]
    },
    {
      "cell_type": "code",
      "metadata": {
        "id": "4Gx3r10Hvdyt",
        "colab_type": "code",
        "colab": {
          "base_uri": "https://localhost:8080/",
          "height": 90
        },
        "outputId": "bdb0b6a1-f527-48f0-c1c7-478007c8ef12"
      },
      "source": [
        "%%R\n",
        "data <- c(1, 2, 2, 3, 3, 3, 4, 4, 4, 4)\n",
        "unique_vals <- unique(data)\n",
        "print(unique_vals)\n",
        "print(sqrt(49))\n",
        "print(sum(unique_vals))\n",
        "print(length(unique_vals))\n",
        "# floor, ceiling, etc..."
      ],
      "execution_count": 61,
      "outputs": [
        {
          "output_type": "display_data",
          "data": {
            "text/plain": [
              "[1] 1 2 3 4\n",
              "[1] 7\n",
              "[1] 10\n",
              "[1] 4\n"
            ]
          },
          "metadata": {
            "tags": []
          }
        }
      ]
    },
    {
      "cell_type": "markdown",
      "metadata": {
        "id": "clgklQiuzG8n",
        "colab_type": "text"
      },
      "source": [
        "### Importing Packages"
      ]
    },
    {
      "cell_type": "code",
      "metadata": {
        "id": "OL392fGRzJ1N",
        "colab_type": "code",
        "colab": {}
      },
      "source": [
        "# install.packages('package-name')\n",
        "# library(package-name)\n",
        "# dplyr, readr"
      ],
      "execution_count": 0,
      "outputs": []
    }
  ]
}