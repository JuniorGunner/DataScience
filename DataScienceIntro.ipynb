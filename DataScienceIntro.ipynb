{
  "nbformat": 4,
  "nbformat_minor": 0,
  "metadata": {
    "colab": {
      "name": "DataScienceIntro.ipynb",
      "provenance": [],
      "collapsed_sections": [],
      "include_colab_link": true
    },
    "kernelspec": {
      "name": "python3",
      "display_name": "Python 3"
    }
  },
  "cells": [
    {
      "cell_type": "markdown",
      "metadata": {
        "id": "view-in-github",
        "colab_type": "text"
      },
      "source": [
        "<a href=\"https://colab.research.google.com/github/JuniorGunner/DataScienceNotebooks/blob/master/DataScienceIntro.ipynb\" target=\"_parent\"><img src=\"https://colab.research.google.com/assets/colab-badge.svg\" alt=\"Open In Colab\"/></a>"
      ]
    },
    {
      "cell_type": "code",
      "metadata": {
        "id": "HiezW2ykOSiS",
        "colab_type": "code",
        "colab": {}
      },
      "source": [
        "# Alura Intro to Data Science\n",
        "\n",
        "import pandas as pd\n",
        "\n",
        "data = pd.read_csv(\"ratings.csv\") # Upload .csv file first"
      ],
      "execution_count": 0,
      "outputs": []
    },
    {
      "cell_type": "code",
      "metadata": {
        "id": "LhK4LKDuRTef",
        "colab_type": "code",
        "colab": {
          "base_uri": "https://localhost:8080/",
          "height": 206
        },
        "outputId": "798836dd-c5d7-4c15-89a1-235d0c8114a2"
      },
      "source": [
        "# DataFrame format (first 5 elements)\n",
        "data.head()"
      ],
      "execution_count": 6,
      "outputs": [
        {
          "output_type": "execute_result",
          "data": {
            "text/html": [
              "<div>\n",
              "<style scoped>\n",
              "    .dataframe tbody tr th:only-of-type {\n",
              "        vertical-align: middle;\n",
              "    }\n",
              "\n",
              "    .dataframe tbody tr th {\n",
              "        vertical-align: top;\n",
              "    }\n",
              "\n",
              "    .dataframe thead th {\n",
              "        text-align: right;\n",
              "    }\n",
              "</style>\n",
              "<table border=\"1\" class=\"dataframe\">\n",
              "  <thead>\n",
              "    <tr style=\"text-align: right;\">\n",
              "      <th></th>\n",
              "      <th>userId</th>\n",
              "      <th>movieId</th>\n",
              "      <th>rating</th>\n",
              "      <th>timestamp</th>\n",
              "    </tr>\n",
              "  </thead>\n",
              "  <tbody>\n",
              "    <tr>\n",
              "      <th>0</th>\n",
              "      <td>1</td>\n",
              "      <td>1</td>\n",
              "      <td>4.0</td>\n",
              "      <td>964982703</td>\n",
              "    </tr>\n",
              "    <tr>\n",
              "      <th>1</th>\n",
              "      <td>1</td>\n",
              "      <td>3</td>\n",
              "      <td>4.0</td>\n",
              "      <td>964981247</td>\n",
              "    </tr>\n",
              "    <tr>\n",
              "      <th>2</th>\n",
              "      <td>1</td>\n",
              "      <td>6</td>\n",
              "      <td>4.0</td>\n",
              "      <td>964982224</td>\n",
              "    </tr>\n",
              "    <tr>\n",
              "      <th>3</th>\n",
              "      <td>1</td>\n",
              "      <td>47</td>\n",
              "      <td>5.0</td>\n",
              "      <td>964983815</td>\n",
              "    </tr>\n",
              "    <tr>\n",
              "      <th>4</th>\n",
              "      <td>1</td>\n",
              "      <td>50</td>\n",
              "      <td>5.0</td>\n",
              "      <td>964982931</td>\n",
              "    </tr>\n",
              "  </tbody>\n",
              "</table>\n",
              "</div>"
            ],
            "text/plain": [
              "   userId  movieId  rating  timestamp\n",
              "0       1        1     4.0  964982703\n",
              "1       1        3     4.0  964981247\n",
              "2       1        6     4.0  964982224\n",
              "3       1       47     5.0  964983815\n",
              "4       1       50     5.0  964982931"
            ]
          },
          "metadata": {
            "tags": []
          },
          "execution_count": 6
        }
      ]
    },
    {
      "cell_type": "code",
      "metadata": {
        "id": "XoHIF7eORkTN",
        "colab_type": "code",
        "colab": {
          "base_uri": "https://localhost:8080/",
          "height": 223
        },
        "outputId": "4361a20f-0148-4c41-c605-5e4d80e26dbf"
      },
      "source": [
        "# Count column value ocurrences\n",
        "data['rating'].value_counts()"
      ],
      "execution_count": 8,
      "outputs": [
        {
          "output_type": "execute_result",
          "data": {
            "text/plain": [
              "4.0    26818\n",
              "3.0    20047\n",
              "5.0    13211\n",
              "3.5    13136\n",
              "4.5     8551\n",
              "2.0     7551\n",
              "2.5     5550\n",
              "1.0     2811\n",
              "1.5     1791\n",
              "0.5     1370\n",
              "Name: rating, dtype: int64"
            ]
          },
          "metadata": {
            "tags": []
          },
          "execution_count": 8
        }
      ]
    },
    {
      "cell_type": "code",
      "metadata": {
        "id": "1b2VPZStR-Vi",
        "colab_type": "code",
        "colab": {
          "base_uri": "https://localhost:8080/",
          "height": 36
        },
        "outputId": "86ef3c11-671b-46ee-a472-5145906dac09"
      },
      "source": [
        "# Mean of column\n",
        "data['rating'].mean()"
      ],
      "execution_count": 9,
      "outputs": [
        {
          "output_type": "execute_result",
          "data": {
            "text/plain": [
              "3.501556983616962"
            ]
          },
          "metadata": {
            "tags": []
          },
          "execution_count": 9
        }
      ]
    },
    {
      "cell_type": "code",
      "metadata": {
        "id": "i5EIZZm5SnUY",
        "colab_type": "code",
        "colab": {
          "base_uri": "https://localhost:8080/",
          "height": 36
        },
        "outputId": "89d10760-f2ef-43ae-eaf5-642d0ed76734"
      },
      "source": [
        "# How many lines and columns respectively are in DataFrame\n",
        "data.shape"
      ],
      "execution_count": 11,
      "outputs": [
        {
          "output_type": "execute_result",
          "data": {
            "text/plain": [
              "(100836, 4)"
            ]
          },
          "metadata": {
            "tags": []
          },
          "execution_count": 11
        }
      ]
    },
    {
      "cell_type": "code",
      "metadata": {
        "id": "xZggwRNETUSo",
        "colab_type": "code",
        "colab": {
          "base_uri": "https://localhost:8080/",
          "height": 36
        },
        "outputId": "011dda7a-d925-4a88-8f73-2364035b3b1f"
      },
      "source": [
        "# Another way to access the column followed by non repeated column values\n",
        "data.rating.unique()"
      ],
      "execution_count": 13,
      "outputs": [
        {
          "output_type": "execute_result",
          "data": {
            "text/plain": [
              "array([4. , 5. , 3. , 2. , 1. , 4.5, 3.5, 2.5, 0.5, 1.5])"
            ]
          },
          "metadata": {
            "tags": []
          },
          "execution_count": 13
        }
      ]
    },
    {
      "cell_type": "code",
      "metadata": {
        "id": "XLGviTetTnYk",
        "colab_type": "code",
        "colab": {
          "base_uri": "https://localhost:8080/",
          "height": 185
        },
        "outputId": "8f7a42c1-1778-4ba3-99f4-9cbcf71b9f31"
      },
      "source": [
        "# Taking general measures from data\n",
        "# data.describe() #The whole table\n",
        "data.rating.describe() # From one column"
      ],
      "execution_count": 20,
      "outputs": [
        {
          "output_type": "execute_result",
          "data": {
            "text/plain": [
              "count    100836.000000\n",
              "mean          3.501557\n",
              "std           1.042529\n",
              "min           0.500000\n",
              "25%           3.000000\n",
              "50%           3.500000\n",
              "75%           4.000000\n",
              "max           5.000000\n",
              "Name: rating, dtype: float64"
            ]
          },
          "metadata": {
            "tags": []
          },
          "execution_count": 20
        }
      ]
    },
    {
      "cell_type": "code",
      "metadata": {
        "id": "hqgAi4e4UYk6",
        "colab_type": "code",
        "colab": {
          "base_uri": "https://localhost:8080/",
          "height": 288
        },
        "outputId": "6d7d6551-363b-4a53-852c-00d1406a5efc"
      },
      "source": [
        "# Ploting data\n",
        "data.rating.plot()"
      ],
      "execution_count": 21,
      "outputs": [
        {
          "output_type": "execute_result",
          "data": {
            "text/plain": [
              "<matplotlib.axes._subplots.AxesSubplot at 0x7ff925ed3f98>"
            ]
          },
          "metadata": {
            "tags": []
          },
          "execution_count": 21
        },
        {
          "output_type": "display_data",
          "data": {
            "image/png": "[encoded data removed]",
            "text/plain": [
              "<Figure size 432x288 with 1 Axes>"
            ]
          },
          "metadata": {
            "tags": []
          }
        }
      ]
    },
    {
      "cell_type": "code",
      "metadata": {
        "id": "IjS-mdjVUhoK",
        "colab_type": "code",
        "colab": {
          "base_uri": "https://localhost:8080/",
          "height": 288
        },
        "outputId": "6990850a-1831-4862-9b79-491f46c68da4"
      },
      "source": [
        "# Fixing the plot to histogram\n",
        "data.rating.plot(kind = 'hist')"
      ],
      "execution_count": 22,
      "outputs": [
        {
          "output_type": "execute_result",
          "data": {
            "text/plain": [
              "<matplotlib.axes._subplots.AxesSubplot at 0x7ff925e6c710>"
            ]
          },
          "metadata": {
            "tags": []
          },
          "execution_count": 22
        },
        {
          "output_type": "display_data",
          "data": {
            "image/png": "[encoded data removed]",
            "text/plain": [
              "<Figure size 432x288 with 1 Axes>"
            ]
          },
          "metadata": {
            "tags": []
          }
        }
      ]
    },
    {
      "cell_type": "code",
      "metadata": {
        "id": "0LHWQ4nwVJeI",
        "colab_type": "code",
        "colab": {
          "base_uri": "https://localhost:8080/",
          "height": 302
        },
        "outputId": "7c1cbe27-ce0b-427e-da85-f0899e53f0ee"
      },
      "source": [
        "# Using Seaborn Boxplot\n",
        "import seaborn as sns\n",
        "sns.boxplot(data.rating)"
      ],
      "execution_count": 23,
      "outputs": [
        {
          "output_type": "execute_result",
          "data": {
            "text/plain": [
              "<matplotlib.axes._subplots.AxesSubplot at 0x7ff91a1d8eb8>"
            ]
          },
          "metadata": {
            "tags": []
          },
          "execution_count": 23
        },
        {
          "output_type": "display_data",
          "data": {
            "image/png": "[encoded data removed]",
            "text/plain": [
              "<Figure size 432x288 with 1 Axes>"
            ]
          },
          "metadata": {
            "tags": []
          }
        }
      ]
    },
    {
      "cell_type": "code",
      "metadata": {
        "id": "TJue57K1Zg_O",
        "colab_type": "code",
        "colab": {
          "base_uri": "https://localhost:8080/",
          "height": 206
        },
        "outputId": "193588bc-86bf-4913-9779-d819a096c42f"
      },
      "source": [
        "# Upload movies.csv\n",
        "movies = pd.read_csv(\"movies.csv\")\n",
        "movies.head()"
      ],
      "execution_count": 25,
      "outputs": [
        {
          "output_type": "execute_result",
          "data": {
            "text/html": [
              "<div>\n",
              "<style scoped>\n",
              "    .dataframe tbody tr th:only-of-type {\n",
              "        vertical-align: middle;\n",
              "    }\n",
              "\n",
              "    .dataframe tbody tr th {\n",
              "        vertical-align: top;\n",
              "    }\n",
              "\n",
              "    .dataframe thead th {\n",
              "        text-align: right;\n",
              "    }\n",
              "</style>\n",
              "<table border=\"1\" class=\"dataframe\">\n",
              "  <thead>\n",
              "    <tr style=\"text-align: right;\">\n",
              "      <th></th>\n",
              "      <th>movieId</th>\n",
              "      <th>title</th>\n",
              "      <th>genres</th>\n",
              "    </tr>\n",
              "  </thead>\n",
              "  <tbody>\n",
              "    <tr>\n",
              "      <th>0</th>\n",
              "      <td>1</td>\n",
              "      <td>Toy Story (1995)</td>\n",
              "      <td>Adventure|Animation|Children|Comedy|Fantasy</td>\n",
              "    </tr>\n",
              "    <tr>\n",
              "      <th>1</th>\n",
              "      <td>2</td>\n",
              "      <td>Jumanji (1995)</td>\n",
              "      <td>Adventure|Children|Fantasy</td>\n",
              "    </tr>\n",
              "    <tr>\n",
              "      <th>2</th>\n",
              "      <td>3</td>\n",
              "      <td>Grumpier Old Men (1995)</td>\n",
              "      <td>Comedy|Romance</td>\n",
              "    </tr>\n",
              "    <tr>\n",
              "      <th>3</th>\n",
              "      <td>4</td>\n",
              "      <td>Waiting to Exhale (1995)</td>\n",
              "      <td>Comedy|Drama|Romance</td>\n",
              "    </tr>\n",
              "    <tr>\n",
              "      <th>4</th>\n",
              "      <td>5</td>\n",
              "      <td>Father of the Bride Part II (1995)</td>\n",
              "      <td>Comedy</td>\n",
              "    </tr>\n",
              "  </tbody>\n",
              "</table>\n",
              "</div>"
            ],
            "text/plain": [
              "   movieId  ...                                       genres\n",
              "0        1  ...  Adventure|Animation|Children|Comedy|Fantasy\n",
              "1        2  ...                   Adventure|Children|Fantasy\n",
              "2        3  ...                               Comedy|Romance\n",
              "3        4  ...                         Comedy|Drama|Romance\n",
              "4        5  ...                                       Comedy\n",
              "\n",
              "[5 rows x 3 columns]"
            ]
          },
          "metadata": {
            "tags": []
          },
          "execution_count": 25
        }
      ]
    },
    {
      "cell_type": "code",
      "metadata": {
        "id": "IYvDJlWCaCL7",
        "colab_type": "code",
        "colab": {}
      },
      "source": [
        "# Getting movie rating with query (ratings.csv X movies.csv)\n",
        "data.query(\"movieId==1\")"
      ],
      "execution_count": 0,
      "outputs": []
    },
    {
      "cell_type": "code",
      "metadata": {
        "id": "8x4riOtwajWR",
        "colab_type": "code",
        "colab": {
          "base_uri": "https://localhost:8080/",
          "height": 36
        },
        "outputId": "ba4b9ab7-ad0a-44cb-9493-6a92a691f183"
      },
      "source": [
        "# Getting mean rating for this specific movie\n",
        "data.query(\"movieId==1\").rating.mean()"
      ],
      "execution_count": 28,
      "outputs": [
        {
          "output_type": "execute_result",
          "data": {
            "text/plain": [
              "3.9209302325581397"
            ]
          },
          "metadata": {
            "tags": []
          },
          "execution_count": 28
        }
      ]
    },
    {
      "cell_type": "code",
      "metadata": {
        "id": "JH4t72b4a7wX",
        "colab_type": "code",
        "colab": {
          "base_uri": "https://localhost:8080/",
          "height": 36
        },
        "outputId": "6cfe5727-6ece-4757-c695-9537bc2eb74e"
      },
      "source": [
        "# Grouping result by movieId\n",
        "data.groupby(\"movieId\")"
      ],
      "execution_count": 31,
      "outputs": [
        {
          "output_type": "execute_result",
          "data": {
            "text/plain": [
              "<pandas.core.groupby.generic.DataFrameGroupBy object at 0x7ff919bfbcc0>"
            ]
          },
          "metadata": {
            "tags": []
          },
          "execution_count": 31
        }
      ]
    },
    {
      "cell_type": "code",
      "metadata": {
        "id": "DEW2f0QwbR4R",
        "colab_type": "code",
        "colab": {
          "base_uri": "https://localhost:8080/",
          "height": 1000
        },
        "outputId": "20a23217-aa15-483a-d386-71bcbb4c4964"
      },
      "source": [
        "# Mean rating per movie\n",
        "data.groupby(\"movieId\").mean()"
      ],
      "execution_count": 33,
      "outputs": [
        {
          "output_type": "execute_result",
          "data": {
            "text/html": [
              "<div>\n",
              "<style scoped>\n",
              "    .dataframe tbody tr th:only-of-type {\n",
              "        vertical-align: middle;\n",
              "    }\n",
              "\n",
              "    .dataframe tbody tr th {\n",
              "        vertical-align: top;\n",
              "    }\n",
              "\n",
              "    .dataframe thead th {\n",
              "        text-align: right;\n",
              "    }\n",
              "</style>\n",
              "<table border=\"1\" class=\"dataframe\">\n",
              "  <thead>\n",
              "    <tr style=\"text-align: right;\">\n",
              "      <th></th>\n",
              "      <th>userId</th>\n",
              "      <th>rating</th>\n",
              "      <th>timestamp</th>\n",
              "    </tr>\n",
              "    <tr>\n",
              "      <th>movieId</th>\n",
              "      <th></th>\n",
              "      <th></th>\n",
              "      <th></th>\n",
              "    </tr>\n",
              "  </thead>\n",
              "  <tbody>\n",
              "    <tr>\n",
              "      <th>1</th>\n",
              "      <td>306.530233</td>\n",
              "      <td>3.920930</td>\n",
              "      <td>1.129835e+09</td>\n",
              "    </tr>\n",
              "    <tr>\n",
              "      <th>2</th>\n",
              "      <td>329.554545</td>\n",
              "      <td>3.431818</td>\n",
              "      <td>1.135805e+09</td>\n",
              "    </tr>\n",
              "    <tr>\n",
              "      <th>3</th>\n",
              "      <td>283.596154</td>\n",
              "      <td>3.259615</td>\n",
              "      <td>1.005110e+09</td>\n",
              "    </tr>\n",
              "    <tr>\n",
              "      <th>4</th>\n",
              "      <td>219.857143</td>\n",
              "      <td>2.357143</td>\n",
              "      <td>8.985789e+08</td>\n",
              "    </tr>\n",
              "    <tr>\n",
              "      <th>5</th>\n",
              "      <td>299.571429</td>\n",
              "      <td>3.071429</td>\n",
              "      <td>9.926643e+08</td>\n",
              "    </tr>\n",
              "    <tr>\n",
              "      <th>6</th>\n",
              "      <td>309.647059</td>\n",
              "      <td>3.946078</td>\n",
              "      <td>1.057817e+09</td>\n",
              "    </tr>\n",
              "    <tr>\n",
              "      <th>7</th>\n",
              "      <td>279.000000</td>\n",
              "      <td>3.185185</td>\n",
              "      <td>9.665462e+08</td>\n",
              "    </tr>\n",
              "    <tr>\n",
              "      <th>8</th>\n",
              "      <td>258.250000</td>\n",
              "      <td>2.875000</td>\n",
              "      <td>9.293918e+08</td>\n",
              "    </tr>\n",
              "    <tr>\n",
              "      <th>9</th>\n",
              "      <td>362.937500</td>\n",
              "      <td>3.125000</td>\n",
              "      <td>9.447482e+08</td>\n",
              "    </tr>\n",
              "    <tr>\n",
              "      <th>10</th>\n",
              "      <td>315.159091</td>\n",
              "      <td>3.496212</td>\n",
              "      <td>1.032265e+09</td>\n",
              "    </tr>\n",
              "    <tr>\n",
              "      <th>11</th>\n",
              "      <td>306.200000</td>\n",
              "      <td>3.671429</td>\n",
              "      <td>9.896405e+08</td>\n",
              "    </tr>\n",
              "    <tr>\n",
              "      <th>12</th>\n",
              "      <td>316.210526</td>\n",
              "      <td>2.421053</td>\n",
              "      <td>1.004476e+09</td>\n",
              "    </tr>\n",
              "    <tr>\n",
              "      <th>13</th>\n",
              "      <td>243.750000</td>\n",
              "      <td>3.125000</td>\n",
              "      <td>1.065304e+09</td>\n",
              "    </tr>\n",
              "    <tr>\n",
              "      <th>14</th>\n",
              "      <td>360.055556</td>\n",
              "      <td>3.833333</td>\n",
              "      <td>8.787585e+08</td>\n",
              "    </tr>\n",
              "    <tr>\n",
              "      <th>15</th>\n",
              "      <td>358.769231</td>\n",
              "      <td>3.000000</td>\n",
              "      <td>9.438329e+08</td>\n",
              "    </tr>\n",
              "    <tr>\n",
              "      <th>16</th>\n",
              "      <td>314.987805</td>\n",
              "      <td>3.926829</td>\n",
              "      <td>1.137933e+09</td>\n",
              "    </tr>\n",
              "    <tr>\n",
              "      <th>17</th>\n",
              "      <td>310.134328</td>\n",
              "      <td>3.776119</td>\n",
              "      <td>1.021184e+09</td>\n",
              "    </tr>\n",
              "    <tr>\n",
              "      <th>18</th>\n",
              "      <td>300.750000</td>\n",
              "      <td>3.700000</td>\n",
              "      <td>1.177677e+09</td>\n",
              "    </tr>\n",
              "    <tr>\n",
              "      <th>19</th>\n",
              "      <td>315.806818</td>\n",
              "      <td>2.727273</td>\n",
              "      <td>1.125689e+09</td>\n",
              "    </tr>\n",
              "    <tr>\n",
              "      <th>20</th>\n",
              "      <td>358.400000</td>\n",
              "      <td>2.500000</td>\n",
              "      <td>1.087044e+09</td>\n",
              "    </tr>\n",
              "    <tr>\n",
              "      <th>21</th>\n",
              "      <td>295.314607</td>\n",
              "      <td>3.494382</td>\n",
              "      <td>9.650575e+08</td>\n",
              "    </tr>\n",
              "    <tr>\n",
              "      <th>22</th>\n",
              "      <td>330.194444</td>\n",
              "      <td>3.222222</td>\n",
              "      <td>9.881599e+08</td>\n",
              "    </tr>\n",
              "    <tr>\n",
              "      <th>23</th>\n",
              "      <td>290.312500</td>\n",
              "      <td>3.125000</td>\n",
              "      <td>1.029636e+09</td>\n",
              "    </tr>\n",
              "    <tr>\n",
              "      <th>24</th>\n",
              "      <td>350.857143</td>\n",
              "      <td>3.125000</td>\n",
              "      <td>1.041680e+09</td>\n",
              "    </tr>\n",
              "    <tr>\n",
              "      <th>25</th>\n",
              "      <td>292.776316</td>\n",
              "      <td>3.625000</td>\n",
              "      <td>9.862218e+08</td>\n",
              "    </tr>\n",
              "    <tr>\n",
              "      <th>26</th>\n",
              "      <td>271.923077</td>\n",
              "      <td>3.500000</td>\n",
              "      <td>1.006846e+09</td>\n",
              "    </tr>\n",
              "    <tr>\n",
              "      <th>27</th>\n",
              "      <td>364.777778</td>\n",
              "      <td>3.333333</td>\n",
              "      <td>1.042982e+09</td>\n",
              "    </tr>\n",
              "    <tr>\n",
              "      <th>28</th>\n",
              "      <td>382.636364</td>\n",
              "      <td>4.227273</td>\n",
              "      <td>1.162221e+09</td>\n",
              "    </tr>\n",
              "    <tr>\n",
              "      <th>29</th>\n",
              "      <td>328.368421</td>\n",
              "      <td>4.013158</td>\n",
              "      <td>1.120213e+09</td>\n",
              "    </tr>\n",
              "    <tr>\n",
              "      <th>30</th>\n",
              "      <td>485.000000</td>\n",
              "      <td>3.000000</td>\n",
              "      <td>1.011917e+09</td>\n",
              "    </tr>\n",
              "    <tr>\n",
              "      <th>...</th>\n",
              "      <td>...</td>\n",
              "      <td>...</td>\n",
              "      <td>...</td>\n",
              "    </tr>\n",
              "    <tr>\n",
              "      <th>188189</th>\n",
              "      <td>462.000000</td>\n",
              "      <td>4.500000</td>\n",
              "      <td>1.533519e+09</td>\n",
              "    </tr>\n",
              "    <tr>\n",
              "      <th>188301</th>\n",
              "      <td>342.000000</td>\n",
              "      <td>3.666667</td>\n",
              "      <td>1.534378e+09</td>\n",
              "    </tr>\n",
              "    <tr>\n",
              "      <th>188675</th>\n",
              "      <td>318.000000</td>\n",
              "      <td>3.500000</td>\n",
              "      <td>1.535035e+09</td>\n",
              "    </tr>\n",
              "    <tr>\n",
              "      <th>188751</th>\n",
              "      <td>212.000000</td>\n",
              "      <td>4.500000</td>\n",
              "      <td>1.532362e+09</td>\n",
              "    </tr>\n",
              "    <tr>\n",
              "      <th>188797</th>\n",
              "      <td>514.000000</td>\n",
              "      <td>4.000000</td>\n",
              "      <td>1.535941e+09</td>\n",
              "    </tr>\n",
              "    <tr>\n",
              "      <th>188833</th>\n",
              "      <td>318.000000</td>\n",
              "      <td>4.500000</td>\n",
              "      <td>1.535036e+09</td>\n",
              "    </tr>\n",
              "    <tr>\n",
              "      <th>189043</th>\n",
              "      <td>338.000000</td>\n",
              "      <td>2.500000</td>\n",
              "      <td>1.530148e+09</td>\n",
              "    </tr>\n",
              "    <tr>\n",
              "      <th>189111</th>\n",
              "      <td>338.000000</td>\n",
              "      <td>3.000000</td>\n",
              "      <td>1.530148e+09</td>\n",
              "    </tr>\n",
              "    <tr>\n",
              "      <th>189333</th>\n",
              "      <td>216.000000</td>\n",
              "      <td>3.750000</td>\n",
              "      <td>1.535856e+09</td>\n",
              "    </tr>\n",
              "    <tr>\n",
              "      <th>189381</th>\n",
              "      <td>318.000000</td>\n",
              "      <td>2.500000</td>\n",
              "      <td>1.536098e+09</td>\n",
              "    </tr>\n",
              "    <tr>\n",
              "      <th>189547</th>\n",
              "      <td>210.000000</td>\n",
              "      <td>1.000000</td>\n",
              "      <td>1.528486e+09</td>\n",
              "    </tr>\n",
              "    <tr>\n",
              "      <th>189713</th>\n",
              "      <td>462.000000</td>\n",
              "      <td>2.500000</td>\n",
              "      <td>1.536467e+09</td>\n",
              "    </tr>\n",
              "    <tr>\n",
              "      <th>190183</th>\n",
              "      <td>50.000000</td>\n",
              "      <td>3.500000</td>\n",
              "      <td>1.533302e+09</td>\n",
              "    </tr>\n",
              "    <tr>\n",
              "      <th>190207</th>\n",
              "      <td>338.000000</td>\n",
              "      <td>1.500000</td>\n",
              "      <td>1.530148e+09</td>\n",
              "    </tr>\n",
              "    <tr>\n",
              "      <th>190209</th>\n",
              "      <td>338.000000</td>\n",
              "      <td>4.000000</td>\n",
              "      <td>1.530148e+09</td>\n",
              "    </tr>\n",
              "    <tr>\n",
              "      <th>190213</th>\n",
              "      <td>338.000000</td>\n",
              "      <td>1.000000</td>\n",
              "      <td>1.530148e+09</td>\n",
              "    </tr>\n",
              "    <tr>\n",
              "      <th>190215</th>\n",
              "      <td>338.000000</td>\n",
              "      <td>1.500000</td>\n",
              "      <td>1.530148e+09</td>\n",
              "    </tr>\n",
              "    <tr>\n",
              "      <th>190219</th>\n",
              "      <td>338.000000</td>\n",
              "      <td>1.000000</td>\n",
              "      <td>1.530148e+09</td>\n",
              "    </tr>\n",
              "    <tr>\n",
              "      <th>190221</th>\n",
              "      <td>338.000000</td>\n",
              "      <td>1.000000</td>\n",
              "      <td>1.530148e+09</td>\n",
              "    </tr>\n",
              "    <tr>\n",
              "      <th>191005</th>\n",
              "      <td>184.000000</td>\n",
              "      <td>4.500000</td>\n",
              "      <td>1.537109e+09</td>\n",
              "    </tr>\n",
              "    <tr>\n",
              "      <th>193565</th>\n",
              "      <td>184.000000</td>\n",
              "      <td>3.500000</td>\n",
              "      <td>1.537099e+09</td>\n",
              "    </tr>\n",
              "    <tr>\n",
              "      <th>193567</th>\n",
              "      <td>184.000000</td>\n",
              "      <td>3.000000</td>\n",
              "      <td>1.537099e+09</td>\n",
              "    </tr>\n",
              "    <tr>\n",
              "      <th>193571</th>\n",
              "      <td>184.000000</td>\n",
              "      <td>4.000000</td>\n",
              "      <td>1.537099e+09</td>\n",
              "    </tr>\n",
              "    <tr>\n",
              "      <th>193573</th>\n",
              "      <td>184.000000</td>\n",
              "      <td>4.000000</td>\n",
              "      <td>1.537100e+09</td>\n",
              "    </tr>\n",
              "    <tr>\n",
              "      <th>193579</th>\n",
              "      <td>184.000000</td>\n",
              "      <td>3.500000</td>\n",
              "      <td>1.537107e+09</td>\n",
              "    </tr>\n",
              "    <tr>\n",
              "      <th>193581</th>\n",
              "      <td>184.000000</td>\n",
              "      <td>4.000000</td>\n",
              "      <td>1.537109e+09</td>\n",
              "    </tr>\n",
              "    <tr>\n",
              "      <th>193583</th>\n",
              "      <td>184.000000</td>\n",
              "      <td>3.500000</td>\n",
              "      <td>1.537110e+09</td>\n",
              "    </tr>\n",
              "    <tr>\n",
              "      <th>193585</th>\n",
              "      <td>184.000000</td>\n",
              "      <td>3.500000</td>\n",
              "      <td>1.537110e+09</td>\n",
              "    </tr>\n",
              "    <tr>\n",
              "      <th>193587</th>\n",
              "      <td>184.000000</td>\n",
              "      <td>3.500000</td>\n",
              "      <td>1.537110e+09</td>\n",
              "    </tr>\n",
              "    <tr>\n",
              "      <th>193609</th>\n",
              "      <td>331.000000</td>\n",
              "      <td>4.000000</td>\n",
              "      <td>1.537158e+09</td>\n",
              "    </tr>\n",
              "  </tbody>\n",
              "</table>\n",
              "<p>9724 rows × 3 columns</p>\n",
              "</div>"
            ],
            "text/plain": [
              "             userId    rating     timestamp\n",
              "movieId                                    \n",
              "1        306.530233  3.920930  1.129835e+09\n",
              "2        329.554545  3.431818  1.135805e+09\n",
              "3        283.596154  3.259615  1.005110e+09\n",
              "4        219.857143  2.357143  8.985789e+08\n",
              "5        299.571429  3.071429  9.926643e+08\n",
              "6        309.647059  3.946078  1.057817e+09\n",
              "7        279.000000  3.185185  9.665462e+08\n",
              "8        258.250000  2.875000  9.293918e+08\n",
              "9        362.937500  3.125000  9.447482e+08\n",
              "10       315.159091  3.496212  1.032265e+09\n",
              "11       306.200000  3.671429  9.896405e+08\n",
              "12       316.210526  2.421053  1.004476e+09\n",
              "13       243.750000  3.125000  1.065304e+09\n",
              "14       360.055556  3.833333  8.787585e+08\n",
              "15       358.769231  3.000000  9.438329e+08\n",
              "16       314.987805  3.926829  1.137933e+09\n",
              "17       310.134328  3.776119  1.021184e+09\n",
              "18       300.750000  3.700000  1.177677e+09\n",
              "19       315.806818  2.727273  1.125689e+09\n",
              "20       358.400000  2.500000  1.087044e+09\n",
              "21       295.314607  3.494382  9.650575e+08\n",
              "22       330.194444  3.222222  9.881599e+08\n",
              "23       290.312500  3.125000  1.029636e+09\n",
              "24       350.857143  3.125000  1.041680e+09\n",
              "25       292.776316  3.625000  9.862218e+08\n",
              "26       271.923077  3.500000  1.006846e+09\n",
              "27       364.777778  3.333333  1.042982e+09\n",
              "28       382.636364  4.227273  1.162221e+09\n",
              "29       328.368421  4.013158  1.120213e+09\n",
              "30       485.000000  3.000000  1.011917e+09\n",
              "...             ...       ...           ...\n",
              "188189   462.000000  4.500000  1.533519e+09\n",
              "188301   342.000000  3.666667  1.534378e+09\n",
              "188675   318.000000  3.500000  1.535035e+09\n",
              "188751   212.000000  4.500000  1.532362e+09\n",
              "188797   514.000000  4.000000  1.535941e+09\n",
              "188833   318.000000  4.500000  1.535036e+09\n",
              "189043   338.000000  2.500000  1.530148e+09\n",
              "189111   338.000000  3.000000  1.530148e+09\n",
              "189333   216.000000  3.750000  1.535856e+09\n",
              "189381   318.000000  2.500000  1.536098e+09\n",
              "189547   210.000000  1.000000  1.528486e+09\n",
              "189713   462.000000  2.500000  1.536467e+09\n",
              "190183    50.000000  3.500000  1.533302e+09\n",
              "190207   338.000000  1.500000  1.530148e+09\n",
              "190209   338.000000  4.000000  1.530148e+09\n",
              "190213   338.000000  1.000000  1.530148e+09\n",
              "190215   338.000000  1.500000  1.530148e+09\n",
              "190219   338.000000  1.000000  1.530148e+09\n",
              "190221   338.000000  1.000000  1.530148e+09\n",
              "191005   184.000000  4.500000  1.537109e+09\n",
              "193565   184.000000  3.500000  1.537099e+09\n",
              "193567   184.000000  3.000000  1.537099e+09\n",
              "193571   184.000000  4.000000  1.537099e+09\n",
              "193573   184.000000  4.000000  1.537100e+09\n",
              "193579   184.000000  3.500000  1.537107e+09\n",
              "193581   184.000000  4.000000  1.537109e+09\n",
              "193583   184.000000  3.500000  1.537110e+09\n",
              "193585   184.000000  3.500000  1.537110e+09\n",
              "193587   184.000000  3.500000  1.537110e+09\n",
              "193609   331.000000  4.000000  1.537158e+09\n",
              "\n",
              "[9724 rows x 3 columns]"
            ]
          },
          "metadata": {
            "tags": []
          },
          "execution_count": 33
        }
      ]
    }
  ]
}