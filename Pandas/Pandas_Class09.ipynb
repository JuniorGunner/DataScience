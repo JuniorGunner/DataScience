{
  "nbformat": 4,
  "nbformat_minor": 0,
  "metadata": {
    "colab": {
      "name": "Pandas_Class09.ipynb",
      "provenance": [],
      "toc_visible": true,
      "include_colab_link": true
    },
    "kernelspec": {
      "name": "python3",
      "display_name": "Python 3"
    }
  },
  "cells": [
    {
      "cell_type": "markdown",
      "metadata": {
        "id": "view-in-github",
        "colab_type": "text"
      },
      "source": [
        "<a href=\"https://colab.research.google.com/github/JuniorGunner/DataScienceFormation/blob/master/Pandas/Pandas_Class09.ipynb\" target=\"_parent\"><img src=\"https://colab.research.google.com/assets/colab-badge.svg\" alt=\"Open In Colab\"/></a>"
      ]
    },
    {
      "cell_type": "markdown",
      "metadata": {
        "id": "vOeR9G7rLweh",
        "colab_type": "text"
      },
      "source": [
        "# Class 09 - Removendo Outliers\n",
        "## Relatório de Análise VIII"
      ]
    },
    {
      "cell_type": "markdown",
      "metadata": {
        "id": "KF-W6vKTPOsm",
        "colab_type": "text"
      },
      "source": [
        "![Compressed Boxplot](https://drive.google.com/open?id=13j1SCv0IDwCPJxVnzLFRC-pLZ4TECOIz)"
      ]
    },
    {
      "cell_type": "code",
      "metadata": {
        "id": "7wCTvs9kL3Aw",
        "colab_type": "code",
        "outputId": "c10cce06-fad4-4468-d26a-9f1bc9e0a1af",
        "colab": {
          "base_uri": "https://localhost:8080/",
          "height": 396
        }
      },
      "source": [
        "%matplotlib inline\n",
        "import pandas as pd\n",
        "import matplotlib.pyplot as plt\n",
        "\n",
        "dados = pd.read_csv('aluguel_residencial.csv', sep = ';')\n",
        "\n",
        "plt.rc('figure', figsize = (14, 6))\n",
        "\n",
        "dados.boxplot(['Valor'])"
      ],
      "execution_count": 1,
      "outputs": [
        {
          "output_type": "execute_result",
          "data": {
            "text/plain": [
              "<matplotlib.axes._subplots.AxesSubplot at 0x7f5699691048>"
            ]
          },
          "metadata": {
            "tags": []
          },
          "execution_count": 1
        },
        {
          "output_type": "display_data",
          "data": {
            "image/png": "[encoded data removed]",
            "text/plain": [
              "<Figure size 1008x432 with 1 Axes>"
            ]
          },
          "metadata": {
            "tags": []
          }
        }
      ]
    },
    {
      "cell_type": "code",
      "metadata": {
        "id": "Qnvqu5_GMjf1",
        "colab_type": "code",
        "outputId": "60e50426-3d4e-4de7-dac4-ceae85d219cc",
        "colab": {
          "base_uri": "https://localhost:8080/",
          "height": 206
        }
      },
      "source": [
        "dados[dados['Valor'] >= 500000]"
      ],
      "execution_count": 2,
      "outputs": [
        {
          "output_type": "execute_result",
          "data": {
            "text/html": [
              "<div>\n",
              "<style scoped>\n",
              "    .dataframe tbody tr th:only-of-type {\n",
              "        vertical-align: middle;\n",
              "    }\n",
              "\n",
              "    .dataframe tbody tr th {\n",
              "        vertical-align: top;\n",
              "    }\n",
              "\n",
              "    .dataframe thead th {\n",
              "        text-align: right;\n",
              "    }\n",
              "</style>\n",
              "<table border=\"1\" class=\"dataframe\">\n",
              "  <thead>\n",
              "    <tr style=\"text-align: right;\">\n",
              "      <th></th>\n",
              "      <th>Tipo</th>\n",
              "      <th>Bairro</th>\n",
              "      <th>Quartos</th>\n",
              "      <th>Vagas</th>\n",
              "      <th>Suites</th>\n",
              "      <th>Area</th>\n",
              "      <th>Valor</th>\n",
              "      <th>Condominio</th>\n",
              "      <th>IPTU</th>\n",
              "      <th>Valor m2</th>\n",
              "      <th>Tipo Agregado</th>\n",
              "    </tr>\n",
              "  </thead>\n",
              "  <tbody>\n",
              "    <tr>\n",
              "      <th>7629</th>\n",
              "      <td>Apartamento</td>\n",
              "      <td>Barra da Tijuca</td>\n",
              "      <td>1</td>\n",
              "      <td>1</td>\n",
              "      <td>0</td>\n",
              "      <td>65</td>\n",
              "      <td>600000.0</td>\n",
              "      <td>980.0</td>\n",
              "      <td>120.0</td>\n",
              "      <td>9230.77</td>\n",
              "      <td>Apartamento</td>\n",
              "    </tr>\n",
              "    <tr>\n",
              "      <th>10636</th>\n",
              "      <td>Casa de Condomínio</td>\n",
              "      <td>Freguesia (Jacarepaguá)</td>\n",
              "      <td>4</td>\n",
              "      <td>2</td>\n",
              "      <td>3</td>\n",
              "      <td>163</td>\n",
              "      <td>800000.0</td>\n",
              "      <td>900.0</td>\n",
              "      <td>0.0</td>\n",
              "      <td>4907.98</td>\n",
              "      <td>Casa</td>\n",
              "    </tr>\n",
              "    <tr>\n",
              "      <th>12661</th>\n",
              "      <td>Apartamento</td>\n",
              "      <td>Freguesia (Jacarepaguá)</td>\n",
              "      <td>2</td>\n",
              "      <td>2</td>\n",
              "      <td>1</td>\n",
              "      <td>150</td>\n",
              "      <td>550000.0</td>\n",
              "      <td>850.0</td>\n",
              "      <td>150.0</td>\n",
              "      <td>3666.67</td>\n",
              "      <td>Apartamento</td>\n",
              "    </tr>\n",
              "    <tr>\n",
              "      <th>13846</th>\n",
              "      <td>Apartamento</td>\n",
              "      <td>Recreio dos Bandeirantes</td>\n",
              "      <td>3</td>\n",
              "      <td>2</td>\n",
              "      <td>1</td>\n",
              "      <td>167</td>\n",
              "      <td>1250000.0</td>\n",
              "      <td>1186.0</td>\n",
              "      <td>320.0</td>\n",
              "      <td>7485.03</td>\n",
              "      <td>Apartamento</td>\n",
              "    </tr>\n",
              "    <tr>\n",
              "      <th>15520</th>\n",
              "      <td>Apartamento</td>\n",
              "      <td>Botafogo</td>\n",
              "      <td>4</td>\n",
              "      <td>1</td>\n",
              "      <td>1</td>\n",
              "      <td>300</td>\n",
              "      <td>4500000.0</td>\n",
              "      <td>1100.0</td>\n",
              "      <td>0.0</td>\n",
              "      <td>15000.00</td>\n",
              "      <td>Apartamento</td>\n",
              "    </tr>\n",
              "  </tbody>\n",
              "</table>\n",
              "</div>"
            ],
            "text/plain": [
              "                     Tipo                    Bairro  ...  Valor m2  Tipo Agregado\n",
              "7629          Apartamento           Barra da Tijuca  ...   9230.77    Apartamento\n",
              "10636  Casa de Condomínio   Freguesia (Jacarepaguá)  ...   4907.98           Casa\n",
              "12661         Apartamento   Freguesia (Jacarepaguá)  ...   3666.67    Apartamento\n",
              "13846         Apartamento  Recreio dos Bandeirantes  ...   7485.03    Apartamento\n",
              "15520         Apartamento                  Botafogo  ...  15000.00    Apartamento\n",
              "\n",
              "[5 rows x 11 columns]"
            ]
          },
          "metadata": {
            "tags": []
          },
          "execution_count": 2
        }
      ]
    },
    {
      "cell_type": "code",
      "metadata": {
        "id": "lXh-HHhFM-TN",
        "colab_type": "code",
        "colab": {}
      },
      "source": [
        "valor = dados['Valor']\n",
        "Q1 = valor.quantile(.25) # Primeiro quartil\n",
        "Q3 = valor.quantile(.75) # Terceiro quartil\n",
        "IIQ = Q3 - Q1 # Intervalo interquartil\n",
        "limite_inferior = Q1 - 1.5 * IIQ\n",
        "limite_superior = Q3 + 1.5 * IIQ"
      ],
      "execution_count": 0,
      "outputs": []
    },
    {
      "cell_type": "code",
      "metadata": {
        "id": "nVtexdgUN3y7",
        "colab_type": "code",
        "outputId": "ef5e5e9a-b24f-4d26-c65f-43482b034980",
        "colab": {
          "base_uri": "https://localhost:8080/",
          "height": 396
        }
      },
      "source": [
        "selecao = (valor >= limite_inferior) & (valor <= limite_superior)\n",
        "dados_new = dados[selecao]\n",
        "\n",
        "dados_new.boxplot(['Valor'])"
      ],
      "execution_count": 4,
      "outputs": [
        {
          "output_type": "execute_result",
          "data": {
            "text/plain": [
              "<matplotlib.axes._subplots.AxesSubplot at 0x7f5696db9668>"
            ]
          },
          "metadata": {
            "tags": []
          },
          "execution_count": 4
        },
        {
          "output_type": "display_data",
          "data": {
            "image/png": "[encoded data removed]",
            "text/plain": [
              "<Figure size 1008x432 with 1 Axes>"
            ]
          },
          "metadata": {
            "tags": []
          }
        }
      ]
    },
    {
      "cell_type": "code",
      "metadata": {
        "id": "XSMQfu1mOySv",
        "colab_type": "code",
        "outputId": "9c83aebb-fef7-4778-f210-e58b8f5c68ef",
        "colab": {
          "base_uri": "https://localhost:8080/",
          "height": 800
        }
      },
      "source": [
        "dados.hist(['Valor'])\n",
        "dados_new.hist(['Valor'])"
      ],
      "execution_count": 5,
      "outputs": [
        {
          "output_type": "execute_result",
          "data": {
            "text/plain": [
              "array([[<matplotlib.axes._subplots.AxesSubplot object at 0x7f5696d17908>]],\n",
              "      dtype=object)"
            ]
          },
          "metadata": {
            "tags": []
          },
          "execution_count": 5
        },
        {
          "output_type": "display_data",
          "data": {
            "image/png": "[encoded data removed]",
            "text/plain": [
              "<Figure size 1008x432 with 1 Axes>"
            ]
          },
          "metadata": {
            "tags": []
          }
        },
        {
          "output_type": "display_data",
          "data": {
            "image/png": "[encoded data removed]",
            "text/plain": [
              "<Figure size 1008x432 with 1 Axes>"
            ]
          },
          "metadata": {
            "tags": []
          }
        }
      ]
    },
    {
      "cell_type": "markdown",
      "metadata": {
        "id": "mdEZrMhFQsEe",
        "colab_type": "text"
      },
      "source": [
        "## Identificando e removendo outliers por grupo"
      ]
    },
    {
      "cell_type": "code",
      "metadata": {
        "id": "jbENkWRkQxFA",
        "colab_type": "code",
        "outputId": "f03c6cee-e313-41c4-c779-94ad5133ccf8",
        "colab": {
          "base_uri": "https://localhost:8080/",
          "height": 438
        }
      },
      "source": [
        "dados.boxplot(['Valor'], by = ['Tipo'])"
      ],
      "execution_count": 6,
      "outputs": [
        {
          "output_type": "execute_result",
          "data": {
            "text/plain": [
              "<matplotlib.axes._subplots.AxesSubplot at 0x7f5696d0bba8>"
            ]
          },
          "metadata": {
            "tags": []
          },
          "execution_count": 6
        },
        {
          "output_type": "display_data",
          "data": {
            "image/png": "[encoded data removed]",
            "text/plain": [
              "<Figure size 1008x432 with 1 Axes>"
            ]
          },
          "metadata": {
            "tags": []
          }
        }
      ]
    },
    {
      "cell_type": "code",
      "metadata": {
        "id": "_aSBk2nsRGKJ",
        "colab_type": "code",
        "outputId": "b5e6aae1-eb69-474b-a046-7d7c52fa9cf7",
        "colab": {
          "base_uri": "https://localhost:8080/",
          "height": 35
        }
      },
      "source": [
        "grupo_tipo = dados.groupby('Tipo')\n",
        "grupo_tipo"
      ],
      "execution_count": 7,
      "outputs": [
        {
          "output_type": "execute_result",
          "data": {
            "text/plain": [
              "<pandas.core.groupby.generic.DataFrameGroupBy object at 0x7f5696d0b0b8>"
            ]
          },
          "metadata": {
            "tags": []
          },
          "execution_count": 7
        }
      ]
    },
    {
      "cell_type": "code",
      "metadata": {
        "id": "26uMyvp7RY9B",
        "colab_type": "code",
        "outputId": "0982ea53-c117-4841-d445-1120fef5e44a",
        "colab": {
          "base_uri": "https://localhost:8080/",
          "height": 35
        }
      },
      "source": [
        "grupo_tipo = dados.groupby('Tipo')['Valor']\n",
        "grupo_tipo"
      ],
      "execution_count": 8,
      "outputs": [
        {
          "output_type": "execute_result",
          "data": {
            "text/plain": [
              "<pandas.core.groupby.generic.SeriesGroupBy object at 0x7f5696d0b048>"
            ]
          },
          "metadata": {
            "tags": []
          },
          "execution_count": 8
        }
      ]
    },
    {
      "cell_type": "code",
      "metadata": {
        "id": "lGnIYTEIRhNm",
        "colab_type": "code",
        "colab": {}
      },
      "source": [
        "Q1 =  grupo_tipo.quantile(.25)\n",
        "Q3 =  grupo_tipo.quantile(.75)\n",
        "IIQ = Q3 - Q1\n",
        "limite_inferior = Q1 - 1.5 * IIQ\n",
        "limite_superior = Q3 + 1.5 * IIQ"
      ],
      "execution_count": 0,
      "outputs": []
    },
    {
      "cell_type": "code",
      "metadata": {
        "id": "1LA3LU10RkT9",
        "colab_type": "code",
        "outputId": "55dee10d-2139-4b67-c562-1c6089ecc487",
        "colab": {
          "base_uri": "https://localhost:8080/",
          "height": 35
        }
      },
      "source": [
        "limite_superior['Apartamento']"
      ],
      "execution_count": 10,
      "outputs": [
        {
          "output_type": "execute_result",
          "data": {
            "text/plain": [
              "9950.0"
            ]
          },
          "metadata": {
            "tags": []
          },
          "execution_count": 10
        }
      ]
    },
    {
      "cell_type": "code",
      "metadata": {
        "id": "SmoDcx9pRxuv",
        "colab_type": "code",
        "outputId": "05caf39f-4c19-4696-f06f-aee4fa67ca2a",
        "colab": {
          "base_uri": "https://localhost:8080/",
          "height": 109
        }
      },
      "source": [
        "for tipo in grupo_tipo.groups.keys():\n",
        "    print(tipo)"
      ],
      "execution_count": 11,
      "outputs": [
        {
          "output_type": "stream",
          "text": [
            "Apartamento\n",
            "Casa\n",
            "Casa de Condomínio\n",
            "Casa de Vila\n",
            "Quitinete\n"
          ],
          "name": "stdout"
        }
      ]
    },
    {
      "cell_type": "code",
      "metadata": {
        "id": "4LG1rEBcR8cB",
        "colab_type": "code",
        "colab": {}
      },
      "source": [
        "for tipo in grupo_tipo.groups.keys():\n",
        "    eh_tipo = dados['Tipo'] == tipo\n",
        "    eh_dentro_limite = (dados['Valor'] >= limite_inferior[tipo]) & (dados['Valor'] <= limite_superior[tipo])\n",
        "    selecao = eh_tipo & eh_dentro_limite\n",
        "    dados[selecao]"
      ],
      "execution_count": 0,
      "outputs": []
    },
    {
      "cell_type": "code",
      "metadata": {
        "id": "QSYuPqleR_gU",
        "colab_type": "code",
        "colab": {}
      },
      "source": [
        "dados_new = pd.DataFrame()\n",
        "for tipo in grupo_tipo.groups.keys():\n",
        "    eh_tipo = dados['Tipo'] == tipo\n",
        "    eh_dentro_limite = (dados['Valor'] >= limite_inferior[tipo]) & (dados['Valor'] <= limite_superior[tipo])\n",
        "    selecao = eh_tipo & eh_dentro_limite\n",
        "    dados_selecao = dados[selecao]\n",
        "    dados_new = pd.concat([dados_new, dados_selecao])"
      ],
      "execution_count": 0,
      "outputs": []
    },
    {
      "cell_type": "code",
      "metadata": {
        "id": "fvTEycb3SSLd",
        "colab_type": "code",
        "outputId": "48326916-76be-48b2-b45a-5c80cfae3edb",
        "colab": {
          "base_uri": "https://localhost:8080/",
          "height": 438
        }
      },
      "source": [
        "dados_new.boxplot(['Valor'], by = ['Tipo'])"
      ],
      "execution_count": 14,
      "outputs": [
        {
          "output_type": "execute_result",
          "data": {
            "text/plain": [
              "<matplotlib.axes._subplots.AxesSubplot at 0x7f5696d664a8>"
            ]
          },
          "metadata": {
            "tags": []
          },
          "execution_count": 14
        },
        {
          "output_type": "display_data",
          "data": {
            "image/png": "[encoded data removed]",
            "text/plain": [
              "<Figure size 1008x432 with 1 Axes>"
            ]
          },
          "metadata": {
            "tags": []
          }
        }
      ]
    },
    {
      "cell_type": "code",
      "metadata": {
        "id": "elNzPPh4SiO_",
        "colab_type": "code",
        "colab": {}
      },
      "source": [
        "dados_new.to_csv('aluguel_residencial_sem_outliers.csv', sep = ';', index = False)"
      ],
      "execution_count": 0,
      "outputs": []
    },
    {
      "cell_type": "markdown",
      "metadata": {
        "id": "yN78RCNLTINa",
        "colab_type": "text"
      },
      "source": [
        "## Extras - Mais sobre gráficos"
      ]
    },
    {
      "cell_type": "code",
      "metadata": {
        "id": "qM6RCavrTNWC",
        "colab_type": "code",
        "outputId": "cb56d45f-93a7-47a3-865e-4681bb76850c",
        "colab": {
          "base_uri": "https://localhost:8080/",
          "height": 206
        }
      },
      "source": [
        "plt.rc('figure', figsize = (15,8))\n",
        "dados = pd.read_csv('aluguel.csv', sep = ';')\n",
        "dados.head()"
      ],
      "execution_count": 17,
      "outputs": [
        {
          "output_type": "execute_result",
          "data": {
            "text/html": [
              "<div>\n",
              "<style scoped>\n",
              "    .dataframe tbody tr th:only-of-type {\n",
              "        vertical-align: middle;\n",
              "    }\n",
              "\n",
              "    .dataframe tbody tr th {\n",
              "        vertical-align: top;\n",
              "    }\n",
              "\n",
              "    .dataframe thead th {\n",
              "        text-align: right;\n",
              "    }\n",
              "</style>\n",
              "<table border=\"1\" class=\"dataframe\">\n",
              "  <thead>\n",
              "    <tr style=\"text-align: right;\">\n",
              "      <th></th>\n",
              "      <th>Tipo</th>\n",
              "      <th>Bairro</th>\n",
              "      <th>Quartos</th>\n",
              "      <th>Vagas</th>\n",
              "      <th>Suites</th>\n",
              "      <th>Area</th>\n",
              "      <th>Valor</th>\n",
              "      <th>Condominio</th>\n",
              "      <th>IPTU</th>\n",
              "    </tr>\n",
              "  </thead>\n",
              "  <tbody>\n",
              "    <tr>\n",
              "      <th>0</th>\n",
              "      <td>Quitinete</td>\n",
              "      <td>Copacabana</td>\n",
              "      <td>1</td>\n",
              "      <td>0</td>\n",
              "      <td>0</td>\n",
              "      <td>40</td>\n",
              "      <td>1700.0</td>\n",
              "      <td>500.0</td>\n",
              "      <td>60.0</td>\n",
              "    </tr>\n",
              "    <tr>\n",
              "      <th>1</th>\n",
              "      <td>Casa</td>\n",
              "      <td>Jardim Botânico</td>\n",
              "      <td>2</td>\n",
              "      <td>0</td>\n",
              "      <td>1</td>\n",
              "      <td>100</td>\n",
              "      <td>7000.0</td>\n",
              "      <td>NaN</td>\n",
              "      <td>NaN</td>\n",
              "    </tr>\n",
              "    <tr>\n",
              "      <th>2</th>\n",
              "      <td>Conjunto Comercial/Sala</td>\n",
              "      <td>Barra da Tijuca</td>\n",
              "      <td>0</td>\n",
              "      <td>4</td>\n",
              "      <td>0</td>\n",
              "      <td>150</td>\n",
              "      <td>5200.0</td>\n",
              "      <td>4020.0</td>\n",
              "      <td>1111.0</td>\n",
              "    </tr>\n",
              "    <tr>\n",
              "      <th>3</th>\n",
              "      <td>Apartamento</td>\n",
              "      <td>Centro</td>\n",
              "      <td>1</td>\n",
              "      <td>0</td>\n",
              "      <td>0</td>\n",
              "      <td>15</td>\n",
              "      <td>800.0</td>\n",
              "      <td>390.0</td>\n",
              "      <td>20.0</td>\n",
              "    </tr>\n",
              "    <tr>\n",
              "      <th>4</th>\n",
              "      <td>Apartamento</td>\n",
              "      <td>Higienópolis</td>\n",
              "      <td>1</td>\n",
              "      <td>0</td>\n",
              "      <td>0</td>\n",
              "      <td>48</td>\n",
              "      <td>800.0</td>\n",
              "      <td>230.0</td>\n",
              "      <td>NaN</td>\n",
              "    </tr>\n",
              "  </tbody>\n",
              "</table>\n",
              "</div>"
            ],
            "text/plain": [
              "                      Tipo           Bairro  ...  Condominio    IPTU\n",
              "0                Quitinete       Copacabana  ...       500.0    60.0\n",
              "1                     Casa  Jardim Botânico  ...         NaN     NaN\n",
              "2  Conjunto Comercial/Sala  Barra da Tijuca  ...      4020.0  1111.0\n",
              "3              Apartamento           Centro  ...       390.0    20.0\n",
              "4              Apartamento     Higienópolis  ...       230.0     NaN\n",
              "\n",
              "[5 rows x 9 columns]"
            ]
          },
          "metadata": {
            "tags": []
          },
          "execution_count": 17
        }
      ]
    },
    {
      "cell_type": "code",
      "metadata": {
        "id": "BYadTddwT5B8",
        "colab_type": "code",
        "outputId": "a65cfcbc-fdb5-4574-84b2-334dab55c9d3",
        "colab": {
          "base_uri": "https://localhost:8080/",
          "height": 35
        }
      },
      "source": [
        "\"\"\" Área que sustentará o gráfico \"\"\"\n",
        "area = plt.figure()"
      ],
      "execution_count": 18,
      "outputs": [
        {
          "output_type": "display_data",
          "data": {
            "text/plain": [
              "<Figure size 1080x576 with 0 Axes>"
            ]
          },
          "metadata": {
            "tags": []
          }
        }
      ]
    },
    {
      "cell_type": "code",
      "metadata": {
        "id": "HxkkcIKAUC4M",
        "colab_type": "code",
        "colab": {}
      },
      "source": [
        "\"\"\" Adicionando gráficos na área \n",
        "add_subplot(linha, coluna, posição)\"\"\"\n",
        "\n",
        "g1 = area.add_subplot(2, 2, 1)\n",
        "g2 = area.add_subplot(2, 2, 2)\n",
        "g3 = area.add_subplot(2, 2, 3)\n",
        "g4 = area.add_subplot(2, 2, 4)"
      ],
      "execution_count": 0,
      "outputs": []
    },
    {
      "cell_type": "code",
      "metadata": {
        "id": "-PFjV8HDUaDj",
        "colab_type": "code",
        "outputId": "19b4c8de-f41f-4dba-83ac-24cf6136fc36",
        "colab": {
          "base_uri": "https://localhost:8080/",
          "height": 109
        }
      },
      "source": [
        "g1.scatter(dados['Valor'], dados['Area'])\n",
        "g1.set_title('Valor X Área')\n",
        "\n",
        "g2.hist(dados.Valor)\n",
        "g2.set_title('Histograma')\n",
        "\n",
        "dados_g3 = dados.Valor.sample(100) \n",
        "dados_g3.index = range(dados_g3.shape[0])\n",
        "g3.plot(dados_g3)\n",
        "g3.set_title('Amostra (Valor)')\n",
        "\n",
        "grupo = dados.groupby('Tipo')['Valor']\n",
        "label = grupo.mean().index\n",
        "valores = grupo.mean().values\n",
        "g4.bar(label, valores)\n",
        "g4.set_title('Valor Médio por Tipo')"
      ],
      "execution_count": 20,
      "outputs": [
        {
          "output_type": "stream",
          "text": [
            "/usr/local/lib/python3.6/dist-packages/numpy/lib/histograms.py:824: RuntimeWarning: invalid value encountered in greater_equal\n",
            "  keep = (tmp_a >= first_edge)\n",
            "/usr/local/lib/python3.6/dist-packages/numpy/lib/histograms.py:825: RuntimeWarning: invalid value encountered in less_equal\n",
            "  keep &= (tmp_a <= last_edge)\n"
          ],
          "name": "stderr"
        },
        {
          "output_type": "execute_result",
          "data": {
            "text/plain": [
              "Text(0.5, 1.0, 'Valor Médio por Tipo')"
            ]
          },
          "metadata": {
            "tags": []
          },
          "execution_count": 20
        }
      ]
    },
    {
      "cell_type": "code",
      "metadata": {
        "id": "jqinMnfjFGNT",
        "colab_type": "code",
        "colab": {
          "base_uri": "https://localhost:8080/",
          "height": 499
        },
        "outputId": "e0380121-8598-4cd0-f734-589a933c41a2"
      },
      "source": [
        "area"
      ],
      "execution_count": 21,
      "outputs": [
        {
          "output_type": "execute_result",
          "data": {
            "image/png": "[encoded data removed]",
            "text/plain": [
              "<Figure size 1080x576 with 4 Axes>"
            ]
          },
          "metadata": {
            "tags": []
          },
          "execution_count": 21
        }
      ]
    },
    {
      "cell_type": "code",
      "metadata": {
        "id": "VMw2g9PmFSFl",
        "colab_type": "code",
        "colab": {}
      },
      "source": [
        "\"\"\" Salvar gráfico ?\"\"\"\n",
        "area.savefig('grafico.png', dpi = 300, bbox_inches = 'tight')"
      ],
      "execution_count": 0,
      "outputs": []
    }
  ]
}